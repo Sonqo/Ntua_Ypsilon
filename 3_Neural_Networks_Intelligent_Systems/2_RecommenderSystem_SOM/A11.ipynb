{
 "cells": [
  {
   "cell_type": "markdown",
   "metadata": {
    "colab_type": "text",
    "id": "hLFXD3IePSyL"
   },
   "source": [
    "## Στοιχεία Ομάδας\n",
    "\n",
    "Αριθμός Ομάδας: Μ.Α.11\n",
    "\n",
    "    > Καρυπιάδης Ευστράτιος: 03114911"
   ]
  },
  {
   "cell_type": "code",
   "execution_count": 1,
   "metadata": {},
   "outputs": [],
   "source": [
    "import warnings\n",
    "warnings.filterwarnings('ignore')"
   ]
  },
  {
   "cell_type": "markdown",
   "metadata": {
    "colab_type": "text",
    "id": "UTNgwBfjPSyc"
   },
   "source": [
    "---\n",
    "\n",
    "## 1. Υλοποίηση συστήματος συστάσεων ταινιών βασισμένο στο περιεχόμενο\n",
    "\n",
    "<img src=\"http://clture.org/wp-content/uploads/2015/12/Netflix-Streaming-End-of-Year-Posts.jpg\" width=\"85%\">"
   ]
  },
  {
   "cell_type": "markdown",
   "metadata": {
    "colab_type": "text",
    "id": "aViHqlQcPSyP"
   },
   "source": [
    "---\n",
    "\n",
    "### Εισαγωγή του Dataset"
   ]
  },
  {
   "cell_type": "markdown",
   "metadata": {
    "colab_type": "text",
    "id": "2ZVmdDExPSyQ"
   },
   "source": [
    "Το σύνολο δεδομένων με το οποίο θα δουλέψουμε είναι βασισμένο στο [Carnegie Mellon Movie Summary Corpus](http://www.cs.cmu.edu/~ark/personas/). Πρόκειται για ένα dataset με περίπου 40.000 περιγραφές ταινιών. Η περιγραφή κάθε ταινίας αποτελείται από τον τίτλο της, μια ή περισσότερες ετικέτες που χαρακτηρίζουν το είδος της ταινίας και τέλος τη σύνοψη της υπόθεσής της. Αρχικά εισάγουμε το dataset στο dataframe `df_data_1`: "
   ]
  },
  {
   "cell_type": "code",
   "execution_count": 2,
   "metadata": {
    "colab": {},
    "colab_type": "code",
    "id": "62SOj46gPSyS"
   },
   "outputs": [],
   "source": [
    "import pandas as pd\n",
    "\n",
    "dataset_url = 'data/movieDBe.csv'\n",
    "df_data_1 = pd.read_csv(dataset_url, sep='\\t', header=None, quoting=3, error_bad_lines=False)"
   ]
  },
  {
   "cell_type": "markdown",
   "metadata": {},
   "source": [
    "Θα δουλέψουμε σε ένα υποσύνολο 5.000 ταινιών ανάλογα με το seed της ομάδας μας:"
   ]
  },
  {
   "cell_type": "code",
   "execution_count": 3,
   "metadata": {
    "colab": {},
    "colab_type": "code",
    "id": "2POlqDjkPSyY"
   },
   "outputs": [],
   "source": [
    "import numpy as np\n",
    "\n",
    "# Seed Number: 11\n",
    "team_seed_number = 11\n",
    "\n",
    "movie_seeds_url = 'data/seeds2019.csv'\n",
    "df_data_2 = pd.read_csv(movie_seeds_url, header=None, error_bad_lines=False)\n",
    "\n",
    "my_index = df_data_2.iloc[team_seed_number, :].values\n",
    "\n",
    "titles = df_data_1.iloc[:, [2]].values[my_index]\n",
    "categories = df_data_1.iloc[:, [3]].values[my_index]\n",
    "bins = df_data_1.iloc[:, [4]]\n",
    "catbins = bins[4].str.split(',', expand=True).values.astype(np.float)[my_index]\n",
    "summaries =  df_data_1.iloc[:, [5]].values[my_index] \n",
    "corpus = summaries[:, 0].tolist() # list form of summaries"
   ]
  },
  {
   "cell_type": "markdown",
   "metadata": {
    "colab_type": "text",
    "id": "If66lkwxPSyb"
   },
   "source": [
    "- Ο πίνακας **titles** περιέχει τους τίτλους των ταινιών.\n",
    "\n",
    "- O πίνακας **categories** περιέχει τις κατηγορίες της ταινίας υπό τη μορφή string. Παρατηρούμε ότι είναι μια comma-separated λίστα strings, με κάθε string να είναι μια κατηγορία.\n",
    "\n",
    "- Ο πίνακας **catbins** περιλαμβάνει πάλι τις κατηγορίες των ταινιών αλλά σε δυαδική μορφή μέσω *One-Hot-Encoding*.\n",
    "\n",
    "- Ο πίνακας **summaries** και η λίστα **corpus** περιλαμβάνουν τις συνόψεις των ταινιών με την corpus είναι ο πίνακας summaries σε μορφή λίστας. Κάθε σύνοψη είναι σε μορφή string.\n",
    "\n",
    "- Θεωρούμε ως **id** της κάθε ταινίας τον αριθμό γραμμής της ή το αντίστοιχο στοιχείο της λίστας."
   ]
  },
  {
   "cell_type": "markdown",
   "metadata": {
    "colab_type": "text",
    "id": "rnA2RP8GPSyf"
   },
   "source": [
    "Στη συνέχεια της άσκησης θα υλοποιήσουμε ένα *Content Based Recommender System*."
   ]
  },
  {
   "cell_type": "markdown",
   "metadata": {
    "colab_type": "text",
    "id": "DD5KuSKrxQ8I"
   },
   "source": [
    "---\n",
    "\n",
    "### Μετατροπή σε TF - IDF\n",
    "\n",
    "Το πρώτο βήμα θα είναι λοιπόν να μετατρέψουμε το corpus σε αναπαράσταση *Term Frequency-Inverse Document Frequency (TD-IDF)*:"
   ]
  },
  {
   "cell_type": "code",
   "execution_count": 4,
   "metadata": {
    "colab": {},
    "colab_type": "code",
    "id": "s5YP6XCZPSyh"
   },
   "outputs": [],
   "source": [
    "from sklearn.feature_extraction.text import TfidfVectorizer\n",
    "\n",
    "vectorizer = TfidfVectorizer()\n",
    "\n",
    "vectorizer.fit(corpus)\n",
    "corpus_tf_idf = vectorizer.transform(corpus)"
   ]
  },
  {
   "cell_type": "markdown",
   "metadata": {
    "colab_type": "text",
    "id": "H-uRZK3EPSyl"
   },
   "source": [
    "Σημειώνουμε πως η συνάρτηση [TfidfVectorizer](http://scikit-learn.org/stable/modules/generated/sklearn.feature_extraction.text.TfidfVectorizer.html) όπως καλείται εδώ δεν είναι βελτιστοποιημένη."
   ]
  },
  {
   "cell_type": "code",
   "execution_count": 5,
   "metadata": {
    "colab": {
     "base_uri": "https://localhost:8080/",
     "height": 34
    },
    "colab_type": "code",
    "executionInfo": {
     "elapsed": 801,
     "status": "ok",
     "timestamp": 1575901068438,
     "user": {
      "displayName": "Γιώργος Αλεξανδρίδης",
      "photoUrl": "https://lh3.googleusercontent.com/a-/AAuE7mAHgjbkpnVZpMkbe7ihkb3km8rd5_Hm0fOfRa_yBg=s64",
      "userId": "16422904839632337525"
     },
     "user_tz": -120
    },
    "id": "y_Cw0brpnisF",
    "outputId": "f8c6d54d-7ee0-474f-e55c-0fe497454b8f"
   },
   "outputs": [
    {
     "data": {
      "text/plain": [
       "(5000, 48526)"
      ]
     },
     "execution_count": 5,
     "metadata": {},
     "output_type": "execute_result"
    }
   ],
   "source": [
    "corpus_tf_idf.shape"
   ]
  },
  {
   "cell_type": "markdown",
   "metadata": {},
   "source": [
    "---\n",
    "\n",
    "### Υλοποίηση Συστήματος Συστάσεων\n",
    "\n",
    "Θα δημιουργήσουμε τη συνάρτηση `content_recommender` με ορίσματα `target_movie` και `max_recommendations`. Πιο συγκεκριμένα, θα υπολογίζουμε για κάθε ταινία-στόχο την [ομοιότητα συνημιτόνου](https://scikit-learn.org/stable/modules/generated/sklearn.metrics.pairwise.cosine_similarity.html) από το `corpus_tf_idf` με όλες τις υπόλοιπες ταινίες, ενώ στη συνέχεια θα ταξινομούμε τις αντίστοιχες ομοιότητες ως προς το *index* της εκάστοτε ταινίας. Η συνάρτησή μας θα επιστρέφει το id, τον τίτλο, την κατηγορία και τη σύνοψη τόσο της ταινίας-στόχου, όσο και των `max_recommendations` τω πλήθος συναφών ταινιών."
   ]
  },
  {
   "cell_type": "code",
   "execution_count": 6,
   "metadata": {},
   "outputs": [],
   "source": [
    "from sklearn.metrics.pairwise import cosine_similarity\n",
    "\n",
    "def content_recommender(target_movie, max_recommendations):\n",
    "    \"\"\" Returns ID, Title, Genre and Summary of target_movie and #max_recommendation movies respectively. \n",
    "    Metric used: Cosine Similarity. \"\"\"\n",
    "    \n",
    "    distances = np.zeros((corpus_tf_idf.shape[0]))\n",
    "    for i in range(corpus_tf_idf.shape[0]):\n",
    "        distances[i] = cosine_similarity(corpus_tf_idf[target_movie], corpus_tf_idf[i])\n",
    "        \n",
    "    distances_slices = np.argsort(distances) # ascending order of indexes\n",
    "    distances_slices_descending = distances_slices[::-1]\n",
    "    \n",
    "    result = distances_slices_descending[:max_recommendations+1]\n",
    "    \n",
    "    for movie in result:\n",
    "        yield(\"ID: \" + str(movie) +\" - Movie Title: \" + titles[movie][0] + \" - Genre: \" + categories[movie][0] + \n",
    "              \"\\n\" + summaries[movie][0] + \"\\n\\n\")"
   ]
  },
  {
   "cell_type": "markdown",
   "metadata": {},
   "source": [
    "Θα δοκιμάσουμε τη συνάρτηση στην ταινία [Ring 2](https://imdb.to/39QqbSS)."
   ]
  },
  {
   "cell_type": "code",
   "execution_count": 7,
   "metadata": {
    "scrolled": true
   },
   "outputs": [
    {
     "name": "stdout",
     "output_type": "stream",
     "text": [
      "ID: 3401 - Movie Title: Ring 2 - Genre: \"Japanese Movies\",  \"Horror\",  \"World cinema\",  \"Supernatural\"\n",
      "While inspecting the corpse of Sadako Yamamura, the forensic experts note evidence that Sadako has died only a year or two ago, meaning that she was still alive in the sealed well for almost thirty years. They later reconstruct her body and send it to Takaishi Yamamura , Sadako's uncle, who takes it on his boat and later casts it into the bottom of the ocean. Mai Takano , Ryuji Takayama's assistant, continues to search for answers in regards to his sudden death. She meets a reporter named Okazaki , while looking for Ryuji's ex-wife Reiko Asakawa , who is investigating the cursed tape in Reiko's stead. Okazaki, still searching for a person who has actually seen the tape with their own eyes, tracks down and interviews a girl named Kanae Sawaguchi . Although she has not yet seen the tape, she agrees to sell him a copy for ¥20,000. Upon giving the tape to Okazaki, Kanae admits that she watched the tape and begs him to watch it to spare her life. However, Okazaki is too afraid to watch it. Okazaki and Mai visit a mental hospital to see Masami Kurahashi , a friend of Tomoko Oishi's who saw her killed. Masami is now mute and refuses to leave her room, due to the TV in the lounge area which she has developed an immense phobia of. While there, they meet a university classmate of Takayama's, Dr. Kawajiri , who is a prominent paranormal researcher and recognises that Sadako Yamamura's lingering hatred resides within the tape and can be transferred to people such as Masami. Determined to remove Sadako's spirit from within Masami, who has become imbued with psychic powers after watching the tape and can projects its images onto nearby TV sets, he arranges a risky experiment based on his theories involving energy transfer. The experiment requires Masami to attempt to drain Sadako's energy out of her by projecting the images onto a blank tape. Mai warns Masami not to participate, but the experiment goes ahead. Images begin to appear on the TV when there is a massive energy surge and Masami collapses in her chair. Mai takes the opportunity to grab the tape and destroy it. Mai finally meets up with Reiko Asakawa and her son Yoichi , both of whom have been in hiding out of fear from the authorities. Yoichi, having watched the tape, begins exhibiting psychic abilities and has become mute. Meanwhile, Kanae Sawaguchi's body is discovered. While trying to erase the footage of Kanae's interview Okazaki finds that the tape won't erase, and the tape sticks, Kanae's face on the screen slowly turning into a ghostly hair-covered face like Sadako's. The grinning Kanae comes closer to the screen and Okazaki is seen to scream. Despite trying to keep the Asakawas' whereabouts hidden, Mai informs the authorities after seeing Kanae's body, who close in on Reiko and Yoichi. At the police station, Mai utilizes her limited psychic abilities to tell Yoichi to flee. Yoichi regains his voice and alerts Reiko. They escape, but Reiko experiences a vision in which her late father appears. He tells her that \"the child you carry with you isn't Yoichi anymore\". Reiko is killed by a truck while experiencing the vision. The police arrive and Yoichi focuses his killing intent on one of the detectives for a moment, before Mai interrupts and whisks Yoichi away. The next morning, Mai and Yoichi head for Izu, hoping for answers from Takaishi Yamamura. Dr. Kawajiri, who also experiments with spirit photography , arrives with equipment and is looking for Mai. Mai is taken to the River of Offering by Takaishi, and upon returning to the inn she and the doctor see a vision of Shizuko in a scene from the video tape, caused by Yoichi. The next day, Dr. Kawajiri sets his equipment up next to a pool of fresh water which serves to sap Sadako's energies from Yoichi with Mai as a channeler. The process suddenly becomes chaotic when Yoichi's powers awaken. Takaishi, seeing Sadako's coffin in the pool, swims out towards it and is killed while yelling \"Take me! End this with me!\" The doctor commits suicide by electrocution under Sadako's influence, which also kills the nurse trying to stop him. Mai runs to Yoichi before blacking out. Waking up, Mai and Yoichi find themselves in the well before both of them fall in. Ryuji appears, telling Yoichi and Mai to give him their fear in order to escape. Ryuji's grip leaves nensha marks on Yoichi's hand. The well's lid opens and the end of a rope is dropped into its depths. Mai climbs the well with Yoichi on her back when Sadako appears, wearing her reconstructed face like a mask, and climbs the wall, easily catching up to them. She asks them, \"Why is it only you were saved?\". Sadako then falls back into the well as Mai and Yoichi escape. Mai and Yoichi emerge from the well, only to find themselves in the pool used in the experiment. The bodies of Takaishi, the doctor, and the nurse float around the two as they reach the catwalk. In the hospital, a nurse comes into a holding room to take Okazaki's picture before leaving. As the photo develops, her eyes widen in shock before looking back at the room. Behind Okazaki is the laughing ghost of Kanae Sawaguchi.\n",
      "\n",
      "\n",
      "ID: 1967 - Movie Title: Banned From Television - Genre: \"Documentary\"\n",
      " The film opens with a montage of some of the clips that are used throughout the film. After this the film begins. In Rio de Janeiro, Brazil, a man with a knife holds an innocent baby as hostage. Police surround him and when he gets distracted an officer shoots him in the head, killing him instantly. The baby is taken away unharmed. On a street in Butte, Montana, Terry Rossland, an enraged and distraught man, sits in his car armed with pipe bombs and gasoline demanding to see his family. When the police surround him, Rossland blows the car up, then exits the vehicle and runs away on fire as rescue teams try to keep him alive. He survives, but one year later commits suicide by a drug overdose. In Seoul, South Korea, angry protesters have taken over a construction tower and throw firebombs at innocent construction workers. One of the workers is set on fire but it is quickly put out by a fellow worker. Miraculously the worker is unharmed. In San Salvador, El Salvador, veterans hold workers hostage, while the police surround them and fire real bullets and tear gas. One young man tries to flee the scene but an officer shoots him in the chest. The young man falls to the floor and its unclear if he survives. Police cameras capture some intense pursuits. A man who has stolen a lawnmower flees from the police in a pickup truck. As he runs a red light he is struck by a big rig and is killed instantly as the truck is obliterated. In Salt Lake City, Utah, a man fleeing from the police gets out of his car and begins firing at them. The police are forced to return fire and the man falls to the floor. It is unclear if he survives. In Carlsbad, California, police chase a man suspected of having committed a burglary. He exits his car with no pants on and loads shells into his shotgun from the trunk of the car. The police watch at a distance as the man commits suicide with a single shot to his own head. In Zaragoza, Spain, a young man is pursued around an arena by a raging bull. The man manages to escape the arena unharmed, but the bull strips his pants and underwear off. At a festival in Madrid, Spain, a different bull is provoked into a fiery rage by a sharp prod. It is then led into an enclosed square, where it is stabbed with pointed darts by a crowd of excited spectators. They then release the bull into the city streets. It attacks one man and nearly kills a woman but remarkably she survives and no one is killed. Seven miles off the coast of Chile in the South Pacific, students take a swim in the ocean to cool off. One of them is then attacked by a 16 foot great white shark, who rips one of her legs off. She is lucky to survive. At a circus in Honolulu, Hawaii, a female elephant, Tyke, attacks its circus trainer, Allen Campbell, killing him, and then gores her groomer, Dallas Beckwith. She then escapes the circus and breaks free onto the streets of the city. She is chased by the police who fire numerous rounds at her until she is killed. At a strip club in Palm Shores, Florida, a hidden camera reveals that strippers are having unsafe sex with strangers and several of them are arrested for this. In Las Vegas, Nevada, a hidden camera captures a corrupt cop bargaining with a prostitute for leniancy. He receives a brief blowjob from her and is then arrested while the prostitute is allowed to leave. Some of this footage is actually censored, contrary to the video box's claim. At a 2 Live Crew concert in Savannah, Georgia, one of the rappers pulls aside the string of a thong on a female dancer. He then pours water over it while the dancer shakes about. This resulted in public indecency charges. At another concert, audience members charge onto the stage and erupt into a wild sexual free for all. In Santiago, Chile, at a Deep Purple concert, excited fans climb onto a light tower for a better view of the stage. The tower tips over and collapses onto the crowd with a spark. Forty-four people are injured but incredibly no one is killed. At a road rally in Canberra, New South Wales, Australia, a cameraman is struck by a 280Z as it takes a sharp corner. Remarkably, he only suffers a broken leg and a shattered knee cap. At the Daytona Speedway in Florida, a series of stock car crashes occur during a high speed race. One of the cars hits Mike Staley, who is a paramedic at the race track. Mike suffers numerous broken bones, hundreds of stitches, first, second and third degree burns, but still manages to survive. In Warsaw, Poland, a powerful storm topples a brick chimney across the street onto a crowd of people. A woman in the crowd is killed by the falling bricks. In Grozny, Chechnya, a crowd of several thousand people gather in the capital to watch the public execution of two convicted rapists. The rapists face six relatives of the rape victim. They then carry out the death sentence by shooting the rapists repeatedly to death. In Rio de Janeiro, Brazil, at a shopping centre, two robbers shoot at the police who then return fire. One of the robbers is shot dead and the other is captured. The police decide to execute the surviving robber. In Albuquerque, New Mexico, at a balloon festival, a hot air balloon is blown into power lines. It catches fire and then there is an explosion, as the basket plummets to the ground below. Incredibly, the two people inside the basket are uninjured. In Rio de Janeiro, Brazil, police beat a captive, even though a camera is rolling. In Sao Paulo, Brazil, on another occasion, police beat two men at a checkpoint. The police then shoot at their car for the hell of it but luckily no one is killed and they let the men go. In Moscow, Russia, a hidden camera captures two thugs threatening a businessman for extortion money. The police are watching the scene unfold on a monitor and only belatedly stop them, when they begin choking the businessman with piano wire. Fortunately, the businessman lives. In El Monte, California, at a pool hall, rival gangs fight with each other. One gang member is shot to death after being beaten by a rival gang member. In Tamarac, Florida, at a Floridian drug dealer's home, a hidden camera captures two masked men break into the home to carry out revenge for a drug deal that went bad. The intruders then murder the dealer and two innocent women that are with him. Before leaving, they take off their masks and unintentionally reveal their identities to the police. This allowed the police to find and arrest the murderers a short time later. In Guatemala, two men, convicted of kidnapping, raping and murdering an innocent woman, are lined up for public execution. The execution is scheduled to go ahead, despite a late objection by Pope John Paul II and human rights groups. The men are shot at by a group of police officers holding rifles and are somehow still alive. One officer is instructed to finish them off and does so by shooting them both in the head with a pistol. In Playa Vicente, Mexico, a beaten man is accused of having raped and strangled a local girl. The villagers of the town set the man on fire and burn him alive. When word reaches authorities about the incident, police infiltrate the village and make some arrests. The last clip occurs in Champaign, Illinois, where a train enthusiast sets up his camera to record trains at the station. A crowd of people ignore the warning bells and cross the track. The last of them is a forty-one year old woman, Mary T. Wojtyla, who is accompanied by her lawyer. As they start crossing the track, they fail to notice a passing train to the left of them. The lawyer spots it and stops, but Mary doesn't stop in time. She gets hit and is thrown straight at the camera by a speeding train and is killed instantly. The film then just fades out with no ending credits.  In Bangkok, Thailand, at the stock exchange, a bankrupt and distraught man holds a gun to his own neck in the lobby of the building. Negotiators try to reason with the man but he pulls the trigger. Unbelievably the man survives after being rushed to hospital. In Plano, Texas, a clerk in a convenient store attends to an elderly woman. When she leaves, another man enters and begins asking the clerk questions. His partner then enters and points a gun at the clerk. When the unarmed clerk opens an empty cash register, the robber shoots the clerk to death and the pair flee the store empty handed. In Cincinnati, Ohio, a security camera captures a murder on the front porch of a house. The killer shoots another man in cold blood and then watches him die. The killer was later convicted because of the security camera. In Atlanta, Georgia, a highway patrol officer is struck by a passing car as he carries out a routine traffic stop. He survives having suffered only minor injuries. In Macon, Georgia, a highway patrol man pulls over a big and confused drunk man. The man then attacks the officer and flees the scene. He is arrested further down the road and was later convicted for his crime. In Lincoln, Maine, trooper Stephen Murray tries to issue an angry male driver a speeding ticket. The driver then verbally shouts abuse at the officer, but eventually agrees to pay the fine. In Los Angeles, California, animal control officer, Florence Crowell, is called in to deal with an aggressive pit bull that has previously attacked others. The owner of the dog then intentionally releases it and it attacks her. The dog gnaws its way into her hand, but luckily, a passing man rushes to the rescue. The dog is eventually stopped and later put to sleep, while the owner is sent to prison. In Great Britain, a horse escapes from the racetrack and nearly crushes a baby to death in its pram. Fortunately, both the baby and the horse are uninjured. In Siena, Italy, the infamous horse race, The Palio, takes place before a packed audience. Sarah Ferguson, the Duchess of York is also in the crowd. There are no rules, all of the jockeys ride bareback. When the race begins, one horse crashes into a wall knocking its jockey violently off. Another horse slips causing the jockey to fall off. He is then trampled by other horses as the race continues. Another horse crashes into a wall. Both the horse and jockey fall to the floor. The race finally ends when the lead jockey wins. No one is killed. In Phoenix, Arizona, a suicidal man climbs to the top of a radio tower. Suddenly he loses his balance and then falls off, crashing to his death below. In Indianapolis, Indiana, fire fighters battle a deadly blaze in an apartment building. One of the fire fighters rescues a woman and climbs down the ladder but suddenly slips. They both fall to the ground and are badly injured but alive. In Miami, Florida, a motorcycle stunt goes horribly wrong when the rider falls from the air to his death below. Home video captures a horrifying scene as a hot air balloon is blown into a power line by high winds. One passenger falls from the balloon and dangles from one of the lower wires of the power line. He then crashes to the ground, followed by a second passenger. It is unclear if they survived. In Los Angeles, California, a man on a motorcycle tries to flee police but crashes into the side of a bus at an intersection and nearly dies. In Newark, New Jersey, police chase a suspect who crashes into the side of a van. The collision loosens the front bumper of the suspects' vehicle. Further down the road, the loose bumper grabs hold of an innocent male pedestrian at an intersection and sends him flying across the road. It is unclear if he survives. As the police attend to the man, the suspect gets away. At the Florida Turnpike, a drug dealer flees from the police, but then loses control and his car flips over onto its roof. The car slides along the road on its roof and eventually stops. The suspect is lucky to survive. In Salt Lake City, Utah, an infra-red camera tracks a fleeing suspect in the dead of night, who is then piled on by police officers and taken into custody. In Charlotte, North Carolina, a SWAT team are called in to deal with an armed suspect wielding a shotgun. The man threatens to kill his father and refuses to give up the weapon. When he steps off the porch and moves to the side of the house, the SWAT team are waiting for him. The man points the gun at the SWAT units forcing them to open fire and kill him. In Tijuana, Mexico, politician, Luis Donaldo Colosio, walks through a crowd of people and is executed by an assassin, Mario Aburto Martínez, who shoots him in the head at point-blank range. In Monrovia, Liberia, two rival militia groups shoot at each other in the city streets. Victorious militia celebrate their victory by brutally beating and shooting a rival casualty to death. Ice skater, Tonya Harding, strips down in her hotel room on her wedding night and has sex with her new husband, Jeff Gillooly. They then hire a man to brutally attack another ice skater, Nancy Kerrigan, by breaking her leg and allowing Harding to win an ice skating competition.  The first series of clips features store clerks being killed, or badly injured, in convenient stores across the United States. One clerk is hit in the head with some sort of melee weapon. The robber then empties the cash register as the frightened clerk backs away in shock. Fortunately the clerk survives. The next clerk is shot in the chest by an armed robber and left bleeding on the floor. She screams in pain for help and fortunately also survives. In Los Angeles, California, another clerk decides to fight back against a group of armed robbers. He is tragically shot to death. In Argentina, a chase sequence for a movie is filmed, but one of the stunt drivers in a car loses control. The car ploughs off the road and charges into two cameramen filming the action. It's unclear if they survived. In Buenos Aries, Argentina, a rally race goes wrong when a driver crashes and is flung out of his rally car. He survives to race again. In Bogota, Columbia, someone goes skydiving, but when they dive out of the plane and try to use their parachute, it fails to open and they fall to their death. In Texas, two officers attempt to arrest a resisting suspect who attacks them with his fists. The officers are forced to open fire on him and shoot him twice in the back. Luckily for the suspect he survives. At Spring Break in New Orleans, Louisiana and Lake Havasu, California, a variety of different women show off their breasts to both the camera and strangers, in exchange for beads. Some of them strip down completely naked on the beach. Then, when some of the women have completely stripped down, the police arrive and take the naked women away as the crowd boo them. The 1998 Winter Olympics introduced a new form of extreme skiing to competition. In Crested Butte, Colorado, an extreme skier attempts to navigate his way down a steep rock slope. Suddenly he loses control and falls down the slope, hitting trees and rocks as he falls. He is later rescued and is badly wounded, but alive. Police video cameras capture some intense pursuits. A man on a motorcycle tries to flee from police but as he stops the bike, the police cruiser cannot stop in time and slams into the back of him, allegedly crushing him to death. In Cobb County, Georgia, at midnight, police chase a stolen jeep along the freeway. They then carry out a PIT maneuver with deadly consequences. The jeep rolls over and over and ejects one of the passengers who is then crushed by the jeep. Meanwhile, a survivor attempts to flee on foot. In Bogota, Colombia, a desperate bank robber takes a pregnant woman hostage. When he threatens to kill the woman, a sharpshooter takes the robber out with a single shot to the head. The woman is unharmed, the robber is killed. In Mexico City, another robber takes an innocent person hostage and uses them as a human shield. A police sniper then takes the robber out by shooting him in the head. The hostage is unharmed. In Sao Paulo, Brazil, a fire engulfs a large building. People on the higher levels of the building climb out onto the windows. One man then leaps off of a window to try and land near the fire truck. He tragically misses and crashes to the ground below. He is killed instantly. In Oklahoma City, police gather round a disturbed but unarmed man. When he challenges the officers they shoot him with rubber bullets and take him into custody. In Miami, Florida, a Cuban immigrant threatens police officers with a machete. When he raises the weapon the police shoot him. He survives and is taken away by paramedics. In San Diego, California, a camera crew films extreme bicycle jumps for a television show. One of the riders attempts a jump but falls off and is badly injured. In Mesquite, Nevada, a biker attempts a dangerous stunt jump. As he accelerates up the ramp and jumps into the air, a gust of wind blows him off course and he crashes onto the road. A frightened crowd gather around the man and paramedics are called in. Unfortunately, the biker dies before paramedics can help him.\n",
      "\n",
      "\n",
      "ID: 1734 - Movie Title: The Animatrix - Genre: \"Science Fiction\",  \"Japanese Movies\",  \"Adventure\",  \"Animation\",  \"Anime\",  \"Drama\",  \"Action\"\n",
      "The plot-summaries of the shorts are listed below in the order that they run in the DVD release, which is not the chronological order. Chronologically, the order would be: *The Second Renaissance - a prequel set generations before the original film, The Matrix, relating how humans built artificially intelligent Machines, the apocalyptic war between the two, ending with the Machines enslaving the human race and the initial creation of The Matrix virtual reality. *A Detective Story - a stand-alone story in which the character Trinity appears, but independently of any other characters. Because Trinity is present it takes place at least within several years of the films, and though it is not made clear within the cartoon if it takes place before or after Trinity met Neo in the original film, another official source places it before the events of The Matrix.Matrix Universe poster, included in Enter the Matrix: Official Strategy Guide, Bradygames, 2003. *Kid's Story - set during the six month gap between the events of the first and second films, after Neo joins the crew of the Nebuchadnezzar in freeing other humans from the Matrix. Its events are briefly alluded to in dialogue at the beginning of The Matrix Reloaded. *Final Flight of the Osiris - takes place directly before The Matrix Reloaded, as the hovercraft Osiris stumbles upon the Sentinel army digging to Zion. At the beginning of The Matrix Reloaded, Niobe mentions that their reconnaissance photos of the Machine army were transmitted from the Osiris. The other four shorts  are independent of the events of any other installment. While they generically deal with the virtual reality of the Matrix, and the Zion rebels, conceivably they could take place at any point in the generations-long struggle between the human rebels and the Machines running the Matrix. Like the Matrix trilogy, the entire movie except The Final Flight of the Osiris was rated R by the MPAA mainly for its Sci-Fi violence. When it was released on DVD, it was unrated.  The Second Renaissance is a two-part film written and directed by Mahiro Maeda. He used Bits and Pieces of Information written by the The Wachowskis as a prequel to the series as a base for the first part. With increasing numbers of people released from all labor, the human population has become lazy, arrogant, and corrupt. Despite this, the machines were content with serving humanity and, as the narrator states, \"for a time, it [the status quo] was good\". This phrase is a reference to one of the most famous phrases of Genesis, consistent with the Biblical references seen throughout the original Matrix films, and is one of numerous references to Genesis in particular present in \"Second Renaissance\". The relationship between humans and machines changes in the year 2090, when a domestic android is threatened by its owner. The android, named B1-66ER in what appears to be a reference to the character Bigger Thomas from the novel Native Son, then kills the owner, his pets, and a mechanic instructed to deactivate the robot. This murder is the first incident of an artificially intelligent machine killing a human. B1-66ER is arrested and put on trial, but justifies the crime as self-defense, stating that it \"simply did not want to die\". During the trial scene, there is a voice-over of Clarence Darrow  quoting a famous line from the Dred Scott v. Sandford case in 1856 in his closing statement, which implicitly ruled that African Americans were not entitled to citizenship under United States law. Using this as a precedent, the prosecution argues that machines are not entitled to the same rights as human beings, and specifically that human beings have a right to destroy their property, while the defense urges the listener not to repeat history, and to judge B1-66ER as a human and not a machine .  B1-66ER loses the court case and is destroyed. Across the industrialized world, mass civil disturbances erupt when robots and their human sympathizers rise in protest. World leaders fear a robot rebellion, and governments across the planet initiate a major program to destroy all humanoid machines. News reports show rioting in American and Western European cities such as Chicago and Berlin, alongside the peaceful \"Million Machine March\" on the Albany district courthouse where B1-66ER was sentenced. Visual references are made to such incidents as General Nguyễn Ngọc Loan's execution of Viet Cong officer Nguyễn Văn Lém, the Tank Man standoff following the Tiananmen Square protests of 1989, the Al-Aqsa Intifada and The Holocaust. Some robots escape destruction when humans, in their greed, still want the robots to work and produce things for them. The machine population is exiled, and they create their own nation in the Middle East, named Zero One . According to the narrator, the robots built Zero One in \"the cradle of human civilization\", an allusion to the Fertile Crescent, apparently located in Saudi Arabia's \"Empty Quarter\" which is devoid of human life. Essentially ghettoized at Zero One, the machines establish their own industrial base there and begin to produce efficient, highly advanced artificial intelligence, echoing Vernor Vinge's thoughts on a technological singularity. The new nation excels at manufacturing high-tech consumer products, and before long, Zero One's consistent export of cheap, reliable, mass-produced goods begin to undercut the global economy. The United Nations Security Council calls an emergency economic summit at UN headquarters in New York City, resulting in UN delegates approving of a global economic blockade of Zero One that echoes the Cuban Missile Crisis. Two robotic ambassadors, built as a mechanical Adam and Eve, are sent by the leaders of Zero One to peacefully request the admission of their state to the United Nations as a prelude to settling the economic crisis peacefully. Despite their peaceful intentions, the ambassadors are forcibly removed from the chamber, and their application is rejected. As this scene unfolds, the narrator states that \"this was not the last time the machines would take the floor there\" foreshadowing the end of Part II. Part I ends as the Security Council debates the issue of short-sightedly declaring war on the Machine Empire.  Part II opens with United Nations aircraft unleashing a massive nuclear bombardment on Zero One. The nuclear carpet bombing devastates the machine city, but is unsuccessful in destroying many elements of the mechanical population, given that the machines did not have the same weaknesses to the bombs' fallout and heat as humans. The machines retaliate by unleashing their armies to conquer neighboring human countries, triggering a world war between the United Nations and Zero One. Unfortunately, most of the world's industrial output is already based in Zero One, as the lazy humans had grown accustomed to not producing things for themselves. Despite their best efforts, human troops are unable to hold back Zero One's relentlessly efficient onslaught, and slowly retreat . As the machine forces push deeper across the planet, military leaders begin to pursue increasingly desperate solutions. At a summit of political and military leaders from around the world, unanimous approval is given to a plan code-named \"Operation Dark Storm\", which aims to cut the machines off from the sun, their primary energy source. The plan is executed in 2095, with high altitude bombers dispersing sky-darkening nanomachines into the air, while the human armies simultaneously launch a ground offensive against the machine forces. The plan is initially successful, although many of the human nations' long-range weapons systems are also disabled by the lack of sunlight. With their high-tech weapons rendered useless, human commanders are forced to launch close-quarters infantry engagements, supported by electromagnetic artillery fire and armored assaults using atomic tanks and powered armor. Heavy losses are taken on both sides, but the Machines gradually gain the upper hand. Legions of a new model of machine, no longer in humanoid form and appearing more like the insectoid or cephalopod-like Sentinels and others of the Matrix films, overrun the human armies. This coincides with the destruction of original man-made robots at the hands of human forces and, as a result, the further dehumanization of the rapidly emerging machine collective. As the machine armies swarm across the human defenses, the United Nations, in desperation, fires nuclear missiles directly at the machine armies, vaporizing their own troops in the process. To make up for the lack of solar power, the machines begin capturing human prisoners and using their bodies to power large biomechanical tanks, which quickly cut through the dwindling human artillery. As the expanding armies of Zero One overrun Eurasia, they unleash lethal biological weapons which further ravage humanity. Eventually brought to its knees by the might of the machine army, the Security Council calls a global summit at U.N. headquarters to sign an armistice and end the war. Zero One's machine ambassador signs the peace treaty with a barcode, in which the humans agree to surrender their remaining territories to the machines. \"Your flesh is a relic, a mere vessel. Hand over your flesh and a new world awaits you. We demand it\" are the only words the machine utters before it detonates a nuclear bomb in the meeting chamber, killing most of the planet's leaders and destroying New York City, one of the few remaining human settlements. In 2102, the machines crush the leaderless remnants of the human armies, and the war ends. Zero One is victorious, but it is a Pyrrhic victory: the planet has been devastated by the war and by the crippling ecological impact of the Dark Storm shroud, which the machines are unable to remove. In need of a new energy source, the machines adapt their bioelectric tank technology to build vast human-stocked power stations, using their bodies' waste-energy to catalyze a powerful fusion reaction, in which in its making the Humans endure many days of agonising torture, and at its completion, the Machines create the computer-generated virtual reality of the Matrix , to keep their prisoners sedated by feeding the virtual world into the prisoners' brains, starting with the first prototype Matrix .  Kid's Story was written by the The Wachowskis and directed by Shinichiro Watanabe, with animations by Kazuto Nakazawa and production design by Studio 4°C, Tokyo. It is the only one of the animated shorts contained in The Animatrix in which Neo appears. The short takes place during the six month gap between The Matrix and The Matrix: Reloaded, during which time Neo has joined the crew of the Nebuchadnezzar and is helping the rebels to free other humans from the Matrix. Kid  is a disaffected teenager who feels there is something wrong with the world, frequenting hacker chatrooms on the internet and wondering if he is alone. In school, he absent-mindendly scribbles \"Neo lives\" in his notebook. One day he receives a personal invitation from Neo  to escape the Matrix . The following day, he receives a call from Neo on his cell phone, and is chased through his high school by a band of Agents, before ultimately being cornered on the roof. He asserts his faith in Neo, and throws himself from the roof, whereupon the other characters are shown holding his funeral. The short fades up from black as the Kid awakens in the real world to see Neo and Trinity watching over him. They remark that he has achieved \"self substantiation\" , which was considered impossible. In both the short itself and The Matrix Reloaded, however, the Kid seems to believe it was Neo's actions, not his own, that saved him. Self-substantiation is never thoroughly discussed in any part of the series. Morpheus speaks of the founder of Zion who freed himself, presumably without external help. However, this was revealed to be a ruse by the machines. Kid's Story and World Record both heavily hint at this as the viewer wonders how a man being awoken from one of those pods, apparently helpless, could somehow build and start a city.  Program was written and directed by Yoshiaki Kawajiri. The character designs were done by Yutaka Minowa. In case with Beyond and Matriculated it is also a midquel of the first or second film. It follows the protagonist, \"Cis\" , who is engaged in her \"favorite simulation\": a battle program set in feudal Japan. After successfully eliminating an attacking enemy cavalry, a lone samurai appears whom Cis recognizes as \"Duo\" . \"Cis\" made her first appearance as an image in The Matrix Revisited. Initially, the two duel as allies, testing one another's fighting abilities. During the course of their duel, Duo briefly disarms Cis. He questions her concentration and wonders whether she regrets taking the Red Pill that took them out of the \"peaceful life of the virtual world\". They continue fighting until she finally overpowers Duo and is poised for the 'kill'. It is at this point that Duo states that he has \"something to say\". She sarcastically assumes that he wants to propose [marriage]; but instead he admits a desire to return to the Matrix; incredulous, Cis nevertheless responds that doing so is impossible as 'the truth' is already known to them, forbidding their re-integration. Duo reasons that reality is harsh and that he is tired of it. He adds that the Machines can make the both of them forget the truth. Duo then states that he has disabled or killed the other crewmembers and contacted the Machines. He asks Cis to return with him to the Matrix, but she continues to refuse. As Duo becomes more aggressive in his arguments for returning, Cis attempts to escape while simultaneously warding off his attacks. Becoming increasingly uncomfortable with the situation, Cis requests an operator in order to exit the simulation. Duo tells her that no one can hear her and reiterates that it \"is already done...[the machines] are on their way\". Thereafter their fighting becomes much more serious and forceful as they move from rooftop to rooftop. Duo, in a flying leap, attacks her from above with his sword. As the blade comes towards her, Cis, standing her ground, concentrates and halts its forward motion inches from her face and breaks it. She takes the broken end of the blade and thrusts it into Duo. Duo states his love for her as he dies. Suddenly, she wakes from the program and discovers that the encounter with Duo was a test program devised for training purposes. A man named \"Kaiser\"  unsuccessfully assures her that she acted appropriately during the test and met the test's targets. Clearly upset, she punches him in the face and walks away. He remarks that \"aside from that last part\", she passed the test.  World Record was created by Madhouse and directed by Takeshi Koike, with a screenplay by Yoshiaki Kawajiri and is also a midquel of the first or second film. The beginning of this short includes a short narration from the Instructor  explaining details behind the discovery of the Matrix by \"plugged-in\" humans. Only exceptional humans tend to become aware of the Matrix, who have \"a rare degree of intuition, sensitivity, and a questioning nature\", all qualities which are used to identify inconsistencies in the Matrix. This is not without exceptions, given that \"Some attain this wisdom through wholly different means.\" The story is about Dan Davis, a track athlete, who's competing in the 100m in the Summer Olympic Games. He has set a world record time of 8.99 seconds, but his subsequent gold medal was revoked for drug use. He decides to compete again and break his own record to \"prove them wrong.\" Despite support from his father and a young reporter, Dan's trainer tells him that he is physically unfit to race and that pushing himself too hard will cause a career ending injury. Dan is adamant on racing. On the day of the race, he is monitored by 4 agents located in the stadium. The race begins and Dan starts off strong. However, the muscles in his leg violently rupture, putting him at a setback and scaring many of the people in the stands. Through strong willpower, Dan ignores the injury and runs much faster than he did before, easily passing the other athletes. Before he can cross the finish line, 3 of the agents possess the 3 closest runners and try and stop him, but even they can't catch up to him. Dan's massive burst of energy in the Matrix causes his real-world counterpart  to rip apart the plug connecting him to the Matrix, causing him to see the real world through his pod. A Sentinel restrains him back in his pod and violently shocks him with electrified restraints. Dan's mind is thrown back into the Matrix, but his body is exhausted from the race and what he has just seen, causing him to tumble to the ground at high speeds. Despite this, Dan easily won the race and broke his original time of 8.99 seconds with a time of 8.72 seconds. The next scene shows a crippled Dan being wheeled by a nurse through a hospital. A nearby agent calls his other agents to tell them that they erased Dan's memory of the race and that he will never walk again; he won't be an issue. However, Dan quietly whispers the word, \"Free,\" angering the agent and telling him to sit back down. Davis then breaks free of the restraints in his wheelchair and takes a few steps before falling down again and being helped up by the nurse.  Beyond is written and directed by Koji Morimoto. It is a midquel short film, during the first or second installment of the trilogy. It follows a teenage girl, Yoko , looking for her cat Yuki. While asking around the neighborhood, indicatively somewhere in Japan, she meets some younger boys. One of them tells her Yuki is inside a \"haunted house\" and invites her to see it. The children have stumbled across an amalgamation of anomalies within an old, dilapidated building. They have learned to exploit this glitch in the Matrix for their own enjoyment, through several areas which seem to defy real-world physics: glass bottles reassemble after being shattered, rain falls from a sunny sky, broken lightbulbs flicker briefly , a door which opens into an endless dark void, shadows which do not align with their physical origins, and a dove's feather that rotates rapidly in place in mid-air. There is a large open space in the middle of the run-down building where they take turns jumping off a high point and falling towards the ground, yet somehow stopping inches before impact. This proves amusing and they do not seem to be bothered by the inherent strangeness of the place. Throughout the film, brief sequences show that Agents are aware of the problem in the Matrix, and a truck is seen driving toward the site to presumably deal with the problem. It arrives while the children are still playing, and an Agent-led team of \"rodent exterminators\" moves in to clear everybody out of it. The story ends when Yoko and the others return to the area the next day and find the site has been turned into an unremarkable parking lot. They unsuccessfully attempt to re-create the bizarre occurrences of yesterday and soon go in search of something else to do.  A Detective Story is written and directed by Shinichiro Watanabe, with animation by Kazuto Nakazawa and is a direct prequel to the first film. It follows the story of a down-on-his-luck private detective, Ash , on what he calls the \"case to end all cases\". Ash receives an anonymous phone call to search for a hacker that goes by the alias \"Trinity\" . Ash traces Trinity and learns that other detectives have failed in the same task before him; one had committed suicide, one had gone missing, and one had gone insane. He then attempts to speak with the insane detective but cannot get anything substantial out of him. This detective is an African American with a thin mustache who shows a resemblance to Walter Mosley's detective character 'Ezekiel \"Easy\" Rawlins'. This is a possible homage to the character as Mosley's detective series is set in a similar Noir type setting and there were not many black detectives at the time. Eventually Ash finds Trinity after deducing that he should communicate using phrases and facts from Lewis Carroll's Alice's Adventures in Wonderland. She proposes a meeting, and he successfully finds the location. At the meeting she removes a \"bug\" from his eye, planted by Agents earlier in an \"eye exam dream\". Agents appear and attempt to apprehend Trinity in a shoot-out with her and Ash. While the two fugitives are trying to escape the train, an Agent attempts to take over Ash's body, forcing Trinity to shoot him in order to prevent the Agent from appearing. Ash is wounded, whereupon he and Trinity bid farewells without malice. Trinity escapes, telling Ash that she thinks he could have handled the truth. Agents enter the car to find Ash, who points his gun at them while looking in the other direction and lighting a cigarette. The Agents turn to Ash who, even though he is armed, will likely die. With this apparent no-win situation, the film ends with Ash's line  as his lighter flame goes out.Easy Rawlins   Matriculated was written and directed by Korean American director Peter Chung, widely known for his work on Aeon Flux. Like Beyond, it is a midquel of the first or second film. The film deals with a group of above-ground human rebels who lure hostile intelligent machines to their laboratory in order to capture them and insert them into a \"matrix\" of their own design. Within this matrix, the humans attempt to teach the captured machines some of the positive traits of humanity, primarily compassion and empathy. The ultimate goal of this project is to help the intelligent machines develop free will in order to overcome their original \"search-and-destroy\" programming, rather than reprogramming it by force. The rebels' hope is that, once converted of its own volition , an \"enlightened\" machine will assist Zion in its struggle against the machine-controlled totalitarianism which currently dominates the Earth. After capturing one of the \"runner\" robots, the rebels insert the machine into their matrix. The experience of the robot leads it to believe it may have a relationship with one of the female rebels, Alexa , either friendship or something deeper. However, the rebel group is attacked by the Machines and unplug themselves to defend their headquarters, but they experience what might be considered a Pyrrhic Victory: all the onscreen rebels are killed but the single robot captured in the film successfully 'reprogrammed', indicated by the machine's mechanical eye changing from red to green. The robot plugs the dying Alexa into their matrix with itself, the only two things left surviving. Much to the machine's dismay, when the rebel realizes she is trapped inside the matrix with the \"friendly\" robot, she turns horrified and her avatar dissolves screaming as she clutches her head, and the robot exits from the rebels' matrix to see a motionless Alexa in front of him in the real world. The film ends with the 'converted' robot standing outside the headquarters of the human rebels, with a light on its back now turned back to the color red.  Final Flight of the Osiris was written by the The Wachowskis and directed by Andy Jones, with CG-animation production and design by Square Pictures, this segment is rated PG-13 by the MPAA for \"Sci-Fi Violence, Sensuality and Language\". The short is a direct prequel leading into the events of The Matrix Reloaded. Thadeus , a muscular man and an athletic woman called Jue  engage in a blindfolded sword fight in a virtual-reality dojo. With each slice of their swords, they remove another piece of each other's clothing. Immediately after cutting the other down to their underwear, they lift their blindfold to peek at the other. As the two are about to kiss, they are interrupted by an alarm and the virtual reality simulation ends. In the next scene, the hovercraft Osiris is headed for Junction 21 when Robbie , the operator, picks up thousands of Sentinels on his HR scans. The ship flees into an uncharted tunnel, where it encounters another group of Sentinels patrolling the area. The crewmembers man the guns onboard and destroy the patrol. The ship then emerges on the surface, four kilometers directly above Zion and close to the army of Sentinels previously detected in the scan. Alerted to the Osiris's presence, the army of Sentinels pursue the ship. Captain Thadeus decides Zion must be warned, and his shipmate Jue volunteers to broadcast herself into the Matrix to deliver the warning while the ship is doggedly pursued. Jue and Thadeus admit to peeking at each other in the VR simulation. Entering the Matrix on a high rooftop, Jue jumps off and acrobatically makes her way down through structure work between two buildings. When she hits the ground in the alley below, a ripple effect is created by her impact. She drops off a package into a mail box. The package sets the prologue for Enter the Matrix. She attempts to contact Thadeus via a cell phone as the Osiris are overcome by Sentinels and crash. The Sentinels tear their way into the ship. At the time of the call, Thadeus is making a last stand to hold off the Sentinels. Shortly after Jue says \"Thadeus\" over her cell phone, the Osiris explodes, destroying many of the pursuing Sentinels. In the Matrix, Jue falls to the ground, dead, her body having been destroyed on the ship.\n",
      "\n",
      "\n",
      "ID: 4138 - Movie Title: The Gospel of Us - Genre: \"Drama\"\n",
      " A group of people are filming a home movie on the beach when they are interrupted by two men in the background. The Stranger  becomes violent towards The Teacher  and chases him away. He then runs towards the camera and grabs it, screaming, 'Forty days!' into it. A young girl watches a news broadcast where a woman  is showing photographs of her missing son, The Teacher. On the beach at dawn, people gather at the water's edge. The Stranger walks into the water and waits there. From the sand dunes The Teacher, dressed in bedraggled clothing, appears and walks the to water. He removes his clothes and walks into the sea towards The Stranger, who pushes him under the water. When The Teacher emerges, he cries and is carried to shore where he is wrapped in a cloth and carried away while the people sing, 'He is come.' Later that day there is a gathering at the beach, where the council await a visit from ICU, a company who has worked closely with the town for years. Entertainers perform for the crowds but are interrupted by The Stranger, who digs a door out of the sand. He stands the door up and from behind it appears a young boy with the likeness of The Teacher. As soon as it begins, the event is over and the celebrations continue until the Company Man  arrives by boat, accompanied by his Security Chief  and full security team. The Company Man begins addressing the people of the town but is interrupted when a woman  strapped with explosives emerges from the crowd. A masked man who has hijacked the tannoy system  threatens to detonate the bomb if the company do not leave the town. Before anything happens, The Teacher appears at the waves and walks to the woman, talking to her. He discovers that her name is Joanna and asks her to tell him her story. He removes the bomb and the two embrace, but before any of the security or police can speak with them, they are gone. The bomber is arrested and taken away. Later that day ICU holds a conference at the town hall to discuss their plans for the town. The Company man speaks to the mayor about why he can't tell the people of the town that they will all be moved on, and that he must lie to them. The Company Man takes to the mic and explains to the people of the town that in addition to the M4 motorway that runs through the town, the company will be adding a new road, entitled the Passover Project. He explains that families who's houses stand in the way will be rehomed. The people of the town start to revolt, until one woman is shot by the Security Chief. The Teacher appears and cradles her. When questioned by the Company Man about what he wants, he replies, 'I came here to listen!' The teacher gathers more followers; a fisherman, Peter , Alfie , a man who is haunted by the ghosts of people who used to live in his street, homeless twins with no name who he calls Legion , his brother whom he doesn't recognise, Kyle  and a musician, Simon . At the shopping centre, his mother finds him, but he doesn't recognise her. Later that night, The Teacher and his friends celebrate at Peter's local club. The Teacher is volunteered to draw the raffle, and his mother approaches him again. She gives him a photograph of him and his daughter, who he doesn't remember. The encounter visibly moves him, and he calls Joanne into a back room. There he asks her to give him up to ICU's security, and she reluctantly agrees. The friends stumble outside drunkenly, and there The Teacher sees visions of three women, his daughter, his wife and his mother-in-law. He then sees a vision of the Security Chief, covered in blood and adorned with antlers. He asks him to tell him his story, but the vision replies, 'I have no story. I am.' The visions disappear and The Teacher notices a roofer at work on a nearby house. The roofer is his father, and for a brief moment, he recognises him. His father explain that he has lost a piece of slate from the roof and asks his son to find it. When he does, it's broken, and his father explains that sometimes you have to sacrifice one piece of slate to realise that the roof needs to be fixed. The Teacher reluctantly agrees and is arrested by a local police office, Sgt. Phillips . He is taken to the back of a flat-bed truck where the Security Chief tells him he knows everything about him, about his failed marriage and how he never gets to see his daughter any more. He accuses The Teacher of leading an uprising against ICU and tells him that the people of the town look to him as their king. At that moment, Peter is being quizzed by a local news team about whether he is affiliated with The Teacher, but he denies ever knowing him. The Teacher reluctantly admits his is the king of the town, knowing that he is the piece of slate that is sacrificed to save the whole roof. The following day The Teacher and the bomber from the beach, Barry Absalum are tried. Barry is set free and The Teacher is found guilty by the Company Man. Peter tries to stop the events happening by declaring that he does know The Teacher, but it is too late. He is dragged into the town centre and is beaten by the security team. They dress him in a nighty and place a crown of barbed wire upon his head to humiliate him. Sgt Phillips and the rest of the local police refuse to participate. The Teacher is bundled into a van and driven to a local stonemasons, where he is handed a cross. He then follows Simon's drum, and a procession of all the people in the town begin to walk. The Teacher collapses and is carried into the town centre, where his mother bathes his wounds and replaces his crown with one of roses. The procession continues until they reach the beach, where a podium built of all of the doors of the people of the town stands. The Teacher is stripped and nailed to the cross and raised above the town. As he hangs, picture of his daughter comes alive in his mind and suddenly he remembers. We cut to The Teacher's video diary of his forty missing days, where he flees to the hills surrounding the town due to pressure in his life. He lives happily in the hills, free from his troubles, remarking about the M4 motorway that scars the town. He states that 'Nobody stops in Port Talbot'. On the fortieth day, when journeying into the town for food, he gets lost and begins to forget who he is. It is at this moment that he stubles down to the beach where he is held under the water by The Stranger. With his memory restored, The Teacher begins to cry out about all of the memories of the town until the skyline is lit with a burst of light and all of the town is brought back to life with old memories. After he dies, his followers wrap him in cloth and lower him gently, where his mother cradles his body and sings to him. Joanne approaches to remove the cloth to show the town their hero one last time, but when she does, his body is gone and in his place are hundreds of flowers. The Stranger appears on the podium, exclaiming, 'It is finished, it has begun!' and pulls back his hood to reveal himself as The Teacher.\n",
      "\n",
      "\n",
      "ID: 3701 - Movie Title: Babel - Genre: \"Drama\",  \"Indie\",  \"Political drama\"\n",
      "Babel focuses on four interrelated sets of situations and characters, and many events are revealed out of sequence. The following plot summary has been simplified, and thus does not reflect the exact sequence of the events on screen.  In a remote desert location in southern Morocco, Abdullah, a goatherder, buys a high-powered .270 Winchester M70 rifle and a box of ammunition from his neighbor Hassan Ibrahim to shoot the jackals that have been preying on his goats. Abdullah gives the rifle to his two young sons, Yussef and Ahmed , and sends them out to tend the herd. The film has already established that there is a degree of competitiveness between the two brothers. The older is critical of the younger for spying on his sister while she changes her clothes . Competing between themselves and doubtful of the rifle's purported three-kilometer range, they decide to test it out, aiming first at rocks, a moving car on a highway below, and then at a bus carrying Western tourists on the same highway traveling in the opposite direction to the car. Yussef's bullet hits the bus, critically wounding Susan Jones , an American woman from San Diego Rolling Stone reviewThe location of the home is identified as \"Los Angeles\" in the Japanese website . Go to gallery and you will see \"Los Angeles\" who is traveling with her husband Richard Jones  on vacation. The two boys realize what has happened and flee the scene, hiding the rifle in the hills that night. Glimpses of television news programs reveal that the US government holds the shooting to be a terrorist act and is pressuring the Moroccan government to apprehend the culprits. Having traced the rifle back to Hassan, the Moroccan police descend quickly on his house and roughly question him and his wife until they reveal that the rifle was given to him by a Japanese man, and then sold to Abdullah. The two boys see the police on the road and confess to their father what they have done.  The three flee from their house, retrieving the rifle as they go. The police corner them on the rocky slope of a hill and open fire. After his brother is hit in the leg, Yussef returns fire, striking one police officer in the shoulder. The police continue shooting, eventually hitting Ahmed in the back, possibly fatally injuring him. As his father rages with grief, Yussef eventually surrenders and confesses to all the crimes, begging clemency for his family and medical assistance for his brother. The police take him into custody. The family's fate is unresolved. The movie's first plot is interspersed with scenes of Richard and Susan. They came on vacation in Morocco to get away from things and mend their own marital woes. The death of their infant third child to SIDS has strained their marriage significantly as they struggle to communicate their frustration, guilt, and blame. When Susan is shot on the tour bus, Richard orders the bus driver to the nearest village with a doctor . There a local veterinarian sews up the wound to stem the loss of blood. The other tourists wait for some time, but they eventually demand to leave, fearing the heat and worried that they may be the target of further attacks. Since Susan cannot travel by bus in her condition, Richard threatens the tour group to wait for the ambulance, which never arrives, and eventually the bus leaves without them while Richard is on the phone. The couple remains behind with the bus's tour guide, Anwar, still waiting for transport to a hospital . Political issues between the US and Morocco prevent quick help, but a helicopter comes at last. After five days in the hospital, Susan recovers and is sent home.  Simultaneously, the movie tells the story of Chieko Wataya , a rebellious, deaf Japanese teenage girl, traumatized by the recent suicide of her mother. She is bitter towards her father, Yasujiro Wataya  and boys her age, and is sexually frustrated. She starts exhibiting sexually provocative behavior, partly in response to dismissive comments from a member of her volleyball team. While out with friends, Chieko finds a teenage boy attractive, and following an unsuccessful attempt at socialising, takes off her panties and exposes herself in an act combining flirtation and contempt. Chieko eventually encounters two police detectives who question her about her father. She finds one of the detectives, Kenji Mamiya , attractive. She invites Mamiya back to the apartment she shares with her father. Wrongly supposing that the detectives are investigating her father's involvement in her mother's suicide, she explains to Mamiya that her father was asleep when her mother jumped off the balcony and that she witnessed this herself. It turns out the detectives are, in fact, investigating a hunting trip Yasujiro took in Morocco. Yasujiro is an avid hunter and during a trip in Morocco he gave his rifle, as a gift, to his very skilled hunting guide, Hassan, who at the beginning of the film sold the rifle to Abdullah. Soon after learning this, Chieko reveals her real motive in inviting Mamiya to her home. She approaches him nude and attempts to seduce him. He resists her approaches but comforts her as she bursts into tears. Before he leaves, Chieko writes him a note, indicating that she does not want him to read it until he is gone. Leaving, the detective crosses paths with Yasujiro and explains the situation with the rifle. Yasujiro replies that he did indeed give it as a gift; there was no black market involvement. About to depart, Mamiya offers condolences for the wife's suicide. Yasujiro, though, is confused by the mention of a balcony and angrily replies that \"My wife shot herself in the head. Chieko was the first to find the body. I've explained this to the police many times.\" Chieko is leaning on the balcony  when her father enters the apartment. After leaving, the detective stops at a bar to read Chieko's note. Within the film, the note's contents are never revealed.  A third subplot takes place in the Americas where Richard and Susan's Mexican nanny, Amelia  tends their twin children in their California home while they are in Morocco. When Richard and Susan are detained because of Susan's injury, Amelia is forced to take care of the children longer than planned and becomes worried that she will miss her son's wedding. Unable to secure any other help to care for them, she calls Richard for advice, who impatiently tells her to cancel the wedding. Without his permission Amelia decides to take the children with her to the wedding in a rural community near Tijuana, Mexico, rather than miss it. Her nephew Santiago  offers to take her and the twins to the wedding. They cross the border uneventfully and the children are soon confronted by the Mexican culture and street scene. The revelry of the wedding extends well into the evening, but rather than staying the night in Mexico with the children, Amelia decides to drive back to the States with Santiago. He has been drinking heavily and the border guards become suspicious of his behavior and over the American children in the car. Amelia has passports for all four travelers, but no letter of consent from the children's parents allowing her to take them out of the United States. Intoxicated, Santiago trespasses the border. He soon abandons Amelia and the children in the desert, attempting to lead off the police . Stranded without food and water, Amelia and the children are forced to spend the night in the desert. Realizing that they will all die if she cannot get help, Amelia leaves the children behind to find someone, ordering them not to move. She eventually finds a U.S. Border Patrol officer. After placing Amelia under arrest, she and the officer travel back to where she had left the children, but they are not there. Amelia is taken back to a Border Patrol station, where she is eventually informed that the children have been found and that Richard, while very furious and outraged, has agreed not to press charges. However, she must be deported from the US where she has been working illegally. Her protests that she had been in the US for 16 years and has looked after the children  for the duration of their lives do not secure lenient treatment. Near the end of the movie, the audience sees her meeting her son on the Mexican side of the Tijuana crossing, still in the red dress she wore for the wedding, now torn and dirty from her night in the desert. At the end of the movie, a phone conversation between Amelia and Richard is repeated from Richard's end of the phone. This is the original phone call at the beginning of Amelia's story. In this conversation it can be heard that he is allowing Amelia to go to her son's wedding because Susan's sister will be able to watch the twins. It is not until the next morning on another phone call they learn that Susan's sister cannot take care of them and thus Amelia is forced to take the children with her.\n",
      "\n",
      "\n",
      "ID: 4905 - Movie Title: Darna Mana Hai - Genre: \"Horror\",  \"Bollywood\",  \"World cinema\"\n",
      "Darna Mana Hai interweaves six stories into one film. Seven friends get stuck in the middle of a forest when their car breaks down, and they find refuge in an abandoned house. To keep each other amused, they tell each other horror and supernatural stories that they have heard over a bonfire. Shruti  is the bravest of the lot and seems unafraid of any of the stories that are told.  The first story revolves around a married couple, Karan  and Anjali , who get stuck in the middle of a forest. After their car suddenly stops, Karan gets out to investigate the problem. After his disappearance and his constant cries for help from the desolated forest, Anjali gets out and runs into the forest to rescue him. She finds Karan's torch covered in blood and is stalked by an unseen person or supernatural being. Panicking, Anjali runs around and finds a hand reaching out of a swamp. She then becomes terrified to find that the hand is wearing a watch identical to her husband's. After failed attempts to rescue him, the hand disappears. Someone creeps up on her and as Anjali screams, it turns out to be Karan. Karan seems completely normal and fine while Anjali, whimpering, attempts to tell him that she heard him screaming. However, Karan tells her that he heard her screams from the forest when he went to retrieve water. She looks at the torch she found, which is suddenly clean of the blood it was covered in. She then hurries back to the car with Karan, telling him to get them both out of there. After quickly fixing the car problem with the water, Karan and the panicked Anjali climb into the car and drive off. After seeing Anjali's anxious and worried state, Karan puts his arm around her as she leans on him and closes her eyes. He then smirks and looks into the rearview mirror of the car, in which his reflection is not visible and Anjali seems to be leaning on nothing. This conveys that he did die in the swamp and is now a ghost. After this story, one of the friends around the bonfire go into the forest.  The second story is about a photographer, Anil , who checks into an inn while on his way to Mumbai. The manager and owner  of the lodge is a strange and eccentric man who insists that smoking is strongly prohibited in his inn. When Anil tries to go outside for a smoke, the man restricts him, telling him about the diseases that come along with smoking. The owner then locks Anil inside the lodge and tells him that in a matter of months, he can cure his smoking addiction. The owner takes Anil to a basement of sort and shows him piles of dead bodies, telling him that he tried to prevent them but these people would not stop smoking. After a few months, Anil is now seen working at the lodge, acting strange and eccentric himself. When a customer walks in smoking and asks him for a room, Anil tells him that smoking is strongly prohibited and then proceeds to shoot the man with a gun. The story ends with Anil and the owner sitting together, smiling and watching T.V., when an ad against smoking runs as a commercial. This story is similar to the story sung in The Eagles' Hotel, California. It also shares many thematic elements with Alfred Hitchcock's thriller Psycho. After this story, a second friend in the group around the bonfire goes into the forest.  The third story is that of a school teacher, . He confronts a strange student, Pramila, who is always punished for not completing her homework. Later, she suddenly becomes a bright student and starts doing her homework regularly. But ironically, on her homework, the teacher sees that she has drawn an , depicting the sign of God. This disturbs him and causes him to act strangely. After a few weeks, he decides to go to Pramila's house. Pramila's mother confronts him and he explains that he once murdered a bright classmate in jealousy and thinks Pramila is a reincarnation of that classmate. He says that she drew the Om sign to prove it. By the end of the story, the teacher loses his sanity. After this story is told, the third friend in the group also enters the forest.  The fourth story centers on a housewife , who buys mysterious apples from a strange vendor . When she gets home, her husband  eats one of the apples and finds it very tasty. The wife worries that something might happen to him after eating the apples, as she finds the vendor very suspicious. The next morning, when she wakes up, she is shocked to find an apple next to her instead of her husband. She is even more shocked when she realizes that her husband has turned into an apple after eating it. She runs outside and is astonished to see apples everywhere on the ground, after every person who has eaten them turned into them. The vendor then appears with an evil look, offering her his last apple for free.  In the fifth story an elderly man named John  is standing at a graveyard. A young man in sunglasses, Amar , drives by and gives John a lift. Amar asks John why he was at the graveyard, as he thinks that John's wife is dead so he might have come to visit her grave. But John says that it is actually he who is dead. Amar dismisses it as a joke. After some more conversation, Amar gets irritated by John's strange behavior. Amar then stops the car, gets out and asks John to get out. John then explains that he works for MTV Bakra  and Amar is the first person not to get scared. Amar says that he was not scared because he knew beforehand that John was not a ghost. He says that he knew this because he himself is a ghost. John thinks that Amar is now trying to play a prank to get back at him. Amar then takes off his sunglasses, revealing that his eyes are hollow. When John sees this, he dies of shock. Back to the friends around the bonfire, one by one, each friend had gone into the forest after each story was told. After the fifth story, only two friends are left, as none of the five have returned. The two of them start talking about other things when a man suddenly appears, sitting at a corner. The strange man  approaches the two and tells them that he has heard the five stories. He asks the boy out of the two friends to tell a story and narrates the following.  The sixth and final story is about a young student, Purab , and his love interest, Abhilasha . Purab contemplates suicide because Abhilasha rejects his advances and nobody else in his college likes him either. He sadly rants about not being special in front of an idol. Later, he discovers that he has developed an extraordinary ability - he can immobilize a particular person just by saying “Stop” to them. Purab uses his ability to freeze Abhilasha, and later imitates it to her by immobilizing a number of students in their college. Abhilasha, frightened of Purab's power, agrees to date him. Thereafter, Purab goes to his house and uses his power on his father on the way to his room. In his room, he, in delight of his ability, starts making plans to use his power. As he looks into the mirror, he says \"Stop\", which freezes him on the spot. His father finds him like that in his room, with a victorious smile frozen on his face. He is immediately rushed to the hospital but nothing can be done for him now.  The strange man tells the two friends that it is his turn now to tell a story. He tells them a story that they are partly familiar with. His story is the following: A group of seven friends are travelling when their car breaks down one night. They seek shelter under a ruined shack and start telling stories to each other to kill time. After each story, one friend in the group  goes out into the forest and gets killed, one by one, until only two are left. The two friends that are left stop telling stories to each other and the killer, who is now bored, comes out to them. The killer appears to be the very same strange man that is narrating this story. He says that his only reason for the murders is fear because he cannot stand it and would kill anyone who is scared. The man then kills the boy. The girl, Shruti , runs into the forest as fast as she can but the killer catches up with her and stabs her. She manages to kill the man before falling unconscious. When day breaks, Shruti awakes and walks up to the main road to find that the place is swarming with police and her friends' bodies are being taken into ambulances. Then she sees the killer standing by a car, smiling. Shruti points at the man and tries to tell the police that he is the murderer, but the police take no notice of her and appear not to hear her. The killer then points at a body, which she shockingly discovers to be her own. She realizes that she too is dead and is now a ghost, and watches their bodies being taken away with tears in her eyes. As she is watching, she is soon joined by the ghosts of her friends and the killer.\n",
      "\n",
      "\n"
     ]
    }
   ],
   "source": [
    "for recommendation in content_recommender(3401, 5):\n",
    "    print(recommendation)"
   ]
  },
  {
   "cell_type": "markdown",
   "metadata": {},
   "source": [
    "Παρατηρούμε ότι οι προτεινόμενες ταινίες δε φαίνεται να είναι σχετικές με το περιεχόμενο της ταινίας-στόχου, ενώ μια κοινή θεματική θα μπορούσε να είναι ο όρος **kill**. Γενικά η συνάρτηση συστάσεων σε συνδυασμό με τα δεδομένα στην παρούσα μορφή τους, δεν παρουσιάζουν ικανοποιητική απόδοση. Για αυτό το σκοπό θα προεπεξεργαστούμε το σύνολο των δεδομένων μας και θα επιχειρήσουμε να βελτιώσουμε την αρχικοποίηση του `TfidfVectorizer`."
   ]
  },
  {
   "cell_type": "markdown",
   "metadata": {
    "colab_type": "text",
    "id": "8IvHkTUHyu78"
   },
   "source": [
    "---\n",
    "\n",
    "### Βελτιστοποίηση"
   ]
  },
  {
   "cell_type": "markdown",
   "metadata": {},
   "source": [
    "Προς βελτίωση της συνάρτησης συστάσεων θα εισάγουμε αρχικά το σύνολο `stopwords`, μέσω του οποίου θα φιλτράρουμε το συνολικό μας `corpus`, ώστε να εξάγουμε από αυτό λέξεις με υψηλή συχνότητα εμφάνισης που σε γενικές γραμμές δεν είναι αντιπροσωπευτικές του βασικού περιεχομένου μίας ταινίας:"
   ]
  },
  {
   "cell_type": "code",
   "execution_count": 9,
   "metadata": {},
   "outputs": [],
   "source": [
    "import nltk\n",
    "from nltk.corpus import stopwords\n",
    "\n",
    "nltk.download('stopwords', quiet=True)\n",
    "\n",
    "stopwords_acc = stopwords.words('english')"
   ]
  },
  {
   "cell_type": "markdown",
   "metadata": {},
   "source": [
    "Στη συνέχεια θα ακολουθήσουμε τη διαδικασία [Stemming](https://en.wikipedia.org/wiki/Stemming). Για αυτό το σκοπό θα χρησιμοποιήσουμε τον `SnowballStemmer`. Αποτέλεσμα της διαδικασίας θα είναι η λίστα `corpus_stem`, η οποία βρίσκεται στην ακριβώς ίδια μορφή με την αρχική λίστα `corpus`, με μοναδική διαφορά εκείνη των επεξεργασμένων λέξεων. Σημειώνουμε ότι θα περάσουμε και το σύνολο `stopwords_acc` από τον `SnowballStemmer`, ώστε να είναι αποδοτική η μελλοντική μετατροπή του `corpus_stem` σε `corpus_tf_idf`."
   ]
  },
  {
   "cell_type": "code",
   "execution_count": 10,
   "metadata": {},
   "outputs": [],
   "source": [
    "from nltk.stem.snowball import SnowballStemmer\n",
    "\n",
    "stemmer = SnowballStemmer('english')\n",
    "\n",
    "corpus_stem_split = [[stemmer.stem(word) for word in summary.split(\" \")] for summary in corpus]\n",
    "corpus_stem = [\" \".join(sentence) for sentence in corpus_stem_split]\n",
    "\n",
    "stopwords_acc_stem = [stemmer.stem(word) for word in stopwords_acc]"
   ]
  },
  {
   "cell_type": "markdown",
   "metadata": {},
   "source": [
    "Συνεχίζουμε με την υλοποίηση της συνάρτηση `fetch_most_frequend_words`, η οποία επιστρέφει τις `n` τω πλήθος πιο συχνές λέξεις των συνόψεων των ταινιών μας. Σημειώνουμε ότι από τις παραπάνω λέξεις θα αγνοήσουμε εκείνες που ανήκουν στο σύνολο `stopwords_acc_stem`, ώστε να προσαρμόσουμε τα αποτελέσματά μας στα πλαίσια των ταινιών και κατά συνέπεια στα δεδομένα μας."
   ]
  },
  {
   "cell_type": "code",
   "execution_count": 11,
   "metadata": {},
   "outputs": [],
   "source": [
    "from sklearn.feature_extraction.text import CountVectorizer\n",
    "\n",
    "# Source: https://bit.ly/2TcFm2L\n",
    "def fetch_most_frequent_words(corpus, n=None):\n",
    "    \"\"\" Returns a list of most common words found in given corpus plus their respective values.\n",
    "    Stopwords for nltk package are excluded. \"\"\"\n",
    "    \n",
    "    vec = CountVectorizer(stop_words=stopwords_acc_stem).fit(corpus)\n",
    "    bag_of_words = vec.transform(corpus)\n",
    "    \n",
    "    sum_words = bag_of_words.sum(axis=0) \n",
    "    \n",
    "    words_freq = [(word, sum_words[0, idx]) for word, idx in vec.vocabulary_.items()]\n",
    "    words_freq =sorted(words_freq, key = lambda x: x[1], reverse=True)\n",
    "    \n",
    "    return words_freq[:n]"
   ]
  },
  {
   "cell_type": "markdown",
   "metadata": {},
   "source": [
    "Αρχικά θα εξετάσουμε τις λέξεις εκείνες που εμφανίζονται σε περισσότερες από 500 συνόψεις, τις οποίες θα αξιολογήσουμε ώστε να αποφανθούμε σχετικά με την εισαγωγή τους στο τελικό σύνολο `final_stopwords` που θα χρησιμοποιήσουμε. Κατά την αξιολόγηση θα προσπαθήσουμε να συμπεριλάβουμε εκείνες μονάχα τις λέξεις που η αφαίρεσή τους δε θα αλλοιώνει το βασικό πλαίσιο της ταινίας. Αξίζει να παρατηρήσουμε ότι αυτή η διαδικασία είναι \"χειροκίνητη\" και όχι απαραίτητα άρτια, δεδομένου ότι η προσωπική μας κρίση για την αφαίρεση ή όχι μιας λέξης μπορεί τελικά να αποδειχθεί λανθασμένη."
   ]
  },
  {
   "cell_type": "code",
   "execution_count": 12,
   "metadata": {
    "scrolled": true
   },
   "outputs": [
    {
     "name": "stdout",
     "output_type": "stream",
     "text": [
      "[('find', 3934), ('get', 3902), ('one', 3894), ('take', 3536), ('kill', 3386), ('tell', 3036), ('back', 2885), ('tri', 2762), ('film', 2739), ('two', 2616), ('father', 2600), ('make', 2532), ('love', 2473), ('man', 2328), ('leav', 2309), ('time', 2255), ('becom', 2250), ('go', 2240), ('see', 2224), ('come', 2176), ('return', 2133), ('new', 2107), ('friend', 2006), ('meet', 1981), ('life', 1981), ('help', 1966), ('day', 1963), ('home', 1955), ('end', 1943), ('later', 1928), ('also', 1878), ('begin', 1816), ('decid', 1796), ('mother', 1784), ('work', 1756), ('use', 1743), ('however', 1675), ('live', 1657), ('call', 1638), ('give', 1637), ('year', 1634), ('name', 1630), ('run', 1613), ('young', 1606), ('goe', 1576), ('ask', 1485), ('wife', 1483), ('fall', 1480), ('attempt', 1479), ('son', 1478), ('famili', 1472), ('first', 1462), ('show', 1455), ('girl', 1449), ('reveal', 1445), ('away', 1444), ('turn', 1442), ('start', 1415), ('way', 1405), ('discov', 1395), ('old', 1393), ('night', 1392), ('want', 1374), ('polic', 1349), ('final', 1348), ('arriv', 1323), ('death', 1321), ('car', 1292), ('fight', 1274), ('attack', 1264), ('daughter', 1260), ('say', 1255), ('woman', 1248), ('forc', 1230), ('follow', 1218), ('brother', 1194), ('head', 1188), ('money', 1184), ('plan', 1181), ('play', 1172), ('next', 1162), ('soon', 1160), ('set', 1152), ('know', 1151), ('men', 1148), ('order', 1141), ('hous', 1139), ('marri', 1136), ('stori', 1113), ('murder', 1109), ('town', 1105), ('look', 1102), ('escap', 1096), ('learn', 1067), ('boy', 1063), ('anoth', 1050), ('school', 1031), ('realiz', 1019), ('place', 1002), ('three', 983), ('like', 981), ('group', 972), ('lead', 965), ('well', 958), ('even', 947), ('world', 933), ('believ', 922), ('would', 919), ('die', 918), ('still', 914), ('manag', 908), ('room', 901), ('dead', 892), ('save', 890), ('eventu', 885), ('stop', 882), ('open', 878), ('meanwhile', 863), ('caus', 862), ('shoot', 850), ('visit', 848), ('dr', 843), ('children', 836), ('husband', 831), ('around', 824), ('sister', 815), ('hand', 814), ('jack', 807), ('move', 806), ('house', 793), ('break', 789), ('scene', 781), ('war', 780), ('last', 776), ('local', 773), ('sever', 771), ('tom', 767), ('peopl', 766), ('feel', 758), ('bring', 756), ('along', 753), ('left', 749), ('appear', 748), ('continu', 727), ('job', 726), ('fire', 719), ('train', 714), ('secret', 710), ('offer', 707), ('keep', 700), ('stay', 695), ('face', 692), ('offic', 689), ('put', 679), ('refus', 670), ('includ', 665), ('explain', 663), ('never', 662), ('team', 662), ('long', 657), ('inform', 654), ('convinc', 654), ('gang', 648), ('john', 647), ('send', 646), ('drive', 642), ('think', 642), ('gun', 636), ('relationship', 636), ('found', 633), ('walk', 626), ('child', 625), ('agre', 619), ('state', 618), ('join', 618), ('upon', 616), ('behind', 615), ('talk', 611), ('power', 609), ('part', 607), ('much', 606), ('chang', 605), ('must', 605), ('ship', 604), ('seem', 592), ('taken', 591), ('movi', 590), ('chase', 588), ('instead', 586), ('confront', 579), ('travel', 573), ('though', 570), ('littl', 570), ('high', 569), ('shot', 568), ('parent', 567), ('small', 567), ('person', 566), ('mani', 563), ('villag', 563), ('mari', 562), ('good', 559), ('destroy', 559), ('win', 558), ('former', 556), ('without', 555), ('search', 553), ('american', 551), ('need', 551), ('bodi', 550), ('mr', 549), ('enter', 548), ('dog', 546), ('claim', 545), ('sinc', 542), ('land', 539), ('let', 536), ('close', 536), ('watch', 536), ('allow', 535), ('despit', 532), ('thing', 532), ('success', 526), ('family', 522), ('lose', 522), ('prison', 518), ('rescu', 518), ('point', 517), ('accident', 515), ('doctor', 513), ('near', 510), ('real', 508), ('student', 508), ('pass', 504), ('water', 503), ('hear', 502), ('citi', 502), ('david', 502), ('togeth', 501)]\n"
     ]
    }
   ],
   "source": [
    "most_freq = []\n",
    "for word, freq in fetch_most_frequent_words(corpus_stem):\n",
    "    if freq >= 500:\n",
    "        most_freq.append((word, freq))\n",
    "print(most_freq)"
   ]
  },
  {
   "cell_type": "markdown",
   "metadata": {},
   "source": [
    "Μελετώντας τα παραπάνω θα δημιουργήσουμε τη λίστα `usefull_acc`, στην οποία θα προσθέσουμε λέξεις που θεωρούμε πως έχουν βαρύτητα στην υπόθεση της ταινίας και δε θα ήταν αποδοτικό να αφαιρεθούν κατά την υλοποίηση του συστήματος συστάσεών μας. Στη συνέχεια, θα συνθέσουμε το σύνολο `final_stopwords`, στο οποίο θα ανοίκουν λέξεις από την ένωση των συνόλων `stopwords_acc_stem` και `usefull_acc_stem`."
   ]
  },
  {
   "cell_type": "code",
   "execution_count": 13,
   "metadata": {},
   "outputs": [],
   "source": [
    "usefull = ['kill', 'father', 'love', 'new', 'friend', 'return', 'life', 'help', 'home', 'mother', 'run', 'young', 'wife', 'fall', 'attempt', 'son', 'famili', 'work', 'discov', 'polic', 'death', 'fight', 'attack', 'car', 'daughter', 'forc', 'brother', 'money', 'plan', 'hous', 'marri', 'murder', 'town', 'escap', 'school', 'girl', 'boy', 'group', 'world', 'die', 'room', 'dead', 'save', 'shoot', 'visit', 'children', 'husband', 'sister', 'hand', 'house', 'break', 'war', 'last', 'local', 'sever', 'feel', 'job', 'fire', 'train', 'secret', 'offer', 'face', 'offic', 'refus', 'team', 'gang', 'drive', 'gun', 'relationship', 'child', 'power', 'ship', 'chase', 'confront', 'travel', 'shot', 'parent', 'villag', 'destroy', 'win', 'former', 'search', 'american', 'bodi', 'dog', 'land', 'allow', 'success', 'family', 'lose', 'prison', 'rescu', 'accident', 'doctor', 'student', 'water', 'citi']\n",
    "usefull_acc_stem = set(usefull)\n",
    "\n",
    "most_freq_acc_stem = []\n",
    "for word in most_freq:\n",
    "    most_freq_acc_stem.append(word[0])\n",
    "\n",
    "final_stopwords = set(stopwords_acc_stem + most_freq_acc_stem)\n",
    "\n",
    "for word in usefull_acc_stem:\n",
    "    final_stopwords.remove(word)"
   ]
  },
  {
   "cell_type": "markdown",
   "metadata": {},
   "source": [
    "Σε αυτό το σημείο ολοκληρώσαμε τη διαδικασία της προεπεξεργασίας των δεδομένων μας. Θα συνεχίσουμε με τη βελτιστοποίηση του `TfidfVectorizer`. Πιο συγκεκριμένα, δεδομένης της παραπάνω διαδικασίας δε θα πειραματιστούμε με το όρισμα `max_df`, καθώς κάτι τέτοιο θα αφαιρούσε χρήσιμες, κατά την κρίση μας, λέξεις και συνολικά θα ακύρωνε τη λογική της υλοποίησής μας. Επίσης, δε θα χρειαστούμε και το όρισμα `lowercase`, καθώς οι λέξεις μας αποτελούνται ήδη από πεζά γράμματα έπειτα από τη διαδικασία *Stemming*. Τελικά, αρκεί να δοκιμάσουμε διαφορετικές τιμές για το όρισμα `min_df`."
   ]
  },
  {
   "cell_type": "code",
   "execution_count": 14,
   "metadata": {},
   "outputs": [
    {
     "data": {
      "text/plain": [
       "['corpus_tf_idf.pkl']"
      ]
     },
     "execution_count": 14,
     "metadata": {},
     "output_type": "execute_result"
    }
   ],
   "source": [
    "import joblib\n",
    "\n",
    "vectorizer = TfidfVectorizer(stop_words=final_stopwords, min_df=5)\n",
    "\n",
    "vectorizer.fit(corpus_stem)\n",
    "corpus_tf_idf = vectorizer.transform(corpus_stem)\n",
    "\n",
    "# Saving corpus_tf_idf\n",
    "joblib.dump(corpus_tf_idf, 'corpus_tf_idf.pkl') "
   ]
  },
  {
   "cell_type": "code",
   "execution_count": 15,
   "metadata": {},
   "outputs": [
    {
     "data": {
      "text/plain": [
       "(5000, 10914)"
      ]
     },
     "execution_count": 15,
     "metadata": {},
     "output_type": "execute_result"
    }
   ],
   "source": [
    "corpus_tf_idf.shape"
   ]
  },
  {
   "cell_type": "markdown",
   "metadata": {},
   "source": [
    "Παρατηρούμε ότι η παραπάνω προσέγγιση μειώνει τα χαρακτηριστικά μας κατά περίπου 30.000."
   ]
  },
  {
   "cell_type": "markdown",
   "metadata": {
    "colab_type": "text",
    "id": "NPVK7Z5c1p5F"
   },
   "source": [
    "---\n",
    "\n",
    "### Επεξήγηση Επιλογών, Ποιοτική Ερμηνεία και Παρατηρήσεις"
   ]
  },
  {
   "cell_type": "markdown",
   "metadata": {},
   "source": [
    "Κατά τη βελτίωση του `TfidfVectorizer` επιλέξαμε, όπως αναφέραμε και παραπάνω να μην μεταβάλλουμε το όρισμα `max_df`. Η προσέγγιση που επιλέξαμε είναι να αφαιρέσουμε τις πιο συχνά εμφανιζόμενες λέξεις, που όμως κατά τη γνώμη μας δε συνεισφέρουν στη σκιαγράφηση του πλαισίου μιας ταινίας. Κατά αυτόν τον τρόπο δεν αγνοούμε όρους που συνθέτουν το κεντρικό πλαίσιο ενός σεναρίου, εκτειθόμεθα ωστόσο στον κίνδυνο λανθασμένης κρίσης, καθώς δε μπορούμε να εξασφαλίσουμε ότι η προσωπική μας επιλογή είναι σωστή.\n",
    "\n",
    "Σχετικά με το όρισμα `min_df` επιλέξαμε να πειραματιστούμε με μικρές τιμές. Αυτό έχει αφενός το αποτέλεσμα ενός υψηλού αριθμού χαρακτηρισικών, αφετέρου όμως το σύστημα μας θα αναγνωρίζει καλύτερα πολυ συγκεκριμένες κατηγορίες ταινιών. Ένα παράδειγμα είναι η ταινία του [Alladin](https://imdb.to/2FF5hbq). Σύμφωνα με το σκεπτικό μας δε θα έχουν πολλές ταινίες τις θεματικές ενότητες του **genie** ή του **oil lamp**, γεγονός που σε περίπτωση αφαίρεσης των συγκεκριμένων όρων δε θα πέρναμε σαν αποτέλεσμα πλήρως συναφείς ταινίες. Σημειώνουμε ότι σε υψηλές τιμές του `min_df`, το σύστημα μας θα είχε γρηγορότερες αποδόσεις, για ένα πολύ γενικότερο, όμως, πλαίσιο ταινιών, όπως για παράδειγμα **war**.\n",
    "\n",
    "Στη συνέχεια παραθέτουμε 10 παραδείγματα ταινιών, για τις οποίες η συνάρτησή μας επιστρέφει ικανοποιητικά συναφή αποτελέσματα:\n",
    "\n",
    "> ID: 107 - *Little Manhattan* με θεματικές **parents** και **love**.\n",
    "\n",
    "> ID: 205 - *They Live by Night* με θεματικές  **rob** και **bank**.\n",
    "\n",
    "> ID: 390 - *Tom and Cherie* με θεματικές **tom** και **jerry**.\n",
    "\n",
    "> ID: 417 - *The Poseidon Adventure* με θεματικές **ship**, **crew**, **kill** και **bomb**.\n",
    "\n",
    "> ID: 1544 - *Deepstar Six* με θεματικές **water**, **ocean**, **crew**, **marine** και **surface**.\n",
    "\n",
    "> ID: 2805 - *Q Planes* με θεματικές **aircraft**, **pilot** και **kill**.\n",
    "\n",
    "> ID: 3055 - *30,000 Leagues Under the Sea* με θεματικές **ship**, **crew** και **rescue**.\n",
    "\n",
    "> ID: 3401 - *Ring 2* με θεματική **tape**.\n",
    "\n",
    "> ID: 3933 - *Scooby-Doo in Arabian Nights* με θεματικές **scooby**, **shaggy**, **prince** και **royal**.\n",
    "\n",
    "> ID: 4077 - *Seasons Change* με θεματικές **music**, **band**, **friend** και **rock**."
   ]
  },
  {
   "cell_type": "markdown",
   "metadata": {},
   "source": [
    "Σε γενικές γραμμές η διαδικασία βελτιστοποίησης που ακολουθήσαμε αποδείχθηκε χρήσιμη στην απόδοση του συστήματος συστάσεων. Παρατηρούμε ωστόσο ότι δεν συνοδεύονται όλες οι ταινίες από ανάλογες υψηλές αποδόσεις. Κάτι τέτοιο θα μπορούσε να οφείλεται στην ποιότητα του dataset, καθώς παρατηρούμε ότι ορισμένες ταινίες προσδιορίζονται από περίληψη, ενώ άλλες από συνόψεις, γεγονός που μεταβάλλει σημαντικά τη βαρύτητα δεδομένων λέξεων και όρων. Επίσης αξίζει να παρατηρήσουμε και την αδυναμία του συστήματός μας σε ότι αφορά τα ονομάτα χαρακτήρων. Παραπάνω παραθέσαμε δύο παραδείγματα όπου ο συγκεκριμένος διαχωρισμός αποδείχθηκε χρήσιμος, στοιχείο όμως το οποίο δεν ισχύει για την πλειονότητα των ταινιών."
   ]
  },
  {
   "cell_type": "markdown",
   "metadata": {
    "colab_type": "text",
    "id": "zHOQtO83PSy9"
   },
   "source": [
    "---\n",
    "\n",
    "## 2. Τοπολογική και σημασιολογική απεικόνιση ταινιών με χρήση SOM\n",
    "\n",
    "<img src=\"https://drive.google.com/uc?export=download&id=1R1R7Ds9UEfhjOY_fk_3wcTjsM0rI4WLl\" width=\"50%\" height=\"50%\">"
   ]
  },
  {
   "cell_type": "markdown",
   "metadata": {
    "colab_type": "text",
    "id": "UB_clmizPSy-"
   },
   "source": [
    "## Δημιουργία dataset\n",
    "Στη δεύτερη εφαρμογή θα βασιστούμε στις τοπολογικές ιδιότητες των Self Organizing Maps (SOM) για να φτιάξουμε ενά χάρτη (grid) δύο διαστάσεων όπου θα απεικονίζονται όλες οι ταινίες της συλλογής της ομάδας με τρόπο χωρικά συνεκτικό ως προς το περιεχόμενο και κυρίως το είδος τους. \n",
    "\n",
    "Η `build_final_set` αρχικά μετατρέπει την αραιή αναπαράσταση tf-idf της εξόδου της `TfidfVectorizer()` σε πυκνή (η [αραιή αναπαράσταση](https://en.wikipedia.org/wiki/Sparse_matrix) έχει τιμές μόνο για τα μη μηδενικά στοιχεία). \n",
    "\n",
    "Στη συνέχεια ενώνει την πυκνή `dense_tf_idf` αναπαράσταση και τις binarized κατηγορίες `catbins` των ταινιών ως επιπλέον στήλες (χαρακτηριστικά). Συνεπώς, κάθε ταινία αναπαρίσταται στο Vector Space Model από τα χαρακτηριστικά του TFIDF και τις κατηγορίες της.\n",
    "\n",
    "Τέλος, δέχεται ένα ορισμα για το πόσες ταινίες να επιστρέψει, με default τιμή όλες τις ταινίες (5000). Αυτό είναι χρήσιμο για να μπορείτε αν θέλετε να φτιάχνετε μικρότερα σύνολα δεδομένων ώστε να εκπαιδεύεται ταχύτερα το SOM.\n",
    "\n",
    "Σημειώστε ότι το IBM Watson δείνει \"Kernel dead\" εάν δεν έχετε βελτιστοποιήσει το tfidf και μικρύνει τις διαστάσεις του dataset (πιθανότατα κάποια υπέρβαση μνήμης)."
   ]
  },
  {
   "cell_type": "code",
   "execution_count": null,
   "metadata": {
    "colab": {},
    "colab_type": "code",
    "id": "U-FDDOkQPSzA"
   },
   "outputs": [],
   "source": [
    "def build_final_set(doc_limit = 5000, tf_idf_only=False):\n",
    "    # convert sparse tf_idf to dense tf_idf representation\n",
    "    dense_tf_idf = corpus_tf_idf.toarray()[0:doc_limit,:]\n",
    "    if tf_idf_only:\n",
    "        # use only tf_idf\n",
    "        final_set = dense_tf_idf\n",
    "    else:\n",
    "        # append the binary categories features horizontaly to the (dense) tf_idf features\n",
    "        final_set = np.hstack((dense_tf_idf, catbins[0:doc_limit,:]))\n",
    "        # η somoclu θέλει δεδομένα σε float32\n",
    "    return np.array(final_set, dtype=np.float32)"
   ]
  },
  {
   "cell_type": "code",
   "execution_count": null,
   "metadata": {
    "colab": {},
    "colab_type": "code",
    "id": "aF1B62UbPSzF"
   },
   "outputs": [],
   "source": [
    "final_set = build_final_set()"
   ]
  },
  {
   "cell_type": "markdown",
   "metadata": {
    "colab_type": "text",
    "id": "KjvPPENS_dYL"
   },
   "source": [
    "Τυπώνουμε τις διαστάσεις του τελικού dataset μας. Χωρίς βελτιστοποίηση του TFIDF θα έχουμε περίπου 50.000 χαρακτηριστικά."
   ]
  },
  {
   "cell_type": "code",
   "execution_count": null,
   "metadata": {
    "colab": {
     "base_uri": "https://localhost:8080/",
     "height": 34
    },
    "colab_type": "code",
    "executionInfo": {
     "elapsed": 766,
     "status": "ok",
     "timestamp": 1575901615232,
     "user": {
      "displayName": "Γιώργος Αλεξανδρίδης",
      "photoUrl": "https://lh3.googleusercontent.com/a-/AAuE7mAHgjbkpnVZpMkbe7ihkb3km8rd5_Hm0fOfRa_yBg=s64",
      "userId": "16422904839632337525"
     },
     "user_tz": -120
    },
    "id": "fvEgNn-L-jEw",
    "outputId": "de1a7e16-3689-4d38-bc93-f264b57a85b4"
   },
   "outputs": [],
   "source": [
    "final_set.shape"
   ]
  },
  {
   "cell_type": "markdown",
   "metadata": {
    "colab_type": "text",
    "id": "Om7PoyDVCqis"
   },
   "source": [
    "Με βάση την εμπειρία σας στην προετοιμασία των δεδομένων στην επιβλεπόμενη μάθηση, υπάρχει κάποιο βήμα προεπεξεργασίας που θα μπορούσε να εφαρμοστεί σε αυτό το dataset; "
   ]
  },
  {
   "cell_type": "markdown",
   "metadata": {
    "colab_type": "text",
    "id": "8tikdip0PSzQ"
   },
   "source": [
    "## Εκπαίδευση χάρτη SOM\n",
    "\n",
    "Θα δουλέψουμε με τη βιβλιοθήκη SOM [\"Somoclu\"](http://somoclu.readthedocs.io/en/stable/index.html). Εισάγουμε τις somoclu και matplotlib και λέμε στη matplotlib να τυπώνει εντός του notebook (κι όχι σε pop up window)."
   ]
  },
  {
   "cell_type": "code",
   "execution_count": null,
   "metadata": {
    "colab": {},
    "colab_type": "code",
    "id": "oX9rzxGSPSzR"
   },
   "outputs": [],
   "source": [
    "# install somoclu\n",
    "!pip install --upgrade somoclu\n",
    "# import sompoclu, matplotlib\n",
    "import somoclu\n",
    "import matplotlib\n",
    "# we will plot inside the notebook and not in separate window\n",
    "%matplotlib inline"
   ]
  },
  {
   "cell_type": "markdown",
   "metadata": {
    "colab_type": "text",
    "id": "EqBfn0ijPSzX"
   },
   "source": [
    "Καταρχάς διαβάστε το [function reference](http://somoclu.readthedocs.io/en/stable/reference.html) του somoclu. Θα δoυλέψουμε με χάρτη τύπου planar, παραλληλόγραμμου σχήματος νευρώνων με τυχαία αρχικοποίηση (όλα αυτά είναι default). Μπορείτε να δοκιμάσετε διάφορα μεγέθη χάρτη ωστόσο όσο ο αριθμός των νευρώνων μεγαλώνει, μεγαλώνει και ο χρόνος εκπαίδευσης. Για το training δεν χρειάζεται να ξεπεράσετε τα 100 epochs. Σε γενικές γραμμές μπορούμε να βασιστούμε στις default παραμέτρους μέχρι να έχουμε τη δυνατότητα να οπτικοποιήσουμε και να αναλύσουμε ποιοτικά τα αποτελέσματα. Ξεκινήστε με ένα χάρτη 10 x 10, 100 epochs training και ένα υποσύνολο των ταινιών (π.χ. 2000). Χρησιμοποιήστε την `time` για να έχετε μια εικόνα των χρόνων εκπαίδευσης. Ενδεικτικά, με σωστή κωδικοποίηση tf-idf, μικροί χάρτες για λίγα δεδομένα (1000-2000) παίρνουν γύρω στο ένα λεπτό ενώ μεγαλύτεροι χάρτες με όλα τα δεδομένα μπορούν να πάρουν 10-15 λεπτά ή και περισσότερο.\n"
   ]
  },
  {
   "cell_type": "markdown",
   "metadata": {
    "colab_type": "text",
    "id": "ntd2GE9SaHiS"
   },
   "source": [
    "\n",
    "## Best matching units\n",
    "\n",
    "Μετά από κάθε εκπαίδευση αποθηκεύστε σε μια μεταβλητή τα best matching units (bmus) για κάθε ταινία. Τα bmus μας δείχνουν σε ποιο νευρώνα ανήκει η κάθε ταινία. Προσοχή: η σύμβαση των συντεταγμένων των νευρώνων είναι (στήλη, γραμμή) δηλαδή το ανάποδο από την Python. Με χρήση της [np.unique](https://docs.scipy.org/doc/numpy-1.13.0/reference/generated/numpy.unique.html) (μια πολύ χρήσιμη συνάρτηση στην άσκηση) αποθηκεύστε τα μοναδικά best matching units και τους δείκτες τους (indices) προς τις ταινίες. Σημειώστε ότι μπορεί να έχετε λιγότερα μοναδικά bmus από αριθμό νευρώνων γιατί μπορεί σε κάποιους νευρώνες να μην έχουν ανατεθεί ταινίες. Ως αριθμό νευρώνα θα θεωρήσουμε τον αριθμό γραμμής στον πίνακα μοναδικών bmus.\n"
   ]
  },
  {
   "cell_type": "markdown",
   "metadata": {
    "colab_type": "text",
    "id": "grzqcyHyaKdg"
   },
   "source": [
    "\n",
    "## Ομαδοποίηση (clustering)\n",
    "\n",
    "Τυπικά, η ομαδοποίηση σε ένα χάρτη SOM προκύπτει από το unified distance matrix (U-matrix): για κάθε κόμβο υπολογίζεται η μέση απόστασή του από τους γειτονικούς κόμβους. Εάν χρησιμοποιηθεί μπλε χρώμα στις περιοχές του χάρτη όπου η τιμή αυτή είναι χαμηλή (μικρή απόσταση) και κόκκινο εκεί που η τιμή είναι υψηλή (μεγάλη απόσταση), τότε μπορούμε να πούμε ότι οι μπλε περιοχές αποτελούν clusters και οι κόκκινες αποτελούν σύνορα μεταξύ clusters.\n",
    "\n",
    "To somoclu δίνει την επιπρόσθετη δυνατότητα να κάνουμε ομαδοποίηση των νευρώνων χρησιμοποιώντας οποιονδήποτε αλγόριθμο ομαδοποίησης του scikit-learn. Στην άσκηση θα χρησιμοποιήσουμε τον k-Means. Για τον αρχικό σας χάρτη δοκιμάστε ένα k=20 ή 25. Οι δύο προσεγγίσεις ομαδοποίησης είναι διαφορετικές, οπότε περιμένουμε τα αποτελέσματα να είναι κοντά αλλά όχι τα ίδια.\n"
   ]
  },
  {
   "cell_type": "markdown",
   "metadata": {
    "colab_type": "text",
    "id": "2nupuqcuaMe3"
   },
   "source": [
    "\n",
    "## Αποθήκευση του SOM\n",
    "\n",
    "Επειδή η αρχικοποίηση του SOM γίνεται τυχαία και το clustering είναι και αυτό στοχαστική διαδικασία, οι θέσεις και οι ετικέτες των νευρώνων και των clusters θα είναι διαφορετικές κάθε φορά που τρέχετε τον χάρτη, ακόμα και με τις ίδιες παραμέτρους. Για να αποθηκεύσετε ένα συγκεκριμένο som και clustering χρησιμοποιήστε και πάλι την `joblib`. Μετά την ανάκληση ενός SOM θυμηθείτε να ακολουθήσετε τη διαδικασία για τα bmus.\n"
   ]
  },
  {
   "cell_type": "markdown",
   "metadata": {
    "colab_type": "text",
    "id": "ejX0Qs18aRHU"
   },
   "source": [
    "\n",
    "## Οπτικοποίηση U-matrix, clustering και μέγεθος clusters\n",
    "\n",
    "Για την εκτύπωση του U-matrix χρησιμοποιήστε τη `view_umatrix` με ορίσματα `bestmatches=True` και `figsize=(15, 15)` ή `figsize=(20, 20)`. Τα διαφορετικά χρώματα που εμφανίζονται στους κόμβους αντιπροσωπεύουν τα διαφορετικά clusters που προκύπτουν από τον k-Means. Μπορείτε να εμφανίσετε τη λεζάντα του U-matrix με το όρισμα `colorbar`. Μην τυπώνετε τις ετικέτες (labels) των δειγμάτων, είναι πολύ μεγάλος ο αριθμός τους.\n",
    "\n",
    "Για μια δεύτερη πιο ξεκάθαρη οπτικοποίηση του clustering τυπώστε απευθείας τη μεταβλητή `clusters`.\n",
    "\n",
    "Τέλος, χρησιμοποιώντας πάλι την `np.unique` (με διαφορετικό όρισμα) και την `np.argsort` (υπάρχουν και άλλοι τρόποι υλοποίησης) εκτυπώστε τις ετικέτες των clusters (αριθμοί από 0 έως k-1) και τον αριθμό των νευρώνων σε κάθε cluster, με φθίνουσα ή αύξουσα σειρά ως προς τον αριθμό των νευρώνων. Ουσιαστικά είναι ένα εργαλείο για να βρίσκετε εύκολα τα μεγάλα και μικρά clusters. \n",
    "\n",
    "Ακολουθεί ένα μη βελτιστοποιημένο παράδειγμα για τις τρεις προηγούμενες εξόδους:\n",
    "\n",
    "<img src=\"https://image.ibb.co/i0tsfR/umatrix_s.jpg\" width=\"35%\">\n",
    "<img src=\"https://image.ibb.co/nLgHEm/clusters.png\" width=\"35%\">\n",
    "\n"
   ]
  },
  {
   "cell_type": "markdown",
   "metadata": {
    "colab_type": "text",
    "id": "fMO_KcQYaTv-"
   },
   "source": [
    "\n",
    "## Σημασιολογική ερμηνεία των clusters\n",
    "\n",
    "Προκειμένου να μελετήσουμε τις τοπολογικές ιδιότητες του SOM και το αν έχουν ενσωματώσει σημασιολογική πληροφορία για τις ταινίες διαμέσου της διανυσματικής αναπαράστασης με το tf-idf και των κατηγοριών, χρειαζόμαστε ένα κριτήριο ποιοτικής επισκόπησης των clusters. Θα υλοποιήσουμε το εξής κριτήριο: Λαμβάνουμε όρισμα έναν αριθμό (ετικέτα) cluster. Για το cluster αυτό βρίσκουμε όλους τους νευρώνες που του έχουν ανατεθεί από τον k-Means. Για όλους τους νευρώνες αυτούς βρίσκουμε όλες τις ταινίες που τους έχουν ανατεθεί (για τις οποίες αποτελούν bmus). Για όλες αυτές τις ταινίες τυπώνουμε ταξινομημένη τη συνολική στατιστική όλων των ειδών (κατηγοριών) και τις συχνότητές τους. Αν το cluster διαθέτει καλή συνοχή και εξειδίκευση, θα πρέπει κάποιες κατηγορίες να έχουν σαφώς μεγαλύτερη συχνότητα από τις υπόλοιπες. Θα μπορούμε τότε να αναθέσουμε αυτήν/ές την/τις κατηγορία/ες ως ετικέτες κινηματογραφικού είδους στο cluster.\n",
    "\n",
    "Μπορείτε να υλοποιήσετε τη συνάρτηση αυτή όπως θέλετε. Μια πιθανή διαδικασία θα μπορούσε να είναι η ακόλουθη:\n",
    "\n",
    "1. Ορίζουμε συνάρτηση `print_categories_stats` που δέχεται ως είσοδο λίστα με ids ταινιών. Δημιουργούμε μια κενή λίστα συνολικών κατηγοριών. Στη συνέχεια, για κάθε ταινία επεξεργαζόμαστε το string `categories` ως εξής: δημιουργούμε μια λίστα διαχωρίζοντας το string κατάλληλα με την `split` και αφαιρούμε τα whitespaces μεταξύ ετικετών με την `strip`. Προσθέτουμε τη λίστα αυτή στη συνολική λίστα κατηγοριών με την `extend`. Τέλος χρησιμοποιούμε πάλι την `np.unique` για να μετρήσουμε συχνότητα μοναδικών ετικετών κατηγοριών και ταξινομούμε με την `np.argsort`. Τυπώνουμε τις κατηγορίες και τις συχνότητες εμφάνισης ταξινομημένα. Χρήσιμες μπορεί να σας φανούν και οι `np.ravel`, `np.nditer`, `np.array2string` και `zip`.\n",
    "\n",
    "2. Ορίζουμε τη βασική μας συνάρτηση `print_cluster_neurons_movies_report` που δέχεται ως όρισμα τον αριθμό ενός cluster. Με τη χρήση της `np.where` μπορούμε να βρούμε τις συντεταγμένες των bmus που αντιστοιχούν στο cluster και με την `column_stack` να φτιάξουμε έναν πίνακα bmus για το cluster. Προσοχή στη σειρά (στήλη - σειρά) στον πίνακα bmus. Για κάθε bmu αυτού του πίνακα ελέγχουμε αν υπάρχει στον πίνακα μοναδικών bmus που έχουμε υπολογίσει στην αρχή συνολικά και αν ναι προσθέτουμε το αντίστοιχο index του νευρώνα σε μια λίστα. Χρήσιμες μπορεί να είναι και οι `np.rollaxis`, `np.append`, `np.asscalar`. Επίσης πιθανώς να πρέπει να υλοποιήσετε ένα κριτήριο ομοιότητας μεταξύ ενός bmu και ενός μοναδικού bmu από τον αρχικό πίνακα bmus.\n",
    "\n",
    "3. Υλοποιούμε μια βοηθητική συνάρτηση `neuron_movies_report`. Λαμβάνει ένα σύνολο νευρώνων από την `print_cluster_neurons_movies_report` και μέσω της `indices` φτιάχνει μια λίστα με το σύνολο ταινιών που ανήκουν σε αυτούς τους νευρώνες. Στο τέλος καλεί με αυτή τη λίστα την `print_categories_stats` που τυπώνει τις στατιστικές των κατηγοριών.\n",
    "\n",
    "Μπορείτε βέβαια να προσθέσετε οποιαδήποτε επιπλέον έξοδο σας βοηθάει. Μια χρήσιμη έξοδος είναι πόσοι νευρώνες ανήκουν στο cluster και σε πόσους και ποιους από αυτούς έχουν ανατεθεί ταινίες.\n",
    "\n",
    "Θα επιτελούμε τη σημασιολογική ερμηνεία του χάρτη καλώντας την `print_cluster_neurons_movies_report` με τον αριθμός ενός cluster που μας ενδιαφέρει. \n",
    "\n",
    "Παράδειγμα εξόδου για ένα cluster (μη βελτιστοποιημένος χάρτης, ωστόσο βλέπετε ότι οι μεγάλες κατηγορίες έχουν σημασιολογική  συνάφεια):\n",
    "\n",
    "```\n",
    "Overall Cluster Genres stats:  \n",
    "[('\"Horror\"', 86), ('\"Science Fiction\"', 24), ('\"B-movie\"', 16), ('\"Monster movie\"', 10), ('\"Creature Film\"', 10), ('\"Indie\"', 9), ('\"Zombie Film\"', 9), ('\"Slasher\"', 8), ('\"World cinema\"', 8), ('\"Sci-Fi Horror\"', 7), ('\"Natural horror films\"', 6), ('\"Supernatural\"', 6), ('\"Thriller\"', 6), ('\"Cult\"', 5), ('\"Black-and-white\"', 5), ('\"Japanese Movies\"', 4), ('\"Short Film\"', 3), ('\"Drama\"', 3), ('\"Psychological thriller\"', 3), ('\"Crime Fiction\"', 3), ('\"Monster\"', 3), ('\"Comedy\"', 2), ('\"Western\"', 2), ('\"Horror Comedy\"', 2), ('\"Archaeology\"', 2), ('\"Alien Film\"', 2), ('\"Teen\"', 2), ('\"Mystery\"', 2), ('\"Adventure\"', 2), ('\"Comedy film\"', 2), ('\"Combat Films\"', 1), ('\"Chinese Movies\"', 1), ('\"Action/Adventure\"', 1), ('\"Gothic Film\"', 1), ('\"Costume drama\"', 1), ('\"Disaster\"', 1), ('\"Docudrama\"', 1), ('\"Film adaptation\"', 1), ('\"Film noir\"', 1), ('\"Parody\"', 1), ('\"Period piece\"', 1), ('\"Action\"', 1)]```\n",
    "   "
   ]
  },
  {
   "cell_type": "markdown",
   "metadata": {
    "colab_type": "text",
    "id": "lq4QrImhaa7E"
   },
   "source": [
    "\n",
    "## Tips για το SOM και το clustering\n",
    "\n",
    "- Για την ομαδοποίηση ένα U-matrix καλό είναι να εμφανίζει και μπλε-πράσινες περιοχές (clusters) και κόκκινες περιοχές (ορίων). Παρατηρήστε ποια σχέση υπάρχει μεταξύ αριθμού ταινιών στο final set, μεγέθους grid και ποιότητας U-matrix.\n",
    "- Για το k του k-Means προσπαθήστε να προσεγγίζει σχετικά τα clusters του U-matrix (όπως είπαμε είναι διαφορετικοί μέθοδοι clustering). Μικρός αριθμός k δεν θα σέβεται τα όρια. Μεγάλος αριθμός θα δημιουργεί υπο-clusters εντός των clusters που φαίνονται στο U-matrix. Το τελευταίο δεν είναι απαραίτητα κακό, αλλά μεγαλώνει τον αριθμό clusters που πρέπει να αναλυθούν σημασιολογικά.\n",
    "- Σε μικρούς χάρτες και με μικρά final sets δοκιμάστε διαφορετικές παραμέτρους για την εκπαίδευση του SOM. Σημειώστε τυχόν παραμέτρους που επηρεάζουν την ποιότητα του clustering για το dataset σας ώστε να τις εφαρμόσετε στους μεγάλους χάρτες.\n",
    "- Κάποια τοπολογικά χαρακτηριστικά εμφανίζονται ήδη σε μικρούς χάρτες. Κάποια άλλα χρειάζονται μεγαλύτερους χάρτες. Δοκιμάστε μεγέθη 20x20, 25x25 ή και 30x30 και αντίστοιχη προσαρμογή των k. Όσο μεγαλώνουν οι χάρτες, μεγαλώνει η ανάλυση του χάρτη αλλά μεγαλώνει και ο αριθμός clusters που πρέπει να αναλυθούν.\n"
   ]
  },
  {
   "cell_type": "markdown",
   "metadata": {
    "colab_type": "text",
    "id": "x4IUl8O8ayVf"
   },
   "source": [
    "\n",
    "\n",
    "## Ανάλυση τοπολογικών ιδιοτήτων χάρτη SOM\n",
    "\n",
    "Μετά το πέρας της εκπαίδευσης και του clustering θα έχετε ένα χάρτη με τοπολογικές ιδιότητες ως προς τα είδη των ταίνιών της συλλογής σας, κάτι αντίστοιχο με την εικόνα στην αρχή της Εφαρμογής 2 αυτού του notebook (η συγκεκριμένη εικόνα είναι μόνο για εικονογράφιση, δεν έχει καμία σχέση με τη συλλογή δεδομένων και τις κατηγορίες μας).\n",
    "\n",
    "Για τον τελικό χάρτη SOM που θα παράξετε για τη συλλογή σας, αναλύστε σε markdown με συγκεκριμένη αναφορά σε αριθμούς clusters και τη σημασιολογική ερμηνεία τους τις εξής τρεις τοπολογικές ιδιότητες του SOM: \n",
    "\n",
    "1. Δεδομένα που έχουν μεγαλύτερη πυκνότητα πιθανότητας στο χώρο εισόδου τείνουν να απεικονίζονται με περισσότερους νευρώνες στο χώρο μειωμένης διαστατικότητας. Δώστε παραδείγματα από συχνές και λιγότερο συχνές κατηγορίες ταινιών. Χρησιμοποιήστε τις στατιστικές των κατηγοριών στη συλλογή σας και τον αριθμό κόμβων που χαρακτηρίζουν.\n",
    "2. Μακρινά πρότυπα εισόδου τείνουν να απεικονίζονται απομακρυσμένα στο χάρτη. Υπάρχουν χαρακτηριστικές κατηγορίες ταινιών που ήδη από μικρούς χάρτες τείνουν να τοποθετούνται σε διαφορετικά ή απομονωμένα σημεία του χάρτη.\n",
    "3. Κοντινά πρότυπα εισόδου τείνουν να απεικονίζονται κοντά στο χάρτη. Σε μεγάλους χάρτες εντοπίστε είδη ταινιών και κοντινά τους υποείδη.\n",
    "\n",
    "Προφανώς τοποθέτηση σε 2 διαστάσεις που να σέβεται μια απόλυτη τοπολογία δεν είναι εφικτή, αφενός γιατί δεν υπάρχει κάποια απόλυτη εξ ορισμού για τα κινηματογραφικά είδη ακόμα και σε πολλές διαστάσεις, αφετέρου γιατί πραγματοποιούμε μείωση διαστατικότητας.\n",
    "\n",
    "Εντοπίστε μεγάλα clusters και μικρά clusters που δεν έχουν σαφή χαρακτηριστικά. Εντοπίστε clusters συγκεκριμένων ειδών που μοιάζουν να μην έχουν τοπολογική συνάφεια με γύρω περιοχές. Προτείνετε πιθανές ερμηνείες.\n",
    "\n",
    "\n",
    "\n",
    "Τέλος, εντοπίστε clusters που έχουν κατά την άποψή σας ιδιαίτερο ενδιαφέρον στη συλλογή της ομάδας σας (data exploration / discovery value) και σχολιάστε.\n"
   ]
  },
  {
   "cell_type": "markdown",
   "metadata": {
    "colab_type": "text",
    "id": "tYjxGR5DawIy"
   },
   "source": [
    "\n",
    "# Τελική παράδοση άσκησης\n",
    "\n",
    "- Θα παραδώσετε στο mycourses το παρόν notebook επεξεργασμένο με τις απαντήσεις σας για τα ζητούμενα και των δύο εφαρμογών. \n",
    "- Προσέξτε ώστε να **απαντήσετε σε όλα τα σημεία όπου απαιτείται**.\n",
    "- Μαζί Θα παραδώσετε τα joblib dumps των τελικών `corpus_tf_idf.pkl` και `som.pkl` (μεγάλος χάρτης - 5000 ταινίες) που θα χρησιμοποιήσετε. Θυμηθείτε ότι η ανάλυση του χάρτη στο markdown με αναφορά σε αριθμούς clusters πρέπει να αναφέρεται στο dump του χάρτη που θα μας παραδώσετε αλλιώς ο χάρτης που θα προκύψει θα είναι διαφορετικός και τα labels των clusters δεν θα αντιστοιχούν στην ανάλυσή σας. Οδηγίες για την αποθήκευση των dumps θα βρείτε στο [FAQ](https://docs.google.com/document/d/1-E4eQkVnTxa3Jb0HL9OAs11bugYRRZ7RNWpu7yh9G4s/edit?usp=sharing). \n",
    "- Μην ξεχάσετε στην αρχή ένα κελί markdown με **τα στοιχεία της ομάδας σας**.\n",
    "- Στο **zip** που θα παραδώσετε πρέπει να βρίσκονται **4 αρχεία (το .ipynb και το .py του notebook καθώς και τα δύο .pkl)**\n",
    "- **Το maximum upload filesize στο mycourses είναι 29MB**, εάν το zip σας είναι μεγαλύτερο, δεν έχετε βελτιστοποιήσει το tfidf."
   ]
  },
  {
   "cell_type": "markdown",
   "metadata": {
    "colab_type": "text",
    "id": "UHhCkvxjnitd"
   },
   "source": [
    "<table>\n",
    "  <tr><td align=\"center\">\n",
    "    <font size=\"4\">Παρακαλούμε διατρέξτε βήμα-βήμα το notebook για να μην ξεχάσετε παραδοτέα!</font>\n",
    "</td>\n",
    "  </tr>\n",
    "</table>"
   ]
  },
  {
   "cell_type": "markdown",
   "metadata": {
    "colab_type": "text",
    "id": "a-FvmQai5S9m"
   },
   "source": [
    "## Ημερομηνία παράδοσης ##\n",
    "\n",
    "Κυριακή 19 Ιανουαρίου 2020.\n",
    "\n",
    "Καλή επιτυχία!\n"
   ]
  }
 ],
 "metadata": {
  "colab": {
   "name": "Άσκηση 2 Εκφώνηση.ipynb",
   "provenance": []
  },
  "kernelspec": {
   "display_name": "Python 3",
   "language": "python",
   "name": "python3"
  },
  "language_info": {
   "codemirror_mode": {
    "name": "ipython",
    "version": 3
   },
   "file_extension": ".py",
   "mimetype": "text/x-python",
   "name": "python",
   "nbconvert_exporter": "python",
   "pygments_lexer": "ipython3",
   "version": "3.7.5"
  }
 },
 "nbformat": 4,
 "nbformat_minor": 1
}
