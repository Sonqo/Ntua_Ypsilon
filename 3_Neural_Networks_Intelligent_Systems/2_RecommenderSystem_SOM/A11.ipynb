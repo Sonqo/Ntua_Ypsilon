{
 "cells": [
  {
   "cell_type": "markdown",
   "metadata": {
    "colab_type": "text",
    "id": "hLFXD3IePSyL"
   },
   "source": [
    "## Στοιχεία Ομάδας\n",
    "\n",
    "Αριθμός Ομάδας: Μ.Α.11\n",
    "\n",
    "    > Καρυπιάδης Ευστράτιος: 03114911"
   ]
  },
  {
   "cell_type": "code",
   "execution_count": 1,
   "metadata": {},
   "outputs": [],
   "source": [
    "# import warnings\n",
    "# warnings.filterwarnings('ignore')"
   ]
  },
  {
   "cell_type": "markdown",
   "metadata": {
    "colab_type": "text",
    "id": "UTNgwBfjPSyc"
   },
   "source": [
    "## 1. Υλοποίηση συστήματος συστάσεων ταινιών βασισμένο στο περιεχόμενο\n",
    "<img src=\"http://clture.org/wp-content/uploads/2015/12/Netflix-Streaming-End-of-Year-Posts.jpg\" width=\"70%\">"
   ]
  },
  {
   "cell_type": "markdown",
   "metadata": {
    "colab_type": "text",
    "id": "aViHqlQcPSyP"
   },
   "source": [
    "### Εισαγωγή του Dataset"
   ]
  },
  {
   "cell_type": "markdown",
   "metadata": {
    "colab_type": "text",
    "id": "2ZVmdDExPSyQ"
   },
   "source": [
    "Το σύνολο δεδομένων με το οποίο θα δουλέψουμε είναι βασισμένο στο [Carnegie Mellon Movie Summary Corpus](http://www.cs.cmu.edu/~ark/personas/). Πρόκειται για ένα dataset με περίπου 40.000 περιγραφές ταινιών. Η περιγραφή κάθε ταινίας αποτελείται από τον τίτλο της, μια ή περισσότερες ετικέτες που χαρακτηρίζουν το είδος της ταινίας και τέλος τη σύνοψη της υπόθεσής της. Αρχικά εισάγουμε το dataset στο dataframe `df_data_1`: "
   ]
  },
  {
   "cell_type": "code",
   "execution_count": 2,
   "metadata": {
    "colab": {},
    "colab_type": "code",
    "id": "62SOj46gPSyS"
   },
   "outputs": [],
   "source": [
    "import pandas as pd\n",
    "\n",
    "dataset_url = 'data/movieDBe.csv'\n",
    "df_data_1 = pd.read_csv(dataset_url, sep='\\t',  header=None, quoting=3, error_bad_lines=False)"
   ]
  },
  {
   "cell_type": "markdown",
   "metadata": {},
   "source": [
    "Θα δουλέψουμε σε ένα υποσύνολο 5.000 ταινιών ανάλογα με το seed της ομάδας μας:"
   ]
  },
  {
   "cell_type": "code",
   "execution_count": 3,
   "metadata": {
    "colab": {},
    "colab_type": "code",
    "id": "2POlqDjkPSyY"
   },
   "outputs": [],
   "source": [
    "import numpy as np\n",
    "\n",
    "# Seed Number: 11\n",
    "team_seed_number = 11\n",
    "\n",
    "movie_seeds_url = 'data/seeds2019.csv'\n",
    "df_data_2 = pd.read_csv(movie_seeds_url, header=None, error_bad_lines=False)\n",
    "\n",
    "my_index = df_data_2.iloc[team_seed_number, :].values\n",
    "\n",
    "titles = df_data_1.iloc[:, [2]].values[my_index]\n",
    "categories = df_data_1.iloc[:, [3]].values[my_index]\n",
    "bins = df_data_1.iloc[:, [4]]\n",
    "catbins = bins[4].str.split(',', expand=True).values.astype(np.float)[my_index]\n",
    "summaries =  df_data_1.iloc[:, [5]].values[my_index] \n",
    "corpus = summaries[:, 0].tolist() # list form of summaries"
   ]
  },
  {
   "cell_type": "markdown",
   "metadata": {
    "colab_type": "text",
    "id": "If66lkwxPSyb"
   },
   "source": [
    "- Ο πίνακας **titles** περιέχει τους τίτλους των ταινιών.\n",
    "\n",
    "- O πίνακας **categories** περιέχει τις κατηγορίες της ταινίας υπό τη μορφή string. Παρατηρούμε ότι είναι μια comma-separated λίστα strings, με κάθε string να είναι μια κατηγορία.\n",
    "\n",
    "- Ο πίνακας **catbins** περιλαμβάνει πάλι τις κατηγορίες των ταινιών αλλά σε δυαδική μορφή μέσω *One-Hot-Encoding*.\n",
    "\n",
    "- Ο πίνακας **summaries** και η λίστα **corpus** περιλαμβάνουν τις συνόψεις των ταινιών με την corpus είναι ο πίνακας summaries σε μορφή λίστας. Κάθε σύνοψη είναι σε μορφή string.\n",
    "\n",
    "- Θεωρούμε ως **id** της κάθε ταινίας τον αριθμό γραμμής της ή το αντίστοιχο στοιχείο της λίστας."
   ]
  },
  {
   "cell_type": "markdown",
   "metadata": {
    "colab_type": "text",
    "id": "rnA2RP8GPSyf"
   },
   "source": [
    "Στη συνέχεια της άσκησης θα υλοποιήσουμε ένα *Content Based Recommender System*."
   ]
  },
  {
   "cell_type": "markdown",
   "metadata": {
    "colab_type": "text",
    "id": "DD5KuSKrxQ8I"
   },
   "source": [
    "### Μετατροπή σε TF - IDF\n",
    "\n",
    "Το πρώτο βήμα θα είναι λοιπόν να μετατρέψουμε το corpus σε αναπαράσταση *Term Frequency-Inverse Document Frequency (TD-IDF)*:"
   ]
  },
  {
   "cell_type": "code",
   "execution_count": 4,
   "metadata": {
    "colab": {},
    "colab_type": "code",
    "id": "s5YP6XCZPSyh"
   },
   "outputs": [],
   "source": [
    "from sklearn.feature_extraction.text import TfidfVectorizer\n",
    "\n",
    "vectorizer = TfidfVectorizer()\n",
    "vectorizer.fit(corpus)\n",
    "corpus_tf_idf = vectorizer.transform(corpus)"
   ]
  },
  {
   "cell_type": "markdown",
   "metadata": {
    "colab_type": "text",
    "id": "H-uRZK3EPSyl"
   },
   "source": [
    "Σημειώνουμε πως η συνάρτηση [TfidfVectorizer](http://scikit-learn.org/stable/modules/generated/sklearn.feature_extraction.text.TfidfVectorizer.html) όπως καλείται εδώ δεν είναι βελτιστοποιημένη."
   ]
  },
  {
   "cell_type": "code",
   "execution_count": 5,
   "metadata": {
    "colab": {
     "base_uri": "https://localhost:8080/",
     "height": 34
    },
    "colab_type": "code",
    "executionInfo": {
     "elapsed": 801,
     "status": "ok",
     "timestamp": 1575901068438,
     "user": {
      "displayName": "Γιώργος Αλεξανδρίδης",
      "photoUrl": "https://lh3.googleusercontent.com/a-/AAuE7mAHgjbkpnVZpMkbe7ihkb3km8rd5_Hm0fOfRa_yBg=s64",
      "userId": "16422904839632337525"
     },
     "user_tz": -120
    },
    "id": "y_Cw0brpnisF",
    "outputId": "f8c6d54d-7ee0-474f-e55c-0fe497454b8f"
   },
   "outputs": [
    {
     "data": {
      "text/plain": [
       "(5000, 48526)"
      ]
     },
     "execution_count": 5,
     "metadata": {},
     "output_type": "execute_result"
    }
   ],
   "source": [
    "corpus_tf_idf.shape"
   ]
  },
  {
   "cell_type": "markdown",
   "metadata": {},
   "source": [
    "### Υλοποίηση Συστήματος Συστάσεων\n",
    "\n",
    "Θα δημιουργήσουμε τη συνάρτηση `content_recommender` με ορίσματα `target_movie` και `max_recommendations`. Πιο συγκεκριμένα, θα υπολογίζουμε για κάθε ταινία-στόχο την [ομοιότητα συνημιτόνου](https://scikit-learn.org/stable/modules/generated/sklearn.metrics.pairwise.cosine_similarity.html) από το `corpus_tf_idf` με όλες τις υπόλοιπες ταινίες, ενώ στη συνέχεια θα ταξινομούμε τις αντίστοιχες ομοιότητες ως προς το *index* της εκάστοτε ταινίας. Η συνάρτησή μας θα επιστρέφει το id, τον τίτλο, την κατηγορία και τη σύνοψη τόσο της ταινίας-στόχου, όσο και των `max_recommendations` τω πλήθος συναφών ταινιών."
   ]
  },
  {
   "cell_type": "code",
   "execution_count": 6,
   "metadata": {},
   "outputs": [],
   "source": [
    "from sklearn.metrics.pairwise import cosine_similarity\n",
    "\n",
    "def content_recommender(target_movie, max_recommendations):\n",
    "    \"\"\" Returns ID, Title, Genre and Summary of target_movie and #max_recommendation movies respectively. \n",
    "    Metric used: Cosine Similarity. \"\"\"\n",
    "    \n",
    "    target_index = np.where(titles == target_movie)[0][0] # fetch target movie index\n",
    "    distances = np.zeros((corpus_tf_idf.shape[0]))\n",
    "    for i in range(corpus_tf_idf.shape[0]):\n",
    "        distances[i] = cosine_similarity(corpus_tf_idf[target_index], corpus_tf_idf[i])\n",
    "        \n",
    "#     distances_values = np.sort(distances) # ascending order of values\n",
    "    distances_slices = np.argsort(distances) # ascending order of indexes\n",
    "#     distances_values_descending = distances_values[::-1] # reverse\n",
    "    distances_slices_descending = distances_slices[::-1]\n",
    "    \n",
    "    result = distances_slices_descending[:max_recommendations+1]\n",
    "#     for i in range(max_recommendations+1):\n",
    "#         if distances_values_descending[i] >= 0.25: # keep results with similarity higher than 0.25\n",
    "#             result.append(distances_slices_descending[i])\n",
    "        \n",
    "    for movie in result:\n",
    "        yield(\"Movie Title: \" + titles[movie][0] + \" - Genre: \" + categories[movie][0] + \" ID: \" + str(movie) +\n",
    "              \"\\n\" + summaries[movie][0] + \"\\n\\n\")"
   ]
  },
  {
   "cell_type": "markdown",
   "metadata": {
    "colab_type": "text",
    "id": "8IvHkTUHyu78"
   },
   "source": [
    "### Βελτιστοποίηση"
   ]
  },
  {
   "cell_type": "markdown",
   "metadata": {},
   "source": [
    "Προς βελτίωση της παραπάνω συνάρτησης συστάσεων θα ακολουθήσουμε αρχικά τη διαδικασία [Stemming](https://en.wikipedia.org/wiki/Stemming). Για αυτό το σκοπό θα χρησιμοποιήσουμε τον `PorterStemmer` από το πακέτο `nltk`. Αποτέλεσμα της διαδικασίας θα είναι η λίστα `corpus_stem`, η οποία βρίσκεται στην ακριβώς ίδια μορφή με την αρχική λίστα `corpus`, με μοναδική διαφορά εκείνη των επεξεργασμένων λέξεων."
   ]
  },
  {
   "cell_type": "code",
   "execution_count": 7,
   "metadata": {},
   "outputs": [],
   "source": [
    "from nltk.stem.porter import PorterStemmer\n",
    "\n",
    "porter_stemmer = PorterStemmer()\n",
    "\n",
    "# https://bit.ly/35E3kqz\n",
    "corpus_stem_split = [[porter_stemmer.stem(word) for word in summary.split(\" \")] for summary in corpus]\n",
    "corpus_stem = [\" \".join(sentence) for sentence in corpus_stem_split]"
   ]
  },
  {
   "cell_type": "markdown",
   "metadata": {},
   "source": [
    "Συνεχίζουμε με την υλοποίηση της συνάρτηση `fetch_most_frequend_words`, η οποία επιστρέφει τις `n` τω πλήθος πιο συχνές λέξεις των συνόψεων των ταινιών μας. Σημειώνουμε ότι από τις παραπάνω λέξεις θα αγνοήσουμε εκείνες που ανήκουν στο σύνολο `nltk.stopwords`, ώστε να προσαρμόσουμε τα αποτελέσματά μας στα πλαίσια των ταινιών και κατά συνέπεια στα δεδομένα μας."
   ]
  },
  {
   "cell_type": "code",
   "execution_count": 9,
   "metadata": {},
   "outputs": [],
   "source": [
    "from sklearn.feature_extraction.text import CountVectorizer\n",
    "\n",
    "# Source: https://bit.ly/2TcFm2L\n",
    "def fetch_most_frequent_words(corpus, n=None):\n",
    "    \"\"\" Returns a list of most common words found in given corpus plus theirrespective values.\n",
    "    Stopwords for nltk package are excluded. \"\"\"\n",
    "    \n",
    "    vec = CountVectorizer(stop_words='english').fit(corpus)\n",
    "    bag_of_words = vec.transform(corpus)\n",
    "    \n",
    "    sum_words = bag_of_words.sum(axis=0) \n",
    "    \n",
    "    words_freq = [(word, sum_words[0, idx]) for word, idx in vec.vocabulary_.items()]\n",
    "    words_freq =sorted(words_freq, key = lambda x: x[1], reverse=True)\n",
    "    \n",
    "    return words_freq[:n]"
   ]
  },
  {
   "cell_type": "markdown",
   "metadata": {},
   "source": [
    "Αρχικά θα εξετάσουμε τις 500 πιο συχνές λέξεις, τις οποίες θα αξιολογήσουμε ώστε να αποφανθούμε σχετικά με την εισαγωγή τους στο τελικό σύνολο stopwords που θα χρησιμοποιήσουμε. Κατά την αξιολόγηση θα προσπαθήσουμε να συμπεριλάβουμε εκείνες μονάχα τις λέξεις που η αφαίρεσή τους δε θα αλλοιώνει το βασικό πλαίσιο της ταινίας."
   ]
  },
  {
   "cell_type": "code",
   "execution_count": 78,
   "metadata": {
    "scrolled": true
   },
   "outputs": [
    {
     "name": "stdout",
     "output_type": "stream",
     "text": [
      "[('hi', 23051), ('ha', 6488), ('wa', 3858), ('kill', 3386), ('tell', 3036), ('tri', 2764), ('film', 2739), ('thi', 2627), ('father', 2596), ('make', 2532), ('love', 2468), ('man', 2324), ('leav', 2309), ('time', 2255), ('becom', 2250), ('come', 2176), ('return', 2133), ('new', 2122), ('onli', 2028), ('meet', 1981), ('life', 1981), ('help', 1966), ('day', 1961), ('home', 1955), ('end', 1943), ('friend', 1933), ('befor', 1929), ('later', 1928), ('begin', 1816), ('decid', 1790), ('mother', 1781), ('work', 1755), ('use', 1743), ('live', 1655), ('year', 1631), ('run', 1613), ('young', 1606), ('goe', 1576), ('ask', 1485), ('wife', 1484), ('fall', 1480), ('attempt', 1479), ('son', 1477), ('reveal', 1445), ('away', 1444), ('dure', 1443), ('turn', 1442), ('girl', 1423), ('start', 1415), ('way', 1405), ('discov', 1395), ('old', 1393), ('night', 1381), ('want', 1374), ('final', 1348), ('polic', 1345), ('famili', 1340), ('arriv', 1323), ('death', 1318), ('car', 1285), ('fight', 1274), ('attack', 1261), ('daughter', 1257), ('say', 1255), ('woman', 1247), ('forc', 1226), ('follow', 1218), ('head', 1188), ('brother', 1186), ('money', 1184), ('plan', 1181), ('play', 1172), ('becaus', 1168), ('soon', 1160), ('set', 1152), ('men', 1148), ('know', 1146), ('marri', 1136), ('order', 1133), ('hous', 1127), ('just', 1127), ('stori', 1109), ('murder', 1105), ('town', 1105), ('look', 1102), ('escap', 1096), ('learn', 1067), ('doe', 1066), ('anoth', 1047), ('boy', 1044), ('realiz', 1034), ('school', 1031), ('place', 1002), ('like', 981), ('group', 972), ('lead', 965), ('world', 927), ('believ', 922), ('die', 917), ('manag', 903), ('room', 901), ('save', 890), ('eventu', 885), ('stop', 882), ('caus', 862), ('shoot', 850), ('visit', 848), ('open', 846), ('dr', 843), ('dead', 842), ('children', 836), ('husband', 829), ('hand', 809), ('sister', 808), ('jack', 807), ('house', 805), ('break', 789), ('scene', 781), ('war', 780), ('local', 771), ('sever', 770), ('tom', 767), ('onc', 766), ('feel', 758), ('bring', 756), ('left', 749), ('appear', 747), ('peopl', 738), ('continu', 727), ('job', 726), ('train', 714), ('offer', 707), ('stay', 695), ('face', 692), ('offic', 680), ('refus', 670), ('includ', 665), ('explain', 663), ('team', 662), ('long', 656), ('family', 654), ('inform', 654), ('convinc', 653), ('john', 647), ('send', 646), ('gang', 646), ('drive', 642), ('think', 642), ('gun', 636), ('relationship', 636), ('veri', 629), ('walk', 626), ('child', 625), ('agre', 618), ('join', 618), ('state', 617), ('talk', 617), ('power', 609), ('chang', 605), ('ship', 602), ('taken', 591), ('chase', 588), ('instead', 586), ('mr', 582), ('confront', 579), ('travel', 571), ('movi', 570), ('littl', 570), ('shot', 568), ('person', 565), ('mani', 563), ('small', 563), ('good', 559), ('destroy', 559), ('win', 558), ('search', 553), ('american', 551), ('need', 551), ('villag', 550), ('enter', 548), ('bodi', 547), ('claim', 545), ('sinc', 542), ('ani', 541), ('dog', 541), ('land', 539), ('let', 536), ('close', 536), ('watch', 536), ('allow', 535), ('despit', 532), ('thing', 532), ('success', 526), ('lose', 522), ('rescu', 518), ('accident', 515), ('point', 514), ('doesn', 514), ('doctor', 512), ('parent', 511), ('prison', 510), ('real', 508), ('high', 507), ('secret', 505), ('pass', 504), ('student', 504), ('water', 503), ('hear', 502), ('david', 502), ('togeth', 501)]\n"
     ]
    }
   ],
   "source": [
    "most_freq = []\n",
    "for word, freq in fetch_most_frequent_words(corpus_stem):\n",
    "    if freq >= 500:\n",
    "        most_freq.append((word, freq))\n",
    "print(most_freq)"
   ]
  },
  {
   "cell_type": "markdown",
   "metadata": {},
   "source": [
    "Μελετώντας τα παραπάνω θα δημιουργήσουμε τη λίστα `usefull`, στην οποία θα προσθέσουμε λέξεις που θεωρούμε πως έχουν βαρύτητα στην υπόθεση της ταινίας και δε θα ήταν αποδοτικό να αφαιρεθούν κατά την υλοποίηση του συστήματος συστάσεών μας. Στη συνέχεια, θα εμπλουτίσουμε τη λίστα `acc` με όσες λέξεις βρήκαμε παραπάνω και τελικά θα αφαιρέσουμε τις χρήσιμες. Σημειώνουμε ότι η λίστα `acc` αποτελεί ένα έτοιμο σύνολο από stopwords."
   ]
  },
  {
   "cell_type": "code",
   "execution_count": 114,
   "metadata": {},
   "outputs": [
    {
     "name": "stderr",
     "output_type": "stream",
     "text": [
      "[nltk_data] Downloading package stopwords to\n",
      "[nltk_data]     C:\\Users\\Sonqo\\AppData\\Roaming\\nltk_data...\n",
      "[nltk_data]   Package stopwords is already up-to-date!\n"
     ]
    }
   ],
   "source": [
    "import nltk\n",
    "from nltk.corpus import names, stopwords\n",
    "\n",
    "nltk.download('stopwords')\n",
    "\n",
    "stopwords_acc = stopwords.words('english')\n",
    "\n",
    "stopwords_acc_stem = [porter_stemmer.stem(word) for word in stopwords_acc]\n",
    "\n",
    "most_freq_words = []\n",
    "for word in most_freq:\n",
    "    most_freq_words.append(word[0])\n",
    "\n",
    "final_acc = set(stopwords_acc_stem)\n",
    "# for word in usefull:\n",
    "#     final_acc.remove(word)"
   ]
  },
  {
   "cell_type": "markdown",
   "metadata": {},
   "source": [
    "Σε αυτό το σημείο ολοκληρώσαμε τη διαδικασία της προεπεξεργασίας των δεδομένων μας, δηλαδή της λίστας `corpus`. Ακολουθεί η βελτιστοποίση του `TfidfVectorizer`."
   ]
  },
  {
   "cell_type": "code",
   "execution_count": 115,
   "metadata": {},
   "outputs": [],
   "source": [
    "vectorizer = TfidfVectorizer(lowercase=True, stop_words=final_acc)\n",
    "vectorizer.fit(corpus_stem)\n",
    "corpus_tf_idf = vectorizer.transform(corpus_stem)"
   ]
  },
  {
   "cell_type": "code",
   "execution_count": 116,
   "metadata": {},
   "outputs": [
    {
     "data": {
      "text/plain": [
       "(5000, 45666)"
      ]
     },
     "execution_count": 116,
     "metadata": {},
     "output_type": "execute_result"
    }
   ],
   "source": [
    "corpus_tf_idf.shape"
   ]
  },
  {
   "cell_type": "code",
   "execution_count": 102,
   "metadata": {},
   "outputs": [
    {
     "name": "stdout",
     "output_type": "stream",
     "text": [
      "Movie Title: Troy - Genre: \"Sword and Sandal\",  \"Adventure\",  \"Costume drama\",  \"Historical fiction\",  \"Epic\",  \"Action/Adventure\",  \"History\",  \"War film\",  \"Romance Film\",  \"Action\",  \"Historical Epic\",  \"Documentary\" ID: 1646\n",
      "Prince Hector  and his young brother Paris  negotiate peace between Troy and Sparta. Paris has fallen in love with Helen , the wife of king Menelaus , and smuggles her back to Troy with him. Infuriated, Menelaus vows revenge. Menelaus approaches his brother Agamemnon ([[Brian Cox , a king who has conquered every army of Greece, and now commands them. Agamemnon, who has wanted to conquer Troy for years , uses this as a justification to invade Troy. General Nestor  asks him to take the legendary warrior Achilles , to rally the troops to the cause. Odysseus , a king of Mycenae commanded by Agamemnon, visits Phtia to persuade Achilles to fight, and finds him training with Patroclus , his cousin. Achilles, pondering his decision, visits his mother Thetis  for advice. She tells him that, before he was even born, she knew this day would come. She also tells him that if he does not go to Troy, he will live a long, happy life and have children, but after he dies, his name will be forgotten and nobody will remember him. If he does go to Troy, he will find great glory in battle, his name will be written into history forever, but he will die there. Achilles, wanting his name to be remembered, chooses to go. The Greeks sail for Troy. Achilles and the Myrmidons are the fastest rowers and land before anyone else. They kill many Trojans and desecrate the temple of Apollo. Briseis , a member of the Trojan royal family, is captured and taken as a prize to the Greeks, despite Achilles claiming her as a war prize himself. Achilles and his Myrmidons do not fight the next day because of Agamemnon's unfair claim to Briseis. With Greeks surrounding Troy, Paris challenges Menelaus to a duel to settle things, using the Sword of Troy, his father claiming that the city's people have a future so long as the sword is in the hands of a Trojan. Menelaus agrees; however, Agamemnon plans on attacking the city regardless of the outcome. Paris is easily defeated, and wounded. Hector intervenes and kills Menelaus. The Greeks charge the Trojan lines but are forced to fall back when they are nearly wiped out by archers on Troy's walls. Ajax is slain in the battle at the hands of Hector. Agamemnon gives Briseis to his men to amuse them after their terrible loss, but Achilles rescues her after they try to rape her. He carries her back to his tent and tends to her wounds. Briseis then tries to kill Achilles but realizes that she has feelings for him and the two make love. The next day, Achilles readies his men to leave, much to Patroclus' indignation. That night, the Trojans launch a surprise offensive against the Greek encampment, aiming to destroy their boats and prevent their escape. As the Greeks seem to be on the verge of defeat, Achilles appears with the Myrmidons and joins the battle, eventually fighting against Hector. The battle goes much better for the Greeks than before, but all are shocked when Hector cuts Achilles' throat. Hector removes his foe's helmet, revealing the face of Patroclus. After Hector finishes the mortally wounded youth mercifully, both armies agree to end fighting for the day. Before he leaves, Odysseus informs Hector it was his cousin whom he had killed. Achilles, who had slept through the battle, is told by Eudorus of his cousin's death. The Greeks had also mistaken Patroclus for Achilles, since he had put on Achilles' armour and moved like Achilles. Furious, Achilles attacks Eudorus and when Briseis tries to stop him, he throws her to the ground. Later that night, Achilles lights Patroclus' funeral pyre. Meanwhile, in Troy, Hector realizes that Achilles will seek revenge for the death of his cousin, and begins making preparations to save his loved ones. He leads Andromache to a secret path out of the city, asking her to use it if the city falls. The next day Achilles approaches the gates of Troy alone and shouts for Hector to come out and face him. Hector knows he must face him alone, so he says his goodbyes to his family and friends and then confronts Achilles. The two fight an evenly matched duel at the start, but Hector begins to tire against the relentless assault of Achilles. Eventually, Achilles slays Hector by stabbing him in the chest with Hector's broken spear. He then ties Hector's body to the back of his chariot, dragging it to the ships, leaving all the Trojans shocked. That night, King Priam  visits the Greek army's camp to convince Achilles to let him retrieve Hector's body. Moved by the king's plea, Achilles acquiesces to his request and allows him to take his son to be buried. Achilles breaks down and cries while preparing Hector's body for transport back to Troy. He tells Priam that Hector was the best he had ever fought. He also gives Priam his word that no Greek will attack Troy for 12 days. Achilles lets Priam take Briseis back as well. He later apologises to Eudorus for harming him and gives him one last order: to take the Myrmidons home.  During the 12 day-truce, Troy mourns Hector's death while Agamemmnon fumes at the loss of an opportunity to end the war once and for all and the Trojans are in disarray at the loss of their top general even though his generals, including Odysseus, inform him that the death Hector makes no difference as the Greeks still can't breach the walls of Troy. Seeing that the mad king will sooner see every one of his own men slaughtered before he gives up his ambition, Odysseus plans to infiltrate the city by building a hollowed-out wooden horse. The Greeks leave the horse at their camp and then depart, hiding their ships in a nearby cove. Priam trusts his priests that the horse is an offering to Poseidon and a gift, despite the misgivings of Paris. Assuming victory, the Trojans take the horse into the city and celebrate. A Trojan scout finds the Greek ships hiding in the cove, but is killed by their archers before he can spread the news. A band of Greeks led by Achilles and Odysseus come out of the horse at night, opening the gates to the city allowing the main army to enter. The Greeks commence the Sack of Troy, massacring the inhabitants and looting buildings. The Trojan army attempts to defend the royal palace but fails and the Greeks storm in. While Troy is burned, Andromache helps Helen and many others escape from Troy through the secret passage Hector showed her. Paris hands Aeneas the Sword of Troy by repeating his father's words that the Trojans will have a future as long as the sword is in Trojan hands. After helping the survivors off, He heads back into the city, bow and arrows at the ready as he had been practicing archery to join the rest of the Trojan army, but abandons them after hearing Briseis' voice calling him. Odysseus kills Glaucus and Agamemnon kills Priam. Achilles searches for Briseis, who is being threatened by Agamemnon. She kills Agamemnon with a concealed knife and is saved from his guards by Achilles. While Achilles is helping Briseis to her feet, Paris, seeking revenge for his brother's death, shoots Achilles several times before Briseis manages to stay his hand. Achilles urges Briseis to join Paris and escape from the city and then dies of the wound to the one spot on his body that was vulnerable, his heel. The soldiers arrive to see the fallen Achilles with only the single arrow through his heel, as he had removed all the others, in keeping with the myth that Achilles was killed by a single arrow to the heel. Funeral rituals are performed for him in the ruins of Troy the next day. The film ends with a speech from Odysseus, \"If they ever tell my story, let them say I walked with giants. Men rise and fall like the winter wheat, but these names will never die. Let them say I lived in the time of Hector, tamer of horses. Let them say, I lived, in the time of Achilles.\"\n",
      "\n",
      "\n",
      "Movie Title: Magnolia - Genre: \"Drama\" ID: 4040\n",
      "Police officer Jim Kurring is sent to investigate a disturbance and finds a body, but is unable to apprehend a suspect despite the fact that a neighborhood boy tries to tell him by rapping who committed the murder. From there Jim goes to Claudia Wilson's apartment, where the neighbors complained of her loud music, after she rejected her dying father's attempt at reconciliation. Claudia is a cocaine addict and her father is famous children's game show host Jimmy Gator, whom she has accused of molesting her. Jim likes her and prolongs the visit, though it is awkward, and talks her into a date before he leaves. That night the newest child prodigy on Jimmy Gator's show, Stanley Spector, takes the lead as the show begins and it becomes clear he is resented by the other kids. He is hounded by his father for the prize money, and demeaned by the surrounding adults, who refuse to let him use the bathroom during a commercial break. When the show resumes, he wets himself and freezes, humiliated when everyone realizes what happened. As the show continues Jimmy sickens, and he even orders the show to go on after he collapses on stage. But after Stanley's father berates him for freezing on the air Stanley refuses to return for the final round. Watching the show from a bar, Donnie Smith, a former champion, has become desperate for love and attention in the years since he left. Donnie is obsessed with oral surgery, thinking he will land the man of his dreams after he gets braces, and becomes despondent when he is fired. He hatches a plan to get back at his boss by breaking in and stealing the money he needs for his braces. The show's former producer Earl Partridge is also dying of cancer. Earl's trophy wife, Linda, collects his prescriptions for morphine while he is cared for by a nurse, Phil Parma. Earl asks Phil to find his estranged son, Frank Mackey, who is peddling a misogynist self-help course to men. Earl was a womanizer who abandoned his wife and son, but Frank has claimed the opposite, and now suggests that men should use women and discard them before they become victims. Frank is in the midst of defending himself to a journalist when Phil finally gets through to Frank's assistant, and he begins weeping when he learns his father wants to see him. After a histrionic confrontation with a pharmacist who questions her about the drugs she is collecting, Linda goes to see Earl's lawyer, begging him to change Earl's will. She married Earl for his money, but now loves him and doesn't want it. The lawyer suggests that she renounce the will and refuse the money, which would then go to Frank. Linda rejects his advice and leaves in a rage. When she gets home Linda berates Phil for seeking out Frank, but later apologizes, before going out to her car and taking all the pills she's collected. The boy who tried to help Jim catch the murderer finds Linda in her car, near death, and calls an ambulance after taking money from her purse. Before his date with Claudia Jim loses his gun in pursuit of a jaywalker, then almost gets shot. When he meets Claudia they promise to be honest with each other, so he confesses his ineptitude as a cop and admits he has not been on a date since he was divorced three years ago. Claudia asks him never to see her again, saying he will hate her because of her problems, but Jim assures her they don't matter. They kiss before she runs off. Jimmy Gator goes home to his wife Rose and suddenly tells her he cheated on her. She asks why Claudia does not talk to him, and Jimmy admits that Claudia believes he molested her. But when he says he cannot remember whether he did, Rose tells Jimmy he deserves to die alone, and she leaves. Jimmy decides to kill himself. Meanwhile Donnie succeeds in breaking into his old employer's office but breaks off his key in the lock. As he drives away he realizes the foolishness of what he is doing, and goes back but can't get in because of the broken key, so he goes up a utility pole to get in through the roof. While driving home, Jim sees Donnie climbing the utility pole and goes to stop him. Suddenly, they are all in the midst of a raining animal event, with frogs falling from the sky. As Jimmy is about to shoot himself, frogs fall through his skylight, causing him to shoot the TV instead and set the house on fire. Rose crashes her car en route to Claudia's apartment. Phil administers a lethal dose of morphine to Earl, who dies as Frank watches, sobbing and disgorging a stream of invective against the father who was the real villain in his life while begging him not to die. Donnie is knocked from the pole and smashes his teeth, while Jim's gun falls from the sky and lands in front of him. As the rain of frogs ceases, Rose and Claudia are reconciled. After Jim helps Donnie replace the money, he goes to see Claudia, telling her that he wants to make things work between them, and she smiles in reply. Frank goes to visit Linda, who is recovering in the hospital. Stanley, on his way to bed, tells his father that he needs to be nicer to him. The narrator reminds us to consider once more the coincidences from the stories at the beginning of the film.\n",
      "\n",
      "\n",
      "Movie Title: No Country for Old Men - Genre: \"Thriller\",  \"Crime Fiction\",  \"Gangster Film\",  \"Drama\",  \"Suspense\",  \"Film adaptation\",  \"Crime Thriller\" ID: 3737\n",
      "West Texas in June 1980 is desolate, wide open country, and Ed Tom Bell  laments the increasing violence in a region where he, like his father and grandfather before him, has risen to the office of sheriff. Llewelyn Moss , hunting pronghorn, comes across the aftermath of a drug deal gone awry: several dead men and dogs, a wounded Mexican begging for water, and two million dollars in a satchel that he takes to his trailer home. Late that night, he returns with water for the dying man, but is chased away by two men in a truck and loses his vehicle. When he gets back home he grabs the cash, sends his wife Carla Jean  to her mother's, and makes his way to a motel in the next countyThe sign in front of Moss' trailer park indicates its location in Sanderson, the seat of Terrell County. Del Rio is the seat of Val Verde County, approximately 120 miles  from Sanderson. where he hides the satchel in the air vent of his room. Anton Chigurh  is a hitman who has been hired to recover the money. He has already strangled a sheriff's deputy to escape custody and stolen a car by using a captive bolt pistol to kill the driver. Now he carries a receiver that traces the money via a tracking device concealed inside the satchel. Bursting into Moss' hideout at night, Chigurh surprises a group of Mexicans set to ambush Moss, and murders them all. Moss, who has rented the connecting room on the other side, is one step ahead. By the time Chigurh removes the vent cover with a dime, Moss is already back on the road with the cash. In a border town hotel, Moss finally finds the electronic bug, but not before Chigurh is upon him. A firefight between them spills onto the streets, leaving both men wounded. Moss flees across the border, collapsing from his injuries before he is taken to a Mexican hospital. There, Carson Wells , another hired operative, offers protection in return for the money. After Chigurh cleans and stitches his own wounds with stolen supplies, he gets the drop on Wells back at his hotel and kills him just as Moss calls the room. Picking up the call and casually raising his feet to avoid the spreading blood, Chigurh promises Moss that Carla Jean will go untouched if he gives up the money. Moss remains defiant. Moss arranges to rendezvous with his wife at a motel in El Paso to give her the money and send her out of harm's way. She reluctantly accepts Bell's offer to save her husband, but he arrives only in time to see a pickup carrying several men speeding away from the motel and Moss lying dead in his room. That night, Bell returns to the crime scene and finds the lock blown out in his suspect's familiar style. Chigurh hides behind the door of a motel room, observing the shifting light through an empty lock hole. His gun drawn, Bell enters Moss' room and notices that the vent cover has been removed with a dime and the vent is empty. Bell visits his Uncle Ellis , an ex-lawman. Bell plans to retire because he feels \"overmatched,\" but Ellis points out that the region has always been violent. For Ellis, thinking it is \"all waiting on you, that's vanity.\" Carla Jean returns from her mother's funeral to find Chigurh waiting in the bedroom. When she tells him she does not have the money, he recalls the pledge he made to her husband that could have spared her. The best he will offer is a coin toss for her life, but she says that the choice is his. Chigurh leaves the house alone and carefully checks the soles of his boots. As he drives away, he is injured in a car accident and abandons the damaged vehicle. Now retired, Bell shares two dreams with his wife , both involving his deceased father. In the first dream he lost \"some money\" that his father had given him; in the second, he and his father were riding horses through a snowy mountain pass. His father, who was carrying fire in a horn, quietly passed by with his head down, \"going on ahead, and fixin' to make a fire\" in the surrounding dark and cold. Bell knew that when he got there his father would be waiting.\n",
      "\n",
      "\n",
      "Movie Title: Trespass - Genre: \"Crime Fiction\",  \"Thriller\",  \"Drama\",  \"Psychological thriller\" ID: 522\n",
      "The film opens with fast-talking businessman and diamond dealer Kyle Miller  speaking to a client over the phone as he returns to his lavish mansion home, his wife Sarah  and his teenage daughter Avery . Despite the charming facade, it is immediately clear that the family is dysfunctional and emotionally distant: Avery disrespects her parents and, despite being forbidden to do so, sneaks out of the house to go to a party with her friend Kendra. Sarah appears bored with life as a housewife and yearns for more in her marriage while Kyle seems to harbor a hidden aversion towards his wife. Just as Kyle is about to leave for a business transaction, the house is suddenly invaded by a gang of robbers masquerading as police. The thieves, consisting of leader Elias , his stripper girlfriend Petal , his younger brother Jonah , and a large intimidating man named Ty , tell Kyle and Sarah that they have been spying on them for some time and are aware of the large amounts of cash and diamonds hidden in their home. They demand Kyle to open a safe hidden in the wall but, despite a threat to utilize a syringe containing lethal injection chemicals, he defiantly refuses, believing that he and Sarah would be killed if he simply gave into their demands. Sarah, meanwhile, recognizes Jonah through his mask. Through a series of Jonah's flashbacks and a conversation with Elias, it is strongly implied that Sarah and Jonah had a previous affair when the latter was employed as a technician to install the house's security system. Unbeknownst to Elias, Sarah secretly steals the syringe from him during this conversation. Having left her party in disgust , Avery returns home and, after a brief chase, is also captured and taken to her parents. Elias appeals to Kyle, claiming that he needs money to pay for a kidney transplantation for his dying mother and that, if Kyle refuses to comply, he will instead take one of Avery's kidneys. Sarah catches Elias off-guard and holds him hostage with the syringe. Forced into a Mexican standoff, the thieves compromise by letting Avery escape in exchange for Kyle opening the safe. He does so, revealing it to be completely empty. Kyle explains that he is actually bankrupt and has no money; his house and all of his possessions were bought on loaned credit. Enraged, Elias breaks Kyle's hand and instead demands material compensation by taking Sarah's prized diamond necklace. However, Kyle reveals that this too is a fake cubic zirconia replica and is completely worthless. Ty recaptures Avery from outside and brings her back into the house. Kyle volunteers for his own kidney to be taken instead of his daughter's, but Elias reveals that it was a ploy and that he hated his mother, who is already dead. Ty grows impatient after receiving a phone call and commands Elias to hurry up; Kyle realizes that the burglars are themselves being coerced into committing the heist against their will. The thieves then separate the Miller family, with Kyle and Avery being tied up and guarded in the living room and Sarah being pursued by Jonah in the kitchen. Jonah states to Sarah that he still loves her and promises that she and Avery will be left unhurt. Meanwhile, Kyle uses a lighter to burn both his own and Avery's binds; they attempt an escape and set off the house's security system. Kyle ends up in a struggle with Ty, and, despite Ty's superior strength and fighting skills, Kyle manages to inject a portion of the syringe chemicals into his arm, causing him to fall unconscious. Thinking that Ty is dead, Elias shoots Kyle in the leg and reveals his true motives: that he is a drug dealer working for an organized crime syndicate. Shortly after being given a job to sell $180,000 worth of cocaine, Elias and Petal were carjacked at gunpoint and all of their shipments were promptly stolen. Faced with threats of retribution, Elias was then forced to commit a heist  to pay off his debt. Jonah, who had previously seen the Miller's residence, suggested it as a place to rob. Avery attempts to run out of the house again but is caught by Jonah. Under the threat of her parents being killed, she is forced to answer a call from the security company and successfully convinces them to call off the police. However a security guard  shows up nevertheless, with Sarah ordered to make him leave, but the security guard catches sight of Jonah and recognises him as a colleague, prompting Jonah to shoot him in the head. Kyle reveals to Elias that the only thing of any worth on him is his life insurance. Desperate and out of options, Elias kicks Kyle down and prepares to kill him. At the last second, Avery remembers the money she saw at the earlier party and pleads with the thieves that she can help them steal it from the party if they spare her father's life. Elias reluctantly agrees to the proposition and sends Petal to supervise Avery as she drives to the party house and ensure that she keeps her word . Although Avery's initial idea is to seduce Jake and then steal his money, she is horrified when Petal begins to deliriously proclaim that she plans to massacre all of the party guests and then take the cash. Seeing a swerving road ahead, Avery accelerates the car, unbuckles Petal's seat belt, and intentionally crashes into a telephone pole, incapacitating Petal and allowing Avery to handcuff Petal to the steering wheel. Back at the Miller home, Sarah learns that Kyle had discovered a picture of her kissing Jonah from security footage and was suspicious for some time that she had been unfaithful. Sarah, however, insists that she is innocent and only loves Kyle: the same flashback is now shown from her perspective, revealing that Jonah is in fact mentally ill  and that the supposed love affair between him and Sarah was all in his head. The \"kiss\" had occurred to Sarah's complete surprise and against her will. At this point, Ty reawakens from his stupor and attacks Sarah. Enraged, Jonah tackles Ty and the two fight. Just as Ty is about to strangle Jonah to death, Elias shoots him in the back for trying to kill his brother. However, in his dying breath, Ty reveals to Elias that he had been set up all along: the \"robbers\" stealing his cocaine shipment were actually fellow members of the same crime organization and the operation was done in order to blackmail him into stealing more money for them. More damningly, Ty also claims that Jonah had masterminded the entire plan so he could have an excuse to return to the Miller residence and profess his love to Sarah. Elias is shocked by the allegations but refuses to believe them. Through the chaos, Sarah and a wounded Kyle escape to the tool shed behind the house and are pursued by Elias and Jonah. After a brief fight, the thieves discover a large amount of money hidden inside the shed; Kyle reveals that he had sold Sarah's real diamond necklace and was saving the money as a nest egg for his family. As Elias and Jonah begin to collect the cash, Avery appears  and points a gun at them. Elias calls her bluff and aims his gun at Sarah but he is shot and killed by Jonah for this. Jonah tries again to convince Sarah that she belongs with him but she rebuffs his offers, calling him insane. In an attempt to sacrifice himself, Kyle tells his wife and daughter to run while setting the money in the tool shed on fire. He also shoots Jonah's foot with a nail gun, trapping him in the shed. While Avery goes to call the police, Sarah tries to help Kyle but she is grabbed in a last-ditch effort by Jonah, who is convinced that it is destiny for her to die together with him in the fire. However, Kyle then shoots him in the neck, causing him to fall and become engulfed in the flames. Sarah then carries Kyle away to safety just as the shed collapses. In the backyard, Kyle tries to tell Sarah to let him die so that she and Avery can survive on his life insurance fund but she refuses, stating that she loves him regardless of whether he has money or not. Avery runs back to her parents announcing that help is finally on the way. The three family members embrace as the real police arrive and surround the house.\n",
      "\n",
      "\n",
      "Movie Title: Turkish Delight - Genre: \"Romantic drama\",  \"Romance Film\",  \"Drama\",  \"World cinema\" ID: 3105\n",
      "Eric, a sculptor, wakes up recalling a disturbing dream followed by frantically picking up random women from the streets and taking them back to his studio for sex. However, he is clearly distressed about something, and it turns out that this is the aftermath of his breakup with Olga. The movie then recounts his relationship with Olga. Olga picks up Eric when he is hitchhiking, and immediately they hit it off together, both sexually and spiritually. They live together and marry. However, their relationship is strongly resisted by Olga's mother. She does not approve of this Bohemian sculptor, who lives poorly off his occasional commissions, as a suitable match for Olga. Nevertheless, Eric and Olga get married and Olga's family accepts him. After a number of adventures, Olga suddenly starts acting strangely. At a party organised by her family, she flirts with a businessman, and after some arguments with Eric, he slaps her and she leaves him. Eric trashes his studio, violently crushing anything that reminded him of Olga. This brings the movie to the point where it opened, ending the flashback. Eric is still obsessed about Olga, but sees her only occasionally. She acts more and more outrageously, often in the presence of other men. Her family refuses to let Eric visit her, until he says he has come to arrange a divorce. After a short while Olga gets married to an American businessman which soon goes wrong and Olga moves back to the Netherlands. One day he meets Olga, who is flamboyantly dressed and acting almost completely incoherent. She collapses and is taken to the hospital, where she is diagnosed as having a brain tumor, but surgical intervention could not remove all of it. It becomes clear that she will die. Eric brings her turkish delight, which is the only thing she will eat, as she is afraid that harder food will break her teeth. Soon after, she dies.\n",
      "\n",
      "\n",
      "Movie Title: Le lieu du crime - Genre: \"Drama\",  \"Family Drama\",  \"Crime Drama\",  \"Melodrama\" ID: 4735\n",
      "Thomas, a trouble thirteen-year-old boy, picking flowers in a cemetery, is surprised by Martin, an escaped convict who demands that the boy brings him some money for a train fare later that day. The boy does not know where to get money; the criminal, tells him to ask his parents. \"My parents are dead,\" the boy says. In fact, his parents, Maurice and Lili, are alive. They are separated by they both live near the boy's grandparent's house. Thomas, disaffected by his parents divorce, goes to a boarding catholic school but is spending the weekend with his family and is going to have first communion. His grandmother is arranging to celebrate that special day and hopes her daughter and son in law would reconcile. The boy tries to get the money for the convict stealing from Lili, his mother, but then sees her sad and, in a moment of love, gives it back to her, admitting what he's done. He goes through a series of increasingly desperate attempts to get money and eventually scrounges some out of his grumpy grandfather, who just wants to go fishing. When the boy returns to give Martin the money, the convict's accomplice, Luc, decides that the boy is too much of a liability and tries to kill him. Martin saves Thomas's life killing his accomplice. Lili Ravenel, who is emotionally close and distant by turns to her son, is worried about Thomas. He is not doing well at school, according to the school's chaplain who comes to complaint about the boy's behavior. Lili, trapped in a humdrum existence, runs a nightclub that is situated on a river just at the water's edge. Pushed by her mother, she had married Maurice against her better judgment and now needs to escape the stifling effects of her union with him, but he continues to want her. Maurice threatens to remove the care and custody of her son from her. Lili has to perform her marital duties even after the divorce - while Maurice screens old home-movies of their domestic happiness long past and gone. After killing Luc, Martin arrives to have a drink at a bar by a river. That is where Lili works. He has no money and at the end of the night, fascinated by the young man, she arranges for the fugitive to take a room at a local hotel. When she arrives home, her son tells her the story in the cemetery, as it was a dream he had, but she realizes that it actually happened and the convict is the man she just left in the hotel. The celebration in honor of the Holy Communion goes on with little family harmony after Thomas wishes that an atomic bomb would destroy his school. The grandmother tries to keep the family together. Alice, the convicts' shared girlfriend comes, gun in hand to help them escape to Tangier. They have been inseparable for years. Martin tells her that he was forced to kill Luc. Lili's suspicions are confirmed when she witnesses the efforts of Martin and Alice to hide the corpse on a graveyard. Martin lets her go and leaves the town with Alice. He changed his mind shortly after and returns to the village alone and goes to the bar in search of Lili. They are smitten by each other and by night, she takes the bold decision to run away with him without a hint of regret or lingering doubt. Before escaping with the convict Lili tells her mother what she plans to do, but does not change her mind in spite of her mother protestations. The boy's teacher and confessor confronts him with the published news of the two escapees and pressures him to tell the truth to the authorities. That same stormy night, Thomas escapes from the boarding school to see his mother, but when he arrives to her house he discovers Lili and Martin making love. Thomas runs and when Martin goes after him, Alice who has also come, shots Martin. Shortly after, Alice kills herself smashing her sport car against a wall. The next morning Lili goes to see Thomas who is staying with his father, but Maurice only allows her to see him without revealing that she is there. Later, at the police station Lili tells the truth and incriminates herself. She leaves the village detained in a police van. Thomas is riding his bike.\n",
      "\n",
      "\n"
     ]
    }
   ],
   "source": [
    "for movie in content_recommender('Troy', 5):\n",
    "    print(movie)"
   ]
  },
  {
   "cell_type": "markdown",
   "metadata": {
    "colab_type": "text",
    "id": "NPVK7Z5c1p5F"
   },
   "source": [
    "### Επεξήγηση Επιλογών και Ποιοτική Ερμηνεία\n",
    "\n",
    "Σε markdown περιγράψτε πώς προχωρήσατε στις επιλογές σας για τη βελτιστοποίηση της `TfidfVectorizer`. Επίσης σε markdown δώστε 10 παραδείγματα (IDs) από τη συλλογή σας που επιστρέφουν καλά αποτελέσματα μέχρι `max_recommendations` (5 και παραπάνω) και σημειώστε συνοπτικά ποια είναι η θεματική που ενώνει τις ταινίες.\n",
    "\n",
    "Δείτε [εδώ](https://pastebin.com/raw/ZEvg5t3z) ένα παράδειγμα εξόδου του βελτιστοποιημένου συστήματος συστάσεων για την ταίνία [\"Q Planes\"](https://en.wikipedia.org/wiki/Q_Planes) με την κλήση της συνάρτησης για κάποιο seed `content_recommender(529,3)`. Είναι φανερό ότι η κοινή θεματική των ταινιών είναι τα αεροπλάνα, οι πτήσεις, οι πιλότοι, ο πόλεμος."
   ]
  },
  {
   "cell_type": "markdown",
   "metadata": {
    "colab_type": "text",
    "id": "4irg4K-IPSym"
   },
   "source": [
    "## Tip: persistence αντικειμένων με joblib.dump\n",
    "\n",
    "H βιβλιοθήκη [joblib](https://pypi.python.org/pypi/joblib) της Python δίνει κάποιες εξαιρετικά χρήσιμες ιδιότητες στην ανάπτυξη κώδικα: pipelining, παραλληλισμό, caching και variable persistence. Τις τρεις πρώτες ιδιότητες τις είδαμε στην πρώτη άσκηση. Στην παρούσα άσκηση θα μας φανεί χρήσιμη η τέταρτη, το persistence των αντικειμένων. Συγκεκριμένα μπορούμε με:\n",
    "\n",
    "```python\n",
    "joblib.dump(my_object, 'my_object.pkl') \n",
    "```\n",
    "\n",
    "να αποθηκεύσουμε οποιοδήποτε αντικείμενο-μεταβλητή (εδώ το `my_object`) απευθείας πάνω στο filesystem ως αρχείο, το οποίο στη συνέχεια μπορούμε να ανακαλέσουμε ως εξής:\n",
    "\n",
    "```python\n",
    "my_object = joblib.load('my_object.pkl')\n",
    "```\n",
    "\n",
    "Μπορούμε έτσι να ανακαλέσουμε μεταβλητές ακόμα και αφού κλείσουμε και ξανανοίξουμε το notebook, χωρίς να χρειαστεί να ακολουθήσουμε ξανά όλα τα βήματα ένα - ένα για την παραγωγή τους, κάτι ιδιαίτερα χρήσιμο αν αυτή η διαδικασία είναι χρονοβόρα. Προσοχή: αυτό ισχύει μόνο στα Azure και Kaggle, στο Colab και στο IBM τα αρχεία εξαφανίζονται όταν ανακυκλώνεται ο πυρήνας και θα πρέπει να τα αποθηκεύετε τοπικά. Περισσότερα στο [FAQ](https://docs.google.com/document/d/1-E4eQkVnTxa3Jb0HL9OAs11bugYRRZ7RNWpu7yh9G4s/edit?usp=sharing).\n",
    "\n",
    "Ας αποθηκεύσουμε το `corpus_tf_idf` και στη συνέχεια ας το ανακαλέσουμε."
   ]
  },
  {
   "cell_type": "code",
   "execution_count": null,
   "metadata": {
    "colab": {
     "base_uri": "https://localhost:8080/",
     "height": 34
    },
    "colab_type": "code",
    "executionInfo": {
     "elapsed": 1304,
     "status": "ok",
     "timestamp": 1575901456994,
     "user": {
      "displayName": "Γιώργος Αλεξανδρίδης",
      "photoUrl": "https://lh3.googleusercontent.com/a-/AAuE7mAHgjbkpnVZpMkbe7ihkb3km8rd5_Hm0fOfRa_yBg=s64",
      "userId": "16422904839632337525"
     },
     "user_tz": -120
    },
    "id": "aESOPYQaPSyo",
    "outputId": "b5adeaee-dd1e-4de3-b41b-9bbdd2f1a5ff",
    "scrolled": true
   },
   "outputs": [],
   "source": [
    "import joblib\n",
    "\n",
    "joblib.dump(corpus_tf_idf, 'corpus_tf_idf.pkl') "
   ]
  },
  {
   "cell_type": "markdown",
   "metadata": {
    "colab_type": "text",
    "id": "7_rAEj5ZPSy1"
   },
   "source": [
    "\n",
    "\n",
    "Μπορείτε με ένα απλό `!ls` να δείτε ότι το αρχείο `corpus_tf_idf.pkl` υπάρχει στο filesystem σας (== persistence):"
   ]
  },
  {
   "cell_type": "code",
   "execution_count": null,
   "metadata": {
    "colab": {
     "base_uri": "https://localhost:8080/",
     "height": 69
    },
    "colab_type": "code",
    "executionInfo": {
     "elapsed": 5073,
     "status": "ok",
     "timestamp": 1575901466223,
     "user": {
      "displayName": "Γιώργος Αλεξανδρίδης",
      "photoUrl": "https://lh3.googleusercontent.com/a-/AAuE7mAHgjbkpnVZpMkbe7ihkb3km8rd5_Hm0fOfRa_yBg=s64",
      "userId": "16422904839632337525"
     },
     "user_tz": -120
    },
    "id": "ZhwXmTEIPSy3",
    "outputId": "f3e07f49-db04-46bf-9661-e0e5f4902839",
    "scrolled": true
   },
   "outputs": [],
   "source": [
    "!ls -lh"
   ]
  },
  {
   "cell_type": "markdown",
   "metadata": {
    "colab_type": "text",
    "id": "cey5AbkO475S"
   },
   "source": [
    "και μπορούμε να τα διαβάσουμε με `joblib.load`"
   ]
  },
  {
   "cell_type": "code",
   "execution_count": null,
   "metadata": {
    "colab": {},
    "colab_type": "code",
    "id": "DSJPTKY8PSyu"
   },
   "outputs": [],
   "source": [
    "corpus_tf_idf = joblib.load('corpus_tf_idf.pkl')"
   ]
  },
  {
   "cell_type": "markdown",
   "metadata": {
    "colab_type": "text",
    "id": "zHOQtO83PSy9"
   },
   "source": [
    "## 2. Τοπολογική και σημασιολογική απεικόνιση ταινιών με χρήση SOM\n",
    "\n",
    "<img src=\"https://drive.google.com/uc?export=download&id=1R1R7Ds9UEfhjOY_fk_3wcTjsM0rI4WLl\" width=\"60%\">"
   ]
  },
  {
   "cell_type": "markdown",
   "metadata": {
    "colab_type": "text",
    "id": "UB_clmizPSy-"
   },
   "source": [
    "## Δημιουργία dataset\n",
    "Στη δεύτερη εφαρμογή θα βασιστούμε στις τοπολογικές ιδιότητες των Self Organizing Maps (SOM) για να φτιάξουμε ενά χάρτη (grid) δύο διαστάσεων όπου θα απεικονίζονται όλες οι ταινίες της συλλογής της ομάδας με τρόπο χωρικά συνεκτικό ως προς το περιεχόμενο και κυρίως το είδος τους. \n",
    "\n",
    "Η `build_final_set` αρχικά μετατρέπει την αραιή αναπαράσταση tf-idf της εξόδου της `TfidfVectorizer()` σε πυκνή (η [αραιή αναπαράσταση](https://en.wikipedia.org/wiki/Sparse_matrix) έχει τιμές μόνο για τα μη μηδενικά στοιχεία). \n",
    "\n",
    "Στη συνέχεια ενώνει την πυκνή `dense_tf_idf` αναπαράσταση και τις binarized κατηγορίες `catbins` των ταινιών ως επιπλέον στήλες (χαρακτηριστικά). Συνεπώς, κάθε ταινία αναπαρίσταται στο Vector Space Model από τα χαρακτηριστικά του TFIDF και τις κατηγορίες της.\n",
    "\n",
    "Τέλος, δέχεται ένα ορισμα για το πόσες ταινίες να επιστρέψει, με default τιμή όλες τις ταινίες (5000). Αυτό είναι χρήσιμο για να μπορείτε αν θέλετε να φτιάχνετε μικρότερα σύνολα δεδομένων ώστε να εκπαιδεύεται ταχύτερα το SOM.\n",
    "\n",
    "Σημειώστε ότι το IBM Watson δείνει \"Kernel dead\" εάν δεν έχετε βελτιστοποιήσει το tfidf και μικρύνει τις διαστάσεις του dataset (πιθανότατα κάποια υπέρβαση μνήμης)."
   ]
  },
  {
   "cell_type": "code",
   "execution_count": null,
   "metadata": {
    "colab": {},
    "colab_type": "code",
    "id": "U-FDDOkQPSzA"
   },
   "outputs": [],
   "source": [
    "def build_final_set(doc_limit = 5000, tf_idf_only=False):\n",
    "    # convert sparse tf_idf to dense tf_idf representation\n",
    "    dense_tf_idf = corpus_tf_idf.toarray()[0:doc_limit,:]\n",
    "    if tf_idf_only:\n",
    "        # use only tf_idf\n",
    "        final_set = dense_tf_idf\n",
    "    else:\n",
    "        # append the binary categories features horizontaly to the (dense) tf_idf features\n",
    "        final_set = np.hstack((dense_tf_idf, catbins[0:doc_limit,:]))\n",
    "        # η somoclu θέλει δεδομένα σε float32\n",
    "    return np.array(final_set, dtype=np.float32)"
   ]
  },
  {
   "cell_type": "code",
   "execution_count": null,
   "metadata": {
    "colab": {},
    "colab_type": "code",
    "id": "aF1B62UbPSzF"
   },
   "outputs": [],
   "source": [
    "final_set = build_final_set()"
   ]
  },
  {
   "cell_type": "markdown",
   "metadata": {
    "colab_type": "text",
    "id": "KjvPPENS_dYL"
   },
   "source": [
    "Τυπώνουμε τις διαστάσεις του τελικού dataset μας. Χωρίς βελτιστοποίηση του TFIDF θα έχουμε περίπου 50.000 χαρακτηριστικά."
   ]
  },
  {
   "cell_type": "code",
   "execution_count": null,
   "metadata": {
    "colab": {
     "base_uri": "https://localhost:8080/",
     "height": 34
    },
    "colab_type": "code",
    "executionInfo": {
     "elapsed": 766,
     "status": "ok",
     "timestamp": 1575901615232,
     "user": {
      "displayName": "Γιώργος Αλεξανδρίδης",
      "photoUrl": "https://lh3.googleusercontent.com/a-/AAuE7mAHgjbkpnVZpMkbe7ihkb3km8rd5_Hm0fOfRa_yBg=s64",
      "userId": "16422904839632337525"
     },
     "user_tz": -120
    },
    "id": "fvEgNn-L-jEw",
    "outputId": "de1a7e16-3689-4d38-bc93-f264b57a85b4"
   },
   "outputs": [],
   "source": [
    "final_set.shape"
   ]
  },
  {
   "cell_type": "markdown",
   "metadata": {
    "colab_type": "text",
    "id": "Om7PoyDVCqis"
   },
   "source": [
    "Με βάση την εμπειρία σας στην προετοιμασία των δεδομένων στην επιβλεπόμενη μάθηση, υπάρχει κάποιο βήμα προεπεξεργασίας που θα μπορούσε να εφαρμοστεί σε αυτό το dataset; "
   ]
  },
  {
   "cell_type": "markdown",
   "metadata": {
    "colab_type": "text",
    "id": "8tikdip0PSzQ"
   },
   "source": [
    "## Εκπαίδευση χάρτη SOM\n",
    "\n",
    "Θα δουλέψουμε με τη βιβλιοθήκη SOM [\"Somoclu\"](http://somoclu.readthedocs.io/en/stable/index.html). Εισάγουμε τις somoclu και matplotlib και λέμε στη matplotlib να τυπώνει εντός του notebook (κι όχι σε pop up window)."
   ]
  },
  {
   "cell_type": "code",
   "execution_count": null,
   "metadata": {
    "colab": {},
    "colab_type": "code",
    "id": "oX9rzxGSPSzR"
   },
   "outputs": [],
   "source": [
    "# install somoclu\n",
    "!pip install --upgrade somoclu\n",
    "# import sompoclu, matplotlib\n",
    "import somoclu\n",
    "import matplotlib\n",
    "# we will plot inside the notebook and not in separate window\n",
    "%matplotlib inline"
   ]
  },
  {
   "cell_type": "markdown",
   "metadata": {
    "colab_type": "text",
    "id": "EqBfn0ijPSzX"
   },
   "source": [
    "Καταρχάς διαβάστε το [function reference](http://somoclu.readthedocs.io/en/stable/reference.html) του somoclu. Θα δoυλέψουμε με χάρτη τύπου planar, παραλληλόγραμμου σχήματος νευρώνων με τυχαία αρχικοποίηση (όλα αυτά είναι default). Μπορείτε να δοκιμάσετε διάφορα μεγέθη χάρτη ωστόσο όσο ο αριθμός των νευρώνων μεγαλώνει, μεγαλώνει και ο χρόνος εκπαίδευσης. Για το training δεν χρειάζεται να ξεπεράσετε τα 100 epochs. Σε γενικές γραμμές μπορούμε να βασιστούμε στις default παραμέτρους μέχρι να έχουμε τη δυνατότητα να οπτικοποιήσουμε και να αναλύσουμε ποιοτικά τα αποτελέσματα. Ξεκινήστε με ένα χάρτη 10 x 10, 100 epochs training και ένα υποσύνολο των ταινιών (π.χ. 2000). Χρησιμοποιήστε την `time` για να έχετε μια εικόνα των χρόνων εκπαίδευσης. Ενδεικτικά, με σωστή κωδικοποίηση tf-idf, μικροί χάρτες για λίγα δεδομένα (1000-2000) παίρνουν γύρω στο ένα λεπτό ενώ μεγαλύτεροι χάρτες με όλα τα δεδομένα μπορούν να πάρουν 10-15 λεπτά ή και περισσότερο.\n"
   ]
  },
  {
   "cell_type": "markdown",
   "metadata": {
    "colab_type": "text",
    "id": "ntd2GE9SaHiS"
   },
   "source": [
    "\n",
    "## Best matching units\n",
    "\n",
    "Μετά από κάθε εκπαίδευση αποθηκεύστε σε μια μεταβλητή τα best matching units (bmus) για κάθε ταινία. Τα bmus μας δείχνουν σε ποιο νευρώνα ανήκει η κάθε ταινία. Προσοχή: η σύμβαση των συντεταγμένων των νευρώνων είναι (στήλη, γραμμή) δηλαδή το ανάποδο από την Python. Με χρήση της [np.unique](https://docs.scipy.org/doc/numpy-1.13.0/reference/generated/numpy.unique.html) (μια πολύ χρήσιμη συνάρτηση στην άσκηση) αποθηκεύστε τα μοναδικά best matching units και τους δείκτες τους (indices) προς τις ταινίες. Σημειώστε ότι μπορεί να έχετε λιγότερα μοναδικά bmus από αριθμό νευρώνων γιατί μπορεί σε κάποιους νευρώνες να μην έχουν ανατεθεί ταινίες. Ως αριθμό νευρώνα θα θεωρήσουμε τον αριθμό γραμμής στον πίνακα μοναδικών bmus.\n"
   ]
  },
  {
   "cell_type": "markdown",
   "metadata": {
    "colab_type": "text",
    "id": "grzqcyHyaKdg"
   },
   "source": [
    "\n",
    "## Ομαδοποίηση (clustering)\n",
    "\n",
    "Τυπικά, η ομαδοποίηση σε ένα χάρτη SOM προκύπτει από το unified distance matrix (U-matrix): για κάθε κόμβο υπολογίζεται η μέση απόστασή του από τους γειτονικούς κόμβους. Εάν χρησιμοποιηθεί μπλε χρώμα στις περιοχές του χάρτη όπου η τιμή αυτή είναι χαμηλή (μικρή απόσταση) και κόκκινο εκεί που η τιμή είναι υψηλή (μεγάλη απόσταση), τότε μπορούμε να πούμε ότι οι μπλε περιοχές αποτελούν clusters και οι κόκκινες αποτελούν σύνορα μεταξύ clusters.\n",
    "\n",
    "To somoclu δίνει την επιπρόσθετη δυνατότητα να κάνουμε ομαδοποίηση των νευρώνων χρησιμοποιώντας οποιονδήποτε αλγόριθμο ομαδοποίησης του scikit-learn. Στην άσκηση θα χρησιμοποιήσουμε τον k-Means. Για τον αρχικό σας χάρτη δοκιμάστε ένα k=20 ή 25. Οι δύο προσεγγίσεις ομαδοποίησης είναι διαφορετικές, οπότε περιμένουμε τα αποτελέσματα να είναι κοντά αλλά όχι τα ίδια.\n"
   ]
  },
  {
   "cell_type": "markdown",
   "metadata": {
    "colab_type": "text",
    "id": "2nupuqcuaMe3"
   },
   "source": [
    "\n",
    "## Αποθήκευση του SOM\n",
    "\n",
    "Επειδή η αρχικοποίηση του SOM γίνεται τυχαία και το clustering είναι και αυτό στοχαστική διαδικασία, οι θέσεις και οι ετικέτες των νευρώνων και των clusters θα είναι διαφορετικές κάθε φορά που τρέχετε τον χάρτη, ακόμα και με τις ίδιες παραμέτρους. Για να αποθηκεύσετε ένα συγκεκριμένο som και clustering χρησιμοποιήστε και πάλι την `joblib`. Μετά την ανάκληση ενός SOM θυμηθείτε να ακολουθήσετε τη διαδικασία για τα bmus.\n"
   ]
  },
  {
   "cell_type": "markdown",
   "metadata": {
    "colab_type": "text",
    "id": "ejX0Qs18aRHU"
   },
   "source": [
    "\n",
    "## Οπτικοποίηση U-matrix, clustering και μέγεθος clusters\n",
    "\n",
    "Για την εκτύπωση του U-matrix χρησιμοποιήστε τη `view_umatrix` με ορίσματα `bestmatches=True` και `figsize=(15, 15)` ή `figsize=(20, 20)`. Τα διαφορετικά χρώματα που εμφανίζονται στους κόμβους αντιπροσωπεύουν τα διαφορετικά clusters που προκύπτουν από τον k-Means. Μπορείτε να εμφανίσετε τη λεζάντα του U-matrix με το όρισμα `colorbar`. Μην τυπώνετε τις ετικέτες (labels) των δειγμάτων, είναι πολύ μεγάλος ο αριθμός τους.\n",
    "\n",
    "Για μια δεύτερη πιο ξεκάθαρη οπτικοποίηση του clustering τυπώστε απευθείας τη μεταβλητή `clusters`.\n",
    "\n",
    "Τέλος, χρησιμοποιώντας πάλι την `np.unique` (με διαφορετικό όρισμα) και την `np.argsort` (υπάρχουν και άλλοι τρόποι υλοποίησης) εκτυπώστε τις ετικέτες των clusters (αριθμοί από 0 έως k-1) και τον αριθμό των νευρώνων σε κάθε cluster, με φθίνουσα ή αύξουσα σειρά ως προς τον αριθμό των νευρώνων. Ουσιαστικά είναι ένα εργαλείο για να βρίσκετε εύκολα τα μεγάλα και μικρά clusters. \n",
    "\n",
    "Ακολουθεί ένα μη βελτιστοποιημένο παράδειγμα για τις τρεις προηγούμενες εξόδους:\n",
    "\n",
    "<img src=\"https://image.ibb.co/i0tsfR/umatrix_s.jpg\" width=\"35%\">\n",
    "<img src=\"https://image.ibb.co/nLgHEm/clusters.png\" width=\"35%\">\n",
    "\n"
   ]
  },
  {
   "cell_type": "markdown",
   "metadata": {
    "colab_type": "text",
    "id": "fMO_KcQYaTv-"
   },
   "source": [
    "\n",
    "## Σημασιολογική ερμηνεία των clusters\n",
    "\n",
    "Προκειμένου να μελετήσουμε τις τοπολογικές ιδιότητες του SOM και το αν έχουν ενσωματώσει σημασιολογική πληροφορία για τις ταινίες διαμέσου της διανυσματικής αναπαράστασης με το tf-idf και των κατηγοριών, χρειαζόμαστε ένα κριτήριο ποιοτικής επισκόπησης των clusters. Θα υλοποιήσουμε το εξής κριτήριο: Λαμβάνουμε όρισμα έναν αριθμό (ετικέτα) cluster. Για το cluster αυτό βρίσκουμε όλους τους νευρώνες που του έχουν ανατεθεί από τον k-Means. Για όλους τους νευρώνες αυτούς βρίσκουμε όλες τις ταινίες που τους έχουν ανατεθεί (για τις οποίες αποτελούν bmus). Για όλες αυτές τις ταινίες τυπώνουμε ταξινομημένη τη συνολική στατιστική όλων των ειδών (κατηγοριών) και τις συχνότητές τους. Αν το cluster διαθέτει καλή συνοχή και εξειδίκευση, θα πρέπει κάποιες κατηγορίες να έχουν σαφώς μεγαλύτερη συχνότητα από τις υπόλοιπες. Θα μπορούμε τότε να αναθέσουμε αυτήν/ές την/τις κατηγορία/ες ως ετικέτες κινηματογραφικού είδους στο cluster.\n",
    "\n",
    "Μπορείτε να υλοποιήσετε τη συνάρτηση αυτή όπως θέλετε. Μια πιθανή διαδικασία θα μπορούσε να είναι η ακόλουθη:\n",
    "\n",
    "1. Ορίζουμε συνάρτηση `print_categories_stats` που δέχεται ως είσοδο λίστα με ids ταινιών. Δημιουργούμε μια κενή λίστα συνολικών κατηγοριών. Στη συνέχεια, για κάθε ταινία επεξεργαζόμαστε το string `categories` ως εξής: δημιουργούμε μια λίστα διαχωρίζοντας το string κατάλληλα με την `split` και αφαιρούμε τα whitespaces μεταξύ ετικετών με την `strip`. Προσθέτουμε τη λίστα αυτή στη συνολική λίστα κατηγοριών με την `extend`. Τέλος χρησιμοποιούμε πάλι την `np.unique` για να μετρήσουμε συχνότητα μοναδικών ετικετών κατηγοριών και ταξινομούμε με την `np.argsort`. Τυπώνουμε τις κατηγορίες και τις συχνότητες εμφάνισης ταξινομημένα. Χρήσιμες μπορεί να σας φανούν και οι `np.ravel`, `np.nditer`, `np.array2string` και `zip`.\n",
    "\n",
    "2. Ορίζουμε τη βασική μας συνάρτηση `print_cluster_neurons_movies_report` που δέχεται ως όρισμα τον αριθμό ενός cluster. Με τη χρήση της `np.where` μπορούμε να βρούμε τις συντεταγμένες των bmus που αντιστοιχούν στο cluster και με την `column_stack` να φτιάξουμε έναν πίνακα bmus για το cluster. Προσοχή στη σειρά (στήλη - σειρά) στον πίνακα bmus. Για κάθε bmu αυτού του πίνακα ελέγχουμε αν υπάρχει στον πίνακα μοναδικών bmus που έχουμε υπολογίσει στην αρχή συνολικά και αν ναι προσθέτουμε το αντίστοιχο index του νευρώνα σε μια λίστα. Χρήσιμες μπορεί να είναι και οι `np.rollaxis`, `np.append`, `np.asscalar`. Επίσης πιθανώς να πρέπει να υλοποιήσετε ένα κριτήριο ομοιότητας μεταξύ ενός bmu και ενός μοναδικού bmu από τον αρχικό πίνακα bmus.\n",
    "\n",
    "3. Υλοποιούμε μια βοηθητική συνάρτηση `neuron_movies_report`. Λαμβάνει ένα σύνολο νευρώνων από την `print_cluster_neurons_movies_report` και μέσω της `indices` φτιάχνει μια λίστα με το σύνολο ταινιών που ανήκουν σε αυτούς τους νευρώνες. Στο τέλος καλεί με αυτή τη λίστα την `print_categories_stats` που τυπώνει τις στατιστικές των κατηγοριών.\n",
    "\n",
    "Μπορείτε βέβαια να προσθέσετε οποιαδήποτε επιπλέον έξοδο σας βοηθάει. Μια χρήσιμη έξοδος είναι πόσοι νευρώνες ανήκουν στο cluster και σε πόσους και ποιους από αυτούς έχουν ανατεθεί ταινίες.\n",
    "\n",
    "Θα επιτελούμε τη σημασιολογική ερμηνεία του χάρτη καλώντας την `print_cluster_neurons_movies_report` με τον αριθμός ενός cluster που μας ενδιαφέρει. \n",
    "\n",
    "Παράδειγμα εξόδου για ένα cluster (μη βελτιστοποιημένος χάρτης, ωστόσο βλέπετε ότι οι μεγάλες κατηγορίες έχουν σημασιολογική  συνάφεια):\n",
    "\n",
    "```\n",
    "Overall Cluster Genres stats:  \n",
    "[('\"Horror\"', 86), ('\"Science Fiction\"', 24), ('\"B-movie\"', 16), ('\"Monster movie\"', 10), ('\"Creature Film\"', 10), ('\"Indie\"', 9), ('\"Zombie Film\"', 9), ('\"Slasher\"', 8), ('\"World cinema\"', 8), ('\"Sci-Fi Horror\"', 7), ('\"Natural horror films\"', 6), ('\"Supernatural\"', 6), ('\"Thriller\"', 6), ('\"Cult\"', 5), ('\"Black-and-white\"', 5), ('\"Japanese Movies\"', 4), ('\"Short Film\"', 3), ('\"Drama\"', 3), ('\"Psychological thriller\"', 3), ('\"Crime Fiction\"', 3), ('\"Monster\"', 3), ('\"Comedy\"', 2), ('\"Western\"', 2), ('\"Horror Comedy\"', 2), ('\"Archaeology\"', 2), ('\"Alien Film\"', 2), ('\"Teen\"', 2), ('\"Mystery\"', 2), ('\"Adventure\"', 2), ('\"Comedy film\"', 2), ('\"Combat Films\"', 1), ('\"Chinese Movies\"', 1), ('\"Action/Adventure\"', 1), ('\"Gothic Film\"', 1), ('\"Costume drama\"', 1), ('\"Disaster\"', 1), ('\"Docudrama\"', 1), ('\"Film adaptation\"', 1), ('\"Film noir\"', 1), ('\"Parody\"', 1), ('\"Period piece\"', 1), ('\"Action\"', 1)]```\n",
    "   "
   ]
  },
  {
   "cell_type": "markdown",
   "metadata": {
    "colab_type": "text",
    "id": "lq4QrImhaa7E"
   },
   "source": [
    "\n",
    "## Tips για το SOM και το clustering\n",
    "\n",
    "- Για την ομαδοποίηση ένα U-matrix καλό είναι να εμφανίζει και μπλε-πράσινες περιοχές (clusters) και κόκκινες περιοχές (ορίων). Παρατηρήστε ποια σχέση υπάρχει μεταξύ αριθμού ταινιών στο final set, μεγέθους grid και ποιότητας U-matrix.\n",
    "- Για το k του k-Means προσπαθήστε να προσεγγίζει σχετικά τα clusters του U-matrix (όπως είπαμε είναι διαφορετικοί μέθοδοι clustering). Μικρός αριθμός k δεν θα σέβεται τα όρια. Μεγάλος αριθμός θα δημιουργεί υπο-clusters εντός των clusters που φαίνονται στο U-matrix. Το τελευταίο δεν είναι απαραίτητα κακό, αλλά μεγαλώνει τον αριθμό clusters που πρέπει να αναλυθούν σημασιολογικά.\n",
    "- Σε μικρούς χάρτες και με μικρά final sets δοκιμάστε διαφορετικές παραμέτρους για την εκπαίδευση του SOM. Σημειώστε τυχόν παραμέτρους που επηρεάζουν την ποιότητα του clustering για το dataset σας ώστε να τις εφαρμόσετε στους μεγάλους χάρτες.\n",
    "- Κάποια τοπολογικά χαρακτηριστικά εμφανίζονται ήδη σε μικρούς χάρτες. Κάποια άλλα χρειάζονται μεγαλύτερους χάρτες. Δοκιμάστε μεγέθη 20x20, 25x25 ή και 30x30 και αντίστοιχη προσαρμογή των k. Όσο μεγαλώνουν οι χάρτες, μεγαλώνει η ανάλυση του χάρτη αλλά μεγαλώνει και ο αριθμός clusters που πρέπει να αναλυθούν.\n"
   ]
  },
  {
   "cell_type": "markdown",
   "metadata": {
    "colab_type": "text",
    "id": "x4IUl8O8ayVf"
   },
   "source": [
    "\n",
    "\n",
    "## Ανάλυση τοπολογικών ιδιοτήτων χάρτη SOM\n",
    "\n",
    "Μετά το πέρας της εκπαίδευσης και του clustering θα έχετε ένα χάρτη με τοπολογικές ιδιότητες ως προς τα είδη των ταίνιών της συλλογής σας, κάτι αντίστοιχο με την εικόνα στην αρχή της Εφαρμογής 2 αυτού του notebook (η συγκεκριμένη εικόνα είναι μόνο για εικονογράφιση, δεν έχει καμία σχέση με τη συλλογή δεδομένων και τις κατηγορίες μας).\n",
    "\n",
    "Για τον τελικό χάρτη SOM που θα παράξετε για τη συλλογή σας, αναλύστε σε markdown με συγκεκριμένη αναφορά σε αριθμούς clusters και τη σημασιολογική ερμηνεία τους τις εξής τρεις τοπολογικές ιδιότητες του SOM: \n",
    "\n",
    "1. Δεδομένα που έχουν μεγαλύτερη πυκνότητα πιθανότητας στο χώρο εισόδου τείνουν να απεικονίζονται με περισσότερους νευρώνες στο χώρο μειωμένης διαστατικότητας. Δώστε παραδείγματα από συχνές και λιγότερο συχνές κατηγορίες ταινιών. Χρησιμοποιήστε τις στατιστικές των κατηγοριών στη συλλογή σας και τον αριθμό κόμβων που χαρακτηρίζουν.\n",
    "2. Μακρινά πρότυπα εισόδου τείνουν να απεικονίζονται απομακρυσμένα στο χάρτη. Υπάρχουν χαρακτηριστικές κατηγορίες ταινιών που ήδη από μικρούς χάρτες τείνουν να τοποθετούνται σε διαφορετικά ή απομονωμένα σημεία του χάρτη.\n",
    "3. Κοντινά πρότυπα εισόδου τείνουν να απεικονίζονται κοντά στο χάρτη. Σε μεγάλους χάρτες εντοπίστε είδη ταινιών και κοντινά τους υποείδη.\n",
    "\n",
    "Προφανώς τοποθέτηση σε 2 διαστάσεις που να σέβεται μια απόλυτη τοπολογία δεν είναι εφικτή, αφενός γιατί δεν υπάρχει κάποια απόλυτη εξ ορισμού για τα κινηματογραφικά είδη ακόμα και σε πολλές διαστάσεις, αφετέρου γιατί πραγματοποιούμε μείωση διαστατικότητας.\n",
    "\n",
    "Εντοπίστε μεγάλα clusters και μικρά clusters που δεν έχουν σαφή χαρακτηριστικά. Εντοπίστε clusters συγκεκριμένων ειδών που μοιάζουν να μην έχουν τοπολογική συνάφεια με γύρω περιοχές. Προτείνετε πιθανές ερμηνείες.\n",
    "\n",
    "\n",
    "\n",
    "Τέλος, εντοπίστε clusters που έχουν κατά την άποψή σας ιδιαίτερο ενδιαφέρον στη συλλογή της ομάδας σας (data exploration / discovery value) και σχολιάστε.\n"
   ]
  },
  {
   "cell_type": "markdown",
   "metadata": {
    "colab_type": "text",
    "id": "tYjxGR5DawIy"
   },
   "source": [
    "\n",
    "# Τελική παράδοση άσκησης\n",
    "\n",
    "- Θα παραδώσετε στο mycourses το παρόν notebook επεξεργασμένο με τις απαντήσεις σας για τα ζητούμενα και των δύο εφαρμογών. \n",
    "- Προσέξτε ώστε να **απαντήσετε σε όλα τα σημεία όπου απαιτείται**.\n",
    "- Μαζί Θα παραδώσετε τα joblib dumps των τελικών `corpus_tf_idf.pkl` και `som.pkl` (μεγάλος χάρτης - 5000 ταινίες) που θα χρησιμοποιήσετε. Θυμηθείτε ότι η ανάλυση του χάρτη στο markdown με αναφορά σε αριθμούς clusters πρέπει να αναφέρεται στο dump του χάρτη που θα μας παραδώσετε αλλιώς ο χάρτης που θα προκύψει θα είναι διαφορετικός και τα labels των clusters δεν θα αντιστοιχούν στην ανάλυσή σας. Οδηγίες για την αποθήκευση των dumps θα βρείτε στο [FAQ](https://docs.google.com/document/d/1-E4eQkVnTxa3Jb0HL9OAs11bugYRRZ7RNWpu7yh9G4s/edit?usp=sharing). \n",
    "- Μην ξεχάσετε στην αρχή ένα κελί markdown με **τα στοιχεία της ομάδας σας**.\n",
    "- Στο **zip** που θα παραδώσετε πρέπει να βρίσκονται **4 αρχεία (το .ipynb και το .py του notebook καθώς και τα δύο .pkl)**\n",
    "- **Το maximum upload filesize στο mycourses είναι 29MB**, εάν το zip σας είναι μεγαλύτερο, δεν έχετε βελτιστοποιήσει το tfidf."
   ]
  },
  {
   "cell_type": "markdown",
   "metadata": {
    "colab_type": "text",
    "id": "UHhCkvxjnitd"
   },
   "source": [
    "<table>\n",
    "  <tr><td align=\"center\">\n",
    "    <font size=\"4\">Παρακαλούμε διατρέξτε βήμα-βήμα το notebook για να μην ξεχάσετε παραδοτέα!</font>\n",
    "</td>\n",
    "  </tr>\n",
    "</table>"
   ]
  },
  {
   "cell_type": "markdown",
   "metadata": {
    "colab_type": "text",
    "id": "a-FvmQai5S9m"
   },
   "source": [
    "## Ημερομηνία παράδοσης ##\n",
    "\n",
    "Κυριακή 19 Ιανουαρίου 2020.\n",
    "\n",
    "Καλή επιτυχία!\n"
   ]
  }
 ],
 "metadata": {
  "colab": {
   "name": "Άσκηση 2 Εκφώνηση.ipynb",
   "provenance": []
  },
  "kernelspec": {
   "display_name": "Python 3",
   "language": "python",
   "name": "python3"
  },
  "language_info": {
   "codemirror_mode": {
    "name": "ipython",
    "version": 3
   },
   "file_extension": ".py",
   "mimetype": "text/x-python",
   "name": "python",
   "nbconvert_exporter": "python",
   "pygments_lexer": "ipython3",
   "version": "3.7.5"
  }
 },
 "nbformat": 4,
 "nbformat_minor": 1
}
