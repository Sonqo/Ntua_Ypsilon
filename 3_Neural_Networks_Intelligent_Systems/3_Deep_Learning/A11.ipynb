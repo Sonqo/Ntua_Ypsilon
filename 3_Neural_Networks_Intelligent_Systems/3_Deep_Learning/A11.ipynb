{
  "nbformat": 4,
  "nbformat_minor": 0,
  "metadata": {
    "colab": {
      "name": "CIFAR-100.ipynb",
      "provenance": [],
      "collapsed_sections": [],
      "toc_visible": true
    },
    "kernelspec": {
      "name": "python3",
      "display_name": "Python 3"
    },
    "accelerator": "GPU"
  },
  "cells": [
    {
      "cell_type": "code",
      "metadata": {
        "id": "DsRt5JelvV7u",
        "colab_type": "code",
        "colab": {}
      },
      "source": [
        "!sudo pip install --upgrade pip;\n",
        "!sudo pip install --upgrade tensorflow;"
      ],
      "execution_count": 0,
      "outputs": []
    },
    {
      "cell_type": "markdown",
      "metadata": {
        "id": "h2IcJXcTy-Qs",
        "colab_type": "text"
      },
      "source": [
        "## Στοιχεία Ομάδας\n",
        "\n",
        "Αριθμός Ομάδας: Μ.Α.11\n",
        "\n",
        "    > Καρυπιάδης Ευστράτιος: 03114911"
      ]
    },
    {
      "cell_type": "markdown",
      "metadata": {
        "id": "HUPTXpNqvrB0",
        "colab_type": "text"
      },
      "source": [
        "---\n",
        "\n",
        "## Σύνολο δεδομένων\n",
        "\n",
        "Το σύνολο δεδομένων στο οποίο θα εργαστούμε είναι το [CIFAR-100](https://bit.ly/38CUquZ), το οποίο αποτελείται απο 60.000 έγχρωμες εικόνες διαστάσεων 32x32. Κάθε μία από αυτές ανήκει σε μία γενική(*fine*) και μία ειδική(*coarse*) κατηγορία του συνόλου, πλήθους 100 και 20 αντίστοιχα. Προς ταξινόμηση των δειγμάτων μας θα εκμεταλευτούμε μονάχα τις *fine* κατηγορίες των εικόνων που έχουμε στη διάθεσή μας.\n",
        "\n",
        "\t"
      ]
    },
    {
      "cell_type": "markdown",
      "metadata": {
        "id": "LpnEVMCYYlnD",
        "colab_type": "text"
      },
      "source": [
        "# Ένα απλό παράδειγμα υλοποίησης"
      ]
    },
    {
      "cell_type": "markdown",
      "metadata": {
        "id": "DfEMjsB4Yurm",
        "colab_type": "text"
      },
      "source": [
        "## Εισαγωγή και επισκόπηση του συνόλου δεδομένων"
      ]
    },
    {
      "cell_type": "code",
      "metadata": {
        "id": "STXQMBuN3nZ6",
        "colab_type": "code",
        "colab": {}
      },
      "source": [
        "from __future__ import absolute_import, division, print_function, unicode_literals # legacy compatibility\n",
        "\n",
        "import tensorflow as tf\n",
        "from tensorflow.keras import datasets, layers, models\n",
        "\n",
        "import numpy as np\n",
        "import pandas as pd\n",
        "import matplotlib.pyplot as plt"
      ],
      "execution_count": 0,
      "outputs": []
    },
    {
      "cell_type": "code",
      "metadata": {
        "id": "2WSEGPI9Q7tW",
        "colab_type": "code",
        "colab": {}
      },
      "source": [
        "# helper functions\n",
        "\n",
        "# select from from_list elements with index in index_list\n",
        "def select_from_list(from_list, index_list):\n",
        "  filtered_list= [from_list[i] for i in index_list]\n",
        "  return(filtered_list)\n",
        "\n",
        "# append in filtered_list the index of each element of unfilterd_list if it exists in in target_list\n",
        "def get_ds_index(unfiliterd_list, target_list):\n",
        "  index = 0\n",
        "  filtered_list=[]\n",
        "  for i_ in unfiliterd_list:\n",
        "    if i_[0] in target_list:\n",
        "      filtered_list.append(index)\n",
        "    index += 1\n",
        "  return(filtered_list)\n",
        "\n",
        "# select a url for a unique subset of CIFAR-100 with 20, 40, 60, or 80 classes\n",
        "def select_classes_number(classes_number = 20):\n",
        "  cifar100_20_classes_url = \"https://pastebin.com/raw/nzE1n98V\"\n",
        "  cifar100_40_classes_url = \"https://pastebin.com/raw/zGX4mCNP\"\n",
        "  cifar100_60_classes_url = \"https://pastebin.com/raw/nsDTd3Qn\"\n",
        "  cifar100_80_classes_url = \"https://pastebin.com/raw/SNbXz700\"\n",
        "  if classes_number == 20:\n",
        "    return cifar100_20_classes_url\n",
        "  elif classes_number == 40:\n",
        "    return cifar100_40_classes_url\n",
        "  elif classes_number == 60:\n",
        "    return cifar100_60_classes_url\n",
        "  elif classes_number == 80:\n",
        "    return cifar100_80_classes_url\n",
        "  else:\n",
        "    return -1"
      ],
      "execution_count": 0,
      "outputs": []
    },
    {
      "cell_type": "code",
      "metadata": {
        "id": "OCW71UaGzz0Q",
        "colab_type": "code",
        "outputId": "d2e56a77-6c2c-4efb-c753-95795d825f8f",
        "colab": {
          "base_uri": "https://localhost:8080/",
          "height": 51
        }
      },
      "source": [
        "# load the entire dataset\n",
        "(x_train_all, y_train_all), (x_test_all, y_test_all) = tf.keras.datasets.cifar100.load_data(label_mode='fine')"
      ],
      "execution_count": 0,
      "outputs": [
        {
          "output_type": "stream",
          "text": [
            "Downloading data from https://www.cs.toronto.edu/~kriz/cifar-100-python.tar.gz\n",
            "169009152/169001437 [==============================] - 11s 0us/step\n"
          ],
          "name": "stdout"
        }
      ]
    },
    {
      "cell_type": "markdown",
      "metadata": {
        "id": "9PO9wIwYUf0R",
        "colab_type": "text"
      },
      "source": [
        "Η κάθε ομάδα θα δουλέψει με \n",
        "Στο επόμενο κελί, αντικαταστήστε την τιμή της μεταβλητής `team_seed` με τον αριθμό που αντιστοιχεί στην ομάδας σας σε [αυτό το σύνδεσμο](https://docs.google.com/spreadsheets/d/1oEr3yuPg22lmMeqDjFtWjJRzmGQ8N57YIuV-ZOvy3dM/edit?usp=sharing)."
      ]
    },
    {
      "cell_type": "code",
      "metadata": {
        "id": "NN0kEze7uZ_G",
        "colab_type": "code",
        "colab": {}
      },
      "source": [
        "# REPLACE WITH YOUR TEAM NUMBER\n",
        "team_seed = 11"
      ],
      "execution_count": 0,
      "outputs": []
    },
    {
      "cell_type": "markdown",
      "metadata": {
        "id": "8xYQ_Q1SVZEk",
        "colab_type": "text"
      },
      "source": [
        "Στο επόμενο κελί μπορείτε να διαλέξετε το πλήθος των κατηγορίων σας: 20 (default), 40, 60 ή 80."
      ]
    },
    {
      "cell_type": "code",
      "metadata": {
        "id": "RhbZJW6PxUDJ",
        "colab_type": "code",
        "colab": {}
      },
      "source": [
        "# select the number of classes\n",
        "cifar100_classes_url = select_classes_number()"
      ],
      "execution_count": 0,
      "outputs": []
    },
    {
      "cell_type": "markdown",
      "metadata": {
        "id": "yO9f6wb0Wi0H",
        "colab_type": "text"
      },
      "source": [
        "Δημιουργούμε το μοναδικό dataset της ομάδας μας:"
      ]
    },
    {
      "cell_type": "code",
      "metadata": {
        "id": "PgIN2h_KuCp_",
        "colab_type": "code",
        "colab": {}
      },
      "source": [
        "team_classes = pd.read_csv(cifar100_classes_url, sep=',', header=None)\n",
        "CIFAR100_LABELS_LIST = pd.read_csv('https://pastebin.com/raw/qgDaNggt', sep=',', header=None).astype(str).values.tolist()[0]\n",
        "\n",
        "our_index = team_classes.iloc[team_seed,:].values.tolist()\n",
        "our_classes = select_from_list(CIFAR100_LABELS_LIST, our_index)\n",
        "train_index = get_ds_index(y_train_all, our_index)\n",
        "test_index = get_ds_index(y_test_all, our_index)\n",
        "\n",
        "x_train_ds = np.asarray(select_from_list(x_train_all, train_index))\n",
        "y_train_ds = np.asarray(select_from_list(y_train_all, train_index))\n",
        "x_test_ds = np.asarray(select_from_list(x_test_all, test_index))\n",
        "y_test_ds = np.asarray(select_from_list(y_test_all, test_index))"
      ],
      "execution_count": 0,
      "outputs": []
    },
    {
      "cell_type": "code",
      "metadata": {
        "id": "_B4-tvVOQq3j",
        "colab_type": "code",
        "outputId": "6dfd64f5-535b-4e71-8469-47be4a85fdb5",
        "colab": {
          "base_uri": "https://localhost:8080/",
          "height": 54
        }
      },
      "source": [
        "# print our classes\n",
        "print(our_classes)"
      ],
      "execution_count": 0,
      "outputs": [
        {
          "output_type": "stream",
          "text": [
            "['apple', ' aquarium_fish', ' bicycle', ' boy', ' couch', ' flatfish', ' kangaroo', ' leopard', ' lion', ' mouse', ' mushroom', ' orchid', ' plain', ' plate', ' skunk', ' streetcar', ' sunflower', ' table', ' telephone', ' tulip']\n"
          ],
          "name": "stdout"
        }
      ]
    },
    {
      "cell_type": "code",
      "metadata": {
        "id": "QpGXgTs_5ZCk",
        "colab_type": "code",
        "outputId": "a60f3003-2182-4bb2-a185-95e70534bf16",
        "colab": {
          "base_uri": "https://localhost:8080/",
          "height": 441
        }
      },
      "source": [
        "# get (train) dataset dimensions\n",
        "data_size, img_rows, img_cols, img_channels = x_train_ds.shape\n",
        "\n",
        "# set validation set percentage (wrt the training set size)\n",
        "validation_percentage = 0.15\n",
        "val_size = round(validation_percentage * data_size)\n",
        "\n",
        "# Reserve val_size samples for validation and normalize all values\n",
        "x_val = x_train_ds[-val_size:]/255\n",
        "y_val = y_train_ds[-val_size:]\n",
        "x_train = x_train_ds[:-val_size]/255\n",
        "y_train = y_train_ds[:-val_size]\n",
        "x_test = x_test_ds/255\n",
        "y_test = y_test_ds\n",
        "\n",
        "# summarize loaded dataset\n",
        "print('Train: X=%s, y=%s' % (x_train.shape, y_train.shape))\n",
        "print('Validation: X=%s, y=%s' % (x_val.shape, y_val.shape))\n",
        "print('Test: X=%s, y=%s' % (x_test.shape, y_test.shape))\n",
        "\n",
        "# get class label from class index\n",
        "def class_label_from_index(fine_category):\n",
        "  return(CIFAR100_LABELS_LIST[fine_category.item(0)])\n",
        "\n",
        "# plot first few images\n",
        "plt.figure(figsize=(6, 6))\n",
        "for i in range(9):\n",
        "\t# define subplot\n",
        "  plt.subplot(330 + 1 + i).set_title(class_label_from_index(y_train[i]))\n",
        "\t# plot raw pixel data\n",
        "  plt.imshow(x_train[i], cmap=plt.get_cmap('gray'))\n",
        "  #show the figure\n",
        "plt.show()"
      ],
      "execution_count": 0,
      "outputs": [
        {
          "output_type": "stream",
          "text": [
            "Train: X=(8500, 32, 32, 3), y=(8500, 1)\n",
            "Validation: X=(1500, 32, 32, 3), y=(1500, 1)\n",
            "Test: X=(2000, 32, 32, 3), y=(2000, 1)\n"
          ],
          "name": "stdout"
        },
        {
          "output_type": "display_data",
          "data": {
            "image/png": "[encoded data removed]",
            "text/plain": [
              "<Figure size 432x432 with 9 Axes>"
            ]
          },
          "metadata": {
            "tags": []
          }
        }
      ]
    },
    {
      "cell_type": "markdown",
      "metadata": {
        "id": "0cniJE8eZQAA",
        "colab_type": "text"
      },
      "source": [
        "## Συναρτήσεις εκπαίδευσης"
      ]
    },
    {
      "cell_type": "markdown",
      "metadata": {
        "id": "G3xB9x5JZjSN",
        "colab_type": "text"
      },
      "source": [
        "Θα χρησιμοποιήσουμε την ιδιότητα data prefetch του tf2:"
      ]
    },
    {
      "cell_type": "code",
      "metadata": {
        "id": "KPFYqOmIa5Fr",
        "colab_type": "code",
        "colab": {}
      },
      "source": [
        "# we user prefetch https://www.tensorflow.org/api_docs/python/tf/data/Dataset#prefetch \n",
        "# see also AUTOTUNE\n",
        "# the dataset is now \"infinite\"\n",
        "\n",
        "BATCH_SIZE = 128\n",
        "AUTOTUNE = tf.data.experimental.AUTOTUNE # https://www.tensorflow.org/guide/data_performance\n",
        "\n",
        "def _input_fn(x,y, BATCH_SIZE):\n",
        "  ds = tf.data.Dataset.from_tensor_slices((x,y))\n",
        "  ds = ds.shuffle(buffer_size=data_size)\n",
        "  ds = ds.repeat()\n",
        "  ds = ds.batch(BATCH_SIZE)\n",
        "  ds = ds.prefetch(buffer_size=AUTOTUNE)\n",
        "  return ds\n",
        "\n",
        "train_ds =_input_fn(x_train,y_train, BATCH_SIZE) #PrefetchDataset object\n",
        "validation_ds =_input_fn(x_val,y_val, BATCH_SIZE) #PrefetchDataset object\n",
        "test_ds =_input_fn(x_test,y_test, BATCH_SIZE) #PrefetchDataset object\n",
        "\n",
        "# steps_per_epoch and validation_steps for training and validation: https://www.tensorflow.org/guide/keras/train_and_evaluate\n",
        "\n",
        "def train_model(model, epochs = 10, steps_per_epoch = 2, validation_steps = 1):\n",
        "  history = model.fit(train_ds, epochs=epochs, steps_per_epoch=steps_per_epoch, validation_data=validation_ds, validation_steps=validation_steps)\n",
        "  return(history)"
      ],
      "execution_count": 0,
      "outputs": []
    },
    {
      "cell_type": "markdown",
      "metadata": {
        "id": "onYIggE9Z2f4",
        "colab_type": "text"
      },
      "source": [
        "## Γραφικές παραστάσεις εκπαίδευσης και απόδοση στο σύνολο ελέγχου"
      ]
    },
    {
      "cell_type": "code",
      "metadata": {
        "id": "vdWPm3zqbRo1",
        "colab_type": "code",
        "colab": {}
      },
      "source": [
        "# plot diagnostic learning curves\n",
        "def summarize_diagnostics(history):\n",
        "\tplt.figure(figsize=(8, 8))\n",
        "\tplt.suptitle('Training Curves')\n",
        "\t# plot loss\n",
        "\tplt.subplot(211)\n",
        "\tplt.title('Cross Entropy Loss')\n",
        "\tplt.plot(history.history['loss'], color='blue', label='train')\n",
        "\tplt.plot(history.history['val_loss'], color='orange', label='val')\n",
        "\tplt.legend(loc='upper right')\n",
        "\t# plot accuracy\n",
        "\tplt.subplot(212)\n",
        "\tplt.title('Classification Accuracy')\n",
        "\tplt.plot(history.history['accuracy'], color='blue', label='train')\n",
        "\tplt.plot(history.history['val_accuracy'], color='orange', label='val')\n",
        "\tplt.legend(loc='lower right')\n",
        "\treturn plt\n",
        " \n",
        "# print test set evaluation metrics\n",
        "def model_evaluation(model, evaluation_steps):\n",
        "\tprint('\\nTest set evaluation metrics')\n",
        "\tloss0,accuracy0 = model.evaluate(test_ds, steps = evaluation_steps)\n",
        "\tprint(\"loss: {:.2f}\".format(loss0))\n",
        "\tprint(\"accuracy: {:.2f}\".format(accuracy0))\n",
        "\n",
        "def model_report(model, history, evaluation_steps = 10):\n",
        "\tplt = summarize_diagnostics(history)\n",
        "\tplt.show()\n",
        "\tmodel_evaluation(model, evaluation_steps)"
      ],
      "execution_count": 0,
      "outputs": []
    },
    {
      "cell_type": "markdown",
      "metadata": {
        "id": "Waa4c40Yay3k",
        "colab_type": "text"
      },
      "source": [
        "## Μοντέλα δικτύων"
      ]
    },
    {
      "cell_type": "markdown",
      "metadata": {
        "id": "cFTzQtMOa3Rv",
        "colab_type": "text"
      },
      "source": [
        "### Ένα μικρό συνελικτικό δίκτυο \"from scratch\""
      ]
    },
    {
      "cell_type": "code",
      "metadata": {
        "id": "LtcgTkHojt0G",
        "colab_type": "code",
        "colab": {}
      },
      "source": [
        "# a simple CNN https://www.tensorflow.org/tutorials/images/cnn\n",
        "\n",
        "def init_simple_model(summary):\n",
        "  model = models.Sequential()\n",
        "  model.add(layers.Conv2D(32, (3, 3), activation='relu', input_shape=(32, 32, 3)))\n",
        "  model.add(layers.MaxPooling2D((2, 2)))\n",
        "  model.add(layers.Conv2D(64, (3, 3), activation='relu'))\n",
        "  model.add(layers.MaxPooling2D((2, 2)))\n",
        "  model.add(layers.Conv2D(64, (3, 3), activation='relu'))\n",
        "  model.add(layers.Flatten())\n",
        "  model.add(layers.Dense(64, activation='relu'))\n",
        "  model.add(layers.Dense(100, activation='softmax'))\n",
        "  model.compile(optimizer=tf.optimizers.Adam(), loss=tf.keras.losses.sparse_categorical_crossentropy, metrics=[\"accuracy\"])\n",
        "  if summary: \n",
        "    model.summary()\n",
        "  return model"
      ],
      "execution_count": 0,
      "outputs": []
    },
    {
      "cell_type": "code",
      "metadata": {
        "id": "dSbtouO9lGvj",
        "colab_type": "code",
        "outputId": "5d67387a-7a30-475b-e70b-dcda894db30c",
        "colab": {
          "base_uri": "https://localhost:8080/",
          "height": 1000
        }
      },
      "source": [
        "SIMPLE_MODEL = init_simple_model(summary = True)\n",
        "SIMPLE_MODEL_history = train_model(SIMPLE_MODEL, 50, 30, 5)"
      ],
      "execution_count": 0,
      "outputs": [
        {
          "output_type": "stream",
          "text": [
            "Model: \"sequential\"\n",
            "_________________________________________________________________\n",
            "Layer (type)                 Output Shape              Param #   \n",
            "=================================================================\n",
            "conv2d (Conv2D)              (None, 30, 30, 32)        896       \n",
            "_________________________________________________________________\n",
            "max_pooling2d (MaxPooling2D) (None, 15, 15, 32)        0         \n",
            "_________________________________________________________________\n",
            "conv2d_1 (Conv2D)            (None, 13, 13, 64)        18496     \n",
            "_________________________________________________________________\n",
            "max_pooling2d_1 (MaxPooling2 (None, 6, 6, 64)          0         \n",
            "_________________________________________________________________\n",
            "conv2d_2 (Conv2D)            (None, 4, 4, 64)          36928     \n",
            "_________________________________________________________________\n",
            "flatten (Flatten)            (None, 1024)              0         \n",
            "_________________________________________________________________\n",
            "dense (Dense)                (None, 64)                65600     \n",
            "_________________________________________________________________\n",
            "dense_1 (Dense)              (None, 100)               6500      \n",
            "=================================================================\n",
            "Total params: 128,420\n",
            "Trainable params: 128,420\n",
            "Non-trainable params: 0\n",
            "_________________________________________________________________\n",
            "Train for 30 steps, validate for 5 steps\n",
            "Epoch 1/50\n",
            "30/30 [==============================] - 7s 226ms/step - loss: 3.6624 - accuracy: 0.0648 - val_loss: 3.0170 - val_accuracy: 0.0500\n",
            "Epoch 2/50\n",
            "30/30 [==============================] - 0s 9ms/step - loss: 2.8903 - accuracy: 0.1292 - val_loss: 2.8103 - val_accuracy: 0.1328\n",
            "Epoch 3/50\n",
            "30/30 [==============================] - 0s 12ms/step - loss: 2.6877 - accuracy: 0.1680 - val_loss: 2.5767 - val_accuracy: 0.1969\n",
            "Epoch 4/50\n",
            "30/30 [==============================] - 0s 9ms/step - loss: 2.5104 - accuracy: 0.2372 - val_loss: 2.4763 - val_accuracy: 0.2625\n",
            "Epoch 5/50\n",
            "30/30 [==============================] - 0s 12ms/step - loss: 2.4479 - accuracy: 0.2646 - val_loss: 2.4418 - val_accuracy: 0.2672\n",
            "Epoch 6/50\n",
            "30/30 [==============================] - 0s 9ms/step - loss: 2.3484 - accuracy: 0.2839 - val_loss: 2.4629 - val_accuracy: 0.2750\n",
            "Epoch 7/50\n",
            "30/30 [==============================] - 0s 12ms/step - loss: 2.2029 - accuracy: 0.3326 - val_loss: 2.2718 - val_accuracy: 0.3078\n",
            "Epoch 8/50\n",
            "30/30 [==============================] - 0s 9ms/step - loss: 2.1672 - accuracy: 0.3453 - val_loss: 2.2211 - val_accuracy: 0.3109\n",
            "Epoch 9/50\n",
            "30/30 [==============================] - 0s 12ms/step - loss: 2.0641 - accuracy: 0.3859 - val_loss: 2.1115 - val_accuracy: 0.3547\n",
            "Epoch 10/50\n",
            "30/30 [==============================] - 0s 12ms/step - loss: 1.9771 - accuracy: 0.3979 - val_loss: 2.0803 - val_accuracy: 0.3781\n",
            "Epoch 11/50\n",
            "30/30 [==============================] - 0s 10ms/step - loss: 1.9855 - accuracy: 0.4013 - val_loss: 1.9923 - val_accuracy: 0.3969\n",
            "Epoch 12/50\n",
            "30/30 [==============================] - 0s 10ms/step - loss: 1.8819 - accuracy: 0.4336 - val_loss: 2.0819 - val_accuracy: 0.3953\n",
            "Epoch 13/50\n",
            "30/30 [==============================] - 0s 11ms/step - loss: 1.8780 - accuracy: 0.4302 - val_loss: 2.0482 - val_accuracy: 0.3812\n",
            "Epoch 14/50\n",
            "30/30 [==============================] - 0s 9ms/step - loss: 1.8267 - accuracy: 0.4396 - val_loss: 1.9740 - val_accuracy: 0.4000\n",
            "Epoch 15/50\n",
            "30/30 [==============================] - 0s 11ms/step - loss: 1.7670 - accuracy: 0.4607 - val_loss: 1.9305 - val_accuracy: 0.4172\n",
            "Epoch 16/50\n",
            "30/30 [==============================] - 0s 9ms/step - loss: 1.7152 - accuracy: 0.4716 - val_loss: 1.8799 - val_accuracy: 0.4047\n",
            "Epoch 17/50\n",
            "30/30 [==============================] - 0s 11ms/step - loss: 1.7206 - accuracy: 0.4815 - val_loss: 1.8416 - val_accuracy: 0.4266\n",
            "Epoch 18/50\n",
            "30/30 [==============================] - 0s 9ms/step - loss: 1.6576 - accuracy: 0.4857 - val_loss: 1.9521 - val_accuracy: 0.3969\n",
            "Epoch 19/50\n",
            "30/30 [==============================] - 0s 11ms/step - loss: 1.6317 - accuracy: 0.5018 - val_loss: 1.7140 - val_accuracy: 0.4688\n",
            "Epoch 20/50\n",
            "30/30 [==============================] - 0s 9ms/step - loss: 1.6330 - accuracy: 0.4964 - val_loss: 1.7582 - val_accuracy: 0.4688\n",
            "Epoch 21/50\n",
            "30/30 [==============================] - 0s 10ms/step - loss: 1.5734 - accuracy: 0.5167 - val_loss: 1.7490 - val_accuracy: 0.4719\n",
            "Epoch 22/50\n",
            "30/30 [==============================] - 0s 11ms/step - loss: 1.5273 - accuracy: 0.5292 - val_loss: 1.7812 - val_accuracy: 0.4703\n",
            "Epoch 23/50\n",
            "30/30 [==============================] - 0s 9ms/step - loss: 1.5356 - accuracy: 0.5232 - val_loss: 1.7149 - val_accuracy: 0.4531\n",
            "Epoch 24/50\n",
            "30/30 [==============================] - 0s 11ms/step - loss: 1.4995 - accuracy: 0.5367 - val_loss: 1.7474 - val_accuracy: 0.4609\n",
            "Epoch 25/50\n",
            "30/30 [==============================] - 0s 9ms/step - loss: 1.4957 - accuracy: 0.5461 - val_loss: 1.7691 - val_accuracy: 0.4391\n",
            "Epoch 26/50\n",
            "30/30 [==============================] - 0s 11ms/step - loss: 1.4586 - accuracy: 0.5414 - val_loss: 1.6858 - val_accuracy: 0.4906\n",
            "Epoch 27/50\n",
            "30/30 [==============================] - 0s 9ms/step - loss: 1.4076 - accuracy: 0.5604 - val_loss: 1.6411 - val_accuracy: 0.4828\n",
            "Epoch 28/50\n",
            "30/30 [==============================] - 0s 11ms/step - loss: 1.4386 - accuracy: 0.5552 - val_loss: 1.7750 - val_accuracy: 0.4516\n",
            "Epoch 29/50\n",
            "30/30 [==============================] - 0s 10ms/step - loss: 1.4218 - accuracy: 0.5674 - val_loss: 1.6511 - val_accuracy: 0.4703\n",
            "Epoch 30/50\n",
            "30/30 [==============================] - 0s 11ms/step - loss: 1.3814 - accuracy: 0.5708 - val_loss: 1.6580 - val_accuracy: 0.4969\n",
            "Epoch 31/50\n",
            "30/30 [==============================] - 0s 10ms/step - loss: 1.4210 - accuracy: 0.5552 - val_loss: 1.5556 - val_accuracy: 0.5250\n",
            "Epoch 32/50\n",
            "30/30 [==============================] - 0s 10ms/step - loss: 1.3436 - accuracy: 0.5901 - val_loss: 1.5431 - val_accuracy: 0.5375\n",
            "Epoch 33/50\n",
            "30/30 [==============================] - 0s 10ms/step - loss: 1.3396 - accuracy: 0.5721 - val_loss: 1.7342 - val_accuracy: 0.5125\n",
            "Epoch 34/50\n",
            "30/30 [==============================] - 0s 9ms/step - loss: 1.3805 - accuracy: 0.5659 - val_loss: 1.6634 - val_accuracy: 0.4734\n",
            "Epoch 35/50\n",
            "30/30 [==============================] - 0s 11ms/step - loss: 1.3081 - accuracy: 0.5938 - val_loss: 1.5979 - val_accuracy: 0.4844\n",
            "Epoch 36/50\n",
            "30/30 [==============================] - 0s 9ms/step - loss: 1.2575 - accuracy: 0.6086 - val_loss: 1.5644 - val_accuracy: 0.5406\n",
            "Epoch 37/50\n",
            "30/30 [==============================] - 0s 11ms/step - loss: 1.2718 - accuracy: 0.5979 - val_loss: 1.5623 - val_accuracy: 0.5281\n",
            "Epoch 38/50\n",
            "30/30 [==============================] - 0s 9ms/step - loss: 1.2343 - accuracy: 0.6117 - val_loss: 1.5507 - val_accuracy: 0.5359\n",
            "Epoch 39/50\n",
            "30/30 [==============================] - 0s 11ms/step - loss: 1.2348 - accuracy: 0.6237 - val_loss: 1.4968 - val_accuracy: 0.5531\n",
            "Epoch 40/50\n",
            "30/30 [==============================] - 0s 9ms/step - loss: 1.2637 - accuracy: 0.6031 - val_loss: 1.5977 - val_accuracy: 0.5297\n",
            "Epoch 41/50\n",
            "30/30 [==============================] - 0s 10ms/step - loss: 1.1755 - accuracy: 0.6297 - val_loss: 1.6455 - val_accuracy: 0.5063\n",
            "Epoch 42/50\n",
            "30/30 [==============================] - 0s 10ms/step - loss: 1.2455 - accuracy: 0.6013 - val_loss: 1.5841 - val_accuracy: 0.5219\n",
            "Epoch 43/50\n",
            "30/30 [==============================] - 0s 9ms/step - loss: 1.1767 - accuracy: 0.6362 - val_loss: 1.6707 - val_accuracy: 0.5234\n",
            "Epoch 44/50\n",
            "30/30 [==============================] - 0s 11ms/step - loss: 1.1685 - accuracy: 0.6396 - val_loss: 1.6025 - val_accuracy: 0.5141\n",
            "Epoch 45/50\n",
            "30/30 [==============================] - 0s 9ms/step - loss: 1.1762 - accuracy: 0.6430 - val_loss: 1.5654 - val_accuracy: 0.5281\n",
            "Epoch 46/50\n",
            "30/30 [==============================] - 0s 11ms/step - loss: 1.1697 - accuracy: 0.6352 - val_loss: 1.5675 - val_accuracy: 0.5203\n",
            "Epoch 47/50\n",
            "30/30 [==============================] - 0s 10ms/step - loss: 1.1439 - accuracy: 0.6401 - val_loss: 1.6173 - val_accuracy: 0.5453\n",
            "Epoch 48/50\n",
            "30/30 [==============================] - 0s 11ms/step - loss: 1.0994 - accuracy: 0.6513 - val_loss: 1.4935 - val_accuracy: 0.5562\n",
            "Epoch 49/50\n",
            "30/30 [==============================] - 0s 10ms/step - loss: 1.1789 - accuracy: 0.6375 - val_loss: 1.5216 - val_accuracy: 0.5547\n",
            "Epoch 50/50\n",
            "30/30 [==============================] - 0s 10ms/step - loss: 1.0854 - accuracy: 0.6599 - val_loss: 1.6386 - val_accuracy: 0.5203\n"
          ],
          "name": "stdout"
        }
      ]
    },
    {
      "cell_type": "code",
      "metadata": {
        "id": "Qmyw-txxnzrd",
        "colab_type": "code",
        "outputId": "4ab9a8be-46c1-40d3-d70e-a95ca32f8065",
        "colab": {
          "base_uri": "https://localhost:8080/",
          "height": 625
        }
      },
      "source": [
        "model_report(SIMPLE_MODEL, SIMPLE_MODEL_history, 30)"
      ],
      "execution_count": 0,
      "outputs": [
        {
          "output_type": "display_data",
          "data": {
            "image/png": "[encoded data removed]",
            "text/plain": [
              "<Figure size 576x576 with 2 Axes>"
            ]
          },
          "metadata": {
            "tags": []
          }
        },
        {
          "output_type": "stream",
          "text": [
            "\n",
            "Test set evaluation metrics\n",
            "30/30 [==============================] - 0s 7ms/step - loss: 1.5614 - accuracy: 0.5555\n",
            "loss: 1.56\n",
            "accuracy: 0.56\n"
          ],
          "name": "stdout"
        }
      ]
    },
    {
      "cell_type": "markdown",
      "metadata": {
        "id": "12z4zsoVbPWR",
        "colab_type": "text"
      },
      "source": [
        "### Μεταφορά μάθησης: VGG16"
      ]
    },
    {
      "cell_type": "code",
      "metadata": {
        "id": "6QJueWvUXUTJ",
        "colab_type": "code",
        "colab": {}
      },
      "source": [
        "# transfer learning: VGG16 trained on ImageNet without the top layer\n",
        "\n",
        "def init_VGG16_model(summary):\n",
        "  VGG16_MODEL=tf.keras.applications.VGG16(input_shape=(img_rows, img_cols, img_channels), include_top=False, weights='imagenet')\n",
        "\n",
        "  # unfreeze conv layers\n",
        "  VGG16_MODEL.trainable=True\n",
        "\n",
        "  dropout_layer = tf.keras.layers.Dropout(rate = 0.5)\n",
        "  global_average_layer = tf.keras.layers.GlobalAveragePooling2D()\n",
        "\n",
        "  # add top layer for CIFAR100 classification\n",
        "  prediction_layer = tf.keras.layers.Dense(len(CIFAR100_LABELS_LIST),activation='softmax')\n",
        "  model = tf.keras.Sequential([VGG16_MODEL, dropout_layer, global_average_layer, prediction_layer])\n",
        "  model.compile(optimizer=tf.optimizers.Adam(learning_rate=0.00005), loss=tf.keras.losses.sparse_categorical_crossentropy, metrics=[\"accuracy\"])\n",
        "  if summary: \n",
        "    model.summary()\n",
        "  return model"
      ],
      "execution_count": 0,
      "outputs": []
    },
    {
      "cell_type": "code",
      "metadata": {
        "id": "HR-bPAmGGt2N",
        "colab_type": "code",
        "outputId": "940e6640-4de7-483b-ec60-7c9631a8a82a",
        "colab": {
          "base_uri": "https://localhost:8080/",
          "height": 1000
        }
      },
      "source": [
        "VGG16_MODEL = init_VGG16_model(summary = True)\n",
        "VGG16_MODEL_history = train_model(VGG16_MODEL, 25, 40, 10)"
      ],
      "execution_count": 0,
      "outputs": [
        {
          "output_type": "stream",
          "text": [
            "Downloading data from https://github.com/fchollet/deep-learning-models/releases/download/v0.1/vgg16_weights_tf_dim_ordering_tf_kernels_notop.h5\n",
            "58892288/58889256 [==============================] - 5s 0us/step\n",
            "Model: \"sequential_1\"\n",
            "_________________________________________________________________\n",
            "Layer (type)                 Output Shape              Param #   \n",
            "=================================================================\n",
            "vgg16 (Model)                (None, 1, 1, 512)         14714688  \n",
            "_________________________________________________________________\n",
            "dropout (Dropout)            (None, 1, 1, 512)         0         \n",
            "_________________________________________________________________\n",
            "global_average_pooling2d (Gl (None, 512)               0         \n",
            "_________________________________________________________________\n",
            "dense_2 (Dense)              (None, 100)               51300     \n",
            "=================================================================\n",
            "Total params: 14,765,988\n",
            "Trainable params: 14,765,988\n",
            "Non-trainable params: 0\n",
            "_________________________________________________________________\n",
            "Train for 40 steps, validate for 10 steps\n",
            "Epoch 1/25\n",
            "40/40 [==============================] - 3s 86ms/step - loss: 3.2556 - accuracy: 0.2031 - val_loss: 1.7827 - val_accuracy: 0.4977\n",
            "Epoch 2/25\n",
            "40/40 [==============================] - 2s 41ms/step - loss: 1.8837 - accuracy: 0.4576 - val_loss: 1.3299 - val_accuracy: 0.6273\n",
            "Epoch 3/25\n",
            "40/40 [==============================] - 2s 40ms/step - loss: 1.4877 - accuracy: 0.5643 - val_loss: 1.1127 - val_accuracy: 0.6703\n",
            "Epoch 4/25\n",
            "40/40 [==============================] - 2s 40ms/step - loss: 1.1655 - accuracy: 0.6562 - val_loss: 0.9948 - val_accuracy: 0.7094\n",
            "Epoch 5/25\n",
            "40/40 [==============================] - 2s 41ms/step - loss: 0.9993 - accuracy: 0.7002 - val_loss: 0.9447 - val_accuracy: 0.7086\n",
            "Epoch 6/25\n",
            "40/40 [==============================] - 2s 40ms/step - loss: 0.8359 - accuracy: 0.7437 - val_loss: 0.8413 - val_accuracy: 0.7344\n",
            "Epoch 7/25\n",
            "40/40 [==============================] - 2s 40ms/step - loss: 0.7686 - accuracy: 0.7678 - val_loss: 0.8303 - val_accuracy: 0.7469\n",
            "Epoch 8/25\n",
            "40/40 [==============================] - 2s 40ms/step - loss: 0.6342 - accuracy: 0.8021 - val_loss: 0.8139 - val_accuracy: 0.7453\n",
            "Epoch 9/25\n",
            "40/40 [==============================] - 2s 40ms/step - loss: 0.5256 - accuracy: 0.8318 - val_loss: 0.8358 - val_accuracy: 0.7602\n",
            "Epoch 10/25\n",
            "40/40 [==============================] - 2s 41ms/step - loss: 0.5075 - accuracy: 0.8412 - val_loss: 0.7777 - val_accuracy: 0.7617\n",
            "Epoch 11/25\n",
            "40/40 [==============================] - 2s 40ms/step - loss: 0.3739 - accuracy: 0.8811 - val_loss: 0.7496 - val_accuracy: 0.7734\n",
            "Epoch 12/25\n",
            "40/40 [==============================] - 2s 40ms/step - loss: 0.3575 - accuracy: 0.8873 - val_loss: 0.7924 - val_accuracy: 0.7844\n",
            "Epoch 13/25\n",
            "40/40 [==============================] - 2s 41ms/step - loss: 0.3120 - accuracy: 0.8965 - val_loss: 0.8095 - val_accuracy: 0.7883\n",
            "Epoch 14/25\n",
            "40/40 [==============================] - 2s 40ms/step - loss: 0.2568 - accuracy: 0.9174 - val_loss: 0.7866 - val_accuracy: 0.7805\n",
            "Epoch 15/25\n",
            "40/40 [==============================] - 2s 40ms/step - loss: 0.2316 - accuracy: 0.9266 - val_loss: 0.7590 - val_accuracy: 0.7922\n",
            "Epoch 16/25\n",
            "40/40 [==============================] - 2s 41ms/step - loss: 0.1731 - accuracy: 0.9430 - val_loss: 0.8162 - val_accuracy: 0.7906\n",
            "Epoch 17/25\n",
            "40/40 [==============================] - 2s 40ms/step - loss: 0.1585 - accuracy: 0.9475 - val_loss: 0.8571 - val_accuracy: 0.7867\n",
            "Epoch 18/25\n",
            "40/40 [==============================] - 2s 40ms/step - loss: 0.1192 - accuracy: 0.9639 - val_loss: 0.9302 - val_accuracy: 0.8000\n",
            "Epoch 19/25\n",
            "40/40 [==============================] - 2s 40ms/step - loss: 0.1134 - accuracy: 0.9648 - val_loss: 0.9323 - val_accuracy: 0.7867\n",
            "Epoch 20/25\n",
            "40/40 [==============================] - 2s 40ms/step - loss: 0.0939 - accuracy: 0.9701 - val_loss: 0.8747 - val_accuracy: 0.7891\n",
            "Epoch 21/25\n",
            "40/40 [==============================] - 2s 40ms/step - loss: 0.0528 - accuracy: 0.9848 - val_loss: 0.8834 - val_accuracy: 0.8039\n",
            "Epoch 22/25\n",
            "40/40 [==============================] - 2s 40ms/step - loss: 0.0731 - accuracy: 0.9754 - val_loss: 0.8676 - val_accuracy: 0.7969\n",
            "Epoch 23/25\n",
            "40/40 [==============================] - 2s 41ms/step - loss: 0.0394 - accuracy: 0.9891 - val_loss: 0.9897 - val_accuracy: 0.7937\n",
            "Epoch 24/25\n",
            "40/40 [==============================] - 2s 40ms/step - loss: 0.0533 - accuracy: 0.9830 - val_loss: 1.0518 - val_accuracy: 0.7852\n",
            "Epoch 25/25\n",
            "40/40 [==============================] - 2s 41ms/step - loss: 0.0522 - accuracy: 0.9852 - val_loss: 0.9980 - val_accuracy: 0.7914\n"
          ],
          "name": "stdout"
        }
      ]
    },
    {
      "cell_type": "code",
      "metadata": {
        "id": "2bZChKpdh0Cn",
        "colab_type": "code",
        "outputId": "8a17c693-7270-4cbe-da67-5ae6ab2162f3",
        "colab": {
          "base_uri": "https://localhost:8080/",
          "height": 625
        }
      },
      "source": [
        "model_report(VGG16_MODEL, VGG16_MODEL_history, 30)"
      ],
      "execution_count": 0,
      "outputs": [
        {
          "output_type": "display_data",
          "data": {
            "image/png": "[encoded data removed]",
            "text/plain": [
              "<Figure size 576x576 with 2 Axes>"
            ]
          },
          "metadata": {
            "tags": []
          }
        },
        {
          "output_type": "stream",
          "text": [
            "\n",
            "Test set evaluation metrics\n",
            "30/30 [==============================] - 0s 14ms/step - loss: 1.0188 - accuracy: 0.7872\n",
            "loss: 1.02\n",
            "accuracy: 0.79\n"
          ],
          "name": "stdout"
        }
      ]
    },
    {
      "cell_type": "markdown",
      "metadata": {
        "id": "HUfob-kNfaSD",
        "colab_type": "text"
      },
      "source": [
        "# Βελτίωση της επίδοσης με πειράματα\n",
        "\n",
        "Καλείστε να βελτιώσετε τα αποτελέσματα ταξινόμησης στο CIFAR-100 και να βγάλατε συμπεράσματα, σύμφωνα με όσα ζητούνται σε σχέση με την αναφορά παράδοσης. "
      ]
    },
    {
      "cell_type": "markdown",
      "metadata": {
        "id": "FiVKTH5rmhWn",
        "colab_type": "text"
      },
      "source": [
        "## Δοκιμές διαφορετικών μοντέλων\n",
        "\n",
        "Μπορείτε είτε να δοκιμάσετε μοντέλα \"from scratch\", όπου ορίζετε την αρχιτεκτονική του δικτύου όπως θέλετε, είτε να χρησιμοποιήσετε μεταφορά μάθησης.\n"
      ]
    },
    {
      "cell_type": "markdown",
      "metadata": {
        "id": "pAbqI8hapbX9",
        "colab_type": "text"
      },
      "source": [
        "\n",
        "### Μοντέλα \"from scratch\"\n",
        "\n",
        "Μπορείτε να τροποποιήσετε/αλλάξετε το αρχικό μικρό συνελικτικό δίκτυο του παραδείγματος. Μπορείτε να συμβουλευτείτε \n",
        "- τη [βιβλιογραφία απο το leaderboard του CIFAR-100](https://benchmarks.ai/cifar-100) για αρχιτεκτονικές και παραμέτρους των δικτύων\n",
        "- ή/και να πάρετε ιδέες [από σχετική αναζήτηση στο Google Scholar](https://scholar.google.gr/scholar?hl=en&as_sdt=0%2C5&q=cifar+100+cnn&oq=cifa)"
      ]
    },
    {
      "cell_type": "markdown",
      "metadata": {
        "id": "8LZIFj-AmlPv",
        "colab_type": "text"
      },
      "source": [
        "### Μεταφορά μάθησης\n",
        "\n",
        "Εναλλακτικά, μπορείτε να χρησιμοποιήσετ τη [μεταφορά μάθησης του tf2](https://www.tensorflow.org/tutorials/images/transfer_learning). Σε αντίθεση με τα μοντέλα \"from scratch\" η μεταφορά μάθησης μας επιστρέφει έτοιμα μοντέλα με προκαθορισμένη αρχιτεκτονική στην οποία μπορούμε γενικά μόνο να προσθέσουμε επίπεδα, τα οποία συνήθως περιορίζοντα σε πλήρως διασυνδεδεμένα επίπεδα που εξειδικεύονται στο συγκεκριμένο task ταξινόμησης που έχουμε να επιτελέσουμε. "
      ]
    },
    {
      "cell_type": "markdown",
      "metadata": {
        "id": "GrCxOjJ7ush3",
        "colab_type": "text"
      },
      "source": [
        "#### Εκπαίδευση βαρών\n",
        "\n",
        "Ταυτόχρονα με την αρχιτεκτονική, στη μεταφορά μάθησης εισάγουμε και τη γνώση που έχει αποκτήσει το μοντέλο, δηλαδή τις τιμές των βαρών του όπως έχουν προκύψει μετά από εκπαίδευση συνήθως στο (τεράστιο) ImageNet. Οταν εισάγουμε ένα μοντέλο με μεταφορά μάθησης έχουμε τρεις επιλογές για την εκπαίδευση:\n",
        "- να παγώσουμε τη συνελικτική βάση και να εκπαιδεύσουμε την κεφαλή ταξινόμησης (classification head). Αυτό αντιστοιχεί στο να χρησιμοποιήσουμε τη συνελικτική βάση για εξαγωγή χαρακτηριστικών (feature extraction), σημαία trainable = False.\n",
        "- να συνεχίσουμε να εκπαιδεύουμε όλα τα επίπεδα του δικτύου, σημαία trainable = True.\n",
        "- να εκπαιδευτεί μόνο ένα ποσοστό των επιπέδων, εβρισκόμενο προς την έξοδο του δικτύου. Οι σημαίες trainable εδώ θα πρέπει να οριστούν ανά επίπεδο.\n"
      ]
    },
    {
      "cell_type": "markdown",
      "metadata": {
        "id": "6WFvmWr9xEUz",
        "colab_type": "text"
      },
      "source": [
        "\n",
        "#### Διαθέσιμα μοντέλα για μεταφορά μάθησης στο tf2\n",
        "\n",
        "1. tf.keras.applications. Ο πιο απλός τρόπος για να κάνουμε μεταφορά μάθησης στο tf2 είναι μέσω του [tf.keras.applications](https://www.tensorflow.org/api_docs/python/tf/keras/applications) που παρέχει προεκπαιδευμένα μοντέλα από το Keras και συγκεκριμένα τα δίκτυα: DenseNet, Inception-ResNet V2, Inception V3, MobileNet v1, MobileNet v2, NASNet-A, ResNet, ResNet v2, VGG16, VGG19 και Xception V1. Η εισαγωγή των μοντέλων γίνεται παρόμοια με αυτή που δείξαμε παραπάνω για το VGG16.\n",
        "\n",
        "2. TensorFlow Hub. Μπορείτε επίσης να χρησιμοποιήσετε μοντέλα τα οποία είναι διαθέσιμα στο αποθετήριο [TensoFlow Hub](https://tfhub.dev/s?fine-tunable=yes&module-type=image-augmentation,image-classification,image-feature-vector,image-generator,image-object-detection,image-others,image-style-transfer,image-rnn-agent&tf-version=tf2) το οποίο περιλαμβάνει πάνω από 100 προεκπαιδευμένα μοντέλα.\n",
        "\n",
        "3. Αποθηκευμένα μοντέλα απο τρίτες πηγές. Μπορείτε επίσης να κάνετε μεταφορά μάθησης από τρίτες πηγές, είτε του συνόλου του νευρωνικού, αρχιτεκτονικής και βαρών, είτε μόνο της αρχιτεκτονικής ή των βαρών. Το μοντέλο θα πρέπει να έχει αποθηκευθεί σε ένα από τα δύο φορμάτ, Keras HDF5 format (.h5 ή .keras) ή ως στο SavedModel format που αναφέραμε στην εισαγωγή. Τα βάρη μπορούν να εισαχθούν και μόνα τους ως Checkpoints. Για περισσότερα, διαβάστε σχετικά τα λήμματα [\"Save and load models\"](https://www.tensorflow.org/tutorials/keras/save_and_load), [\"Save and serialize\"](https://www.tensorflow.org/guide/keras/save_and_serialize), [\"Using the SavedModel format\"](https://www.tensorflow.org/guide/saved_model) και δείτε για παράδειγμα πως μπορούμε να κάνουμε μεταφορά μάθησης από τα state-of-the-art EfficientNets ([1](https://www.dlology.com/blog/transfer-learning-with-efficientnet/), [2](https://github.com/tensorflow/tpu/tree/master/models/official/efficientnethttps://)).\n",
        "\n",
        "Σημειώστε ότι πολλά μοντέλα απαιτούν μεγαλύτερες διαστάσεις στην είσοδο από αυτές του CIFAR-100 και κατά συνέπεια τα δεδομένα πρέπει να [μετασχηματιστούν](https://www.tensorflow.org/api_docs/python/tf/image/resize). Προσέξτε ωστόσο τις απαιτήσεις σε μνήμη όταν αυτοί οι μετασχηματισμοί γίνονται απευθείας σε μεταβλητές (βλ. πιο κάτω \"Διαχείριση μνήμης\"). \n"
      ]
    },
    {
      "cell_type": "markdown",
      "metadata": {
        "id": "SRI_3XhBQ7sb",
        "colab_type": "text"
      },
      "source": [
        "## Παρατηρήσεις ως προς τη βελτιστοποίηση"
      ]
    },
    {
      "cell_type": "markdown",
      "metadata": {
        "id": "mtVx8MsZRQrn",
        "colab_type": "text"
      },
      "source": [
        "### Διαχείριση μνήμης (TFRecord)\n",
        "\n",
        "Η φόρτωση δεδομένων με τον τρόπο που το κάναμε παραπάνω στο απλό παράδειγμα υλοποίησης είναι πολύ βολική αλλά δεν είναι καθόλου αποτελεσματική ως προς τη διαχείριση της μνήμης. Συγκεκριμένα, με τον τρόπο αυτό, τα δεδομένα αποθηκεύονται απευθείας σε μεταβλητές, οι οποίες όλες μαζί καταλαμβάνουν τη RAM της CPU ή της GPU, κάτι που κάνει αδύνατη τη διαχείριση μεγάλων datasets ή τον μεταχηματισμό των δεδομένων όπως όταν κάνουμε αύξηση δεδομένων (data augmentation).\n",
        "\n",
        "Για να παρακαμφθεί αυτό το πρόβλημα, υπάρχει η δυνατότητα της σειριοποίησης των δεδομένων (serialization) και της αποθήκευσής τους σε αρχεία μεσαίου μεγέθους (κάποιων MB) τα οποία μπορούνα να αναγνωστούν γραμμικά. Το φορμάτ TFRecord είναι ένα φορμάτ που επιτρέπει την αποθήκευση σειράς δυαδικών εγγραφών. Διαβάστε τα σχετικά λήμματα [TFRecord and tf.Example](https://www.tensorflow.org/tutorials/load_data/tfrecord) και [tf.data: Build TensorFlow input pipelines](https://www.tensorflow.org/guide/data). \n",
        "\n",
        "Σημειώστε ότι με τη μέθοδο αυτή θα πρέπει να γίνει import η `tensorflow_datasets` και να χρησιμοποιήσουμε την `tfds.load` ώστε να αποθηκευθεί το σύνολο δεδομένων σε αρχεία tfrecord στο δίσκο (δείτε [εδώ](https://colab.research.google.com/github/tensorflow/datasets/blob/master/docs/overview.ipynb) ένα παράδειγμα). Φυσικά μπορούμε να μετατρέψουμε και τα πρωτογενή δεδομένα (raw data) του dataset όπως αρχεία jpg σε φορματ tfrecord όπως [εδώ](https://towardsdatascience.com/working-with-tfrecords-and-tf-train-example-36d111b3ff4d).\n",
        "\n"
      ]
    },
    {
      "cell_type": "markdown",
      "metadata": {
        "id": "yypACH_oZx_i",
        "colab_type": "text"
      },
      "source": [
        "### Υπερεκπαίδευση\n",
        "\n",
        "Μπορείτε να πειραματιστείτε ως προς τον έλεγχο της υπερεκπαίδευσης (overfitting) με διάφορους τρόπους. Μεταξύ αυτών μπορούμε να αναφέρουμε τους εξής:\n",
        "- Πρόωρος τερματισμός (early stopping). Μια μέθοδος που τερματίζει την εκπαίδευση αν δεν υπάρχει βελτίωση ως προς τη μετρική απόδοσης που παρακολουθούμε. [tf.keras.callbacks.EarlyStopping](https://www.tensorflow.org/api_docs/python/tf/keras/callbacks/EarlyStoppinghttps://)\n",
        "- Dropout. Μια άλλη τεχνική για τη μείωση της υπερεκπαίδευσης είναι το Dropout. Είναι ένα είδος ομαλοποίησης (regularization) που επιβάλλει στα βάρη του δικτύου να παίρνουν μόνο μικρές τιμές. Εάν εφαρμόσουε dropout σε ένα επίπεδο του δικτύου, τότε ένα ποσοστό των βαρών του γίνεται τυχαία μηδενικό κατά την εκπαίδευση. [Dropout](https://www.tensorflow.org/tutorials/images/classification#dropout)\n",
        "- Επαύξηση δεδομένων. Η υπερεκπαίδευση συνήθως συμβαίνει όταν έχουμε λίγα ή/και πολύ όμοια δεδομένα εκπαίδευσης. Ένας τρόπος να διορθωθεί αυτό το πρόβλημα είναι να αυξήσουμε τα δεδομένα (data augmentation). Το data augmentation δημιουργεί νέα δεδομένα εκπαίδευσης με βάση τα υπάρχοντα εφαρμόζοντας τυχαίους μετασχηματισμούς ώστε να προκύπτουν αληθοφανείς εικόνες. [Data augmentation](https://www.tensorflow.org/tutorials/images/classification#data_augmentation), [ImageDataGenerator](https://www.tensorflow.org/api_docs/python/tf/keras/preprocessing/image/ImageDataGenerator#class_imagedatagenerator)\n",
        "\n",
        "Βλέπε επίσης [Image classification](https://www.tensorflow.org/tutorials/images/classification)."
      ]
    },
    {
      "cell_type": "markdown",
      "metadata": {
        "id": "MBLBjFFFmsUP",
        "colab_type": "text"
      },
      "source": [
        "### Χρόνος εκπαίδευσης\n",
        "\n",
        "Το TensorFlow 2 προσφέρει νέους ή βελτιώνει διάφορους μηχανισμούς βελτιστοποίησης της εκπαίδευσης. Μεταξύ αυτών έχουμε τους εξής:\n",
        "- Data prefetching (το χρησιμοποιήσαμε παραπάνω)\n",
        "- Data reading parallelization \n",
        "- Map transformation parallelization\n",
        "- Caching\n",
        "- Reducing memory footprint\n",
        "\n",
        "Συμβουλευτείτε για τα παραπάνω το [Better performance with the tf.data API](https://www.tensorflow.org/guide/data_performance)"
      ]
    },
    {
      "cell_type": "markdown",
      "metadata": {
        "id": "s3ddu1ECoCGQ",
        "colab_type": "text"
      },
      "source": [
        "### Εργαλεία υψηλού επιπέδου\n",
        "\n",
        "Μεταξύ των εργαλείων βελτιστοποίησης υψηλού επιπέδου (high-level) του TensorFlow μπορούμε να αναφέρουμε τα ακόλουθα:\n",
        "\n",
        "- [TensorBoard](https://www.tensorflow.org/tensorboard/get_started) και [What-If Tool](https://www.tensorflow.org/tensorboard/what_if_tool) Επικουρικό εργαλείο οπτικοποίησης για τον πειραματισμό στη Μηχανική Μάθηση\n",
        "- [tf-explain](https://tf-explain.readthedocs.io/en/latest/) Προσφέρει μεθόδους επεξηγισιμότητας για το tf2\n",
        "- [Keras Tuner](https://github.com/keras-team/keras-tuner) Βελτιστοποίηση υπερπαραμέτρων του Keras στο TensorFlow 2.0\n",
        "- [AutoAugment](https://github.com/tensorflow/models/tree/master/research/autoaugment) Εκμάθηση της πολιτικης επαύξησης από τα δεδομένα"
      ]
    }
  ]
}