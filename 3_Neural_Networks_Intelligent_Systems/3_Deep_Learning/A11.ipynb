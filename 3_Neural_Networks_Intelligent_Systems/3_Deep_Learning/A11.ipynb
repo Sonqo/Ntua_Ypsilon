{
  "nbformat": 4,
  "nbformat_minor": 0,
  "metadata": {
    "colab": {
      "name": "CIFAR-100.ipynb",
      "provenance": [],
      "collapsed_sections": [
        "HUPTXpNqvrB0",
        "DfEMjsB4Yurm",
        "TnLNfKKYeA5T",
        "x5q3SI0_eLxI",
        "0cniJE8eZQAA",
        "ntFDPZhGBG38",
        "onYIggE9Z2f4",
        "Waa4c40Yay3k",
        "12z4zsoVbPWR",
        "HUfob-kNfaSD"
      ],
      "toc_visible": true
    },
    "kernelspec": {
      "name": "python3",
      "display_name": "Python 3"
    },
    "accelerator": "GPU"
  },
  "cells": [
    {
      "cell_type": "code",
      "metadata": {
        "id": "DsRt5JelvV7u",
        "colab_type": "code",
        "colab": {}
      },
      "source": [
        "%tensorflow_version 2.x # selecting tensorflow version\n",
        "\n",
        "!sudo pip install --upgrade pip;\n",
        "!sudo pip install --upgrade tensorflow;"
      ],
      "execution_count": 0,
      "outputs": []
    },
    {
      "cell_type": "markdown",
      "metadata": {
        "id": "h2IcJXcTy-Qs",
        "colab_type": "text"
      },
      "source": [
        "## Στοιχεία Ομάδας\n",
        "\n",
        "Αριθμός Ομάδας: Μ.Α.11\n",
        "\n",
        "    > Καρυπιάδης Ευστράτιος: 03114911"
      ]
    },
    {
      "cell_type": "markdown",
      "metadata": {
        "id": "HUPTXpNqvrB0",
        "colab_type": "text"
      },
      "source": [
        "---\n",
        "\n",
        "## Σύνολο Δεδομένων CIFAR-100\n",
        "\n",
        "Το σύνολο δεδομένων στο οποίο θα εργαστούμε είναι το [CIFAR-100](https://bit.ly/38CUquZ), το οποίο αποτελείται απο 60.000 έγχρωμες εικόνες διαστάσεων 32x32. Κάθε μία από αυτές ανήκει σε μία γενική(*fine*) και μία ειδική(*coarse*) κατηγορία του συνόλου, πλήθους 100 και 20 αντίστοιχα. Προς ταξινόμηση των δειγμάτων μας θα εκμεταλευτούμε μονάχα τις *fine* κατηγορίες των εικόνων που έχουμε στη διάθεσή μας.\n",
        "\n",
        "\t"
      ]
    },
    {
      "cell_type": "markdown",
      "metadata": {
        "id": "DfEMjsB4Yurm",
        "colab_type": "text"
      },
      "source": [
        "### Εισαγωγή συνόλου δεδομένων"
      ]
    },
    {
      "cell_type": "code",
      "metadata": {
        "colab_type": "code",
        "id": "APTpYiMCnZNl",
        "colab": {}
      },
      "source": [
        "import tensorflow as tf\n",
        "from tensorflow.keras import datasets, layers, models\n",
        "from __future__ import absolute_import, division, print_function, unicode_literals\n",
        "\n",
        "import numpy as np\n",
        "import pandas as pd\n",
        "import matplotlib.pyplot as plt\n",
        "\n",
        "# loading the entire dataset\n",
        "(x_train_all, y_train_all), (x_test_all, y_test_all) = tf.keras.datasets.cifar100.load_data(label_mode='fine')"
      ],
      "execution_count": 0,
      "outputs": []
    },
    {
      "cell_type": "markdown",
      "metadata": {
        "id": "oQ2L6rGVnpKv",
        "colab_type": "text"
      },
      "source": [
        "Για τους σκοπούς της άσκησης **δε** θα εκμεταλλευτούμε ολόκληρο το σύνολο δεδομένων, αλλά θα δουλέψουμε σε ένα υποσύνολο αυτού σύμφώνα με τον αύξοντα αριθμό της ομάδας μας, `team_seed`. Στη συνέχεια υλοποιούμε μία σειρά βοηθητικών συναρτήσεων που θα μας βοηθήσουν σε αυτόν το διαχωρισμό:"
      ]
    },
    {
      "cell_type": "code",
      "metadata": {
        "id": "2WSEGPI9Q7tW",
        "colab_type": "code",
        "colab": {}
      },
      "source": [
        "def select_from_list(from_list, index_list):\n",
        "  \"\"\" Return from_list elemenents according to index contained in index_list. \"\"\"\n",
        "  filtered_list= [from_list[i] for i in index_list]\n",
        "  return(filtered_list)\n",
        "\n",
        "def get_ds_index(unfiliterd_list, target_list):\n",
        "  \"\"\" Append in filtered_list the index of each element in unfiltered_list if it exists in target_list. \"\"\"\n",
        "  index = 0\n",
        "  filtered_list=[]\n",
        "  for i_ in unfiliterd_list:\n",
        "    if i_[0] in target_list:\n",
        "      filtered_list.append(index)\n",
        "    index += 1\n",
        "  return(filtered_list)\n",
        "\n",
        "def select_classes_number(classes_number = 20):\n",
        "  \"\"\" Select unique subset of CIFAR-100 with classes_number of classes. \"\"\"\n",
        "  if classes_number == 20:\n",
        "    return \"https://bit.ly/3b3Cewb\"\n",
        "  elif classes_number == 40:\n",
        "    return \"https://bit.ly/3aPo819\"\n",
        "  elif classes_number == 60:\n",
        "    return \"https://bit.ly/2Wbo47K\"\n",
        "  elif classes_number == 80:\n",
        "    return \"https://bit.ly/38NDW3d\"\n",
        "  else:\n",
        "    return -1"
      ],
      "execution_count": 0,
      "outputs": []
    },
    {
      "cell_type": "markdown",
      "metadata": {
        "id": "TnLNfKKYeA5T",
        "colab_type": "text"
      },
      "source": [
        "### Διαχωρισμός δεδομένων εκπαίδευσης - ελέγχου"
      ]
    },
    {
      "cell_type": "markdown",
      "metadata": {
        "id": "8xYQ_Q1SVZEk",
        "colab_type": "text"
      },
      "source": [
        "Στο επόμενο κελί επιλέγουμε το πλήθος των κατηγοριών με το οποίο επιθυμούμε να δουλέψουμε:"
      ]
    },
    {
      "cell_type": "code",
      "metadata": {
        "id": "RhbZJW6PxUDJ",
        "colab_type": "code",
        "colab": {}
      },
      "source": [
        "cifar100_classes_url = select_classes_number() # default: 20 classes"
      ],
      "execution_count": 0,
      "outputs": []
    },
    {
      "cell_type": "markdown",
      "metadata": {
        "id": "yO9f6wb0Wi0H",
        "colab_type": "text"
      },
      "source": [
        "Δημιουργούμε το μοναδικό dataset της ομάδας μας:"
      ]
    },
    {
      "cell_type": "code",
      "metadata": {
        "id": "PgIN2h_KuCp_",
        "colab_type": "code",
        "colab": {}
      },
      "source": [
        "team_seed = 11 # team_seed number\n",
        "\n",
        "team_classes = pd.read_csv(cifar100_classes_url, sep=',', header=None) # fetch class indexes\n",
        "CIFAR100_LABELS_LIST = pd.read_csv(\"https://bit.ly/3cRO3qZ\", sep=',', header=None).astype(str).values.tolist()[0] # fetch class names\n",
        "\n",
        "our_index = team_classes.iloc[team_seed, :].values.tolist() # select team class indices\n",
        "our_classes = select_from_list(CIFAR100_LABELS_LIST, our_index) # select team class names\n",
        "\n",
        "train_index = get_ds_index(y_train_all, our_index)\n",
        "test_index = get_ds_index(y_test_all, our_index)\n",
        "\n",
        "# Train data and labels\n",
        "x_train_ds = np.asarray(select_from_list(x_train_all, train_index))\n",
        "y_train_ds = np.asarray(select_from_list(y_train_all, train_index))\n",
        "\n",
        "# Test data and labels\n",
        "x_test_ds = np.asarray(select_from_list(x_test_all, test_index))\n",
        "y_test_ds = np.asarray(select_from_list(y_test_all, test_index))"
      ],
      "execution_count": 0,
      "outputs": []
    },
    {
      "cell_type": "markdown",
      "metadata": {
        "id": "oMrUsXJkqV71",
        "colab_type": "text"
      },
      "source": [
        "Μετά την παραπάνω διαδικασία εμφανίζουμε τα ονόματα των κατηγοριών που αντιστοιχούν στην ομάδα μας:"
      ]
    },
    {
      "cell_type": "code",
      "metadata": {
        "id": "_B4-tvVOQq3j",
        "colab_type": "code",
        "outputId": "512c1c1f-085b-4b6c-9038-d3fd8d3639c3",
        "colab": {
          "base_uri": "https://localhost:8080/",
          "height": 54
        }
      },
      "source": [
        "print(our_classes)"
      ],
      "execution_count": 6,
      "outputs": [
        {
          "output_type": "stream",
          "text": [
            "['apple', ' aquarium_fish', ' bicycle', ' boy', ' couch', ' flatfish', ' kangaroo', ' leopard', ' lion', ' mouse', ' mushroom', ' orchid', ' plain', ' plate', ' skunk', ' streetcar', ' sunflower', ' table', ' telephone', ' tulip']\n"
          ],
          "name": "stdout"
        }
      ]
    },
    {
      "cell_type": "markdown",
      "metadata": {
        "id": "x5q3SI0_eLxI",
        "colab_type": "text"
      },
      "source": [
        "### Επισκόπηση δεδομένων και κανονικοποίηση"
      ]
    },
    {
      "cell_type": "markdown",
      "metadata": {
        "id": "lRWZ-JI5sH-J",
        "colab_type": "text"
      },
      "source": [
        "Τέλος, για καλύτερη εποπτεία του συνόλου δεδομένων μας θα εξάγουμε ορισμένες χρήσιμες πληροφορίες για αυτό, ενώ παράλληλα θα κανονικοποιήσουμε τις τιμές αναπαράστασης των εικόνων:"
      ]
    },
    {
      "cell_type": "code",
      "metadata": {
        "id": "QpGXgTs_5ZCk",
        "colab_type": "code",
        "outputId": "8e445429-a747-4073-cb19-d385bd11f7b3",
        "colab": {
          "base_uri": "https://localhost:8080/",
          "height": 68
        }
      },
      "source": [
        "data_size, img_rows, img_cols, img_channels = x_train_ds.shape # get train dataset dimensions\n",
        "\n",
        "# Set validation set percentage\n",
        "validation_percentage = 0.15\n",
        "val_size = round(validation_percentage * data_size)\n",
        "\n",
        "# Reserve val_size samples for validation and normalize all values\n",
        "x_val = x_train_ds[-val_size:]/255\n",
        "y_val = y_train_ds[-val_size:]\n",
        "x_train = x_train_ds[:-val_size]/255\n",
        "y_train = y_train_ds[:-val_size]\n",
        "x_test = x_test_ds/255\n",
        "y_test = y_test_ds\n",
        "\n",
        "# Summarize loaded dataset\n",
        "print('Train:       X=%s, y=%s' % (x_train.shape, y_train.shape))\n",
        "print('Validation:  X=%s, y=%s' % (x_val.shape, y_val.shape))\n",
        "print('Test:        X=%s, y=%s' % (x_test.shape, y_test.shape))"
      ],
      "execution_count": 8,
      "outputs": [
        {
          "output_type": "stream",
          "text": [
            "Train:       X=(8500, 32, 32, 3), y=(8500, 1)\n",
            "Validation:  X=(1500, 32, 32, 3), y=(1500, 1)\n",
            "Test:        X=(2000, 32, 32, 3), y=(2000, 1)\n"
          ],
          "name": "stdout"
        }
      ]
    },
    {
      "cell_type": "markdown",
      "metadata": {
        "id": "0cniJE8eZQAA",
        "colab_type": "text"
      },
      "source": [
        "---\n",
        "\n",
        "## Συναρτήσεις Προετοιμασίας Δεδομένων και Οπτικοποίησης Απόδοσης"
      ]
    },
    {
      "cell_type": "markdown",
      "metadata": {
        "id": "G3xB9x5JZjSN",
        "colab_type": "text"
      },
      "source": [
        "Στη συνέχεια θα υλοποιήσουμε απαραίτητες συναρτήσεις προετοιμασίας των δεδομένων για εκπαίδευση, καθώς και οπτικοποίσης της τελικής απόδοσης των μοντέλων που πρόκειται να δοκιμάσουμε."
      ]
    },
    {
      "cell_type": "markdown",
      "metadata": {
        "id": "ntFDPZhGBG38",
        "colab_type": "text"
      },
      "source": [
        "### Συναρτήσεις Εκπαίδευσης"
      ]
    },
    {
      "cell_type": "markdown",
      "metadata": {
        "id": "1Yb9JrjxRM_C",
        "colab_type": "text"
      },
      "source": [
        "Αρχικά θα υλοποιήσουμε την `_input_fn`, η οποία αποτελεί ένα *pipeline* που θα προετοιμάσει τα δεδομένα μας για την εκπαίδευση. Πιο συγκεκριμένα, χρησιμοποιούμε τις μεθόδους `shuffle`, `repeat` και `batch` της [tf.data.Dataset](https://bit.ly/2vk7EPr), ώστε να δημιουργήσουμε υποσύνολα 128 δειγμάτων, τα οποία ελήφθησαν τυχαίως από το ολικό μας σύνολο. Σημειώνουμε ότι η μέθοδος `repeat` είναι απαραίτητη για να αντιμετωπίσουμε τυχόν σφάλμα που θα προκύψει, εάν η μέθοδος `batch` επιχειρήσει να δημιουργήσει εκ νέου υποσύνολο, αφού έχει ομαδοποιήσει όλα τα διαθέσιμα δείγματα του συνόλου. \n",
        "\n",
        "Παρατηρούμε ότι η συνάρτηση επιστρέφει υποσύνολα δεδομένων `PrefetchDataset Objects`, μορφή η οποία επιταχύνει τη διαδικασία εκπαίδευσης, καθώς επιτρέπει το διάβασμα του επόμενου *batch* δεδομένων, ενώ παράλληλα εκπαιδεύεται το παρόν."
      ]
    },
    {
      "cell_type": "code",
      "metadata": {
        "id": "KPFYqOmIa5Fr",
        "colab_type": "code",
        "colab": {}
      },
      "source": [
        "BATCH_SIZE = 128\n",
        "AUTOTUNE = tf.data.experimental.AUTOTUNE\n",
        "\n",
        "def _input_fn(x, y, BATCH_SIZE):\n",
        "  \"\"\" Returns shuffled and batched tensors in the form of PrefetchDataset objects. \"\"\"\n",
        "  ds = tf.data.Dataset.from_tensor_slices((x, y))\n",
        "  ds = ds.shuffle(buffer_size=data_size)\n",
        "  ds = ds.repeat() # repeat indefinately\n",
        "  ds = ds.batch(BATCH_SIZE)\n",
        "  ds = ds.prefetch(buffer_size=AUTOTUNE)\n",
        "  return ds\n",
        "\n",
        "# PrefetchDataset objects\n",
        "train_ds =_input_fn(x_train, y_train, BATCH_SIZE)\n",
        "validation_ds =_input_fn(x_val, y_val, BATCH_SIZE)\n",
        "test_ds =_input_fn(x_test, y_test, BATCH_SIZE)"
      ],
      "execution_count": 0,
      "outputs": []
    },
    {
      "cell_type": "markdown",
      "metadata": {
        "id": "ROU9zWYtTskk",
        "colab_type": "text"
      },
      "source": [
        "Στη συνέχεια υλοποιούμε τη συνάρτηση `train_model`. Σημειώνουμε ότι με την παράμετρο `steps_per_epoch` μπορούμε να επιλέξουμε το πλήθος των *batches* στο οποίο επιθυμούμε να εκπαιδευτεί το μοντέλο μας πριν περάσει στην επόμενη εποχή."
      ]
    },
    {
      "cell_type": "code",
      "metadata": {
        "id": "vSRY-a-gTtZ1",
        "colab_type": "code",
        "colab": {}
      },
      "source": [
        "def train_model(model, epochs, steps_per_epoch, validation_steps):\n",
        "  \"\"\" Training function. \"\"\"\n",
        "  history = model.fit(train_ds, epochs=epochs, steps_per_epoch=steps_per_epoch, validation_data=validation_ds, validation_steps=validation_steps)\n",
        "  return(history)"
      ],
      "execution_count": 0,
      "outputs": []
    },
    {
      "cell_type": "markdown",
      "metadata": {
        "id": "onYIggE9Z2f4",
        "colab_type": "text"
      },
      "source": [
        "### Γραφικές παραστάσεις εκπαίδευσης και απόδοση στο σύνολο ελέγχου"
      ]
    },
    {
      "cell_type": "markdown",
      "metadata": {
        "id": "qRH2ReXDUSif",
        "colab_type": "text"
      },
      "source": [
        "Τέλος, υλοποιούμε συναρτήσεις οπτικοποίησης της απόδοσης της εκπαίδευσης προς εξαγωγή χρήσιμων πληροφοριών και μελέτη των αποτελεσμάτων που θα προκύψουν από τη δοκιμή των μοντέλων μας."
      ]
    },
    {
      "cell_type": "code",
      "metadata": {
        "id": "vdWPm3zqbRo1",
        "colab_type": "code",
        "colab": {}
      },
      "source": [
        "def summarize_diagnostics(history):\n",
        "\t\"\"\" Plot diagnostic learning curves. \"\"\"\n",
        "\tplt.figure(figsize=(8, 8))\n",
        "\tplt.suptitle('Training Curves')\n",
        "\t# plot loss\n",
        "\tplt.subplot(211)\n",
        "\tplt.title('Cross Entropy Loss')\n",
        "\tplt.plot(history.history['loss'], color='blue', label='train')\n",
        "\tplt.plot(history.history['val_loss'], color='orange', label='val')\n",
        "\tplt.legend(loc='upper right')\n",
        "\t# plot accuracy\n",
        "\tplt.subplot(212)\n",
        "\tplt.title('Classification Accuracy')\n",
        "\tplt.plot(history.history['accuracy'], color='blue', label='train')\n",
        "\tplt.plot(history.history['val_accuracy'], color='orange', label='val')\n",
        "\tplt.legend(loc='lower right')\n",
        "\treturn plt\n",
        " \n",
        "def model_evaluation(model, evaluation_steps):\n",
        "\t\"\"\" Print test set and evaluation metrics. \"\"\"\n",
        "\tprint('\\nTest set evaluation metrics')\n",
        "\tloss0,accuracy0 = model.evaluate(test_ds, steps=evaluation_steps)\n",
        "\tprint(\"loss: {:.2f}\".format(loss0))\n",
        "\tprint(\"accuracy: {:.2f}\".format(accuracy0))\n",
        "\n",
        "def model_report(model, history, evaluation_steps = 10):\n",
        "\tplt = summarize_diagnostics(history)\n",
        "\tplt.show()\n",
        "\tmodel_evaluation(model, evaluation_steps)"
      ],
      "execution_count": 0,
      "outputs": []
    },
    {
      "cell_type": "markdown",
      "metadata": {
        "id": "Waa4c40Yay3k",
        "colab_type": "text"
      },
      "source": [
        "## Μοντέλα δικτύων"
      ]
    },
    {
      "cell_type": "markdown",
      "metadata": {
        "id": "cFTzQtMOa3Rv",
        "colab_type": "text"
      },
      "source": [
        "### Ένα μικρό συνελικτικό δίκτυο \"from scratch\""
      ]
    },
    {
      "cell_type": "code",
      "metadata": {
        "id": "LtcgTkHojt0G",
        "colab_type": "code",
        "colab": {}
      },
      "source": [
        "# a simple CNN https://www.tensorflow.org/tutorials/images/cnn\n",
        "\n",
        "def init_simple_model(summary):\n",
        "  model = models.Sequential()\n",
        "  model.add(layers.Conv2D(32, (3, 3), activation='relu', input_shape=(32, 32, 3)))\n",
        "  model.add(layers.MaxPooling2D((2, 2)))\n",
        "  model.add(layers.Conv2D(64, (3, 3), activation='relu'))\n",
        "  model.add(layers.MaxPooling2D((2, 2)))\n",
        "  model.add(layers.Conv2D(64, (3, 3), activation='relu'))\n",
        "  model.add(layers.Flatten())\n",
        "  model.add(layers.Dense(64, activation='relu'))\n",
        "  model.add(layers.Dense(100, activation='softmax'))\n",
        "  model.compile(optimizer=tf.optimizers.Adam(), loss=tf.keras.losses.sparse_categorical_crossentropy, metrics=[\"accuracy\"])\n",
        "  if summary: \n",
        "    model.summary()\n",
        "  return model"
      ],
      "execution_count": 0,
      "outputs": []
    },
    {
      "cell_type": "code",
      "metadata": {
        "id": "dSbtouO9lGvj",
        "colab_type": "code",
        "outputId": "9e1a75af-265b-4b28-e8f8-7e448a5b7078",
        "colab": {
          "base_uri": "https://localhost:8080/",
          "height": 1000
        }
      },
      "source": [
        "SIMPLE_MODEL = init_simple_model(summary = True)\n",
        "SIMPLE_MODEL_history = train_model(SIMPLE_MODEL, 50, 30, 5)"
      ],
      "execution_count": 24,
      "outputs": [
        {
          "output_type": "stream",
          "text": [
            "Model: \"sequential_5\"\n",
            "_________________________________________________________________\n",
            "Layer (type)                 Output Shape              Param #   \n",
            "=================================================================\n",
            "conv2d_15 (Conv2D)           (None, 30, 30, 32)        896       \n",
            "_________________________________________________________________\n",
            "max_pooling2d_10 (MaxPooling (None, 15, 15, 32)        0         \n",
            "_________________________________________________________________\n",
            "conv2d_16 (Conv2D)           (None, 13, 13, 64)        18496     \n",
            "_________________________________________________________________\n",
            "max_pooling2d_11 (MaxPooling (None, 6, 6, 64)          0         \n",
            "_________________________________________________________________\n",
            "conv2d_17 (Conv2D)           (None, 4, 4, 64)          36928     \n",
            "_________________________________________________________________\n",
            "flatten_5 (Flatten)          (None, 1024)              0         \n",
            "_________________________________________________________________\n",
            "dense_10 (Dense)             (None, 64)                65600     \n",
            "_________________________________________________________________\n",
            "dense_11 (Dense)             (None, 100)               6500      \n",
            "=================================================================\n",
            "Total params: 128,420\n",
            "Trainable params: 128,420\n",
            "Non-trainable params: 0\n",
            "_________________________________________________________________\n",
            "Train for 30 steps, validate for 5 steps\n",
            "Epoch 1/50\n",
            "30/30 [==============================] - 1s 26ms/step - loss: 3.6122 - accuracy: 0.0469 - val_loss: 3.0330 - val_accuracy: 0.0578\n",
            "Epoch 2/50\n",
            "30/30 [==============================] - 0s 8ms/step - loss: 2.8775 - accuracy: 0.1148 - val_loss: 2.7328 - val_accuracy: 0.1156\n",
            "Epoch 3/50\n",
            "30/30 [==============================] - 0s 10ms/step - loss: 2.6676 - accuracy: 0.1786 - val_loss: 2.6445 - val_accuracy: 0.1453\n",
            "Epoch 4/50\n",
            "30/30 [==============================] - 0s 8ms/step - loss: 2.5163 - accuracy: 0.2305 - val_loss: 2.4956 - val_accuracy: 0.2234\n",
            "Epoch 5/50\n",
            "30/30 [==============================] - 0s 10ms/step - loss: 2.4312 - accuracy: 0.2674 - val_loss: 2.3813 - val_accuracy: 0.2859\n",
            "Epoch 6/50\n",
            "30/30 [==============================] - 0s 8ms/step - loss: 2.2681 - accuracy: 0.3138 - val_loss: 2.2151 - val_accuracy: 0.3172\n",
            "Epoch 7/50\n",
            "30/30 [==============================] - 0s 10ms/step - loss: 2.1772 - accuracy: 0.3372 - val_loss: 2.3397 - val_accuracy: 0.3156\n",
            "Epoch 8/50\n",
            "30/30 [==============================] - 0s 9ms/step - loss: 2.1800 - accuracy: 0.3294 - val_loss: 2.1324 - val_accuracy: 0.3688\n",
            "Epoch 9/50\n",
            "30/30 [==============================] - 0s 10ms/step - loss: 2.0715 - accuracy: 0.3758 - val_loss: 2.1468 - val_accuracy: 0.3516\n",
            "Epoch 10/50\n",
            "30/30 [==============================] - 0s 9ms/step - loss: 2.0128 - accuracy: 0.3974 - val_loss: 2.0603 - val_accuracy: 0.3812\n",
            "Epoch 11/50\n",
            "30/30 [==============================] - 0s 8ms/step - loss: 2.0110 - accuracy: 0.3721 - val_loss: 2.0192 - val_accuracy: 0.3938\n",
            "Epoch 12/50\n",
            "30/30 [==============================] - 0s 9ms/step - loss: 1.8934 - accuracy: 0.4164 - val_loss: 2.0369 - val_accuracy: 0.3750\n",
            "Epoch 13/50\n",
            "30/30 [==============================] - 0s 9ms/step - loss: 1.9295 - accuracy: 0.4068 - val_loss: 2.0091 - val_accuracy: 0.3719\n",
            "Epoch 14/50\n",
            "30/30 [==============================] - 0s 9ms/step - loss: 1.8992 - accuracy: 0.4232 - val_loss: 1.9299 - val_accuracy: 0.4344\n",
            "Epoch 15/50\n",
            "30/30 [==============================] - 0s 10ms/step - loss: 1.8651 - accuracy: 0.4260 - val_loss: 1.9590 - val_accuracy: 0.4078\n",
            "Epoch 16/50\n",
            "30/30 [==============================] - 0s 9ms/step - loss: 1.8090 - accuracy: 0.4331 - val_loss: 1.9856 - val_accuracy: 0.4000\n",
            "Epoch 17/50\n",
            "30/30 [==============================] - 0s 9ms/step - loss: 1.7864 - accuracy: 0.4555 - val_loss: 1.9598 - val_accuracy: 0.4234\n",
            "Epoch 18/50\n",
            "30/30 [==============================] - 0s 8ms/step - loss: 1.8288 - accuracy: 0.4388 - val_loss: 1.9300 - val_accuracy: 0.4203\n",
            "Epoch 19/50\n",
            "30/30 [==============================] - 0s 10ms/step - loss: 1.7433 - accuracy: 0.4615 - val_loss: 1.9141 - val_accuracy: 0.4125\n",
            "Epoch 20/50\n",
            "30/30 [==============================] - 0s 9ms/step - loss: 1.7525 - accuracy: 0.4651 - val_loss: 1.8604 - val_accuracy: 0.4313\n",
            "Epoch 21/50\n",
            "30/30 [==============================] - 0s 8ms/step - loss: 1.7414 - accuracy: 0.4706 - val_loss: 1.9508 - val_accuracy: 0.4094\n",
            "Epoch 22/50\n",
            "30/30 [==============================] - 0s 9ms/step - loss: 1.6772 - accuracy: 0.4768 - val_loss: 1.7806 - val_accuracy: 0.4688\n",
            "Epoch 23/50\n",
            "30/30 [==============================] - 0s 9ms/step - loss: 1.6681 - accuracy: 0.4870 - val_loss: 1.8287 - val_accuracy: 0.4625\n",
            "Epoch 24/50\n",
            "30/30 [==============================] - 0s 9ms/step - loss: 1.6575 - accuracy: 0.4823 - val_loss: 1.7894 - val_accuracy: 0.4641\n",
            "Epoch 25/50\n",
            "30/30 [==============================] - 0s 8ms/step - loss: 1.6220 - accuracy: 0.5034 - val_loss: 1.8767 - val_accuracy: 0.4453\n",
            "Epoch 26/50\n",
            "30/30 [==============================] - 0s 9ms/step - loss: 1.6211 - accuracy: 0.5000 - val_loss: 1.7768 - val_accuracy: 0.4766\n",
            "Epoch 27/50\n",
            "30/30 [==============================] - 0s 8ms/step - loss: 1.5783 - accuracy: 0.5036 - val_loss: 1.8966 - val_accuracy: 0.4484\n",
            "Epoch 28/50\n",
            "30/30 [==============================] - 0s 9ms/step - loss: 1.5542 - accuracy: 0.5268 - val_loss: 1.7102 - val_accuracy: 0.4969\n",
            "Epoch 29/50\n",
            "30/30 [==============================] - 0s 9ms/step - loss: 1.5682 - accuracy: 0.5211 - val_loss: 1.8887 - val_accuracy: 0.4531\n",
            "Epoch 30/50\n",
            "30/30 [==============================] - 0s 10ms/step - loss: 1.5206 - accuracy: 0.5180 - val_loss: 1.7331 - val_accuracy: 0.4703\n",
            "Epoch 31/50\n",
            "30/30 [==============================] - 0s 9ms/step - loss: 1.5353 - accuracy: 0.5185 - val_loss: 1.7271 - val_accuracy: 0.4875\n",
            "Epoch 32/50\n",
            "30/30 [==============================] - 0s 8ms/step - loss: 1.4711 - accuracy: 0.5422 - val_loss: 1.7769 - val_accuracy: 0.4781\n",
            "Epoch 33/50\n",
            "30/30 [==============================] - 0s 9ms/step - loss: 1.4812 - accuracy: 0.5466 - val_loss: 1.6906 - val_accuracy: 0.4891\n",
            "Epoch 34/50\n",
            "30/30 [==============================] - 0s 8ms/step - loss: 1.3999 - accuracy: 0.5617 - val_loss: 1.7066 - val_accuracy: 0.4953\n",
            "Epoch 35/50\n",
            "30/30 [==============================] - 0s 9ms/step - loss: 1.4439 - accuracy: 0.5466 - val_loss: 1.6549 - val_accuracy: 0.5156\n",
            "Epoch 36/50\n",
            "30/30 [==============================] - 0s 8ms/step - loss: 1.3642 - accuracy: 0.5760 - val_loss: 1.7538 - val_accuracy: 0.4750\n",
            "Epoch 37/50\n",
            "30/30 [==============================] - 0s 10ms/step - loss: 1.4166 - accuracy: 0.5568 - val_loss: 1.7271 - val_accuracy: 0.5000\n",
            "Epoch 38/50\n",
            "30/30 [==============================] - 0s 8ms/step - loss: 1.4149 - accuracy: 0.5573 - val_loss: 1.7119 - val_accuracy: 0.4859\n",
            "Epoch 39/50\n",
            "30/30 [==============================] - 0s 9ms/step - loss: 1.3660 - accuracy: 0.5750 - val_loss: 1.7238 - val_accuracy: 0.4672\n",
            "Epoch 40/50\n",
            "30/30 [==============================] - 0s 8ms/step - loss: 1.4035 - accuracy: 0.5638 - val_loss: 1.6931 - val_accuracy: 0.4703\n",
            "Epoch 41/50\n",
            "30/30 [==============================] - 0s 9ms/step - loss: 1.3327 - accuracy: 0.5862 - val_loss: 1.5860 - val_accuracy: 0.5328\n",
            "Epoch 42/50\n",
            "30/30 [==============================] - 0s 8ms/step - loss: 1.3354 - accuracy: 0.5849 - val_loss: 1.5874 - val_accuracy: 0.5344\n",
            "Epoch 43/50\n",
            "30/30 [==============================] - 0s 9ms/step - loss: 1.3158 - accuracy: 0.5862 - val_loss: 1.7073 - val_accuracy: 0.4844\n",
            "Epoch 44/50\n",
            "30/30 [==============================] - 0s 9ms/step - loss: 1.3136 - accuracy: 0.5906 - val_loss: 1.6922 - val_accuracy: 0.4938\n",
            "Epoch 45/50\n",
            "30/30 [==============================] - 0s 8ms/step - loss: 1.2775 - accuracy: 0.6018 - val_loss: 1.6964 - val_accuracy: 0.4922\n",
            "Epoch 46/50\n",
            "30/30 [==============================] - 0s 9ms/step - loss: 1.2541 - accuracy: 0.6062 - val_loss: 1.6812 - val_accuracy: 0.4828\n",
            "Epoch 47/50\n",
            "30/30 [==============================] - 0s 8ms/step - loss: 1.2645 - accuracy: 0.6031 - val_loss: 1.6265 - val_accuracy: 0.5344\n",
            "Epoch 48/50\n",
            "30/30 [==============================] - 0s 9ms/step - loss: 1.2847 - accuracy: 0.5977 - val_loss: 1.7060 - val_accuracy: 0.5078\n",
            "Epoch 49/50\n",
            "30/30 [==============================] - 0s 8ms/step - loss: 1.2541 - accuracy: 0.6104 - val_loss: 1.5986 - val_accuracy: 0.5250\n",
            "Epoch 50/50\n",
            "30/30 [==============================] - 0s 9ms/step - loss: 1.2248 - accuracy: 0.6201 - val_loss: 1.7687 - val_accuracy: 0.4750\n"
          ],
          "name": "stdout"
        }
      ]
    },
    {
      "cell_type": "code",
      "metadata": {
        "id": "Qmyw-txxnzrd",
        "colab_type": "code",
        "outputId": "1b2de9ab-f4d4-4a8f-9efd-976542a8082a",
        "colab": {
          "base_uri": "https://localhost:8080/",
          "height": 625
        }
      },
      "source": [
        "model_report(SIMPLE_MODEL, SIMPLE_MODEL_history, 30)"
      ],
      "execution_count": 25,
      "outputs": [
        {
          "output_type": "display_data",
          "data": {
            "image/png": "[encoded data removed]",
            "text/plain": [
              "<Figure size 576x576 with 2 Axes>"
            ]
          },
          "metadata": {
            "tags": []
          }
        },
        {
          "output_type": "stream",
          "text": [
            "\n",
            "Test set evaluation metrics\n",
            "30/30 [==============================] - 0s 6ms/step - loss: 1.6393 - accuracy: 0.5125\n",
            "loss: 1.64\n",
            "accuracy: 0.51\n"
          ],
          "name": "stdout"
        }
      ]
    },
    {
      "cell_type": "markdown",
      "metadata": {
        "id": "12z4zsoVbPWR",
        "colab_type": "text"
      },
      "source": [
        "### Μεταφορά μάθησης: VGG16"
      ]
    },
    {
      "cell_type": "code",
      "metadata": {
        "id": "6QJueWvUXUTJ",
        "colab_type": "code",
        "colab": {}
      },
      "source": [
        "# transfer learning: VGG16 trained on ImageNet without the top layer\n",
        "\n",
        "def init_VGG16_model(summary):\n",
        "  VGG16_MODEL=tf.keras.applications.VGG16(input_shape=(img_rows, img_cols, img_channels), include_top=False, weights='imagenet')\n",
        "\n",
        "  # unfreeze conv layers\n",
        "  VGG16_MODEL.trainable=True\n",
        "\n",
        "  dropout_layer = tf.keras.layers.Dropout(rate = 0.5)\n",
        "  global_average_layer = tf.keras.layers.GlobalAveragePooling2D()\n",
        "\n",
        "  # add top layer for CIFAR100 classification\n",
        "  prediction_layer = tf.keras.layers.Dense(len(CIFAR100_LABELS_LIST),activation='softmax')\n",
        "  model = tf.keras.Sequential([VGG16_MODEL, dropout_layer, global_average_layer, prediction_layer])\n",
        "  model.compile(optimizer=tf.optimizers.Adam(learning_rate=0.00005), loss=tf.keras.losses.sparse_categorical_crossentropy, metrics=[\"accuracy\"])\n",
        "  if summary: \n",
        "    model.summary()\n",
        "  return model"
      ],
      "execution_count": 0,
      "outputs": []
    },
    {
      "cell_type": "code",
      "metadata": {
        "id": "HR-bPAmGGt2N",
        "colab_type": "code",
        "outputId": "940e6640-4de7-483b-ec60-7c9631a8a82a",
        "colab": {
          "base_uri": "https://localhost:8080/",
          "height": 1000
        }
      },
      "source": [
        "VGG16_MODEL = init_VGG16_model(summary = True)\n",
        "VGG16_MODEL_history = train_model(VGG16_MODEL, 25, 40, 10)"
      ],
      "execution_count": 0,
      "outputs": [
        {
          "output_type": "stream",
          "text": [
            "Downloading data from https://github.com/fchollet/deep-learning-models/releases/download/v0.1/vgg16_weights_tf_dim_ordering_tf_kernels_notop.h5\n",
            "58892288/58889256 [==============================] - 5s 0us/step\n",
            "Model: \"sequential_1\"\n",
            "_________________________________________________________________\n",
            "Layer (type)                 Output Shape              Param #   \n",
            "=================================================================\n",
            "vgg16 (Model)                (None, 1, 1, 512)         14714688  \n",
            "_________________________________________________________________\n",
            "dropout (Dropout)            (None, 1, 1, 512)         0         \n",
            "_________________________________________________________________\n",
            "global_average_pooling2d (Gl (None, 512)               0         \n",
            "_________________________________________________________________\n",
            "dense_2 (Dense)              (None, 100)               51300     \n",
            "=================================================================\n",
            "Total params: 14,765,988\n",
            "Trainable params: 14,765,988\n",
            "Non-trainable params: 0\n",
            "_________________________________________________________________\n",
            "Train for 40 steps, validate for 10 steps\n",
            "Epoch 1/25\n",
            "40/40 [==============================] - 3s 86ms/step - loss: 3.2556 - accuracy: 0.2031 - val_loss: 1.7827 - val_accuracy: 0.4977\n",
            "Epoch 2/25\n",
            "40/40 [==============================] - 2s 41ms/step - loss: 1.8837 - accuracy: 0.4576 - val_loss: 1.3299 - val_accuracy: 0.6273\n",
            "Epoch 3/25\n",
            "40/40 [==============================] - 2s 40ms/step - loss: 1.4877 - accuracy: 0.5643 - val_loss: 1.1127 - val_accuracy: 0.6703\n",
            "Epoch 4/25\n",
            "40/40 [==============================] - 2s 40ms/step - loss: 1.1655 - accuracy: 0.6562 - val_loss: 0.9948 - val_accuracy: 0.7094\n",
            "Epoch 5/25\n",
            "40/40 [==============================] - 2s 41ms/step - loss: 0.9993 - accuracy: 0.7002 - val_loss: 0.9447 - val_accuracy: 0.7086\n",
            "Epoch 6/25\n",
            "40/40 [==============================] - 2s 40ms/step - loss: 0.8359 - accuracy: 0.7437 - val_loss: 0.8413 - val_accuracy: 0.7344\n",
            "Epoch 7/25\n",
            "40/40 [==============================] - 2s 40ms/step - loss: 0.7686 - accuracy: 0.7678 - val_loss: 0.8303 - val_accuracy: 0.7469\n",
            "Epoch 8/25\n",
            "40/40 [==============================] - 2s 40ms/step - loss: 0.6342 - accuracy: 0.8021 - val_loss: 0.8139 - val_accuracy: 0.7453\n",
            "Epoch 9/25\n",
            "40/40 [==============================] - 2s 40ms/step - loss: 0.5256 - accuracy: 0.8318 - val_loss: 0.8358 - val_accuracy: 0.7602\n",
            "Epoch 10/25\n",
            "40/40 [==============================] - 2s 41ms/step - loss: 0.5075 - accuracy: 0.8412 - val_loss: 0.7777 - val_accuracy: 0.7617\n",
            "Epoch 11/25\n",
            "40/40 [==============================] - 2s 40ms/step - loss: 0.3739 - accuracy: 0.8811 - val_loss: 0.7496 - val_accuracy: 0.7734\n",
            "Epoch 12/25\n",
            "40/40 [==============================] - 2s 40ms/step - loss: 0.3575 - accuracy: 0.8873 - val_loss: 0.7924 - val_accuracy: 0.7844\n",
            "Epoch 13/25\n",
            "40/40 [==============================] - 2s 41ms/step - loss: 0.3120 - accuracy: 0.8965 - val_loss: 0.8095 - val_accuracy: 0.7883\n",
            "Epoch 14/25\n",
            "40/40 [==============================] - 2s 40ms/step - loss: 0.2568 - accuracy: 0.9174 - val_loss: 0.7866 - val_accuracy: 0.7805\n",
            "Epoch 15/25\n",
            "40/40 [==============================] - 2s 40ms/step - loss: 0.2316 - accuracy: 0.9266 - val_loss: 0.7590 - val_accuracy: 0.7922\n",
            "Epoch 16/25\n",
            "40/40 [==============================] - 2s 41ms/step - loss: 0.1731 - accuracy: 0.9430 - val_loss: 0.8162 - val_accuracy: 0.7906\n",
            "Epoch 17/25\n",
            "40/40 [==============================] - 2s 40ms/step - loss: 0.1585 - accuracy: 0.9475 - val_loss: 0.8571 - val_accuracy: 0.7867\n",
            "Epoch 18/25\n",
            "40/40 [==============================] - 2s 40ms/step - loss: 0.1192 - accuracy: 0.9639 - val_loss: 0.9302 - val_accuracy: 0.8000\n",
            "Epoch 19/25\n",
            "40/40 [==============================] - 2s 40ms/step - loss: 0.1134 - accuracy: 0.9648 - val_loss: 0.9323 - val_accuracy: 0.7867\n",
            "Epoch 20/25\n",
            "40/40 [==============================] - 2s 40ms/step - loss: 0.0939 - accuracy: 0.9701 - val_loss: 0.8747 - val_accuracy: 0.7891\n",
            "Epoch 21/25\n",
            "40/40 [==============================] - 2s 40ms/step - loss: 0.0528 - accuracy: 0.9848 - val_loss: 0.8834 - val_accuracy: 0.8039\n",
            "Epoch 22/25\n",
            "40/40 [==============================] - 2s 40ms/step - loss: 0.0731 - accuracy: 0.9754 - val_loss: 0.8676 - val_accuracy: 0.7969\n",
            "Epoch 23/25\n",
            "40/40 [==============================] - 2s 41ms/step - loss: 0.0394 - accuracy: 0.9891 - val_loss: 0.9897 - val_accuracy: 0.7937\n",
            "Epoch 24/25\n",
            "40/40 [==============================] - 2s 40ms/step - loss: 0.0533 - accuracy: 0.9830 - val_loss: 1.0518 - val_accuracy: 0.7852\n",
            "Epoch 25/25\n",
            "40/40 [==============================] - 2s 41ms/step - loss: 0.0522 - accuracy: 0.9852 - val_loss: 0.9980 - val_accuracy: 0.7914\n"
          ],
          "name": "stdout"
        }
      ]
    },
    {
      "cell_type": "code",
      "metadata": {
        "id": "2bZChKpdh0Cn",
        "colab_type": "code",
        "outputId": "8a17c693-7270-4cbe-da67-5ae6ab2162f3",
        "colab": {
          "base_uri": "https://localhost:8080/",
          "height": 625
        }
      },
      "source": [
        "model_report(VGG16_MODEL, VGG16_MODEL_history, 30)"
      ],
      "execution_count": 0,
      "outputs": [
        {
          "output_type": "display_data",
          "data": {
            "image/png": "[encoded data removed]",
            "text/plain": [
              "<Figure size 576x576 with 2 Axes>"
            ]
          },
          "metadata": {
            "tags": []
          }
        },
        {
          "output_type": "stream",
          "text": [
            "\n",
            "Test set evaluation metrics\n",
            "30/30 [==============================] - 0s 14ms/step - loss: 1.0188 - accuracy: 0.7872\n",
            "loss: 1.02\n",
            "accuracy: 0.79\n"
          ],
          "name": "stdout"
        }
      ]
    },
    {
      "cell_type": "markdown",
      "metadata": {
        "id": "HUfob-kNfaSD",
        "colab_type": "text"
      },
      "source": [
        "# Βελτίωση της επίδοσης με πειράματα\n",
        "\n",
        "Καλείστε να βελτιώσετε τα αποτελέσματα ταξινόμησης στο CIFAR-100 και να βγάλατε συμπεράσματα, σύμφωνα με όσα ζητούνται σε σχέση με την αναφορά παράδοσης. "
      ]
    },
    {
      "cell_type": "markdown",
      "metadata": {
        "id": "FiVKTH5rmhWn",
        "colab_type": "text"
      },
      "source": [
        "## Δοκιμές διαφορετικών μοντέλων\n",
        "\n",
        "Μπορείτε είτε να δοκιμάσετε μοντέλα \"from scratch\", όπου ορίζετε την αρχιτεκτονική του δικτύου όπως θέλετε, είτε να χρησιμοποιήσετε μεταφορά μάθησης.\n"
      ]
    },
    {
      "cell_type": "markdown",
      "metadata": {
        "id": "pAbqI8hapbX9",
        "colab_type": "text"
      },
      "source": [
        "\n",
        "### Μοντέλα \"from scratch\"\n",
        "\n",
        "Μπορείτε να τροποποιήσετε/αλλάξετε το αρχικό μικρό συνελικτικό δίκτυο του παραδείγματος. Μπορείτε να συμβουλευτείτε \n",
        "- τη [βιβλιογραφία απο το leaderboard του CIFAR-100](https://benchmarks.ai/cifar-100) για αρχιτεκτονικές και παραμέτρους των δικτύων\n",
        "- ή/και να πάρετε ιδέες [από σχετική αναζήτηση στο Google Scholar](https://scholar.google.gr/scholar?hl=en&as_sdt=0%2C5&q=cifar+100+cnn&oq=cifa)"
      ]
    },
    {
      "cell_type": "markdown",
      "metadata": {
        "id": "8LZIFj-AmlPv",
        "colab_type": "text"
      },
      "source": [
        "### Μεταφορά μάθησης\n",
        "\n",
        "Εναλλακτικά, μπορείτε να χρησιμοποιήσετ τη [μεταφορά μάθησης του tf2](https://www.tensorflow.org/tutorials/images/transfer_learning). Σε αντίθεση με τα μοντέλα \"from scratch\" η μεταφορά μάθησης μας επιστρέφει έτοιμα μοντέλα με προκαθορισμένη αρχιτεκτονική στην οποία μπορούμε γενικά μόνο να προσθέσουμε επίπεδα, τα οποία συνήθως περιορίζοντα σε πλήρως διασυνδεδεμένα επίπεδα που εξειδικεύονται στο συγκεκριμένο task ταξινόμησης που έχουμε να επιτελέσουμε. "
      ]
    },
    {
      "cell_type": "markdown",
      "metadata": {
        "id": "GrCxOjJ7ush3",
        "colab_type": "text"
      },
      "source": [
        "#### Εκπαίδευση βαρών\n",
        "\n",
        "Ταυτόχρονα με την αρχιτεκτονική, στη μεταφορά μάθησης εισάγουμε και τη γνώση που έχει αποκτήσει το μοντέλο, δηλαδή τις τιμές των βαρών του όπως έχουν προκύψει μετά από εκπαίδευση συνήθως στο (τεράστιο) ImageNet. Οταν εισάγουμε ένα μοντέλο με μεταφορά μάθησης έχουμε τρεις επιλογές για την εκπαίδευση:\n",
        "- να παγώσουμε τη συνελικτική βάση και να εκπαιδεύσουμε την κεφαλή ταξινόμησης (classification head). Αυτό αντιστοιχεί στο να χρησιμοποιήσουμε τη συνελικτική βάση για εξαγωγή χαρακτηριστικών (feature extraction), σημαία trainable = False.\n",
        "- να συνεχίσουμε να εκπαιδεύουμε όλα τα επίπεδα του δικτύου, σημαία trainable = True.\n",
        "- να εκπαιδευτεί μόνο ένα ποσοστό των επιπέδων, εβρισκόμενο προς την έξοδο του δικτύου. Οι σημαίες trainable εδώ θα πρέπει να οριστούν ανά επίπεδο.\n"
      ]
    },
    {
      "cell_type": "markdown",
      "metadata": {
        "id": "6WFvmWr9xEUz",
        "colab_type": "text"
      },
      "source": [
        "\n",
        "#### Διαθέσιμα μοντέλα για μεταφορά μάθησης στο tf2\n",
        "\n",
        "1. tf.keras.applications. Ο πιο απλός τρόπος για να κάνουμε μεταφορά μάθησης στο tf2 είναι μέσω του [tf.keras.applications](https://www.tensorflow.org/api_docs/python/tf/keras/applications) που παρέχει προεκπαιδευμένα μοντέλα από το Keras και συγκεκριμένα τα δίκτυα: DenseNet, Inception-ResNet V2, Inception V3, MobileNet v1, MobileNet v2, NASNet-A, ResNet, ResNet v2, VGG16, VGG19 και Xception V1. Η εισαγωγή των μοντέλων γίνεται παρόμοια με αυτή που δείξαμε παραπάνω για το VGG16.\n",
        "\n",
        "2. TensorFlow Hub. Μπορείτε επίσης να χρησιμοποιήσετε μοντέλα τα οποία είναι διαθέσιμα στο αποθετήριο [TensoFlow Hub](https://tfhub.dev/s?fine-tunable=yes&module-type=image-augmentation,image-classification,image-feature-vector,image-generator,image-object-detection,image-others,image-style-transfer,image-rnn-agent&tf-version=tf2) το οποίο περιλαμβάνει πάνω από 100 προεκπαιδευμένα μοντέλα.\n",
        "\n",
        "3. Αποθηκευμένα μοντέλα απο τρίτες πηγές. Μπορείτε επίσης να κάνετε μεταφορά μάθησης από τρίτες πηγές, είτε του συνόλου του νευρωνικού, αρχιτεκτονικής και βαρών, είτε μόνο της αρχιτεκτονικής ή των βαρών. Το μοντέλο θα πρέπει να έχει αποθηκευθεί σε ένα από τα δύο φορμάτ, Keras HDF5 format (.h5 ή .keras) ή ως στο SavedModel format που αναφέραμε στην εισαγωγή. Τα βάρη μπορούν να εισαχθούν και μόνα τους ως Checkpoints. Για περισσότερα, διαβάστε σχετικά τα λήμματα [\"Save and load models\"](https://www.tensorflow.org/tutorials/keras/save_and_load), [\"Save and serialize\"](https://www.tensorflow.org/guide/keras/save_and_serialize), [\"Using the SavedModel format\"](https://www.tensorflow.org/guide/saved_model) και δείτε για παράδειγμα πως μπορούμε να κάνουμε μεταφορά μάθησης από τα state-of-the-art EfficientNets ([1](https://www.dlology.com/blog/transfer-learning-with-efficientnet/), [2](https://github.com/tensorflow/tpu/tree/master/models/official/efficientnethttps://)).\n",
        "\n",
        "Σημειώστε ότι πολλά μοντέλα απαιτούν μεγαλύτερες διαστάσεις στην είσοδο από αυτές του CIFAR-100 και κατά συνέπεια τα δεδομένα πρέπει να [μετασχηματιστούν](https://www.tensorflow.org/api_docs/python/tf/image/resize). Προσέξτε ωστόσο τις απαιτήσεις σε μνήμη όταν αυτοί οι μετασχηματισμοί γίνονται απευθείας σε μεταβλητές (βλ. πιο κάτω \"Διαχείριση μνήμης\"). \n"
      ]
    },
    {
      "cell_type": "markdown",
      "metadata": {
        "id": "SRI_3XhBQ7sb",
        "colab_type": "text"
      },
      "source": [
        "## Παρατηρήσεις ως προς τη βελτιστοποίηση"
      ]
    },
    {
      "cell_type": "markdown",
      "metadata": {
        "id": "mtVx8MsZRQrn",
        "colab_type": "text"
      },
      "source": [
        "### Διαχείριση μνήμης (TFRecord)\n",
        "\n",
        "Η φόρτωση δεδομένων με τον τρόπο που το κάναμε παραπάνω στο απλό παράδειγμα υλοποίησης είναι πολύ βολική αλλά δεν είναι καθόλου αποτελεσματική ως προς τη διαχείριση της μνήμης. Συγκεκριμένα, με τον τρόπο αυτό, τα δεδομένα αποθηκεύονται απευθείας σε μεταβλητές, οι οποίες όλες μαζί καταλαμβάνουν τη RAM της CPU ή της GPU, κάτι που κάνει αδύνατη τη διαχείριση μεγάλων datasets ή τον μεταχηματισμό των δεδομένων όπως όταν κάνουμε αύξηση δεδομένων (data augmentation).\n",
        "\n",
        "Για να παρακαμφθεί αυτό το πρόβλημα, υπάρχει η δυνατότητα της σειριοποίησης των δεδομένων (serialization) και της αποθήκευσής τους σε αρχεία μεσαίου μεγέθους (κάποιων MB) τα οποία μπορούνα να αναγνωστούν γραμμικά. Το φορμάτ TFRecord είναι ένα φορμάτ που επιτρέπει την αποθήκευση σειράς δυαδικών εγγραφών. Διαβάστε τα σχετικά λήμματα [TFRecord and tf.Example](https://www.tensorflow.org/tutorials/load_data/tfrecord) και [tf.data: Build TensorFlow input pipelines](https://www.tensorflow.org/guide/data). \n",
        "\n",
        "Σημειώστε ότι με τη μέθοδο αυτή θα πρέπει να γίνει import η `tensorflow_datasets` και να χρησιμοποιήσουμε την `tfds.load` ώστε να αποθηκευθεί το σύνολο δεδομένων σε αρχεία tfrecord στο δίσκο (δείτε [εδώ](https://colab.research.google.com/github/tensorflow/datasets/blob/master/docs/overview.ipynb) ένα παράδειγμα). Φυσικά μπορούμε να μετατρέψουμε και τα πρωτογενή δεδομένα (raw data) του dataset όπως αρχεία jpg σε φορματ tfrecord όπως [εδώ](https://towardsdatascience.com/working-with-tfrecords-and-tf-train-example-36d111b3ff4d).\n",
        "\n"
      ]
    },
    {
      "cell_type": "markdown",
      "metadata": {
        "id": "yypACH_oZx_i",
        "colab_type": "text"
      },
      "source": [
        "### Υπερεκπαίδευση\n",
        "\n",
        "Μπορείτε να πειραματιστείτε ως προς τον έλεγχο της υπερεκπαίδευσης (overfitting) με διάφορους τρόπους. Μεταξύ αυτών μπορούμε να αναφέρουμε τους εξής:\n",
        "- Πρόωρος τερματισμός (early stopping). Μια μέθοδος που τερματίζει την εκπαίδευση αν δεν υπάρχει βελτίωση ως προς τη μετρική απόδοσης που παρακολουθούμε. [tf.keras.callbacks.EarlyStopping](https://www.tensorflow.org/api_docs/python/tf/keras/callbacks/EarlyStoppinghttps://)\n",
        "- Dropout. Μια άλλη τεχνική για τη μείωση της υπερεκπαίδευσης είναι το Dropout. Είναι ένα είδος ομαλοποίησης (regularization) που επιβάλλει στα βάρη του δικτύου να παίρνουν μόνο μικρές τιμές. Εάν εφαρμόσουε dropout σε ένα επίπεδο του δικτύου, τότε ένα ποσοστό των βαρών του γίνεται τυχαία μηδενικό κατά την εκπαίδευση. [Dropout](https://www.tensorflow.org/tutorials/images/classification#dropout)\n",
        "- Επαύξηση δεδομένων. Η υπερεκπαίδευση συνήθως συμβαίνει όταν έχουμε λίγα ή/και πολύ όμοια δεδομένα εκπαίδευσης. Ένας τρόπος να διορθωθεί αυτό το πρόβλημα είναι να αυξήσουμε τα δεδομένα (data augmentation). Το data augmentation δημιουργεί νέα δεδομένα εκπαίδευσης με βάση τα υπάρχοντα εφαρμόζοντας τυχαίους μετασχηματισμούς ώστε να προκύπτουν αληθοφανείς εικόνες. [Data augmentation](https://www.tensorflow.org/tutorials/images/classification#data_augmentation), [ImageDataGenerator](https://www.tensorflow.org/api_docs/python/tf/keras/preprocessing/image/ImageDataGenerator#class_imagedatagenerator)\n",
        "\n",
        "Βλέπε επίσης [Image classification](https://www.tensorflow.org/tutorials/images/classification)."
      ]
    },
    {
      "cell_type": "markdown",
      "metadata": {
        "id": "MBLBjFFFmsUP",
        "colab_type": "text"
      },
      "source": [
        "### Χρόνος εκπαίδευσης\n",
        "\n",
        "Το TensorFlow 2 προσφέρει νέους ή βελτιώνει διάφορους μηχανισμούς βελτιστοποίησης της εκπαίδευσης. Μεταξύ αυτών έχουμε τους εξής:\n",
        "- Data prefetching (το χρησιμοποιήσαμε παραπάνω)\n",
        "- Data reading parallelization \n",
        "- Map transformation parallelization\n",
        "- Caching\n",
        "- Reducing memory footprint\n",
        "\n",
        "Συμβουλευτείτε για τα παραπάνω το [Better performance with the tf.data API](https://www.tensorflow.org/guide/data_performance)"
      ]
    },
    {
      "cell_type": "markdown",
      "metadata": {
        "id": "s3ddu1ECoCGQ",
        "colab_type": "text"
      },
      "source": [
        "### Εργαλεία υψηλού επιπέδου\n",
        "\n",
        "Μεταξύ των εργαλείων βελτιστοποίησης υψηλού επιπέδου (high-level) του TensorFlow μπορούμε να αναφέρουμε τα ακόλουθα:\n",
        "\n",
        "- [TensorBoard](https://www.tensorflow.org/tensorboard/get_started) και [What-If Tool](https://www.tensorflow.org/tensorboard/what_if_tool) Επικουρικό εργαλείο οπτικοποίησης για τον πειραματισμό στη Μηχανική Μάθηση\n",
        "- [tf-explain](https://tf-explain.readthedocs.io/en/latest/) Προσφέρει μεθόδους επεξηγισιμότητας για το tf2\n",
        "- [Keras Tuner](https://github.com/keras-team/keras-tuner) Βελτιστοποίηση υπερπαραμέτρων του Keras στο TensorFlow 2.0\n",
        "- [AutoAugment](https://github.com/tensorflow/models/tree/master/research/autoaugment) Εκμάθηση της πολιτικης επαύξησης από τα δεδομένα"
      ]
    }
  ]
}