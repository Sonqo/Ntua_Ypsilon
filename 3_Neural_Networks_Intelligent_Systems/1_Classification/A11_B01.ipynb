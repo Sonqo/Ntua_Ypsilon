{
 "cells": [
  {
   "cell_type": "markdown",
   "metadata": {},
   "source": [
    "[Α.Στοιχεία Ομάδας](#Στοιχεία) \n",
    "\n",
    "[Β.Εισαγωγή του Dataset](#Εισαγωγή)\n",
    "\n",
    "[Γ.Baseline Classification](#Baseline)\n",
    "\n",
    "[Δ.Βελτίωση Ταξινομητών](#Βελτίωση)\n",
    "\n",
    "[Ε.Τελική Αρχιτεκτονική Μετασχηματισμών](#Final)"
   ]
  },
  {
   "cell_type": "markdown",
   "metadata": {},
   "source": [
    "<a id='Στοιχεία'></a>\n",
    "\n",
    "## Στοιχεία Ομάδας"
   ]
  },
  {
   "cell_type": "markdown",
   "metadata": {},
   "source": [
    "Αριθμός Ομάδας: Μ.Α.11\n",
    "\n",
    "    > Καρυπιάδης Ευστράτιος: 03114911 "
   ]
  },
  {
   "cell_type": "code",
   "execution_count": 15,
   "metadata": {},
   "outputs": [],
   "source": [
    "import warnings\n",
    "warnings.filterwarnings('ignore')"
   ]
  },
  {
   "cell_type": "markdown",
   "metadata": {},
   "source": [
    "Η ανάπτυξη του Notebook πραγματοποιήθηκε σε τοπικό περιβάλλον. Κατά συνέπεια ο πίνακας περιεχομένων που παρουσιάζεται παραπάνω, αλλά και εκείνος του Δ. κεφαλαίου ενδέχεται να μην διατηρούν τη λειτουργικότητά τους σε διαφορετικά περιβάλλοντα. Επίσης, εντολές μορφοποίησης κειμένου ενδέχεται επίσης να μεταβάλλουν τη συμπεριφορά τους."
   ]
  },
  {
   "cell_type": "markdown",
   "metadata": {},
   "source": [
    "---\n",
    "\n",
    "<a id='Εισαγωγή'></a>\n",
    "\n",
    "## Εισαγωγή του Dataset"
   ]
  },
  {
   "cell_type": "markdown",
   "metadata": {},
   "source": [
    "Το σύνολο των δεδομένων μας συλλέχθηκε με τη χρήση τηλεσκοπίων *MAGIC(Major Atmospheric Gamma Imaging Cherenkov Telescopes)*. Πιο συγκεκριμένα, τα τηλεσκόπια αυτά εκμεταλλεύονται τη ραδιενέργεια *Cherenkov* που απελευθερώνεται από επιταχυνόμενα σωματίδια και συλλέγει αντίστοιχους παλμούς ραδιενέργειας, οι οποίοι προέρχονται από τη σκέδαση σωματιδίων, είτε λόγω ακτινών γάμμα, είτε λόγω ηλιακής ακτινοβολίας. Οι εικόνες που ελήφθησαν, επεξεργάστηκαν στη συνέχεια από το πρόγραμμα *Corsika*, ώστε να εξαχθούν οι αντίστοιχες μετρικές ψηφιακής περιγραφής αυτών. Τα δείγματα που έχουμε στη διάθεσή μας θα επιχειρήσουμε να τα ταξινομήσουμε σε δύο κατηγορίες, ανάλογα με το αν τα σωματίδια σκέδασης προέρχοναι από ακτινοβολία γάμμα ή από ηλιακή ακτινοβολία.\n",
    "\n",
    "Τα δεδομένα μας περιέχονται σε ένα αρχείο .data, το οποίο θα το διαβάσουμε σε ένα DataFrame. Δεν υπάρχουν επικεφαλίδες για τα χαρακτηριστικά μας, τα οποία θα ονοματίσουμε χειροκίνητα συμβουλευόμενοι την περιγραφή των δεδομένων μας. Επίσης, δεν υπάρχει αρίθμηση για τα δείγματά μας."
   ]
  },
  {
   "cell_type": "code",
   "execution_count": 1,
   "metadata": {},
   "outputs": [
    {
     "data": {
      "text/html": [
       "<div>\n",
       "<style scoped>\n",
       "    .dataframe tbody tr th:only-of-type {\n",
       "        vertical-align: middle;\n",
       "    }\n",
       "\n",
       "    .dataframe tbody tr th {\n",
       "        vertical-align: top;\n",
       "    }\n",
       "\n",
       "    .dataframe thead th {\n",
       "        text-align: right;\n",
       "    }\n",
       "</style>\n",
       "<table border=\"1\" class=\"dataframe\">\n",
       "  <thead>\n",
       "    <tr style=\"text-align: right;\">\n",
       "      <th></th>\n",
       "      <th>fLength</th>\n",
       "      <th>fWidth</th>\n",
       "      <th>fSize</th>\n",
       "      <th>fConc</th>\n",
       "      <th>fConc1</th>\n",
       "      <th>fAsym</th>\n",
       "      <th>fM3Long</th>\n",
       "      <th>fM3Trans</th>\n",
       "      <th>fAlpha</th>\n",
       "      <th>fDist</th>\n",
       "      <th>label</th>\n",
       "    </tr>\n",
       "  </thead>\n",
       "  <tbody>\n",
       "    <tr>\n",
       "      <th>0</th>\n",
       "      <td>28.7967</td>\n",
       "      <td>16.0021</td>\n",
       "      <td>2.6449</td>\n",
       "      <td>0.3918</td>\n",
       "      <td>0.1982</td>\n",
       "      <td>27.7004</td>\n",
       "      <td>22.0110</td>\n",
       "      <td>-8.2027</td>\n",
       "      <td>40.0920</td>\n",
       "      <td>81.8828</td>\n",
       "      <td>g</td>\n",
       "    </tr>\n",
       "    <tr>\n",
       "      <th>1</th>\n",
       "      <td>31.6036</td>\n",
       "      <td>11.7235</td>\n",
       "      <td>2.5185</td>\n",
       "      <td>0.5303</td>\n",
       "      <td>0.3773</td>\n",
       "      <td>26.2722</td>\n",
       "      <td>23.8238</td>\n",
       "      <td>-9.9574</td>\n",
       "      <td>6.3609</td>\n",
       "      <td>205.2610</td>\n",
       "      <td>g</td>\n",
       "    </tr>\n",
       "    <tr>\n",
       "      <th>2</th>\n",
       "      <td>162.0520</td>\n",
       "      <td>136.0310</td>\n",
       "      <td>4.0612</td>\n",
       "      <td>0.0374</td>\n",
       "      <td>0.0187</td>\n",
       "      <td>116.7410</td>\n",
       "      <td>-64.8580</td>\n",
       "      <td>-45.2160</td>\n",
       "      <td>76.9600</td>\n",
       "      <td>256.7880</td>\n",
       "      <td>g</td>\n",
       "    </tr>\n",
       "    <tr>\n",
       "      <th>3</th>\n",
       "      <td>23.8172</td>\n",
       "      <td>9.5728</td>\n",
       "      <td>2.3385</td>\n",
       "      <td>0.6147</td>\n",
       "      <td>0.3922</td>\n",
       "      <td>27.2107</td>\n",
       "      <td>-6.4633</td>\n",
       "      <td>-7.1513</td>\n",
       "      <td>10.4490</td>\n",
       "      <td>116.7370</td>\n",
       "      <td>g</td>\n",
       "    </tr>\n",
       "    <tr>\n",
       "      <th>4</th>\n",
       "      <td>75.1362</td>\n",
       "      <td>30.9205</td>\n",
       "      <td>3.1611</td>\n",
       "      <td>0.3168</td>\n",
       "      <td>0.1832</td>\n",
       "      <td>-5.5277</td>\n",
       "      <td>28.5525</td>\n",
       "      <td>21.8393</td>\n",
       "      <td>4.6480</td>\n",
       "      <td>356.4620</td>\n",
       "      <td>g</td>\n",
       "    </tr>\n",
       "    <tr>\n",
       "      <th>5</th>\n",
       "      <td>51.6240</td>\n",
       "      <td>21.1502</td>\n",
       "      <td>2.9085</td>\n",
       "      <td>0.2420</td>\n",
       "      <td>0.1340</td>\n",
       "      <td>50.8761</td>\n",
       "      <td>43.1887</td>\n",
       "      <td>9.8145</td>\n",
       "      <td>3.6130</td>\n",
       "      <td>238.0980</td>\n",
       "      <td>g</td>\n",
       "    </tr>\n",
       "    <tr>\n",
       "      <th>6</th>\n",
       "      <td>48.2468</td>\n",
       "      <td>17.3565</td>\n",
       "      <td>3.0332</td>\n",
       "      <td>0.2529</td>\n",
       "      <td>0.1515</td>\n",
       "      <td>8.5730</td>\n",
       "      <td>38.0957</td>\n",
       "      <td>10.5868</td>\n",
       "      <td>4.7920</td>\n",
       "      <td>219.0870</td>\n",
       "      <td>g</td>\n",
       "    </tr>\n",
       "    <tr>\n",
       "      <th>7</th>\n",
       "      <td>26.7897</td>\n",
       "      <td>13.7595</td>\n",
       "      <td>2.5521</td>\n",
       "      <td>0.4236</td>\n",
       "      <td>0.2174</td>\n",
       "      <td>29.6339</td>\n",
       "      <td>20.4560</td>\n",
       "      <td>-2.9292</td>\n",
       "      <td>0.8120</td>\n",
       "      <td>237.1340</td>\n",
       "      <td>g</td>\n",
       "    </tr>\n",
       "    <tr>\n",
       "      <th>8</th>\n",
       "      <td>96.2327</td>\n",
       "      <td>46.5165</td>\n",
       "      <td>4.1540</td>\n",
       "      <td>0.0779</td>\n",
       "      <td>0.0390</td>\n",
       "      <td>110.3550</td>\n",
       "      <td>85.0486</td>\n",
       "      <td>43.1844</td>\n",
       "      <td>4.8540</td>\n",
       "      <td>248.2260</td>\n",
       "      <td>g</td>\n",
       "    </tr>\n",
       "    <tr>\n",
       "      <th>9</th>\n",
       "      <td>46.7619</td>\n",
       "      <td>15.1993</td>\n",
       "      <td>2.5786</td>\n",
       "      <td>0.3377</td>\n",
       "      <td>0.1913</td>\n",
       "      <td>24.7548</td>\n",
       "      <td>43.8771</td>\n",
       "      <td>-6.6812</td>\n",
       "      <td>7.8750</td>\n",
       "      <td>102.2510</td>\n",
       "      <td>g</td>\n",
       "    </tr>\n",
       "  </tbody>\n",
       "</table>\n",
       "</div>"
      ],
      "text/plain": [
       "    fLength    fWidth   fSize   fConc  fConc1     fAsym  fM3Long  fM3Trans  \\\n",
       "0   28.7967   16.0021  2.6449  0.3918  0.1982   27.7004  22.0110   -8.2027   \n",
       "1   31.6036   11.7235  2.5185  0.5303  0.3773   26.2722  23.8238   -9.9574   \n",
       "2  162.0520  136.0310  4.0612  0.0374  0.0187  116.7410 -64.8580  -45.2160   \n",
       "3   23.8172    9.5728  2.3385  0.6147  0.3922   27.2107  -6.4633   -7.1513   \n",
       "4   75.1362   30.9205  3.1611  0.3168  0.1832   -5.5277  28.5525   21.8393   \n",
       "5   51.6240   21.1502  2.9085  0.2420  0.1340   50.8761  43.1887    9.8145   \n",
       "6   48.2468   17.3565  3.0332  0.2529  0.1515    8.5730  38.0957   10.5868   \n",
       "7   26.7897   13.7595  2.5521  0.4236  0.2174   29.6339  20.4560   -2.9292   \n",
       "8   96.2327   46.5165  4.1540  0.0779  0.0390  110.3550  85.0486   43.1844   \n",
       "9   46.7619   15.1993  2.5786  0.3377  0.1913   24.7548  43.8771   -6.6812   \n",
       "\n",
       "    fAlpha     fDist label  \n",
       "0  40.0920   81.8828     g  \n",
       "1   6.3609  205.2610     g  \n",
       "2  76.9600  256.7880     g  \n",
       "3  10.4490  116.7370     g  \n",
       "4   4.6480  356.4620     g  \n",
       "5   3.6130  238.0980     g  \n",
       "6   4.7920  219.0870     g  \n",
       "7   0.8120  237.1340     g  \n",
       "8   4.8540  248.2260     g  \n",
       "9   7.8750  102.2510     g  "
      ]
     },
     "execution_count": 1,
     "metadata": {},
     "output_type": "execute_result"
    }
   ],
   "source": [
    "import pandas as pd\n",
    "\n",
    "column_names = ['fLength', 'fWidth', 'fSize', 'fConc', 'fConc1', 'fAsym', 'fM3Long', 'fM3Trans', 'fAlpha', 'fDist', 'label']\n",
    "\n",
    "pulses = pd.read_csv('data/magic04.data', names=column_names, header=None, sep=',')\n",
    "pulses.head(10)"
   ]
  },
  {
   "cell_type": "markdown",
   "metadata": {},
   "source": [
    "Στη συνέχεια θα εξάγουμε χρήσιμες πληροφορίες για τα δεδομένα μας:"
   ]
  },
  {
   "cell_type": "code",
   "execution_count": 2,
   "metadata": {},
   "outputs": [
    {
     "name": "stdout",
     "output_type": "stream",
     "text": [
      "<class 'pandas.core.frame.DataFrame'>\n",
      "RangeIndex: 19020 entries, 0 to 19019\n",
      "Data columns (total 11 columns):\n",
      "fLength     19020 non-null float64\n",
      "fWidth      19020 non-null float64\n",
      "fSize       19020 non-null float64\n",
      "fConc       19020 non-null float64\n",
      "fConc1      19020 non-null float64\n",
      "fAsym       19020 non-null float64\n",
      "fM3Long     19020 non-null float64\n",
      "fM3Trans    19020 non-null float64\n",
      "fAlpha      19020 non-null float64\n",
      "fDist       19020 non-null float64\n",
      "label       19020 non-null object\n",
      "dtypes: float64(10), object(1)\n",
      "memory usage: 1.6+ MB\n"
     ]
    }
   ],
   "source": [
    "pulses.info()"
   ]
  },
  {
   "cell_type": "code",
   "execution_count": 3,
   "metadata": {},
   "outputs": [
    {
     "data": {
      "text/html": [
       "<div>\n",
       "<style scoped>\n",
       "    .dataframe tbody tr th:only-of-type {\n",
       "        vertical-align: middle;\n",
       "    }\n",
       "\n",
       "    .dataframe tbody tr th {\n",
       "        vertical-align: top;\n",
       "    }\n",
       "\n",
       "    .dataframe thead th {\n",
       "        text-align: right;\n",
       "    }\n",
       "</style>\n",
       "<table border=\"1\" class=\"dataframe\">\n",
       "  <thead>\n",
       "    <tr style=\"text-align: right;\">\n",
       "      <th></th>\n",
       "      <th>fLength</th>\n",
       "      <th>fWidth</th>\n",
       "      <th>fSize</th>\n",
       "      <th>fConc</th>\n",
       "      <th>fConc1</th>\n",
       "      <th>fAsym</th>\n",
       "      <th>fM3Long</th>\n",
       "      <th>fM3Trans</th>\n",
       "      <th>fAlpha</th>\n",
       "      <th>fDist</th>\n",
       "    </tr>\n",
       "  </thead>\n",
       "  <tbody>\n",
       "    <tr>\n",
       "      <th>count</th>\n",
       "      <td>19020.000000</td>\n",
       "      <td>19020.000000</td>\n",
       "      <td>19020.000000</td>\n",
       "      <td>19020.000000</td>\n",
       "      <td>19020.000000</td>\n",
       "      <td>19020.000000</td>\n",
       "      <td>19020.000000</td>\n",
       "      <td>19020.000000</td>\n",
       "      <td>19020.000000</td>\n",
       "      <td>19020.000000</td>\n",
       "    </tr>\n",
       "    <tr>\n",
       "      <th>mean</th>\n",
       "      <td>53.250154</td>\n",
       "      <td>22.180966</td>\n",
       "      <td>2.825017</td>\n",
       "      <td>0.380327</td>\n",
       "      <td>0.214657</td>\n",
       "      <td>-4.331745</td>\n",
       "      <td>10.545545</td>\n",
       "      <td>0.249726</td>\n",
       "      <td>27.645707</td>\n",
       "      <td>193.818026</td>\n",
       "    </tr>\n",
       "    <tr>\n",
       "      <th>std</th>\n",
       "      <td>42.364855</td>\n",
       "      <td>18.346056</td>\n",
       "      <td>0.472599</td>\n",
       "      <td>0.182813</td>\n",
       "      <td>0.110511</td>\n",
       "      <td>59.206062</td>\n",
       "      <td>51.000118</td>\n",
       "      <td>20.827439</td>\n",
       "      <td>26.103621</td>\n",
       "      <td>74.731787</td>\n",
       "    </tr>\n",
       "    <tr>\n",
       "      <th>min</th>\n",
       "      <td>4.283500</td>\n",
       "      <td>0.000000</td>\n",
       "      <td>1.941300</td>\n",
       "      <td>0.013100</td>\n",
       "      <td>0.000300</td>\n",
       "      <td>-457.916100</td>\n",
       "      <td>-331.780000</td>\n",
       "      <td>-205.894700</td>\n",
       "      <td>0.000000</td>\n",
       "      <td>1.282600</td>\n",
       "    </tr>\n",
       "    <tr>\n",
       "      <th>25%</th>\n",
       "      <td>24.336000</td>\n",
       "      <td>11.863800</td>\n",
       "      <td>2.477100</td>\n",
       "      <td>0.235800</td>\n",
       "      <td>0.128475</td>\n",
       "      <td>-20.586550</td>\n",
       "      <td>-12.842775</td>\n",
       "      <td>-10.849375</td>\n",
       "      <td>5.547925</td>\n",
       "      <td>142.492250</td>\n",
       "    </tr>\n",
       "    <tr>\n",
       "      <th>50%</th>\n",
       "      <td>37.147700</td>\n",
       "      <td>17.139900</td>\n",
       "      <td>2.739600</td>\n",
       "      <td>0.354150</td>\n",
       "      <td>0.196500</td>\n",
       "      <td>4.013050</td>\n",
       "      <td>15.314100</td>\n",
       "      <td>0.666200</td>\n",
       "      <td>17.679500</td>\n",
       "      <td>191.851450</td>\n",
       "    </tr>\n",
       "    <tr>\n",
       "      <th>75%</th>\n",
       "      <td>70.122175</td>\n",
       "      <td>24.739475</td>\n",
       "      <td>3.101600</td>\n",
       "      <td>0.503700</td>\n",
       "      <td>0.285225</td>\n",
       "      <td>24.063700</td>\n",
       "      <td>35.837800</td>\n",
       "      <td>10.946425</td>\n",
       "      <td>45.883550</td>\n",
       "      <td>240.563825</td>\n",
       "    </tr>\n",
       "    <tr>\n",
       "      <th>max</th>\n",
       "      <td>334.177000</td>\n",
       "      <td>256.382000</td>\n",
       "      <td>5.323300</td>\n",
       "      <td>0.893000</td>\n",
       "      <td>0.675200</td>\n",
       "      <td>575.240700</td>\n",
       "      <td>238.321000</td>\n",
       "      <td>179.851000</td>\n",
       "      <td>90.000000</td>\n",
       "      <td>495.561000</td>\n",
       "    </tr>\n",
       "  </tbody>\n",
       "</table>\n",
       "</div>"
      ],
      "text/plain": [
       "            fLength        fWidth         fSize         fConc        fConc1  \\\n",
       "count  19020.000000  19020.000000  19020.000000  19020.000000  19020.000000   \n",
       "mean      53.250154     22.180966      2.825017      0.380327      0.214657   \n",
       "std       42.364855     18.346056      0.472599      0.182813      0.110511   \n",
       "min        4.283500      0.000000      1.941300      0.013100      0.000300   \n",
       "25%       24.336000     11.863800      2.477100      0.235800      0.128475   \n",
       "50%       37.147700     17.139900      2.739600      0.354150      0.196500   \n",
       "75%       70.122175     24.739475      3.101600      0.503700      0.285225   \n",
       "max      334.177000    256.382000      5.323300      0.893000      0.675200   \n",
       "\n",
       "              fAsym       fM3Long      fM3Trans        fAlpha         fDist  \n",
       "count  19020.000000  19020.000000  19020.000000  19020.000000  19020.000000  \n",
       "mean      -4.331745     10.545545      0.249726     27.645707    193.818026  \n",
       "std       59.206062     51.000118     20.827439     26.103621     74.731787  \n",
       "min     -457.916100   -331.780000   -205.894700      0.000000      1.282600  \n",
       "25%      -20.586550    -12.842775    -10.849375      5.547925    142.492250  \n",
       "50%        4.013050     15.314100      0.666200     17.679500    191.851450  \n",
       "75%       24.063700     35.837800     10.946425     45.883550    240.563825  \n",
       "max      575.240700    238.321000    179.851000     90.000000    495.561000  "
      ]
     },
     "execution_count": 3,
     "metadata": {},
     "output_type": "execute_result"
    }
   ],
   "source": [
    "pulses.describe()"
   ]
  },
  {
   "cell_type": "code",
   "execution_count": 4,
   "metadata": {},
   "outputs": [
    {
     "data": {
      "text/plain": [
       "(19020, 11)"
      ]
     },
     "execution_count": 4,
     "metadata": {},
     "output_type": "execute_result"
    }
   ],
   "source": [
    "pulses.shape"
   ]
  },
  {
   "cell_type": "markdown",
   "metadata": {},
   "source": [
    "Παρατηρούμε ότι έχουμε στη διάθεσή μας 19020 δείγματα, κάθε ένα από τα οποία προσδιορίζεται από 10 χαρακτηριστικά. Τα χαρακτηριστικά αυτά βρίσκονται όλα σε αριθμητική μορφή, ενώ δεν έχουμε απουσιάζουσες τιμές για κανένα από αυτά. Η τελευταία στήλη των δεδομένων μας αντιστοιχεί στην ετικέτα της κατηγορίας, στην οποία ανήκει κάθε αντίστοιχο δείγμα. Σημειώνουμε ότι οι ετικέτες μας είναι σε μορφή κειμένου, γεγονός το οποίο δε χρήζει απαραίτητη την αριθμητική τους κωδικοποίηση δεδομένου ότι είναι διαφορετικές μεταξύ τους."
   ]
  },
  {
   "cell_type": "code",
   "execution_count": 5,
   "metadata": {},
   "outputs": [
    {
     "data": {
      "text/plain": [
       "g    64.837014\n",
       "h    35.162986\n",
       "Name: label, dtype: float64"
      ]
     },
     "execution_count": 5,
     "metadata": {},
     "output_type": "execute_result"
    }
   ],
   "source": [
    "pulses['label'].value_counts(normalize=True) * 100"
   ]
  },
  {
   "cell_type": "markdown",
   "metadata": {},
   "source": [
    "Οι κατηγορίες των παλμών είναι 2 και φέρουν τις ετικέτες *g(gamma)* και *h(hadron)*. Παρατηρούμε επίσης ότι τα 2/3 περίπου των δεδομένων μας αντιστοιχούν σε δείγματα της κατηγορίας g και αντίστοιχα το 1/3 αυτών στην κατηγορία h, καθιστώντας το dataset μας μη-ισορροπημένο. Το γεγονός αυτό θα πρέπει να το λάβουμε υπόψην, προτού προχωρήσουμε στην εκπαίδευση των ταξινομητών μας."
   ]
  },
  {
   "cell_type": "markdown",
   "metadata": {},
   "source": [
    "---\n",
    "\n",
    "## Διαχωρισμός Δεδομένων Εκπαίδευσης & Ελέγχου"
   ]
  },
  {
   "cell_type": "markdown",
   "metadata": {},
   "source": [
    "Αρχικά θα διαχωρίσουμε τα δεδομένα σε εκπαίδευσης και ελέγχου χρησιμοποιώντας τη συνάρτηση *ShuffleSplit*. Θα ακολουθήσουμε ποσοστό δεδομένων ελέγχου 30%:"
   ]
  },
  {
   "cell_type": "code",
   "execution_count": 11,
   "metadata": {},
   "outputs": [
    {
     "data": {
      "text/plain": [
       "g    64.954184\n",
       "h    35.045816\n",
       "Name: label, dtype: float64"
      ]
     },
     "execution_count": 11,
     "metadata": {},
     "output_type": "execute_result"
    }
   ],
   "source": [
    "import numpy as np\n",
    "from sklearn.model_selection import ShuffleSplit\n",
    "\n",
    "split = ShuffleSplit(n_splits = 1, test_size = 0.3)\n",
    "for train_index, test_index in split.split(pulses, pulses['label']):\n",
    "    train_set = pulses.reindex(train_index)\n",
    "    test_set = pulses.reindex(test_index)\n",
    "    \n",
    "train_set['label'].value_counts() / len(train_set) * 100"
   ]
  },
  {
   "cell_type": "markdown",
   "metadata": {},
   "source": [
    "Παρατηρούμε ότι η ανισορροπία του dataset αποτυπώνεται και στα διαχωρισμένα σύνολα που δημιουργήσαμε. Δεδομένου ότι έχουμε ένα πλήθος 19020 δειγμάτων θα ακολουθήσουμε την τεχνική του *Undersampling* ώστε να μειώσουμε το χρόνο εκπαίδευσης των μοντέλων ταξινομητών. Η τεχνική αυτή θα εφαρμοστεί αποκλειστικά στα δεδομένα εκπαίδευσης. Σημειώνουμε ότι προφανώς ελλοχεύει ο κίνδυνος ξεσκαρταρίσματος χρήσιμης πληροφορίας.\n",
    "\n",
    "Προτού προχωρήσουμε θα διαχωρίσουμε τα δεδομένα μας από την ετικέτα της κατηγορίας στην οποία ανήκουν:"
   ]
  },
  {
   "cell_type": "code",
   "execution_count": 12,
   "metadata": {},
   "outputs": [],
   "source": [
    "# Training Set\n",
    "pulses_train = train_set.drop('label', axis=1)\n",
    "pulses_train_labels = train_set['label'].copy()\n",
    "\n",
    "# Test Set\n",
    "pulses_test = test_set.drop('label', axis=1)\n",
    "pulses_test_labels = test_set['label'].copy()"
   ]
  },
  {
   "cell_type": "code",
   "execution_count": 13,
   "metadata": {},
   "outputs": [
    {
     "data": {
      "text/plain": [
       "(13314, 10)"
      ]
     },
     "execution_count": 13,
     "metadata": {},
     "output_type": "execute_result"
    }
   ],
   "source": [
    "pulses_train.shape"
   ]
  },
  {
   "cell_type": "markdown",
   "metadata": {},
   "source": [
    "Συνεχίζουμε με τον *RandomUnderSampler*:"
   ]
  },
  {
   "cell_type": "code",
   "execution_count": 16,
   "metadata": {},
   "outputs": [],
   "source": [
    "from collections import Counter\n",
    "from imblearn.under_sampling import RandomUnderSampler\n",
    "\n",
    "rus = RandomUnderSampler()\n",
    "pulses_train, pulses_train_labels = rus.fit_resample(pulses_train, pulses_train_labels)"
   ]
  },
  {
   "cell_type": "code",
   "execution_count": 17,
   "metadata": {},
   "outputs": [
    {
     "data": {
      "text/plain": [
       "(9332, 10)"
      ]
     },
     "execution_count": 17,
     "metadata": {},
     "output_type": "execute_result"
    }
   ],
   "source": [
    "pulses_train.shape"
   ]
  },
  {
   "cell_type": "code",
   "execution_count": 18,
   "metadata": {},
   "outputs": [
    {
     "data": {
      "text/plain": [
       "Counter({'g': 4666, 'h': 4666})"
      ]
     },
     "execution_count": 18,
     "metadata": {},
     "output_type": "execute_result"
    }
   ],
   "source": [
    "Counter(pulses_train_labels)"
   ]
  },
  {
   "cell_type": "markdown",
   "metadata": {},
   "source": [
    "Με την παραπάνω διαδικασία χάσαμε περίπου 4000 δείγματα, αλλά εξισορροπήσαμε τα δεδομένα εκπαίδευσής ως προς τις δύο κατηγορίες."
   ]
  },
  {
   "cell_type": "markdown",
   "metadata": {},
   "source": [
    "---\n",
    "\n",
    "<a id='Baseline'></a>\n",
    "\n",
    "## Baseline Classification"
   ]
  },
  {
   "cell_type": "markdown",
   "metadata": {},
   "source": [
    "#### DummyClassifier"
   ]
  },
  {
   "cell_type": "markdown",
   "metadata": {},
   "source": [
    "Αρχικά θα εκπαιδεύσουμε έναν _DummyClassifier_ χωρίς να μεταβάλλουμε τις παραμέτρους αρχικοποίησής του:"
   ]
  },
  {
   "cell_type": "code",
   "execution_count": 51,
   "metadata": {},
   "outputs": [],
   "source": [
    "from sklearn.dummy import DummyClassifier\n",
    "from sklearn.metrics import accuracy_score\n",
    "\n",
    "dc_default = DummyClassifier() # default strategy: stratified\n",
    "dc_default.fit(pulses_train, pulses_train_labels) # fitting on train_set\n",
    "\n",
    "pulses_predictions = dc_default.predict(pulses_test) # predicting on test_set\n",
    "\n",
    "target_names = dc_default.classes_.tolist() # fetch class names\n",
    "\n",
    "dummy_default = accuracy_score(pulses_test_labels, pulses_predictions) * 100"
   ]
  },
  {
   "cell_type": "code",
   "execution_count": 52,
   "metadata": {},
   "outputs": [
    {
     "data": {
      "text/plain": [
       "49.57939011566772"
      ]
     },
     "execution_count": 52,
     "metadata": {},
     "output_type": "execute_result"
    }
   ],
   "source": [
    "dummy_default"
   ]
  },
  {
   "cell_type": "markdown",
   "metadata": {},
   "source": [
    "Η ακρίβεια ενός προεπιλεγμένου *DummyClassifier* ανέρχεται σε ποσοστό περίπου 50%.\n",
    "\n",
    "Συνεχίζοντας, θα πάρουμε περισσότερες πληροφόριες για τη διαδικασία ταξινόμησης, υπολογίζοντας _Confusion Table_ καθώς και τις τιμές _Precision, Recall_ και _F1-Score_ :"
   ]
  },
  {
   "cell_type": "code",
   "execution_count": 53,
   "metadata": {},
   "outputs": [
    {
     "data": {
      "image/png": "[encoded data removed]",
      "text/plain": [
       "<Figure size 576x432 with 2 Axes>"
      ]
     },
     "metadata": {
      "needs_background": "light"
     },
     "output_type": "display_data"
    }
   ],
   "source": [
    "from matplotlib import cm\n",
    "import matplotlib.pyplot as plt\n",
    "from sklearn.metrics import confusion_matrix\n",
    "\n",
    "matrix = confusion_matrix(pulses_test_labels, pulses_predictions)\n",
    "\n",
    "fig = plt.figure(figsize=(8,6))\n",
    "ax = fig.add_subplot(111)\n",
    "cax = ax.matshow(matrix, cmap=cm.get_cmap('PuBu'))\n",
    "fig.colorbar(cax)\n",
    "\n",
    "ax.set_xticklabels([''] + target_names)\n",
    "ax.set_yticklabels([''] + target_names)\n",
    "\n",
    "plt.show()"
   ]
  },
  {
   "cell_type": "code",
   "execution_count": 54,
   "metadata": {},
   "outputs": [
    {
     "name": "stdout",
     "output_type": "stream",
     "text": [
      "F1-Micro Average: 49.5794\n",
      "F1-Macro Average: 48.3423\n",
      "\n",
      "              precision    recall  f1-score   support\n",
      "\n",
      "           g       0.64      0.50      0.56      3684\n",
      "           h       0.35      0.48      0.40      2022\n",
      "\n",
      "    accuracy                           0.50      5706\n",
      "   macro avg       0.49      0.49      0.48      5706\n",
      "weighted avg       0.54      0.50      0.51      5706\n",
      "\n"
     ]
    }
   ],
   "source": [
    "from sklearn.metrics import f1_score\n",
    "from sklearn.metrics import classification_report\n",
    "from sklearn.metrics import precision_recall_fscore_support\n",
    "\n",
    "dc_f1_micro = f1_score(pulses_test_labels, pulses_predictions, average='micro')*100\n",
    "dc_f1_macro = f1_score(pulses_test_labels, pulses_predictions, average='macro')*100\n",
    "\n",
    "print(\"F1-Micro Average: \" + str(round(dc_f1_micro, 4)))\n",
    "print(\"F1-Macro Average: \" + str(round(dc_f1_macro, 4)) + \"\\n\")\n",
    "\n",
    "print(classification_report(pulses_test_labels, pulses_predictions))"
   ]
  },
  {
   "cell_type": "markdown",
   "metadata": {},
   "source": [
    "Μελετώντας τον πίνακα σύγχυσης βλέπουμε ότι ο ταξινομήτης μας ανταποκρίνεται καλύτερα στην ταξινόμηση των δειγμάτων κατηγορίας g, καθώς οι TP τιμές για την κατηγορία h έχουν μικρές τιμές. Σημειώνουμε επίσης ότι η κατηγορία g χαρακτηρίζεται και από υψηλές τιμές FP, δηλαδή πολλά δείγματα ταξινομήθηκαν λάθος στη δεδομένη κατηγορία.\n",
    "\n",
    "Παρατηρούμε ότι οι τιμές των *F1-Micro* και *F1-Macro* έχουν μικρή αριθμητική διαφορά μεταξύ τους. H *F1-Macro* είναι λίγο μικρότερη από εκείνη της *F1-Micro*, επειδή επηρεάζεται περισσότερο από τη μικρή απόδοση σε ότι αφορά την ακρίβεια και την ανάκλιση της κατηγορίας h, καθώς και από το μικρότερο πλήθος δειγμάτων της.\n",
    "\n",
    "Σημειώνουμε επίσης ότι η κατηγορία g έχει τις υψηλότερες τιμές ακρίβειας και ανάκλισης με τον ταξινομητή να είναι σωστός στο 64% των περιπτώσεων όταν εκτιμά πως κάποιο δείγμα ανήκει στη συγκεκριμένη κατηγορία. Επίσης, από το σύνολο των δειγμάτων g, μπορεί να αγνωρίσει τα μισά από αυτά. Αν και η κατηγορία h χαρακτηρίζεται από χαμηλότερες αποδόσεις, αξίζει να παρατηρήσουμε ότι κατά την ταξινόμηση εξετάζουμε και λιγότερα δείγματα αυτής."
   ]
  },
  {
   "cell_type": "markdown",
   "metadata": {},
   "source": [
    "#### KNeighborsClassifier"
   ]
  },
  {
   "cell_type": "markdown",
   "metadata": {},
   "source": [
    "Συνεχίζουμε με την εκπαίδευση ενός προεπιλεγμένου *KNeighbors* ταξινομητή."
   ]
  },
  {
   "cell_type": "code",
   "execution_count": 55,
   "metadata": {},
   "outputs": [],
   "source": [
    "from sklearn.neighbors import KNeighborsClassifier\n",
    "\n",
    "knn = KNeighborsClassifier() # default n: 5\n",
    "knn.fit(pulses_train, pulses_train_labels) # fitting on train_set\n",
    "\n",
    "pulses_predictions = knn.predict(pulses_test) # predicting on test_set\n",
    "\n",
    "target_names = knn.classes_.tolist() # fetch class names\n",
    "\n",
    "knn_default = accuracy_score(pulses_test_labels, pulses_predictions) * 100"
   ]
  },
  {
   "cell_type": "code",
   "execution_count": 56,
   "metadata": {},
   "outputs": [
    {
     "data": {
      "text/plain": [
       "78.93445495969156"
      ]
     },
     "execution_count": 56,
     "metadata": {},
     "output_type": "execute_result"
    }
   ],
   "source": [
    "knn_default"
   ]
  },
  {
   "cell_type": "markdown",
   "metadata": {},
   "source": [
    "Η ακρίβεια σε αυτήν την περίπτωση είναι αισθητά υψηλότερη από προηγουμένως με ποσοστό ακρίβειας 79% περίπου. Ας εξετάσουμε τις ανάλογες μετρικές απόδοσης:"
   ]
  },
  {
   "cell_type": "code",
   "execution_count": 57,
   "metadata": {},
   "outputs": [
    {
     "data": {
      "image/png": "[encoded data removed]",
      "text/plain": [
       "<Figure size 576x432 with 2 Axes>"
      ]
     },
     "metadata": {
      "needs_background": "light"
     },
     "output_type": "display_data"
    }
   ],
   "source": [
    "matrix = confusion_matrix(pulses_test_labels, pulses_predictions)\n",
    "\n",
    "fig = plt.figure(figsize=(8,6))\n",
    "ax = fig.add_subplot(111)\n",
    "cax = ax.matshow(matrix, cmap=cm.get_cmap('PuBu'))\n",
    "fig.colorbar(cax)\n",
    "\n",
    "ax.set_xticklabels([''] + target_names)\n",
    "ax.set_yticklabels([''] + target_names)\n",
    "\n",
    "plt.show()"
   ]
  },
  {
   "cell_type": "code",
   "execution_count": 58,
   "metadata": {},
   "outputs": [
    {
     "name": "stdout",
     "output_type": "stream",
     "text": [
      "F1-Micro Average: 78.9345\n",
      "F1-Macro Average: 77.0021\n",
      "\n",
      "              precision    recall  f1-score   support\n",
      "\n",
      "           g       0.84      0.84      0.84      3684\n",
      "           h       0.70      0.70      0.70      2022\n",
      "\n",
      "    accuracy                           0.79      5706\n",
      "   macro avg       0.77      0.77      0.77      5706\n",
      "weighted avg       0.79      0.79      0.79      5706\n",
      "\n"
     ]
    }
   ],
   "source": [
    "kn_f1_micro = f1_score(pulses_test_labels, pulses_predictions, average='micro')*100\n",
    "kn_f1_macro = f1_score(pulses_test_labels, pulses_predictions, average='macro')*100\n",
    "\n",
    "print(\"F1-Micro Average: \" + str(round(kn_f1_micro, 4)))\n",
    "print(\"F1-Macro Average: \" + str(round(kn_f1_macro, 4)) + \"\\n\")\n",
    "\n",
    "print(classification_report(pulses_test_labels, pulses_predictions))"
   ]
  },
  {
   "cell_type": "markdown",
   "metadata": {},
   "source": [
    "Ο πίνακας σύγχυσης για αυτόν τον ταξινομητή έχει πιο έντονες τιμές στις διαγωνίους του, στοιχείο που υποδεικνύει μία σχετικά καλύτερη απόδοση από προηγουμένως. Αξίζει να παρατηρήσουμε ότι λίγοτερα δείγματα της κατηγορίας h ταξινομούνται σωστά.\n",
    "\n",
    "Και σε αυτή την περίπτωση παρατηρούμε μία μικρή διαφορά μεταξύ *F1-Micro* και *F1-Macro*. Αυτό οφείλεται και πάλι στην κατηγορία h, η οποία χαρακτηρίζεται από λιγότερα δείγματα, ενώ παρουσιάζει αισθητά χαμηλότερες τιμές ακρίβειας και ανάκλισης σε σύγκριση με την κατηγορία g. Ως αποτέλεσμα το *F1-score* είναι χαμηλότερο από εκείνο της g και κατά συνέπεια επηρεάζει αρνητικά το *Macro-Averaging*.\n",
    "\n",
    "Όπως και στον προηγούμενο ταξινομητή παρατηρούμε ότι οι αποδόσεις για την κατηγορία g είναι οι υψηλότερες του μοντέλου. Αντίθετα ο ταξινομητής μας μπορεί να αναγνωρίσει το 70% των δειγμάτων κατηγορίας h, ενώ για κάθε αντίστοιχη εκτίμηση είναι σωστός στο 70% των περιπτώσεων."
   ]
  },
  {
   "cell_type": "markdown",
   "metadata": {},
   "source": [
    "#### GaussianNBClassifier"
   ]
  },
  {
   "cell_type": "markdown",
   "metadata": {},
   "source": [
    "Ο επόμενος ταξινομητής που θα εξετάσουμε είναι ο *GaussianNaiveBayes*, o οποίος σημειώνουμε δε χαρακτηρίζεται από υπερπαραμέτρους."
   ]
  },
  {
   "cell_type": "code",
   "execution_count": 59,
   "metadata": {},
   "outputs": [],
   "source": [
    "from sklearn.naive_bayes import GaussianNB\n",
    "\n",
    "gnb = GaussianNB()\n",
    "gnb.fit(pulses_train, pulses_train_labels) # fitting on train_set\n",
    "\n",
    "pulses_predictions = gnb.predict(pulses_test) # predicting on test_set\n",
    "\n",
    "target_names = gnb.classes_.tolist() # fetch class names\n",
    "\n",
    "gnb_default = accuracy_score(pulses_test_labels, pulses_predictions) * 100"
   ]
  },
  {
   "cell_type": "code",
   "execution_count": 60,
   "metadata": {},
   "outputs": [
    {
     "data": {
      "text/plain": [
       "72.18717139852787"
      ]
     },
     "execution_count": 60,
     "metadata": {},
     "output_type": "execute_result"
    }
   ],
   "source": [
    "gnb_default"
   ]
  },
  {
   "cell_type": "markdown",
   "metadata": {},
   "source": [
    "Η ακρίβεια για τον ταξινομητή μας ανέρχεται σε περίπου 72%."
   ]
  },
  {
   "cell_type": "code",
   "execution_count": 61,
   "metadata": {},
   "outputs": [
    {
     "data": {
      "image/png": "[encoded data removed]",
      "text/plain": [
       "<Figure size 576x432 with 2 Axes>"
      ]
     },
     "metadata": {
      "needs_background": "light"
     },
     "output_type": "display_data"
    }
   ],
   "source": [
    "matrix = confusion_matrix(pulses_test_labels, pulses_predictions)\n",
    "\n",
    "fig = plt.figure(figsize=(8,6))\n",
    "ax = fig.add_subplot(111)\n",
    "cax = ax.matshow(matrix, cmap=cm.get_cmap('PuBu'))\n",
    "fig.colorbar(cax)\n",
    "\n",
    "ax.set_xticklabels([''] + target_names)\n",
    "ax.set_yticklabels([''] + target_names)\n",
    "\n",
    "plt.show()"
   ]
  },
  {
   "cell_type": "code",
   "execution_count": 62,
   "metadata": {},
   "outputs": [
    {
     "name": "stdout",
     "output_type": "stream",
     "text": [
      "F1-Micro Average: 72.1872\n",
      "F1-Macro Average: 65.9445\n",
      "\n",
      "              precision    recall  f1-score   support\n",
      "\n",
      "           g       0.73      0.89      0.81      3684\n",
      "           h       0.68      0.41      0.51      2022\n",
      "\n",
      "    accuracy                           0.72      5706\n",
      "   macro avg       0.71      0.65      0.66      5706\n",
      "weighted avg       0.71      0.72      0.70      5706\n",
      "\n"
     ]
    }
   ],
   "source": [
    "gnb_f1_micro = f1_score(pulses_test_labels, pulses_predictions, average='micro')*100\n",
    "gnb_f1_macro = f1_score(pulses_test_labels, pulses_predictions, average='macro')*100\n",
    "\n",
    "print(\"F1-Micro Average: \" + str(round(gnb_f1_micro, 4)))\n",
    "print(\"F1-Macro Average: \" + str(round(gnb_f1_macro, 4)) + \"\\n\")\n",
    "\n",
    "print(classification_report(pulses_test_labels, pulses_predictions))"
   ]
  },
  {
   "cell_type": "markdown",
   "metadata": {},
   "source": [
    "Από τον πίνακα σύγχυσης σημειώνουμε ότι δείγματα g ταξινομούνται σωστά στην αντίστοιχη κατηγορία, ενώ έχουμε ένα μεγάλο πλήθος FN για την κατηγορία h, στοιχείο το οποίο αποτυπώνεται και στις αντίστοιχες μετρικές *F1*.\n",
    "\n",
    "Εδώ παρατηρούμε αισθητή διαφορά για τις τιμές των *F1-Micro* και *F1-Macro* των ταξινομητών μας. Πιο συγκεκριμένα το *F1-score* για την κατηγορία h είναι πολύ χαμηλότερο από εκείνο της g, λόγω της χαμηλής απόδοσης της κατηγορίας σε ότι αφορά την ανάκλισή της. Κατά συνέπεια το *F1-Macro-Averaging* επηρεάζεται πόλυ περισσότερο από τη χαμηλότερη αυτή τιμή και σε συνδυασμό με τα λιγότερα δείγματα της κατηγορίας, επιδρά αρνητικά στο συνολικό *F1-Macro Average*.\n",
    "\n",
    "Αξίζει να σημειώσουμε ότι ο συγκεκριμένος ταξινομητής είναι ικανός να αναγνωρίσει το 90% των δειγμάτων g και μόλις το 40% περίπου των h, με τις αντίστοιχες τιμές ακριβείας να είναι παραπλήσιες στο 73% και 68% περίπου, αντίστοιχα."
   ]
  },
  {
   "cell_type": "markdown",
   "metadata": {},
   "source": [
    "#### MLPClassifier"
   ]
  },
  {
   "cell_type": "markdown",
   "metadata": {},
   "source": [
    "Τέλος, θα εκπαιδεύσουμε έναν *MLPClassifier*."
   ]
  },
  {
   "cell_type": "code",
   "execution_count": 63,
   "metadata": {},
   "outputs": [],
   "source": [
    "from sklearn.neural_network import MLPClassifier\n",
    "\n",
    "mlp = MLPClassifier()\n",
    "mlp.fit(pulses_train, pulses_train_labels) # fitting on train_set\n",
    "\n",
    "pulses_predictions = mlp.predict(pulses_test) # predicting on test_set\n",
    "\n",
    "target_names = mlp.classes_.tolist() # fetch class names\n",
    "\n",
    "mlp_default = accuracy_score(pulses_test_labels, pulses_predictions) * 100"
   ]
  },
  {
   "cell_type": "code",
   "execution_count": 64,
   "metadata": {},
   "outputs": [
    {
     "data": {
      "text/plain": [
       "81.35296179460218"
      ]
     },
     "execution_count": 64,
     "metadata": {},
     "output_type": "execute_result"
    }
   ],
   "source": [
    "mlp_default"
   ]
  },
  {
   "cell_type": "markdown",
   "metadata": {},
   "source": [
    "Σημειώνουμε ακρίβεια της τάξης του 81% περίπου."
   ]
  },
  {
   "cell_type": "code",
   "execution_count": 65,
   "metadata": {},
   "outputs": [
    {
     "data": {
      "image/png": "[encoded data removed]",
      "text/plain": [
       "<Figure size 576x432 with 2 Axes>"
      ]
     },
     "metadata": {
      "needs_background": "light"
     },
     "output_type": "display_data"
    }
   ],
   "source": [
    "matrix = confusion_matrix(pulses_test_labels, pulses_predictions)\n",
    "\n",
    "fig = plt.figure(figsize=(8,6))\n",
    "ax = fig.add_subplot(111)\n",
    "cax = ax.matshow(matrix, cmap=cm.get_cmap('PuBu'))\n",
    "fig.colorbar(cax)\n",
    "\n",
    "ax.set_xticklabels([''] + target_names)\n",
    "ax.set_yticklabels([''] + target_names)\n",
    "\n",
    "plt.show()"
   ]
  },
  {
   "cell_type": "code",
   "execution_count": 66,
   "metadata": {},
   "outputs": [
    {
     "name": "stdout",
     "output_type": "stream",
     "text": [
      "F1-Micro Average: 81.353\n",
      "F1-Macro Average: 78.663\n",
      "\n",
      "              precision    recall  f1-score   support\n",
      "\n",
      "           g       0.82      0.90      0.86      3684\n",
      "           h       0.79      0.65      0.71      2022\n",
      "\n",
      "    accuracy                           0.81      5706\n",
      "   macro avg       0.81      0.78      0.79      5706\n",
      "weighted avg       0.81      0.81      0.81      5706\n",
      "\n"
     ]
    }
   ],
   "source": [
    "mlp_f1_micro = f1_score(pulses_test_labels, pulses_predictions, average='micro')*100\n",
    "mlp_f1_macro = f1_score(pulses_test_labels, pulses_predictions, average='macro')*100\n",
    "\n",
    "print(\"F1-Micro Average: \" + str(round(mlp_f1_micro, 4)))\n",
    "print(\"F1-Macro Average: \" + str(round(mlp_f1_macro, 4)) + \"\\n\")\n",
    "\n",
    "print(classification_report(pulses_test_labels, pulses_predictions))"
   ]
  },
  {
   "cell_type": "markdown",
   "metadata": {},
   "source": [
    "Ο πίνακας σύγχυσης για το συγκεκριμένο ταξινομητή δείχνει καλή ακρίβεια για τις δύο κατηγορίες, αρκετά παρόμοια με εκείνη του *KNeighborsClassifier*. Επίσης, παρατηρούμε ότι η κατηγορία h χαρακτηρίζεται από σχεδόν κοινό αριθμό TP και FN τιμών.\n",
    "\n",
    "Οι τιμές μας για *F1-Micro* και *F1-Macro* είναι για ακόμη μία φορά παραπλήσιες. Η χαμηλότερη τιμή του *F1-Macro-Score* αποδείδεται στη χαμηλότερες τιμές ακρίβειας και ανάκλισης της κατηγορίας g, αλλά και στο μικρότερο πλήθος δειγμάτων της, στοιχεία που επιβαρύνουν το *Macro-Averaging*.\n",
    "\n",
    "Τέλος, επιβεβαιώνουμε ότι η ταξινόμηση δειγμάτων g χαρακτηρίζεται και σε αυτόν τον ταξινομητή από υψηλότερες αποδόσεις με τιμές ακρίβειας και ανάκλισης 82% και 90%, αντίστοιχα."
   ]
  },
  {
   "cell_type": "markdown",
   "metadata": {},
   "source": [
    "Κλείνοντας το μέρος της προεπιλεγμένης εκπαίδευσης, παρουσιάζουμε παρακάτω ένα συνολικό διάγραμμα με την απόδοση του εκάστοτε ταξινομητή:"
   ]
  },
  {
   "cell_type": "code",
   "execution_count": 67,
   "metadata": {},
   "outputs": [
    {
     "data": {
      "image/png": "[encoded data removed]",
      "text/plain": [
       "<Figure size 864x720 with 1 Axes>"
      ]
     },
     "metadata": {
      "needs_background": "light"
     },
     "output_type": "display_data"
    }
   ],
   "source": [
    "# Grouped BarPlot source: https://bit.ly/36y14Sw\n",
    "\n",
    "labels = ['DummyClassifier', 'KneighborsClassifier', 'GaussianNBClassifier', 'MLPClassifier']\n",
    "f1_micro = [round(dc_f1_micro, 3), round(kn_f1_micro, 3), round(gnb_f1_micro, 3), round(mlp_f1_micro, 3)]\n",
    "f1_macro = [round(dc_f1_macro, 3), round(kn_f1_macro, 3), round(gnb_f1_macro, 3), round(mlp_f1_macro, 3)]\n",
    "\n",
    "width = 0.20\n",
    "x = np.arange(len(labels))\n",
    "\n",
    "fig, ax = plt.subplots(figsize=(12, 10))\n",
    "rect1 = ax.bar(x-width/2, f1_micro, width, label='F1-Micro Average', color=(0.2, 0.4, 0.6, 0.3))\n",
    "rect2 = ax.bar(x+width/2, f1_macro, width, label='F1-Macro Average', color=(0.2, 0.4, 0.6, 0.9))\n",
    "\n",
    "ax.legend()\n",
    "ax.set_xticks(x)\n",
    "ax.set_ylabel('Scores')\n",
    "ax.set_xticklabels(labels)\n",
    "ax.set_title('F1-Score Comparison')\n",
    "\n",
    "def autolabel(rects):\n",
    "    for rect in rects:\n",
    "        height = rect.get_height()\n",
    "        ax.annotate('{}'.format(height), xy=(rect.get_x()+rect.get_width()/2, height), xytext=(0, 3), \n",
    "                    textcoords=\"offset points\", ha='center', va='bottom')\n",
    "\n",
    "autolabel(rect1)\n",
    "autolabel(rect2)\n",
    "fig.tight_layout()\n",
    "\n",
    "plt.show()"
   ]
  },
  {
   "cell_type": "markdown",
   "metadata": {},
   "source": [
    "Αξίζει να παρατηρήσουμε ότι σε σύγκριση με την άσκηση του μικρού dataset, παρατηρούμε μία μικρή αλλά εμφανή διαφορά μεταξύ *F1-Micro* και *F1-Macro*. Όπως γνωρίζουμε το *Macro-Averaging* δίνει μεγαλύτερο βάρος στη λιγότερη συχνή κατηγορία, από την οποία επηρεάζεται και πρισσότερο. Δεδομένου, λοιπόν, ότι έχουμε λιγότερα δείγματα κατηγορίας h τα οποία δεν παρουσιάζουν καλές επίδόσεις στους παραπάνω ταξινομητής, η συμπεριφορά των διαγραμμάτων είναι αναμενόμενη."
   ]
  },
  {
   "cell_type": "markdown",
   "metadata": {},
   "source": [
    "---\n",
    "\n",
    "<a id='Βελτίωση'></a>\n",
    "\n",
    "## Βελτίωση Ταξινομητών"
   ]
  },
  {
   "cell_type": "markdown",
   "metadata": {},
   "source": [
    "Προκειμένου να βελτιώσουμε την απόδοση των ταξινομητών μας θα χρησιμοποιήσουμε τη συνάρτηση *GridSearchCV*, η οποία μέσω *Cross_Validation* θα ελέγξει πως ανταποκρίνονται τα μοντέλα μας για όλους τους δυνατούς συνδυασμούς υπερπαραμέτρων που θα της περάσουμε. Σχετικά με τον *GaussianNBClassifier*, ο οποίος δεν χαρακτηρίζεται από υπερπαραμέτρους, θα εξετάσουμε την απόδοσή του στο μετασχηματισμό των δεδομένων που θα ακολουθήσουμε."
   ]
  },
  {
   "cell_type": "code",
   "execution_count": 77,
   "metadata": {},
   "outputs": [],
   "source": [
    "from sklearn.model_selection import GridSearchCV"
   ]
  },
  {
   "cell_type": "markdown",
   "metadata": {},
   "source": [
    "Στη *GridSearchCV* θα χρησιμοποιήσουμε δύο μετρικές αξιολόγησης: *F1-Micro* και *F1-Macro*. Στο όρισμα *refit* θα περάσουμε τη μετρική *F1-Macro*, επειδή δεδομένου του μη-εξισορροπημένου συνόλου δεδομένων μας, εκείνη είναι η μετρική η οποία θέλουμε να βελτιστοποιήσουμε.\n",
    "\n",
    "Προς αυτοματοποίηση της διαδικασίας βελτιστοποίησης θα κάνουμε χρήση των *Pipelines*. Θα εξετάσουμε όλους τους δυνατούς συνδυασμούς από το ακόλουθο σχήμα:\n",
    "\n",
    "                Επιλογή Χαρακτηριστικών - Κανονικοποίηση - Εξαγωγή Χαρακτηριστικών - Ταξινομητής\n",
    "Για επιλογή χαρακτηριστικών θα χρησιμοποιήσουμε την τεχνική της *Recursive Feature Elimination (RFE) με εκτιμητή *LogisticRegression*, ενώ για εξαγωγή χαρακτηριστικών θα στραφούμε σε *Principal Component Analysis (PCA)* και *Independent Component Analysis (ICA)*."
   ]
  },
  {
   "cell_type": "code",
   "execution_count": 78,
   "metadata": {},
   "outputs": [],
   "source": [
    "from imblearn.pipeline import Pipeline\n",
    "from sklearn.feature_selection import RFE\n",
    "from sklearn.decomposition import FastICA, PCA\n",
    "from sklearn.preprocessing import StandardScaler\n",
    "from sklearn.linear_model import LogisticRegression"
   ]
  },
  {
   "cell_type": "code",
   "execution_count": 165,
   "metadata": {},
   "outputs": [],
   "source": [
    "# Scoring\n",
    "metrics = ['f1_macro', 'f1_micro']\n",
    "\n",
    "# Data transformers\n",
    "features = [i for i in range(1,10,2)] # Recursive Feature Elimination\n",
    "components = [i for i in range(1,10,2)] # Independent Component Analysis\n",
    "\n",
    "# KNeighborsClassifier\n",
    "neighbors = [i for i in range(1,30,2)]\n",
    "\n",
    "# MLPClassifier\n",
    "alpha = [0.0001, 0.05]\n",
    "solver = ['lbfgs', 'sgd']\n",
    "max_iter = [250, 500]\n",
    "layer_size = [(100,), (250,)]\n",
    "activation = ['tanh', 'relu']"
   ]
  },
  {
   "cell_type": "markdown",
   "metadata": {},
   "source": [
    "Επίσης, θα χρονομετρήσουμε τη διάρκεια της κάθε διαδικάσιας."
   ]
  },
  {
   "cell_type": "code",
   "execution_count": 117,
   "metadata": {},
   "outputs": [],
   "source": [
    "import time"
   ]
  },
  {
   "cell_type": "markdown",
   "metadata": {},
   "source": [
    "### 1. Standardization"
   ]
  },
  {
   "cell_type": "code",
   "execution_count": 97,
   "metadata": {},
   "outputs": [],
   "source": [
    "std_scaler = StandardScaler()"
   ]
  },
  {
   "cell_type": "markdown",
   "metadata": {},
   "source": [
    "#### KNeighborsClassifier"
   ]
  },
  {
   "cell_type": "code",
   "execution_count": 106,
   "metadata": {},
   "outputs": [],
   "source": [
    "start_time = time.time()\n",
    "\n",
    "clf = KNeighborsClassifier()\n",
    "\n",
    "pipeline = Pipeline(steps=\n",
    "                [('scaler', std_scaler), ('knn', clf)], memory = 'temp')\n",
    "\n",
    "gscv = GridSearchCV(pipeline,\n",
    "                dict(knn__n_neighbors=neighbors), \n",
    "                cv=5, scoring=metrics, refit='f1_macro', return_train_score=True, n_jobs=-1)\n",
    "\n",
    "gscv.fit(pulses_train, pulses_train_labels)\n",
    "knn_scaled = gscv.best_score_ * 100 # fetch F1-Macro\n",
    "\n",
    "final_time = (time.time() - start_time)/60"
   ]
  },
  {
   "cell_type": "code",
   "execution_count": 107,
   "metadata": {},
   "outputs": [
    {
     "data": {
      "text/plain": [
       "{'knn__n_neighbors': 9}"
      ]
     },
     "execution_count": 107,
     "metadata": {},
     "output_type": "execute_result"
    }
   ],
   "source": [
    "gscv.best_params_"
   ]
  },
  {
   "cell_type": "code",
   "execution_count": 130,
   "metadata": {},
   "outputs": [
    {
     "name": "stdout",
     "output_type": "stream",
     "text": [
      "Training Time: 16.4367 minutes\n",
      "\n",
      "Default: 77.0021\n",
      "Scaled: 80.7756\n"
     ]
    }
   ],
   "source": [
    "print(\"Training Time: \" + str(round(final_time, 4)) + \" minutes\" + \"\\n\")\n",
    "print(\"Default: \" + str(round(kn_f1_macro, 4)))\n",
    "print(\"Scaled: \" + str(round(knn_scaled, 4)))"
   ]
  },
  {
   "cell_type": "markdown",
   "metadata": {},
   "source": [
    "#### GaussianNBClassifier"
   ]
  },
  {
   "cell_type": "code",
   "execution_count": 111,
   "metadata": {},
   "outputs": [],
   "source": [
    "start_time = time.time()\n",
    "\n",
    "clf = GaussianNB()\n",
    "\n",
    "pipeline = Pipeline(steps=\n",
    "                [('scaler', std_scaler), ('gnb', clf)], memory = 'temp')\n",
    "\n",
    "gscv = GridSearchCV(pipeline,\n",
    "                dict(), \n",
    "                cv=5, scoring=metrics, refit='f1_macro', return_train_score=True, n_jobs=-1)\n",
    "\n",
    "gscv.fit(pulses_train, pulses_train_labels)\n",
    "gnb_scaled = gscv.best_score_ * 100 # fetch F1-Macro\n",
    "\n",
    "final_time = (time.time() - start_time)/60"
   ]
  },
  {
   "cell_type": "code",
   "execution_count": 112,
   "metadata": {},
   "outputs": [
    {
     "name": "stdout",
     "output_type": "stream",
     "text": [
      "Training Time: 0.0057 minutes\n",
      "\n",
      "Default: 65.9445\n",
      "Scaled: 62.5896\n"
     ]
    }
   ],
   "source": [
    "print(\"Training Time: \" + str(round(final_time, 4)) + \" minutes\" + \"\\n\")\n",
    "print(\"Default: \" + str(round(gnb_f1_macro, 4)))\n",
    "print(\"Scaled: \" + str(round(gnb_scaled, 4)))"
   ]
  },
  {
   "cell_type": "markdown",
   "metadata": {},
   "source": [
    "#### MLPClassifier"
   ]
  },
  {
   "cell_type": "code",
   "execution_count": 122,
   "metadata": {},
   "outputs": [],
   "source": [
    "start_time = time.time()\n",
    "\n",
    "clf = MLPClassifier()\n",
    "\n",
    "pipeline = Pipeline(steps=\n",
    "                [('scaler', std_scaler), ('mlp', clf)], memory = 'temp')\n",
    "\n",
    "gscv = GridSearchCV(pipeline,\n",
    "                dict(mlp__alpha=alpha, mlp__solver=solver, mlp__max_iter=max_iter, mlp__hidden_layer_sizes=layer_size, \n",
    "                     mlp__activation=activation), \n",
    "                cv=5, scoring=metrics, refit='f1_macro', return_train_score=True, n_jobs=-1)\n",
    "\n",
    "gscv.fit(pulses_train, pulses_train_labels)\n",
    "mlp_scaled = gscv.best_score_ * 100 # fetch F1-Macro\n",
    "\n",
    "final_time = (time.time() - start_time)/60"
   ]
  },
  {
   "cell_type": "code",
   "execution_count": 124,
   "metadata": {},
   "outputs": [
    {
     "data": {
      "text/plain": [
       "{'mlp__activation': 'relu',\n",
       " 'mlp__alpha': 0.0001,\n",
       " 'mlp__hidden_layer_sizes': (100,),\n",
       " 'mlp__max_iter': 250,\n",
       " 'mlp__solver': 'lbfgs'}"
      ]
     },
     "execution_count": 124,
     "metadata": {},
     "output_type": "execute_result"
    }
   ],
   "source": [
    "gscv.best_params_"
   ]
  },
  {
   "cell_type": "code",
   "execution_count": 123,
   "metadata": {},
   "outputs": [
    {
     "name": "stdout",
     "output_type": "stream",
     "text": [
      "Training Time: 16.4367 minutes\n",
      "\n",
      "Default: 78.663\n",
      "Scaled: 83.8311\n"
     ]
    }
   ],
   "source": [
    "print(\"Training Time: \" + str(round(final_time, 4)) + \" minutes\" + \"\\n\")\n",
    "print(\"Default: \" + str(round(mlp_f1_macro, 4)))\n",
    "print(\"Scaled: \" + str(round(mlp_scaled, 4)))"
   ]
  },
  {
   "cell_type": "markdown",
   "metadata": {},
   "source": [
    "### 2. Recursive Feature Elimination"
   ]
  },
  {
   "cell_type": "code",
   "execution_count": 143,
   "metadata": {},
   "outputs": [],
   "source": [
    "rfe_selector = RFE(estimator=LogisticRegression(), step=2)"
   ]
  },
  {
   "cell_type": "markdown",
   "metadata": {},
   "source": [
    "#### KNeighborsClassifier"
   ]
  },
  {
   "cell_type": "code",
   "execution_count": 134,
   "metadata": {},
   "outputs": [],
   "source": [
    "start_time = time.time()\n",
    "\n",
    "clf = KNeighborsClassifier()\n",
    "\n",
    "pipeline = Pipeline(steps=\n",
    "                [('selector', rfe_selector), ('knn', clf)], memory = 'temp')\n",
    "\n",
    "gscv = GridSearchCV(pipeline,\n",
    "                dict(selector__n_features_to_select=features, knn__n_neighbors=neighbors), \n",
    "                cv=5, scoring=metrics, refit='f1_macro', return_train_score=True, n_jobs=-1)\n",
    "\n",
    "gscv.fit(pulses_train, pulses_train_labels)\n",
    "knn_selected = gscv.best_score_ * 100 # fetch F1-Macro\n",
    "\n",
    "final_time = (time.time() - start_time)/60"
   ]
  },
  {
   "cell_type": "code",
   "execution_count": 135,
   "metadata": {},
   "outputs": [
    {
     "data": {
      "text/plain": [
       "{'knn__n_neighbors': 15, 'selector__n_features_to_select': 7}"
      ]
     },
     "execution_count": 135,
     "metadata": {},
     "output_type": "execute_result"
    }
   ],
   "source": [
    "gscv.best_params_"
   ]
  },
  {
   "cell_type": "code",
   "execution_count": 136,
   "metadata": {},
   "outputs": [
    {
     "name": "stdout",
     "output_type": "stream",
     "text": [
      "Training Time: 7.8333 minutes\n",
      "\n",
      "Default: 77.0021\n",
      "Scaled: 80.7756\n",
      "Selected: 79.5387\n"
     ]
    }
   ],
   "source": [
    "print(\"Training Time: \" + str(round(final_time, 4)) + \" minutes\" + \"\\n\")\n",
    "print(\"Default: \" + str(round(kn_f1_macro, 4)))\n",
    "print(\"Scaled: \" + str(round(knn_scaled, 4)))\n",
    "print(\"Selected: \" + str(round(knn_selected, 4)))"
   ]
  },
  {
   "cell_type": "markdown",
   "metadata": {},
   "source": [
    "#### GaussianNBClassifier"
   ]
  },
  {
   "cell_type": "code",
   "execution_count": 138,
   "metadata": {},
   "outputs": [],
   "source": [
    "start_time = time.time()\n",
    "\n",
    "clf = GaussianNB()\n",
    "\n",
    "pipeline = Pipeline(steps=\n",
    "                [('selector', rfe_selector), ('gnb', clf)], memory = 'temp')\n",
    "\n",
    "gscv = GridSearchCV(pipeline,\n",
    "                dict(selector__n_features_to_select=features), \n",
    "                cv=5, scoring=metrics, refit='f1_macro', return_train_score=True, n_jobs=-1)\n",
    "\n",
    "gscv.fit(pulses_train, pulses_train_labels)\n",
    "gnb_selected = gscv.best_score_ * 100 # fetch F1-Macro\n",
    "\n",
    "final_time = (time.time() - start_time)/60"
   ]
  },
  {
   "cell_type": "code",
   "execution_count": 139,
   "metadata": {},
   "outputs": [
    {
     "data": {
      "text/plain": [
       "{'selector__n_features_to_select': 4}"
      ]
     },
     "execution_count": 139,
     "metadata": {},
     "output_type": "execute_result"
    }
   ],
   "source": [
    "gscv.best_params_"
   ]
  },
  {
   "cell_type": "code",
   "execution_count": 140,
   "metadata": {},
   "outputs": [
    {
     "name": "stdout",
     "output_type": "stream",
     "text": [
      "Training Time: 0.0435 minutes\n",
      "\n",
      "Default: 65.9445\n",
      "Scaled: 62.5896\n",
      "Selected: 71.3338\n"
     ]
    }
   ],
   "source": [
    "print(\"Training Time: \" + str(round(final_time, 4)) + \" minutes\" + \"\\n\")\n",
    "print(\"Default: \" + str(round(gnb_f1_macro, 4)))\n",
    "print(\"Scaled: \" + str(round(gnb_scaled, 4)))\n",
    "print(\"Selected: \" + str(round(gnb_selected, 4)))"
   ]
  },
  {
   "cell_type": "markdown",
   "metadata": {},
   "source": [
    "#### MLPClassifier"
   ]
  },
  {
   "cell_type": "code",
   "execution_count": 174,
   "metadata": {},
   "outputs": [],
   "source": [
    "start_time = time.time()\n",
    "\n",
    "clf = MLPClassifier()\n",
    "\n",
    "pipeline = Pipeline(steps=\n",
    "                [('selector', rfe_selector), ('mlp', clf)], memory = 'temp')\n",
    "\n",
    "gscv = GridSearchCV(pipeline,\n",
    "                dict(selector__n_features_to_select=features, mlp__alpha=alpha, mlp__solver=solver, mlp__max_iter=max_iter, mlp__hidden_layer_sizes=layer_size, \n",
    "                     mlp__activation=activation), \n",
    "                cv=5, scoring=metrics, refit='f1_macro', return_train_score=True, n_jobs=-1)\n",
    "\n",
    "gscv.fit(pulses_train, pulses_train_labels)\n",
    "mlp_selected = gscv.best_score_ * 100 # fetch F1-Macro\n",
    "\n",
    "final_time = (time.time() - start_time)/60"
   ]
  },
  {
   "cell_type": "code",
   "execution_count": 175,
   "metadata": {},
   "outputs": [
    {
     "data": {
      "text/plain": [
       "{'mlp__activation': 'tanh',\n",
       " 'mlp__alpha': 0.0001,\n",
       " 'mlp__hidden_layer_sizes': (250,),\n",
       " 'mlp__max_iter': 500,\n",
       " 'mlp__solver': 'lbfgs',\n",
       " 'selector__n_features_to_select': 7}"
      ]
     },
     "execution_count": 175,
     "metadata": {},
     "output_type": "execute_result"
    }
   ],
   "source": [
    "gscv.best_params_"
   ]
  },
  {
   "cell_type": "code",
   "execution_count": 176,
   "metadata": {},
   "outputs": [
    {
     "name": "stdout",
     "output_type": "stream",
     "text": [
      "Training Time: 40.2586 minutes\n",
      "\n",
      "Default: 78.663\n",
      "Scaled: 83.8311\n",
      "Selected: 81.2883\n"
     ]
    }
   ],
   "source": [
    "print(\"Training Time: \" + str(round(final_time, 4)) + \" minutes\" + \"\\n\")\n",
    "print(\"Default: \" + str(round(mlp_f1_macro, 4)))\n",
    "print(\"Scaled: \" + str(round(mlp_scaled, 4)))\n",
    "print(\"Selected: \" + str(round(mlp_selected, 4)))"
   ]
  },
  {
   "cell_type": "markdown",
   "metadata": {},
   "source": [
    "### 3. Recursive Feature Elimination, Standardization"
   ]
  },
  {
   "cell_type": "markdown",
   "metadata": {},
   "source": [
    "#### KNeighborsClassifier"
   ]
  },
  {
   "cell_type": "code",
   "execution_count": 146,
   "metadata": {},
   "outputs": [],
   "source": [
    "start_time = time.time()\n",
    "\n",
    "clf = KNeighborsClassifier()\n",
    "\n",
    "pipeline = Pipeline(steps=\n",
    "                [('selector', rfe_selector), ('scaler', std_scaler), ('knn', clf)], memory = 'temp')\n",
    "\n",
    "gscv = GridSearchCV(pipeline,\n",
    "                dict(selector__n_features_to_select=features, knn__n_neighbors=neighbors), \n",
    "                cv=5, scoring=metrics, refit='f1_macro', return_train_score=True, n_jobs=-1)\n",
    "\n",
    "gscv.fit(pulses_train, pulses_train_labels)\n",
    "knn_selected_scaled = gscv.best_score_ * 100 # fetch F1-Macro\n",
    "\n",
    "final_time = (time.time() - start_time)/60"
   ]
  },
  {
   "cell_type": "code",
   "execution_count": 147,
   "metadata": {},
   "outputs": [
    {
     "data": {
      "text/plain": [
       "{'knn__n_neighbors': 25, 'selector__n_features_to_select': 7}"
      ]
     },
     "execution_count": 147,
     "metadata": {},
     "output_type": "execute_result"
    }
   ],
   "source": [
    "gscv.best_params_"
   ]
  },
  {
   "cell_type": "code",
   "execution_count": 148,
   "metadata": {},
   "outputs": [
    {
     "name": "stdout",
     "output_type": "stream",
     "text": [
      "Training Time: 8.1807 minutes\n",
      "\n",
      "Default: 77.0021\n",
      "Scaled: 80.7756\n",
      "Selected: 79.5387\n",
      "Selected_Scaled: 82.3997\n"
     ]
    }
   ],
   "source": [
    "print(\"Training Time: \" + str(round(final_time, 4)) + \" minutes\" + \"\\n\")\n",
    "print(\"Default: \" + str(round(kn_f1_macro, 4)))\n",
    "print(\"Scaled: \" + str(round(knn_scaled, 4)))\n",
    "print(\"Selected: \" + str(round(knn_selected, 4)))\n",
    "print(\"Selected_Scaled: \" + str(round(knn_selected_scaled, 4)))"
   ]
  },
  {
   "cell_type": "markdown",
   "metadata": {},
   "source": [
    "#### GaussianNBClassifier"
   ]
  },
  {
   "cell_type": "code",
   "execution_count": 149,
   "metadata": {},
   "outputs": [],
   "source": [
    "start_time = time.time()\n",
    "\n",
    "clf = GaussianNB()\n",
    "\n",
    "pipeline = Pipeline(steps=\n",
    "                [('selector', rfe_selector), ('scaler', std_scaler), ('gnb', clf)], memory = 'temp')\n",
    "\n",
    "gscv = GridSearchCV(pipeline,\n",
    "                dict(selector__n_features_to_select=features), \n",
    "                cv=5, scoring=metrics, refit='f1_macro', return_train_score=True, n_jobs=-1)\n",
    "\n",
    "gscv.fit(pulses_train, pulses_train_labels)\n",
    "gnb_selected_scaled = gscv.best_score_ * 100 # fetch F1-Macro\n",
    "\n",
    "final_time = (time.time() - start_time)/60"
   ]
  },
  {
   "cell_type": "code",
   "execution_count": 150,
   "metadata": {},
   "outputs": [
    {
     "data": {
      "text/plain": [
       "{'selector__n_features_to_select': 4}"
      ]
     },
     "execution_count": 150,
     "metadata": {},
     "output_type": "execute_result"
    }
   ],
   "source": [
    "gscv.best_params_"
   ]
  },
  {
   "cell_type": "code",
   "execution_count": 151,
   "metadata": {},
   "outputs": [
    {
     "name": "stdout",
     "output_type": "stream",
     "text": [
      "Training Time: 0.054 minutes\n",
      "\n",
      "Default: 65.9445\n",
      "Scaled: 62.5896\n",
      "Selected: 71.3338\n",
      "Selected_Scaled: 71.3338\n"
     ]
    }
   ],
   "source": [
    "print(\"Training Time: \" + str(round(final_time, 4)) + \" minutes\" + \"\\n\")\n",
    "print(\"Default: \" + str(round(gnb_f1_macro, 4)))\n",
    "print(\"Scaled: \" + str(round(gnb_scaled, 4)))\n",
    "print(\"Selected: \" + str(round(gnb_selected, 4)))\n",
    "print(\"Selected_Scaled: \" + str(round(gnb_selected_scaled, 4)))"
   ]
  },
  {
   "cell_type": "markdown",
   "metadata": {},
   "source": [
    "#### MLPClassifier"
   ]
  },
  {
   "cell_type": "code",
   "execution_count": null,
   "metadata": {},
   "outputs": [],
   "source": [
    "start_time = time.time()\n",
    "\n",
    "clf = MLPClassifier()\n",
    "\n",
    "pipeline = Pipeline(steps=\n",
    "                [('selector', rfe_selector), ('scaler', std_scaler), ('mlp', clf)], memory = 'temp')\n",
    "\n",
    "gscv = GridSearchCV(pipeline,\n",
    "                dict(selector__n_features_to_select=features, mlp__alpha=alpha, mlp__solver=solver, mlp__max_iter=max_iter, mlp__hidden_layer_sizes=layer_size, \n",
    "                     mlp__activation=activation), \n",
    "                cv=5, scoring=metrics, refit='f1_macro', return_train_score=True, n_jobs=-1)\n",
    "\n",
    "gscv.fit(pulses_train, pulses_train_labels)\n",
    "mlp_selected_scaled = gscv.best_score_ * 100 # fetch F1-Macro\n",
    "\n",
    "final_time = (time.time() - start_time)/60"
   ]
  },
  {
   "cell_type": "code",
   "execution_count": null,
   "metadata": {},
   "outputs": [],
   "source": [
    "gscv.best_params_"
   ]
  },
  {
   "cell_type": "code",
   "execution_count": null,
   "metadata": {},
   "outputs": [],
   "source": [
    "print(\"Training Time: \" + str(round(final_time, 4)) + \" minutes\" + \"\\n\")\n",
    "print(\"Default: \" + str(round(mlp_f1_macro, 4)))\n",
    "print(\"Scaled: \" + str(round(mlp_scaled, 4)))\n",
    "print(\"Selected: \" + str(round(mlp_selected, 4)))\n",
    "print(\"Selected_Scaled: \" + str(round(mlp_selected_scaled, 4)))"
   ]
  },
  {
   "cell_type": "markdown",
   "metadata": {},
   "source": [
    "### 4. Recursive Feature Elimination, Standardization, PCA"
   ]
  },
  {
   "cell_type": "code",
   "execution_count": 154,
   "metadata": {},
   "outputs": [],
   "source": [
    "pca = PCA(n_components=0.95)"
   ]
  },
  {
   "cell_type": "markdown",
   "metadata": {},
   "source": [
    "#### KNeighborsClassifier"
   ]
  },
  {
   "cell_type": "code",
   "execution_count": 155,
   "metadata": {},
   "outputs": [],
   "source": [
    "start_time = time.time()\n",
    "\n",
    "clf = KNeighborsClassifier()\n",
    "\n",
    "pipeline = Pipeline(steps=\n",
    "                [('selector', rfe_selector), ('scaler', std_scaler), ('pca', pca), ('knn', clf)], memory = 'temp')\n",
    "\n",
    "gscv = GridSearchCV(pipeline,\n",
    "                dict(selector__n_features_to_select=features, knn__n_neighbors=neighbors), \n",
    "                cv=5, scoring=metrics, refit='f1_macro', return_train_score=True, n_jobs=-1)\n",
    "\n",
    "gscv.fit(pulses_train, pulses_train_labels)\n",
    "knn_selected_scaled_pca = gscv.best_score_ * 100 # fetch F1-Macro\n",
    "\n",
    "final_time = (time.time() - start_time)/60"
   ]
  },
  {
   "cell_type": "code",
   "execution_count": 156,
   "metadata": {},
   "outputs": [
    {
     "data": {
      "text/plain": [
       "{'knn__n_neighbors': 23, 'selector__n_features_to_select': 6}"
      ]
     },
     "execution_count": 156,
     "metadata": {},
     "output_type": "execute_result"
    }
   ],
   "source": [
    "gscv.best_params_"
   ]
  },
  {
   "cell_type": "code",
   "execution_count": 157,
   "metadata": {},
   "outputs": [
    {
     "name": "stdout",
     "output_type": "stream",
     "text": [
      "Training Time: 7.3681 minutes\n",
      "\n",
      "Default: 77.0021\n",
      "Scaled: 80.7756\n",
      "Selected: 79.5387\n",
      "Selected_Scaled: 82.3997\n",
      "Selected_Scaled_PCA: 79.5153\n"
     ]
    }
   ],
   "source": [
    "print(\"Training Time: \" + str(round(final_time, 4)) + \" minutes\" + \"\\n\")\n",
    "print(\"Default: \" + str(round(kn_f1_macro, 4)))\n",
    "print(\"Scaled: \" + str(round(knn_scaled, 4)))\n",
    "print(\"Selected: \" + str(round(knn_selected, 4)))\n",
    "print(\"Selected_Scaled: \" + str(round(knn_selected_scaled, 4)))\n",
    "print(\"Selected_Scaled_PCA: \" + str(round(knn_selected_scaled_pca, 4)))"
   ]
  },
  {
   "cell_type": "markdown",
   "metadata": {},
   "source": [
    "#### GaussianNBClassifier"
   ]
  },
  {
   "cell_type": "code",
   "execution_count": 158,
   "metadata": {},
   "outputs": [],
   "source": [
    "start_time = time.time()\n",
    "\n",
    "clf = GaussianNB()\n",
    "\n",
    "pipeline = Pipeline(steps=\n",
    "                [('selector', rfe_selector), ('scaler', std_scaler), ('pca', pca), ('gnb', clf)], memory = 'temp')\n",
    "\n",
    "gscv = GridSearchCV(pipeline,\n",
    "                dict(selector__n_features_to_select=features), \n",
    "                cv=5, scoring=metrics, refit='f1_macro', return_train_score=True, n_jobs=-1)\n",
    "\n",
    "gscv.fit(pulses_train, pulses_train_labels)\n",
    "gnb_selected_scaled_pca = gscv.best_score_ * 100 # fetch F1-Macro\n",
    "\n",
    "final_time = (time.time() - start_time)/60"
   ]
  },
  {
   "cell_type": "code",
   "execution_count": 159,
   "metadata": {},
   "outputs": [
    {
     "data": {
      "text/plain": [
       "{'selector__n_features_to_select': 5}"
      ]
     },
     "execution_count": 159,
     "metadata": {},
     "output_type": "execute_result"
    }
   ],
   "source": [
    "gscv.best_params_"
   ]
  },
  {
   "cell_type": "code",
   "execution_count": 160,
   "metadata": {},
   "outputs": [
    {
     "name": "stdout",
     "output_type": "stream",
     "text": [
      "Training Time: 0.0667 minutes\n",
      "\n",
      "Default: 65.9445\n",
      "Scaled: 62.5896\n",
      "Selected: 71.3338\n",
      "Selected_Scaled: 71.3338\n",
      "Selected_Scaled_PCA: 73.1909\n"
     ]
    }
   ],
   "source": [
    "print(\"Training Time: \" + str(round(final_time, 4)) + \" minutes\" + \"\\n\")\n",
    "print(\"Default: \" + str(round(gnb_f1_macro, 4)))\n",
    "print(\"Scaled: \" + str(round(gnb_scaled, 4)))\n",
    "print(\"Selected: \" + str(round(gnb_selected, 4)))\n",
    "print(\"Selected_Scaled: \" + str(round(gnb_selected_scaled, 4)))\n",
    "print(\"Selected_Scaled_PCA: \" + str(round(gnb_selected_scaled_pca, 4)))"
   ]
  },
  {
   "cell_type": "markdown",
   "metadata": {},
   "source": [
    "#### MLPClassifier"
   ]
  },
  {
   "cell_type": "code",
   "execution_count": null,
   "metadata": {},
   "outputs": [],
   "source": [
    "start_time = time.time()\n",
    "\n",
    "clf = MLPClassifier()\n",
    "\n",
    "pipeline = Pipeline(steps=\n",
    "                [('selector', rfe_selector), ('scaler', std_scaler), ('pca', pca), ('mlp', clf)], memory = 'temp')\n",
    "\n",
    "gscv = GridSearchCV(pipeline,\n",
    "                dict(selector__n_features_to_select=features, mlp__alpha=alpha, mlp__solver=solver, mlp__max_iter=max_iter, mlp__hidden_layer_sizes=layer_size, \n",
    "                     mlp__activation=activation), \n",
    "                cv=5, scoring=metrics, refit='f1_macro', return_train_score=True, n_jobs=-1)\n",
    "\n",
    "gscv.fit(pulses_train, pulses_train_labels)\n",
    "mlp_selected_scaled_pca = gscv.best_score_ * 100 # fetch F1-Macro\n",
    "\n",
    "final_time = (time.time() - start_time)/60"
   ]
  },
  {
   "cell_type": "code",
   "execution_count": null,
   "metadata": {},
   "outputs": [],
   "source": [
    "gscv.best_params_"
   ]
  },
  {
   "cell_type": "code",
   "execution_count": null,
   "metadata": {},
   "outputs": [],
   "source": [
    "print(\"Training Time: \" + str(round(final_time, 4)) + \" minutes\" + \"\\n\")\n",
    "print(\"Default: \" + str(round(mlp_f1_macro, 4)))\n",
    "print(\"Scaled: \" + str(round(mlp_scaled, 4)))\n",
    "print(\"Selected: \" + str(round(mlp_selected, 4)))\n",
    "print(\"Selected_Scaled: \" + str(round(mlp_selected_scaled, 4)))\n",
    "print(\"Selected_Scaled_PCA: \" + str(round(mlp_selected_scaled_pca, 4)))"
   ]
  },
  {
   "cell_type": "markdown",
   "metadata": {},
   "source": [
    "### 5. Recursive Feature Elimination, Standardization, ICA"
   ]
  },
  {
   "cell_type": "code",
   "execution_count": 167,
   "metadata": {},
   "outputs": [],
   "source": [
    "ica = FastICA()"
   ]
  },
  {
   "cell_type": "markdown",
   "metadata": {},
   "source": [
    "#### KNeighborsClassifier"
   ]
  },
  {
   "cell_type": "code",
   "execution_count": 168,
   "metadata": {},
   "outputs": [],
   "source": [
    "start_time = time.time()\n",
    "\n",
    "clf = KNeighborsClassifier()\n",
    "\n",
    "pipeline = Pipeline(steps=\n",
    "                [('selector', rfe_selector), ('scaler', std_scaler), ('ica', ica), ('knn', clf)], memory = 'temp')\n",
    "\n",
    "gscv = GridSearchCV(pipeline,\n",
    "                dict(ica__n_components=features, selector__n_features_to_select=features, knn__n_neighbors=neighbors), \n",
    "                cv=5, scoring=metrics, refit='f1_macro', return_train_score=True, n_jobs=-1)\n",
    "\n",
    "gscv.fit(pulses_train, pulses_train_labels)\n",
    "knn_selected_scaled_ica = gscv.best_score_ * 100 # fetch F1-Macro\n",
    "\n",
    "final_time = (time.time() - start_time)/60"
   ]
  },
  {
   "cell_type": "code",
   "execution_count": 169,
   "metadata": {},
   "outputs": [
    {
     "data": {
      "text/plain": [
       "{'ica__n_components': 7,\n",
       " 'knn__n_neighbors': 9,\n",
       " 'selector__n_features_to_select': 7}"
      ]
     },
     "execution_count": 169,
     "metadata": {},
     "output_type": "execute_result"
    }
   ],
   "source": [
    "gscv.best_params_"
   ]
  },
  {
   "cell_type": "code",
   "execution_count": 170,
   "metadata": {},
   "outputs": [
    {
     "name": "stdout",
     "output_type": "stream",
     "text": [
      "Training Time: 10.7211 minutes\n",
      "\n",
      "Default: 77.0021\n",
      "Scaled: 80.7756\n",
      "Selected: 79.5387\n",
      "Selected_Scaled: 82.3997\n",
      "Selected_Scaled_PCA: 79.5153\n",
      "Selected_Scaled_ICA: 82.0866\n"
     ]
    }
   ],
   "source": [
    "print(\"Training Time: \" + str(round(final_time, 4)) + \" minutes\" + \"\\n\")\n",
    "print(\"Default: \" + str(round(kn_f1_macro, 4)))\n",
    "print(\"Scaled: \" + str(round(knn_scaled, 4)))\n",
    "print(\"Selected: \" + str(round(knn_selected, 4)))\n",
    "print(\"Selected_Scaled: \" + str(round(knn_selected_scaled, 4)))\n",
    "print(\"Selected_Scaled_PCA: \" + str(round(knn_selected_scaled_pca, 4)))\n",
    "print(\"Selected_Scaled_ICA: \" + str(round(knn_selected_scaled_ica, 4)))"
   ]
  },
  {
   "cell_type": "markdown",
   "metadata": {},
   "source": [
    "#### GaussianNBClassifier"
   ]
  },
  {
   "cell_type": "code",
   "execution_count": 171,
   "metadata": {},
   "outputs": [],
   "source": [
    "start_time = time.time()\n",
    "\n",
    "clf = GaussianNB()\n",
    "\n",
    "pipeline = Pipeline(steps=\n",
    "                [('selector', rfe_selector), ('scaler', std_scaler), ('ica', ica), ('gnb', clf)], memory = 'temp')\n",
    "\n",
    "gscv = GridSearchCV(pipeline,\n",
    "                dict(ica__n_components=features, selector__n_features_to_select=features), \n",
    "                cv=5, scoring=metrics, refit='f1_macro', return_train_score=True, n_jobs=-1)\n",
    "\n",
    "gscv.fit(pulses_train, pulses_train_labels)\n",
    "gnb_selected_scaled_ica = gscv.best_score_ * 100 # fetch F1-Macro\n",
    "\n",
    "final_time = (time.time() - start_time)/60"
   ]
  },
  {
   "cell_type": "code",
   "execution_count": 172,
   "metadata": {},
   "outputs": [
    {
     "data": {
      "text/plain": [
       "{'ica__n_components': 7, 'selector__n_features_to_select': 5}"
      ]
     },
     "execution_count": 172,
     "metadata": {},
     "output_type": "execute_result"
    }
   ],
   "source": [
    "gscv.best_params_"
   ]
  },
  {
   "cell_type": "code",
   "execution_count": 173,
   "metadata": {},
   "outputs": [
    {
     "name": "stdout",
     "output_type": "stream",
     "text": [
      "Training Time: 0.1543 minutes\n",
      "\n",
      "Default: 65.9445\n",
      "Scaled: 62.5896\n",
      "Selected: 71.3338\n",
      "Selected_Scaled: 71.3338\n",
      "Selected_Scaled_PCA: 73.1909\n",
      "Selected_Scaled_ICA: 71.9096\n"
     ]
    }
   ],
   "source": [
    "print(\"Training Time: \" + str(round(final_time, 4)) + \" minutes\" + \"\\n\")\n",
    "print(\"Default: \" + str(round(gnb_f1_macro, 4)))\n",
    "print(\"Scaled: \" + str(round(gnb_scaled, 4)))\n",
    "print(\"Selected: \" + str(round(gnb_selected, 4)))\n",
    "print(\"Selected_Scaled: \" + str(round(gnb_selected_scaled, 4)))\n",
    "print(\"Selected_Scaled_PCA: \" + str(round(gnb_selected_scaled_pca, 4)))\n",
    "print(\"Selected_Scaled_ICA: \" + str(round(gnb_selected_scaled_ica, 4)))"
   ]
  },
  {
   "cell_type": "markdown",
   "metadata": {},
   "source": [
    "#### MLPClassifier"
   ]
  },
  {
   "cell_type": "code",
   "execution_count": null,
   "metadata": {},
   "outputs": [],
   "source": [
    "start_time = time.time()\n",
    "\n",
    "clf = MLPClassifier()\n",
    "\n",
    "pipeline = Pipeline(steps=\n",
    "                [('selector', rfe_selector), ('scaler', std_scaler), ('ica', ica), ('mlp', clf)], memory = 'temp')\n",
    "\n",
    "gscv = GridSearchCV(pipeline,\n",
    "                dict(ica__n_components=features, selector__n_features_to_select=features, mlp__alpha=alpha, mlp__solver=solver, mlp__max_iter=max_iter, mlp__hidden_layer_sizes=layer_size, \n",
    "                     mlp__activation=activation), \n",
    "                cv=5, scoring=metrics, refit='f1_macro', return_train_score=True, n_jobs=-1)\n",
    "\n",
    "gscv.fit(pulses_train, pulses_train_labels)\n",
    "mlp_selected_scaled_ica = gscv.best_score_ * 100 # fetch F1-Macro\n",
    "\n",
    "final_time = (time.time() - start_time)/60"
   ]
  },
  {
   "cell_type": "code",
   "execution_count": null,
   "metadata": {},
   "outputs": [],
   "source": [
    "gscv.best_params_"
   ]
  },
  {
   "cell_type": "code",
   "execution_count": null,
   "metadata": {},
   "outputs": [],
   "source": [
    "print(\"Training Time: \" + str(round(final_time, 4)) + \" minutes\" + \"\\n\")\n",
    "print(\"Default: \" + str(round(mlp_f1_macro, 4)))\n",
    "print(\"Scaled: \" + str(round(mlp_scaled, 4)))\n",
    "print(\"Selected: \" + str(round(mlp_selected, 4)))\n",
    "print(\"Selected_Scaled: \" + str(round(mlp_selected_scaled, 4)))\n",
    "print(\"Selected_Scaled_PCA: \" + str(round(mlp_selected_scaled_pca, 4)))\n",
    "print(\"Selected_Scaled_ICA: \" + str(round(mlp_selected_scaled_ica, 4)))"
   ]
  },
  {
   "cell_type": "markdown",
   "metadata": {},
   "source": [
    "---\n",
    "\n",
    "<a id='Final'></a>\n",
    "\n",
    "## Τελική Αρχιτεκτονική Μετασχηματιστών"
   ]
  },
  {
   "cell_type": "code",
   "execution_count": null,
   "metadata": {},
   "outputs": [],
   "source": []
  }
 ],
 "metadata": {
  "kernelspec": {
   "display_name": "Python 3",
   "language": "python",
   "name": "python3"
  },
  "language_info": {
   "codemirror_mode": {
    "name": "ipython",
    "version": 3
   },
   "file_extension": ".py",
   "mimetype": "text/x-python",
   "name": "python",
   "nbconvert_exporter": "python",
   "pygments_lexer": "ipython3",
   "version": "3.7.5"
  }
 },
 "nbformat": 4,
 "nbformat_minor": 2
}
