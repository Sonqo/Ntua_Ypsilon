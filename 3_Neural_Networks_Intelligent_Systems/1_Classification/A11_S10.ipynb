{
 "cells": [
  {
   "cell_type": "markdown",
   "metadata": {},
   "source": [
    "## Στοιχεία Ομάδας"
   ]
  },
  {
   "cell_type": "markdown",
   "metadata": {},
   "source": [
    "Αριθμός Ομάδας: Μ.Α.11\n",
    "\n",
    ">  Γκαμουλάκος Παρασκευάς:\n",
    "\n",
    ">  Καρυπιάδης Ευστράτιος: 03114911\n",
    "\n",
    ">  Μήτρο Νικόλαος:"
   ]
  },
  {
   "cell_type": "markdown",
   "metadata": {},
   "source": [
    "---\n",
    "\n",
    "## Εισαγωγή του Dataset"
   ]
  },
  {
   "cell_type": "markdown",
   "metadata": {},
   "source": [
    "Το dataset μας προκύπτει έπειτα απο την εφαρμογή του συστήματος _HIPS (Hierarchical Image Processing System)_ σε σειρά εικονών, οι οποίες ελήφθησαν για τεσσερις διαφορετικές κατηγορίες οχημάτων κάτω από τις ίδιες συνθήκες φωτισμού και γωνίας λήψης. Τα χαρακτηριστικά που εξήχθησαν αντιστοιχούν σε μετρικές ψηφιακής περιγραφής των εικόνων και αποτελούν τις στήλες των δεδομένων μας. Εκμεταλλευόμενοι τα παραπάνω χαρακτηριστικά θα επιχειρήσουμε να ταξινομήσουμε τα δείγματα που έχουμε στην διάθεσή μας στην αντίστοιχη κατηγορία οχήματος που ανήκουν.\n",
    "\n",
    "Τα αρχεία δεδομένων μας είναι χωρισμένα σε εννέα διαφορετικά αρχεία τα οποία θα ομαδοποιήσουμε σε έναν πίνακα. Αυτό επιτυγχάνεται με το σειριακό διάβασμα των αρχείων και με την τελική ενοποίηση όλων των δεδομένων σε ένα Dataframe. Δεν υπάρχει αρίθμηση για κάθε διαφορετικό δείγμα-γραμμή, αλλά ούτε ονομασία για τα χαρακτηριστικά-στήλες μας. Για αυτό το λόγο επιλέγουμε να ονοματίσουμε της στήλες των δεδομένων μας, συμβουλεύομενοι την περιγραφή του dataset."
   ]
  },
  {
   "cell_type": "code",
   "execution_count": 1,
   "metadata": {},
   "outputs": [
    {
     "data": {
      "text/html": [
       "<div>\n",
       "<style scoped>\n",
       "    .dataframe tbody tr th:only-of-type {\n",
       "        vertical-align: middle;\n",
       "    }\n",
       "\n",
       "    .dataframe tbody tr th {\n",
       "        vertical-align: top;\n",
       "    }\n",
       "\n",
       "    .dataframe thead th {\n",
       "        text-align: right;\n",
       "    }\n",
       "</style>\n",
       "<table border=\"1\" class=\"dataframe\">\n",
       "  <thead>\n",
       "    <tr style=\"text-align: right;\">\n",
       "      <th></th>\n",
       "      <th>compactness</th>\n",
       "      <th>circularity</th>\n",
       "      <th>distance_circularity</th>\n",
       "      <th>radius_ratio</th>\n",
       "      <th>pr.axis_aspect_ratio</th>\n",
       "      <th>max.length_aspect_ratio</th>\n",
       "      <th>scatter_ratio</th>\n",
       "      <th>elongatedness</th>\n",
       "      <th>pr.axis_rectangularity</th>\n",
       "      <th>max.length_rectangularity</th>\n",
       "      <th>major.axis_scaled_variance</th>\n",
       "      <th>minor.axis_scaled_variance</th>\n",
       "      <th>gyration_scaled_radius</th>\n",
       "      <th>major.axis skewness</th>\n",
       "      <th>minor.axis_skewness</th>\n",
       "      <th>minor.axis_kurtosis</th>\n",
       "      <th>major.axis_curtosis</th>\n",
       "      <th>hollows_ratio</th>\n",
       "      <th>label</th>\n",
       "    </tr>\n",
       "  </thead>\n",
       "  <tbody>\n",
       "    <tr>\n",
       "      <th>0</th>\n",
       "      <td>95</td>\n",
       "      <td>48</td>\n",
       "      <td>83</td>\n",
       "      <td>178</td>\n",
       "      <td>72</td>\n",
       "      <td>10</td>\n",
       "      <td>162</td>\n",
       "      <td>42</td>\n",
       "      <td>20</td>\n",
       "      <td>159</td>\n",
       "      <td>176</td>\n",
       "      <td>379</td>\n",
       "      <td>184</td>\n",
       "      <td>70</td>\n",
       "      <td>6</td>\n",
       "      <td>16</td>\n",
       "      <td>187</td>\n",
       "      <td>197</td>\n",
       "      <td>van</td>\n",
       "    </tr>\n",
       "    <tr>\n",
       "      <th>1</th>\n",
       "      <td>91</td>\n",
       "      <td>41</td>\n",
       "      <td>84</td>\n",
       "      <td>141</td>\n",
       "      <td>57</td>\n",
       "      <td>9</td>\n",
       "      <td>149</td>\n",
       "      <td>45</td>\n",
       "      <td>19</td>\n",
       "      <td>143</td>\n",
       "      <td>170</td>\n",
       "      <td>330</td>\n",
       "      <td>158</td>\n",
       "      <td>72</td>\n",
       "      <td>9</td>\n",
       "      <td>14</td>\n",
       "      <td>189</td>\n",
       "      <td>199</td>\n",
       "      <td>van</td>\n",
       "    </tr>\n",
       "    <tr>\n",
       "      <th>2</th>\n",
       "      <td>104</td>\n",
       "      <td>50</td>\n",
       "      <td>106</td>\n",
       "      <td>209</td>\n",
       "      <td>66</td>\n",
       "      <td>10</td>\n",
       "      <td>207</td>\n",
       "      <td>32</td>\n",
       "      <td>23</td>\n",
       "      <td>158</td>\n",
       "      <td>223</td>\n",
       "      <td>635</td>\n",
       "      <td>220</td>\n",
       "      <td>73</td>\n",
       "      <td>14</td>\n",
       "      <td>9</td>\n",
       "      <td>188</td>\n",
       "      <td>196</td>\n",
       "      <td>saab</td>\n",
       "    </tr>\n",
       "    <tr>\n",
       "      <th>3</th>\n",
       "      <td>93</td>\n",
       "      <td>41</td>\n",
       "      <td>82</td>\n",
       "      <td>159</td>\n",
       "      <td>63</td>\n",
       "      <td>9</td>\n",
       "      <td>144</td>\n",
       "      <td>46</td>\n",
       "      <td>19</td>\n",
       "      <td>143</td>\n",
       "      <td>160</td>\n",
       "      <td>309</td>\n",
       "      <td>127</td>\n",
       "      <td>63</td>\n",
       "      <td>6</td>\n",
       "      <td>10</td>\n",
       "      <td>199</td>\n",
       "      <td>207</td>\n",
       "      <td>van</td>\n",
       "    </tr>\n",
       "    <tr>\n",
       "      <th>4</th>\n",
       "      <td>85</td>\n",
       "      <td>44</td>\n",
       "      <td>70</td>\n",
       "      <td>205</td>\n",
       "      <td>103</td>\n",
       "      <td>52</td>\n",
       "      <td>149</td>\n",
       "      <td>45</td>\n",
       "      <td>19</td>\n",
       "      <td>144</td>\n",
       "      <td>241</td>\n",
       "      <td>325</td>\n",
       "      <td>188</td>\n",
       "      <td>127</td>\n",
       "      <td>9</td>\n",
       "      <td>11</td>\n",
       "      <td>180</td>\n",
       "      <td>183</td>\n",
       "      <td>bus</td>\n",
       "    </tr>\n",
       "    <tr>\n",
       "      <th>5</th>\n",
       "      <td>107</td>\n",
       "      <td>57</td>\n",
       "      <td>106</td>\n",
       "      <td>172</td>\n",
       "      <td>50</td>\n",
       "      <td>6</td>\n",
       "      <td>255</td>\n",
       "      <td>26</td>\n",
       "      <td>28</td>\n",
       "      <td>169</td>\n",
       "      <td>280</td>\n",
       "      <td>957</td>\n",
       "      <td>264</td>\n",
       "      <td>85</td>\n",
       "      <td>5</td>\n",
       "      <td>9</td>\n",
       "      <td>181</td>\n",
       "      <td>183</td>\n",
       "      <td>bus</td>\n",
       "    </tr>\n",
       "    <tr>\n",
       "      <th>6</th>\n",
       "      <td>97</td>\n",
       "      <td>43</td>\n",
       "      <td>73</td>\n",
       "      <td>173</td>\n",
       "      <td>65</td>\n",
       "      <td>6</td>\n",
       "      <td>153</td>\n",
       "      <td>42</td>\n",
       "      <td>19</td>\n",
       "      <td>143</td>\n",
       "      <td>176</td>\n",
       "      <td>361</td>\n",
       "      <td>172</td>\n",
       "      <td>66</td>\n",
       "      <td>13</td>\n",
       "      <td>1</td>\n",
       "      <td>200</td>\n",
       "      <td>204</td>\n",
       "      <td>bus</td>\n",
       "    </tr>\n",
       "    <tr>\n",
       "      <th>7</th>\n",
       "      <td>90</td>\n",
       "      <td>43</td>\n",
       "      <td>66</td>\n",
       "      <td>157</td>\n",
       "      <td>65</td>\n",
       "      <td>9</td>\n",
       "      <td>137</td>\n",
       "      <td>48</td>\n",
       "      <td>18</td>\n",
       "      <td>146</td>\n",
       "      <td>162</td>\n",
       "      <td>281</td>\n",
       "      <td>164</td>\n",
       "      <td>67</td>\n",
       "      <td>3</td>\n",
       "      <td>3</td>\n",
       "      <td>193</td>\n",
       "      <td>202</td>\n",
       "      <td>van</td>\n",
       "    </tr>\n",
       "    <tr>\n",
       "      <th>8</th>\n",
       "      <td>86</td>\n",
       "      <td>34</td>\n",
       "      <td>62</td>\n",
       "      <td>140</td>\n",
       "      <td>61</td>\n",
       "      <td>7</td>\n",
       "      <td>122</td>\n",
       "      <td>54</td>\n",
       "      <td>17</td>\n",
       "      <td>127</td>\n",
       "      <td>141</td>\n",
       "      <td>223</td>\n",
       "      <td>112</td>\n",
       "      <td>64</td>\n",
       "      <td>2</td>\n",
       "      <td>14</td>\n",
       "      <td>200</td>\n",
       "      <td>208</td>\n",
       "      <td>van</td>\n",
       "    </tr>\n",
       "    <tr>\n",
       "      <th>9</th>\n",
       "      <td>93</td>\n",
       "      <td>44</td>\n",
       "      <td>98</td>\n",
       "      <td>197</td>\n",
       "      <td>62</td>\n",
       "      <td>11</td>\n",
       "      <td>183</td>\n",
       "      <td>36</td>\n",
       "      <td>22</td>\n",
       "      <td>146</td>\n",
       "      <td>202</td>\n",
       "      <td>505</td>\n",
       "      <td>152</td>\n",
       "      <td>64</td>\n",
       "      <td>4</td>\n",
       "      <td>14</td>\n",
       "      <td>195</td>\n",
       "      <td>204</td>\n",
       "      <td>saab</td>\n",
       "    </tr>\n",
       "  </tbody>\n",
       "</table>\n",
       "</div>"
      ],
      "text/plain": [
       "   compactness  circularity  distance_circularity  radius_ratio  \\\n",
       "0           95           48                    83           178   \n",
       "1           91           41                    84           141   \n",
       "2          104           50                   106           209   \n",
       "3           93           41                    82           159   \n",
       "4           85           44                    70           205   \n",
       "5          107           57                   106           172   \n",
       "6           97           43                    73           173   \n",
       "7           90           43                    66           157   \n",
       "8           86           34                    62           140   \n",
       "9           93           44                    98           197   \n",
       "\n",
       "   pr.axis_aspect_ratio  max.length_aspect_ratio  scatter_ratio  \\\n",
       "0                    72                       10            162   \n",
       "1                    57                        9            149   \n",
       "2                    66                       10            207   \n",
       "3                    63                        9            144   \n",
       "4                   103                       52            149   \n",
       "5                    50                        6            255   \n",
       "6                    65                        6            153   \n",
       "7                    65                        9            137   \n",
       "8                    61                        7            122   \n",
       "9                    62                       11            183   \n",
       "\n",
       "   elongatedness  pr.axis_rectangularity  max.length_rectangularity  \\\n",
       "0             42                      20                        159   \n",
       "1             45                      19                        143   \n",
       "2             32                      23                        158   \n",
       "3             46                      19                        143   \n",
       "4             45                      19                        144   \n",
       "5             26                      28                        169   \n",
       "6             42                      19                        143   \n",
       "7             48                      18                        146   \n",
       "8             54                      17                        127   \n",
       "9             36                      22                        146   \n",
       "\n",
       "   major.axis_scaled_variance  minor.axis_scaled_variance  \\\n",
       "0                         176                         379   \n",
       "1                         170                         330   \n",
       "2                         223                         635   \n",
       "3                         160                         309   \n",
       "4                         241                         325   \n",
       "5                         280                         957   \n",
       "6                         176                         361   \n",
       "7                         162                         281   \n",
       "8                         141                         223   \n",
       "9                         202                         505   \n",
       "\n",
       "   gyration_scaled_radius  major.axis skewness  minor.axis_skewness  \\\n",
       "0                     184                   70                    6   \n",
       "1                     158                   72                    9   \n",
       "2                     220                   73                   14   \n",
       "3                     127                   63                    6   \n",
       "4                     188                  127                    9   \n",
       "5                     264                   85                    5   \n",
       "6                     172                   66                   13   \n",
       "7                     164                   67                    3   \n",
       "8                     112                   64                    2   \n",
       "9                     152                   64                    4   \n",
       "\n",
       "   minor.axis_kurtosis  major.axis_curtosis  hollows_ratio label  \n",
       "0                   16                  187            197   van  \n",
       "1                   14                  189            199   van  \n",
       "2                    9                  188            196  saab  \n",
       "3                   10                  199            207   van  \n",
       "4                   11                  180            183   bus  \n",
       "5                    9                  181            183   bus  \n",
       "6                    1                  200            204   bus  \n",
       "7                    3                  193            202   van  \n",
       "8                   14                  200            208   van  \n",
       "9                   14                  195            204  saab  "
      ]
     },
     "execution_count": 1,
     "metadata": {},
     "output_type": "execute_result"
    }
   ],
   "source": [
    "import glob\n",
    "import pandas as pd\n",
    "\n",
    "path = 'data'\n",
    "all_data = glob.glob(path + '/*.dat')\n",
    "\n",
    "l = []\n",
    "\n",
    "column_names = ['compactness', 'circularity', 'distance_circularity', 'radius_ratio', 'pr.axis_aspect_ratio',\n",
    "                'max.length_aspect_ratio', 'scatter_ratio', 'elongatedness', 'pr.axis_rectangularity', \n",
    "                'max.length_rectangularity', 'major.axis_scaled_variance', 'minor.axis_scaled_variance',\n",
    "                'gyration_scaled_radius', 'major.axis skewness', 'minor.axis_skewness', 'minor.axis_kurtosis',\n",
    "                'major.axis_curtosis', 'hollows_ratio', 'label']\n",
    "\n",
    "for filename in all_data:\n",
    "    df = pd.read_csv(filename, header=None, sep=' ', names = column_names, usecols= [num for num in range(19)])\n",
    "    l.append(df)\n",
    "    \n",
    "cars = pd.concat(l, axis=0, ignore_index=True)\n",
    "cars.head(10)"
   ]
  },
  {
   "cell_type": "markdown",
   "metadata": {},
   "source": [
    "Στη συνέχεια θα εξάγουμε χρήσιμες πληροφορίες για τα δεδομένα μας:"
   ]
  },
  {
   "cell_type": "code",
   "execution_count": 2,
   "metadata": {
    "scrolled": false
   },
   "outputs": [
    {
     "name": "stdout",
     "output_type": "stream",
     "text": [
      "<class 'pandas.core.frame.DataFrame'>\n",
      "RangeIndex: 846 entries, 0 to 845\n",
      "Data columns (total 19 columns):\n",
      "compactness                   846 non-null int64\n",
      "circularity                   846 non-null int64\n",
      "distance_circularity          846 non-null int64\n",
      "radius_ratio                  846 non-null int64\n",
      "pr.axis_aspect_ratio          846 non-null int64\n",
      "max.length_aspect_ratio       846 non-null int64\n",
      "scatter_ratio                 846 non-null int64\n",
      "elongatedness                 846 non-null int64\n",
      "pr.axis_rectangularity        846 non-null int64\n",
      "max.length_rectangularity     846 non-null int64\n",
      "major.axis_scaled_variance    846 non-null int64\n",
      "minor.axis_scaled_variance    846 non-null int64\n",
      "gyration_scaled_radius        846 non-null int64\n",
      "major.axis skewness           846 non-null int64\n",
      "minor.axis_skewness           846 non-null int64\n",
      "minor.axis_kurtosis           846 non-null int64\n",
      "major.axis_curtosis           846 non-null int64\n",
      "hollows_ratio                 846 non-null int64\n",
      "label                         846 non-null object\n",
      "dtypes: int64(18), object(1)\n",
      "memory usage: 125.7+ KB\n"
     ]
    }
   ],
   "source": [
    "cars.info()"
   ]
  },
  {
   "cell_type": "code",
   "execution_count": 3,
   "metadata": {},
   "outputs": [
    {
     "data": {
      "text/html": [
       "<div>\n",
       "<style scoped>\n",
       "    .dataframe tbody tr th:only-of-type {\n",
       "        vertical-align: middle;\n",
       "    }\n",
       "\n",
       "    .dataframe tbody tr th {\n",
       "        vertical-align: top;\n",
       "    }\n",
       "\n",
       "    .dataframe thead th {\n",
       "        text-align: right;\n",
       "    }\n",
       "</style>\n",
       "<table border=\"1\" class=\"dataframe\">\n",
       "  <thead>\n",
       "    <tr style=\"text-align: right;\">\n",
       "      <th></th>\n",
       "      <th>compactness</th>\n",
       "      <th>circularity</th>\n",
       "      <th>distance_circularity</th>\n",
       "      <th>radius_ratio</th>\n",
       "      <th>pr.axis_aspect_ratio</th>\n",
       "      <th>max.length_aspect_ratio</th>\n",
       "      <th>scatter_ratio</th>\n",
       "      <th>elongatedness</th>\n",
       "      <th>pr.axis_rectangularity</th>\n",
       "      <th>max.length_rectangularity</th>\n",
       "      <th>major.axis_scaled_variance</th>\n",
       "      <th>minor.axis_scaled_variance</th>\n",
       "      <th>gyration_scaled_radius</th>\n",
       "      <th>major.axis skewness</th>\n",
       "      <th>minor.axis_skewness</th>\n",
       "      <th>minor.axis_kurtosis</th>\n",
       "      <th>major.axis_curtosis</th>\n",
       "      <th>hollows_ratio</th>\n",
       "    </tr>\n",
       "  </thead>\n",
       "  <tbody>\n",
       "    <tr>\n",
       "      <th>count</th>\n",
       "      <td>846.000000</td>\n",
       "      <td>846.000000</td>\n",
       "      <td>846.000000</td>\n",
       "      <td>846.000000</td>\n",
       "      <td>846.000000</td>\n",
       "      <td>846.000000</td>\n",
       "      <td>846.000000</td>\n",
       "      <td>846.000000</td>\n",
       "      <td>846.000000</td>\n",
       "      <td>846.000000</td>\n",
       "      <td>846.000000</td>\n",
       "      <td>846.000000</td>\n",
       "      <td>846.00000</td>\n",
       "      <td>846.000000</td>\n",
       "      <td>846.000000</td>\n",
       "      <td>846.000000</td>\n",
       "      <td>846.000000</td>\n",
       "      <td>846.000000</td>\n",
       "    </tr>\n",
       "    <tr>\n",
       "      <th>mean</th>\n",
       "      <td>93.678487</td>\n",
       "      <td>44.861702</td>\n",
       "      <td>82.088652</td>\n",
       "      <td>168.940898</td>\n",
       "      <td>61.693853</td>\n",
       "      <td>8.567376</td>\n",
       "      <td>168.839243</td>\n",
       "      <td>40.933806</td>\n",
       "      <td>20.582742</td>\n",
       "      <td>147.998818</td>\n",
       "      <td>188.625296</td>\n",
       "      <td>439.911348</td>\n",
       "      <td>174.70331</td>\n",
       "      <td>72.462175</td>\n",
       "      <td>6.377069</td>\n",
       "      <td>12.599291</td>\n",
       "      <td>188.932624</td>\n",
       "      <td>195.632388</td>\n",
       "    </tr>\n",
       "    <tr>\n",
       "      <th>std</th>\n",
       "      <td>8.234474</td>\n",
       "      <td>6.169866</td>\n",
       "      <td>15.771533</td>\n",
       "      <td>33.472183</td>\n",
       "      <td>7.888251</td>\n",
       "      <td>4.601217</td>\n",
       "      <td>33.244978</td>\n",
       "      <td>7.811560</td>\n",
       "      <td>2.592138</td>\n",
       "      <td>14.515652</td>\n",
       "      <td>31.394837</td>\n",
       "      <td>176.692614</td>\n",
       "      <td>32.54649</td>\n",
       "      <td>7.486974</td>\n",
       "      <td>4.918353</td>\n",
       "      <td>8.931240</td>\n",
       "      <td>6.163949</td>\n",
       "      <td>7.438797</td>\n",
       "    </tr>\n",
       "    <tr>\n",
       "      <th>min</th>\n",
       "      <td>73.000000</td>\n",
       "      <td>33.000000</td>\n",
       "      <td>40.000000</td>\n",
       "      <td>104.000000</td>\n",
       "      <td>47.000000</td>\n",
       "      <td>2.000000</td>\n",
       "      <td>112.000000</td>\n",
       "      <td>26.000000</td>\n",
       "      <td>17.000000</td>\n",
       "      <td>118.000000</td>\n",
       "      <td>130.000000</td>\n",
       "      <td>184.000000</td>\n",
       "      <td>109.00000</td>\n",
       "      <td>59.000000</td>\n",
       "      <td>0.000000</td>\n",
       "      <td>0.000000</td>\n",
       "      <td>176.000000</td>\n",
       "      <td>181.000000</td>\n",
       "    </tr>\n",
       "    <tr>\n",
       "      <th>25%</th>\n",
       "      <td>87.000000</td>\n",
       "      <td>40.000000</td>\n",
       "      <td>70.000000</td>\n",
       "      <td>141.000000</td>\n",
       "      <td>57.000000</td>\n",
       "      <td>7.000000</td>\n",
       "      <td>146.250000</td>\n",
       "      <td>33.000000</td>\n",
       "      <td>19.000000</td>\n",
       "      <td>137.000000</td>\n",
       "      <td>167.000000</td>\n",
       "      <td>318.250000</td>\n",
       "      <td>149.00000</td>\n",
       "      <td>67.000000</td>\n",
       "      <td>2.000000</td>\n",
       "      <td>5.000000</td>\n",
       "      <td>184.000000</td>\n",
       "      <td>190.250000</td>\n",
       "    </tr>\n",
       "    <tr>\n",
       "      <th>50%</th>\n",
       "      <td>93.000000</td>\n",
       "      <td>44.000000</td>\n",
       "      <td>80.000000</td>\n",
       "      <td>167.000000</td>\n",
       "      <td>61.000000</td>\n",
       "      <td>8.000000</td>\n",
       "      <td>157.000000</td>\n",
       "      <td>43.000000</td>\n",
       "      <td>20.000000</td>\n",
       "      <td>146.000000</td>\n",
       "      <td>178.500000</td>\n",
       "      <td>364.000000</td>\n",
       "      <td>173.00000</td>\n",
       "      <td>71.500000</td>\n",
       "      <td>6.000000</td>\n",
       "      <td>11.000000</td>\n",
       "      <td>188.000000</td>\n",
       "      <td>197.000000</td>\n",
       "    </tr>\n",
       "    <tr>\n",
       "      <th>75%</th>\n",
       "      <td>100.000000</td>\n",
       "      <td>49.000000</td>\n",
       "      <td>98.000000</td>\n",
       "      <td>195.000000</td>\n",
       "      <td>65.000000</td>\n",
       "      <td>10.000000</td>\n",
       "      <td>198.000000</td>\n",
       "      <td>46.000000</td>\n",
       "      <td>23.000000</td>\n",
       "      <td>159.000000</td>\n",
       "      <td>217.000000</td>\n",
       "      <td>587.000000</td>\n",
       "      <td>198.00000</td>\n",
       "      <td>75.000000</td>\n",
       "      <td>9.000000</td>\n",
       "      <td>19.000000</td>\n",
       "      <td>193.000000</td>\n",
       "      <td>201.000000</td>\n",
       "    </tr>\n",
       "    <tr>\n",
       "      <th>max</th>\n",
       "      <td>119.000000</td>\n",
       "      <td>59.000000</td>\n",
       "      <td>112.000000</td>\n",
       "      <td>333.000000</td>\n",
       "      <td>138.000000</td>\n",
       "      <td>55.000000</td>\n",
       "      <td>265.000000</td>\n",
       "      <td>61.000000</td>\n",
       "      <td>29.000000</td>\n",
       "      <td>188.000000</td>\n",
       "      <td>320.000000</td>\n",
       "      <td>1018.000000</td>\n",
       "      <td>268.00000</td>\n",
       "      <td>135.000000</td>\n",
       "      <td>22.000000</td>\n",
       "      <td>41.000000</td>\n",
       "      <td>206.000000</td>\n",
       "      <td>211.000000</td>\n",
       "    </tr>\n",
       "  </tbody>\n",
       "</table>\n",
       "</div>"
      ],
      "text/plain": [
       "       compactness  circularity  distance_circularity  radius_ratio  \\\n",
       "count   846.000000   846.000000            846.000000    846.000000   \n",
       "mean     93.678487    44.861702             82.088652    168.940898   \n",
       "std       8.234474     6.169866             15.771533     33.472183   \n",
       "min      73.000000    33.000000             40.000000    104.000000   \n",
       "25%      87.000000    40.000000             70.000000    141.000000   \n",
       "50%      93.000000    44.000000             80.000000    167.000000   \n",
       "75%     100.000000    49.000000             98.000000    195.000000   \n",
       "max     119.000000    59.000000            112.000000    333.000000   \n",
       "\n",
       "       pr.axis_aspect_ratio  max.length_aspect_ratio  scatter_ratio  \\\n",
       "count            846.000000               846.000000     846.000000   \n",
       "mean              61.693853                 8.567376     168.839243   \n",
       "std                7.888251                 4.601217      33.244978   \n",
       "min               47.000000                 2.000000     112.000000   \n",
       "25%               57.000000                 7.000000     146.250000   \n",
       "50%               61.000000                 8.000000     157.000000   \n",
       "75%               65.000000                10.000000     198.000000   \n",
       "max              138.000000                55.000000     265.000000   \n",
       "\n",
       "       elongatedness  pr.axis_rectangularity  max.length_rectangularity  \\\n",
       "count     846.000000              846.000000                 846.000000   \n",
       "mean       40.933806               20.582742                 147.998818   \n",
       "std         7.811560                2.592138                  14.515652   \n",
       "min        26.000000               17.000000                 118.000000   \n",
       "25%        33.000000               19.000000                 137.000000   \n",
       "50%        43.000000               20.000000                 146.000000   \n",
       "75%        46.000000               23.000000                 159.000000   \n",
       "max        61.000000               29.000000                 188.000000   \n",
       "\n",
       "       major.axis_scaled_variance  minor.axis_scaled_variance  \\\n",
       "count                  846.000000                  846.000000   \n",
       "mean                   188.625296                  439.911348   \n",
       "std                     31.394837                  176.692614   \n",
       "min                    130.000000                  184.000000   \n",
       "25%                    167.000000                  318.250000   \n",
       "50%                    178.500000                  364.000000   \n",
       "75%                    217.000000                  587.000000   \n",
       "max                    320.000000                 1018.000000   \n",
       "\n",
       "       gyration_scaled_radius  major.axis skewness  minor.axis_skewness  \\\n",
       "count               846.00000           846.000000           846.000000   \n",
       "mean                174.70331            72.462175             6.377069   \n",
       "std                  32.54649             7.486974             4.918353   \n",
       "min                 109.00000            59.000000             0.000000   \n",
       "25%                 149.00000            67.000000             2.000000   \n",
       "50%                 173.00000            71.500000             6.000000   \n",
       "75%                 198.00000            75.000000             9.000000   \n",
       "max                 268.00000           135.000000            22.000000   \n",
       "\n",
       "       minor.axis_kurtosis  major.axis_curtosis  hollows_ratio  \n",
       "count           846.000000           846.000000     846.000000  \n",
       "mean             12.599291           188.932624     195.632388  \n",
       "std               8.931240             6.163949       7.438797  \n",
       "min               0.000000           176.000000     181.000000  \n",
       "25%               5.000000           184.000000     190.250000  \n",
       "50%              11.000000           188.000000     197.000000  \n",
       "75%              19.000000           193.000000     201.000000  \n",
       "max              41.000000           206.000000     211.000000  "
      ]
     },
     "execution_count": 3,
     "metadata": {},
     "output_type": "execute_result"
    }
   ],
   "source": [
    "cars.describe()"
   ]
  },
  {
   "cell_type": "code",
   "execution_count": 97,
   "metadata": {},
   "outputs": [
    {
     "data": {
      "text/plain": [
       "(846, 19)"
      ]
     },
     "execution_count": 97,
     "metadata": {},
     "output_type": "execute_result"
    }
   ],
   "source": [
    "cars.shape"
   ]
  },
  {
   "cell_type": "markdown",
   "metadata": {},
   "source": [
    "Παρατηρούμε ότι έχουμε στη διάθεσή μας 846 δείγματα, καθένα από τα οποία συνοδεύεται από 18 συνολικά χαρακτηριστικά. Κατά συνέπεια ο πίνακας των δεδομένων μας αποτελείται από 19 στήλες, δεδομένου ότι η τελευταία αντιστοιχεί στις ετικέτες των κατηγοριών. Τα χαρακτηριστικά αυτά είναι αριθμοί, ενώ δεν υπάρχει στήλη στην οποία να απουσιάζουν τιμές. Σημειώνουμε ότι η στήλη των ετικετών περιέχει τιμές σε μορφή κειμένου, τις οποίες όμως δε χρειάζεται να κωδικοποιήσουμε σε αριθμούς, εφόσον είναι διαφορετικές μεταξύ τους."
   ]
  },
  {
   "cell_type": "code",
   "execution_count": 4,
   "metadata": {},
   "outputs": [
    {
     "data": {
      "text/plain": [
       "bus     25.768322\n",
       "saab    25.650118\n",
       "opel    25.059102\n",
       "van     23.522459\n",
       "Name: label, dtype: float64"
      ]
     },
     "execution_count": 4,
     "metadata": {},
     "output_type": "execute_result"
    }
   ],
   "source": [
    "cars['label'].value_counts(normalize=True) * 100"
   ]
  },
  {
   "cell_type": "markdown",
   "metadata": {},
   "source": [
    "Οι κατηγορίες των οχημάτων μας είναι 4 και φέρουν τα ονόματα: _Bus, Van, Opel_ και _Saab_. Έχουμε ισορροπία στο σύνολο των δεδομένων, αφού όπως υπολογίζουμε κάθε κατηγορία συναστά περίπου το 1/4 του Dataset."
   ]
  },
  {
   "cell_type": "markdown",
   "metadata": {},
   "source": [
    "---\n",
    "\n",
    "## Διαχωρισμός Δεδομένων Εκπαίδευσης & Ελέγχου"
   ]
  },
  {
   "cell_type": "markdown",
   "metadata": {},
   "source": [
    "Αν και οι κατηγορίες μας είναι ισορροπημένες στο σύνολο των δεδομένων μας, για το διαχωρισμό αυτών θα χρησιμοποιήσουμε τη _StratifiedShuffleSplit_ ώστε να εξασφαλίσουμε ότι τα δεδομένα εκπαίδευσης θα αποτελούνται από αντιπροσωπευτικό πλήθος κατηγοριών με το ολικό Dataset:"
   ]
  },
  {
   "cell_type": "code",
   "execution_count": 5,
   "metadata": {},
   "outputs": [
    {
     "data": {
      "text/plain": [
       "bus     25.739645\n",
       "saab    25.591716\n",
       "opel    25.147929\n",
       "van     23.520710\n",
       "Name: label, dtype: float64"
      ]
     },
     "execution_count": 5,
     "metadata": {},
     "output_type": "execute_result"
    }
   ],
   "source": [
    "import numpy as np\n",
    "from sklearn.model_selection import StratifiedShuffleSplit\n",
    "\n",
    "split = StratifiedShuffleSplit(n_splits = 1, test_size = 0.2)\n",
    "for train_index, test_index in split.split(cars, cars['label']):\n",
    "    train_set = cars.reindex(train_index)\n",
    "    test_set = cars.reindex(test_index)\n",
    "    \n",
    "train_set['label'].value_counts() / len(train_set) * 100"
   ]
  },
  {
   "cell_type": "markdown",
   "metadata": {},
   "source": [
    "Τέλος, θα διαχωρίσουμε τα χαρακτηριστικά των δεδομένων μας από την κατηγορία στην οποία ανήκουν:"
   ]
  },
  {
   "cell_type": "code",
   "execution_count": 6,
   "metadata": {},
   "outputs": [],
   "source": [
    "# Training Set\n",
    "cars_train = train_set.drop('label', axis=1)\n",
    "cars_train_labels = train_set['label'].copy()\n",
    "\n",
    "# Test Set\n",
    "cars_test = test_set.drop('label', axis=1)\n",
    "cars_test_labels = test_set['label'].copy()"
   ]
  },
  {
   "cell_type": "markdown",
   "metadata": {},
   "source": [
    "---\n",
    "\n",
    "## Baseline Classification"
   ]
  },
  {
   "cell_type": "markdown",
   "metadata": {},
   "source": [
    "- #### DummyClassifier"
   ]
  },
  {
   "cell_type": "markdown",
   "metadata": {},
   "source": [
    "Αρχικά θα εκπαιδεύσουμε έναν _DummyClassifier_ χωρίς να μεταβάλλουμε τις παραμέτρους αρχικοποίησής του:"
   ]
  },
  {
   "cell_type": "code",
   "execution_count": 9,
   "metadata": {},
   "outputs": [
    {
     "data": {
      "text/plain": [
       "26.47058823529412"
      ]
     },
     "execution_count": 9,
     "metadata": {},
     "output_type": "execute_result"
    }
   ],
   "source": [
    "from sklearn.dummy import DummyClassifier\n",
    "from sklearn.metrics import accuracy_score\n",
    "\n",
    "dc_default = DummyClassifier() # default strategy: stratified\n",
    "dc_default.fit(cars_train, cars_train_labels) # fitting on train_set\n",
    "\n",
    "cars_predictions = dc_default.predict(cars_test) # predicting on test_set\n",
    "\n",
    "target_names = dc_default.classes_.tolist() # fetch class names\n",
    "\n",
    "accuracy_score(cars_test_labels, cars_predictions) * 100"
   ]
  },
  {
   "cell_type": "markdown",
   "metadata": {},
   "source": [
    "Παρατηρούμε ότι η ακρίβεια του _DummyClassifier_ είναι αρκετά χαμηλή, με ποσοστό περίπου 21%.\n",
    "\n",
    "Συνεχίζοντας, θα πάρουμε περισσότερες πληροφόριες για τη διαδικασία ταξινόμησης, υπολογίζοντας _Confusion Table_ καθώς και τις τιμές _Precision, Recall_ και _F1-Score_ :"
   ]
  },
  {
   "cell_type": "code",
   "execution_count": 11,
   "metadata": {},
   "outputs": [
    {
     "data": {
      "image/png": "[encoded data removed]",
      "text/plain": [
       "<Figure size 576x432 with 2 Axes>"
      ]
     },
     "metadata": {
      "needs_background": "light"
     },
     "output_type": "display_data"
    }
   ],
   "source": [
    "from sklearn.metrics import confusion_matrix\n",
    "import matplotlib.pyplot as plt\n",
    "from matplotlib import cm\n",
    "\n",
    "matrix = confusion_matrix(cars_test_labels, cars_predictions)\n",
    "\n",
    "fig = plt.figure(figsize=(8,6))\n",
    "ax = fig.add_subplot(111)\n",
    "cax = ax.matshow(matrix, cmap=cm.get_cmap('PuBu'))\n",
    "fig.colorbar(cax)\n",
    "\n",
    "ax.set_xticklabels([''] + target_names)\n",
    "ax.set_yticklabels([''] + target_names)\n",
    "\n",
    "plt.show()"
   ]
  },
  {
   "cell_type": "code",
   "execution_count": 12,
   "metadata": {},
   "outputs": [
    {
     "data": {
      "text/plain": [
       "<Figure size 432x288 with 0 Axes>"
      ]
     },
     "metadata": {},
     "output_type": "display_data"
    }
   ],
   "source": [
    "plt.clf()"
   ]
  },
  {
   "cell_type": "code",
   "execution_count": 13,
   "metadata": {},
   "outputs": [
    {
     "name": "stdout",
     "output_type": "stream",
     "text": [
      "F1-Micro Average: 0.2647058823529412\n",
      "F1-Macro Average: 0.2635550325091468\n",
      "\n",
      "              precision    recall  f1-score   support\n",
      "\n",
      "         bus       0.18      0.18      0.18        44\n",
      "        opel       0.32      0.31      0.31        42\n",
      "        saab       0.30      0.34      0.32        44\n",
      "         van       0.26      0.23      0.24        40\n",
      "\n",
      "    accuracy                           0.26       170\n",
      "   macro avg       0.26      0.26      0.26       170\n",
      "weighted avg       0.26      0.26      0.26       170\n",
      "\n"
     ]
    }
   ],
   "source": [
    "from sklearn.metrics import f1_score\n",
    "from sklearn.metrics import classification_report\n",
    "from sklearn.metrics import precision_recall_fscore_support\n",
    "\n",
    "dc_f1_micro = f1_score(cars_test_labels, cars_predictions, average='micro')\n",
    "dc_f1_macro = f1_score(cars_test_labels, cars_predictions, average='macro')\n",
    "\n",
    "print(\"F1-Micro Average: \" + str(dc_f1_micro))\n",
    "print(\"F1-Macro Average: \" + str(dc_f1_macro) + \"\\n\")\n",
    "\n",
    "print(classification_report(cars_test_labels, cars_predictions))"
   ]
  },
  {
   "cell_type": "markdown",
   "metadata": {},
   "source": [
    "Μελετώντας τον πίνακα σύγχυσης διασταυρώνουμε το ποσοστό επιτυχίας που σημειώσαμε παραπάνω, παρατηρώντας πως η κύρια διαγώνιος \n",
    "δεν παρουσιάζει εμφανώς έντονες τιμές. Σχετικά με τα _F1-Macro_ και _F1-Micro_ αναμένουμε να έχουν σχεδόν ίδιες τιμές, επειδή το πλήθος των δεδομένων μας ήταν ισορροπημένο ως προς τις κατηγορίες οχημάτων και κατά συνέπεια δε δημιουργείται κάποια κλίση ως προς κάποια κατηγορία. \n",
    "\n",
    "Αξίζει να σημειώσουμε ότι οι κατηγορίες _Bus_ και _Van_ εμφανίζουν τα υψηλότερα ποσοστά ακρίβειας και ανάκλισης. Για παράδειγμα, εάν το σύστημά μας προβλέψει πως μία εικόνα είναι λεωφορείο είναι σωστό με ποσοστο 23%, ενώ για τις συνολικές λήψεις φορτηγών είναι ικανό να ανιχνεύει μόλις το 25% αυτών. Η παραπάνω παρατήρηση είναι αναμενόμενη, εάν λάβουμε υπόψην ότι οι δύο αυτές κατηγορίες οχημάτων είναι αισθητά διαφορετικές τόσο μεταξύ τους, όσο και με τα παραδοσιακά αμάξια _0pel_ και _Saab_ καθιστώντας το διαχωρισμό τους περισσότερο προφανή."
   ]
  },
  {
   "cell_type": "markdown",
   "metadata": {},
   "source": [
    "- #### KNeighborsClassifier"
   ]
  },
  {
   "cell_type": "markdown",
   "metadata": {},
   "source": [
    "Θα συνεχίσουμε με την εκπαίδευση ενός προεπιλεγμένου _KNeighborsClassifier_ :"
   ]
  },
  {
   "cell_type": "code",
   "execution_count": 15,
   "metadata": {},
   "outputs": [
    {
     "data": {
      "text/plain": [
       "67.64705882352942"
      ]
     },
     "execution_count": 15,
     "metadata": {},
     "output_type": "execute_result"
    }
   ],
   "source": [
    "from sklearn.neighbors import KNeighborsClassifier\n",
    "\n",
    "knn = KNeighborsClassifier() # default n: 5\n",
    "knn.fit(cars_train, cars_train_labels) # fitting on train_set\n",
    "\n",
    "cars_predictions = knn.predict(cars_test) # predicting on test_set\n",
    "\n",
    "target_names = knn.classes_.tolist() # fetch class names\n",
    "\n",
    "accuracy_score(cars_test_labels, cars_predictions) * 100"
   ]
  },
  {
   "cell_type": "markdown",
   "metadata": {},
   "source": [
    "Η ακρίβεια σε αυτήν την περίπτωση είναι αισθητά υψηλότερη από προηγουμένως. Ας εξετάσουμε τις ανάλογες μετρικές απόδοσης:"
   ]
  },
  {
   "cell_type": "code",
   "execution_count": 16,
   "metadata": {},
   "outputs": [
    {
     "data": {
      "image/png": "[encoded data removed]",
      "text/plain": [
       "<Figure size 576x432 with 2 Axes>"
      ]
     },
     "metadata": {
      "needs_background": "light"
     },
     "output_type": "display_data"
    }
   ],
   "source": [
    "matrix = confusion_matrix(cars_test_labels, cars_predictions)\n",
    "\n",
    "fig = plt.figure(figsize=(8,6))\n",
    "ax = fig.add_subplot(111)\n",
    "cax = ax.matshow(matrix, cmap=cm.get_cmap('PuBu'))\n",
    "fig.colorbar(cax)\n",
    "\n",
    "ax.set_xticklabels([''] + target_names)\n",
    "ax.set_yticklabels([''] + target_names)\n",
    "\n",
    "plt.show()"
   ]
  },
  {
   "cell_type": "code",
   "execution_count": 17,
   "metadata": {},
   "outputs": [
    {
     "data": {
      "text/plain": [
       "<Figure size 432x288 with 0 Axes>"
      ]
     },
     "metadata": {},
     "output_type": "display_data"
    }
   ],
   "source": [
    "plt.clf()"
   ]
  },
  {
   "cell_type": "code",
   "execution_count": 18,
   "metadata": {},
   "outputs": [
    {
     "name": "stdout",
     "output_type": "stream",
     "text": [
      "F1-Micro Average: 0.6764705882352942\n",
      "F1-Macro Average: 0.6760494865485054\n",
      "\n",
      "              precision    recall  f1-score   support\n",
      "\n",
      "         bus       0.83      0.86      0.84        44\n",
      "        opel       0.47      0.45      0.46        42\n",
      "        saab       0.49      0.48      0.48        44\n",
      "         van       0.90      0.93      0.91        40\n",
      "\n",
      "    accuracy                           0.68       170\n",
      "   macro avg       0.67      0.68      0.68       170\n",
      "weighted avg       0.67      0.68      0.67       170\n",
      "\n"
     ]
    }
   ],
   "source": [
    "kn_f1_micro = f1_score(cars_test_labels, cars_predictions, average='micro')\n",
    "kn_f1_macro = f1_score(cars_test_labels, cars_predictions, average='macro')\n",
    "\n",
    "print(\"F1-Micro Average: \" + str(kn_f1_micro))\n",
    "print(\"F1-Macro Average: \" + str(kn_f1_macro) + \"\\n\")\n",
    "\n",
    "print(classification_report(cars_test_labels, cars_predictions))"
   ]
  },
  {
   "cell_type": "markdown",
   "metadata": {},
   "source": [
    "Ο πίνακας σύγχυσης για το δεδομένο ταξινομητή παρατηρούμε ότι είναι περισσότερο διαγωνιοποιημένος, με υψηλά ποσοστά ακρίβειας για τις κατηγορίες _Bus_ και _Van_ , όπως αναμέναμε. Ανάλογη αύξηση σημειώνουμε και στις τιμές του F1-score, με παραπλήσιες τιμές για Macro και Micro.\n",
    "Τέλος σημειώνουμε ότι αν και ο ταξινομητής παρουσιάζει βελτιωμένη απόδοση με προηγουμένως, αντιμετωπίζει και αυτός δυσκολία στο διαχωρισμό των δύο παραδοσιακών αυτοκινήτων _Opel_ και _Saab_ , δεδομένου ότι μπορεί να αναγνωρίσει μονάχα το 38% και 45% αυτών, αντίστοιχα."
   ]
  },
  {
   "cell_type": "markdown",
   "metadata": {},
   "source": [
    "Ολοκληρώντας την πρώτη μελέτη των δεδομένων μας με τους _Dummy_ και _KNeighbors_ ταξινομητές μας, παρουσιάζουμε παρακάτω ένα διάγραμμα συγκρίνοντας τις τιμές των βαθμολογιών F1 ξεχωριστά για κάθε ταξινομητή:"
   ]
  },
  {
   "cell_type": "code",
   "execution_count": 19,
   "metadata": {},
   "outputs": [
    {
     "data": {
      "image/png": "[encoded data removed]",
      "text/plain": [
       "<Figure size 576x432 with 1 Axes>"
      ]
     },
     "metadata": {
      "needs_background": "light"
     },
     "output_type": "display_data"
    }
   ],
   "source": [
    "labels = ['DummyClassifier', 'KNeighbors']\n",
    "f1_micro = [round(dc_f1_micro,3), round(kn_f1_micro,3)]\n",
    "f1_macro = [round(dc_f1_macro,3), round(kn_f1_macro,3)]\n",
    "\n",
    "x = np.arange(len(labels))  # the label locations\n",
    "width = 0.25  # the width of the bars\n",
    "\n",
    "fig, ax = plt.subplots(figsize=(8,6))\n",
    "rects1 = ax.bar(x - width/2, f1_micro, width, label='F1-Micro Score', color=(0.2, 0.4, 0.6, 0.3))\n",
    "rects2 = ax.bar(x + width/2, f1_macro, width, label='F1-Macro Score', color=(0.2, 0.4, 0.6, 0.9))\n",
    "\n",
    "ax.set_ylabel('Scores')\n",
    "ax.set_title('F1-Score Comparison')\n",
    "ax.set_xticks(x)\n",
    "ax.set_xticklabels(labels)\n",
    "ax.legend()\n",
    "\n",
    "def autolabel(rects):\n",
    "    \"\"\"Attach a text label above each bar in *rects*, displaying its height.\"\"\"\n",
    "    for rect in rects:\n",
    "        height = rect.get_height()\n",
    "        ax.annotate('{}'.format(height),\n",
    "                    xy=(rect.get_x() + rect.get_width() / 2, height),\n",
    "                    xytext=(0, 3),  # 3 points vertical offset\n",
    "                    textcoords=\"offset points\",\n",
    "                    ha='center', va='bottom')\n",
    "\n",
    "autolabel(rects1)\n",
    "autolabel(rects2)\n",
    "\n",
    "fig.tight_layout()\n",
    "\n",
    "plt.show()"
   ]
  },
  {
   "cell_type": "markdown",
   "metadata": {},
   "source": [
    "---\n",
    "\n",
    "## Βελτιστοποίηση Ταξινομητών"
   ]
  },
  {
   "cell_type": "markdown",
   "metadata": {},
   "source": [
    "Προς βελτίωση των ταξινομητών μας θα ασχοληθούμε αρχικά με την προεπεξεργασία των δεδομένων:"
   ]
  },
  {
   "cell_type": "markdown",
   "metadata": {},
   "source": [
    "- ### StandardScaler"
   ]
  },
  {
   "cell_type": "code",
   "execution_count": 71,
   "metadata": {},
   "outputs": [],
   "source": [
    "from sklearn.preprocessing import StandardScaler\n",
    "\n",
    "std_scaler = StandardScaler()\n",
    "\n",
    "cars_train_scaled = std_scaler.fit_transform(cars_train)\n",
    "cars_test_scaled = std_scaler.transform(cars_test)"
   ]
  },
  {
   "cell_type": "markdown",
   "metadata": {},
   "source": [
    "- ### PCA"
   ]
  },
  {
   "cell_type": "code",
   "execution_count": 73,
   "metadata": {},
   "outputs": [],
   "source": [
    "from sklearn.decomposition import PCA\n",
    "\n",
    "pca = PCA(n_components=0.99)\n",
    "\n",
    "cars_train_scaled_reduced = pca.fit_transform(cars_train_scaled)\n",
    "cars_test_scaled_reduced = pca.transform(cars_test_scaled)"
   ]
  },
  {
   "cell_type": "code",
   "execution_count": 59,
   "metadata": {},
   "outputs": [
    {
     "data": {
      "text/plain": [
       "(676, 11)"
      ]
     },
     "execution_count": 59,
     "metadata": {},
     "output_type": "execute_result"
    }
   ],
   "source": [
    "cars_train_scaled_reduced.shape"
   ]
  },
  {
   "cell_type": "code",
   "execution_count": 106,
   "metadata": {},
   "outputs": [],
   "source": [
    "from random import seed\n",
    "from random import randrange\n",
    "\n",
    "knn = KNeighborsClassifier(n_neighbors=5)\n",
    "\n",
    "def cross_validation_split(dataset, datalabels, folds=3):\n",
    "    dataset_split = list()\n",
    "    datalabels_split = list()\n",
    "    dataset_copy = list(dataset)\n",
    "    datalabels_copy = list(datalabels)\n",
    "    fold_size = int(len(dataset) / folds)\n",
    "    for i in range(folds):\n",
    "        fold = list()\n",
    "        fold_ = list()\n",
    "        while len(fold) < fold_size:\n",
    "            index = randrange(len(dataset_copy))\n",
    "            fold.append(dataset_copy.pop(index))\n",
    "            fold_.append(datalabels_copy.pop(index))\n",
    "        dataset_split.append(fold)\n",
    "        datalabels_split.append(fold_)\n",
    "    return dataset_split, datalabels_split\n",
    "\n",
    "k, l = cross_validation_split(cars_train.values, cars_train_labels.values, 5)"
   ]
  }
 ],
 "metadata": {
  "kernelspec": {
   "display_name": "Python 3",
   "language": "python",
   "name": "python3"
  },
  "language_info": {
   "codemirror_mode": {
    "name": "ipython",
    "version": 3
   },
   "file_extension": ".py",
   "mimetype": "text/x-python",
   "name": "python",
   "nbconvert_exporter": "python",
   "pygments_lexer": "ipython3",
   "version": "3.7.5"
  }
 },
 "nbformat": 4,
 "nbformat_minor": 2
}
