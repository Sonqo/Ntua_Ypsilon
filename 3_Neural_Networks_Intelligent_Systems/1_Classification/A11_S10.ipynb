{
 "cells": [
  {
   "cell_type": "markdown",
   "metadata": {},
   "source": [
    "## Στοιχεία Ομάδας"
   ]
  },
  {
   "cell_type": "markdown",
   "metadata": {},
   "source": [
    "Αριθμός Ομάδας: Μ.Α.11\n",
    "\n",
    "-  Γκαμουλάκος Παρασκευάς:\n",
    "\n",
    "-  Καρυπιάδης Ευστράτιος: _03114911_\n",
    "\n",
    "-  Μήτρο Νικόλαος:"
   ]
  },
  {
   "cell_type": "code",
   "execution_count": 1,
   "metadata": {},
   "outputs": [],
   "source": [
    "import warnings\n",
    "warnings.filterwarnings('ignore')"
   ]
  },
  {
   "cell_type": "markdown",
   "metadata": {},
   "source": [
    "---\n",
    "\n",
    "## Εισαγωγή του Dataset"
   ]
  },
  {
   "cell_type": "markdown",
   "metadata": {},
   "source": [
    "Το dataset μας προκύπτει έπειτα απο την εφαρμογή του συστήματος _HIPS (Hierarchical Image Processing System)_ σε σειρά εικονών, οι οποίες ελήφθησαν για τεσσερις διαφορετικές κατηγορίες οχημάτων κάτω από τις ίδιες συνθήκες φωτισμού και γωνίας λήψης. Τα χαρακτηριστικά που εξήχθησαν αντιστοιχούν σε μετρικές ψηφιακής περιγραφής των εικόνων και αποτελούν τις στήλες των δεδομένων μας. Εκμεταλλευόμενοι τα παραπάνω χαρακτηριστικά θα επιχειρήσουμε να ταξινομήσουμε τα δείγματα που έχουμε στην διάθεσή μας στην αντίστοιχη κατηγορία οχήματος που ανήκουν.\n",
    "\n",
    "Τα αρχεία δεδομένων μας είναι χωρισμένα σε εννέα διαφορετικά αρχεία τα οποία θα ομαδοποιήσουμε σε έναν πίνακα. Αυτό επιτυγχάνεται με το σειριακό διάβασμα των αρχείων και την τελική ενοποίηση όλων των δεδομένων σε ένα Dataframe. Δεν υπάρχει αρίθμηση για κάθε διαφορετικό δείγμα-γραμμή, αλλά ούτε ονομασία για τα χαρακτηριστικά-στήλες μας. Για αυτό το λόγο επιλέγουμε να ονοματίσουμε της στήλες των δεδομένων μας, συμβουλεύομενοι την περιγραφή του dataset."
   ]
  },
  {
   "cell_type": "code",
   "execution_count": 2,
   "metadata": {},
   "outputs": [
    {
     "data": {
      "text/html": [
       "<div>\n",
       "<style scoped>\n",
       "    .dataframe tbody tr th:only-of-type {\n",
       "        vertical-align: middle;\n",
       "    }\n",
       "\n",
       "    .dataframe tbody tr th {\n",
       "        vertical-align: top;\n",
       "    }\n",
       "\n",
       "    .dataframe thead th {\n",
       "        text-align: right;\n",
       "    }\n",
       "</style>\n",
       "<table border=\"1\" class=\"dataframe\">\n",
       "  <thead>\n",
       "    <tr style=\"text-align: right;\">\n",
       "      <th></th>\n",
       "      <th>compactness</th>\n",
       "      <th>circularity</th>\n",
       "      <th>distance_circularity</th>\n",
       "      <th>radius_ratio</th>\n",
       "      <th>pr.axis_aspect_ratio</th>\n",
       "      <th>max.length_aspect_ratio</th>\n",
       "      <th>scatter_ratio</th>\n",
       "      <th>elongatedness</th>\n",
       "      <th>pr.axis_rectangularity</th>\n",
       "      <th>max.length_rectangularity</th>\n",
       "      <th>major.axis_scaled_variance</th>\n",
       "      <th>minor.axis_scaled_variance</th>\n",
       "      <th>gyration_scaled_radius</th>\n",
       "      <th>major.axis skewness</th>\n",
       "      <th>minor.axis_skewness</th>\n",
       "      <th>minor.axis_kurtosis</th>\n",
       "      <th>major.axis_curtosis</th>\n",
       "      <th>hollows_ratio</th>\n",
       "      <th>label</th>\n",
       "    </tr>\n",
       "  </thead>\n",
       "  <tbody>\n",
       "    <tr>\n",
       "      <th>0</th>\n",
       "      <td>95</td>\n",
       "      <td>48</td>\n",
       "      <td>83</td>\n",
       "      <td>178</td>\n",
       "      <td>72</td>\n",
       "      <td>10</td>\n",
       "      <td>162</td>\n",
       "      <td>42</td>\n",
       "      <td>20</td>\n",
       "      <td>159</td>\n",
       "      <td>176</td>\n",
       "      <td>379</td>\n",
       "      <td>184</td>\n",
       "      <td>70</td>\n",
       "      <td>6</td>\n",
       "      <td>16</td>\n",
       "      <td>187</td>\n",
       "      <td>197</td>\n",
       "      <td>van</td>\n",
       "    </tr>\n",
       "    <tr>\n",
       "      <th>1</th>\n",
       "      <td>91</td>\n",
       "      <td>41</td>\n",
       "      <td>84</td>\n",
       "      <td>141</td>\n",
       "      <td>57</td>\n",
       "      <td>9</td>\n",
       "      <td>149</td>\n",
       "      <td>45</td>\n",
       "      <td>19</td>\n",
       "      <td>143</td>\n",
       "      <td>170</td>\n",
       "      <td>330</td>\n",
       "      <td>158</td>\n",
       "      <td>72</td>\n",
       "      <td>9</td>\n",
       "      <td>14</td>\n",
       "      <td>189</td>\n",
       "      <td>199</td>\n",
       "      <td>van</td>\n",
       "    </tr>\n",
       "    <tr>\n",
       "      <th>2</th>\n",
       "      <td>104</td>\n",
       "      <td>50</td>\n",
       "      <td>106</td>\n",
       "      <td>209</td>\n",
       "      <td>66</td>\n",
       "      <td>10</td>\n",
       "      <td>207</td>\n",
       "      <td>32</td>\n",
       "      <td>23</td>\n",
       "      <td>158</td>\n",
       "      <td>223</td>\n",
       "      <td>635</td>\n",
       "      <td>220</td>\n",
       "      <td>73</td>\n",
       "      <td>14</td>\n",
       "      <td>9</td>\n",
       "      <td>188</td>\n",
       "      <td>196</td>\n",
       "      <td>saab</td>\n",
       "    </tr>\n",
       "    <tr>\n",
       "      <th>3</th>\n",
       "      <td>93</td>\n",
       "      <td>41</td>\n",
       "      <td>82</td>\n",
       "      <td>159</td>\n",
       "      <td>63</td>\n",
       "      <td>9</td>\n",
       "      <td>144</td>\n",
       "      <td>46</td>\n",
       "      <td>19</td>\n",
       "      <td>143</td>\n",
       "      <td>160</td>\n",
       "      <td>309</td>\n",
       "      <td>127</td>\n",
       "      <td>63</td>\n",
       "      <td>6</td>\n",
       "      <td>10</td>\n",
       "      <td>199</td>\n",
       "      <td>207</td>\n",
       "      <td>van</td>\n",
       "    </tr>\n",
       "    <tr>\n",
       "      <th>4</th>\n",
       "      <td>85</td>\n",
       "      <td>44</td>\n",
       "      <td>70</td>\n",
       "      <td>205</td>\n",
       "      <td>103</td>\n",
       "      <td>52</td>\n",
       "      <td>149</td>\n",
       "      <td>45</td>\n",
       "      <td>19</td>\n",
       "      <td>144</td>\n",
       "      <td>241</td>\n",
       "      <td>325</td>\n",
       "      <td>188</td>\n",
       "      <td>127</td>\n",
       "      <td>9</td>\n",
       "      <td>11</td>\n",
       "      <td>180</td>\n",
       "      <td>183</td>\n",
       "      <td>bus</td>\n",
       "    </tr>\n",
       "    <tr>\n",
       "      <th>5</th>\n",
       "      <td>107</td>\n",
       "      <td>57</td>\n",
       "      <td>106</td>\n",
       "      <td>172</td>\n",
       "      <td>50</td>\n",
       "      <td>6</td>\n",
       "      <td>255</td>\n",
       "      <td>26</td>\n",
       "      <td>28</td>\n",
       "      <td>169</td>\n",
       "      <td>280</td>\n",
       "      <td>957</td>\n",
       "      <td>264</td>\n",
       "      <td>85</td>\n",
       "      <td>5</td>\n",
       "      <td>9</td>\n",
       "      <td>181</td>\n",
       "      <td>183</td>\n",
       "      <td>bus</td>\n",
       "    </tr>\n",
       "    <tr>\n",
       "      <th>6</th>\n",
       "      <td>97</td>\n",
       "      <td>43</td>\n",
       "      <td>73</td>\n",
       "      <td>173</td>\n",
       "      <td>65</td>\n",
       "      <td>6</td>\n",
       "      <td>153</td>\n",
       "      <td>42</td>\n",
       "      <td>19</td>\n",
       "      <td>143</td>\n",
       "      <td>176</td>\n",
       "      <td>361</td>\n",
       "      <td>172</td>\n",
       "      <td>66</td>\n",
       "      <td>13</td>\n",
       "      <td>1</td>\n",
       "      <td>200</td>\n",
       "      <td>204</td>\n",
       "      <td>bus</td>\n",
       "    </tr>\n",
       "    <tr>\n",
       "      <th>7</th>\n",
       "      <td>90</td>\n",
       "      <td>43</td>\n",
       "      <td>66</td>\n",
       "      <td>157</td>\n",
       "      <td>65</td>\n",
       "      <td>9</td>\n",
       "      <td>137</td>\n",
       "      <td>48</td>\n",
       "      <td>18</td>\n",
       "      <td>146</td>\n",
       "      <td>162</td>\n",
       "      <td>281</td>\n",
       "      <td>164</td>\n",
       "      <td>67</td>\n",
       "      <td>3</td>\n",
       "      <td>3</td>\n",
       "      <td>193</td>\n",
       "      <td>202</td>\n",
       "      <td>van</td>\n",
       "    </tr>\n",
       "    <tr>\n",
       "      <th>8</th>\n",
       "      <td>86</td>\n",
       "      <td>34</td>\n",
       "      <td>62</td>\n",
       "      <td>140</td>\n",
       "      <td>61</td>\n",
       "      <td>7</td>\n",
       "      <td>122</td>\n",
       "      <td>54</td>\n",
       "      <td>17</td>\n",
       "      <td>127</td>\n",
       "      <td>141</td>\n",
       "      <td>223</td>\n",
       "      <td>112</td>\n",
       "      <td>64</td>\n",
       "      <td>2</td>\n",
       "      <td>14</td>\n",
       "      <td>200</td>\n",
       "      <td>208</td>\n",
       "      <td>van</td>\n",
       "    </tr>\n",
       "    <tr>\n",
       "      <th>9</th>\n",
       "      <td>93</td>\n",
       "      <td>44</td>\n",
       "      <td>98</td>\n",
       "      <td>197</td>\n",
       "      <td>62</td>\n",
       "      <td>11</td>\n",
       "      <td>183</td>\n",
       "      <td>36</td>\n",
       "      <td>22</td>\n",
       "      <td>146</td>\n",
       "      <td>202</td>\n",
       "      <td>505</td>\n",
       "      <td>152</td>\n",
       "      <td>64</td>\n",
       "      <td>4</td>\n",
       "      <td>14</td>\n",
       "      <td>195</td>\n",
       "      <td>204</td>\n",
       "      <td>saab</td>\n",
       "    </tr>\n",
       "  </tbody>\n",
       "</table>\n",
       "</div>"
      ],
      "text/plain": [
       "   compactness  circularity  distance_circularity  radius_ratio  \\\n",
       "0           95           48                    83           178   \n",
       "1           91           41                    84           141   \n",
       "2          104           50                   106           209   \n",
       "3           93           41                    82           159   \n",
       "4           85           44                    70           205   \n",
       "5          107           57                   106           172   \n",
       "6           97           43                    73           173   \n",
       "7           90           43                    66           157   \n",
       "8           86           34                    62           140   \n",
       "9           93           44                    98           197   \n",
       "\n",
       "   pr.axis_aspect_ratio  max.length_aspect_ratio  scatter_ratio  \\\n",
       "0                    72                       10            162   \n",
       "1                    57                        9            149   \n",
       "2                    66                       10            207   \n",
       "3                    63                        9            144   \n",
       "4                   103                       52            149   \n",
       "5                    50                        6            255   \n",
       "6                    65                        6            153   \n",
       "7                    65                        9            137   \n",
       "8                    61                        7            122   \n",
       "9                    62                       11            183   \n",
       "\n",
       "   elongatedness  pr.axis_rectangularity  max.length_rectangularity  \\\n",
       "0             42                      20                        159   \n",
       "1             45                      19                        143   \n",
       "2             32                      23                        158   \n",
       "3             46                      19                        143   \n",
       "4             45                      19                        144   \n",
       "5             26                      28                        169   \n",
       "6             42                      19                        143   \n",
       "7             48                      18                        146   \n",
       "8             54                      17                        127   \n",
       "9             36                      22                        146   \n",
       "\n",
       "   major.axis_scaled_variance  minor.axis_scaled_variance  \\\n",
       "0                         176                         379   \n",
       "1                         170                         330   \n",
       "2                         223                         635   \n",
       "3                         160                         309   \n",
       "4                         241                         325   \n",
       "5                         280                         957   \n",
       "6                         176                         361   \n",
       "7                         162                         281   \n",
       "8                         141                         223   \n",
       "9                         202                         505   \n",
       "\n",
       "   gyration_scaled_radius  major.axis skewness  minor.axis_skewness  \\\n",
       "0                     184                   70                    6   \n",
       "1                     158                   72                    9   \n",
       "2                     220                   73                   14   \n",
       "3                     127                   63                    6   \n",
       "4                     188                  127                    9   \n",
       "5                     264                   85                    5   \n",
       "6                     172                   66                   13   \n",
       "7                     164                   67                    3   \n",
       "8                     112                   64                    2   \n",
       "9                     152                   64                    4   \n",
       "\n",
       "   minor.axis_kurtosis  major.axis_curtosis  hollows_ratio label  \n",
       "0                   16                  187            197   van  \n",
       "1                   14                  189            199   van  \n",
       "2                    9                  188            196  saab  \n",
       "3                   10                  199            207   van  \n",
       "4                   11                  180            183   bus  \n",
       "5                    9                  181            183   bus  \n",
       "6                    1                  200            204   bus  \n",
       "7                    3                  193            202   van  \n",
       "8                   14                  200            208   van  \n",
       "9                   14                  195            204  saab  "
      ]
     },
     "execution_count": 2,
     "metadata": {},
     "output_type": "execute_result"
    }
   ],
   "source": [
    "import glob\n",
    "import pandas as pd\n",
    "\n",
    "path = 'data'\n",
    "all_data = glob.glob(path + '/*.dat')\n",
    "\n",
    "l = []\n",
    "\n",
    "column_names = ['compactness', 'circularity', 'distance_circularity', 'radius_ratio', 'pr.axis_aspect_ratio',\n",
    "                'max.length_aspect_ratio', 'scatter_ratio', 'elongatedness', 'pr.axis_rectangularity', \n",
    "                'max.length_rectangularity', 'major.axis_scaled_variance', 'minor.axis_scaled_variance',\n",
    "                'gyration_scaled_radius', 'major.axis skewness', 'minor.axis_skewness', 'minor.axis_kurtosis',\n",
    "                'major.axis_curtosis', 'hollows_ratio', 'label']\n",
    "\n",
    "for filename in all_data:\n",
    "    df = pd.read_csv(filename, header=None, sep=' ', names = column_names, usecols= [num for num in range(19)])\n",
    "    l.append(df)\n",
    "    \n",
    "cars = pd.concat(l, axis=0, ignore_index=True)\n",
    "cars.head(10)"
   ]
  },
  {
   "cell_type": "markdown",
   "metadata": {},
   "source": [
    "Στη συνέχεια θα εξάγουμε χρήσιμες πληροφορίες για τα δεδομένα μας:"
   ]
  },
  {
   "cell_type": "code",
   "execution_count": 3,
   "metadata": {
    "scrolled": false
   },
   "outputs": [
    {
     "name": "stdout",
     "output_type": "stream",
     "text": [
      "<class 'pandas.core.frame.DataFrame'>\n",
      "RangeIndex: 846 entries, 0 to 845\n",
      "Data columns (total 19 columns):\n",
      "compactness                   846 non-null int64\n",
      "circularity                   846 non-null int64\n",
      "distance_circularity          846 non-null int64\n",
      "radius_ratio                  846 non-null int64\n",
      "pr.axis_aspect_ratio          846 non-null int64\n",
      "max.length_aspect_ratio       846 non-null int64\n",
      "scatter_ratio                 846 non-null int64\n",
      "elongatedness                 846 non-null int64\n",
      "pr.axis_rectangularity        846 non-null int64\n",
      "max.length_rectangularity     846 non-null int64\n",
      "major.axis_scaled_variance    846 non-null int64\n",
      "minor.axis_scaled_variance    846 non-null int64\n",
      "gyration_scaled_radius        846 non-null int64\n",
      "major.axis skewness           846 non-null int64\n",
      "minor.axis_skewness           846 non-null int64\n",
      "minor.axis_kurtosis           846 non-null int64\n",
      "major.axis_curtosis           846 non-null int64\n",
      "hollows_ratio                 846 non-null int64\n",
      "label                         846 non-null object\n",
      "dtypes: int64(18), object(1)\n",
      "memory usage: 125.7+ KB\n"
     ]
    }
   ],
   "source": [
    "cars.info()"
   ]
  },
  {
   "cell_type": "code",
   "execution_count": 4,
   "metadata": {},
   "outputs": [
    {
     "data": {
      "text/html": [
       "<div>\n",
       "<style scoped>\n",
       "    .dataframe tbody tr th:only-of-type {\n",
       "        vertical-align: middle;\n",
       "    }\n",
       "\n",
       "    .dataframe tbody tr th {\n",
       "        vertical-align: top;\n",
       "    }\n",
       "\n",
       "    .dataframe thead th {\n",
       "        text-align: right;\n",
       "    }\n",
       "</style>\n",
       "<table border=\"1\" class=\"dataframe\">\n",
       "  <thead>\n",
       "    <tr style=\"text-align: right;\">\n",
       "      <th></th>\n",
       "      <th>compactness</th>\n",
       "      <th>circularity</th>\n",
       "      <th>distance_circularity</th>\n",
       "      <th>radius_ratio</th>\n",
       "      <th>pr.axis_aspect_ratio</th>\n",
       "      <th>max.length_aspect_ratio</th>\n",
       "      <th>scatter_ratio</th>\n",
       "      <th>elongatedness</th>\n",
       "      <th>pr.axis_rectangularity</th>\n",
       "      <th>max.length_rectangularity</th>\n",
       "      <th>major.axis_scaled_variance</th>\n",
       "      <th>minor.axis_scaled_variance</th>\n",
       "      <th>gyration_scaled_radius</th>\n",
       "      <th>major.axis skewness</th>\n",
       "      <th>minor.axis_skewness</th>\n",
       "      <th>minor.axis_kurtosis</th>\n",
       "      <th>major.axis_curtosis</th>\n",
       "      <th>hollows_ratio</th>\n",
       "    </tr>\n",
       "  </thead>\n",
       "  <tbody>\n",
       "    <tr>\n",
       "      <th>count</th>\n",
       "      <td>846.000000</td>\n",
       "      <td>846.000000</td>\n",
       "      <td>846.000000</td>\n",
       "      <td>846.000000</td>\n",
       "      <td>846.000000</td>\n",
       "      <td>846.000000</td>\n",
       "      <td>846.000000</td>\n",
       "      <td>846.000000</td>\n",
       "      <td>846.000000</td>\n",
       "      <td>846.000000</td>\n",
       "      <td>846.000000</td>\n",
       "      <td>846.000000</td>\n",
       "      <td>846.00000</td>\n",
       "      <td>846.000000</td>\n",
       "      <td>846.000000</td>\n",
       "      <td>846.000000</td>\n",
       "      <td>846.000000</td>\n",
       "      <td>846.000000</td>\n",
       "    </tr>\n",
       "    <tr>\n",
       "      <th>mean</th>\n",
       "      <td>93.678487</td>\n",
       "      <td>44.861702</td>\n",
       "      <td>82.088652</td>\n",
       "      <td>168.940898</td>\n",
       "      <td>61.693853</td>\n",
       "      <td>8.567376</td>\n",
       "      <td>168.839243</td>\n",
       "      <td>40.933806</td>\n",
       "      <td>20.582742</td>\n",
       "      <td>147.998818</td>\n",
       "      <td>188.625296</td>\n",
       "      <td>439.911348</td>\n",
       "      <td>174.70331</td>\n",
       "      <td>72.462175</td>\n",
       "      <td>6.377069</td>\n",
       "      <td>12.599291</td>\n",
       "      <td>188.932624</td>\n",
       "      <td>195.632388</td>\n",
       "    </tr>\n",
       "    <tr>\n",
       "      <th>std</th>\n",
       "      <td>8.234474</td>\n",
       "      <td>6.169866</td>\n",
       "      <td>15.771533</td>\n",
       "      <td>33.472183</td>\n",
       "      <td>7.888251</td>\n",
       "      <td>4.601217</td>\n",
       "      <td>33.244978</td>\n",
       "      <td>7.811560</td>\n",
       "      <td>2.592138</td>\n",
       "      <td>14.515652</td>\n",
       "      <td>31.394837</td>\n",
       "      <td>176.692614</td>\n",
       "      <td>32.54649</td>\n",
       "      <td>7.486974</td>\n",
       "      <td>4.918353</td>\n",
       "      <td>8.931240</td>\n",
       "      <td>6.163949</td>\n",
       "      <td>7.438797</td>\n",
       "    </tr>\n",
       "    <tr>\n",
       "      <th>min</th>\n",
       "      <td>73.000000</td>\n",
       "      <td>33.000000</td>\n",
       "      <td>40.000000</td>\n",
       "      <td>104.000000</td>\n",
       "      <td>47.000000</td>\n",
       "      <td>2.000000</td>\n",
       "      <td>112.000000</td>\n",
       "      <td>26.000000</td>\n",
       "      <td>17.000000</td>\n",
       "      <td>118.000000</td>\n",
       "      <td>130.000000</td>\n",
       "      <td>184.000000</td>\n",
       "      <td>109.00000</td>\n",
       "      <td>59.000000</td>\n",
       "      <td>0.000000</td>\n",
       "      <td>0.000000</td>\n",
       "      <td>176.000000</td>\n",
       "      <td>181.000000</td>\n",
       "    </tr>\n",
       "    <tr>\n",
       "      <th>25%</th>\n",
       "      <td>87.000000</td>\n",
       "      <td>40.000000</td>\n",
       "      <td>70.000000</td>\n",
       "      <td>141.000000</td>\n",
       "      <td>57.000000</td>\n",
       "      <td>7.000000</td>\n",
       "      <td>146.250000</td>\n",
       "      <td>33.000000</td>\n",
       "      <td>19.000000</td>\n",
       "      <td>137.000000</td>\n",
       "      <td>167.000000</td>\n",
       "      <td>318.250000</td>\n",
       "      <td>149.00000</td>\n",
       "      <td>67.000000</td>\n",
       "      <td>2.000000</td>\n",
       "      <td>5.000000</td>\n",
       "      <td>184.000000</td>\n",
       "      <td>190.250000</td>\n",
       "    </tr>\n",
       "    <tr>\n",
       "      <th>50%</th>\n",
       "      <td>93.000000</td>\n",
       "      <td>44.000000</td>\n",
       "      <td>80.000000</td>\n",
       "      <td>167.000000</td>\n",
       "      <td>61.000000</td>\n",
       "      <td>8.000000</td>\n",
       "      <td>157.000000</td>\n",
       "      <td>43.000000</td>\n",
       "      <td>20.000000</td>\n",
       "      <td>146.000000</td>\n",
       "      <td>178.500000</td>\n",
       "      <td>364.000000</td>\n",
       "      <td>173.00000</td>\n",
       "      <td>71.500000</td>\n",
       "      <td>6.000000</td>\n",
       "      <td>11.000000</td>\n",
       "      <td>188.000000</td>\n",
       "      <td>197.000000</td>\n",
       "    </tr>\n",
       "    <tr>\n",
       "      <th>75%</th>\n",
       "      <td>100.000000</td>\n",
       "      <td>49.000000</td>\n",
       "      <td>98.000000</td>\n",
       "      <td>195.000000</td>\n",
       "      <td>65.000000</td>\n",
       "      <td>10.000000</td>\n",
       "      <td>198.000000</td>\n",
       "      <td>46.000000</td>\n",
       "      <td>23.000000</td>\n",
       "      <td>159.000000</td>\n",
       "      <td>217.000000</td>\n",
       "      <td>587.000000</td>\n",
       "      <td>198.00000</td>\n",
       "      <td>75.000000</td>\n",
       "      <td>9.000000</td>\n",
       "      <td>19.000000</td>\n",
       "      <td>193.000000</td>\n",
       "      <td>201.000000</td>\n",
       "    </tr>\n",
       "    <tr>\n",
       "      <th>max</th>\n",
       "      <td>119.000000</td>\n",
       "      <td>59.000000</td>\n",
       "      <td>112.000000</td>\n",
       "      <td>333.000000</td>\n",
       "      <td>138.000000</td>\n",
       "      <td>55.000000</td>\n",
       "      <td>265.000000</td>\n",
       "      <td>61.000000</td>\n",
       "      <td>29.000000</td>\n",
       "      <td>188.000000</td>\n",
       "      <td>320.000000</td>\n",
       "      <td>1018.000000</td>\n",
       "      <td>268.00000</td>\n",
       "      <td>135.000000</td>\n",
       "      <td>22.000000</td>\n",
       "      <td>41.000000</td>\n",
       "      <td>206.000000</td>\n",
       "      <td>211.000000</td>\n",
       "    </tr>\n",
       "  </tbody>\n",
       "</table>\n",
       "</div>"
      ],
      "text/plain": [
       "       compactness  circularity  distance_circularity  radius_ratio  \\\n",
       "count   846.000000   846.000000            846.000000    846.000000   \n",
       "mean     93.678487    44.861702             82.088652    168.940898   \n",
       "std       8.234474     6.169866             15.771533     33.472183   \n",
       "min      73.000000    33.000000             40.000000    104.000000   \n",
       "25%      87.000000    40.000000             70.000000    141.000000   \n",
       "50%      93.000000    44.000000             80.000000    167.000000   \n",
       "75%     100.000000    49.000000             98.000000    195.000000   \n",
       "max     119.000000    59.000000            112.000000    333.000000   \n",
       "\n",
       "       pr.axis_aspect_ratio  max.length_aspect_ratio  scatter_ratio  \\\n",
       "count            846.000000               846.000000     846.000000   \n",
       "mean              61.693853                 8.567376     168.839243   \n",
       "std                7.888251                 4.601217      33.244978   \n",
       "min               47.000000                 2.000000     112.000000   \n",
       "25%               57.000000                 7.000000     146.250000   \n",
       "50%               61.000000                 8.000000     157.000000   \n",
       "75%               65.000000                10.000000     198.000000   \n",
       "max              138.000000                55.000000     265.000000   \n",
       "\n",
       "       elongatedness  pr.axis_rectangularity  max.length_rectangularity  \\\n",
       "count     846.000000              846.000000                 846.000000   \n",
       "mean       40.933806               20.582742                 147.998818   \n",
       "std         7.811560                2.592138                  14.515652   \n",
       "min        26.000000               17.000000                 118.000000   \n",
       "25%        33.000000               19.000000                 137.000000   \n",
       "50%        43.000000               20.000000                 146.000000   \n",
       "75%        46.000000               23.000000                 159.000000   \n",
       "max        61.000000               29.000000                 188.000000   \n",
       "\n",
       "       major.axis_scaled_variance  minor.axis_scaled_variance  \\\n",
       "count                  846.000000                  846.000000   \n",
       "mean                   188.625296                  439.911348   \n",
       "std                     31.394837                  176.692614   \n",
       "min                    130.000000                  184.000000   \n",
       "25%                    167.000000                  318.250000   \n",
       "50%                    178.500000                  364.000000   \n",
       "75%                    217.000000                  587.000000   \n",
       "max                    320.000000                 1018.000000   \n",
       "\n",
       "       gyration_scaled_radius  major.axis skewness  minor.axis_skewness  \\\n",
       "count               846.00000           846.000000           846.000000   \n",
       "mean                174.70331            72.462175             6.377069   \n",
       "std                  32.54649             7.486974             4.918353   \n",
       "min                 109.00000            59.000000             0.000000   \n",
       "25%                 149.00000            67.000000             2.000000   \n",
       "50%                 173.00000            71.500000             6.000000   \n",
       "75%                 198.00000            75.000000             9.000000   \n",
       "max                 268.00000           135.000000            22.000000   \n",
       "\n",
       "       minor.axis_kurtosis  major.axis_curtosis  hollows_ratio  \n",
       "count           846.000000           846.000000     846.000000  \n",
       "mean             12.599291           188.932624     195.632388  \n",
       "std               8.931240             6.163949       7.438797  \n",
       "min               0.000000           176.000000     181.000000  \n",
       "25%               5.000000           184.000000     190.250000  \n",
       "50%              11.000000           188.000000     197.000000  \n",
       "75%              19.000000           193.000000     201.000000  \n",
       "max              41.000000           206.000000     211.000000  "
      ]
     },
     "execution_count": 4,
     "metadata": {},
     "output_type": "execute_result"
    }
   ],
   "source": [
    "cars.describe()"
   ]
  },
  {
   "cell_type": "code",
   "execution_count": 5,
   "metadata": {},
   "outputs": [
    {
     "data": {
      "text/plain": [
       "(846, 19)"
      ]
     },
     "execution_count": 5,
     "metadata": {},
     "output_type": "execute_result"
    }
   ],
   "source": [
    "cars.shape"
   ]
  },
  {
   "cell_type": "markdown",
   "metadata": {},
   "source": [
    "Παρατηρούμε ότι έχουμε στη διάθεσή μας 846 δείγματα, καθένα από τα οποία συνοδεύεται από 18 συνολικά χαρακτηριστικά. Κατά συνέπεια ο πίνακας των δεδομένων μας αποτελείται από 19 στήλες, δεδομένου ότι η τελευταία αντιστοιχεί στις ετικέτες των κατηγοριών. Τα χαρακτηριστικά αυτά είναι αριθμοί, ενώ δεν υπάρχει στήλη στην οποία να απουσιάζουν τιμές. Σημειώνουμε ότι η στήλη των ετικετών περιέχει τιμές σε μορφή κειμένου, τις οποίες όμως δε χρειάζεται να κωδικοποιήσουμε σε αριθμούς, εφόσον είναι διαφορετικές μεταξύ τους."
   ]
  },
  {
   "cell_type": "code",
   "execution_count": 6,
   "metadata": {},
   "outputs": [
    {
     "data": {
      "text/plain": [
       "bus     25.768322\n",
       "saab    25.650118\n",
       "opel    25.059102\n",
       "van     23.522459\n",
       "Name: label, dtype: float64"
      ]
     },
     "execution_count": 6,
     "metadata": {},
     "output_type": "execute_result"
    }
   ],
   "source": [
    "cars['label'].value_counts(normalize=True) * 100"
   ]
  },
  {
   "cell_type": "markdown",
   "metadata": {},
   "source": [
    "Οι κατηγορίες των οχημάτων μας είναι 4 και φέρουν τα ονόματα: _Bus, Van, Opel_ και _Saab_. Έχουμε ισορροπία στο σύνολο των δεδομένων, αφού όπως υπολογίζουμε κάθε κατηγορία συναστά περίπου το 1/4 του Dataset."
   ]
  },
  {
   "cell_type": "markdown",
   "metadata": {},
   "source": [
    "---\n",
    "\n",
    "## Διαχωρισμός Δεδομένων Εκπαίδευσης & Ελέγχου"
   ]
  },
  {
   "cell_type": "markdown",
   "metadata": {},
   "source": [
    "Αν και οι κατηγορίες μας είναι ισορροπημένες στο σύνολο των δεδομένων μας, για το διαχωρισμό αυτών θα χρησιμοποιήσουμε τη _StratifiedShuffleSplit_ ώστε να εξασφαλίσουμε ότι τα δεδομένα εκπαίδευσης θα αποτελούνται από αντιπροσωπευτικό πλήθος κατηγοριών με το ολικό Dataset:"
   ]
  },
  {
   "cell_type": "code",
   "execution_count": 7,
   "metadata": {},
   "outputs": [
    {
     "data": {
      "text/plain": [
       "bus     25.739645\n",
       "saab    25.591716\n",
       "opel    25.147929\n",
       "van     23.520710\n",
       "Name: label, dtype: float64"
      ]
     },
     "execution_count": 7,
     "metadata": {},
     "output_type": "execute_result"
    }
   ],
   "source": [
    "import numpy as np\n",
    "from sklearn.model_selection import StratifiedShuffleSplit\n",
    "\n",
    "split = StratifiedShuffleSplit(n_splits = 1, test_size = 0.2, random_state=42)\n",
    "for train_index, test_index in split.split(cars, cars['label']):\n",
    "    train_set = cars.reindex(train_index)\n",
    "    test_set = cars.reindex(test_index)\n",
    "    \n",
    "train_set['label'].value_counts() / len(train_set) * 100"
   ]
  },
  {
   "cell_type": "markdown",
   "metadata": {},
   "source": [
    "Τέλος, θα διαχωρίσουμε τα χαρακτηριστικά των δεδομένων μας από την κατηγορία στην οποία ανήκουν:"
   ]
  },
  {
   "cell_type": "code",
   "execution_count": 63,
   "metadata": {},
   "outputs": [],
   "source": [
    "# Training Set\n",
    "cars_train = train_set.drop('label', axis=1)\n",
    "cars_train_labels = train_set['label'].copy()\n",
    "\n",
    "# Test Set\n",
    "cars_test = test_set.drop('label', axis=1)\n",
    "cars_test_labels = test_set['label'].copy()"
   ]
  },
  {
   "cell_type": "markdown",
   "metadata": {},
   "source": [
    "---\n",
    "\n",
    "## Baseline Classification"
   ]
  },
  {
   "cell_type": "markdown",
   "metadata": {},
   "source": [
    "#### 1. DummyClassifier"
   ]
  },
  {
   "cell_type": "markdown",
   "metadata": {},
   "source": [
    "Αρχικά θα εκπαιδεύσουμε έναν _DummyClassifier_ χωρίς να μεταβάλλουμε τις παραμέτρους αρχικοποίησής του:"
   ]
  },
  {
   "cell_type": "code",
   "execution_count": 9,
   "metadata": {},
   "outputs": [],
   "source": [
    "from sklearn.dummy import DummyClassifier\n",
    "from sklearn.metrics import accuracy_score\n",
    "\n",
    "dc_default = DummyClassifier() # default strategy: stratified\n",
    "dc_default.fit(cars_train, cars_train_labels) # fitting on train_set\n",
    "\n",
    "cars_predictions = dc_default.predict(cars_test) # predicting on test_set\n",
    "\n",
    "target_names = dc_default.classes_.tolist() # fetch class names\n",
    "\n",
    "dummy_default = accuracy_score(cars_test_labels, cars_predictions) * 100"
   ]
  },
  {
   "cell_type": "code",
   "execution_count": 10,
   "metadata": {},
   "outputs": [
    {
     "data": {
      "text/plain": [
       "30.0"
      ]
     },
     "execution_count": 10,
     "metadata": {},
     "output_type": "execute_result"
    }
   ],
   "source": [
    "dummy_default"
   ]
  },
  {
   "cell_type": "markdown",
   "metadata": {},
   "source": [
    "Παρατηρούμε ότι η ακρίβεια του _DummyClassifier_ είναι αρκετά χαμηλή, με ποσοστό περίπου 21%.\n",
    "\n",
    "Συνεχίζοντας, θα πάρουμε περισσότερες πληροφόριες για τη διαδικασία ταξινόμησης, υπολογίζοντας _Confusion Table_ καθώς και τις τιμές _Precision, Recall_ και _F1-Score_ :"
   ]
  },
  {
   "cell_type": "code",
   "execution_count": 11,
   "metadata": {},
   "outputs": [
    {
     "data": {
      "text/plain": [
       "<Figure size 800x600 with 2 Axes>"
      ]
     },
     "metadata": {},
     "output_type": "display_data"
    }
   ],
   "source": [
    "from matplotlib import cm\n",
    "import matplotlib.pyplot as plt\n",
    "from sklearn.metrics import confusion_matrix\n",
    "\n",
    "matrix = confusion_matrix(cars_test_labels, cars_predictions)\n",
    "\n",
    "fig = plt.figure(figsize=(8,6))\n",
    "ax = fig.add_subplot(111)\n",
    "cax = ax.matshow(matrix, cmap=cm.get_cmap('PuBu'))\n",
    "fig.colorbar(cax)\n",
    "\n",
    "ax.set_xticklabels([''] + target_names)\n",
    "ax.set_yticklabels([''] + target_names)\n",
    "\n",
    "plt.show()"
   ]
  },
  {
   "cell_type": "code",
   "execution_count": 12,
   "metadata": {},
   "outputs": [
    {
     "data": {
      "text/plain": [
       "<Figure size 432x288 with 0 Axes>"
      ]
     },
     "metadata": {},
     "output_type": "display_data"
    }
   ],
   "source": [
    "plt.clf()"
   ]
  },
  {
   "cell_type": "code",
   "execution_count": 13,
   "metadata": {},
   "outputs": [
    {
     "name": "stdout",
     "output_type": "stream",
     "text": [
      "F1-Micro Average: 0.3\n",
      "F1-Macro Average: 0.29625321582371694\n",
      "\n",
      "              precision    recall  f1-score   support\n",
      "\n",
      "         bus       0.34      0.41      0.37        44\n",
      "        opel       0.29      0.26      0.28        42\n",
      "        saab       0.29      0.23      0.25        44\n",
      "         van       0.27      0.30      0.29        40\n",
      "\n",
      "    accuracy                           0.30       170\n",
      "   macro avg       0.30      0.30      0.30       170\n",
      "weighted avg       0.30      0.30      0.30       170\n",
      "\n"
     ]
    }
   ],
   "source": [
    "from sklearn.metrics import f1_score\n",
    "from sklearn.metrics import classification_report\n",
    "from sklearn.metrics import precision_recall_fscore_support\n",
    "\n",
    "dc_f1_micro = f1_score(cars_test_labels, cars_predictions, average='micro')\n",
    "dc_f1_macro = f1_score(cars_test_labels, cars_predictions, average='macro')\n",
    "\n",
    "print(\"F1-Micro Average: \" + str(dc_f1_micro))\n",
    "print(\"F1-Macro Average: \" + str(dc_f1_macro) + \"\\n\")\n",
    "\n",
    "print(classification_report(cars_test_labels, cars_predictions))"
   ]
  },
  {
   "cell_type": "markdown",
   "metadata": {},
   "source": [
    "Μελετώντας τον πίνακα σύγχυσης διασταυρώνουμε το ποσοστό επιτυχίας που σημειώσαμε παραπάνω, παρατηρώντας πως η κύρια διαγώνιος \n",
    "δεν παρουσιάζει εμφανώς έντονες τιμές. Σχετικά με τα _F1-Macro_ και _F1-Micro_ αναμένουμε να έχουν σχεδόν ίδιες τιμές, επειδή το πλήθος των δεδομένων μας ήταν ισορροπημένο ως προς τις κατηγορίες οχημάτων και κατά συνέπεια δε δημιουργείται κάποια κλίση ως προς την περισσότερη ή λιγότερη συχνή κατήγορια. \n",
    "\n",
    "Σχετικά με τις τιμές ακρίβειας και ανάκλισης, παρατηρούμε ότι η κατηγορία _Saab_ εμφανίζει τις υψηλότερες τιμές. Πιο συγκεκριμένα, εάν το σύστημα μας προβλέψει πως κάποιο δείγμα είναι αυτοκίνητο της συγκεκριμένης κατηγορίας είναι σωστό με ποσοστό 31%, ενώ από τις συνολικές φωτογραφίες του δεδομένου αυτοκινήτου, μπορεί να αναγνωρίσει μόλις το 36% αυτών. Τα παραπάνω αποτελέσματα δεν συνάδουν με τη διαισθητική, αρχική μας πρόβλεψη, καθώς αναμέναμε τις κατηγορίες _Bus_ και _Van_ να εμφανίζουν τις υψηλότερες αποδόσεις. Αυτό οφείλεται στο γεγονός ότι οι δύο αυτές κατηγορίες οχημάτων είναι οι περισσότερο προφανής προς ταξινόμηση, λόγω των χαρακτηριστικών διαφορών που παρουσιάζουν στο μέγεθος και στο σχήμα τους, σε σύγκριση με τα παραδοσιακά αμάξια των υπολοίπων δύο κατηγοριών. Αποδίδουμε αυτό το αποτέλεσμα στην τυχαιότητα προβλέψεων του _DummyClassifier_ και αναμένουμε να διασταυρώσουμε την εκτίμηση μας με επόμενους ταξινομητές."
   ]
  },
  {
   "cell_type": "markdown",
   "metadata": {},
   "source": [
    "#### 2. KNeighborsClassifier"
   ]
  },
  {
   "cell_type": "markdown",
   "metadata": {},
   "source": [
    "Θα συνεχίσουμε με την εκπαίδευση ενός προεπιλεγμένου _KNeighborsClassifier_ :"
   ]
  },
  {
   "cell_type": "code",
   "execution_count": 14,
   "metadata": {},
   "outputs": [],
   "source": [
    "from sklearn.neighbors import KNeighborsClassifier\n",
    "\n",
    "knn = KNeighborsClassifier() # default n: 5\n",
    "knn.fit(cars_train, cars_train_labels) # fitting on train_set\n",
    "\n",
    "cars_predictions = knn.predict(cars_test) # predicting on test_set\n",
    "\n",
    "target_names = knn.classes_.tolist() # fetch class names\n",
    "\n",
    "knn_default = accuracy_score(cars_test_labels, cars_predictions) * 100"
   ]
  },
  {
   "cell_type": "code",
   "execution_count": 15,
   "metadata": {},
   "outputs": [
    {
     "data": {
      "text/plain": [
       "67.05882352941175"
      ]
     },
     "execution_count": 15,
     "metadata": {},
     "output_type": "execute_result"
    }
   ],
   "source": [
    "knn_default"
   ]
  },
  {
   "cell_type": "markdown",
   "metadata": {},
   "source": [
    "Η ακρίβεια σε αυτήν την περίπτωση είναι αισθητά υψηλότερη από προηγουμένως. Ας εξετάσουμε τις ανάλογες μετρικές απόδοσης:"
   ]
  },
  {
   "cell_type": "code",
   "execution_count": 16,
   "metadata": {},
   "outputs": [
    {
     "data": {
      "image/png": "[encoded data removed]",
      "text/plain": [
       "<Figure size 576x432 with 2 Axes>"
      ]
     },
     "metadata": {
      "needs_background": "light"
     },
     "output_type": "display_data"
    }
   ],
   "source": [
    "matrix = confusion_matrix(cars_test_labels, cars_predictions)\n",
    "\n",
    "fig = plt.figure(figsize=(8,6))\n",
    "ax = fig.add_subplot(111)\n",
    "cax = ax.matshow(matrix, cmap=cm.get_cmap('PuBu'))\n",
    "fig.colorbar(cax)\n",
    "\n",
    "ax.set_xticklabels([''] + target_names)\n",
    "ax.set_yticklabels([''] + target_names)\n",
    "\n",
    "plt.show()"
   ]
  },
  {
   "cell_type": "code",
   "execution_count": 17,
   "metadata": {},
   "outputs": [
    {
     "data": {
      "text/plain": [
       "<Figure size 432x288 with 0 Axes>"
      ]
     },
     "metadata": {},
     "output_type": "display_data"
    }
   ],
   "source": [
    "plt.clf()"
   ]
  },
  {
   "cell_type": "code",
   "execution_count": 18,
   "metadata": {},
   "outputs": [
    {
     "name": "stdout",
     "output_type": "stream",
     "text": [
      "F1-Micro Average: 0.6705882352941176\n",
      "F1-Macro Average: 0.6690721468924699\n",
      "\n",
      "              precision    recall  f1-score   support\n",
      "\n",
      "         bus       0.76      0.86      0.81        44\n",
      "        opel       0.47      0.38      0.42        42\n",
      "        saab       0.51      0.57      0.54        44\n",
      "         van       0.95      0.88      0.91        40\n",
      "\n",
      "    accuracy                           0.67       170\n",
      "   macro avg       0.67      0.67      0.67       170\n",
      "weighted avg       0.67      0.67      0.67       170\n",
      "\n"
     ]
    }
   ],
   "source": [
    "kn_f1_micro = f1_score(cars_test_labels, cars_predictions, average='micro')\n",
    "kn_f1_macro = f1_score(cars_test_labels, cars_predictions, average='macro')\n",
    "\n",
    "print(\"F1-Micro Average: \" + str(kn_f1_micro))\n",
    "print(\"F1-Macro Average: \" + str(kn_f1_macro) + \"\\n\")\n",
    "\n",
    "print(classification_report(cars_test_labels, cars_predictions))"
   ]
  },
  {
   "cell_type": "markdown",
   "metadata": {},
   "source": [
    "Ο πίνακας σύγχυσης για το δεδομένο ταξινομητή παρατηρούμε ότι είναι περισσότερο διαγωνιοποιημένος, με υψηλά ποσοστά ακρίβειας για τις κατηγορίες _Bus_ και _Van_ , όπως αναμέναμε. Ανάλογη αύξηση σημειώνουμε και στις τιμές του F1-score, με παραπλήσιες τιμές για Macro και Micro Average.\n",
    "\n",
    "Τέλος σημειώνουμε ότι αν και ο ταξινομητής παρουσιάζει βελτιωμένη απόδοση με προηγουμένως, αντιμετωπίζει δυσκολία στο διαχωρισμό των δύο παραδοσιακών αυτοκινήτων _Opel_ και _Saab_ , αφού παρατηρώντας την ανάκλιση των συγκεκριμένων κατηγοριών, διαπιστώνουμε ότι μπορεί να αναγνωρίσει μονάχα το 48% και 39% αυτών, αντίστοιχα."
   ]
  },
  {
   "cell_type": "markdown",
   "metadata": {},
   "source": [
    "Ολοκληρώντας την πρώτη μελέτη των δεδομένων μας με τους _Dummy_ και _KNeighbors_ ταξινομητές μας, παρουσιάζουμε παρακάτω ένα διάγραμμα συγκρίνοντας τις τιμές των βαθμολογιών F1 ξεχωριστά για κάθε ταξινομητή:"
   ]
  },
  {
   "cell_type": "code",
   "execution_count": 19,
   "metadata": {},
   "outputs": [
    {
     "data": {
      "image/png": "[encoded data removed]",
      "text/plain": [
       "<Figure size 576x432 with 1 Axes>"
      ]
     },
     "metadata": {
      "needs_background": "light"
     },
     "output_type": "display_data"
    }
   ],
   "source": [
    "# Grouped BarPlot source: https://bit.ly/36y14Sw\n",
    "\n",
    "labels = ['DummyClassifier', 'KNeighbors']\n",
    "f1_micro = [round(dc_f1_micro, 3), round(kn_f1_micro, 3)]\n",
    "f1_macro = [round(dc_f1_macro, 3), round(kn_f1_macro, 3)]\n",
    "\n",
    "width = 0.20\n",
    "x = np.arange(len(labels))\n",
    "\n",
    "fig, ax = plt.subplots(figsize=(8, 6))\n",
    "rect1 = ax.bar(x-width/2, f1_micro, width, label='F1-Micro Average', color=(0.2, 0.4, 0.6, 0.3))\n",
    "rect2 = ax.bar(x+width/2, f1_macro, width, label='F1-Macro Average', color=(0.2, 0.4, 0.6, 0.9))\n",
    "\n",
    "ax.legend()\n",
    "ax.set_xticks(x)\n",
    "ax.set_ylabel('Scores')\n",
    "ax.set_xticklabels(labels)\n",
    "ax.set_title('F1-Score Comparison')\n",
    "\n",
    "def autolabel(rects):\n",
    "    for rect in rects:\n",
    "        height = rect.get_height()\n",
    "        ax.annotate('{}'.format(height), xy=(rect.get_x()+rect.get_width()/2, height), xytext=(0, 3), \n",
    "                    textcoords=\"offset points\", ha='center', va='bottom')\n",
    "\n",
    "autolabel(rect1)\n",
    "autolabel(rect2)\n",
    "fig.tight_layout()\n",
    "\n",
    "plt.show()"
   ]
  },
  {
   "cell_type": "markdown",
   "metadata": {},
   "source": [
    "---\n",
    "\n",
    "## Βελτίωση Ταξινομητών"
   ]
  },
  {
   "cell_type": "code",
   "execution_count": 20,
   "metadata": {},
   "outputs": [],
   "source": [
    "def KFold_Dataframe(dataset, datalabels, i, k):\n",
    "    \"\"\" Splits dataset and respective datalabels to k-folds, returns train and validation sets. \"\"\"\n",
    "    n = len(dataset)\n",
    "    test = dataset[n*(i-1)//k:n*i//k]\n",
    "    test_labels = datalabels[n*(i-1)//k:n*i//k]\n",
    "    train = pd.concat([dataset[:n*(i-1)//k], dataset[n*i//k:]])\n",
    "    train_labels = pd.concat([datalabels[:n*(i-1)//k], datalabels[n*i//k:]])\n",
    "    \n",
    "    return train, train_labels, test, test_labels\n",
    "\n",
    "def KFold_NumpyArray(dataset, datalabels, i, k):\n",
    "    \"\"\" Splits dataset and respective datalabels to k-folds, returns train and validation sets. \"\"\"\n",
    "    n = len(dataset)\n",
    "    test = dataset[n*(i-1)//k:n*i//k]\n",
    "    test_labels = datalabels[n*(i-1)//k:n*i//k]\n",
    "    train = np.concatenate((dataset[:n*(i-1)//k], dataset[n*i//k:]), axis=0)\n",
    "    train_labels = np.concatenate((datalabels[:n*(i-1)//k], datalabels[n*i//k:]), axis=0)\n",
    "    \n",
    "    return train, train_labels, test, test_labels\n",
    "\n",
    "def Cross_Validation(cars_train_scaled, cars_train_labels, k):\n",
    "    \"\"\" Yields dataset folds for cross validation. \"\"\"\n",
    "    for i in range(1, k+1):\n",
    "        train, train_labels, test, test_labels = KFold_NumpyArray(cars_train_scaled, cars_train_labels.values, i, k)\n",
    "        \n",
    "        yield train, train_labels, test, test_labels\n",
    "        \n",
    "def KFold(dataset, k):\n",
    "    \"\"\" Yields train and test indexes for a given dataset. \"\"\"\n",
    "    n = len(dataset)\n",
    "    for i in range(1, k+1):\n",
    "        curr_train_index = [num for num in list(range(0, n*(i-1)//k)) + list(range(n*i//k, n))]\n",
    "        train_index = np.asarray(curr_train_index)\n",
    "        curr_test_index = [num for num in range(n*(i-1)//k, n*i//k)]\n",
    "        test_index = np.asarray(curr_test_index)\n",
    "        \n",
    "        yield train_index, test_index"
   ]
  },
  {
   "cell_type": "markdown",
   "metadata": {},
   "source": [
    "### 1. Standardization"
   ]
  },
  {
   "cell_type": "code",
   "execution_count": 21,
   "metadata": {},
   "outputs": [],
   "source": [
    "from sklearn.preprocessing import StandardScaler\n",
    "\n",
    "std_scaler = StandardScaler()\n",
    "cars_train_scaled = std_scaler.fit_transform(cars_train) # fitting/transforming on train set\n",
    "cars_test_scaled = std_scaler.transform(cars_test) # transforming on test set"
   ]
  },
  {
   "cell_type": "code",
   "execution_count": 22,
   "metadata": {},
   "outputs": [],
   "source": [
    "# from sklearn.preprocessing import MinMaxScaler\n",
    "\n",
    "# mm_scaler = MinMaxScaler()\n",
    "# cars_train_scaled = mm_scaler.fit_transform(cars_train)\n",
    "# cars_test_scaled = mm_scaler.transform(cars_test)"
   ]
  },
  {
   "cell_type": "markdown",
   "metadata": {},
   "source": [
    "#### DummyClassifier - Scaled"
   ]
  },
  {
   "cell_type": "code",
   "execution_count": 23,
   "metadata": {},
   "outputs": [],
   "source": [
    "result = []\n",
    "strategies = ['stratified', 'most_frequent', 'prior', 'uniform']\n",
    "\n",
    "for st in strategies:\n",
    "    acc = []\n",
    "    dc = DummyClassifier(strategy=st)\n",
    "    for train, train_labels, test, test_labels in Cross_Validation(cars_train_scaled, cars_train_labels, 10):\n",
    "        dc.fit(train, train_labels)\n",
    "        pred = dc.predict(test)\n",
    "        acc.append(accuracy_score(test_labels, pred) * 100)\n",
    "    result.append(sum(acc)/len(acc))\n",
    "    \n",
    "dummy_scaled = max(result)"
   ]
  },
  {
   "cell_type": "code",
   "execution_count": 24,
   "metadata": {},
   "outputs": [
    {
     "name": "stdout",
     "output_type": "stream",
     "text": [
      "Dummy_default: 30.0\n",
      "Dummy_scaled: 24.991220368744514\n"
     ]
    }
   ],
   "source": [
    "print(\"Dummy_default: \" + str(dummy_default))\n",
    "print(\"Dummy_scaled: \" + str(dummy_scaled))"
   ]
  },
  {
   "cell_type": "markdown",
   "metadata": {},
   "source": [
    "#### KNeighbors - Scaled"
   ]
  },
  {
   "cell_type": "code",
   "execution_count": 25,
   "metadata": {},
   "outputs": [],
   "source": [
    "result = []\n",
    "neighbors = [i+1 for i in range(30)]\n",
    "\n",
    "for el in neighbors:\n",
    "    acc = []\n",
    "    knn = KNeighborsClassifier(n_neighbors=el)\n",
    "    for train, train_labels, test, test_labels in Cross_Validation(cars_train_scaled, cars_train_labels, 10):\n",
    "        knn.fit(train, train_labels)\n",
    "        pred = knn.predict(test)\n",
    "        acc.append(accuracy_score(test_labels, pred) * 100)\n",
    "    result.append(sum(acc)/len(acc))\n",
    "\n",
    "knn_scaled = max(result)"
   ]
  },
  {
   "cell_type": "code",
   "execution_count": 26,
   "metadata": {},
   "outputs": [
    {
     "name": "stdout",
     "output_type": "stream",
     "text": [
      "Knn_default: 67.05882352941175\n",
      "Knn_scaled: 70.26777875329236\n"
     ]
    }
   ],
   "source": [
    "print(\"Knn_default: \" + str(knn_default))\n",
    "print(\"Knn_scaled: \" + str(knn_scaled))"
   ]
  },
  {
   "cell_type": "markdown",
   "metadata": {},
   "source": [
    "#### RandomForests - Scaled"
   ]
  },
  {
   "cell_type": "code",
   "execution_count": 27,
   "metadata": {},
   "outputs": [],
   "source": [
    "from sklearn.ensemble import RandomForestClassifier\n",
    "\n",
    "result = []\n",
    "estimators = [10, 100, 250, 500, 750, 1000]\n",
    "\n",
    "for est in estimators:\n",
    "    acc = []\n",
    "    rfc = RandomForestClassifier(n_estimators=est, max_features='log2')\n",
    "    for train, train_labels, test, test_labels in Cross_Validation(cars_train_scaled, cars_train_labels, 10):\n",
    "        rfc.fit(train, train_labels)\n",
    "        pred = rfc.predict(test)\n",
    "        acc.append(accuracy_score(test_labels, pred) * 100)\n",
    "    result.append(sum(acc)/len(acc))\n",
    "    \n",
    "rf_scaled = max(result)"
   ]
  },
  {
   "cell_type": "markdown",
   "metadata": {},
   "source": [
    "#### LogisticRegression - Scaled"
   ]
  },
  {
   "cell_type": "code",
   "execution_count": 28,
   "metadata": {},
   "outputs": [],
   "source": [
    "from sklearn.linear_model import LogisticRegression\n",
    "\n",
    "result = []\n",
    "c = [100, 10, 1.0, 0.1, 0.01]\n",
    "slvr = ['newton-cg', 'lbfgs', 'liblinear', 'sag', 'saga']\n",
    "\n",
    "for s in slvr:\n",
    "    for num in c:\n",
    "        acc = []\n",
    "        lrc = LogisticRegression(solver=s, C=num)\n",
    "        for train, train_labels, test, test_labels in Cross_Validation(cars_train_scaled, cars_train_labels, 10):\n",
    "            lrc.fit(train, train_labels)\n",
    "            pred = lrc.predict(test)\n",
    "            acc.append(accuracy_score(test_labels, pred) * 100)\n",
    "        result.append(sum(acc)/len(acc))\n",
    "    \n",
    "lr_scaled = max(result)"
   ]
  },
  {
   "cell_type": "markdown",
   "metadata": {},
   "source": [
    "### 2. Univariate Selection - Standardization"
   ]
  },
  {
   "cell_type": "code",
   "execution_count": 29,
   "metadata": {},
   "outputs": [],
   "source": [
    "from sklearn.feature_selection import f_classif, chi2, mutual_info_classif\n",
    "from sklearn.feature_selection import SelectKBest\n",
    "\n",
    "fs = SelectKBest(score_func=f_classif, k=10)\n",
    "cars_train_selected = fs.fit_transform(cars_train, cars_train_labels)\n",
    "cars_train_selected_scaled = std_scaler.fit_transform(cars_train_selected)"
   ]
  },
  {
   "cell_type": "markdown",
   "metadata": {},
   "source": [
    "#### DummyClassifier - Selected, Scaled"
   ]
  },
  {
   "cell_type": "code",
   "execution_count": 30,
   "metadata": {},
   "outputs": [],
   "source": [
    "result = []\n",
    "\n",
    "for st in strategies:\n",
    "    acc = []\n",
    "    dc = DummyClassifier(strategy=st)\n",
    "    for train, train_labels, test, test_labels in Cross_Validation(cars_train_selected_scaled, cars_train_labels, 10):\n",
    "        dc.fit(train, train_labels)\n",
    "        pred = dc.predict(test)\n",
    "        acc.append(accuracy_score(test_labels, pred) * 100)\n",
    "    result.append(sum(acc)/len(acc))\n",
    "    \n",
    "dummy_Uselected_scaled = max(result)"
   ]
  },
  {
   "cell_type": "code",
   "execution_count": 31,
   "metadata": {},
   "outputs": [
    {
     "name": "stdout",
     "output_type": "stream",
     "text": [
      "Dummy_default: 30.0\n",
      "Dummy_scaled: 24.991220368744514\n",
      "Dummy_Uselected_scaled: 26.00526777875329\n"
     ]
    }
   ],
   "source": [
    "print(\"Dummy_default: \" + str(dummy_default))\n",
    "print(\"Dummy_scaled: \" + str(dummy_scaled))\n",
    "print(\"Dummy_Uselected_scaled: \" + str(dummy_Uselected_scaled))"
   ]
  },
  {
   "cell_type": "markdown",
   "metadata": {},
   "source": [
    "#### KNeighbors - Selected, Scaled"
   ]
  },
  {
   "cell_type": "code",
   "execution_count": 32,
   "metadata": {},
   "outputs": [],
   "source": [
    "result = []\n",
    "\n",
    "for el in neighbors:\n",
    "    acc = []\n",
    "    knn = KNeighborsClassifier(n_neighbors=el)\n",
    "    for train, train_labels, test, test_labels in Cross_Validation(cars_train_selected_scaled, cars_train_labels, 10):\n",
    "        knn.fit(train, train_labels)\n",
    "        pred = knn.predict(test)\n",
    "        acc.append(accuracy_score(test_labels, pred) * 100)\n",
    "    result.append(sum(acc)/len(acc))\n",
    "\n",
    "knn_Uselected_scaled = max(result)"
   ]
  },
  {
   "cell_type": "code",
   "execution_count": 33,
   "metadata": {},
   "outputs": [
    {
     "name": "stdout",
     "output_type": "stream",
     "text": [
      "Knn_default: 67.05882352941175\n",
      "Knn_scaled: 70.26777875329236\n",
      "Knn_Uselected_scaled: 71.29719051799825\n"
     ]
    }
   ],
   "source": [
    "print(\"Knn_default: \" + str(knn_default))\n",
    "print(\"Knn_scaled: \" + str(knn_scaled))\n",
    "print(\"Knn_Uselected_scaled: \" + str(knn_Uselected_scaled))"
   ]
  },
  {
   "cell_type": "markdown",
   "metadata": {},
   "source": [
    "#### RandomForest - Selected, Scaled"
   ]
  },
  {
   "cell_type": "code",
   "execution_count": 34,
   "metadata": {},
   "outputs": [],
   "source": [
    "result = []\n",
    "\n",
    "for est in estimators:\n",
    "    acc = []\n",
    "    rfc = RandomForestClassifier(n_estimators=est, max_features='log2')\n",
    "    for train, train_labels, test, test_labels in Cross_Validation(cars_train_selected_scaled, cars_train_labels, 10):\n",
    "        rfc.fit(train, train_labels)\n",
    "        pred = rfc.predict(test)\n",
    "        acc.append(accuracy_score(test_labels, pred) * 100)\n",
    "    result.append(sum(acc)/len(acc))\n",
    "    \n",
    "rf_Uselected_scaled = max(result)"
   ]
  },
  {
   "cell_type": "code",
   "execution_count": 35,
   "metadata": {},
   "outputs": [
    {
     "name": "stdout",
     "output_type": "stream",
     "text": [
      "Rf_scaled: 74.99780509218611\n",
      "Rf_Uselected_scaled: 75.3116769095698\n"
     ]
    }
   ],
   "source": [
    "print(\"Rf_scaled: \" + str(rf_scaled))\n",
    "print(\"Rf_Uselected_scaled: \" + str(rf_Uselected_scaled))"
   ]
  },
  {
   "cell_type": "markdown",
   "metadata": {},
   "source": [
    "#### LogisticRegression - Selected, Scaled"
   ]
  },
  {
   "cell_type": "code",
   "execution_count": 36,
   "metadata": {},
   "outputs": [],
   "source": [
    "result = []\n",
    "\n",
    "for s in slvr:\n",
    "    for num in c:\n",
    "        acc = []\n",
    "        lrc = LogisticRegression(solver=s, C=num)\n",
    "        for train, train_labels, test, test_labels in Cross_Validation(cars_train_selected_scaled, cars_train_labels, 10):\n",
    "            lrc.fit(train, train_labels)\n",
    "            pred = lrc.predict(test)\n",
    "            acc.append(accuracy_score(test_labels, pred) * 100)\n",
    "        result.append(sum(acc)/len(acc))\n",
    "    \n",
    "lr_Uselected_scaled = max(result)"
   ]
  },
  {
   "cell_type": "code",
   "execution_count": 37,
   "metadata": {},
   "outputs": [
    {
     "name": "stdout",
     "output_type": "stream",
     "text": [
      "Lr_scaled: 77.82265144863916\n",
      "Lr_Uselected_scaled: 69.84196663740123\n"
     ]
    }
   ],
   "source": [
    "print(\"Lr_scaled: \" + str(lr_scaled))\n",
    "print(\"Lr_Uselected_scaled: \" + str(lr_Uselected_scaled))"
   ]
  },
  {
   "cell_type": "markdown",
   "metadata": {},
   "source": [
    "### 3. Feature Importance - Standardization"
   ]
  },
  {
   "cell_type": "code",
   "execution_count": 38,
   "metadata": {},
   "outputs": [
    {
     "name": "stdout",
     "output_type": "stream",
     "text": [
      "[0.05215586 0.03851145 0.05320662 0.03805984 0.03949669 0.1422964\n",
      " 0.04853233 0.0516943  0.03644411 0.06190742 0.08640265 0.07228662\n",
      " 0.0340089  0.04807457 0.04039919 0.04064159 0.05872657 0.05715488]\n"
     ]
    },
    {
     "data": {
      "image/png": "[encoded data removed]",
      "text/plain": [
       "<Figure size 432x288 with 1 Axes>"
      ]
     },
     "metadata": {
      "needs_background": "light"
     },
     "output_type": "display_data"
    }
   ],
   "source": [
    "from sklearn.ensemble import ExtraTreesClassifier\n",
    "\n",
    "model = RandomForestClassifier(random_state=101)\n",
    "model.fit(cars_train, cars_train_labels)\n",
    "print(model.feature_importances_) #use inbuilt class feature_importances of tree based classifiers\n",
    "\n",
    "#plot graph of feature importances for better visualization\n",
    "feat_importances = pd.Series(model.feature_importances_, index=cars_train.columns)\n",
    "feat_importances.nlargest(10).plot(kind='barh')\n",
    "plt.show()"
   ]
  },
  {
   "cell_type": "code",
   "execution_count": 39,
   "metadata": {},
   "outputs": [],
   "source": [
    "cars_reduced = cars_train[['max.length_aspect_ratio', 'distance_circularity', 'elongatedness', 'max.length_rectangularity',\n",
    "                           'minor.axis_scaled_variance', 'scatter_ratio', 'pr.axis_aspect_ratio', 'hollows_ratio']]\n",
    "\n",
    "cars_reduced = std_scaler.fit_transform(cars_reduced)"
   ]
  },
  {
   "cell_type": "markdown",
   "metadata": {},
   "source": [
    "#### DummyClassifier - ImportanceSelected, Scaled"
   ]
  },
  {
   "cell_type": "code",
   "execution_count": 40,
   "metadata": {},
   "outputs": [],
   "source": [
    "result = []\n",
    "\n",
    "for st in strategies:\n",
    "    acc = []\n",
    "    dc = DummyClassifier(strategy=st)\n",
    "    for train, train_labels, test, test_labels in Cross_Validation(cars_reduced, cars_train_labels, 10):\n",
    "        dc.fit(train, train_labels)\n",
    "        pred = dc.predict(test)\n",
    "        acc.append(accuracy_score(test_labels, pred) * 100)\n",
    "    result.append(sum(acc)/len(acc))\n",
    "    \n",
    "dummy_IMselected_scaled = max(result)"
   ]
  },
  {
   "cell_type": "code",
   "execution_count": 41,
   "metadata": {},
   "outputs": [
    {
     "name": "stdout",
     "output_type": "stream",
     "text": [
      "Dummy_default: 30.0\n",
      "Dummy_scaled: 24.991220368744514\n",
      "Dummy_Uselected_scaled: 26.00526777875329\n",
      "Dummy_IMselected_scaled: 26.7603160667252\n"
     ]
    }
   ],
   "source": [
    "print(\"Dummy_default: \" + str(dummy_default))\n",
    "print(\"Dummy_scaled: \" + str(dummy_scaled))\n",
    "print(\"Dummy_Uselected_scaled: \" + str(dummy_Uselected_scaled))\n",
    "print(\"Dummy_IMselected_scaled: \" + str(dummy_IMselected_scaled))"
   ]
  },
  {
   "cell_type": "markdown",
   "metadata": {},
   "source": [
    "#### KNeighbors - ImportanceSelected, Scaled"
   ]
  },
  {
   "cell_type": "code",
   "execution_count": 42,
   "metadata": {},
   "outputs": [],
   "source": [
    "result = []\n",
    "\n",
    "for el in neighbors:\n",
    "    acc = []\n",
    "    knn = KNeighborsClassifier(n_neighbors=el)\n",
    "    for train, train_labels, test, test_labels in Cross_Validation(cars_reduced, cars_train_labels, 10):\n",
    "        knn.fit(train, train_labels)\n",
    "        pred = knn.predict(test)\n",
    "        acc.append(accuracy_score(test_labels, pred) * 100)\n",
    "    result.append(sum(acc)/len(acc))\n",
    "\n",
    "knn_IMselected_scaled = max(result)"
   ]
  },
  {
   "cell_type": "code",
   "execution_count": 43,
   "metadata": {},
   "outputs": [
    {
     "name": "stdout",
     "output_type": "stream",
     "text": [
      "Knn_default: 67.05882352941175\n",
      "Knn_scaled: 70.26777875329236\n",
      "Knn_Uselected_scaled: 71.29719051799825\n",
      "Knn_IMselected_scaled: 71.45961369622475\n"
     ]
    }
   ],
   "source": [
    "print(\"Knn_default: \" + str(knn_default))\n",
    "print(\"Knn_scaled: \" + str(knn_scaled))\n",
    "print(\"Knn_Uselected_scaled: \" + str(knn_Uselected_scaled))\n",
    "print(\"Knn_IMselected_scaled: \" + str(knn_IMselected_scaled))"
   ]
  },
  {
   "cell_type": "markdown",
   "metadata": {},
   "source": [
    "#### RandomForests - ImportanceSelected, Scaled"
   ]
  },
  {
   "cell_type": "code",
   "execution_count": 44,
   "metadata": {},
   "outputs": [],
   "source": [
    "result = []\n",
    "\n",
    "for est in estimators:\n",
    "    acc = []\n",
    "    rfc = RandomForestClassifier(n_estimators=est, max_features='log2')\n",
    "    for train, train_labels, test, test_labels in Cross_Validation(cars_reduced, cars_train_labels, 10):\n",
    "        rfc.fit(train, train_labels)\n",
    "        pred = rfc.predict(test)\n",
    "        acc.append(accuracy_score(test_labels, pred) * 100)\n",
    "    result.append(sum(acc)/len(acc))\n",
    "    \n",
    "rf_IMselected_scaled = max(result)"
   ]
  },
  {
   "cell_type": "code",
   "execution_count": 45,
   "metadata": {},
   "outputs": [
    {
     "name": "stdout",
     "output_type": "stream",
     "text": [
      "Rf_scaled: 74.99780509218611\n",
      "Rf_Uselected_scaled: 75.3116769095698\n",
      "Rf_IMselected_scaled: 72.17954345917471\n"
     ]
    }
   ],
   "source": [
    "print(\"Rf_scaled: \" + str(rf_scaled))\n",
    "print(\"Rf_Uselected_scaled: \" + str(rf_Uselected_scaled))\n",
    "print(\"Rf_IMselected_scaled: \" + str(rf_IMselected_scaled))"
   ]
  },
  {
   "cell_type": "markdown",
   "metadata": {},
   "source": [
    "#### LogisticRegression - ImportanceSelected, Scaled"
   ]
  },
  {
   "cell_type": "code",
   "execution_count": 46,
   "metadata": {},
   "outputs": [],
   "source": [
    "result = []\n",
    "\n",
    "for s in slvr:\n",
    "    for num in c:\n",
    "        acc = []\n",
    "        lrc = LogisticRegression(solver=s, C=num)\n",
    "        for train, train_labels, test, test_labels in Cross_Validation(cars_reduced, cars_train_labels, 10):\n",
    "            lrc.fit(train, train_labels)\n",
    "            pred = lrc.predict(test)\n",
    "            acc.append(accuracy_score(test_labels, pred) * 100)\n",
    "        result.append(sum(acc)/len(acc))\n",
    "    \n",
    "lr_IMselected_scaled = max(result)"
   ]
  },
  {
   "cell_type": "code",
   "execution_count": 47,
   "metadata": {},
   "outputs": [
    {
     "name": "stdout",
     "output_type": "stream",
     "text": [
      "Lr_scaled: 77.82265144863916\n",
      "Lr_Uselected_scaled: 69.84196663740123\n",
      "Lr_IMselected_scaled: 66.14135206321335\n"
     ]
    }
   ],
   "source": [
    "print(\"Lr_scaled: \" + str(lr_scaled))\n",
    "print(\"Lr_Uselected_scaled: \" + str(lr_Uselected_scaled))\n",
    "print(\"Lr_IMselected_scaled: \" + str(lr_IMselected_scaled))"
   ]
  },
  {
   "cell_type": "markdown",
   "metadata": {},
   "source": [
    "### 4. Recursive Feature Elimination - Standardization"
   ]
  },
  {
   "cell_type": "code",
   "execution_count": 48,
   "metadata": {},
   "outputs": [],
   "source": [
    "from sklearn.feature_selection import RFE\n",
    "\n",
    "rfe_selector = RFE(estimator=LogisticRegression(), n_features_to_select=12, step=10, verbose=0)\n",
    "rfe_selector.fit(cars_train, cars_train_labels)\n",
    "\n",
    "cars_train_rfe = rfe_selector.transform(cars_train)\n",
    "cars_train_rfe = std_scaler.fit_transform(cars_train_rfe)"
   ]
  },
  {
   "cell_type": "code",
   "execution_count": 49,
   "metadata": {},
   "outputs": [],
   "source": [
    "from sklearn.decomposition import FastICA\n",
    "\n",
    "ica = FastICA(n_components=11)\n",
    "cars_train_rfe_ica = ica.fit_transform(cars_train_rfe)"
   ]
  },
  {
   "cell_type": "markdown",
   "metadata": {},
   "source": [
    "#### DummyClassifier - RFE, Scaled"
   ]
  },
  {
   "cell_type": "code",
   "execution_count": 50,
   "metadata": {},
   "outputs": [],
   "source": [
    "result = []\n",
    "\n",
    "for st in strategies:\n",
    "    acc = []\n",
    "    dc = DummyClassifier(strategy=st)\n",
    "    for train, train_labels, test, test_labels in Cross_Validation(cars_train_rfe, cars_train_labels, 10):\n",
    "        dc.fit(train, train_labels)\n",
    "        pred = dc.predict(test)\n",
    "        acc.append(accuracy_score(test_labels, pred) * 100)\n",
    "    result.append(sum(acc)/len(acc))\n",
    "    \n",
    "dummy_RFEselected_scaled = max(result)"
   ]
  },
  {
   "cell_type": "code",
   "execution_count": 51,
   "metadata": {},
   "outputs": [
    {
     "name": "stdout",
     "output_type": "stream",
     "text": [
      "Dummy_default: 30.0\n",
      "Dummy_scaled: 24.991220368744514\n",
      "Dummy_Uselected_scaled: 26.00526777875329\n",
      "Dummy_IMselected_scaled: 26.7603160667252\n",
      "Dummy_RFEselected_scaled: 23.52282704126427\n"
     ]
    }
   ],
   "source": [
    "print(\"Dummy_default: \" + str(dummy_default))\n",
    "print(\"Dummy_scaled: \" + str(dummy_scaled))\n",
    "print(\"Dummy_Uselected_scaled: \" + str(dummy_Uselected_scaled))\n",
    "print(\"Dummy_IMselected_scaled: \" + str(dummy_IMselected_scaled))\n",
    "print(\"Dummy_RFEselected_scaled: \" + str(dummy_RFEselected_scaled))"
   ]
  },
  {
   "cell_type": "markdown",
   "metadata": {},
   "source": [
    "#### KNeighbors - RFE, Scaled"
   ]
  },
  {
   "cell_type": "code",
   "execution_count": 52,
   "metadata": {},
   "outputs": [],
   "source": [
    "result = []\n",
    "\n",
    "for el in neighbors:\n",
    "    acc = []\n",
    "    knn = KNeighborsClassifier(n_neighbors=el)\n",
    "    for train, train_labels, test, test_labels in Cross_Validation(cars_train_rfe, cars_train_labels, 10):\n",
    "        knn.fit(train, train_labels)\n",
    "        pred = knn.predict(test)\n",
    "        acc.append(accuracy_score(test_labels, pred) * 100)\n",
    "    result.append(sum(acc)/len(acc))\n",
    "\n",
    "knn_RFEselected_scaled = max(result)"
   ]
  },
  {
   "cell_type": "code",
   "execution_count": 53,
   "metadata": {},
   "outputs": [],
   "source": [
    "result = []\n",
    "\n",
    "for el in neighbors:\n",
    "    acc = []\n",
    "    knn = KNeighborsClassifier(n_neighbors=el)\n",
    "    for train, train_labels, test, test_labels in Cross_Validation(cars_train_rfe_ica, cars_train_labels, 10):\n",
    "        knn.fit(train, train_labels)\n",
    "        pred = knn.predict(test)\n",
    "        acc.append(accuracy_score(test_labels, pred) * 100)\n",
    "    result.append(sum(acc)/len(acc))\n",
    "\n",
    "knn_RFEselected_scaled_ica = max(result)"
   ]
  },
  {
   "cell_type": "code",
   "execution_count": 54,
   "metadata": {},
   "outputs": [
    {
     "name": "stdout",
     "output_type": "stream",
     "text": [
      "Knn_default: 67.05882352941175\n",
      "Knn_scaled: 70.26777875329236\n",
      "Knn_Uselected_scaled: 71.29719051799825\n",
      "Knn_IMselected_scaled: 71.45961369622475\n",
      "Knn_RFEselected_scaled: 73.38454784899034\n",
      "Knn_RFEselected_scaled_ica: 79.61369622475857\n"
     ]
    }
   ],
   "source": [
    "print(\"Knn_default: \" + str(knn_default))\n",
    "print(\"Knn_scaled: \" + str(knn_scaled))\n",
    "print(\"Knn_Uselected_scaled: \" + str(knn_Uselected_scaled))\n",
    "print(\"Knn_IMselected_scaled: \" + str(knn_IMselected_scaled))\n",
    "print(\"Knn_RFEselected_scaled: \" + str(knn_RFEselected_scaled))\n",
    "print(\"Knn_RFEselected_scaled_ica: \" + str(knn_RFEselected_scaled_ica))"
   ]
  },
  {
   "cell_type": "markdown",
   "metadata": {},
   "source": [
    "#### RandomForests - RFE, Scaled"
   ]
  },
  {
   "cell_type": "code",
   "execution_count": 55,
   "metadata": {},
   "outputs": [],
   "source": [
    "result = []\n",
    "\n",
    "for est in estimators:\n",
    "    acc = []\n",
    "    rfc = RandomForestClassifier(n_estimators=est, max_features='log2')\n",
    "    for train, train_labels, test, test_labels in Cross_Validation(cars_train_rfe, cars_train_labels, 10):\n",
    "        rfc.fit(train, train_labels)\n",
    "        pred = rfc.predict(test)\n",
    "        acc.append(accuracy_score(test_labels, pred) * 100)\n",
    "    result.append(sum(acc)/len(acc))\n",
    "    \n",
    "rf_RFEselected_scaled = max(result)"
   ]
  },
  {
   "cell_type": "code",
   "execution_count": 56,
   "metadata": {},
   "outputs": [
    {
     "name": "stdout",
     "output_type": "stream",
     "text": [
      "Rf_scaled: 74.99780509218611\n",
      "Rf_Uselected_scaled: 75.3116769095698\n",
      "Rf_IMselected_scaled: 72.17954345917471\n",
      "Rf_RFEselected_scaled: 76.63740122914837\n"
     ]
    }
   ],
   "source": [
    "print(\"Rf_scaled: \" + str(rf_scaled))\n",
    "print(\"Rf_Uselected_scaled: \" + str(rf_Uselected_scaled))\n",
    "print(\"Rf_IMselected_scaled: \" + str(rf_IMselected_scaled))\n",
    "print(\"Rf_RFEselected_scaled: \" + str(rf_RFEselected_scaled))"
   ]
  },
  {
   "cell_type": "markdown",
   "metadata": {},
   "source": [
    "#### LogisticRegression - RFE, Scaled"
   ]
  },
  {
   "cell_type": "code",
   "execution_count": 57,
   "metadata": {},
   "outputs": [],
   "source": [
    "result = []\n",
    "\n",
    "for s in slvr:\n",
    "    for num in c:\n",
    "        acc = []\n",
    "        lrc = LogisticRegression(solver=s, C=num)\n",
    "        for train, train_labels, test, test_labels in Cross_Validation(cars_train_rfe, cars_train_labels, 10):\n",
    "            lrc.fit(train, train_labels)\n",
    "            pred = lrc.predict(test)\n",
    "            acc.append(accuracy_score(test_labels, pred) * 100)\n",
    "        result.append(sum(acc)/len(acc))\n",
    "    \n",
    "lr_RFEselected_scaled = max(result)"
   ]
  },
  {
   "cell_type": "code",
   "execution_count": 58,
   "metadata": {},
   "outputs": [
    {
     "name": "stdout",
     "output_type": "stream",
     "text": [
      "Lr_scaled: 77.82265144863916\n",
      "Lr_Uselected_scaled: 69.84196663740123\n",
      "Lr_IMselected_scaled: 66.14135206321335\n",
      "Lr_RFEselected_scaled: 76.49692712906058\n"
     ]
    }
   ],
   "source": [
    "print(\"Lr_scaled: \" + str(lr_scaled))\n",
    "print(\"Lr_Uselected_scaled: \" + str(lr_Uselected_scaled))\n",
    "print(\"Lr_IMselected_scaled: \" + str(lr_IMselected_scaled))\n",
    "print(\"Lr_RFEselected_scaled: \" + str(lr_RFEselected_scaled))"
   ]
  }
 ],
 "metadata": {
  "kernelspec": {
   "display_name": "Python 3",
   "language": "python",
   "name": "python3"
  },
  "language_info": {
   "codemirror_mode": {
    "name": "ipython",
    "version": 3
   },
   "file_extension": ".py",
   "mimetype": "text/x-python",
   "name": "python",
   "nbconvert_exporter": "python",
   "pygments_lexer": "ipython3",
   "version": "3.7.5"
  }
 },
 "nbformat": 4,
 "nbformat_minor": 2
}
