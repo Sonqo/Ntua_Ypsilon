{
  "nbformat": 4,
  "nbformat_minor": 0,
  "metadata": {
    "accelerator": "GPU",
    "colab": {
      "name": "CIFAR.ipynb",
      "provenance": [],
      "collapsed_sections": [
        "HUPTXpNqvrB0",
        "DfEMjsB4Yurm",
        "TnLNfKKYeA5T",
        "x5q3SI0_eLxI",
        "0cniJE8eZQAA",
        "ntFDPZhGBG38",
        "onYIggE9Z2f4",
        "Waa4c40Yay3k",
        "G90DtSdo7iB3",
        "KK2W1f9VAy2w",
        "IDUdlPFmBKRS",
        "84kNtYVsBwKW",
        "cFTzQtMOa3Rv",
        "xHV1wb_WCkRr",
        "x0SLth49VXHm",
        "L18ogH6CWHkV",
        "sGUoX3M0ROUx",
        "ndzFalgIRSVk",
        "TcE_Bmg-RUnN",
        "Ovv2gu5VWUfR",
        "12z4zsoVbPWR"
      ],
      "toc_visible": true
    },
    "kernelspec": {
      "display_name": "Python 3",
      "language": "python",
      "name": "python3"
    },
    "language_info": {
      "codemirror_mode": {
        "name": "ipython",
        "version": 3
      },
      "file_extension": ".py",
      "mimetype": "text/x-python",
      "name": "python",
      "nbconvert_exporter": "python",
      "pygments_lexer": "ipython3",
      "version": "3.7.4"
    }
  },
  "cells": [
    {
      "cell_type": "code",
      "metadata": {
        "colab_type": "code",
        "id": "DsRt5JelvV7u",
        "colab": {}
      },
      "source": [
        "%tensorflow_version 2.x # selecting tensorflow version\n",
        "\n",
        "!sudo pip install --upgrade pip;\n",
        "!sudo pip install --upgrade tensorflow;"
      ],
      "execution_count": null,
      "outputs": []
    },
    {
      "cell_type": "code",
      "metadata": {
        "id": "LC4chwxmi-kw",
        "colab_type": "code",
        "colab": {}
      },
      "source": [
        "import warnings\n",
        "warnings.filterwarnings('ignore')"
      ],
      "execution_count": 2,
      "outputs": []
    },
    {
      "cell_type": "markdown",
      "metadata": {
        "id": "ZrQjLRlRDTSH",
        "colab_type": "text"
      },
      "source": [
        "---\n",
        "\n",
        "## Στοιχεία Ομάδας\n",
        "\n",
        "Αριθμός Ομάδας F05\n",
        "\n",
        "  > Καρυπιάδης Ευστράτιος: 03114911\n",
        "  \n",
        "  > Σταματελόπουλος Νικόλαος: 03116138"
      ]
    },
    {
      "cell_type": "markdown",
      "metadata": {
        "colab_type": "text",
        "id": "HUPTXpNqvrB0"
      },
      "source": [
        "---\n",
        "\n",
        "## Σύνολο Δεδομένων CIFAR-100\n",
        "\n",
        "Το σύνολο δεδομένων στο οποίο θα εργαστούμε είναι το [CIFAR-100](https://bit.ly/38CUquZ), το οποίο αποτελείται απο 60.000 έγχρωμες εικόνες διαστάσεων 32x32. Κάθε μία από αυτές ανήκει σε μία γενική(*fine*) και μία ειδική(*coarse*) κατηγορία του συνόλου, πλήθους 100 και 20 αντίστοιχα. Προς ταξινόμηση των δειγμάτων μας θα εκμεταλευτούμε μονάχα τις *fine* κατηγορίες των εικόνων που έχουμε στη διάθεσή μας.\n",
        "\n",
        "\t"
      ]
    },
    {
      "cell_type": "markdown",
      "metadata": {
        "colab_type": "text",
        "id": "DfEMjsB4Yurm"
      },
      "source": [
        "### Εισαγωγή συνόλου δεδομένων"
      ]
    },
    {
      "cell_type": "code",
      "metadata": {
        "colab_type": "code",
        "id": "APTpYiMCnZNl",
        "colab": {}
      },
      "source": [
        "import tensorflow as tf\n",
        "import tensorflow_addons as tfa\n",
        "from tensorflow.keras import datasets, layers, models, utils\n",
        "from __future__ import absolute_import, division, print_function, unicode_literals\n",
        "\n",
        "import numpy as np\n",
        "import pandas as pd\n",
        "import matplotlib.pyplot as plt\n",
        "\n",
        "# loading the entire dataset\n",
        "(x_train_all, y_train_all), (x_test_all, y_test_all) = tf.keras.datasets.cifar100.load_data(label_mode='fine')"
      ],
      "execution_count": null,
      "outputs": []
    },
    {
      "cell_type": "markdown",
      "metadata": {
        "colab_type": "text",
        "id": "oQ2L6rGVnpKv"
      },
      "source": [
        "Για τους σκοπούς της άσκησης **δε** θα εκμεταλλευτούμε ολόκληρο το σύνολο δεδομένων, αλλά θα δουλέψουμε σε ένα υποσύνολο αυτού σύμφώνα με τον αύξοντα αριθμό της ομάδας μας, `team_seed`. Στη συνέχεια υλοποιούμε μία σειρά βοηθητικών συναρτήσεων που θα μας βοηθήσουν σε αυτόν το διαχωρισμό:"
      ]
    },
    {
      "cell_type": "code",
      "metadata": {
        "colab_type": "code",
        "id": "2WSEGPI9Q7tW",
        "colab": {}
      },
      "source": [
        "def select_from_list(from_list, index_list):\n",
        "  \"\"\" Return from_list elemenents according to index contained in index_list. \"\"\"\n",
        "  filtered_list= [from_list[i] for i in index_list]\n",
        "  return(filtered_list)\n",
        "\n",
        "def get_ds_index(unfiliterd_list, target_list):\n",
        "  \"\"\" Append in filtered_list the index of each element in unfiltered_list if it exists in target_list. \"\"\"\n",
        "  index = 0\n",
        "  filtered_list=[]\n",
        "  for i_ in unfiliterd_list:\n",
        "    if i_[0] in target_list:\n",
        "      filtered_list.append(index)\n",
        "    index += 1\n",
        "  return(filtered_list)\n",
        "\n",
        "def select_classes_number(classes_number=20):\n",
        "  \"\"\" Select unique subset of CIFAR-100 with classes_number of classes. \"\"\"\n",
        "  if classes_number == 20:\n",
        "    return \"https://bit.ly/3b3Cewb\"\n",
        "  elif classes_number == 40:\n",
        "    return \"https://bit.ly/3aPo819\"\n",
        "  elif classes_number == 60:\n",
        "    return \"https://bit.ly/2Wbo47K\"\n",
        "  elif classes_number == 80:\n",
        "    return \"https://bit.ly/38NDW3d\"\n",
        "  else:\n",
        "    return -1"
      ],
      "execution_count": 4,
      "outputs": []
    },
    {
      "cell_type": "markdown",
      "metadata": {
        "colab_type": "text",
        "id": "TnLNfKKYeA5T"
      },
      "source": [
        "### Διαχωρισμός δεδομένων εκπαίδευσης - ελέγχου"
      ]
    },
    {
      "cell_type": "markdown",
      "metadata": {
        "colab_type": "text",
        "id": "8xYQ_Q1SVZEk"
      },
      "source": [
        "Στο επόμενο κελί επιλέγουμε το πλήθος των κατηγοριών με το οποίο επιθυμούμε να δουλέψουμε:"
      ]
    },
    {
      "cell_type": "code",
      "metadata": {
        "colab_type": "code",
        "id": "RhbZJW6PxUDJ",
        "colab": {}
      },
      "source": [
        "cifar100_classes_url = select_classes_number(classes_number=80) # default: 20 classes"
      ],
      "execution_count": 5,
      "outputs": []
    },
    {
      "cell_type": "markdown",
      "metadata": {
        "colab_type": "text",
        "id": "yO9f6wb0Wi0H"
      },
      "source": [
        "Δημιουργούμε το μοναδικό dataset της ομάδας μας:"
      ]
    },
    {
      "cell_type": "code",
      "metadata": {
        "colab_type": "code",
        "id": "PgIN2h_KuCp_",
        "colab": {}
      },
      "source": [
        "team_seed = 5 # team_seed number\n",
        "\n",
        "team_classes = pd.read_csv(cifar100_classes_url, sep=',', header=None) # fetch class indexes\n",
        "CIFAR100_LABELS_LIST = pd.read_csv(\"https://bit.ly/3cRO3qZ\", sep=',', header=None).astype(str).values.tolist()[0] # fetch class names\n",
        "\n",
        "our_index = team_classes.iloc[team_seed, :].values.tolist() # select team class indices\n",
        "our_classes = select_from_list(CIFAR100_LABELS_LIST, our_index) # select team class names\n",
        "\n",
        "train_index = get_ds_index(y_train_all, our_index)\n",
        "test_index = get_ds_index(y_test_all, our_index)\n",
        "\n",
        "# Train data and labels\n",
        "x_train_ds = np.asarray(select_from_list(x_train_all, train_index))\n",
        "y_train_ds = np.asarray(select_from_list(y_train_all, train_index))\n",
        "\n",
        "# Test data and labels\n",
        "x_test_ds = np.asarray(select_from_list(x_test_all, test_index))\n",
        "y_test_ds = np.asarray(select_from_list(y_test_all, test_index))"
      ],
      "execution_count": 6,
      "outputs": []
    },
    {
      "cell_type": "markdown",
      "metadata": {
        "colab_type": "text",
        "id": "oMrUsXJkqV71"
      },
      "source": [
        "Μετά την παραπάνω διαδικασία εμφανίζουμε τα ονόματα των κατηγοριών που αντιστοιχούν στην ομάδα μας:"
      ]
    },
    {
      "cell_type": "code",
      "metadata": {
        "colab_type": "code",
        "id": "_B4-tvVOQq3j",
        "colab": {
          "base_uri": "https://localhost:8080/",
          "height": 0
        },
        "outputId": "350c82b6-1f92-4915-ef28-9c2e5ea47a72"
      },
      "source": [
        "print(our_classes)"
      ],
      "execution_count": 7,
      "outputs": [
        {
          "output_type": "stream",
          "text": [
            "[' aquarium_fish', ' baby', ' bear', ' beaver', ' bee', ' bicycle', ' bottle', ' bowl', ' boy', ' bus', ' camel', ' can', ' castle', ' caterpillar', ' cattle', ' chair', ' clock', ' cloud', ' cockroach', ' crab', ' crocodile', ' cup', ' dinosaur', ' dolphin', ' elephant', ' flatfish', ' forest', ' fox', ' girl', ' hamster', ' kangaroo', ' keyboard', ' lamp', ' lawn_mower', ' leopard', ' lion', ' lizard', ' lobster', ' man', ' maple_tree', ' motorcycle', ' mountain', ' mouse', ' mushroom', ' orange', ' orchid', ' otter', ' palm_tree', ' pickup_truck', ' pine_tree', ' porcupine', ' possum', ' rabbit', ' raccoon', ' ray', ' road', ' rocket', ' rose', ' sea', ' seal', ' shark', ' skunk', ' skyscraper', ' snail', ' snake', ' squirrel', ' streetcar', ' sunflower', ' table', ' tank', ' television', ' tractor', ' train', ' trout', ' tulip', ' turtle', ' wardrobe', ' whale', ' wolf', ' worm']\n"
          ],
          "name": "stdout"
        }
      ]
    },
    {
      "cell_type": "markdown",
      "metadata": {
        "colab_type": "text",
        "id": "x5q3SI0_eLxI"
      },
      "source": [
        "### Επισκόπηση δεδομένων και κανονικοποίηση"
      ]
    },
    {
      "cell_type": "markdown",
      "metadata": {
        "colab_type": "text",
        "id": "lRWZ-JI5sH-J"
      },
      "source": [
        "Τέλος, για καλύτερη εποπτεία του συνόλου δεδομένων μας θα εξάγουμε ορισμένες χρήσιμες πληροφορίες για αυτό, ενώ παράλληλα θα κανονικοποιήσουμε τις τιμές αναπαράστασης των εικόνων:"
      ]
    },
    {
      "cell_type": "code",
      "metadata": {
        "colab_type": "code",
        "id": "QpGXgTs_5ZCk",
        "colab": {
          "base_uri": "https://localhost:8080/",
          "height": 0
        },
        "outputId": "84897071-d12b-42dc-d32a-ce92928a5e05"
      },
      "source": [
        "data_size, img_rows, img_cols, img_channels = x_train_ds.shape # get train dataset dimensions\n",
        "\n",
        "# Set validation set percentage\n",
        "validation_percentage = 0.15\n",
        "val_size = round(validation_percentage * data_size)\n",
        "\n",
        "# Reserve val_size samples for validation and normalize all values\n",
        "x_val = x_train_ds[-val_size:]/255\n",
        "y_val = y_train_ds[-val_size:]\n",
        "x_train = x_train_ds[:-val_size]/255\n",
        "y_train = y_train_ds[:-val_size]\n",
        "x_test = x_test_ds/255\n",
        "y_test = y_test_ds\n",
        "\n",
        "# Summarize loaded dataset\n",
        "print('Train:       X=%s, y=%s' % (x_train.shape, y_train.shape))\n",
        "print('Validation:  X=%s, y=%s' % (x_val.shape, y_val.shape))\n",
        "print('Test:        X=%s, y=%s' % (x_test.shape, y_test.shape))"
      ],
      "execution_count": 8,
      "outputs": [
        {
          "output_type": "stream",
          "text": [
            "Train:       X=(34000, 32, 32, 3), y=(34000, 1)\n",
            "Validation:  X=(6000, 32, 32, 3), y=(6000, 1)\n",
            "Test:        X=(8000, 32, 32, 3), y=(8000, 1)\n"
          ],
          "name": "stdout"
        }
      ]
    },
    {
      "cell_type": "markdown",
      "metadata": {
        "colab_type": "text",
        "id": "0cniJE8eZQAA"
      },
      "source": [
        "---\n",
        "\n",
        "## Συναρτήσεις Προετοιμασίας Δεδομένων και Οπτικοποίησης Απόδοσης"
      ]
    },
    {
      "cell_type": "markdown",
      "metadata": {
        "colab_type": "text",
        "id": "G3xB9x5JZjSN"
      },
      "source": [
        "Στη συνέχεια θα υλοποιήσουμε απαραίτητες συναρτήσεις προετοιμασίας των δεδομένων για εκπαίδευση, καθώς και οπτικοποίσης της τελικής απόδοσης των μοντέλων που πρόκειται να δοκιμάσουμε."
      ]
    },
    {
      "cell_type": "markdown",
      "metadata": {
        "colab_type": "text",
        "id": "ntFDPZhGBG38"
      },
      "source": [
        "### Συναρτήσεις εκπαίδευσης"
      ]
    },
    {
      "cell_type": "markdown",
      "metadata": {
        "colab_type": "text",
        "id": "1Yb9JrjxRM_C"
      },
      "source": [
        "Αρχικά θα υλοποιήσουμε την `_input_fn`, η οποία αποτελεί ένα *pipeline* που θα προετοιμάσει τα δεδομένα μας για την εκπαίδευση. Πιο συγκεκριμένα, χρησιμοποιούμε τις μεθόδους `shuffle`, `repeat` και `batch` της [tf.data.Dataset](https://bit.ly/2vk7EPr), ώστε να δημιουργήσουμε υποσύνολα 64 δειγμάτων, τα οποία ελήφθησαν τυχαίως από το ολικό μας σύνολο. Παρατηρούμε ότι η μέθοδος `repeat` είναι απαραίτητη για να αντιμετωπίσουμε τυχόν σφάλμα που θα προκύψει, εάν η μέθοδος `batch` επιχειρήσει να δημιουργήσει εκ νέου υποσύνολο, αφού έχει ομαδοποιήσει όλα τα διαθέσιμα δείγματα του συνόλου. \n",
        "\n",
        "Σημειώνουμε ότι η συνάρτηση επιστρέφει υποσύνολα δεδομένων `PrefetchDataset Objects`, μορφή η οποία επιταχύνει τη διαδικασία εκπαίδευσης, καθώς επιτρέπει το διάβασμα του επόμενου batch δεδομένων, ενώ παράλληλα εκπαιδεύεται το παρόν."
      ]
    },
    {
      "cell_type": "code",
      "metadata": {
        "colab_type": "code",
        "id": "KPFYqOmIa5Fr",
        "colab": {}
      },
      "source": [
        "BATCH_SIZE = 64\n",
        "AUTOTUNE = tf.data.experimental.AUTOTUNE\n",
        "\n",
        "def _input_fn(x, y, BATCH_SIZE):\n",
        "  \"\"\" Returns shuffled and batched tensors in the form of PrefetchDataset objects. \"\"\"\n",
        "  ds = tf.data.Dataset.from_tensor_slices((x, y))\n",
        "  ds = ds.shuffle(buffer_size=data_size)\n",
        "  ds = ds.repeat() # repeat indefinately\n",
        "  ds = ds.batch(BATCH_SIZE)\n",
        "  ds = ds.prefetch(buffer_size=AUTOTUNE)\n",
        "  return ds\n",
        "\n",
        "# PrefetchDataset objects\n",
        "train_ds =_input_fn(x_train, y_train, BATCH_SIZE)\n",
        "validation_ds =_input_fn(x_val, y_val, BATCH_SIZE)\n",
        "test_ds =_input_fn(x_test, y_test, BATCH_SIZE)"
      ],
      "execution_count": 9,
      "outputs": []
    },
    {
      "cell_type": "markdown",
      "metadata": {
        "colab_type": "text",
        "id": "ROU9zWYtTskk"
      },
      "source": [
        "Στη συνέχεια υλοποιούμε τη συνάρτηση `train_model`. Σημειώνουμε ότι με την παράμετρο `steps_per_epoch` μπορούμε να επιλέξουμε το πλήθος των *batches* στο οποίο επιθυμούμε να εκπαιδευτεί το μοντέλο μας πριν περάσει στην επόμενη εποχή."
      ]
    },
    {
      "cell_type": "code",
      "metadata": {
        "colab_type": "code",
        "id": "vSRY-a-gTtZ1",
        "colab": {}
      },
      "source": [
        "def train_model(model, epochs):\n",
        "  \"\"\" Training function. \"\"\"\n",
        "  history = model.fit(train_ds, epochs=epochs, steps_per_epoch=x_train.shape[0]//BATCH_SIZE, validation_data=validation_ds, validation_steps=x_val.shape[0]//BATCH_SIZE)\n",
        "  return(history)"
      ],
      "execution_count": 10,
      "outputs": []
    },
    {
      "cell_type": "markdown",
      "metadata": {
        "colab_type": "text",
        "id": "onYIggE9Z2f4"
      },
      "source": [
        "### Γραφικές παραστάσεις εκπαίδευσης και απόδοση στο σύνολο ελέγχου"
      ]
    },
    {
      "cell_type": "markdown",
      "metadata": {
        "colab_type": "text",
        "id": "qRH2ReXDUSif"
      },
      "source": [
        "Τέλος, υλοποιούμε συναρτήσεις οπτικοποίησης της απόδοσης της εκπαίδευσης προς εξαγωγή χρήσιμων πληροφοριών και μελέτη των αποτελεσμάτων που θα προκύψουν από τη δοκιμή των μοντέλων μας."
      ]
    },
    {
      "cell_type": "code",
      "metadata": {
        "colab_type": "code",
        "id": "vdWPm3zqbRo1",
        "colab": {}
      },
      "source": [
        "def summarize_diagnostics(history):\n",
        "\t\"\"\" Plot diagnostic learning curves. \"\"\"\n",
        "\tplt.figure(figsize=(10, 6))\n",
        "\tplt.title('Classification Accuracy')\n",
        "\tplt.plot(history.history['accuracy'], color='blue', label='Train')\n",
        "\tplt.plot(history.history['val_accuracy'], color='orange', label='Validation')\n",
        "\tplt.legend(loc='lower right')\n",
        "\tplt.grid()\n",
        "\tplt.show()\n",
        " \n",
        "def model_evaluation(model, evaluation_steps):\n",
        "\t\"\"\" Print test set and evaluation metrics. \"\"\"\n",
        "\tprint('\\nTest set evaluation metrics')\n",
        "\tloss0, accuracy0 = model.evaluate(test_ds, steps=x_test.shape[0]//BATCH_SIZE)\n",
        "\tprint(\"loss: {:.2f}\".format(loss0))\n",
        "\tprint(\"accuracy: {:.2f}\".format(accuracy0))\n",
        "\n",
        "def model_report(model, history, evaluation_steps=10):\n",
        "\tsummarize_diagnostics(history)\n",
        "\tmodel_evaluation(model, evaluation_steps)\n",
        " \n",
        "def summarize_all_diagnostics(m1, m2, m3, m4, m5):\n",
        "\tplt.figure(figsize=(10, 6))\n",
        "\tplt.title('Classification Accuracy')\n",
        "\tplt.plot(m1['accuracy'], color='red', linestyle='-', label='Softmax')\n",
        "\tplt.plot(m1['val_accuracy'], color='red', linestyle='--')\n",
        "\tplt.plot(m2['accuracy'], color='blue', linestyle='-', label='MLP')\n",
        "\tplt.plot(m2['val_accuracy'], color='blue', linestyle='--')\n",
        "\tplt.plot(m3['accuracy'], color='green', linestyle='-', label='LeNet')\n",
        "\tplt.plot(m3['val_accuracy'], color='green', linestyle='--')\n",
        "\tplt.plot(m4['accuracy'], color='orange', linestyle='-', label='CNN1')\n",
        "\tplt.plot(m4['val_accuracy'], color='orange', linestyle='--')\n",
        "\tplt.plot(m5['accuracy'], color='magenta', linestyle='-', label='CNN2')\n",
        "\tplt.plot(m5['val_accuracy'], color='magenta', linestyle='--')\n",
        "\tplt.legend(loc='lower right')\n",
        "\tplt.grid()\n",
        "\tplt.show()"
      ],
      "execution_count": 11,
      "outputs": []
    },
    {
      "cell_type": "markdown",
      "metadata": {
        "colab_type": "text",
        "id": "Waa4c40Yay3k"
      },
      "source": [
        "---\n",
        "\n",
        "## Ερώτημα 1: Μοντέλα Δικτύων"
      ]
    },
    {
      "cell_type": "code",
      "metadata": {
        "id": "hGbMwWoJ4HG0",
        "colab_type": "code",
        "colab": {}
      },
      "source": [
        "import json # for saving training history"
      ],
      "execution_count": 12,
      "outputs": []
    },
    {
      "cell_type": "markdown",
      "metadata": {
        "id": "pblFmOqGfUyI",
        "colab_type": "text"
      },
      "source": [
        "Στη συνέχεια καλούμαστε να υλοποιήσουμε 5 διαφορετικές αρχιτεκτονικές συνελικτικών δικτύων. Για κάθε μία από αυτές θα πρέπει να επιλέξουμε δύο βέλτιστους συνδυασμούς optimizer, loss function, metrics και epoch.\n",
        "\n",
        "- Σχετικά με τους [optimizers](https://keras.io/api/optimizers/) δοκιμάσαμε σε όλες τις αρχιτεκτονικές τους [Adam](https://keras.io/api/optimizers/adam/), [Nadam](https://keras.io/api/optimizers/Nadam/), [Adamax](https://keras.io/api/optimizers/adamax/), [Adagrad](https://keras.io/api/optimizers/adagrad/), [Adadelta](https://keras.io/api/optimizers/adadelta/), [RMSProp](https://keras.io/api/optimizers/rmsprop/) και [Stochastic Gradient Descent](https://keras.io/api/optimizers/sgd/). Επιλέξαμε δύο από αυτούς σε κάθε δίκτυο, ανάλογα με την απόδοσή τους. Αξίζει να σημειώσουμε ότι σε κάθε optimizer, πειραματιστήκαμε και με το ρυθμό μάθησης, για να αποφανθούμε για την επίδοσή του.\n",
        "\n",
        "- Μελετώντας το API του Keras, παρατηρούμε ότι η μοναδική [loss function](https://keras.io/api/losses/) που εξυπηρετεί την επίλυση του προβλήματός μας είναι η [Categorical Cross Entropy](https://keras.io/api/losses/probabilistic_losses/#categoricalcrossentropy-class). Καταλήγουμε σε αυτήν την επιλογή, αγνοώντας αφενός τα regression losses, καθώς δεν εφάπτονται της ταξινόμησης εικόνων που επιχειρούμε και αφετέρου τις συναρτήσεις Kullback-Leibler Divergence και Hinge. Σχετικά με τις δύο τελευταίες, παρατηρούμε ότι μέσα από πειραματισμούς μας δε φαίνεται να συγκλίνουν σε ελάχιστη τιμή, ενώ παράλληλα δίνουν χαμηλές τιμές απόδοσης στα metrics που δοκιμάσαμε. Επίσης σημειώνουμε ότι οι συγκεκριμένες συναρτήσεις συνηθίζεται να χρησιμοποιούνται σε διαφορετικού τύπου εφαρμογές, όπως για παράδειγμα στους Autoencoders.\n",
        "\n",
        "- Βασική μας [metric](https://keras.io/api/metrics/) συνάρτηση είναι η [ακρίβεια ταξινόμησης](https://keras.io/api/metrics/accuracy_metrics/#accuracy-class), πάνω στην οποία θα στηριχτούμε προκειμένου να αποφανθούμε για την απόδοση των δικτύων μας.\n",
        "\n",
        "- Τέλος, σημειώνουμε ότι κατά τη διαδικασία δοκιμών των παραπάνω παραμέτρων, εκπαιδεύσαμε πειραματικά κάθε δίκτυο για διάρκεια 10 εποχών. Σύμφωνα με τα αποτελέσματα που συλλέξαμε, επιλέξαμε για την εκάστοτε αρχιτεκτονική τους 2 καλύτερους συνδυασμούς, τους οποίους χρησιμοποιήσαμε για την ολοκληρωμένη εκπαίδευση, διάρκειας τουλάχιστον 50 εποχών, των τελικών 10 δικτύων μας."
      ]
    },
    {
      "cell_type": "markdown",
      "metadata": {
        "id": "G90DtSdo7iB3",
        "colab_type": "text"
      },
      "source": [
        "### Softmax"
      ]
    },
    {
      "cell_type": "markdown",
      "metadata": {
        "id": "YmeXejoGNng-",
        "colab_type": "text"
      },
      "source": [
        "Το πρώτο μοντέλο που θα εκπαιδεύσουμε εκμεταλλεύεται optimizer `Adam` με `lr=0.0001`. Παρατηρώντας το διάγραμμα απόδοσης που ακολουθεί, οι 50 `epochs` είναι αρκετές για την εκπαίδευση του μοντέλου, δεδομένου ότι δεν παρουσιάζεται τάση ανόδου για την απόδοση του δικτύου στα δεδομένα επαλήθευσης."
      ]
    },
    {
      "cell_type": "code",
      "metadata": {
        "id": "n9C0K-dfIBTi",
        "colab_type": "code",
        "colab": {}
      },
      "source": [
        "def init_softmax_adam(summary):\n",
        "  \n",
        "  model = models.Sequential()\n",
        "  \n",
        "  model.add(layers.Flatten(input_shape=(32, 32, 3)))\n",
        "  model.add(layers.Dense(200, activation='softmax'))\n",
        "  \n",
        "  model.compile(optimizer=tf.optimizers.Adam(lr=0.0001), loss=tf.keras.losses.sparse_categorical_crossentropy, metrics=[\"accuracy\"])\n",
        "  \n",
        "  if summary:\n",
        "    model.summary()\n",
        "  return model"
      ],
      "execution_count": null,
      "outputs": []
    },
    {
      "cell_type": "code",
      "metadata": {
        "id": "A86rZt6iIJP8",
        "colab_type": "code",
        "colab": {
          "base_uri": "https://localhost:8080/",
          "height": 1000
        },
        "outputId": "a5db58ff-5bee-41a6-84ca-59e0db442d92"
      },
      "source": [
        "# Initialize model\n",
        "SOFTMAX_MODEL_ADAM = init_softmax_adam(summary=True)\n",
        "\n",
        "# Train for 50 epochs\n",
        "SOFTMAX_MODEL_ADAM_history = train_model(SOFTMAX_MODEL_ADAM, 50)\n",
        "\n",
        "# Dump training history\n",
        "history_dict = SOFTMAX_MODEL_ADAM_history.history\n",
        "json.dump(history_dict, open('SOFTMAX_MODEL_ADAM.json', 'w'))"
      ],
      "execution_count": null,
      "outputs": [
        {
          "output_type": "stream",
          "text": [
            "Model: \"sequential_41\"\n",
            "_________________________________________________________________\n",
            "Layer (type)                 Output Shape              Param #   \n",
            "=================================================================\n",
            "flatten_41 (Flatten)         (None, 3072)              0         \n",
            "_________________________________________________________________\n",
            "dense_71 (Dense)             (None, 200)               614600    \n",
            "=================================================================\n",
            "Total params: 614,600\n",
            "Trainable params: 614,600\n",
            "Non-trainable params: 0\n",
            "_________________________________________________________________\n",
            "Epoch 1/50\n",
            "531/531 [==============================] - 2s 4ms/step - loss: 4.1378 - accuracy: 0.0693 - val_loss: 3.9297 - val_accuracy: 0.0985\n",
            "Epoch 2/50\n",
            "531/531 [==============================] - 2s 4ms/step - loss: 3.8280 - accuracy: 0.1216 - val_loss: 3.7978 - val_accuracy: 0.1263\n",
            "Epoch 3/50\n",
            "531/531 [==============================] - 2s 4ms/step - loss: 3.7180 - accuracy: 0.1426 - val_loss: 3.7267 - val_accuracy: 0.1381\n",
            "Epoch 4/50\n",
            "531/531 [==============================] - 2s 4ms/step - loss: 3.6505 - accuracy: 0.1569 - val_loss: 3.6838 - val_accuracy: 0.1527\n",
            "Epoch 5/50\n",
            "531/531 [==============================] - 2s 4ms/step - loss: 3.6027 - accuracy: 0.1689 - val_loss: 3.6536 - val_accuracy: 0.1559\n",
            "Epoch 6/50\n",
            "531/531 [==============================] - 2s 4ms/step - loss: 3.5667 - accuracy: 0.1764 - val_loss: 3.6496 - val_accuracy: 0.1586\n",
            "Epoch 7/50\n",
            "531/531 [==============================] - 2s 4ms/step - loss: 3.5364 - accuracy: 0.1839 - val_loss: 3.6076 - val_accuracy: 0.1625\n",
            "Epoch 8/50\n",
            "531/531 [==============================] - 2s 4ms/step - loss: 3.5116 - accuracy: 0.1873 - val_loss: 3.6003 - val_accuracy: 0.1616\n",
            "Epoch 9/50\n",
            "531/531 [==============================] - 2s 4ms/step - loss: 3.4901 - accuracy: 0.1921 - val_loss: 3.5916 - val_accuracy: 0.1638\n",
            "Epoch 10/50\n",
            "531/531 [==============================] - 2s 4ms/step - loss: 3.4695 - accuracy: 0.1964 - val_loss: 3.5868 - val_accuracy: 0.1672\n",
            "Epoch 11/50\n",
            "531/531 [==============================] - 2s 4ms/step - loss: 3.4551 - accuracy: 0.2003 - val_loss: 3.5570 - val_accuracy: 0.1798\n",
            "Epoch 12/50\n",
            "531/531 [==============================] - 2s 4ms/step - loss: 3.4424 - accuracy: 0.2011 - val_loss: 3.5605 - val_accuracy: 0.1778\n",
            "Epoch 13/50\n",
            "531/531 [==============================] - 2s 4ms/step - loss: 3.4255 - accuracy: 0.2045 - val_loss: 3.5595 - val_accuracy: 0.1778\n",
            "Epoch 14/50\n",
            "531/531 [==============================] - 2s 4ms/step - loss: 3.4129 - accuracy: 0.2073 - val_loss: 3.5569 - val_accuracy: 0.1675\n",
            "Epoch 15/50\n",
            "531/531 [==============================] - 2s 4ms/step - loss: 3.3986 - accuracy: 0.2111 - val_loss: 3.5339 - val_accuracy: 0.1846\n",
            "Epoch 16/50\n",
            "531/531 [==============================] - 2s 4ms/step - loss: 3.3886 - accuracy: 0.2140 - val_loss: 3.5406 - val_accuracy: 0.1794\n",
            "Epoch 17/50\n",
            "531/531 [==============================] - 2s 4ms/step - loss: 3.3769 - accuracy: 0.2176 - val_loss: 3.5446 - val_accuracy: 0.1776\n",
            "Epoch 18/50\n",
            "531/531 [==============================] - 2s 4ms/step - loss: 3.3702 - accuracy: 0.2172 - val_loss: 3.5345 - val_accuracy: 0.1820\n",
            "Epoch 19/50\n",
            "531/531 [==============================] - 2s 4ms/step - loss: 3.3569 - accuracy: 0.2198 - val_loss: 3.5453 - val_accuracy: 0.1776\n",
            "Epoch 20/50\n",
            "531/531 [==============================] - 2s 4ms/step - loss: 3.3525 - accuracy: 0.2230 - val_loss: 3.5397 - val_accuracy: 0.1732\n",
            "Epoch 21/50\n",
            "531/531 [==============================] - 2s 4ms/step - loss: 3.3406 - accuracy: 0.2255 - val_loss: 3.5343 - val_accuracy: 0.1799\n",
            "Epoch 22/50\n",
            "531/531 [==============================] - 2s 4ms/step - loss: 3.3323 - accuracy: 0.2258 - val_loss: 3.5262 - val_accuracy: 0.1850\n",
            "Epoch 23/50\n",
            "531/531 [==============================] - 2s 4ms/step - loss: 3.3234 - accuracy: 0.2262 - val_loss: 3.5207 - val_accuracy: 0.1821\n",
            "Epoch 24/50\n",
            "531/531 [==============================] - 2s 4ms/step - loss: 3.3202 - accuracy: 0.2289 - val_loss: 3.5142 - val_accuracy: 0.1826\n",
            "Epoch 25/50\n",
            "531/531 [==============================] - 2s 4ms/step - loss: 3.3092 - accuracy: 0.2303 - val_loss: 3.5222 - val_accuracy: 0.1853\n",
            "Epoch 26/50\n",
            "531/531 [==============================] - 2s 4ms/step - loss: 3.3019 - accuracy: 0.2342 - val_loss: 3.5177 - val_accuracy: 0.1888\n",
            "Epoch 27/50\n",
            "531/531 [==============================] - 2s 4ms/step - loss: 3.2979 - accuracy: 0.2326 - val_loss: 3.5090 - val_accuracy: 0.1904\n",
            "Epoch 28/50\n",
            "531/531 [==============================] - 2s 4ms/step - loss: 3.2908 - accuracy: 0.2348 - val_loss: 3.5252 - val_accuracy: 0.1853\n",
            "Epoch 29/50\n",
            "531/531 [==============================] - 2s 4ms/step - loss: 3.2838 - accuracy: 0.2368 - val_loss: 3.5138 - val_accuracy: 0.1823\n",
            "Epoch 30/50\n",
            "531/531 [==============================] - 2s 4ms/step - loss: 3.2781 - accuracy: 0.2383 - val_loss: 3.5252 - val_accuracy: 0.1786\n",
            "Epoch 31/50\n",
            "531/531 [==============================] - 2s 4ms/step - loss: 3.2700 - accuracy: 0.2384 - val_loss: 3.5090 - val_accuracy: 0.1872\n",
            "Epoch 32/50\n",
            "531/531 [==============================] - 2s 4ms/step - loss: 3.2634 - accuracy: 0.2391 - val_loss: 3.5281 - val_accuracy: 0.1840\n",
            "Epoch 33/50\n",
            "531/531 [==============================] - 2s 5ms/step - loss: 3.2599 - accuracy: 0.2407 - val_loss: 3.5147 - val_accuracy: 0.1845\n",
            "Epoch 34/50\n",
            "531/531 [==============================] - 2s 4ms/step - loss: 3.2518 - accuracy: 0.2445 - val_loss: 3.5152 - val_accuracy: 0.1867\n",
            "Epoch 35/50\n",
            "531/531 [==============================] - 2s 4ms/step - loss: 3.2480 - accuracy: 0.2452 - val_loss: 3.5174 - val_accuracy: 0.1813\n",
            "Epoch 36/50\n",
            "531/531 [==============================] - 2s 4ms/step - loss: 3.2463 - accuracy: 0.2446 - val_loss: 3.5175 - val_accuracy: 0.1857\n",
            "Epoch 37/50\n",
            "531/531 [==============================] - 2s 4ms/step - loss: 3.2396 - accuracy: 0.2466 - val_loss: 3.5198 - val_accuracy: 0.1813\n",
            "Epoch 38/50\n",
            "531/531 [==============================] - 2s 4ms/step - loss: 3.2339 - accuracy: 0.2477 - val_loss: 3.5184 - val_accuracy: 0.1835\n",
            "Epoch 39/50\n",
            "531/531 [==============================] - 2s 4ms/step - loss: 3.2269 - accuracy: 0.2497 - val_loss: 3.5150 - val_accuracy: 0.1830\n",
            "Epoch 40/50\n",
            "531/531 [==============================] - 2s 4ms/step - loss: 3.2231 - accuracy: 0.2496 - val_loss: 3.5288 - val_accuracy: 0.1821\n",
            "Epoch 41/50\n",
            "531/531 [==============================] - 2s 4ms/step - loss: 3.2166 - accuracy: 0.2504 - val_loss: 3.5010 - val_accuracy: 0.1915\n",
            "Epoch 42/50\n",
            "531/531 [==============================] - 2s 4ms/step - loss: 3.2162 - accuracy: 0.2509 - val_loss: 3.5119 - val_accuracy: 0.1836\n",
            "Epoch 43/50\n",
            "531/531 [==============================] - 2s 4ms/step - loss: 3.2081 - accuracy: 0.2512 - val_loss: 3.5209 - val_accuracy: 0.1816\n",
            "Epoch 44/50\n",
            "531/531 [==============================] - 2s 4ms/step - loss: 3.2033 - accuracy: 0.2564 - val_loss: 3.5161 - val_accuracy: 0.1831\n",
            "Epoch 45/50\n",
            "531/531 [==============================] - 2s 4ms/step - loss: 3.2020 - accuracy: 0.2531 - val_loss: 3.5039 - val_accuracy: 0.1920\n",
            "Epoch 46/50\n",
            "531/531 [==============================] - 2s 4ms/step - loss: 3.1925 - accuracy: 0.2575 - val_loss: 3.5044 - val_accuracy: 0.1863\n",
            "Epoch 47/50\n",
            "531/531 [==============================] - 2s 4ms/step - loss: 3.1945 - accuracy: 0.2566 - val_loss: 3.5050 - val_accuracy: 0.1888\n",
            "Epoch 48/50\n",
            "531/531 [==============================] - 2s 4ms/step - loss: 3.1822 - accuracy: 0.2567 - val_loss: 3.5116 - val_accuracy: 0.1828\n",
            "Epoch 49/50\n",
            "531/531 [==============================] - 2s 4ms/step - loss: 3.1856 - accuracy: 0.2587 - val_loss: 3.5141 - val_accuracy: 0.1840\n",
            "Epoch 50/50\n",
            "531/531 [==============================] - 2s 4ms/step - loss: 3.1783 - accuracy: 0.2584 - val_loss: 3.5177 - val_accuracy: 0.1882\n"
          ],
          "name": "stdout"
        }
      ]
    },
    {
      "cell_type": "code",
      "metadata": {
        "id": "qxk8JWhdINzx",
        "colab_type": "code",
        "colab": {
          "base_uri": "https://localhost:8080/",
          "height": 475
        },
        "outputId": "99f63419-ce49-4428-954f-e35c03d8b42b"
      },
      "source": [
        "model_report(SOFTMAX_MODEL_ADAM, SOFTMAX_MODEL_ADAM_history)"
      ],
      "execution_count": null,
      "outputs": [
        {
          "output_type": "display_data",
          "data": {
            "image/png": "[encoded data removed]",
            "text/plain": [
              "<Figure size 720x432 with 1 Axes>"
            ]
          },
          "metadata": {
            "tags": [],
            "needs_background": "light"
          }
        },
        {
          "output_type": "stream",
          "text": [
            "\n",
            "Test set evaluation metrics\n",
            "125/125 [==============================] - 0s 3ms/step - loss: 3.4922 - accuracy: 0.1974\n",
            "loss: 3.49\n",
            "accuracy: 0.20\n"
          ],
          "name": "stdout"
        }
      ]
    },
    {
      "cell_type": "markdown",
      "metadata": {
        "id": "pedeFO9GN2Kk",
        "colab_type": "text"
      },
      "source": [
        "Το δεύτερο μοντέλο μας έχει `Adagrad` optimizer με `lr=0.01`. Διατηρούμε και εδώ τις 50 `epochs` εκπαίδευσης."
      ]
    },
    {
      "cell_type": "code",
      "metadata": {
        "id": "3-uKqSiY7mx5",
        "colab_type": "code",
        "colab": {}
      },
      "source": [
        "def init_softmax_adagrad(summary):\n",
        "  \n",
        "  model = models.Sequential()\n",
        "  \n",
        "  model.add(layers.Flatten(input_shape=(32, 32, 3)))\n",
        "  model.add(layers.Dense(200, activation='softmax'))\n",
        "  \n",
        "  model.compile(optimizer=tf.optimizers.Adagrad(lr=0.01), loss=tf.keras.losses.sparse_categorical_crossentropy, metrics=[\"accuracy\"])\n",
        "  \n",
        "  if summary:\n",
        "    model.summary()\n",
        "  return model"
      ],
      "execution_count": null,
      "outputs": []
    },
    {
      "cell_type": "code",
      "metadata": {
        "id": "dOuNOMJa8GIe",
        "colab_type": "code",
        "colab": {
          "base_uri": "https://localhost:8080/",
          "height": 1000
        },
        "outputId": "744730b9-e80c-4759-e8d4-2c26ebc6caac"
      },
      "source": [
        "# Initialize model\n",
        "SOFTMAX_MODEL_ADAGRAD = init_softmax_adagrad(summary=True)\n",
        "\n",
        "# Train for 50 epochs\n",
        "SOFTMAX_MODEL_ADAGRAD_history = train_model(SOFTMAX_MODEL_ADAGRAD, 50)\n",
        "\n",
        "# Dump training history\n",
        "history_dict = SOFTMAX_MODEL_ADAGRAD_history.history\n",
        "json.dump(history_dict, open('SOFTMAX_MODEL_ADAGRAD.json', 'w'))"
      ],
      "execution_count": null,
      "outputs": [
        {
          "output_type": "stream",
          "text": [
            "Model: \"sequential_1\"\n",
            "_________________________________________________________________\n",
            "Layer (type)                 Output Shape              Param #   \n",
            "=================================================================\n",
            "flatten_1 (Flatten)          (None, 3072)              0         \n",
            "_________________________________________________________________\n",
            "dense_1 (Dense)              (None, 200)               614600    \n",
            "=================================================================\n",
            "Total params: 614,600\n",
            "Trainable params: 614,600\n",
            "Non-trainable params: 0\n",
            "_________________________________________________________________\n",
            "Epoch 1/50\n",
            "531/531 [==============================] - 2s 4ms/step - loss: 4.0613 - accuracy: 0.0763 - val_loss: 3.8475 - val_accuracy: 0.1025\n",
            "Epoch 2/50\n",
            "531/531 [==============================] - 2s 4ms/step - loss: 3.7375 - accuracy: 0.1305 - val_loss: 3.7328 - val_accuracy: 0.1327\n",
            "Epoch 3/50\n",
            "531/531 [==============================] - 2s 4ms/step - loss: 3.6341 - accuracy: 0.1583 - val_loss: 3.6607 - val_accuracy: 0.1460\n",
            "Epoch 4/50\n",
            "531/531 [==============================] - 2s 4ms/step - loss: 3.5729 - accuracy: 0.1685 - val_loss: 3.6433 - val_accuracy: 0.1529\n",
            "Epoch 5/50\n",
            "531/531 [==============================] - 2s 4ms/step - loss: 3.5297 - accuracy: 0.1809 - val_loss: 3.6031 - val_accuracy: 0.1626\n",
            "Epoch 6/50\n",
            "531/531 [==============================] - 2s 4ms/step - loss: 3.4957 - accuracy: 0.1886 - val_loss: 3.5902 - val_accuracy: 0.1761\n",
            "Epoch 7/50\n",
            "531/531 [==============================] - 2s 4ms/step - loss: 3.4697 - accuracy: 0.1937 - val_loss: 3.5807 - val_accuracy: 0.1707\n",
            "Epoch 8/50\n",
            "531/531 [==============================] - 2s 4ms/step - loss: 3.4479 - accuracy: 0.2002 - val_loss: 3.5690 - val_accuracy: 0.1695\n",
            "Epoch 9/50\n",
            "531/531 [==============================] - 2s 4ms/step - loss: 3.4283 - accuracy: 0.2018 - val_loss: 3.5734 - val_accuracy: 0.1774\n",
            "Epoch 10/50\n",
            "531/531 [==============================] - 2s 4ms/step - loss: 3.4121 - accuracy: 0.2077 - val_loss: 3.5732 - val_accuracy: 0.1699\n",
            "Epoch 11/50\n",
            "531/531 [==============================] - 2s 4ms/step - loss: 3.3971 - accuracy: 0.2122 - val_loss: 3.5649 - val_accuracy: 0.1725\n",
            "Epoch 12/50\n",
            "531/531 [==============================] - 2s 4ms/step - loss: 3.3825 - accuracy: 0.2117 - val_loss: 3.5704 - val_accuracy: 0.1731\n",
            "Epoch 13/50\n",
            "531/531 [==============================] - 2s 4ms/step - loss: 3.3698 - accuracy: 0.2166 - val_loss: 3.5497 - val_accuracy: 0.1705\n",
            "Epoch 14/50\n",
            "531/531 [==============================] - 2s 4ms/step - loss: 3.3588 - accuracy: 0.2170 - val_loss: 3.5394 - val_accuracy: 0.1853\n",
            "Epoch 15/50\n",
            "531/531 [==============================] - 2s 4ms/step - loss: 3.3493 - accuracy: 0.2216 - val_loss: 3.5315 - val_accuracy: 0.1833\n",
            "Epoch 16/50\n",
            "531/531 [==============================] - 2s 4ms/step - loss: 3.3408 - accuracy: 0.2229 - val_loss: 3.5272 - val_accuracy: 0.1838\n",
            "Epoch 17/50\n",
            "531/531 [==============================] - 2s 4ms/step - loss: 3.3282 - accuracy: 0.2275 - val_loss: 3.5305 - val_accuracy: 0.1796\n",
            "Epoch 18/50\n",
            "531/531 [==============================] - 2s 4ms/step - loss: 3.3213 - accuracy: 0.2291 - val_loss: 3.5230 - val_accuracy: 0.1890\n",
            "Epoch 19/50\n",
            "531/531 [==============================] - 2s 4ms/step - loss: 3.3151 - accuracy: 0.2317 - val_loss: 3.5090 - val_accuracy: 0.1912\n",
            "Epoch 20/50\n",
            "531/531 [==============================] - 2s 4ms/step - loss: 3.3058 - accuracy: 0.2316 - val_loss: 3.5192 - val_accuracy: 0.1848\n",
            "Epoch 21/50\n",
            "531/531 [==============================] - 2s 4ms/step - loss: 3.2998 - accuracy: 0.2324 - val_loss: 3.5139 - val_accuracy: 0.1838\n",
            "Epoch 22/50\n",
            "531/531 [==============================] - 2s 4ms/step - loss: 3.2936 - accuracy: 0.2328 - val_loss: 3.5244 - val_accuracy: 0.1823\n",
            "Epoch 23/50\n",
            "531/531 [==============================] - 2s 4ms/step - loss: 3.2844 - accuracy: 0.2347 - val_loss: 3.5095 - val_accuracy: 0.1826\n",
            "Epoch 24/50\n",
            "531/531 [==============================] - 2s 4ms/step - loss: 3.2809 - accuracy: 0.2372 - val_loss: 3.5090 - val_accuracy: 0.1910\n",
            "Epoch 25/50\n",
            "531/531 [==============================] - 2s 4ms/step - loss: 3.2758 - accuracy: 0.2385 - val_loss: 3.5134 - val_accuracy: 0.1872\n",
            "Epoch 26/50\n",
            "531/531 [==============================] - 2s 4ms/step - loss: 3.2679 - accuracy: 0.2408 - val_loss: 3.5146 - val_accuracy: 0.1875\n",
            "Epoch 27/50\n",
            "531/531 [==============================] - 2s 4ms/step - loss: 3.2627 - accuracy: 0.2428 - val_loss: 3.5144 - val_accuracy: 0.1846\n",
            "Epoch 28/50\n",
            "531/531 [==============================] - 2s 4ms/step - loss: 3.2582 - accuracy: 0.2435 - val_loss: 3.5047 - val_accuracy: 0.1883\n",
            "Epoch 29/50\n",
            "531/531 [==============================] - 2s 4ms/step - loss: 3.2562 - accuracy: 0.2440 - val_loss: 3.5045 - val_accuracy: 0.1907\n",
            "Epoch 30/50\n",
            "531/531 [==============================] - 2s 4ms/step - loss: 3.2476 - accuracy: 0.2446 - val_loss: 3.5107 - val_accuracy: 0.1910\n",
            "Epoch 31/50\n",
            "531/531 [==============================] - 2s 4ms/step - loss: 3.2437 - accuracy: 0.2473 - val_loss: 3.5052 - val_accuracy: 0.1904\n",
            "Epoch 32/50\n",
            "531/531 [==============================] - 2s 4ms/step - loss: 3.2377 - accuracy: 0.2468 - val_loss: 3.5102 - val_accuracy: 0.1887\n",
            "Epoch 33/50\n",
            "531/531 [==============================] - 2s 5ms/step - loss: 3.2360 - accuracy: 0.2468 - val_loss: 3.5041 - val_accuracy: 0.1914\n",
            "Epoch 34/50\n",
            "531/531 [==============================] - 2s 4ms/step - loss: 3.2301 - accuracy: 0.2503 - val_loss: 3.5060 - val_accuracy: 0.1941\n",
            "Epoch 35/50\n",
            "531/531 [==============================] - 2s 4ms/step - loss: 3.2268 - accuracy: 0.2503 - val_loss: 3.4966 - val_accuracy: 0.1922\n",
            "Epoch 36/50\n",
            "531/531 [==============================] - 2s 4ms/step - loss: 3.2231 - accuracy: 0.2500 - val_loss: 3.5075 - val_accuracy: 0.1907\n",
            "Epoch 37/50\n",
            "531/531 [==============================] - 2s 4ms/step - loss: 3.2218 - accuracy: 0.2517 - val_loss: 3.5016 - val_accuracy: 0.1887\n",
            "Epoch 38/50\n",
            "531/531 [==============================] - 2s 4ms/step - loss: 3.2128 - accuracy: 0.2528 - val_loss: 3.4967 - val_accuracy: 0.1924\n",
            "Epoch 39/50\n",
            "531/531 [==============================] - 2s 4ms/step - loss: 3.2127 - accuracy: 0.2539 - val_loss: 3.4974 - val_accuracy: 0.1957\n",
            "Epoch 40/50\n",
            "531/531 [==============================] - 2s 4ms/step - loss: 3.2102 - accuracy: 0.2537 - val_loss: 3.5028 - val_accuracy: 0.1910\n",
            "Epoch 41/50\n",
            "531/531 [==============================] - 2s 4ms/step - loss: 3.2055 - accuracy: 0.2544 - val_loss: 3.4961 - val_accuracy: 0.1927\n",
            "Epoch 42/50\n",
            "531/531 [==============================] - 2s 4ms/step - loss: 3.1981 - accuracy: 0.2569 - val_loss: 3.5027 - val_accuracy: 0.1858\n",
            "Epoch 43/50\n",
            "531/531 [==============================] - 2s 4ms/step - loss: 3.1985 - accuracy: 0.2561 - val_loss: 3.5024 - val_accuracy: 0.1929\n",
            "Epoch 44/50\n",
            "531/531 [==============================] - 2s 4ms/step - loss: 3.1917 - accuracy: 0.2599 - val_loss: 3.5000 - val_accuracy: 0.1907\n",
            "Epoch 45/50\n",
            "531/531 [==============================] - 2s 4ms/step - loss: 3.1946 - accuracy: 0.2572 - val_loss: 3.4958 - val_accuracy: 0.1941\n",
            "Epoch 46/50\n",
            "531/531 [==============================] - 2s 4ms/step - loss: 3.1889 - accuracy: 0.2580 - val_loss: 3.4959 - val_accuracy: 0.1946\n",
            "Epoch 47/50\n",
            "531/531 [==============================] - 2s 4ms/step - loss: 3.1823 - accuracy: 0.2610 - val_loss: 3.4928 - val_accuracy: 0.1934\n",
            "Epoch 48/50\n",
            "531/531 [==============================] - 2s 4ms/step - loss: 3.1837 - accuracy: 0.2607 - val_loss: 3.5004 - val_accuracy: 0.1914\n",
            "Epoch 49/50\n",
            "531/531 [==============================] - 2s 4ms/step - loss: 3.1794 - accuracy: 0.2604 - val_loss: 3.4968 - val_accuracy: 0.1877\n",
            "Epoch 50/50\n",
            "531/531 [==============================] - 2s 4ms/step - loss: 3.1777 - accuracy: 0.2602 - val_loss: 3.4990 - val_accuracy: 0.1924\n"
          ],
          "name": "stdout"
        }
      ]
    },
    {
      "cell_type": "code",
      "metadata": {
        "id": "hZbtNoYuF4IZ",
        "colab_type": "code",
        "colab": {
          "base_uri": "https://localhost:8080/",
          "height": 475
        },
        "outputId": "0ab96347-e649-499d-ef96-f9f2946e89db"
      },
      "source": [
        "model_report(SOFTMAX_MODEL_ADAGRAD, SOFTMAX_MODEL_ADAGRAD_history)"
      ],
      "execution_count": null,
      "outputs": [
        {
          "output_type": "display_data",
          "data": {
            "image/png": "[encoded data removed]",
            "text/plain": [
              "<Figure size 720x432 with 1 Axes>"
            ]
          },
          "metadata": {
            "tags": [],
            "needs_background": "light"
          }
        },
        {
          "output_type": "stream",
          "text": [
            "\n",
            "Test set evaluation metrics\n",
            "125/125 [==============================] - 0s 3ms/step - loss: 3.4759 - accuracy: 0.1992\n",
            "loss: 3.48\n",
            "accuracy: 0.20\n"
          ],
          "name": "stdout"
        }
      ]
    },
    {
      "cell_type": "markdown",
      "metadata": {
        "id": "KK2W1f9VAy2w",
        "colab_type": "text"
      },
      "source": [
        "### MLP"
      ]
    },
    {
      "cell_type": "markdown",
      "metadata": {
        "id": "GB2GeQPRPgLP",
        "colab_type": "text"
      },
      "source": [
        "Το πρώτο μοντέλο που θα εκπαιδεύσουμε εκμεταλλεύεται optimizer `Nadam` με `lr=0.0001`. Εδώ επιλέγουμε 75 `epochs` εκπαίδευσης παρατηρώντας την ανοδική τάσης της ακρίβειας του δικτύου στα δεδομένα επαλήθευσης που κυριαρχούσε στις 50 εποχές."
      ]
    },
    {
      "cell_type": "code",
      "metadata": {
        "id": "JFQIHUQ7A5DZ",
        "colab_type": "code",
        "colab": {}
      },
      "source": [
        "def init_mlp_nadam(summary):\n",
        "  \n",
        "  model = models.Sequential()\n",
        " \n",
        "  model.add(layers.Flatten(input_shape=(32, 32, 3)))\n",
        "  model.add(layers.Dense(512, activation='relu'))\n",
        "  model.add(layers.Dense(200, activation='softmax'))\n",
        "  \n",
        "  model.compile(optimizer=tf.optimizers.Nadam(lr=0.0001), loss=tf.keras.losses.sparse_categorical_crossentropy, metrics=[\"accuracy\"])\n",
        "  \n",
        "  if summary:\n",
        "    model.summary()\n",
        "  return model"
      ],
      "execution_count": null,
      "outputs": []
    },
    {
      "cell_type": "code",
      "metadata": {
        "id": "44Wf_WH9BCsC",
        "colab_type": "code",
        "colab": {
          "base_uri": "https://localhost:8080/",
          "height": 1000
        },
        "outputId": "a43f80a7-a2d0-4c3a-c5d5-2cc2596eadf8"
      },
      "source": [
        "# Initialize model\n",
        "MLP_MODEL_NADAM = init_mlp_nadam(summary=True)\n",
        "\n",
        "# Train for 75 epochs\n",
        "MLP_MODEL_NADAM_history = train_model(MLP_MODEL_NADAM, 75)\n",
        "\n",
        "# Dump training history\n",
        "history_dict = MLP_MODEL_NADAM_history.history\n",
        "json.dump(history_dict, open('MLP_MODEL_NADAM.json', 'w'))"
      ],
      "execution_count": null,
      "outputs": [
        {
          "output_type": "stream",
          "text": [
            "Model: \"sequential_14\"\n",
            "_________________________________________________________________\n",
            "Layer (type)                 Output Shape              Param #   \n",
            "=================================================================\n",
            "flatten_14 (Flatten)         (None, 3072)              0         \n",
            "_________________________________________________________________\n",
            "dense_28 (Dense)             (None, 512)               1573376   \n",
            "_________________________________________________________________\n",
            "dense_29 (Dense)             (None, 200)               102600    \n",
            "=================================================================\n",
            "Total params: 1,675,976\n",
            "Trainable params: 1,675,976\n",
            "Non-trainable params: 0\n",
            "_________________________________________________________________\n",
            "Epoch 1/75\n",
            "531/531 [==============================] - 5s 10ms/step - loss: 4.0657 - accuracy: 0.0831 - val_loss: 3.7897 - val_accuracy: 0.1287\n",
            "Epoch 2/75\n",
            "531/531 [==============================] - 5s 8ms/step - loss: 3.6908 - accuracy: 0.1392 - val_loss: 3.6820 - val_accuracy: 0.1396\n",
            "Epoch 3/75\n",
            "531/531 [==============================] - 4s 8ms/step - loss: 3.5506 - accuracy: 0.1665 - val_loss: 3.5701 - val_accuracy: 0.1658\n",
            "Epoch 4/75\n",
            "531/531 [==============================] - 4s 8ms/step - loss: 3.4499 - accuracy: 0.1880 - val_loss: 3.4866 - val_accuracy: 0.1804\n",
            "Epoch 5/75\n",
            "531/531 [==============================] - 5s 9ms/step - loss: 3.3724 - accuracy: 0.2010 - val_loss: 3.4538 - val_accuracy: 0.1853\n",
            "Epoch 6/75\n",
            "531/531 [==============================] - 4s 8ms/step - loss: 3.3069 - accuracy: 0.2144 - val_loss: 3.4048 - val_accuracy: 0.1961\n",
            "Epoch 7/75\n",
            "531/531 [==============================] - 4s 8ms/step - loss: 3.2541 - accuracy: 0.2235 - val_loss: 3.3797 - val_accuracy: 0.1961\n",
            "Epoch 8/75\n",
            "531/531 [==============================] - 4s 8ms/step - loss: 3.2011 - accuracy: 0.2363 - val_loss: 3.3898 - val_accuracy: 0.1875\n",
            "Epoch 9/75\n",
            "531/531 [==============================] - 5s 9ms/step - loss: 3.1589 - accuracy: 0.2445 - val_loss: 3.3164 - val_accuracy: 0.2102\n",
            "Epoch 10/75\n",
            "531/531 [==============================] - 4s 8ms/step - loss: 3.1115 - accuracy: 0.2540 - val_loss: 3.3329 - val_accuracy: 0.2058\n",
            "Epoch 11/75\n",
            "531/531 [==============================] - 4s 8ms/step - loss: 3.0791 - accuracy: 0.2589 - val_loss: 3.3003 - val_accuracy: 0.2228\n",
            "Epoch 12/75\n",
            "531/531 [==============================] - 4s 8ms/step - loss: 3.0408 - accuracy: 0.2670 - val_loss: 3.2633 - val_accuracy: 0.2177\n",
            "Epoch 13/75\n",
            "531/531 [==============================] - 4s 8ms/step - loss: 3.0041 - accuracy: 0.2755 - val_loss: 3.2561 - val_accuracy: 0.2203\n",
            "Epoch 14/75\n",
            "531/531 [==============================] - 4s 8ms/step - loss: 2.9698 - accuracy: 0.2816 - val_loss: 3.2579 - val_accuracy: 0.2223\n",
            "Epoch 15/75\n",
            "531/531 [==============================] - 4s 8ms/step - loss: 2.9370 - accuracy: 0.2877 - val_loss: 3.2213 - val_accuracy: 0.2273\n",
            "Epoch 16/75\n",
            "531/531 [==============================] - 4s 8ms/step - loss: 2.9072 - accuracy: 0.2931 - val_loss: 3.2118 - val_accuracy: 0.2384\n",
            "Epoch 17/75\n",
            "531/531 [==============================] - 4s 8ms/step - loss: 2.8744 - accuracy: 0.3012 - val_loss: 3.2279 - val_accuracy: 0.2300\n",
            "Epoch 18/75\n",
            "531/531 [==============================] - 4s 8ms/step - loss: 2.8451 - accuracy: 0.3052 - val_loss: 3.1971 - val_accuracy: 0.2297\n",
            "Epoch 19/75\n",
            "531/531 [==============================] - 4s 8ms/step - loss: 2.8126 - accuracy: 0.3138 - val_loss: 3.1972 - val_accuracy: 0.2297\n",
            "Epoch 20/75\n",
            "531/531 [==============================] - 4s 8ms/step - loss: 2.7862 - accuracy: 0.3207 - val_loss: 3.1794 - val_accuracy: 0.2332\n",
            "Epoch 21/75\n",
            "531/531 [==============================] - 4s 8ms/step - loss: 2.7586 - accuracy: 0.3246 - val_loss: 3.1682 - val_accuracy: 0.2389\n",
            "Epoch 22/75\n",
            "531/531 [==============================] - 4s 8ms/step - loss: 2.7316 - accuracy: 0.3298 - val_loss: 3.1561 - val_accuracy: 0.2456\n",
            "Epoch 23/75\n",
            "531/531 [==============================] - 4s 8ms/step - loss: 2.7037 - accuracy: 0.3359 - val_loss: 3.1577 - val_accuracy: 0.2424\n",
            "Epoch 24/75\n",
            "531/531 [==============================] - 4s 8ms/step - loss: 2.6789 - accuracy: 0.3406 - val_loss: 3.1417 - val_accuracy: 0.2485\n",
            "Epoch 25/75\n",
            "531/531 [==============================] - 4s 8ms/step - loss: 2.6554 - accuracy: 0.3470 - val_loss: 3.1364 - val_accuracy: 0.2492\n",
            "Epoch 26/75\n",
            "531/531 [==============================] - 4s 8ms/step - loss: 2.6263 - accuracy: 0.3520 - val_loss: 3.1387 - val_accuracy: 0.2446\n",
            "Epoch 27/75\n",
            "531/531 [==============================] - 4s 8ms/step - loss: 2.6034 - accuracy: 0.3581 - val_loss: 3.1288 - val_accuracy: 0.2492\n",
            "Epoch 28/75\n",
            "531/531 [==============================] - 4s 8ms/step - loss: 2.5777 - accuracy: 0.3636 - val_loss: 3.1158 - val_accuracy: 0.2508\n",
            "Epoch 29/75\n",
            "531/531 [==============================] - 4s 8ms/step - loss: 2.5552 - accuracy: 0.3675 - val_loss: 3.1301 - val_accuracy: 0.2534\n",
            "Epoch 30/75\n",
            "531/531 [==============================] - 4s 8ms/step - loss: 2.5328 - accuracy: 0.3735 - val_loss: 3.1252 - val_accuracy: 0.2542\n",
            "Epoch 31/75\n",
            "531/531 [==============================] - 4s 8ms/step - loss: 2.5108 - accuracy: 0.3789 - val_loss: 3.1185 - val_accuracy: 0.2542\n",
            "Epoch 32/75\n",
            "531/531 [==============================] - 4s 8ms/step - loss: 2.4885 - accuracy: 0.3816 - val_loss: 3.1400 - val_accuracy: 0.2507\n",
            "Epoch 33/75\n",
            "531/531 [==============================] - 5s 9ms/step - loss: 2.4653 - accuracy: 0.3891 - val_loss: 3.1161 - val_accuracy: 0.2498\n",
            "Epoch 34/75\n",
            "531/531 [==============================] - 4s 8ms/step - loss: 2.4411 - accuracy: 0.3941 - val_loss: 3.1072 - val_accuracy: 0.2571\n",
            "Epoch 35/75\n",
            "531/531 [==============================] - 4s 8ms/step - loss: 2.4235 - accuracy: 0.4000 - val_loss: 3.1071 - val_accuracy: 0.2594\n",
            "Epoch 36/75\n",
            "531/531 [==============================] - 4s 8ms/step - loss: 2.4001 - accuracy: 0.4061 - val_loss: 3.1177 - val_accuracy: 0.2564\n",
            "Epoch 37/75\n",
            "531/531 [==============================] - 4s 8ms/step - loss: 2.3834 - accuracy: 0.4088 - val_loss: 3.1055 - val_accuracy: 0.2604\n",
            "Epoch 38/75\n",
            "531/531 [==============================] - 4s 8ms/step - loss: 2.3611 - accuracy: 0.4130 - val_loss: 3.1104 - val_accuracy: 0.2522\n",
            "Epoch 39/75\n",
            "531/531 [==============================] - 4s 8ms/step - loss: 2.3402 - accuracy: 0.4163 - val_loss: 3.1206 - val_accuracy: 0.2567\n",
            "Epoch 40/75\n",
            "531/531 [==============================] - 4s 8ms/step - loss: 2.3189 - accuracy: 0.4242 - val_loss: 3.1111 - val_accuracy: 0.2549\n",
            "Epoch 41/75\n",
            "531/531 [==============================] - 4s 8ms/step - loss: 2.3007 - accuracy: 0.4293 - val_loss: 3.0854 - val_accuracy: 0.2671\n",
            "Epoch 42/75\n",
            "531/531 [==============================] - 4s 8ms/step - loss: 2.2796 - accuracy: 0.4321 - val_loss: 3.1146 - val_accuracy: 0.2604\n",
            "Epoch 43/75\n",
            "531/531 [==============================] - 4s 8ms/step - loss: 2.2606 - accuracy: 0.4366 - val_loss: 3.0991 - val_accuracy: 0.2628\n",
            "Epoch 44/75\n",
            "531/531 [==============================] - 4s 8ms/step - loss: 2.2442 - accuracy: 0.4411 - val_loss: 3.1071 - val_accuracy: 0.2624\n",
            "Epoch 45/75\n",
            "531/531 [==============================] - 4s 8ms/step - loss: 2.2212 - accuracy: 0.4424 - val_loss: 3.1161 - val_accuracy: 0.2594\n",
            "Epoch 46/75\n",
            "531/531 [==============================] - 4s 8ms/step - loss: 2.2073 - accuracy: 0.4492 - val_loss: 3.1111 - val_accuracy: 0.2626\n",
            "Epoch 47/75\n",
            "531/531 [==============================] - 4s 8ms/step - loss: 2.1832 - accuracy: 0.4545 - val_loss: 3.1182 - val_accuracy: 0.2574\n",
            "Epoch 48/75\n",
            "531/531 [==============================] - 4s 8ms/step - loss: 2.1665 - accuracy: 0.4590 - val_loss: 3.1182 - val_accuracy: 0.2587\n",
            "Epoch 49/75\n",
            "531/531 [==============================] - 4s 8ms/step - loss: 2.1495 - accuracy: 0.4627 - val_loss: 3.1285 - val_accuracy: 0.2609\n",
            "Epoch 50/75\n",
            "531/531 [==============================] - 5s 9ms/step - loss: 2.1327 - accuracy: 0.4669 - val_loss: 3.1237 - val_accuracy: 0.2651\n",
            "Epoch 51/75\n",
            "531/531 [==============================] - 4s 8ms/step - loss: 2.1143 - accuracy: 0.4673 - val_loss: 3.1150 - val_accuracy: 0.2591\n",
            "Epoch 52/75\n",
            "531/531 [==============================] - 4s 8ms/step - loss: 2.1003 - accuracy: 0.4760 - val_loss: 3.1214 - val_accuracy: 0.2641\n",
            "Epoch 53/75\n",
            "531/531 [==============================] - 4s 8ms/step - loss: 2.0779 - accuracy: 0.4792 - val_loss: 3.1152 - val_accuracy: 0.2688\n",
            "Epoch 54/75\n",
            "531/531 [==============================] - 4s 8ms/step - loss: 2.0650 - accuracy: 0.4824 - val_loss: 3.1378 - val_accuracy: 0.2613\n",
            "Epoch 55/75\n",
            "531/531 [==============================] - 4s 8ms/step - loss: 2.0473 - accuracy: 0.4863 - val_loss: 3.1378 - val_accuracy: 0.2673\n",
            "Epoch 56/75\n",
            "531/531 [==============================] - 4s 8ms/step - loss: 2.0316 - accuracy: 0.4906 - val_loss: 3.1422 - val_accuracy: 0.2634\n",
            "Epoch 57/75\n",
            "531/531 [==============================] - 4s 8ms/step - loss: 2.0079 - accuracy: 0.4958 - val_loss: 3.1135 - val_accuracy: 0.2705\n",
            "Epoch 58/75\n",
            "531/531 [==============================] - 4s 8ms/step - loss: 1.9972 - accuracy: 0.4986 - val_loss: 3.1298 - val_accuracy: 0.2673\n",
            "Epoch 59/75\n",
            "531/531 [==============================] - 4s 8ms/step - loss: 1.9794 - accuracy: 0.5041 - val_loss: 3.1566 - val_accuracy: 0.2611\n",
            "Epoch 60/75\n",
            "531/531 [==============================] - 4s 8ms/step - loss: 1.9637 - accuracy: 0.5073 - val_loss: 3.1411 - val_accuracy: 0.2660\n",
            "Epoch 61/75\n",
            "531/531 [==============================] - 4s 8ms/step - loss: 1.9499 - accuracy: 0.5124 - val_loss: 3.1478 - val_accuracy: 0.2641\n",
            "Epoch 62/75\n",
            "531/531 [==============================] - 4s 8ms/step - loss: 1.9305 - accuracy: 0.5146 - val_loss: 3.1469 - val_accuracy: 0.2680\n",
            "Epoch 63/75\n",
            "531/531 [==============================] - 4s 8ms/step - loss: 1.9166 - accuracy: 0.5203 - val_loss: 3.1399 - val_accuracy: 0.2661\n",
            "Epoch 64/75\n",
            "531/531 [==============================] - 4s 8ms/step - loss: 1.8983 - accuracy: 0.5225 - val_loss: 3.1767 - val_accuracy: 0.2663\n",
            "Epoch 65/75\n",
            "531/531 [==============================] - 5s 9ms/step - loss: 1.8827 - accuracy: 0.5255 - val_loss: 3.1633 - val_accuracy: 0.2683\n",
            "Epoch 66/75\n",
            "531/531 [==============================] - 4s 8ms/step - loss: 1.8728 - accuracy: 0.5292 - val_loss: 3.1808 - val_accuracy: 0.2660\n",
            "Epoch 67/75\n",
            "531/531 [==============================] - 4s 8ms/step - loss: 1.8518 - accuracy: 0.5359 - val_loss: 3.1714 - val_accuracy: 0.2653\n",
            "Epoch 68/75\n",
            "531/531 [==============================] - 4s 8ms/step - loss: 1.8391 - accuracy: 0.5386 - val_loss: 3.1747 - val_accuracy: 0.2644\n",
            "Epoch 69/75\n",
            "531/531 [==============================] - 4s 8ms/step - loss: 1.8250 - accuracy: 0.5424 - val_loss: 3.1961 - val_accuracy: 0.2651\n",
            "Epoch 70/75\n",
            "531/531 [==============================] - 4s 8ms/step - loss: 1.8105 - accuracy: 0.5461 - val_loss: 3.1897 - val_accuracy: 0.2651\n",
            "Epoch 71/75\n",
            "531/531 [==============================] - 4s 8ms/step - loss: 1.7915 - accuracy: 0.5509 - val_loss: 3.1890 - val_accuracy: 0.2658\n",
            "Epoch 72/75\n",
            "531/531 [==============================] - 5s 9ms/step - loss: 1.7783 - accuracy: 0.5558 - val_loss: 3.1835 - val_accuracy: 0.2671\n",
            "Epoch 73/75\n",
            "531/531 [==============================] - 5s 9ms/step - loss: 1.7618 - accuracy: 0.5579 - val_loss: 3.2071 - val_accuracy: 0.2602\n",
            "Epoch 74/75\n",
            "531/531 [==============================] - 5s 8ms/step - loss: 1.7520 - accuracy: 0.5635 - val_loss: 3.2081 - val_accuracy: 0.2613\n",
            "Epoch 75/75\n",
            "531/531 [==============================] - 4s 8ms/step - loss: 1.7349 - accuracy: 0.5681 - val_loss: 3.2015 - val_accuracy: 0.2727\n"
          ],
          "name": "stdout"
        }
      ]
    },
    {
      "cell_type": "code",
      "metadata": {
        "id": "LMTnW7QFONyH",
        "colab_type": "code",
        "colab": {
          "base_uri": "https://localhost:8080/",
          "height": 475
        },
        "outputId": "2e6298f4-f3a9-4c5d-a5af-c6ef64fb08a8"
      },
      "source": [
        "model_report(MLP_MODEL_NADAM, MLP_MODEL_NADAM_history)"
      ],
      "execution_count": null,
      "outputs": [
        {
          "output_type": "display_data",
          "data": {
            "image/png": "[encoded data removed]",
            "text/plain": [
              "<Figure size 720x432 with 1 Axes>"
            ]
          },
          "metadata": {
            "tags": [],
            "needs_background": "light"
          }
        },
        {
          "output_type": "stream",
          "text": [
            "\n",
            "Test set evaluation metrics\n",
            "125/125 [==============================] - 0s 3ms/step - loss: 3.1794 - accuracy: 0.2756\n",
            "loss: 3.18\n",
            "accuracy: 0.28\n"
          ],
          "name": "stdout"
        }
      ]
    },
    {
      "cell_type": "markdown",
      "metadata": {
        "id": "J6iZXxxjPk0e",
        "colab_type": "text"
      },
      "source": [
        "Το δεύτερο μοντέλο μας έχει `Adagrad` optimizer με `lr=0.01`. Διατηρούμε τις 75 `epochs` εκπαίδευσης."
      ]
    },
    {
      "cell_type": "code",
      "metadata": {
        "id": "1QjcTiNaPosI",
        "colab_type": "code",
        "colab": {}
      },
      "source": [
        "def init_mlp_adagrad(summary):\n",
        "  \n",
        "  model = models.Sequential()\n",
        " \n",
        "  model.add(layers.Flatten(input_shape=(32, 32, 3)))\n",
        "  model.add(layers.Dense(512, activation='relu'))\n",
        "  model.add(layers.Dense(200, activation='softmax'))\n",
        "  \n",
        "  model.compile(optimizer=tf.optimizers.Adagrad(lr=0.01), loss=tf.keras.losses.sparse_categorical_crossentropy, metrics=[\"accuracy\"])\n",
        "  \n",
        "  if summary:\n",
        "    model.summary()\n",
        "  return model"
      ],
      "execution_count": null,
      "outputs": []
    },
    {
      "cell_type": "code",
      "metadata": {
        "id": "E2QYdi2nPzmY",
        "colab_type": "code",
        "colab": {
          "base_uri": "https://localhost:8080/",
          "height": 1000
        },
        "outputId": "4909939f-6274-4ab9-86e6-d386eab6f101"
      },
      "source": [
        "# Initialize model\n",
        "MLP_MODEL_ADAGRAD = init_mlp_adagrad(summary=True)\n",
        "\n",
        "# Train for 100 epochs\n",
        "MLP_MODEL_ADAGRAD_history = train_model(MLP_MODEL_ADAGRAD, 75)\n",
        "\n",
        "# Dump training history\n",
        "history_dict = MLP_MODEL_ADAGRAD_history.history\n",
        "json.dump(history_dict, open('MLP_MODEL_ADAGRAD.json', 'w'))"
      ],
      "execution_count": null,
      "outputs": [
        {
          "output_type": "stream",
          "text": [
            "Model: \"sequential_16\"\n",
            "_________________________________________________________________\n",
            "Layer (type)                 Output Shape              Param #   \n",
            "=================================================================\n",
            "flatten_16 (Flatten)         (None, 3072)              0         \n",
            "_________________________________________________________________\n",
            "dense_32 (Dense)             (None, 512)               1573376   \n",
            "_________________________________________________________________\n",
            "dense_33 (Dense)             (None, 200)               102600    \n",
            "=================================================================\n",
            "Total params: 1,675,976\n",
            "Trainable params: 1,675,976\n",
            "Non-trainable params: 0\n",
            "_________________________________________________________________\n",
            "Epoch 1/75\n",
            "531/531 [==============================] - 3s 6ms/step - loss: 4.0716 - accuracy: 0.0736 - val_loss: 3.7875 - val_accuracy: 0.1216\n",
            "Epoch 2/75\n",
            "531/531 [==============================] - 3s 6ms/step - loss: 3.6965 - accuracy: 0.1327 - val_loss: 3.6308 - val_accuracy: 0.1547\n",
            "Epoch 3/75\n",
            "531/531 [==============================] - 3s 6ms/step - loss: 3.5481 - accuracy: 0.1640 - val_loss: 3.5631 - val_accuracy: 0.1581\n",
            "Epoch 4/75\n",
            "531/531 [==============================] - 3s 6ms/step - loss: 3.4527 - accuracy: 0.1831 - val_loss: 3.4794 - val_accuracy: 0.1778\n",
            "Epoch 5/75\n",
            "531/531 [==============================] - 3s 6ms/step - loss: 3.3782 - accuracy: 0.1973 - val_loss: 3.4454 - val_accuracy: 0.1848\n",
            "Epoch 6/75\n",
            "531/531 [==============================] - 3s 6ms/step - loss: 3.3205 - accuracy: 0.2093 - val_loss: 3.4062 - val_accuracy: 0.1910\n",
            "Epoch 7/75\n",
            "531/531 [==============================] - 3s 6ms/step - loss: 3.2703 - accuracy: 0.2189 - val_loss: 3.3745 - val_accuracy: 0.1988\n",
            "Epoch 8/75\n",
            "531/531 [==============================] - 3s 6ms/step - loss: 3.2266 - accuracy: 0.2272 - val_loss: 3.3348 - val_accuracy: 0.2038\n",
            "Epoch 9/75\n",
            "531/531 [==============================] - 4s 7ms/step - loss: 3.1851 - accuracy: 0.2349 - val_loss: 3.3212 - val_accuracy: 0.2109\n",
            "Epoch 10/75\n",
            "531/531 [==============================] - 3s 6ms/step - loss: 3.1468 - accuracy: 0.2439 - val_loss: 3.3138 - val_accuracy: 0.2085\n",
            "Epoch 11/75\n",
            "531/531 [==============================] - 3s 6ms/step - loss: 3.1084 - accuracy: 0.2504 - val_loss: 3.3031 - val_accuracy: 0.2109\n",
            "Epoch 12/75\n",
            "531/531 [==============================] - 3s 6ms/step - loss: 3.0740 - accuracy: 0.2573 - val_loss: 3.2677 - val_accuracy: 0.2196\n",
            "Epoch 13/75\n",
            "531/531 [==============================] - 3s 6ms/step - loss: 3.0420 - accuracy: 0.2639 - val_loss: 3.2432 - val_accuracy: 0.2226\n",
            "Epoch 14/75\n",
            "531/531 [==============================] - 3s 6ms/step - loss: 3.0148 - accuracy: 0.2731 - val_loss: 3.2459 - val_accuracy: 0.2263\n",
            "Epoch 15/75\n",
            "531/531 [==============================] - 3s 6ms/step - loss: 2.9833 - accuracy: 0.2770 - val_loss: 3.2323 - val_accuracy: 0.2224\n",
            "Epoch 16/75\n",
            "531/531 [==============================] - 3s 6ms/step - loss: 2.9537 - accuracy: 0.2820 - val_loss: 3.1919 - val_accuracy: 0.2308\n",
            "Epoch 17/75\n",
            "531/531 [==============================] - 4s 7ms/step - loss: 2.9295 - accuracy: 0.2891 - val_loss: 3.2058 - val_accuracy: 0.2282\n",
            "Epoch 18/75\n",
            "531/531 [==============================] - 3s 6ms/step - loss: 2.9023 - accuracy: 0.2934 - val_loss: 3.1698 - val_accuracy: 0.2399\n",
            "Epoch 19/75\n",
            "531/531 [==============================] - 3s 6ms/step - loss: 2.8783 - accuracy: 0.2974 - val_loss: 3.1762 - val_accuracy: 0.2367\n",
            "Epoch 20/75\n",
            "531/531 [==============================] - 3s 6ms/step - loss: 2.8523 - accuracy: 0.3065 - val_loss: 3.1602 - val_accuracy: 0.2379\n",
            "Epoch 21/75\n",
            "531/531 [==============================] - 3s 6ms/step - loss: 2.8299 - accuracy: 0.3088 - val_loss: 3.1462 - val_accuracy: 0.2448\n",
            "Epoch 22/75\n",
            "531/531 [==============================] - 3s 6ms/step - loss: 2.8045 - accuracy: 0.3151 - val_loss: 3.1364 - val_accuracy: 0.2471\n",
            "Epoch 23/75\n",
            "531/531 [==============================] - 3s 6ms/step - loss: 2.7853 - accuracy: 0.3195 - val_loss: 3.1394 - val_accuracy: 0.2381\n",
            "Epoch 24/75\n",
            "531/531 [==============================] - 3s 6ms/step - loss: 2.7605 - accuracy: 0.3245 - val_loss: 3.1230 - val_accuracy: 0.2446\n",
            "Epoch 25/75\n",
            "531/531 [==============================] - 3s 6ms/step - loss: 2.7386 - accuracy: 0.3313 - val_loss: 3.1207 - val_accuracy: 0.2497\n",
            "Epoch 26/75\n",
            "531/531 [==============================] - 3s 6ms/step - loss: 2.7161 - accuracy: 0.3333 - val_loss: 3.1183 - val_accuracy: 0.2495\n",
            "Epoch 27/75\n",
            "531/531 [==============================] - 3s 6ms/step - loss: 2.6990 - accuracy: 0.3394 - val_loss: 3.1027 - val_accuracy: 0.2567\n",
            "Epoch 28/75\n",
            "531/531 [==============================] - 3s 6ms/step - loss: 2.6784 - accuracy: 0.3416 - val_loss: 3.0840 - val_accuracy: 0.2555\n",
            "Epoch 29/75\n",
            "531/531 [==============================] - 3s 6ms/step - loss: 2.6567 - accuracy: 0.3469 - val_loss: 3.1115 - val_accuracy: 0.2535\n",
            "Epoch 30/75\n",
            "531/531 [==============================] - 3s 6ms/step - loss: 2.6408 - accuracy: 0.3500 - val_loss: 3.0817 - val_accuracy: 0.2517\n",
            "Epoch 31/75\n",
            "531/531 [==============================] - 3s 6ms/step - loss: 2.6204 - accuracy: 0.3558 - val_loss: 3.0943 - val_accuracy: 0.2520\n",
            "Epoch 32/75\n",
            "531/531 [==============================] - 3s 6ms/step - loss: 2.6035 - accuracy: 0.3594 - val_loss: 3.0916 - val_accuracy: 0.2517\n",
            "Epoch 33/75\n",
            "531/531 [==============================] - 4s 7ms/step - loss: 2.5846 - accuracy: 0.3649 - val_loss: 3.0745 - val_accuracy: 0.2604\n",
            "Epoch 34/75\n",
            "531/531 [==============================] - 3s 6ms/step - loss: 2.5663 - accuracy: 0.3664 - val_loss: 3.0719 - val_accuracy: 0.2618\n",
            "Epoch 35/75\n",
            "531/531 [==============================] - 3s 6ms/step - loss: 2.5523 - accuracy: 0.3721 - val_loss: 3.0739 - val_accuracy: 0.2586\n",
            "Epoch 36/75\n",
            "531/531 [==============================] - 3s 6ms/step - loss: 2.5300 - accuracy: 0.3753 - val_loss: 3.0791 - val_accuracy: 0.2584\n",
            "Epoch 37/75\n",
            "531/531 [==============================] - 3s 6ms/step - loss: 2.5126 - accuracy: 0.3769 - val_loss: 3.0734 - val_accuracy: 0.2650\n",
            "Epoch 38/75\n",
            "531/531 [==============================] - 3s 6ms/step - loss: 2.5045 - accuracy: 0.3804 - val_loss: 3.0516 - val_accuracy: 0.2596\n",
            "Epoch 39/75\n",
            "531/531 [==============================] - 3s 6ms/step - loss: 2.4810 - accuracy: 0.3848 - val_loss: 3.0574 - val_accuracy: 0.2651\n",
            "Epoch 40/75\n",
            "531/531 [==============================] - 3s 6ms/step - loss: 2.4701 - accuracy: 0.3890 - val_loss: 3.0459 - val_accuracy: 0.2666\n",
            "Epoch 41/75\n",
            "531/531 [==============================] - 3s 6ms/step - loss: 2.4535 - accuracy: 0.3918 - val_loss: 3.0580 - val_accuracy: 0.2597\n",
            "Epoch 42/75\n",
            "531/531 [==============================] - 3s 6ms/step - loss: 2.4382 - accuracy: 0.3963 - val_loss: 3.0588 - val_accuracy: 0.2633\n",
            "Epoch 43/75\n",
            "531/531 [==============================] - 3s 6ms/step - loss: 2.4219 - accuracy: 0.4017 - val_loss: 3.0584 - val_accuracy: 0.2643\n",
            "Epoch 44/75\n",
            "531/531 [==============================] - 3s 6ms/step - loss: 2.4060 - accuracy: 0.4032 - val_loss: 3.0685 - val_accuracy: 0.2591\n",
            "Epoch 45/75\n",
            "531/531 [==============================] - 3s 6ms/step - loss: 2.3941 - accuracy: 0.4085 - val_loss: 3.0536 - val_accuracy: 0.2614\n",
            "Epoch 46/75\n",
            "531/531 [==============================] - 3s 6ms/step - loss: 2.3782 - accuracy: 0.4117 - val_loss: 3.0401 - val_accuracy: 0.2698\n",
            "Epoch 47/75\n",
            "531/531 [==============================] - 3s 6ms/step - loss: 2.3658 - accuracy: 0.4125 - val_loss: 3.0415 - val_accuracy: 0.2660\n",
            "Epoch 48/75\n",
            "531/531 [==============================] - 3s 6ms/step - loss: 2.3493 - accuracy: 0.4160 - val_loss: 3.0311 - val_accuracy: 0.2675\n",
            "Epoch 49/75\n",
            "531/531 [==============================] - 3s 6ms/step - loss: 2.3360 - accuracy: 0.4204 - val_loss: 3.0547 - val_accuracy: 0.2665\n",
            "Epoch 50/75\n",
            "531/531 [==============================] - 3s 6ms/step - loss: 2.3203 - accuracy: 0.4222 - val_loss: 3.0492 - val_accuracy: 0.2653\n",
            "Epoch 51/75\n",
            "531/531 [==============================] - 3s 6ms/step - loss: 2.3094 - accuracy: 0.4280 - val_loss: 3.0578 - val_accuracy: 0.2712\n",
            "Epoch 52/75\n",
            "531/531 [==============================] - 3s 7ms/step - loss: 2.2936 - accuracy: 0.4293 - val_loss: 3.0454 - val_accuracy: 0.2650\n",
            "Epoch 53/75\n",
            "531/531 [==============================] - 3s 6ms/step - loss: 2.2808 - accuracy: 0.4342 - val_loss: 3.0280 - val_accuracy: 0.2749\n",
            "Epoch 54/75\n",
            "531/531 [==============================] - 3s 6ms/step - loss: 2.2714 - accuracy: 0.4379 - val_loss: 3.0320 - val_accuracy: 0.2723\n",
            "Epoch 55/75\n",
            "531/531 [==============================] - 3s 6ms/step - loss: 2.2524 - accuracy: 0.4417 - val_loss: 3.0310 - val_accuracy: 0.2762\n",
            "Epoch 56/75\n",
            "531/531 [==============================] - 3s 6ms/step - loss: 2.2412 - accuracy: 0.4451 - val_loss: 3.0285 - val_accuracy: 0.2732\n",
            "Epoch 57/75\n",
            "531/531 [==============================] - 3s 6ms/step - loss: 2.2291 - accuracy: 0.4448 - val_loss: 3.0555 - val_accuracy: 0.2668\n",
            "Epoch 58/75\n",
            "531/531 [==============================] - 3s 6ms/step - loss: 2.2135 - accuracy: 0.4516 - val_loss: 3.0362 - val_accuracy: 0.2777\n",
            "Epoch 59/75\n",
            "531/531 [==============================] - 3s 6ms/step - loss: 2.2005 - accuracy: 0.4530 - val_loss: 3.0510 - val_accuracy: 0.2700\n",
            "Epoch 60/75\n",
            "531/531 [==============================] - 3s 6ms/step - loss: 2.1986 - accuracy: 0.4557 - val_loss: 3.0451 - val_accuracy: 0.2739\n",
            "Epoch 61/75\n",
            "531/531 [==============================] - 3s 6ms/step - loss: 2.1766 - accuracy: 0.4608 - val_loss: 3.0695 - val_accuracy: 0.2668\n",
            "Epoch 62/75\n",
            "531/531 [==============================] - 3s 6ms/step - loss: 2.1682 - accuracy: 0.4605 - val_loss: 3.0367 - val_accuracy: 0.2759\n",
            "Epoch 63/75\n",
            "531/531 [==============================] - 3s 6ms/step - loss: 2.1562 - accuracy: 0.4637 - val_loss: 3.0391 - val_accuracy: 0.2700\n",
            "Epoch 64/75\n",
            "531/531 [==============================] - 3s 6ms/step - loss: 2.1429 - accuracy: 0.4683 - val_loss: 3.0574 - val_accuracy: 0.2681\n",
            "Epoch 65/75\n",
            "531/531 [==============================] - 4s 7ms/step - loss: 2.1311 - accuracy: 0.4702 - val_loss: 3.0556 - val_accuracy: 0.2708\n",
            "Epoch 66/75\n",
            "531/531 [==============================] - 3s 6ms/step - loss: 2.1234 - accuracy: 0.4724 - val_loss: 3.0365 - val_accuracy: 0.2693\n",
            "Epoch 67/75\n",
            "531/531 [==============================] - 3s 6ms/step - loss: 2.1031 - accuracy: 0.4771 - val_loss: 3.0440 - val_accuracy: 0.2754\n",
            "Epoch 68/75\n",
            "531/531 [==============================] - 3s 6ms/step - loss: 2.0989 - accuracy: 0.4793 - val_loss: 3.0687 - val_accuracy: 0.2688\n",
            "Epoch 69/75\n",
            "531/531 [==============================] - 3s 6ms/step - loss: 2.0839 - accuracy: 0.4824 - val_loss: 3.0544 - val_accuracy: 0.2755\n",
            "Epoch 70/75\n",
            "531/531 [==============================] - 3s 6ms/step - loss: 2.0769 - accuracy: 0.4838 - val_loss: 3.0638 - val_accuracy: 0.2702\n",
            "Epoch 71/75\n",
            "531/531 [==============================] - 3s 6ms/step - loss: 2.0636 - accuracy: 0.4864 - val_loss: 3.0435 - val_accuracy: 0.2754\n",
            "Epoch 72/75\n",
            "531/531 [==============================] - 3s 6ms/step - loss: 2.0520 - accuracy: 0.4921 - val_loss: 3.0400 - val_accuracy: 0.2737\n",
            "Epoch 73/75\n",
            "531/531 [==============================] - 3s 6ms/step - loss: 2.0391 - accuracy: 0.4933 - val_loss: 3.0550 - val_accuracy: 0.2739\n",
            "Epoch 74/75\n",
            "531/531 [==============================] - 3s 6ms/step - loss: 2.0309 - accuracy: 0.4967 - val_loss: 3.0517 - val_accuracy: 0.2754\n",
            "Epoch 75/75\n",
            "531/531 [==============================] - 3s 6ms/step - loss: 2.0181 - accuracy: 0.4995 - val_loss: 3.0530 - val_accuracy: 0.2705\n"
          ],
          "name": "stdout"
        }
      ]
    },
    {
      "cell_type": "code",
      "metadata": {
        "id": "hkpSyYzUP6L-",
        "colab_type": "code",
        "colab": {
          "base_uri": "https://localhost:8080/",
          "height": 475
        },
        "outputId": "2c1bd590-cf29-4ccb-d78a-ef192e184579"
      },
      "source": [
        "model_report(MLP_MODEL_ADAGRAD, MLP_MODEL_ADAGRAD_history)"
      ],
      "execution_count": null,
      "outputs": [
        {
          "output_type": "display_data",
          "data": {
            "image/png": "[encoded data removed]",
            "text/plain": [
              "<Figure size 720x432 with 1 Axes>"
            ]
          },
          "metadata": {
            "tags": [],
            "needs_background": "light"
          }
        },
        {
          "output_type": "stream",
          "text": [
            "\n",
            "Test set evaluation metrics\n",
            "125/125 [==============================] - 0s 4ms/step - loss: 3.0460 - accuracy: 0.2839\n",
            "loss: 3.05\n",
            "accuracy: 0.28\n"
          ],
          "name": "stdout"
        }
      ]
    },
    {
      "cell_type": "markdown",
      "metadata": {
        "id": "IDUdlPFmBKRS",
        "colab_type": "text"
      },
      "source": [
        "### LeNet"
      ]
    },
    {
      "cell_type": "markdown",
      "metadata": {
        "id": "UaZlY50TuIwq",
        "colab_type": "text"
      },
      "source": [
        "Το πρώτο μοντέλο που θα εκπαιδεύσουμε εκμεταλλεύεται optimizer `Adam` με `lr=0.0001`. Ακολουθώντας το ίδιο σκεπτικό με παραπάνω, επιλέγουμε 100 `epochs` εκπαίδευσης."
      ]
    },
    {
      "cell_type": "code",
      "metadata": {
        "id": "qFKSy9xxBT_1",
        "colab_type": "code",
        "colab": {}
      },
      "source": [
        "def init_lenet_adam(summary):\n",
        "  \n",
        "  model = models.Sequential()\n",
        " \n",
        "  model.add(layers.Conv2D(32, (3, 3), activation='relu', padding='same', input_shape=(32, 32, 3)))\n",
        "  model.add(layers.MaxPooling2D((2, 2)))\n",
        "  model.add(layers.Conv2D(32, (3, 3), activation='relu', padding='same'))\n",
        "  model.add(layers.MaxPooling2D((2, 2)))\n",
        "\n",
        "  model.add(layers.Flatten())\n",
        "  model.add(layers.Dense(512, activation='relu'))\n",
        "  model.add(layers.Dense(200, activation='softmax'))\n",
        "  \n",
        "  model.compile(optimizer=tf.optimizers.Adam(lr=0.0001), loss=tf.keras.losses.sparse_categorical_crossentropy, metrics=[\"accuracy\"])\n",
        "  \n",
        "  if summary:\n",
        "    model.summary()\n",
        "  return model"
      ],
      "execution_count": null,
      "outputs": []
    },
    {
      "cell_type": "code",
      "metadata": {
        "id": "BtyQzKtxqt3O",
        "colab_type": "code",
        "colab": {
          "base_uri": "https://localhost:8080/",
          "height": 1000
        },
        "outputId": "9130164d-eccf-4e6a-b364-37b04e70aff9"
      },
      "source": [
        "# Initialize model\n",
        "LENET_MODEL_ADAM = init_lenet_adam(summary=True)\n",
        "\n",
        "# Train for 100 epochs\n",
        "LENET_MODEL_ADAM_history = train_model(LENET_MODEL_ADAM, 100)\n",
        "\n",
        "# Dump training history\n",
        "history_dict = LENET_MODEL_ADAM_history.history\n",
        "json.dump(history_dict, open('LENET_MODEL_ADAM.json', 'w'))"
      ],
      "execution_count": null,
      "outputs": [
        {
          "output_type": "stream",
          "text": [
            "Model: \"sequential_24\"\n",
            "_________________________________________________________________\n",
            "Layer (type)                 Output Shape              Param #   \n",
            "=================================================================\n",
            "conv2d_14 (Conv2D)           (None, 32, 32, 32)        896       \n",
            "_________________________________________________________________\n",
            "max_pooling2d_14 (MaxPooling (None, 16, 16, 32)        0         \n",
            "_________________________________________________________________\n",
            "conv2d_15 (Conv2D)           (None, 16, 16, 32)        9248      \n",
            "_________________________________________________________________\n",
            "max_pooling2d_15 (MaxPooling (None, 8, 8, 32)          0         \n",
            "_________________________________________________________________\n",
            "flatten_24 (Flatten)         (None, 2048)              0         \n",
            "_________________________________________________________________\n",
            "dense_48 (Dense)             (None, 512)               1049088   \n",
            "_________________________________________________________________\n",
            "dense_49 (Dense)             (None, 200)               102600    \n",
            "=================================================================\n",
            "Total params: 1,161,832\n",
            "Trainable params: 1,161,832\n",
            "Non-trainable params: 0\n",
            "_________________________________________________________________\n",
            "Epoch 1/100\n",
            "531/531 [==============================] - 5s 9ms/step - loss: 4.1296 - accuracy: 0.0709 - val_loss: 3.7553 - val_accuracy: 0.1277\n",
            "Epoch 2/100\n",
            "531/531 [==============================] - 5s 9ms/step - loss: 3.5796 - accuracy: 0.1589 - val_loss: 3.4718 - val_accuracy: 0.1811\n",
            "Epoch 3/100\n",
            "531/531 [==============================] - 4s 8ms/step - loss: 3.3329 - accuracy: 0.2039 - val_loss: 3.3156 - val_accuracy: 0.2083\n",
            "Epoch 4/100\n",
            "531/531 [==============================] - 4s 8ms/step - loss: 3.1763 - accuracy: 0.2336 - val_loss: 3.2021 - val_accuracy: 0.2298\n",
            "Epoch 5/100\n",
            "531/531 [==============================] - 4s 8ms/step - loss: 3.0598 - accuracy: 0.2596 - val_loss: 3.1097 - val_accuracy: 0.2518\n",
            "Epoch 6/100\n",
            "531/531 [==============================] - 5s 9ms/step - loss: 2.9629 - accuracy: 0.2793 - val_loss: 3.0387 - val_accuracy: 0.2634\n",
            "Epoch 7/100\n",
            "531/531 [==============================] - 5s 8ms/step - loss: 2.8766 - accuracy: 0.2957 - val_loss: 2.9933 - val_accuracy: 0.2745\n",
            "Epoch 8/100\n",
            "531/531 [==============================] - 4s 8ms/step - loss: 2.7968 - accuracy: 0.3129 - val_loss: 2.9293 - val_accuracy: 0.2918\n",
            "Epoch 9/100\n",
            "531/531 [==============================] - 5s 9ms/step - loss: 2.7139 - accuracy: 0.3275 - val_loss: 2.8756 - val_accuracy: 0.3036\n",
            "Epoch 10/100\n",
            "531/531 [==============================] - 4s 8ms/step - loss: 2.6442 - accuracy: 0.3435 - val_loss: 2.8184 - val_accuracy: 0.3150\n",
            "Epoch 11/100\n",
            "531/531 [==============================] - 4s 8ms/step - loss: 2.5759 - accuracy: 0.3586 - val_loss: 2.7896 - val_accuracy: 0.3192\n",
            "Epoch 12/100\n",
            "531/531 [==============================] - 4s 8ms/step - loss: 2.5083 - accuracy: 0.3723 - val_loss: 2.7489 - val_accuracy: 0.3300\n",
            "Epoch 13/100\n",
            "531/531 [==============================] - 4s 8ms/step - loss: 2.4458 - accuracy: 0.3883 - val_loss: 2.7229 - val_accuracy: 0.3353\n",
            "Epoch 14/100\n",
            "531/531 [==============================] - 4s 8ms/step - loss: 2.3910 - accuracy: 0.3970 - val_loss: 2.6858 - val_accuracy: 0.3409\n",
            "Epoch 15/100\n",
            "531/531 [==============================] - 4s 8ms/step - loss: 2.3353 - accuracy: 0.4094 - val_loss: 2.6657 - val_accuracy: 0.3518\n",
            "Epoch 16/100\n",
            "531/531 [==============================] - 4s 8ms/step - loss: 2.2817 - accuracy: 0.4235 - val_loss: 2.6468 - val_accuracy: 0.3471\n",
            "Epoch 17/100\n",
            "531/531 [==============================] - 5s 9ms/step - loss: 2.2315 - accuracy: 0.4326 - val_loss: 2.6492 - val_accuracy: 0.3480\n",
            "Epoch 18/100\n",
            "531/531 [==============================] - 4s 8ms/step - loss: 2.1845 - accuracy: 0.4420 - val_loss: 2.6247 - val_accuracy: 0.3557\n",
            "Epoch 19/100\n",
            "531/531 [==============================] - 4s 8ms/step - loss: 2.1349 - accuracy: 0.4579 - val_loss: 2.6186 - val_accuracy: 0.3574\n",
            "Epoch 20/100\n",
            "531/531 [==============================] - 5s 9ms/step - loss: 2.0905 - accuracy: 0.4672 - val_loss: 2.5933 - val_accuracy: 0.3607\n",
            "Epoch 21/100\n",
            "531/531 [==============================] - 4s 8ms/step - loss: 2.0498 - accuracy: 0.4730 - val_loss: 2.5769 - val_accuracy: 0.3631\n",
            "Epoch 22/100\n",
            "531/531 [==============================] - 4s 8ms/step - loss: 2.0063 - accuracy: 0.4826 - val_loss: 2.6144 - val_accuracy: 0.3634\n",
            "Epoch 23/100\n",
            "531/531 [==============================] - 4s 8ms/step - loss: 1.9600 - accuracy: 0.4935 - val_loss: 2.5698 - val_accuracy: 0.3693\n",
            "Epoch 24/100\n",
            "531/531 [==============================] - 4s 8ms/step - loss: 1.9208 - accuracy: 0.5047 - val_loss: 2.5635 - val_accuracy: 0.3688\n",
            "Epoch 25/100\n",
            "531/531 [==============================] - 4s 8ms/step - loss: 1.8800 - accuracy: 0.5142 - val_loss: 2.5889 - val_accuracy: 0.3661\n",
            "Epoch 26/100\n",
            "531/531 [==============================] - 4s 8ms/step - loss: 1.8398 - accuracy: 0.5223 - val_loss: 2.5628 - val_accuracy: 0.3755\n",
            "Epoch 27/100\n",
            "531/531 [==============================] - 4s 8ms/step - loss: 1.7978 - accuracy: 0.5347 - val_loss: 2.5692 - val_accuracy: 0.3708\n",
            "Epoch 28/100\n",
            "531/531 [==============================] - 4s 8ms/step - loss: 1.7594 - accuracy: 0.5402 - val_loss: 2.5767 - val_accuracy: 0.3779\n",
            "Epoch 29/100\n",
            "531/531 [==============================] - 4s 8ms/step - loss: 1.7174 - accuracy: 0.5525 - val_loss: 2.5917 - val_accuracy: 0.3742\n",
            "Epoch 30/100\n",
            "531/531 [==============================] - 4s 8ms/step - loss: 1.6748 - accuracy: 0.5621 - val_loss: 2.5869 - val_accuracy: 0.3740\n",
            "Epoch 31/100\n",
            "531/531 [==============================] - 4s 8ms/step - loss: 1.6393 - accuracy: 0.5717 - val_loss: 2.6092 - val_accuracy: 0.3780\n",
            "Epoch 32/100\n",
            "531/531 [==============================] - 5s 9ms/step - loss: 1.5995 - accuracy: 0.5807 - val_loss: 2.6375 - val_accuracy: 0.3760\n",
            "Epoch 33/100\n",
            "531/531 [==============================] - 5s 10ms/step - loss: 1.5588 - accuracy: 0.5910 - val_loss: 2.6185 - val_accuracy: 0.3737\n",
            "Epoch 34/100\n",
            "531/531 [==============================] - 5s 9ms/step - loss: 1.5224 - accuracy: 0.5985 - val_loss: 2.6202 - val_accuracy: 0.3802\n",
            "Epoch 35/100\n",
            "531/531 [==============================] - 5s 9ms/step - loss: 1.4788 - accuracy: 0.6085 - val_loss: 2.6509 - val_accuracy: 0.3780\n",
            "Epoch 36/100\n",
            "531/531 [==============================] - 5s 9ms/step - loss: 1.4468 - accuracy: 0.6181 - val_loss: 2.6381 - val_accuracy: 0.3779\n",
            "Epoch 37/100\n",
            "531/531 [==============================] - 5s 9ms/step - loss: 1.4045 - accuracy: 0.6313 - val_loss: 2.6470 - val_accuracy: 0.3774\n",
            "Epoch 38/100\n",
            "531/531 [==============================] - 5s 9ms/step - loss: 1.3647 - accuracy: 0.6399 - val_loss: 2.6629 - val_accuracy: 0.3819\n",
            "Epoch 39/100\n",
            "531/531 [==============================] - 5s 9ms/step - loss: 1.3291 - accuracy: 0.6487 - val_loss: 2.6722 - val_accuracy: 0.3807\n",
            "Epoch 40/100\n",
            "531/531 [==============================] - 5s 9ms/step - loss: 1.2911 - accuracy: 0.6577 - val_loss: 2.6839 - val_accuracy: 0.3832\n",
            "Epoch 41/100\n",
            "531/531 [==============================] - 5s 9ms/step - loss: 1.2495 - accuracy: 0.6676 - val_loss: 2.7228 - val_accuracy: 0.3765\n",
            "Epoch 42/100\n",
            "531/531 [==============================] - 5s 9ms/step - loss: 1.2091 - accuracy: 0.6798 - val_loss: 2.7218 - val_accuracy: 0.3812\n",
            "Epoch 43/100\n",
            "531/531 [==============================] - 5s 9ms/step - loss: 1.1755 - accuracy: 0.6880 - val_loss: 2.7792 - val_accuracy: 0.3767\n",
            "Epoch 44/100\n",
            "531/531 [==============================] - 5s 9ms/step - loss: 1.1406 - accuracy: 0.6980 - val_loss: 2.7864 - val_accuracy: 0.3765\n",
            "Epoch 45/100\n",
            "531/531 [==============================] - 5s 9ms/step - loss: 1.1081 - accuracy: 0.7058 - val_loss: 2.8031 - val_accuracy: 0.3795\n",
            "Epoch 46/100\n",
            "531/531 [==============================] - 5s 9ms/step - loss: 1.0678 - accuracy: 0.7183 - val_loss: 2.8229 - val_accuracy: 0.3831\n",
            "Epoch 47/100\n",
            "531/531 [==============================] - 5s 9ms/step - loss: 1.0278 - accuracy: 0.7290 - val_loss: 2.8766 - val_accuracy: 0.3762\n",
            "Epoch 48/100\n",
            "531/531 [==============================] - 5s 9ms/step - loss: 0.9988 - accuracy: 0.7353 - val_loss: 2.9012 - val_accuracy: 0.3757\n",
            "Epoch 49/100\n",
            "531/531 [==============================] - 5s 9ms/step - loss: 0.9590 - accuracy: 0.7461 - val_loss: 2.9142 - val_accuracy: 0.3700\n",
            "Epoch 50/100\n",
            "531/531 [==============================] - 4s 8ms/step - loss: 0.9274 - accuracy: 0.7547 - val_loss: 2.9685 - val_accuracy: 0.3688\n",
            "Epoch 51/100\n",
            "531/531 [==============================] - 4s 8ms/step - loss: 0.8939 - accuracy: 0.7665 - val_loss: 3.0084 - val_accuracy: 0.3708\n",
            "Epoch 52/100\n",
            "531/531 [==============================] - 5s 8ms/step - loss: 0.8520 - accuracy: 0.7775 - val_loss: 2.9933 - val_accuracy: 0.3733\n",
            "Epoch 53/100\n",
            "531/531 [==============================] - 4s 8ms/step - loss: 0.8252 - accuracy: 0.7847 - val_loss: 3.0587 - val_accuracy: 0.3725\n",
            "Epoch 54/100\n",
            "531/531 [==============================] - 4s 8ms/step - loss: 0.7876 - accuracy: 0.7963 - val_loss: 3.0928 - val_accuracy: 0.3716\n",
            "Epoch 55/100\n",
            "531/531 [==============================] - 4s 8ms/step - loss: 0.7649 - accuracy: 0.8001 - val_loss: 3.1756 - val_accuracy: 0.3695\n",
            "Epoch 56/100\n",
            "531/531 [==============================] - 5s 8ms/step - loss: 0.7270 - accuracy: 0.8132 - val_loss: 3.1704 - val_accuracy: 0.3683\n",
            "Epoch 57/100\n",
            "531/531 [==============================] - 4s 8ms/step - loss: 0.6973 - accuracy: 0.8211 - val_loss: 3.1986 - val_accuracy: 0.3700\n",
            "Epoch 58/100\n",
            "531/531 [==============================] - 4s 8ms/step - loss: 0.6622 - accuracy: 0.8321 - val_loss: 3.2703 - val_accuracy: 0.3673\n",
            "Epoch 59/100\n",
            "531/531 [==============================] - 4s 8ms/step - loss: 0.6373 - accuracy: 0.8368 - val_loss: 3.2646 - val_accuracy: 0.3740\n",
            "Epoch 60/100\n",
            "531/531 [==============================] - 4s 8ms/step - loss: 0.6066 - accuracy: 0.8480 - val_loss: 3.3524 - val_accuracy: 0.3679\n",
            "Epoch 61/100\n",
            "531/531 [==============================] - 4s 8ms/step - loss: 0.5780 - accuracy: 0.8557 - val_loss: 3.3772 - val_accuracy: 0.3658\n",
            "Epoch 62/100\n",
            "531/531 [==============================] - 4s 8ms/step - loss: 0.5521 - accuracy: 0.8619 - val_loss: 3.4248 - val_accuracy: 0.3711\n",
            "Epoch 63/100\n",
            "531/531 [==============================] - 4s 8ms/step - loss: 0.5244 - accuracy: 0.8704 - val_loss: 3.4860 - val_accuracy: 0.3648\n",
            "Epoch 64/100\n",
            "531/531 [==============================] - 4s 8ms/step - loss: 0.4957 - accuracy: 0.8796 - val_loss: 3.5011 - val_accuracy: 0.3676\n",
            "Epoch 65/100\n",
            "531/531 [==============================] - 5s 9ms/step - loss: 0.4715 - accuracy: 0.8853 - val_loss: 3.6210 - val_accuracy: 0.3621\n",
            "Epoch 66/100\n",
            "531/531 [==============================] - 4s 8ms/step - loss: 0.4467 - accuracy: 0.8940 - val_loss: 3.6902 - val_accuracy: 0.3634\n",
            "Epoch 67/100\n",
            "531/531 [==============================] - 4s 8ms/step - loss: 0.4200 - accuracy: 0.9023 - val_loss: 3.6772 - val_accuracy: 0.3703\n",
            "Epoch 68/100\n",
            "531/531 [==============================] - 4s 8ms/step - loss: 0.4002 - accuracy: 0.9078 - val_loss: 3.8006 - val_accuracy: 0.3614\n",
            "Epoch 69/100\n",
            "531/531 [==============================] - 4s 8ms/step - loss: 0.3763 - accuracy: 0.9132 - val_loss: 3.8409 - val_accuracy: 0.3567\n",
            "Epoch 70/100\n",
            "531/531 [==============================] - 4s 8ms/step - loss: 0.3515 - accuracy: 0.9211 - val_loss: 3.8906 - val_accuracy: 0.3584\n",
            "Epoch 71/100\n",
            "531/531 [==============================] - 4s 8ms/step - loss: 0.3379 - accuracy: 0.9233 - val_loss: 3.9477 - val_accuracy: 0.3602\n",
            "Epoch 72/100\n",
            "531/531 [==============================] - 4s 8ms/step - loss: 0.3136 - accuracy: 0.9305 - val_loss: 4.0246 - val_accuracy: 0.3614\n",
            "Epoch 73/100\n",
            "531/531 [==============================] - 4s 8ms/step - loss: 0.2944 - accuracy: 0.9363 - val_loss: 4.0212 - val_accuracy: 0.3584\n",
            "Epoch 74/100\n",
            "531/531 [==============================] - 5s 9ms/step - loss: 0.2727 - accuracy: 0.9429 - val_loss: 4.1328 - val_accuracy: 0.3604\n",
            "Epoch 75/100\n",
            "531/531 [==============================] - 4s 8ms/step - loss: 0.2579 - accuracy: 0.9467 - val_loss: 4.2116 - val_accuracy: 0.3557\n",
            "Epoch 76/100\n",
            "531/531 [==============================] - 5s 9ms/step - loss: 0.2448 - accuracy: 0.9504 - val_loss: 4.2450 - val_accuracy: 0.3590\n",
            "Epoch 77/100\n",
            "531/531 [==============================] - 5s 9ms/step - loss: 0.2335 - accuracy: 0.9519 - val_loss: 4.3145 - val_accuracy: 0.3639\n",
            "Epoch 78/100\n",
            "531/531 [==============================] - 4s 8ms/step - loss: 0.2113 - accuracy: 0.9590 - val_loss: 4.3981 - val_accuracy: 0.3572\n",
            "Epoch 79/100\n",
            "531/531 [==============================] - 5s 9ms/step - loss: 0.1997 - accuracy: 0.9605 - val_loss: 4.4542 - val_accuracy: 0.3569\n",
            "Epoch 80/100\n",
            "531/531 [==============================] - 4s 8ms/step - loss: 0.1841 - accuracy: 0.9647 - val_loss: 4.5820 - val_accuracy: 0.3560\n",
            "Epoch 81/100\n",
            "531/531 [==============================] - 5s 9ms/step - loss: 0.1784 - accuracy: 0.9666 - val_loss: 4.5985 - val_accuracy: 0.3538\n",
            "Epoch 82/100\n",
            "531/531 [==============================] - 5s 9ms/step - loss: 0.1602 - accuracy: 0.9710 - val_loss: 4.7098 - val_accuracy: 0.3543\n",
            "Epoch 83/100\n",
            "531/531 [==============================] - 5s 9ms/step - loss: 0.1505 - accuracy: 0.9727 - val_loss: 4.7633 - val_accuracy: 0.3555\n",
            "Epoch 84/100\n",
            "531/531 [==============================] - 4s 8ms/step - loss: 0.1435 - accuracy: 0.9748 - val_loss: 4.8597 - val_accuracy: 0.3515\n",
            "Epoch 85/100\n",
            "531/531 [==============================] - 5s 8ms/step - loss: 0.1351 - accuracy: 0.9762 - val_loss: 4.8744 - val_accuracy: 0.3496\n",
            "Epoch 86/100\n",
            "531/531 [==============================] - 5s 9ms/step - loss: 0.1234 - accuracy: 0.9793 - val_loss: 4.9852 - val_accuracy: 0.3530\n",
            "Epoch 87/100\n",
            "531/531 [==============================] - 5s 8ms/step - loss: 0.1177 - accuracy: 0.9805 - val_loss: 5.0354 - val_accuracy: 0.3558\n",
            "Epoch 88/100\n",
            "531/531 [==============================] - 4s 8ms/step - loss: 0.1083 - accuracy: 0.9824 - val_loss: 5.1175 - val_accuracy: 0.3506\n",
            "Epoch 89/100\n",
            "531/531 [==============================] - 5s 8ms/step - loss: 0.1069 - accuracy: 0.9816 - val_loss: 5.1554 - val_accuracy: 0.3582\n",
            "Epoch 90/100\n",
            "531/531 [==============================] - 5s 9ms/step - loss: 0.1088 - accuracy: 0.9806 - val_loss: 5.3013 - val_accuracy: 0.3493\n",
            "Epoch 91/100\n",
            "531/531 [==============================] - 5s 9ms/step - loss: 0.0869 - accuracy: 0.9859 - val_loss: 5.2733 - val_accuracy: 0.3543\n",
            "Epoch 92/100\n",
            "531/531 [==============================] - 5s 9ms/step - loss: 0.0797 - accuracy: 0.9882 - val_loss: 5.3613 - val_accuracy: 0.3572\n",
            "Epoch 93/100\n",
            "531/531 [==============================] - 4s 8ms/step - loss: 0.0845 - accuracy: 0.9862 - val_loss: 5.4392 - val_accuracy: 0.3523\n",
            "Epoch 94/100\n",
            "531/531 [==============================] - 4s 8ms/step - loss: 0.0830 - accuracy: 0.9856 - val_loss: 5.4998 - val_accuracy: 0.3466\n",
            "Epoch 95/100\n",
            "531/531 [==============================] - 4s 8ms/step - loss: 0.0712 - accuracy: 0.9895 - val_loss: 5.6172 - val_accuracy: 0.3468\n",
            "Epoch 96/100\n",
            "531/531 [==============================] - 5s 8ms/step - loss: 0.0809 - accuracy: 0.9856 - val_loss: 5.5844 - val_accuracy: 0.3553\n",
            "Epoch 97/100\n",
            "531/531 [==============================] - 4s 8ms/step - loss: 0.0564 - accuracy: 0.9924 - val_loss: 5.7839 - val_accuracy: 0.3471\n",
            "Epoch 98/100\n",
            "531/531 [==============================] - 4s 8ms/step - loss: 0.0741 - accuracy: 0.9869 - val_loss: 5.8281 - val_accuracy: 0.3446\n",
            "Epoch 99/100\n",
            "531/531 [==============================] - 4s 8ms/step - loss: 0.0622 - accuracy: 0.9896 - val_loss: 5.8168 - val_accuracy: 0.3580\n",
            "Epoch 100/100\n",
            "531/531 [==============================] - 5s 9ms/step - loss: 0.0558 - accuracy: 0.9915 - val_loss: 5.8798 - val_accuracy: 0.3486\n"
          ],
          "name": "stdout"
        }
      ]
    },
    {
      "cell_type": "code",
      "metadata": {
        "id": "HMfxDvuEq4nG",
        "colab_type": "code",
        "colab": {
          "base_uri": "https://localhost:8080/",
          "height": 475
        },
        "outputId": "78a3f0ab-0084-4190-b717-a635af6bfc2f"
      },
      "source": [
        "model_report(LENET_MODEL_ADAM, LENET_MODEL_ADAM_history)"
      ],
      "execution_count": null,
      "outputs": [
        {
          "output_type": "display_data",
          "data": {
            "image/png": "[encoded data removed]",
            "text/plain": [
              "<Figure size 720x432 with 1 Axes>"
            ]
          },
          "metadata": {
            "tags": [],
            "needs_background": "light"
          }
        },
        {
          "output_type": "stream",
          "text": [
            "\n",
            "Test set evaluation metrics\n",
            "125/125 [==============================] - 1s 5ms/step - loss: 5.7183 - accuracy: 0.3679\n",
            "loss: 5.72\n",
            "accuracy: 0.37\n"
          ],
          "name": "stdout"
        }
      ]
    },
    {
      "cell_type": "markdown",
      "metadata": {
        "id": "0V3bL1W_uWKe",
        "colab_type": "text"
      },
      "source": [
        "Το δεύτερο μοντέλο έχει `Adamax` optimizer με `lr=0.01`. Διατηρούμε τις 100 `epochs` εκπαίδευσης."
      ]
    },
    {
      "cell_type": "code",
      "metadata": {
        "id": "64fb-pA-ujGf",
        "colab_type": "code",
        "colab": {}
      },
      "source": [
        "def init_lenet_adamax(summary):\n",
        "  \n",
        "  model = models.Sequential()\n",
        " \n",
        "  model.add(layers.Conv2D(32, (3, 3), activation='relu', padding='same', input_shape=(32, 32, 3)))\n",
        "  model.add(layers.MaxPooling2D((2, 2)))\n",
        "  model.add(layers.Conv2D(32, (3, 3), activation='relu', padding='same'))\n",
        "  model.add(layers.MaxPooling2D((2, 2)))\n",
        "\n",
        "  model.add(layers.Flatten())\n",
        "  model.add(layers.Dense(512, activation='relu'))\n",
        "  model.add(layers.Dense(200, activation='softmax'))\n",
        "  \n",
        "  model.compile(optimizer=tf.optimizers.Adam(lr=0.0001), loss=tf.keras.losses.sparse_categorical_crossentropy, metrics=[\"accuracy\"])\n",
        "  \n",
        "  if summary:\n",
        "    model.summary()\n",
        "  return model"
      ],
      "execution_count": null,
      "outputs": []
    },
    {
      "cell_type": "code",
      "metadata": {
        "id": "20J9V5thupXB",
        "colab_type": "code",
        "colab": {
          "base_uri": "https://localhost:8080/",
          "height": 1000
        },
        "outputId": "55d535a6-1b16-4baf-f4c8-8f1f5a085943"
      },
      "source": [
        "# Initialize model\n",
        "LENET_MODEL_ADAMAX = init_lenet_adamax(summary=True)\n",
        "\n",
        "# Train for 100 epochs\n",
        "LENET_MODEL_ADAMAX_history = train_model(LENET_MODEL_ADAMAX, 100)\n",
        "\n",
        "# Dump training history\n",
        "history_dict = LENET_MODEL_ADAMAX_history.history\n",
        "json.dump(history_dict, open('LENET_MODEL_ADAMAX.json', 'w'))"
      ],
      "execution_count": null,
      "outputs": [
        {
          "output_type": "stream",
          "text": [
            "Model: \"sequential_25\"\n",
            "_________________________________________________________________\n",
            "Layer (type)                 Output Shape              Param #   \n",
            "=================================================================\n",
            "conv2d_16 (Conv2D)           (None, 32, 32, 32)        896       \n",
            "_________________________________________________________________\n",
            "max_pooling2d_16 (MaxPooling (None, 16, 16, 32)        0         \n",
            "_________________________________________________________________\n",
            "conv2d_17 (Conv2D)           (None, 16, 16, 32)        9248      \n",
            "_________________________________________________________________\n",
            "max_pooling2d_17 (MaxPooling (None, 8, 8, 32)          0         \n",
            "_________________________________________________________________\n",
            "flatten_25 (Flatten)         (None, 2048)              0         \n",
            "_________________________________________________________________\n",
            "dense_50 (Dense)             (None, 512)               1049088   \n",
            "_________________________________________________________________\n",
            "dense_51 (Dense)             (None, 200)               102600    \n",
            "=================================================================\n",
            "Total params: 1,161,832\n",
            "Trainable params: 1,161,832\n",
            "Non-trainable params: 0\n",
            "_________________________________________________________________\n",
            "Epoch 1/100\n",
            "531/531 [==============================] - 5s 9ms/step - loss: 4.1787 - accuracy: 0.0598 - val_loss: 3.8222 - val_accuracy: 0.1151\n",
            "Epoch 2/100\n",
            "531/531 [==============================] - 5s 9ms/step - loss: 3.6418 - accuracy: 0.1418 - val_loss: 3.5246 - val_accuracy: 0.1616\n",
            "Epoch 3/100\n",
            "531/531 [==============================] - 5s 9ms/step - loss: 3.4102 - accuracy: 0.1879 - val_loss: 3.3772 - val_accuracy: 0.1895\n",
            "Epoch 4/100\n",
            "531/531 [==============================] - 5s 9ms/step - loss: 3.2526 - accuracy: 0.2234 - val_loss: 3.2511 - val_accuracy: 0.2204\n",
            "Epoch 5/100\n",
            "531/531 [==============================] - 5s 9ms/step - loss: 3.1284 - accuracy: 0.2451 - val_loss: 3.1912 - val_accuracy: 0.2324\n",
            "Epoch 6/100\n",
            "531/531 [==============================] - 5s 9ms/step - loss: 3.0263 - accuracy: 0.2639 - val_loss: 3.0904 - val_accuracy: 0.2554\n",
            "Epoch 7/100\n",
            "531/531 [==============================] - 5s 9ms/step - loss: 2.9326 - accuracy: 0.2832 - val_loss: 3.0380 - val_accuracy: 0.2655\n",
            "Epoch 8/100\n",
            "531/531 [==============================] - 4s 8ms/step - loss: 2.8415 - accuracy: 0.3047 - val_loss: 2.9668 - val_accuracy: 0.2844\n",
            "Epoch 9/100\n",
            "531/531 [==============================] - 5s 9ms/step - loss: 2.7609 - accuracy: 0.3186 - val_loss: 2.9136 - val_accuracy: 0.2908\n",
            "Epoch 10/100\n",
            "531/531 [==============================] - 5s 9ms/step - loss: 2.6807 - accuracy: 0.3352 - val_loss: 2.8542 - val_accuracy: 0.3044\n",
            "Epoch 11/100\n",
            "531/531 [==============================] - 5s 9ms/step - loss: 2.6042 - accuracy: 0.3528 - val_loss: 2.8067 - val_accuracy: 0.3207\n",
            "Epoch 12/100\n",
            "531/531 [==============================] - 5s 9ms/step - loss: 2.5291 - accuracy: 0.3697 - val_loss: 2.7685 - val_accuracy: 0.3238\n",
            "Epoch 13/100\n",
            "531/531 [==============================] - 5s 9ms/step - loss: 2.4637 - accuracy: 0.3823 - val_loss: 2.7260 - val_accuracy: 0.3301\n",
            "Epoch 14/100\n",
            "531/531 [==============================] - 5s 9ms/step - loss: 2.4005 - accuracy: 0.3978 - val_loss: 2.6900 - val_accuracy: 0.3379\n",
            "Epoch 15/100\n",
            "531/531 [==============================] - 5s 9ms/step - loss: 2.3429 - accuracy: 0.4078 - val_loss: 2.6701 - val_accuracy: 0.3394\n",
            "Epoch 16/100\n",
            "531/531 [==============================] - 4s 8ms/step - loss: 2.2813 - accuracy: 0.4226 - val_loss: 2.6673 - val_accuracy: 0.3448\n",
            "Epoch 17/100\n",
            "531/531 [==============================] - 5s 9ms/step - loss: 2.2254 - accuracy: 0.4351 - val_loss: 2.6240 - val_accuracy: 0.3537\n",
            "Epoch 18/100\n",
            "531/531 [==============================] - 5s 9ms/step - loss: 2.1766 - accuracy: 0.4465 - val_loss: 2.6208 - val_accuracy: 0.3528\n",
            "Epoch 19/100\n",
            "531/531 [==============================] - 5s 9ms/step - loss: 2.1226 - accuracy: 0.4591 - val_loss: 2.5945 - val_accuracy: 0.3582\n",
            "Epoch 20/100\n",
            "531/531 [==============================] - 5s 9ms/step - loss: 2.0791 - accuracy: 0.4680 - val_loss: 2.5858 - val_accuracy: 0.3678\n",
            "Epoch 21/100\n",
            "531/531 [==============================] - 5s 9ms/step - loss: 2.0322 - accuracy: 0.4789 - val_loss: 2.5852 - val_accuracy: 0.3710\n",
            "Epoch 22/100\n",
            "531/531 [==============================] - 5s 9ms/step - loss: 1.9826 - accuracy: 0.4910 - val_loss: 2.5594 - val_accuracy: 0.3728\n",
            "Epoch 23/100\n",
            "531/531 [==============================] - 5s 9ms/step - loss: 1.9403 - accuracy: 0.5001 - val_loss: 2.5688 - val_accuracy: 0.3728\n",
            "Epoch 24/100\n",
            "531/531 [==============================] - 5s 9ms/step - loss: 1.8983 - accuracy: 0.5106 - val_loss: 2.5421 - val_accuracy: 0.3735\n",
            "Epoch 25/100\n",
            "531/531 [==============================] - 5s 9ms/step - loss: 1.8474 - accuracy: 0.5228 - val_loss: 2.5631 - val_accuracy: 0.3711\n",
            "Epoch 26/100\n",
            "531/531 [==============================] - 5s 9ms/step - loss: 1.8065 - accuracy: 0.5294 - val_loss: 2.5931 - val_accuracy: 0.3698\n",
            "Epoch 27/100\n",
            "531/531 [==============================] - 5s 9ms/step - loss: 1.7690 - accuracy: 0.5428 - val_loss: 2.5939 - val_accuracy: 0.3737\n",
            "Epoch 28/100\n",
            "531/531 [==============================] - 4s 8ms/step - loss: 1.7261 - accuracy: 0.5484 - val_loss: 2.5895 - val_accuracy: 0.3713\n",
            "Epoch 29/100\n",
            "531/531 [==============================] - 5s 9ms/step - loss: 1.6854 - accuracy: 0.5616 - val_loss: 2.5573 - val_accuracy: 0.3856\n",
            "Epoch 30/100\n",
            "531/531 [==============================] - 5s 9ms/step - loss: 1.6334 - accuracy: 0.5736 - val_loss: 2.5821 - val_accuracy: 0.3817\n",
            "Epoch 31/100\n",
            "531/531 [==============================] - 5s 9ms/step - loss: 1.5988 - accuracy: 0.5824 - val_loss: 2.5888 - val_accuracy: 0.3780\n",
            "Epoch 32/100\n",
            "531/531 [==============================] - 4s 8ms/step - loss: 1.5561 - accuracy: 0.5917 - val_loss: 2.6074 - val_accuracy: 0.3784\n",
            "Epoch 33/100\n",
            "531/531 [==============================] - 5s 9ms/step - loss: 1.5184 - accuracy: 0.6023 - val_loss: 2.6369 - val_accuracy: 0.3758\n",
            "Epoch 34/100\n",
            "531/531 [==============================] - 4s 8ms/step - loss: 1.4800 - accuracy: 0.6110 - val_loss: 2.6126 - val_accuracy: 0.3849\n",
            "Epoch 35/100\n",
            "531/531 [==============================] - 5s 9ms/step - loss: 1.4370 - accuracy: 0.6236 - val_loss: 2.6358 - val_accuracy: 0.3836\n",
            "Epoch 36/100\n",
            "531/531 [==============================] - 5s 9ms/step - loss: 1.4040 - accuracy: 0.6309 - val_loss: 2.6434 - val_accuracy: 0.3807\n",
            "Epoch 37/100\n",
            "531/531 [==============================] - 5s 9ms/step - loss: 1.3605 - accuracy: 0.6413 - val_loss: 2.6631 - val_accuracy: 0.3809\n",
            "Epoch 38/100\n",
            "531/531 [==============================] - 5s 9ms/step - loss: 1.3193 - accuracy: 0.6510 - val_loss: 2.6797 - val_accuracy: 0.3794\n",
            "Epoch 39/100\n",
            "531/531 [==============================] - 5s 9ms/step - loss: 1.2810 - accuracy: 0.6635 - val_loss: 2.6769 - val_accuracy: 0.3866\n",
            "Epoch 40/100\n",
            "531/531 [==============================] - 5s 9ms/step - loss: 1.2425 - accuracy: 0.6734 - val_loss: 2.7232 - val_accuracy: 0.3807\n",
            "Epoch 41/100\n",
            "531/531 [==============================] - 5s 9ms/step - loss: 1.2079 - accuracy: 0.6804 - val_loss: 2.7326 - val_accuracy: 0.3827\n",
            "Epoch 42/100\n",
            "531/531 [==============================] - 5s 9ms/step - loss: 1.1729 - accuracy: 0.6924 - val_loss: 2.7739 - val_accuracy: 0.3763\n",
            "Epoch 43/100\n",
            "531/531 [==============================] - 5s 9ms/step - loss: 1.1342 - accuracy: 0.7009 - val_loss: 2.7818 - val_accuracy: 0.3772\n",
            "Epoch 44/100\n",
            "531/531 [==============================] - 5s 9ms/step - loss: 1.0942 - accuracy: 0.7126 - val_loss: 2.8096 - val_accuracy: 0.3799\n",
            "Epoch 45/100\n",
            "531/531 [==============================] - 5s 9ms/step - loss: 1.0639 - accuracy: 0.7206 - val_loss: 2.8043 - val_accuracy: 0.3824\n",
            "Epoch 46/100\n",
            "531/531 [==============================] - 5s 9ms/step - loss: 1.0229 - accuracy: 0.7318 - val_loss: 2.8448 - val_accuracy: 0.3767\n",
            "Epoch 47/100\n",
            "531/531 [==============================] - 5s 9ms/step - loss: 0.9875 - accuracy: 0.7393 - val_loss: 2.8765 - val_accuracy: 0.3785\n",
            "Epoch 48/100\n",
            "531/531 [==============================] - 5s 9ms/step - loss: 0.9536 - accuracy: 0.7514 - val_loss: 2.8875 - val_accuracy: 0.3779\n",
            "Epoch 49/100\n",
            "531/531 [==============================] - 5s 9ms/step - loss: 0.9177 - accuracy: 0.7573 - val_loss: 2.9477 - val_accuracy: 0.3849\n",
            "Epoch 50/100\n",
            "531/531 [==============================] - 5s 8ms/step - loss: 0.8839 - accuracy: 0.7682 - val_loss: 2.9774 - val_accuracy: 0.3752\n",
            "Epoch 51/100\n",
            "531/531 [==============================] - 5s 8ms/step - loss: 0.8478 - accuracy: 0.7788 - val_loss: 2.9921 - val_accuracy: 0.3824\n",
            "Epoch 52/100\n",
            "531/531 [==============================] - 5s 9ms/step - loss: 0.8171 - accuracy: 0.7858 - val_loss: 3.0178 - val_accuracy: 0.3797\n",
            "Epoch 53/100\n",
            "531/531 [==============================] - 5s 9ms/step - loss: 0.7845 - accuracy: 0.7978 - val_loss: 3.0456 - val_accuracy: 0.3775\n",
            "Epoch 54/100\n",
            "531/531 [==============================] - 4s 8ms/step - loss: 0.7506 - accuracy: 0.8049 - val_loss: 3.1163 - val_accuracy: 0.3713\n",
            "Epoch 55/100\n",
            "531/531 [==============================] - 4s 8ms/step - loss: 0.7215 - accuracy: 0.8140 - val_loss: 3.1753 - val_accuracy: 0.3745\n",
            "Epoch 56/100\n",
            "531/531 [==============================] - 4s 8ms/step - loss: 0.6897 - accuracy: 0.8231 - val_loss: 3.1987 - val_accuracy: 0.3743\n",
            "Epoch 57/100\n",
            "531/531 [==============================] - 4s 8ms/step - loss: 0.6588 - accuracy: 0.8318 - val_loss: 3.2531 - val_accuracy: 0.3753\n",
            "Epoch 58/100\n",
            "531/531 [==============================] - 4s 8ms/step - loss: 0.6268 - accuracy: 0.8414 - val_loss: 3.2653 - val_accuracy: 0.3740\n",
            "Epoch 59/100\n",
            "531/531 [==============================] - 4s 8ms/step - loss: 0.6008 - accuracy: 0.8485 - val_loss: 3.3299 - val_accuracy: 0.3708\n",
            "Epoch 60/100\n",
            "531/531 [==============================] - 5s 9ms/step - loss: 0.5706 - accuracy: 0.8584 - val_loss: 3.4021 - val_accuracy: 0.3676\n",
            "Epoch 61/100\n",
            "531/531 [==============================] - 4s 8ms/step - loss: 0.5494 - accuracy: 0.8628 - val_loss: 3.4505 - val_accuracy: 0.3668\n",
            "Epoch 62/100\n",
            "531/531 [==============================] - 4s 8ms/step - loss: 0.5207 - accuracy: 0.8714 - val_loss: 3.4610 - val_accuracy: 0.3745\n",
            "Epoch 63/100\n",
            "531/531 [==============================] - 5s 8ms/step - loss: 0.4919 - accuracy: 0.8786 - val_loss: 3.5158 - val_accuracy: 0.3715\n",
            "Epoch 64/100\n",
            "531/531 [==============================] - 4s 8ms/step - loss: 0.4644 - accuracy: 0.8875 - val_loss: 3.6077 - val_accuracy: 0.3752\n",
            "Epoch 65/100\n",
            "531/531 [==============================] - 5s 9ms/step - loss: 0.4430 - accuracy: 0.8933 - val_loss: 3.6374 - val_accuracy: 0.3676\n",
            "Epoch 66/100\n",
            "531/531 [==============================] - 5s 9ms/step - loss: 0.4176 - accuracy: 0.9000 - val_loss: 3.6969 - val_accuracy: 0.3733\n",
            "Epoch 67/100\n",
            "531/531 [==============================] - 5s 9ms/step - loss: 0.3968 - accuracy: 0.9072 - val_loss: 3.7564 - val_accuracy: 0.3656\n",
            "Epoch 68/100\n",
            "531/531 [==============================] - 4s 8ms/step - loss: 0.3756 - accuracy: 0.9134 - val_loss: 3.8050 - val_accuracy: 0.3646\n",
            "Epoch 69/100\n",
            "531/531 [==============================] - 4s 8ms/step - loss: 0.3558 - accuracy: 0.9169 - val_loss: 3.8806 - val_accuracy: 0.3690\n",
            "Epoch 70/100\n",
            "531/531 [==============================] - 4s 8ms/step - loss: 0.3308 - accuracy: 0.9257 - val_loss: 3.9305 - val_accuracy: 0.3671\n",
            "Epoch 71/100\n",
            "531/531 [==============================] - 5s 8ms/step - loss: 0.3104 - accuracy: 0.9302 - val_loss: 4.0061 - val_accuracy: 0.3621\n",
            "Epoch 72/100\n",
            "531/531 [==============================] - 5s 8ms/step - loss: 0.2927 - accuracy: 0.9355 - val_loss: 4.0633 - val_accuracy: 0.3599\n",
            "Epoch 73/100\n",
            "531/531 [==============================] - 4s 8ms/step - loss: 0.2794 - accuracy: 0.9394 - val_loss: 4.0970 - val_accuracy: 0.3661\n",
            "Epoch 74/100\n",
            "531/531 [==============================] - 4s 8ms/step - loss: 0.2565 - accuracy: 0.9460 - val_loss: 4.1751 - val_accuracy: 0.3693\n",
            "Epoch 75/100\n",
            "531/531 [==============================] - 5s 8ms/step - loss: 0.2424 - accuracy: 0.9493 - val_loss: 4.2313 - val_accuracy: 0.3632\n",
            "Epoch 76/100\n",
            "531/531 [==============================] - 5s 8ms/step - loss: 0.2282 - accuracy: 0.9529 - val_loss: 4.3777 - val_accuracy: 0.3560\n",
            "Epoch 77/100\n",
            "531/531 [==============================] - 4s 8ms/step - loss: 0.2153 - accuracy: 0.9574 - val_loss: 4.3636 - val_accuracy: 0.3631\n",
            "Epoch 78/100\n",
            "531/531 [==============================] - 5s 9ms/step - loss: 0.1938 - accuracy: 0.9630 - val_loss: 4.4478 - val_accuracy: 0.3681\n",
            "Epoch 79/100\n",
            "531/531 [==============================] - 4s 8ms/step - loss: 0.1895 - accuracy: 0.9622 - val_loss: 4.5093 - val_accuracy: 0.3595\n",
            "Epoch 80/100\n",
            "531/531 [==============================] - 4s 8ms/step - loss: 0.1749 - accuracy: 0.9666 - val_loss: 4.5599 - val_accuracy: 0.3627\n",
            "Epoch 81/100\n",
            "531/531 [==============================] - 4s 8ms/step - loss: 0.1602 - accuracy: 0.9709 - val_loss: 4.6450 - val_accuracy: 0.3690\n",
            "Epoch 82/100\n",
            "531/531 [==============================] - 5s 8ms/step - loss: 0.1547 - accuracy: 0.9727 - val_loss: 4.7155 - val_accuracy: 0.3604\n",
            "Epoch 83/100\n",
            "531/531 [==============================] - 5s 9ms/step - loss: 0.1383 - accuracy: 0.9767 - val_loss: 4.7785 - val_accuracy: 0.3681\n",
            "Epoch 84/100\n",
            "531/531 [==============================] - 4s 8ms/step - loss: 0.1324 - accuracy: 0.9770 - val_loss: 4.8779 - val_accuracy: 0.3543\n",
            "Epoch 85/100\n",
            "531/531 [==============================] - 4s 8ms/step - loss: 0.1377 - accuracy: 0.9743 - val_loss: 4.9794 - val_accuracy: 0.3594\n",
            "Epoch 86/100\n",
            "531/531 [==============================] - 4s 8ms/step - loss: 0.1138 - accuracy: 0.9820 - val_loss: 5.0436 - val_accuracy: 0.3570\n",
            "Epoch 87/100\n",
            "531/531 [==============================] - 4s 8ms/step - loss: 0.1077 - accuracy: 0.9819 - val_loss: 5.0924 - val_accuracy: 0.3637\n",
            "Epoch 88/100\n",
            "531/531 [==============================] - 4s 8ms/step - loss: 0.1079 - accuracy: 0.9800 - val_loss: 5.1302 - val_accuracy: 0.3671\n",
            "Epoch 89/100\n",
            "531/531 [==============================] - 5s 9ms/step - loss: 0.1005 - accuracy: 0.9827 - val_loss: 5.1981 - val_accuracy: 0.3599\n",
            "Epoch 90/100\n",
            "531/531 [==============================] - 4s 8ms/step - loss: 0.0913 - accuracy: 0.9848 - val_loss: 5.2883 - val_accuracy: 0.3612\n",
            "Epoch 91/100\n",
            "531/531 [==============================] - 4s 8ms/step - loss: 0.0865 - accuracy: 0.9861 - val_loss: 5.3400 - val_accuracy: 0.3616\n",
            "Epoch 92/100\n",
            "531/531 [==============================] - 4s 8ms/step - loss: 0.0920 - accuracy: 0.9833 - val_loss: 5.4570 - val_accuracy: 0.3557\n",
            "Epoch 93/100\n",
            "531/531 [==============================] - 5s 9ms/step - loss: 0.0796 - accuracy: 0.9874 - val_loss: 5.4572 - val_accuracy: 0.3572\n",
            "Epoch 94/100\n",
            "531/531 [==============================] - 4s 8ms/step - loss: 0.0789 - accuracy: 0.9858 - val_loss: 5.5358 - val_accuracy: 0.3574\n",
            "Epoch 95/100\n",
            "531/531 [==============================] - 4s 8ms/step - loss: 0.0723 - accuracy: 0.9882 - val_loss: 5.5290 - val_accuracy: 0.3580\n",
            "Epoch 96/100\n",
            "531/531 [==============================] - 5s 8ms/step - loss: 0.0562 - accuracy: 0.9922 - val_loss: 5.7050 - val_accuracy: 0.3577\n",
            "Epoch 97/100\n",
            "531/531 [==============================] - 5s 9ms/step - loss: 0.0812 - accuracy: 0.9835 - val_loss: 5.8900 - val_accuracy: 0.3463\n",
            "Epoch 98/100\n",
            "531/531 [==============================] - 5s 8ms/step - loss: 0.0617 - accuracy: 0.9898 - val_loss: 5.7347 - val_accuracy: 0.3612\n",
            "Epoch 99/100\n",
            "531/531 [==============================] - 5s 9ms/step - loss: 0.0565 - accuracy: 0.9909 - val_loss: 5.8703 - val_accuracy: 0.3557\n",
            "Epoch 100/100\n",
            "531/531 [==============================] - 4s 8ms/step - loss: 0.0756 - accuracy: 0.9833 - val_loss: 6.0304 - val_accuracy: 0.3540\n"
          ],
          "name": "stdout"
        }
      ]
    },
    {
      "cell_type": "code",
      "metadata": {
        "id": "rjIuuDliuwoe",
        "colab_type": "code",
        "colab": {
          "base_uri": "https://localhost:8080/",
          "height": 475
        },
        "outputId": "147e9467-54c6-45e8-d94e-306d2bc3524e"
      },
      "source": [
        "model_report(LENET_MODEL_ADAMAX, LENET_MODEL_ADAMAX_history)"
      ],
      "execution_count": null,
      "outputs": [
        {
          "output_type": "display_data",
          "data": {
            "image/png": "[encoded data removed]",
            "text/plain": [
              "<Figure size 720x432 with 1 Axes>"
            ]
          },
          "metadata": {
            "tags": [],
            "needs_background": "light"
          }
        },
        {
          "output_type": "stream",
          "text": [
            "\n",
            "Test set evaluation metrics\n",
            "125/125 [==============================] - 1s 4ms/step - loss: 6.0467 - accuracy: 0.3555\n",
            "loss: 6.05\n",
            "accuracy: 0.36\n"
          ],
          "name": "stdout"
        }
      ]
    },
    {
      "cell_type": "markdown",
      "metadata": {
        "id": "84kNtYVsBwKW",
        "colab_type": "text"
      },
      "source": [
        "### CNN1"
      ]
    },
    {
      "cell_type": "markdown",
      "metadata": {
        "id": "2UioUWM9zETl",
        "colab_type": "text"
      },
      "source": [
        "Το πρώτο μοντέλο που θα εκπαιδεύσουμε εκμεταλλεύεται optimizer `Adam` με `lr=0.0001`. Ακολουθώντας το ίδιο σκεπτικό με παραπάνω, επιλέγουμε 100 `epochs` εκπαίδευσης."
      ]
    },
    {
      "cell_type": "code",
      "metadata": {
        "id": "NJRqPqzjBx_0",
        "colab_type": "code",
        "colab": {}
      },
      "source": [
        "def init_cnn1_adam(summary):\n",
        "  \n",
        "  model = models.Sequential()\n",
        " \n",
        "  model.add(layers.Conv2D(16, (5, 5), activation='relu', padding='same', input_shape=(32, 32, 3)))\n",
        "  model.add(layers.MaxPooling2D((2, 2)))\n",
        "  model.add(layers.Conv2D(16, (3, 3), activation='relu', padding='same'))\n",
        "  model.add(layers.MaxPooling2D((2, 2)))\n",
        "  model.add(layers.Conv2D(32, (3, 3), activation='relu', padding='same'))\n",
        "\n",
        "  model.add(layers.Flatten())\n",
        "  model.add(layers.Dense(200, activation='softmax'))\n",
        "  \n",
        "  model.compile(optimizer=tf.optimizers.Adam(lr=0.0001), loss=tf.keras.losses.sparse_categorical_crossentropy, metrics=[\"accuracy\"])\n",
        "  \n",
        "  if summary:\n",
        "    model.summary()\n",
        "  return model"
      ],
      "execution_count": null,
      "outputs": []
    },
    {
      "cell_type": "code",
      "metadata": {
        "id": "t2D5AQWfwb_v",
        "colab_type": "code",
        "colab": {
          "base_uri": "https://localhost:8080/",
          "height": 1000
        },
        "outputId": "5ebc6558-0c04-4981-85d4-0e8a64ce29be"
      },
      "source": [
        "# Initialize model\n",
        "CNN1_MODEL_ADAM = init_cnn1_adam(summary=True)\n",
        "\n",
        "# Train for 100 epochs\n",
        "CNN1_MODEL_ADAM_history = train_model(CNN1_MODEL_ADAM, 100)\n",
        "\n",
        "# Dump training history\n",
        "history_dict = CNN1_MODEL_ADAM_history.history\n",
        "json.dump(history_dict, open('CNN1_MODEL_ADAM.json', 'w'))"
      ],
      "execution_count": null,
      "outputs": [
        {
          "output_type": "stream",
          "text": [
            "Model: \"sequential_30\"\n",
            "_________________________________________________________________\n",
            "Layer (type)                 Output Shape              Param #   \n",
            "=================================================================\n",
            "conv2d_30 (Conv2D)           (None, 32, 32, 16)        1216      \n",
            "_________________________________________________________________\n",
            "max_pooling2d_26 (MaxPooling (None, 16, 16, 16)        0         \n",
            "_________________________________________________________________\n",
            "conv2d_31 (Conv2D)           (None, 16, 16, 16)        2320      \n",
            "_________________________________________________________________\n",
            "max_pooling2d_27 (MaxPooling (None, 8, 8, 16)          0         \n",
            "_________________________________________________________________\n",
            "conv2d_32 (Conv2D)           (None, 8, 8, 32)          4640      \n",
            "_________________________________________________________________\n",
            "flatten_30 (Flatten)         (None, 2048)              0         \n",
            "_________________________________________________________________\n",
            "dense_56 (Dense)             (None, 200)               409800    \n",
            "=================================================================\n",
            "Total params: 417,976\n",
            "Trainable params: 417,976\n",
            "Non-trainable params: 0\n",
            "_________________________________________________________________\n",
            "Epoch 1/100\n",
            "531/531 [==============================] - 5s 9ms/step - loss: 4.2320 - accuracy: 0.0512 - val_loss: 3.8988 - val_accuracy: 0.0919\n",
            "Epoch 2/100\n",
            "531/531 [==============================] - 5s 9ms/step - loss: 3.7385 - accuracy: 0.1256 - val_loss: 3.6763 - val_accuracy: 0.1431\n",
            "Epoch 3/100\n",
            "531/531 [==============================] - 5s 9ms/step - loss: 3.5599 - accuracy: 0.1619 - val_loss: 3.5520 - val_accuracy: 0.1705\n",
            "Epoch 4/100\n",
            "531/531 [==============================] - 5s 9ms/step - loss: 3.4351 - accuracy: 0.1869 - val_loss: 3.4626 - val_accuracy: 0.1865\n",
            "Epoch 5/100\n",
            "531/531 [==============================] - 5s 9ms/step - loss: 3.3273 - accuracy: 0.2099 - val_loss: 3.3866 - val_accuracy: 0.1977\n",
            "Epoch 6/100\n",
            "531/531 [==============================] - 5s 9ms/step - loss: 3.2343 - accuracy: 0.2291 - val_loss: 3.2950 - val_accuracy: 0.2189\n",
            "Epoch 7/100\n",
            "531/531 [==============================] - 5s 9ms/step - loss: 3.1595 - accuracy: 0.2422 - val_loss: 3.2498 - val_accuracy: 0.2240\n",
            "Epoch 8/100\n",
            "531/531 [==============================] - 4s 8ms/step - loss: 3.1039 - accuracy: 0.2509 - val_loss: 3.2069 - val_accuracy: 0.2285\n",
            "Epoch 9/100\n",
            "531/531 [==============================] - 5s 9ms/step - loss: 3.0479 - accuracy: 0.2631 - val_loss: 3.1649 - val_accuracy: 0.2441\n",
            "Epoch 10/100\n",
            "531/531 [==============================] - 5s 9ms/step - loss: 3.0003 - accuracy: 0.2729 - val_loss: 3.1362 - val_accuracy: 0.2530\n",
            "Epoch 11/100\n",
            "531/531 [==============================] - 5s 9ms/step - loss: 2.9528 - accuracy: 0.2829 - val_loss: 3.0929 - val_accuracy: 0.2547\n",
            "Epoch 12/100\n",
            "531/531 [==============================] - 5s 9ms/step - loss: 2.9060 - accuracy: 0.2911 - val_loss: 3.0909 - val_accuracy: 0.2579\n",
            "Epoch 13/100\n",
            "531/531 [==============================] - 5s 9ms/step - loss: 2.8643 - accuracy: 0.2994 - val_loss: 3.0519 - val_accuracy: 0.2730\n",
            "Epoch 14/100\n",
            "531/531 [==============================] - 5s 9ms/step - loss: 2.8192 - accuracy: 0.3105 - val_loss: 3.0040 - val_accuracy: 0.2774\n",
            "Epoch 15/100\n",
            "531/531 [==============================] - 4s 8ms/step - loss: 2.7726 - accuracy: 0.3183 - val_loss: 2.9895 - val_accuracy: 0.2797\n",
            "Epoch 16/100\n",
            "531/531 [==============================] - 4s 8ms/step - loss: 2.7309 - accuracy: 0.3270 - val_loss: 2.9603 - val_accuracy: 0.2883\n",
            "Epoch 17/100\n",
            "531/531 [==============================] - 5s 9ms/step - loss: 2.6908 - accuracy: 0.3354 - val_loss: 2.9455 - val_accuracy: 0.2902\n",
            "Epoch 18/100\n",
            "531/531 [==============================] - 5s 9ms/step - loss: 2.6515 - accuracy: 0.3434 - val_loss: 2.9297 - val_accuracy: 0.2982\n",
            "Epoch 19/100\n",
            "531/531 [==============================] - 5s 8ms/step - loss: 2.6114 - accuracy: 0.3495 - val_loss: 2.8888 - val_accuracy: 0.3085\n",
            "Epoch 20/100\n",
            "531/531 [==============================] - 5s 8ms/step - loss: 2.5778 - accuracy: 0.3569 - val_loss: 2.8684 - val_accuracy: 0.3048\n",
            "Epoch 21/100\n",
            "531/531 [==============================] - 5s 8ms/step - loss: 2.5469 - accuracy: 0.3624 - val_loss: 2.8762 - val_accuracy: 0.3036\n",
            "Epoch 22/100\n",
            "531/531 [==============================] - 5s 8ms/step - loss: 2.5104 - accuracy: 0.3708 - val_loss: 2.8595 - val_accuracy: 0.3085\n",
            "Epoch 23/100\n",
            "531/531 [==============================] - 4s 8ms/step - loss: 2.4841 - accuracy: 0.3766 - val_loss: 2.8238 - val_accuracy: 0.3184\n",
            "Epoch 24/100\n",
            "531/531 [==============================] - 4s 8ms/step - loss: 2.4549 - accuracy: 0.3831 - val_loss: 2.8209 - val_accuracy: 0.3155\n",
            "Epoch 25/100\n",
            "531/531 [==============================] - 5s 9ms/step - loss: 2.4256 - accuracy: 0.3888 - val_loss: 2.8083 - val_accuracy: 0.3189\n",
            "Epoch 26/100\n",
            "531/531 [==============================] - 5s 9ms/step - loss: 2.3965 - accuracy: 0.3969 - val_loss: 2.8139 - val_accuracy: 0.3209\n",
            "Epoch 27/100\n",
            "531/531 [==============================] - 4s 8ms/step - loss: 2.3719 - accuracy: 0.4012 - val_loss: 2.8022 - val_accuracy: 0.3231\n",
            "Epoch 28/100\n",
            "531/531 [==============================] - 4s 8ms/step - loss: 2.3463 - accuracy: 0.4105 - val_loss: 2.7834 - val_accuracy: 0.3206\n",
            "Epoch 29/100\n",
            "531/531 [==============================] - 5s 9ms/step - loss: 2.3182 - accuracy: 0.4107 - val_loss: 2.7811 - val_accuracy: 0.3298\n",
            "Epoch 30/100\n",
            "531/531 [==============================] - 5s 9ms/step - loss: 2.3032 - accuracy: 0.4167 - val_loss: 2.8062 - val_accuracy: 0.3209\n",
            "Epoch 31/100\n",
            "531/531 [==============================] - 5s 9ms/step - loss: 2.2790 - accuracy: 0.4227 - val_loss: 2.7673 - val_accuracy: 0.3348\n",
            "Epoch 32/100\n",
            "531/531 [==============================] - 4s 8ms/step - loss: 2.2528 - accuracy: 0.4273 - val_loss: 2.7926 - val_accuracy: 0.3233\n",
            "Epoch 33/100\n",
            "531/531 [==============================] - 5s 9ms/step - loss: 2.2317 - accuracy: 0.4334 - val_loss: 2.7529 - val_accuracy: 0.3342\n",
            "Epoch 34/100\n",
            "531/531 [==============================] - 5s 9ms/step - loss: 2.2105 - accuracy: 0.4377 - val_loss: 2.7589 - val_accuracy: 0.3322\n",
            "Epoch 35/100\n",
            "531/531 [==============================] - 5s 9ms/step - loss: 2.1884 - accuracy: 0.4430 - val_loss: 2.7643 - val_accuracy: 0.3308\n",
            "Epoch 36/100\n",
            "531/531 [==============================] - 5s 9ms/step - loss: 2.1675 - accuracy: 0.4467 - val_loss: 2.7575 - val_accuracy: 0.3360\n",
            "Epoch 37/100\n",
            "531/531 [==============================] - 5s 9ms/step - loss: 2.1508 - accuracy: 0.4494 - val_loss: 2.7506 - val_accuracy: 0.3372\n",
            "Epoch 38/100\n",
            "531/531 [==============================] - 5s 9ms/step - loss: 2.1264 - accuracy: 0.4557 - val_loss: 2.7497 - val_accuracy: 0.3414\n",
            "Epoch 39/100\n",
            "531/531 [==============================] - 5s 8ms/step - loss: 2.1091 - accuracy: 0.4614 - val_loss: 2.7389 - val_accuracy: 0.3389\n",
            "Epoch 40/100\n",
            "531/531 [==============================] - 5s 9ms/step - loss: 2.0883 - accuracy: 0.4652 - val_loss: 2.7517 - val_accuracy: 0.3402\n",
            "Epoch 41/100\n",
            "531/531 [==============================] - 5s 9ms/step - loss: 2.0666 - accuracy: 0.4695 - val_loss: 2.7601 - val_accuracy: 0.3374\n",
            "Epoch 42/100\n",
            "531/531 [==============================] - 5s 9ms/step - loss: 2.0537 - accuracy: 0.4721 - val_loss: 2.7369 - val_accuracy: 0.3431\n",
            "Epoch 43/100\n",
            "531/531 [==============================] - 5s 9ms/step - loss: 2.0331 - accuracy: 0.4786 - val_loss: 2.7578 - val_accuracy: 0.3412\n",
            "Epoch 44/100\n",
            "531/531 [==============================] - 5s 9ms/step - loss: 2.0152 - accuracy: 0.4798 - val_loss: 2.7641 - val_accuracy: 0.3471\n",
            "Epoch 45/100\n",
            "531/531 [==============================] - 5s 8ms/step - loss: 1.9994 - accuracy: 0.4848 - val_loss: 2.7691 - val_accuracy: 0.3384\n",
            "Epoch 46/100\n",
            "531/531 [==============================] - 5s 9ms/step - loss: 1.9774 - accuracy: 0.4887 - val_loss: 2.7585 - val_accuracy: 0.3464\n",
            "Epoch 47/100\n",
            "531/531 [==============================] - 5s 9ms/step - loss: 1.9645 - accuracy: 0.4937 - val_loss: 2.7782 - val_accuracy: 0.3397\n",
            "Epoch 48/100\n",
            "531/531 [==============================] - 5s 8ms/step - loss: 1.9435 - accuracy: 0.4976 - val_loss: 2.7806 - val_accuracy: 0.3443\n",
            "Epoch 49/100\n",
            "531/531 [==============================] - 5s 9ms/step - loss: 1.9271 - accuracy: 0.4994 - val_loss: 2.7719 - val_accuracy: 0.3456\n",
            "Epoch 50/100\n",
            "531/531 [==============================] - 5s 9ms/step - loss: 1.9093 - accuracy: 0.5052 - val_loss: 2.7846 - val_accuracy: 0.3407\n",
            "Epoch 51/100\n",
            "531/531 [==============================] - 5s 9ms/step - loss: 1.8957 - accuracy: 0.5086 - val_loss: 2.7922 - val_accuracy: 0.3431\n",
            "Epoch 52/100\n",
            "531/531 [==============================] - 5s 9ms/step - loss: 1.8779 - accuracy: 0.5141 - val_loss: 2.7699 - val_accuracy: 0.3486\n",
            "Epoch 53/100\n",
            "531/531 [==============================] - 5s 9ms/step - loss: 1.8574 - accuracy: 0.5186 - val_loss: 2.7802 - val_accuracy: 0.3476\n",
            "Epoch 54/100\n",
            "531/531 [==============================] - 5s 9ms/step - loss: 1.8476 - accuracy: 0.5212 - val_loss: 2.7887 - val_accuracy: 0.3476\n",
            "Epoch 55/100\n",
            "531/531 [==============================] - 5s 9ms/step - loss: 1.8268 - accuracy: 0.5230 - val_loss: 2.7885 - val_accuracy: 0.3463\n",
            "Epoch 56/100\n",
            "531/531 [==============================] - 5s 9ms/step - loss: 1.8118 - accuracy: 0.5277 - val_loss: 2.8102 - val_accuracy: 0.3448\n",
            "Epoch 57/100\n",
            "531/531 [==============================] - 5s 9ms/step - loss: 1.7930 - accuracy: 0.5333 - val_loss: 2.8198 - val_accuracy: 0.3421\n",
            "Epoch 58/100\n",
            "531/531 [==============================] - 5s 8ms/step - loss: 1.7783 - accuracy: 0.5378 - val_loss: 2.8220 - val_accuracy: 0.3473\n",
            "Epoch 59/100\n",
            "531/531 [==============================] - 5s 9ms/step - loss: 1.7627 - accuracy: 0.5418 - val_loss: 2.8220 - val_accuracy: 0.3436\n",
            "Epoch 60/100\n",
            "531/531 [==============================] - 5s 9ms/step - loss: 1.7465 - accuracy: 0.5429 - val_loss: 2.8346 - val_accuracy: 0.3451\n",
            "Epoch 61/100\n",
            "531/531 [==============================] - 5s 8ms/step - loss: 1.7358 - accuracy: 0.5462 - val_loss: 2.8300 - val_accuracy: 0.3471\n",
            "Epoch 62/100\n",
            "531/531 [==============================] - 5s 9ms/step - loss: 1.7169 - accuracy: 0.5520 - val_loss: 2.8619 - val_accuracy: 0.3427\n",
            "Epoch 63/100\n",
            "531/531 [==============================] - 5s 8ms/step - loss: 1.7026 - accuracy: 0.5503 - val_loss: 2.8462 - val_accuracy: 0.3387\n",
            "Epoch 64/100\n",
            "531/531 [==============================] - 4s 8ms/step - loss: 1.6841 - accuracy: 0.5593 - val_loss: 2.8647 - val_accuracy: 0.3414\n",
            "Epoch 65/100\n",
            "531/531 [==============================] - 5s 9ms/step - loss: 1.6711 - accuracy: 0.5613 - val_loss: 2.8656 - val_accuracy: 0.3483\n",
            "Epoch 66/100\n",
            "531/531 [==============================] - 5s 8ms/step - loss: 1.6616 - accuracy: 0.5644 - val_loss: 2.8725 - val_accuracy: 0.3434\n",
            "Epoch 67/100\n",
            "531/531 [==============================] - 4s 8ms/step - loss: 1.6390 - accuracy: 0.5684 - val_loss: 2.8835 - val_accuracy: 0.3424\n",
            "Epoch 68/100\n",
            "531/531 [==============================] - 5s 8ms/step - loss: 1.6258 - accuracy: 0.5715 - val_loss: 2.9024 - val_accuracy: 0.3416\n",
            "Epoch 69/100\n",
            "531/531 [==============================] - 5s 8ms/step - loss: 1.6120 - accuracy: 0.5782 - val_loss: 2.9125 - val_accuracy: 0.3390\n",
            "Epoch 70/100\n",
            "531/531 [==============================] - 5s 9ms/step - loss: 1.5999 - accuracy: 0.5790 - val_loss: 2.9220 - val_accuracy: 0.3419\n",
            "Epoch 71/100\n",
            "531/531 [==============================] - 5s 9ms/step - loss: 1.5887 - accuracy: 0.5829 - val_loss: 2.9227 - val_accuracy: 0.3488\n",
            "Epoch 72/100\n",
            "531/531 [==============================] - 4s 8ms/step - loss: 1.5667 - accuracy: 0.5850 - val_loss: 2.9432 - val_accuracy: 0.3412\n",
            "Epoch 73/100\n",
            "531/531 [==============================] - 5s 9ms/step - loss: 1.5583 - accuracy: 0.5883 - val_loss: 2.9620 - val_accuracy: 0.3459\n",
            "Epoch 74/100\n",
            "531/531 [==============================] - 5s 9ms/step - loss: 1.5453 - accuracy: 0.5931 - val_loss: 2.9556 - val_accuracy: 0.3434\n",
            "Epoch 75/100\n",
            "531/531 [==============================] - 5s 9ms/step - loss: 1.5302 - accuracy: 0.5947 - val_loss: 2.9592 - val_accuracy: 0.3421\n",
            "Epoch 76/100\n",
            "531/531 [==============================] - 5s 9ms/step - loss: 1.5153 - accuracy: 0.5994 - val_loss: 3.0000 - val_accuracy: 0.3419\n",
            "Epoch 77/100\n",
            "531/531 [==============================] - 5s 9ms/step - loss: 1.4992 - accuracy: 0.6037 - val_loss: 2.9930 - val_accuracy: 0.3424\n",
            "Epoch 78/100\n",
            "531/531 [==============================] - 4s 8ms/step - loss: 1.4885 - accuracy: 0.6064 - val_loss: 2.9863 - val_accuracy: 0.3421\n",
            "Epoch 79/100\n",
            "531/531 [==============================] - 4s 8ms/step - loss: 1.4732 - accuracy: 0.6098 - val_loss: 3.0163 - val_accuracy: 0.3421\n",
            "Epoch 80/100\n",
            "531/531 [==============================] - 5s 9ms/step - loss: 1.4592 - accuracy: 0.6127 - val_loss: 3.0247 - val_accuracy: 0.3364\n",
            "Epoch 81/100\n",
            "531/531 [==============================] - 4s 8ms/step - loss: 1.4425 - accuracy: 0.6177 - val_loss: 3.0324 - val_accuracy: 0.3385\n",
            "Epoch 82/100\n",
            "531/531 [==============================] - 5s 9ms/step - loss: 1.4346 - accuracy: 0.6188 - val_loss: 3.0696 - val_accuracy: 0.3407\n",
            "Epoch 83/100\n",
            "531/531 [==============================] - 5s 9ms/step - loss: 1.4248 - accuracy: 0.6205 - val_loss: 3.0884 - val_accuracy: 0.3345\n",
            "Epoch 84/100\n",
            "531/531 [==============================] - 5s 9ms/step - loss: 1.4021 - accuracy: 0.6264 - val_loss: 3.0784 - val_accuracy: 0.3419\n",
            "Epoch 85/100\n",
            "531/531 [==============================] - 5s 9ms/step - loss: 1.3956 - accuracy: 0.6281 - val_loss: 3.1323 - val_accuracy: 0.3338\n",
            "Epoch 86/100\n",
            "531/531 [==============================] - 5s 8ms/step - loss: 1.3791 - accuracy: 0.6317 - val_loss: 3.1161 - val_accuracy: 0.3392\n",
            "Epoch 87/100\n",
            "531/531 [==============================] - 5s 8ms/step - loss: 1.3705 - accuracy: 0.6349 - val_loss: 3.1315 - val_accuracy: 0.3337\n",
            "Epoch 88/100\n",
            "531/531 [==============================] - 5s 9ms/step - loss: 1.3533 - accuracy: 0.6380 - val_loss: 3.1510 - val_accuracy: 0.3340\n",
            "Epoch 89/100\n",
            "531/531 [==============================] - 5s 9ms/step - loss: 1.3421 - accuracy: 0.6405 - val_loss: 3.1697 - val_accuracy: 0.3355\n",
            "Epoch 90/100\n",
            "531/531 [==============================] - 5s 8ms/step - loss: 1.3351 - accuracy: 0.6415 - val_loss: 3.1634 - val_accuracy: 0.3392\n",
            "Epoch 91/100\n",
            "531/531 [==============================] - 5s 9ms/step - loss: 1.3120 - accuracy: 0.6486 - val_loss: 3.1795 - val_accuracy: 0.3369\n",
            "Epoch 92/100\n",
            "531/531 [==============================] - 5s 9ms/step - loss: 1.3061 - accuracy: 0.6513 - val_loss: 3.2061 - val_accuracy: 0.3332\n",
            "Epoch 93/100\n",
            "531/531 [==============================] - 5s 9ms/step - loss: 1.2941 - accuracy: 0.6531 - val_loss: 3.2409 - val_accuracy: 0.3355\n",
            "Epoch 94/100\n",
            "531/531 [==============================] - 5s 9ms/step - loss: 1.2759 - accuracy: 0.6590 - val_loss: 3.2635 - val_accuracy: 0.3318\n",
            "Epoch 95/100\n",
            "531/531 [==============================] - 5s 9ms/step - loss: 1.2679 - accuracy: 0.6587 - val_loss: 3.2633 - val_accuracy: 0.3315\n",
            "Epoch 96/100\n",
            "531/531 [==============================] - 5s 9ms/step - loss: 1.2571 - accuracy: 0.6647 - val_loss: 3.2842 - val_accuracy: 0.3310\n",
            "Epoch 97/100\n",
            "531/531 [==============================] - 4s 8ms/step - loss: 1.2435 - accuracy: 0.6624 - val_loss: 3.3078 - val_accuracy: 0.3281\n",
            "Epoch 98/100\n",
            "531/531 [==============================] - 5s 8ms/step - loss: 1.2358 - accuracy: 0.6703 - val_loss: 3.2872 - val_accuracy: 0.3313\n",
            "Epoch 99/100\n",
            "531/531 [==============================] - 5s 9ms/step - loss: 1.2207 - accuracy: 0.6723 - val_loss: 3.3349 - val_accuracy: 0.3298\n",
            "Epoch 100/100\n",
            "531/531 [==============================] - 4s 8ms/step - loss: 1.2071 - accuracy: 0.6759 - val_loss: 3.3451 - val_accuracy: 0.3296\n"
          ],
          "name": "stdout"
        }
      ]
    },
    {
      "cell_type": "code",
      "metadata": {
        "id": "jImiXYr8wiSV",
        "colab_type": "code",
        "colab": {
          "base_uri": "https://localhost:8080/",
          "height": 475
        },
        "outputId": "18797a5d-e1fe-4bb4-fb82-32e2882efa81"
      },
      "source": [
        "model_report(CNN1_MODEL_ADAM, CNN1_MODEL_ADAM_history)"
      ],
      "execution_count": null,
      "outputs": [
        {
          "output_type": "display_data",
          "data": {
            "image/png": "[encoded data removed]",
            "text/plain": [
              "<Figure size 720x432 with 1 Axes>"
            ]
          },
          "metadata": {
            "tags": [],
            "needs_background": "light"
          }
        },
        {
          "output_type": "stream",
          "text": [
            "\n",
            "Test set evaluation metrics\n",
            "125/125 [==============================] - 1s 4ms/step - loss: 3.2578 - accuracy: 0.3421\n",
            "loss: 3.26\n",
            "accuracy: 0.34\n"
          ],
          "name": "stdout"
        }
      ]
    },
    {
      "cell_type": "markdown",
      "metadata": {
        "id": "y8kNIDPgzZEe",
        "colab_type": "text"
      },
      "source": [
        "Το δεύτερο μοντέλο έχει `SGD` optimizer με `lr=0.01`. Διατηρούμε τις 100 `epochs` εκπαίδευσης."
      ]
    },
    {
      "cell_type": "code",
      "metadata": {
        "id": "WJ3_yLdAzl-f",
        "colab_type": "code",
        "colab": {}
      },
      "source": [
        "def init_cnn1_sgd(summary):\n",
        "  \n",
        "  model = models.Sequential()\n",
        " \n",
        "  model.add(layers.Conv2D(16, (5, 5), activation='relu', padding='same', input_shape=(32, 32, 3)))\n",
        "  model.add(layers.MaxPooling2D((2, 2)))\n",
        "  model.add(layers.Conv2D(16, (3, 3), activation='relu', padding='same'))\n",
        "  model.add(layers.MaxPooling2D((2, 2)))\n",
        "  model.add(layers.Conv2D(32, (3, 3), activation='relu', padding='same'))\n",
        "\n",
        "  model.add(layers.Flatten())\n",
        "  model.add(layers.Dense(200, activation='softmax'))\n",
        "  \n",
        "  model.compile(optimizer=tf.optimizers.SGD(lr=0.01), loss=tf.keras.losses.sparse_categorical_crossentropy, metrics=[\"accuracy\"])\n",
        "  \n",
        "  if summary:\n",
        "    model.summary()\n",
        "  return model"
      ],
      "execution_count": null,
      "outputs": []
    },
    {
      "cell_type": "code",
      "metadata": {
        "id": "rPSSYAk4ztf8",
        "colab_type": "code",
        "colab": {
          "base_uri": "https://localhost:8080/",
          "height": 1000
        },
        "outputId": "104e338e-9156-44d5-8e63-615b93456622"
      },
      "source": [
        "# Initialize model\n",
        "CNN1_MODEL_SGD = init_cnn1_sgd(summary=True)\n",
        "\n",
        "# Train for 100 epochs\n",
        "CNN1_MODEL_SGD_history = train_model(CNN1_MODEL_SGD, 100)\n",
        "\n",
        "# Dump training history\n",
        "history_dict = CNN1_MODEL_SGD_history.history\n",
        "json.dump(history_dict, open('CNN1_MODEL_SGD.json', 'w'))"
      ],
      "execution_count": null,
      "outputs": [
        {
          "output_type": "stream",
          "text": [
            "Model: \"sequential_31\"\n",
            "_________________________________________________________________\n",
            "Layer (type)                 Output Shape              Param #   \n",
            "=================================================================\n",
            "conv2d_33 (Conv2D)           (None, 32, 32, 16)        1216      \n",
            "_________________________________________________________________\n",
            "max_pooling2d_28 (MaxPooling (None, 16, 16, 16)        0         \n",
            "_________________________________________________________________\n",
            "conv2d_34 (Conv2D)           (None, 16, 16, 16)        2320      \n",
            "_________________________________________________________________\n",
            "max_pooling2d_29 (MaxPooling (None, 8, 8, 16)          0         \n",
            "_________________________________________________________________\n",
            "conv2d_35 (Conv2D)           (None, 8, 8, 32)          4640      \n",
            "_________________________________________________________________\n",
            "flatten_31 (Flatten)         (None, 2048)              0         \n",
            "_________________________________________________________________\n",
            "dense_57 (Dense)             (None, 200)               409800    \n",
            "=================================================================\n",
            "Total params: 417,976\n",
            "Trainable params: 417,976\n",
            "Non-trainable params: 0\n",
            "_________________________________________________________________\n",
            "Epoch 1/100\n",
            "531/531 [==============================] - 5s 9ms/step - loss: 4.4955 - accuracy: 0.0258 - val_loss: 4.1412 - val_accuracy: 0.0538\n",
            "Epoch 2/100\n",
            "531/531 [==============================] - 4s 8ms/step - loss: 3.9610 - accuracy: 0.0785 - val_loss: 3.8570 - val_accuracy: 0.0995\n",
            "Epoch 3/100\n",
            "531/531 [==============================] - 4s 8ms/step - loss: 3.7879 - accuracy: 0.1129 - val_loss: 3.7453 - val_accuracy: 0.1169\n",
            "Epoch 4/100\n",
            "531/531 [==============================] - 4s 8ms/step - loss: 3.6738 - accuracy: 0.1385 - val_loss: 3.6584 - val_accuracy: 0.1512\n",
            "Epoch 5/100\n",
            "531/531 [==============================] - 4s 8ms/step - loss: 3.5625 - accuracy: 0.1608 - val_loss: 3.5710 - val_accuracy: 0.1631\n",
            "Epoch 6/100\n",
            "531/531 [==============================] - 4s 8ms/step - loss: 3.4771 - accuracy: 0.1765 - val_loss: 3.4896 - val_accuracy: 0.1821\n",
            "Epoch 7/100\n",
            "531/531 [==============================] - 4s 8ms/step - loss: 3.4013 - accuracy: 0.1916 - val_loss: 3.4551 - val_accuracy: 0.1773\n",
            "Epoch 8/100\n",
            "531/531 [==============================] - 4s 8ms/step - loss: 3.3255 - accuracy: 0.2080 - val_loss: 3.4521 - val_accuracy: 0.1783\n",
            "Epoch 9/100\n",
            "531/531 [==============================] - 5s 9ms/step - loss: 3.2552 - accuracy: 0.2209 - val_loss: 3.3155 - val_accuracy: 0.2050\n",
            "Epoch 10/100\n",
            "531/531 [==============================] - 4s 8ms/step - loss: 3.1808 - accuracy: 0.2355 - val_loss: 3.2373 - val_accuracy: 0.2265\n",
            "Epoch 11/100\n",
            "531/531 [==============================] - 4s 8ms/step - loss: 3.1079 - accuracy: 0.2502 - val_loss: 3.2155 - val_accuracy: 0.2287\n",
            "Epoch 12/100\n",
            "531/531 [==============================] - 4s 8ms/step - loss: 3.0384 - accuracy: 0.2641 - val_loss: 3.1771 - val_accuracy: 0.2359\n",
            "Epoch 13/100\n",
            "531/531 [==============================] - 4s 8ms/step - loss: 2.9759 - accuracy: 0.2746 - val_loss: 3.1011 - val_accuracy: 0.2537\n",
            "Epoch 14/100\n",
            "531/531 [==============================] - 4s 8ms/step - loss: 2.9099 - accuracy: 0.2894 - val_loss: 3.0374 - val_accuracy: 0.2633\n",
            "Epoch 15/100\n",
            "531/531 [==============================] - 4s 8ms/step - loss: 2.8512 - accuracy: 0.3007 - val_loss: 3.0161 - val_accuracy: 0.2722\n",
            "Epoch 16/100\n",
            "531/531 [==============================] - 4s 8ms/step - loss: 2.7902 - accuracy: 0.3127 - val_loss: 2.9750 - val_accuracy: 0.2851\n",
            "Epoch 17/100\n",
            "531/531 [==============================] - 5s 9ms/step - loss: 2.7363 - accuracy: 0.3226 - val_loss: 2.9300 - val_accuracy: 0.2920\n",
            "Epoch 18/100\n",
            "531/531 [==============================] - 4s 8ms/step - loss: 2.6794 - accuracy: 0.3327 - val_loss: 2.8933 - val_accuracy: 0.2994\n",
            "Epoch 19/100\n",
            "531/531 [==============================] - 4s 8ms/step - loss: 2.6226 - accuracy: 0.3449 - val_loss: 2.8512 - val_accuracy: 0.3085\n",
            "Epoch 20/100\n",
            "531/531 [==============================] - 4s 8ms/step - loss: 2.5709 - accuracy: 0.3562 - val_loss: 2.8670 - val_accuracy: 0.3024\n",
            "Epoch 21/100\n",
            "531/531 [==============================] - 4s 8ms/step - loss: 2.5175 - accuracy: 0.3683 - val_loss: 2.8671 - val_accuracy: 0.3048\n",
            "Epoch 22/100\n",
            "531/531 [==============================] - 4s 8ms/step - loss: 2.4673 - accuracy: 0.3779 - val_loss: 2.8205 - val_accuracy: 0.3108\n",
            "Epoch 23/100\n",
            "531/531 [==============================] - 4s 8ms/step - loss: 2.4220 - accuracy: 0.3868 - val_loss: 2.7708 - val_accuracy: 0.3182\n",
            "Epoch 24/100\n",
            "531/531 [==============================] - 4s 8ms/step - loss: 2.3749 - accuracy: 0.3973 - val_loss: 2.8172 - val_accuracy: 0.3157\n",
            "Epoch 25/100\n",
            "531/531 [==============================] - 4s 8ms/step - loss: 2.3321 - accuracy: 0.4052 - val_loss: 2.7845 - val_accuracy: 0.3273\n",
            "Epoch 26/100\n",
            "531/531 [==============================] - 4s 8ms/step - loss: 2.2883 - accuracy: 0.4174 - val_loss: 2.7678 - val_accuracy: 0.3310\n",
            "Epoch 27/100\n",
            "531/531 [==============================] - 4s 8ms/step - loss: 2.2469 - accuracy: 0.4230 - val_loss: 2.7608 - val_accuracy: 0.3298\n",
            "Epoch 28/100\n",
            "531/531 [==============================] - 4s 8ms/step - loss: 2.2056 - accuracy: 0.4332 - val_loss: 2.7520 - val_accuracy: 0.3342\n",
            "Epoch 29/100\n",
            "531/531 [==============================] - 4s 8ms/step - loss: 2.1627 - accuracy: 0.4440 - val_loss: 2.7672 - val_accuracy: 0.3350\n",
            "Epoch 30/100\n",
            "531/531 [==============================] - 4s 8ms/step - loss: 2.1227 - accuracy: 0.4553 - val_loss: 2.7824 - val_accuracy: 0.3355\n",
            "Epoch 31/100\n",
            "531/531 [==============================] - 4s 8ms/step - loss: 2.0836 - accuracy: 0.4612 - val_loss: 2.7399 - val_accuracy: 0.3449\n",
            "Epoch 32/100\n",
            "531/531 [==============================] - 4s 8ms/step - loss: 2.0469 - accuracy: 0.4708 - val_loss: 2.7517 - val_accuracy: 0.3466\n",
            "Epoch 33/100\n",
            "531/531 [==============================] - 5s 9ms/step - loss: 2.0068 - accuracy: 0.4772 - val_loss: 2.7757 - val_accuracy: 0.3434\n",
            "Epoch 34/100\n",
            "531/531 [==============================] - 4s 8ms/step - loss: 1.9712 - accuracy: 0.4862 - val_loss: 2.7984 - val_accuracy: 0.3416\n",
            "Epoch 35/100\n",
            "531/531 [==============================] - 4s 8ms/step - loss: 1.9338 - accuracy: 0.4939 - val_loss: 2.7813 - val_accuracy: 0.3422\n",
            "Epoch 36/100\n",
            "531/531 [==============================] - 4s 8ms/step - loss: 1.8961 - accuracy: 0.5024 - val_loss: 2.7995 - val_accuracy: 0.3453\n",
            "Epoch 37/100\n",
            "531/531 [==============================] - 4s 8ms/step - loss: 1.8553 - accuracy: 0.5134 - val_loss: 2.8069 - val_accuracy: 0.3532\n",
            "Epoch 38/100\n",
            "531/531 [==============================] - 4s 8ms/step - loss: 1.8237 - accuracy: 0.5228 - val_loss: 2.8239 - val_accuracy: 0.3468\n",
            "Epoch 39/100\n",
            "531/531 [==============================] - 4s 8ms/step - loss: 1.7896 - accuracy: 0.5302 - val_loss: 2.8808 - val_accuracy: 0.3401\n",
            "Epoch 40/100\n",
            "531/531 [==============================] - 4s 8ms/step - loss: 1.7553 - accuracy: 0.5350 - val_loss: 2.9316 - val_accuracy: 0.3359\n",
            "Epoch 41/100\n",
            "531/531 [==============================] - 4s 8ms/step - loss: 1.7080 - accuracy: 0.5450 - val_loss: 2.9163 - val_accuracy: 0.3409\n",
            "Epoch 42/100\n",
            "531/531 [==============================] - 5s 9ms/step - loss: 1.6828 - accuracy: 0.5525 - val_loss: 2.8917 - val_accuracy: 0.3520\n",
            "Epoch 43/100\n",
            "531/531 [==============================] - 5s 9ms/step - loss: 1.6402 - accuracy: 0.5607 - val_loss: 2.9731 - val_accuracy: 0.3367\n",
            "Epoch 44/100\n",
            "531/531 [==============================] - 5s 9ms/step - loss: 1.6128 - accuracy: 0.5693 - val_loss: 2.9892 - val_accuracy: 0.3389\n",
            "Epoch 45/100\n",
            "531/531 [==============================] - 5s 9ms/step - loss: 1.5756 - accuracy: 0.5762 - val_loss: 3.0346 - val_accuracy: 0.3367\n",
            "Epoch 46/100\n",
            "531/531 [==============================] - 5s 9ms/step - loss: 1.5399 - accuracy: 0.5852 - val_loss: 3.0877 - val_accuracy: 0.3353\n",
            "Epoch 47/100\n",
            "531/531 [==============================] - 5s 9ms/step - loss: 1.5109 - accuracy: 0.5943 - val_loss: 3.0937 - val_accuracy: 0.3342\n",
            "Epoch 48/100\n",
            "531/531 [==============================] - 5s 8ms/step - loss: 1.4727 - accuracy: 0.6020 - val_loss: 3.1540 - val_accuracy: 0.3409\n",
            "Epoch 49/100\n",
            "531/531 [==============================] - 5s 9ms/step - loss: 1.4364 - accuracy: 0.6091 - val_loss: 3.1317 - val_accuracy: 0.3456\n",
            "Epoch 50/100\n",
            "531/531 [==============================] - 4s 8ms/step - loss: 1.4121 - accuracy: 0.6155 - val_loss: 3.1879 - val_accuracy: 0.3414\n",
            "Epoch 51/100\n",
            "531/531 [==============================] - 5s 9ms/step - loss: 1.3711 - accuracy: 0.6247 - val_loss: 3.1816 - val_accuracy: 0.3438\n",
            "Epoch 52/100\n",
            "531/531 [==============================] - 4s 8ms/step - loss: 1.3435 - accuracy: 0.6332 - val_loss: 3.2955 - val_accuracy: 0.3308\n",
            "Epoch 53/100\n",
            "531/531 [==============================] - 4s 8ms/step - loss: 1.3119 - accuracy: 0.6402 - val_loss: 3.2973 - val_accuracy: 0.3385\n",
            "Epoch 54/100\n",
            "531/531 [==============================] - 4s 8ms/step - loss: 1.2742 - accuracy: 0.6540 - val_loss: 3.3789 - val_accuracy: 0.3322\n",
            "Epoch 55/100\n",
            "531/531 [==============================] - 4s 8ms/step - loss: 1.2488 - accuracy: 0.6546 - val_loss: 3.4399 - val_accuracy: 0.3296\n",
            "Epoch 56/100\n",
            "531/531 [==============================] - 4s 8ms/step - loss: 1.2196 - accuracy: 0.6612 - val_loss: 3.5085 - val_accuracy: 0.3337\n",
            "Epoch 57/100\n",
            "531/531 [==============================] - 4s 8ms/step - loss: 1.1837 - accuracy: 0.6726 - val_loss: 3.5493 - val_accuracy: 0.3355\n",
            "Epoch 58/100\n",
            "531/531 [==============================] - 5s 9ms/step - loss: 1.1575 - accuracy: 0.6776 - val_loss: 3.6201 - val_accuracy: 0.3323\n",
            "Epoch 59/100\n",
            "531/531 [==============================] - 4s 8ms/step - loss: 1.1284 - accuracy: 0.6821 - val_loss: 3.7148 - val_accuracy: 0.3241\n",
            "Epoch 60/100\n",
            "531/531 [==============================] - 4s 8ms/step - loss: 1.0961 - accuracy: 0.6913 - val_loss: 3.7651 - val_accuracy: 0.3303\n",
            "Epoch 61/100\n",
            "531/531 [==============================] - 4s 8ms/step - loss: 1.0646 - accuracy: 0.7006 - val_loss: 3.8381 - val_accuracy: 0.3275\n",
            "Epoch 62/100\n",
            "531/531 [==============================] - 4s 8ms/step - loss: 1.0402 - accuracy: 0.7060 - val_loss: 3.8127 - val_accuracy: 0.3333\n",
            "Epoch 63/100\n",
            "531/531 [==============================] - 4s 8ms/step - loss: 1.0191 - accuracy: 0.7114 - val_loss: 3.9447 - val_accuracy: 0.3259\n",
            "Epoch 64/100\n",
            "531/531 [==============================] - 4s 8ms/step - loss: 0.9931 - accuracy: 0.7168 - val_loss: 3.9716 - val_accuracy: 0.3317\n",
            "Epoch 65/100\n",
            "531/531 [==============================] - 5s 9ms/step - loss: 0.9652 - accuracy: 0.7212 - val_loss: 4.1020 - val_accuracy: 0.3206\n",
            "Epoch 66/100\n",
            "531/531 [==============================] - 5s 9ms/step - loss: 0.9310 - accuracy: 0.7346 - val_loss: 4.1581 - val_accuracy: 0.3253\n",
            "Epoch 67/100\n",
            "531/531 [==============================] - 4s 8ms/step - loss: 0.8986 - accuracy: 0.7450 - val_loss: 4.2186 - val_accuracy: 0.3233\n",
            "Epoch 68/100\n",
            "531/531 [==============================] - 5s 8ms/step - loss: 0.8865 - accuracy: 0.7434 - val_loss: 4.2086 - val_accuracy: 0.3285\n",
            "Epoch 69/100\n",
            "531/531 [==============================] - 4s 8ms/step - loss: 0.8596 - accuracy: 0.7484 - val_loss: 4.3451 - val_accuracy: 0.3258\n",
            "Epoch 70/100\n",
            "531/531 [==============================] - 4s 8ms/step - loss: 0.8353 - accuracy: 0.7542 - val_loss: 4.4400 - val_accuracy: 0.3259\n",
            "Epoch 71/100\n",
            "531/531 [==============================] - 4s 8ms/step - loss: 0.8132 - accuracy: 0.7633 - val_loss: 4.5696 - val_accuracy: 0.3150\n",
            "Epoch 72/100\n",
            "531/531 [==============================] - 5s 9ms/step - loss: 0.7855 - accuracy: 0.7690 - val_loss: 4.6172 - val_accuracy: 0.3212\n",
            "Epoch 73/100\n",
            "531/531 [==============================] - 4s 8ms/step - loss: 0.7633 - accuracy: 0.7767 - val_loss: 4.8513 - val_accuracy: 0.3125\n",
            "Epoch 74/100\n",
            "531/531 [==============================] - 5s 8ms/step - loss: 0.7326 - accuracy: 0.7825 - val_loss: 4.9142 - val_accuracy: 0.3054\n",
            "Epoch 75/100\n",
            "531/531 [==============================] - 4s 8ms/step - loss: 0.7192 - accuracy: 0.7876 - val_loss: 4.9035 - val_accuracy: 0.3175\n",
            "Epoch 76/100\n",
            "531/531 [==============================] - 5s 9ms/step - loss: 0.7028 - accuracy: 0.7908 - val_loss: 4.9122 - val_accuracy: 0.3132\n",
            "Epoch 77/100\n",
            "531/531 [==============================] - 5s 10ms/step - loss: 0.6757 - accuracy: 0.7991 - val_loss: 5.0618 - val_accuracy: 0.3157\n",
            "Epoch 78/100\n",
            "531/531 [==============================] - 5s 9ms/step - loss: 0.6640 - accuracy: 0.7999 - val_loss: 5.1803 - val_accuracy: 0.3100\n",
            "Epoch 79/100\n",
            "531/531 [==============================] - 5s 9ms/step - loss: 0.6260 - accuracy: 0.8122 - val_loss: 5.2443 - val_accuracy: 0.3143\n",
            "Epoch 80/100\n",
            "531/531 [==============================] - 5s 9ms/step - loss: 0.6256 - accuracy: 0.8099 - val_loss: 5.4712 - val_accuracy: 0.3096\n",
            "Epoch 81/100\n",
            "531/531 [==============================] - 5s 9ms/step - loss: 0.6033 - accuracy: 0.8178 - val_loss: 5.4952 - val_accuracy: 0.3096\n",
            "Epoch 82/100\n",
            "531/531 [==============================] - 5s 9ms/step - loss: 0.5791 - accuracy: 0.8237 - val_loss: 5.6052 - val_accuracy: 0.3101\n",
            "Epoch 83/100\n",
            "531/531 [==============================] - 5s 9ms/step - loss: 0.5589 - accuracy: 0.8291 - val_loss: 5.8246 - val_accuracy: 0.2979\n",
            "Epoch 84/100\n",
            "531/531 [==============================] - 5s 9ms/step - loss: 0.5490 - accuracy: 0.8324 - val_loss: 5.9904 - val_accuracy: 0.2987\n",
            "Epoch 85/100\n",
            "531/531 [==============================] - 5s 9ms/step - loss: 0.5265 - accuracy: 0.8404 - val_loss: 5.9481 - val_accuracy: 0.3073\n",
            "Epoch 86/100\n",
            "531/531 [==============================] - 5s 9ms/step - loss: 0.5092 - accuracy: 0.8427 - val_loss: 6.0791 - val_accuracy: 0.3028\n",
            "Epoch 87/100\n",
            "531/531 [==============================] - 5s 9ms/step - loss: 0.4849 - accuracy: 0.8523 - val_loss: 6.1739 - val_accuracy: 0.3053\n",
            "Epoch 88/100\n",
            "531/531 [==============================] - 5s 9ms/step - loss: 0.4703 - accuracy: 0.8576 - val_loss: 6.4973 - val_accuracy: 0.2905\n",
            "Epoch 89/100\n",
            "531/531 [==============================] - 5s 9ms/step - loss: 0.4645 - accuracy: 0.8553 - val_loss: 6.6082 - val_accuracy: 0.2972\n",
            "Epoch 90/100\n",
            "531/531 [==============================] - 5s 9ms/step - loss: 0.4555 - accuracy: 0.8585 - val_loss: 6.6685 - val_accuracy: 0.2984\n",
            "Epoch 91/100\n",
            "531/531 [==============================] - 5s 9ms/step - loss: 0.4330 - accuracy: 0.8666 - val_loss: 6.8744 - val_accuracy: 0.2979\n",
            "Epoch 92/100\n",
            "531/531 [==============================] - 5s 9ms/step - loss: 0.4239 - accuracy: 0.8667 - val_loss: 6.7755 - val_accuracy: 0.2974\n",
            "Epoch 93/100\n",
            "531/531 [==============================] - 5s 9ms/step - loss: 0.4082 - accuracy: 0.8718 - val_loss: 6.9243 - val_accuracy: 0.3017\n",
            "Epoch 94/100\n",
            "531/531 [==============================] - 5s 9ms/step - loss: 0.4073 - accuracy: 0.8719 - val_loss: 6.9476 - val_accuracy: 0.3017\n",
            "Epoch 95/100\n",
            "531/531 [==============================] - 5s 9ms/step - loss: 0.3698 - accuracy: 0.8844 - val_loss: 7.3463 - val_accuracy: 0.2829\n",
            "Epoch 96/100\n",
            "531/531 [==============================] - 5s 9ms/step - loss: 0.3661 - accuracy: 0.8849 - val_loss: 7.2308 - val_accuracy: 0.2999\n",
            "Epoch 97/100\n",
            "531/531 [==============================] - 5s 9ms/step - loss: 0.3446 - accuracy: 0.8924 - val_loss: 7.3801 - val_accuracy: 0.2967\n",
            "Epoch 98/100\n",
            "531/531 [==============================] - 5s 9ms/step - loss: 0.3322 - accuracy: 0.8948 - val_loss: 7.5802 - val_accuracy: 0.3023\n",
            "Epoch 99/100\n",
            "531/531 [==============================] - 5s 9ms/step - loss: 0.3392 - accuracy: 0.8922 - val_loss: 7.7755 - val_accuracy: 0.2915\n",
            "Epoch 100/100\n",
            "531/531 [==============================] - 5s 9ms/step - loss: 0.3441 - accuracy: 0.8887 - val_loss: 7.8148 - val_accuracy: 0.2932\n"
          ],
          "name": "stdout"
        }
      ]
    },
    {
      "cell_type": "code",
      "metadata": {
        "id": "4xY5gIypzz4K",
        "colab_type": "code",
        "colab": {
          "base_uri": "https://localhost:8080/",
          "height": 475
        },
        "outputId": "30b4ca23-42d7-4dd8-d4bf-dca2e8986ef9"
      },
      "source": [
        "model_report(CNN1_MODEL_SGD, CNN1_MODEL_SGD_history)"
      ],
      "execution_count": null,
      "outputs": [
        {
          "output_type": "display_data",
          "data": {
            "image/png": "[encoded data removed]",
            "text/plain": [
              "<Figure size 720x432 with 1 Axes>"
            ]
          },
          "metadata": {
            "tags": [],
            "needs_background": "light"
          }
        },
        {
          "output_type": "stream",
          "text": [
            "\n",
            "Test set evaluation metrics\n",
            "125/125 [==============================] - 1s 5ms/step - loss: 7.7285 - accuracy: 0.3100\n",
            "loss: 7.73\n",
            "accuracy: 0.31\n"
          ],
          "name": "stdout"
        }
      ]
    },
    {
      "cell_type": "markdown",
      "metadata": {
        "colab_type": "text",
        "id": "cFTzQtMOa3Rv"
      },
      "source": [
        "### CNN2"
      ]
    },
    {
      "cell_type": "markdown",
      "metadata": {
        "id": "1XVJVi9jCWcl",
        "colab_type": "text"
      },
      "source": [
        "Η αρχιτεκτονική του δικτύου μας είναι επηρεασμένη από εκείνη του VGG16. Το πρώτο μοντέλο που θα εκπαιδεύσουμε εκμεταλλεύεται optimizer `Adam` με `lr=0.0001`. Παρατηρούμε ότι οι 50 `epochs` εκπαίδευσης είναι αρκετές για το μοντέλο μας."
      ]
    },
    {
      "cell_type": "code",
      "metadata": {
        "colab_type": "code",
        "id": "LtcgTkHojt0G",
        "colab": {}
      },
      "source": [
        "def init_CNN2_adam(summary):\n",
        "  \n",
        "  model = models.Sequential()\n",
        "  \n",
        "  model.add(layers.Conv2D(128, (3, 3), activation='elu', padding='same', input_shape=(32, 32, 3)))\n",
        "  model.add(layers.Conv2D(128, (3, 3), activation='elu'))\n",
        "  model.add(layers.MaxPooling2D((2, 2)))\n",
        "  model.add(layers.Conv2D(256, (3, 3), activation='elu', padding='same'))\n",
        "  model.add(layers.Conv2D(256, (3, 3), activation='elu'))\n",
        "  model.add(layers.MaxPooling2D((2, 2)))\n",
        "  model.add(layers.Conv2D(512, (3, 3), activation='elu', padding='same'))\n",
        "  model.add(layers.Conv2D(512, (3, 3), activation='elu'))\n",
        "  model.add(layers.MaxPooling2D((2, 2)))\n",
        " \n",
        "  model.add(layers.Flatten())\n",
        "  model.add(layers.Dense(1024, activation='elu'))\n",
        "  model.add(layers.Dense(100, activation='softmax'))\n",
        "  \n",
        "  model.compile(optimizer=tf.optimizers.Adam(lr=0.0001), loss=tf.keras.losses.sparse_categorical_crossentropy, metrics=[\"accuracy\"])\n",
        "  \n",
        "  if summary: \n",
        "    model.summary()\n",
        "  return model"
      ],
      "execution_count": null,
      "outputs": []
    },
    {
      "cell_type": "code",
      "metadata": {
        "colab_type": "code",
        "id": "dSbtouO9lGvj",
        "colab": {
          "base_uri": "https://localhost:8080/",
          "height": 1000
        },
        "outputId": "e3446af5-4f5a-4e02-b481-8f5fc916c28d"
      },
      "source": [
        "# Initialize model\n",
        "CNN2_MODEL_ADAM = init_CNN2_adam(summary=True)\n",
        "\n",
        "# Train for 50 epochs\n",
        "CNN2_MODEL_ADAM_history = train_model(CNN2_MODEL_ADAM, 50)\n",
        "\n",
        "# Dump training history\n",
        "history_dict = CNN2_MODEL_ADAM_history.history\n",
        "json.dump(history_dict, open('CNN2_MODEL_ADAM.json', 'w'))"
      ],
      "execution_count": null,
      "outputs": [
        {
          "output_type": "stream",
          "text": [
            "Model: \"sequential_4\"\n",
            "_________________________________________________________________\n",
            "Layer (type)                 Output Shape              Param #   \n",
            "=================================================================\n",
            "conv2d (Conv2D)              (None, 32, 32, 128)       3584      \n",
            "_________________________________________________________________\n",
            "conv2d_1 (Conv2D)            (None, 30, 30, 128)       147584    \n",
            "_________________________________________________________________\n",
            "max_pooling2d (MaxPooling2D) (None, 15, 15, 128)       0         \n",
            "_________________________________________________________________\n",
            "conv2d_2 (Conv2D)            (None, 15, 15, 256)       295168    \n",
            "_________________________________________________________________\n",
            "conv2d_3 (Conv2D)            (None, 13, 13, 256)       590080    \n",
            "_________________________________________________________________\n",
            "max_pooling2d_1 (MaxPooling2 (None, 6, 6, 256)         0         \n",
            "_________________________________________________________________\n",
            "conv2d_4 (Conv2D)            (None, 6, 6, 512)         1180160   \n",
            "_________________________________________________________________\n",
            "conv2d_5 (Conv2D)            (None, 4, 4, 512)         2359808   \n",
            "_________________________________________________________________\n",
            "max_pooling2d_2 (MaxPooling2 (None, 2, 2, 512)         0         \n",
            "_________________________________________________________________\n",
            "flatten_4 (Flatten)          (None, 2048)              0         \n",
            "_________________________________________________________________\n",
            "dense_6 (Dense)              (None, 1024)              2098176   \n",
            "_________________________________________________________________\n",
            "dense_7 (Dense)              (None, 100)               102500    \n",
            "=================================================================\n",
            "Total params: 6,777,060\n",
            "Trainable params: 6,777,060\n",
            "Non-trainable params: 0\n",
            "_________________________________________________________________\n",
            "Epoch 1/50\n",
            "531/531 [==============================] - 19s 36ms/step - loss: 3.5423 - accuracy: 0.1624 - val_loss: 3.1299 - val_accuracy: 0.2356\n",
            "Epoch 2/50\n",
            "531/531 [==============================] - 19s 35ms/step - loss: 2.7792 - accuracy: 0.3086 - val_loss: 2.6384 - val_accuracy: 0.3390\n",
            "Epoch 3/50\n",
            "531/531 [==============================] - 18s 35ms/step - loss: 2.2963 - accuracy: 0.4093 - val_loss: 2.4041 - val_accuracy: 0.3972\n",
            "Epoch 4/50\n",
            "531/531 [==============================] - 18s 34ms/step - loss: 1.9101 - accuracy: 0.4954 - val_loss: 2.2821 - val_accuracy: 0.4215\n",
            "Epoch 5/50\n",
            "531/531 [==============================] - 19s 35ms/step - loss: 1.5236 - accuracy: 0.5865 - val_loss: 2.2560 - val_accuracy: 0.4427\n",
            "Epoch 6/50\n",
            "531/531 [==============================] - 19s 35ms/step - loss: 1.1387 - accuracy: 0.6851 - val_loss: 2.3519 - val_accuracy: 0.4399\n",
            "Epoch 7/50\n",
            "531/531 [==============================] - 19s 35ms/step - loss: 0.7461 - accuracy: 0.7920 - val_loss: 2.5271 - val_accuracy: 0.4513\n",
            "Epoch 8/50\n",
            "531/531 [==============================] - 18s 35ms/step - loss: 0.4138 - accuracy: 0.8851 - val_loss: 2.8550 - val_accuracy: 0.4355\n",
            "Epoch 9/50\n",
            "531/531 [==============================] - 19s 35ms/step - loss: 0.2023 - accuracy: 0.9473 - val_loss: 3.2665 - val_accuracy: 0.4385\n",
            "Epoch 10/50\n",
            "531/531 [==============================] - 19s 35ms/step - loss: 0.1322 - accuracy: 0.9641 - val_loss: 3.4628 - val_accuracy: 0.4402\n",
            "Epoch 11/50\n",
            "531/531 [==============================] - 19s 35ms/step - loss: 0.1109 - accuracy: 0.9689 - val_loss: 3.7524 - val_accuracy: 0.4375\n",
            "Epoch 12/50\n",
            "531/531 [==============================] - 19s 35ms/step - loss: 0.1029 - accuracy: 0.9701 - val_loss: 3.8448 - val_accuracy: 0.4330\n",
            "Epoch 13/50\n",
            "531/531 [==============================] - 19s 35ms/step - loss: 0.0752 - accuracy: 0.9790 - val_loss: 4.1027 - val_accuracy: 0.4296\n",
            "Epoch 14/50\n",
            "531/531 [==============================] - 19s 35ms/step - loss: 0.0891 - accuracy: 0.9742 - val_loss: 4.1093 - val_accuracy: 0.4393\n",
            "Epoch 15/50\n",
            "531/531 [==============================] - 19s 35ms/step - loss: 0.0747 - accuracy: 0.9788 - val_loss: 4.1335 - val_accuracy: 0.4382\n",
            "Epoch 16/50\n",
            "531/531 [==============================] - 18s 35ms/step - loss: 0.0585 - accuracy: 0.9843 - val_loss: 4.3102 - val_accuracy: 0.4400\n",
            "Epoch 17/50\n",
            "531/531 [==============================] - 19s 35ms/step - loss: 0.0765 - accuracy: 0.9773 - val_loss: 4.3111 - val_accuracy: 0.4325\n",
            "Epoch 18/50\n",
            "531/531 [==============================] - 18s 35ms/step - loss: 0.0501 - accuracy: 0.9856 - val_loss: 4.3633 - val_accuracy: 0.4447\n",
            "Epoch 19/50\n",
            "531/531 [==============================] - 18s 35ms/step - loss: 0.0606 - accuracy: 0.9824 - val_loss: 4.5020 - val_accuracy: 0.4328\n",
            "Epoch 20/50\n",
            "531/531 [==============================] - 19s 35ms/step - loss: 0.0546 - accuracy: 0.9845 - val_loss: 4.5651 - val_accuracy: 0.4273\n",
            "Epoch 21/50\n",
            "531/531 [==============================] - 19s 35ms/step - loss: 0.0493 - accuracy: 0.9859 - val_loss: 4.7769 - val_accuracy: 0.4220\n",
            "Epoch 22/50\n",
            "531/531 [==============================] - 18s 35ms/step - loss: 0.0567 - accuracy: 0.9844 - val_loss: 4.7964 - val_accuracy: 0.4313\n",
            "Epoch 23/50\n",
            "531/531 [==============================] - 19s 35ms/step - loss: 0.0596 - accuracy: 0.9819 - val_loss: 4.6961 - val_accuracy: 0.4360\n",
            "Epoch 24/50\n",
            "531/531 [==============================] - 19s 35ms/step - loss: 0.0460 - accuracy: 0.9868 - val_loss: 4.7568 - val_accuracy: 0.4367\n",
            "Epoch 25/50\n",
            "531/531 [==============================] - 19s 35ms/step - loss: 0.0300 - accuracy: 0.9924 - val_loss: 4.7685 - val_accuracy: 0.4372\n",
            "Epoch 26/50\n",
            "531/531 [==============================] - 19s 35ms/step - loss: 0.0413 - accuracy: 0.9881 - val_loss: 4.8852 - val_accuracy: 0.4407\n",
            "Epoch 27/50\n",
            "531/531 [==============================] - 19s 35ms/step - loss: 0.0642 - accuracy: 0.9795 - val_loss: 4.8784 - val_accuracy: 0.4247\n",
            "Epoch 28/50\n",
            "531/531 [==============================] - 19s 35ms/step - loss: 0.0489 - accuracy: 0.9853 - val_loss: 4.9275 - val_accuracy: 0.4410\n",
            "Epoch 29/50\n",
            "531/531 [==============================] - 19s 35ms/step - loss: 0.0282 - accuracy: 0.9923 - val_loss: 5.0597 - val_accuracy: 0.4338\n",
            "Epoch 30/50\n",
            "531/531 [==============================] - 19s 35ms/step - loss: 0.0312 - accuracy: 0.9917 - val_loss: 5.1797 - val_accuracy: 0.4210\n",
            "Epoch 31/50\n",
            "531/531 [==============================] - 19s 35ms/step - loss: 0.0518 - accuracy: 0.9838 - val_loss: 5.0795 - val_accuracy: 0.4222\n",
            "Epoch 32/50\n",
            "531/531 [==============================] - 19s 35ms/step - loss: 0.0453 - accuracy: 0.9860 - val_loss: 5.3325 - val_accuracy: 0.4130\n",
            "Epoch 33/50\n",
            "531/531 [==============================] - 19s 35ms/step - loss: 0.0308 - accuracy: 0.9909 - val_loss: 5.1951 - val_accuracy: 0.4341\n",
            "Epoch 34/50\n",
            "531/531 [==============================] - 19s 35ms/step - loss: 0.0258 - accuracy: 0.9937 - val_loss: 5.1972 - val_accuracy: 0.4373\n",
            "Epoch 35/50\n",
            "531/531 [==============================] - 19s 35ms/step - loss: 0.0472 - accuracy: 0.9864 - val_loss: 5.2982 - val_accuracy: 0.4309\n",
            "Epoch 36/50\n",
            "531/531 [==============================] - 19s 35ms/step - loss: 0.0408 - accuracy: 0.9874 - val_loss: 5.2569 - val_accuracy: 0.4247\n",
            "Epoch 37/50\n",
            "531/531 [==============================] - 19s 35ms/step - loss: 0.0327 - accuracy: 0.9904 - val_loss: 5.3664 - val_accuracy: 0.4291\n",
            "Epoch 38/50\n",
            "531/531 [==============================] - 19s 35ms/step - loss: 0.0283 - accuracy: 0.9913 - val_loss: 5.5683 - val_accuracy: 0.4283\n",
            "Epoch 39/50\n",
            "531/531 [==============================] - 19s 35ms/step - loss: 0.0450 - accuracy: 0.9864 - val_loss: 5.3151 - val_accuracy: 0.4294\n",
            "Epoch 40/50\n",
            "531/531 [==============================] - 19s 35ms/step - loss: 0.0295 - accuracy: 0.9915 - val_loss: 5.2398 - val_accuracy: 0.4377\n",
            "Epoch 41/50\n",
            "531/531 [==============================] - 19s 35ms/step - loss: 0.0228 - accuracy: 0.9941 - val_loss: 5.3969 - val_accuracy: 0.4313\n",
            "Epoch 42/50\n",
            "531/531 [==============================] - 19s 35ms/step - loss: 0.0343 - accuracy: 0.9892 - val_loss: 5.5792 - val_accuracy: 0.4333\n",
            "Epoch 43/50\n",
            "531/531 [==============================] - 19s 35ms/step - loss: 0.0411 - accuracy: 0.9873 - val_loss: 5.6236 - val_accuracy: 0.4289\n",
            "Epoch 44/50\n",
            "531/531 [==============================] - 19s 35ms/step - loss: 0.0251 - accuracy: 0.9934 - val_loss: 5.6514 - val_accuracy: 0.4271\n",
            "Epoch 45/50\n",
            "531/531 [==============================] - 19s 35ms/step - loss: 0.0316 - accuracy: 0.9907 - val_loss: 5.6099 - val_accuracy: 0.4338\n",
            "Epoch 46/50\n",
            "531/531 [==============================] - 19s 35ms/step - loss: 0.0309 - accuracy: 0.9906 - val_loss: 5.7608 - val_accuracy: 0.4224\n",
            "Epoch 47/50\n",
            "531/531 [==============================] - 19s 35ms/step - loss: 0.0292 - accuracy: 0.9916 - val_loss: 5.5873 - val_accuracy: 0.4323\n",
            "Epoch 48/50\n",
            "531/531 [==============================] - 19s 35ms/step - loss: 0.0198 - accuracy: 0.9946 - val_loss: 5.8018 - val_accuracy: 0.4274\n",
            "Epoch 49/50\n",
            "531/531 [==============================] - 19s 35ms/step - loss: 0.0392 - accuracy: 0.9886 - val_loss: 5.8867 - val_accuracy: 0.4284\n",
            "Epoch 50/50\n",
            "531/531 [==============================] - 19s 35ms/step - loss: 0.0355 - accuracy: 0.9882 - val_loss: 5.7668 - val_accuracy: 0.4311\n"
          ],
          "name": "stdout"
        }
      ]
    },
    {
      "cell_type": "code",
      "metadata": {
        "colab_type": "code",
        "id": "Qmyw-txxnzrd",
        "colab": {
          "base_uri": "https://localhost:8080/",
          "height": 475
        },
        "outputId": "8d35126c-b214-4458-858b-c203b702a85f"
      },
      "source": [
        "model_report(CNN2_MODEL_ADAM, CNN2_MODEL_ADAM_history)"
      ],
      "execution_count": null,
      "outputs": [
        {
          "output_type": "display_data",
          "data": {
            "image/png": "[encoded data removed]",
            "text/plain": [
              "<Figure size 720x432 with 1 Axes>"
            ]
          },
          "metadata": {
            "tags": [],
            "needs_background": "light"
          }
        },
        {
          "output_type": "stream",
          "text": [
            "\n",
            "Test set evaluation metrics\n",
            "125/125 [==============================] - 2s 12ms/step - loss: 5.5783 - accuracy: 0.4509\n",
            "loss: 5.58\n",
            "accuracy: 0.45\n"
          ],
          "name": "stdout"
        }
      ]
    },
    {
      "cell_type": "markdown",
      "metadata": {
        "id": "Z02kOBxRC22_",
        "colab_type": "text"
      },
      "source": [
        "Το δεύτερο μοντέλο μας έχει `RMSprop` optimizer με `lr=0.01`. Διατηρούμε σταθερή τη διάρκεια εκπαίδευσης στις 50 `epochs`."
      ]
    },
    {
      "cell_type": "code",
      "metadata": {
        "id": "NYKY-8km4Son",
        "colab_type": "code",
        "colab": {}
      },
      "source": [
        "def init_CNN2_rmsprop(summary):\n",
        "  \n",
        "  model = models.Sequential()\n",
        "  \n",
        "  model.add(layers.Conv2D(128, (3, 3), activation='elu', padding='same', input_shape=(32, 32, 3)))\n",
        "  model.add(layers.Conv2D(128, (3, 3), activation='elu'))\n",
        "  model.add(layers.MaxPooling2D((2, 2)))\n",
        "  model.add(layers.Conv2D(256, (3, 3), activation='elu', padding='same'))\n",
        "  model.add(layers.Conv2D(256, (3, 3), activation='elu'))\n",
        "  model.add(layers.MaxPooling2D((2, 2)))\n",
        "  model.add(layers.Conv2D(512, (3, 3), activation='elu', padding='same'))\n",
        "  model.add(layers.Conv2D(512, (3, 3), activation='elu'))\n",
        "  model.add(layers.MaxPooling2D((2, 2)))\n",
        " \n",
        "  model.add(layers.Flatten())\n",
        "  model.add(layers.Dense(1024, activation='elu'))\n",
        "  model.add(layers.Dense(100, activation='softmax'))\n",
        "  \n",
        "  model.compile(optimizer=tf.optimizers.RMSprop(lr=0.0001), loss=tf.keras.losses.sparse_categorical_crossentropy, metrics=[\"accuracy\"])\n",
        "  \n",
        "  if summary: \n",
        "    model.summary()\n",
        "  return model"
      ],
      "execution_count": 15,
      "outputs": []
    },
    {
      "cell_type": "code",
      "metadata": {
        "colab_type": "code",
        "id": "fL59-6RWSacg",
        "colab": {
          "base_uri": "https://localhost:8080/",
          "height": 1000
        },
        "outputId": "8c71a38c-74a1-4c87-f69f-59693ccd860c"
      },
      "source": [
        "# Initialize model\n",
        "CNN2_MODEL_RMSPROP = init_CNN2_rmsprop(summary=True)\n",
        "\n",
        "# Train for 50 epochs\n",
        "CNN2_MODEL_RMSPROP_history = train_model(CNN2_MODEL_RMSPROP, 50)\n",
        "\n",
        "# Dump training history\n",
        "history_dict = CNN2_MODEL_RMSPROP_history.history\n",
        "json.dump(history_dict, open('CNN2_MODEL_RMSPROP.json', 'w'))"
      ],
      "execution_count": 16,
      "outputs": [
        {
          "output_type": "stream",
          "text": [
            "Model: \"sequential_1\"\n",
            "_________________________________________________________________\n",
            "Layer (type)                 Output Shape              Param #   \n",
            "=================================================================\n",
            "conv2d_6 (Conv2D)            (None, 32, 32, 128)       3584      \n",
            "_________________________________________________________________\n",
            "conv2d_7 (Conv2D)            (None, 30, 30, 128)       147584    \n",
            "_________________________________________________________________\n",
            "max_pooling2d_3 (MaxPooling2 (None, 15, 15, 128)       0         \n",
            "_________________________________________________________________\n",
            "conv2d_8 (Conv2D)            (None, 15, 15, 256)       295168    \n",
            "_________________________________________________________________\n",
            "conv2d_9 (Conv2D)            (None, 13, 13, 256)       590080    \n",
            "_________________________________________________________________\n",
            "max_pooling2d_4 (MaxPooling2 (None, 6, 6, 256)         0         \n",
            "_________________________________________________________________\n",
            "conv2d_10 (Conv2D)           (None, 6, 6, 512)         1180160   \n",
            "_________________________________________________________________\n",
            "conv2d_11 (Conv2D)           (None, 4, 4, 512)         2359808   \n",
            "_________________________________________________________________\n",
            "max_pooling2d_5 (MaxPooling2 (None, 2, 2, 512)         0         \n",
            "_________________________________________________________________\n",
            "flatten_1 (Flatten)          (None, 2048)              0         \n",
            "_________________________________________________________________\n",
            "dense_2 (Dense)              (None, 1024)              2098176   \n",
            "_________________________________________________________________\n",
            "dense_3 (Dense)              (None, 100)               102500    \n",
            "=================================================================\n",
            "Total params: 6,777,060\n",
            "Trainable params: 6,777,060\n",
            "Non-trainable params: 0\n",
            "_________________________________________________________________\n",
            "Epoch 1/50\n",
            "531/531 [==============================] - 20s 37ms/step - loss: 3.5648 - accuracy: 0.1564 - val_loss: 3.1230 - val_accuracy: 0.2366\n",
            "Epoch 2/50\n",
            "531/531 [==============================] - 19s 36ms/step - loss: 2.8456 - accuracy: 0.2963 - val_loss: 2.7483 - val_accuracy: 0.3093\n",
            "Epoch 3/50\n",
            "531/531 [==============================] - 19s 36ms/step - loss: 2.3671 - accuracy: 0.3954 - val_loss: 2.4689 - val_accuracy: 0.3777\n",
            "Epoch 4/50\n",
            "531/531 [==============================] - 19s 36ms/step - loss: 1.9878 - accuracy: 0.4788 - val_loss: 2.2735 - val_accuracy: 0.4242\n",
            "Epoch 5/50\n",
            "531/531 [==============================] - 19s 36ms/step - loss: 1.6262 - accuracy: 0.5639 - val_loss: 2.2662 - val_accuracy: 0.4353\n",
            "Epoch 6/50\n",
            "531/531 [==============================] - 19s 36ms/step - loss: 1.2706 - accuracy: 0.6492 - val_loss: 2.3333 - val_accuracy: 0.4476\n",
            "Epoch 7/50\n",
            "531/531 [==============================] - 19s 36ms/step - loss: 0.9094 - accuracy: 0.7444 - val_loss: 2.4970 - val_accuracy: 0.4385\n",
            "Epoch 8/50\n",
            "531/531 [==============================] - 19s 36ms/step - loss: 0.5840 - accuracy: 0.8325 - val_loss: 2.7948 - val_accuracy: 0.4415\n",
            "Epoch 9/50\n",
            "531/531 [==============================] - 19s 36ms/step - loss: 0.3502 - accuracy: 0.8978 - val_loss: 3.1039 - val_accuracy: 0.4390\n",
            "Epoch 10/50\n",
            "531/531 [==============================] - 19s 36ms/step - loss: 0.2146 - accuracy: 0.9349 - val_loss: 3.5057 - val_accuracy: 0.4333\n",
            "Epoch 11/50\n",
            "531/531 [==============================] - 19s 36ms/step - loss: 0.1597 - accuracy: 0.9508 - val_loss: 3.6648 - val_accuracy: 0.4392\n",
            "Epoch 12/50\n",
            "531/531 [==============================] - 19s 36ms/step - loss: 0.1200 - accuracy: 0.9629 - val_loss: 4.0542 - val_accuracy: 0.4299\n",
            "Epoch 13/50\n",
            "531/531 [==============================] - 19s 36ms/step - loss: 0.1085 - accuracy: 0.9663 - val_loss: 4.2561 - val_accuracy: 0.4304\n",
            "Epoch 14/50\n",
            "531/531 [==============================] - 19s 36ms/step - loss: 0.0955 - accuracy: 0.9716 - val_loss: 4.4273 - val_accuracy: 0.4407\n",
            "Epoch 15/50\n",
            "531/531 [==============================] - 19s 36ms/step - loss: 0.0862 - accuracy: 0.9733 - val_loss: 4.4600 - val_accuracy: 0.4375\n",
            "Epoch 16/50\n",
            "531/531 [==============================] - 19s 36ms/step - loss: 0.0773 - accuracy: 0.9760 - val_loss: 4.5513 - val_accuracy: 0.4446\n",
            "Epoch 17/50\n",
            "531/531 [==============================] - 19s 36ms/step - loss: 0.0687 - accuracy: 0.9794 - val_loss: 4.7593 - val_accuracy: 0.4392\n",
            "Epoch 18/50\n",
            "531/531 [==============================] - 19s 36ms/step - loss: 0.0680 - accuracy: 0.9793 - val_loss: 4.9298 - val_accuracy: 0.4452\n",
            "Epoch 19/50\n",
            "531/531 [==============================] - 19s 36ms/step - loss: 0.0623 - accuracy: 0.9813 - val_loss: 4.8749 - val_accuracy: 0.4392\n",
            "Epoch 20/50\n",
            "531/531 [==============================] - 19s 36ms/step - loss: 0.0598 - accuracy: 0.9823 - val_loss: 4.9860 - val_accuracy: 0.4415\n",
            "Epoch 21/50\n",
            "531/531 [==============================] - 19s 36ms/step - loss: 0.0547 - accuracy: 0.9841 - val_loss: 5.1012 - val_accuracy: 0.4498\n",
            "Epoch 22/50\n",
            "531/531 [==============================] - 19s 36ms/step - loss: 0.0572 - accuracy: 0.9830 - val_loss: 5.2127 - val_accuracy: 0.4422\n",
            "Epoch 23/50\n",
            "531/531 [==============================] - 19s 36ms/step - loss: 0.0529 - accuracy: 0.9841 - val_loss: 5.1979 - val_accuracy: 0.4467\n",
            "Epoch 24/50\n",
            "531/531 [==============================] - 19s 36ms/step - loss: 0.0505 - accuracy: 0.9854 - val_loss: 5.3874 - val_accuracy: 0.4479\n",
            "Epoch 25/50\n",
            "531/531 [==============================] - 19s 36ms/step - loss: 0.0477 - accuracy: 0.9857 - val_loss: 5.4834 - val_accuracy: 0.4456\n",
            "Epoch 26/50\n",
            "531/531 [==============================] - 19s 36ms/step - loss: 0.0459 - accuracy: 0.9861 - val_loss: 5.5595 - val_accuracy: 0.4464\n",
            "Epoch 27/50\n",
            "531/531 [==============================] - 19s 36ms/step - loss: 0.0465 - accuracy: 0.9862 - val_loss: 5.5854 - val_accuracy: 0.4404\n",
            "Epoch 28/50\n",
            "531/531 [==============================] - 19s 36ms/step - loss: 0.0448 - accuracy: 0.9868 - val_loss: 5.6122 - val_accuracy: 0.4390\n",
            "Epoch 29/50\n",
            "531/531 [==============================] - 19s 36ms/step - loss: 0.0440 - accuracy: 0.9868 - val_loss: 5.7793 - val_accuracy: 0.4414\n",
            "Epoch 30/50\n",
            "531/531 [==============================] - 19s 36ms/step - loss: 0.0391 - accuracy: 0.9886 - val_loss: 5.7807 - val_accuracy: 0.4373\n",
            "Epoch 31/50\n",
            "531/531 [==============================] - 19s 36ms/step - loss: 0.0381 - accuracy: 0.9889 - val_loss: 5.9649 - val_accuracy: 0.4405\n",
            "Epoch 32/50\n",
            "531/531 [==============================] - 19s 36ms/step - loss: 0.0389 - accuracy: 0.9887 - val_loss: 6.2396 - val_accuracy: 0.4435\n",
            "Epoch 33/50\n",
            "531/531 [==============================] - 19s 36ms/step - loss: 0.0402 - accuracy: 0.9892 - val_loss: 6.0525 - val_accuracy: 0.4434\n",
            "Epoch 34/50\n",
            "531/531 [==============================] - 19s 36ms/step - loss: 0.0386 - accuracy: 0.9889 - val_loss: 6.3966 - val_accuracy: 0.4318\n",
            "Epoch 35/50\n",
            "531/531 [==============================] - 19s 36ms/step - loss: 0.0361 - accuracy: 0.9895 - val_loss: 6.2471 - val_accuracy: 0.4499\n",
            "Epoch 36/50\n",
            "531/531 [==============================] - 19s 36ms/step - loss: 0.0362 - accuracy: 0.9892 - val_loss: 6.4654 - val_accuracy: 0.4434\n",
            "Epoch 37/50\n",
            "531/531 [==============================] - 19s 36ms/step - loss: 0.0374 - accuracy: 0.9892 - val_loss: 6.5793 - val_accuracy: 0.4378\n",
            "Epoch 38/50\n",
            "531/531 [==============================] - 19s 36ms/step - loss: 0.0390 - accuracy: 0.9888 - val_loss: 6.5957 - val_accuracy: 0.4464\n",
            "Epoch 39/50\n",
            "531/531 [==============================] - 19s 36ms/step - loss: 0.0376 - accuracy: 0.9898 - val_loss: 7.0162 - val_accuracy: 0.4424\n",
            "Epoch 40/50\n",
            "531/531 [==============================] - 19s 36ms/step - loss: 0.0331 - accuracy: 0.9903 - val_loss: 6.6993 - val_accuracy: 0.4404\n",
            "Epoch 41/50\n",
            "531/531 [==============================] - 19s 36ms/step - loss: 0.0326 - accuracy: 0.9909 - val_loss: 7.1166 - val_accuracy: 0.4400\n",
            "Epoch 42/50\n",
            "531/531 [==============================] - 19s 36ms/step - loss: 0.0343 - accuracy: 0.9911 - val_loss: 6.9529 - val_accuracy: 0.4399\n",
            "Epoch 43/50\n",
            "531/531 [==============================] - 19s 36ms/step - loss: 0.0354 - accuracy: 0.9911 - val_loss: 7.4733 - val_accuracy: 0.4377\n",
            "Epoch 44/50\n",
            "531/531 [==============================] - 19s 36ms/step - loss: 0.0339 - accuracy: 0.9903 - val_loss: 6.8780 - val_accuracy: 0.4471\n",
            "Epoch 45/50\n",
            "531/531 [==============================] - 19s 36ms/step - loss: 0.0311 - accuracy: 0.9906 - val_loss: 7.1240 - val_accuracy: 0.4380\n",
            "Epoch 46/50\n",
            "531/531 [==============================] - 19s 36ms/step - loss: 0.0362 - accuracy: 0.9910 - val_loss: 7.4096 - val_accuracy: 0.4437\n",
            "Epoch 47/50\n",
            "531/531 [==============================] - 19s 36ms/step - loss: 0.0317 - accuracy: 0.9921 - val_loss: 7.1238 - val_accuracy: 0.4518\n",
            "Epoch 48/50\n",
            "531/531 [==============================] - 19s 36ms/step - loss: 0.0318 - accuracy: 0.9918 - val_loss: 7.3717 - val_accuracy: 0.4372\n",
            "Epoch 49/50\n",
            "531/531 [==============================] - 19s 36ms/step - loss: 0.0272 - accuracy: 0.9924 - val_loss: 7.8803 - val_accuracy: 0.4481\n",
            "Epoch 50/50\n",
            "531/531 [==============================] - 19s 36ms/step - loss: 0.0321 - accuracy: 0.9916 - val_loss: 7.8401 - val_accuracy: 0.4351\n"
          ],
          "name": "stdout"
        }
      ]
    },
    {
      "cell_type": "code",
      "metadata": {
        "colab_type": "code",
        "id": "3swO_hvCSi8R",
        "colab": {
          "base_uri": "https://localhost:8080/",
          "height": 475
        },
        "outputId": "32433b67-224b-4b5a-ed2e-1d68c9dbff75"
      },
      "source": [
        "model_report(CNN2_MODEL_RMSPROP, CNN2_MODEL_RMSPROP_history)"
      ],
      "execution_count": 17,
      "outputs": [
        {
          "output_type": "display_data",
          "data": {
            "image/png": "[encoded data removed]",
            "text/plain": [
              "<Figure size 720x432 with 1 Axes>"
            ]
          },
          "metadata": {
            "tags": [],
            "needs_background": "light"
          }
        },
        {
          "output_type": "stream",
          "text": [
            "\n",
            "Test set evaluation metrics\n",
            "125/125 [==============================] - 1s 12ms/step - loss: 7.7075 - accuracy: 0.4437\n",
            "loss: 7.71\n",
            "accuracy: 0.44\n"
          ],
          "name": "stdout"
        }
      ]
    },
    {
      "cell_type": "markdown",
      "metadata": {
        "id": "xHV1wb_WCkRr",
        "colab_type": "text"
      },
      "source": [
        "### Αξιολόγηση Μοντέλων"
      ]
    },
    {
      "cell_type": "code",
      "metadata": {
        "id": "UzcnLss_eVbo",
        "colab_type": "code",
        "colab": {}
      },
      "source": [
        "# Reload best history according to accuracy-loss\n",
        "m1 = json.load(open('SOFTMAX_MODEL_ADAGRAD.json', 'r'))\n",
        "m2 = json.load(open('MLP_MODEL_ADAGRAD.json', 'r'))\n",
        "m3 = json.load(open('LENET_MODEL_ADAM.json', 'r'))\n",
        "m4 = json.load(open('CNN1_MODEL_ADAM.json', 'r'))\n",
        "m5 = json.load(open('CNN2_MODEL_ADAM.json', 'r'))"
      ],
      "execution_count": 18,
      "outputs": []
    },
    {
      "cell_type": "markdown",
      "metadata": {
        "id": "I6q69Rm47QYW",
        "colab_type": "text"
      },
      "source": [
        "Παρακάτω παρουσιάζεται ένα συνολικό διάγραμμα των καλύτερων μοντέλων των παραπάνω αρχιτεκτονικών. Με συνεχόμενη γραμμή απεικονίζουμε την καμπύλη ακριβείας στα δεδομένα εκπαίδευσης, ενώ με διακεκομμένη την καμπύλη ακριβείας στα δεδομένα επαλήθευσης."
      ]
    },
    {
      "cell_type": "code",
      "metadata": {
        "id": "zFfD4YUke9vM",
        "colab_type": "code",
        "colab": {
          "base_uri": "https://localhost:8080/",
          "height": 390
        },
        "outputId": "6a5e4f2b-1a05-489b-d9d7-2199e299fe82"
      },
      "source": [
        "summarize_all_diagnostics(m1, m2, m3, m4, m5)"
      ],
      "execution_count": 19,
      "outputs": [
        {
          "output_type": "display_data",
          "data": {
            "image/png": "[encoded data removed]",
            "text/plain": [
              "<Figure size 720x432 with 1 Axes>"
            ]
          },
          "metadata": {
            "tags": [],
            "needs_background": "light"
          }
        }
      ]
    },
    {
      "cell_type": "markdown",
      "metadata": {
        "colab_type": "text",
        "id": "x0SLth49VXHm"
      },
      "source": [
        "---\n",
        "\n",
        "## Ερώτημα 2: Αντιμετώπιση Υπερεκπαίδευσης"
      ]
    },
    {
      "cell_type": "markdown",
      "metadata": {
        "colab_type": "text",
        "id": "OW_qjFQj_SDT"
      },
      "source": [
        "Μελετώντας τα διάγραμματα των παραπάνω αρχιτεκτονικών παρατηρούμε μία έντονη διαφορά μεταξύ των καμπυλών ακρίβειας στα δεδομένα εκπαίδευσης και επαλήθευσης. Αυτή η διαφορά υποδεικνύει το πρόβλημα του overfitting στα δεδομένα εκπαίδευσης, το οποίο θα επιχειρήσουμε να αντιμετωπίσουμε με τις παρακάτω τρεις τεχνικές:\n",
        "\n",
        "- Θα εφαμόσουμε την τεχνική του `tf.keras.callbacks.EarlyStopping`, κατά την οποία η εκπαίδευση θα διακόπτεται έαν δεν υφίσταται βελτίωση στη μείωση του σφάλματος για περισσότερο από n κύκλους εκπαίδευσης. Επιλέγουμε `patience=10`.\n",
        "\n",
        "- Θα προσθέσουμε στις αρχιτεκτονικές των δικτύων μας `tf.keras.layers.Dropout` layers.\n",
        "\n",
        "- Τέλος, θα εκμεταλλευτούμε [ImageDataGenerator](https://bit.ly/33B1reJ), για να εφαρμόσουμε data augmentation στα δεδομένα εκπαίδευσης. Επιλέγουμε να χρησιμοποιήσουμε τους μετασχηματισμούς `rotation_range`, `width_shift_range`, `height_shift_range` και `horizontal_flip`.\n"
      ]
    },
    {
      "cell_type": "code",
      "metadata": {
        "colab_type": "code",
        "id": "dQ5RNqV9Pmvs",
        "colab": {}
      },
      "source": [
        "from tensorflow.keras.preprocessing.image import ImageDataGenerator\n",
        "\n",
        "# Initialization of EarlyStopping callback\n",
        "callback = tf.keras.callbacks.EarlyStopping(monitor='loss', patience=5)"
      ],
      "execution_count": 37,
      "outputs": []
    },
    {
      "cell_type": "markdown",
      "metadata": {
        "id": "L18ogH6CWHkV",
        "colab_type": "text"
      },
      "source": [
        "### Softmax"
      ]
    },
    {
      "cell_type": "code",
      "metadata": {
        "id": "i8_cf5St3PUF",
        "colab_type": "code",
        "colab": {}
      },
      "source": [
        "def init_softmax_adagrad_opt(summary):\n",
        "  \n",
        "  model = models.Sequential()\n",
        "  \n",
        "  model.add(layers.Flatten(input_shape=(32, 32, 3)))\n",
        "  model.add(layers.Dense(200, activation='softmax'))\n",
        "  \n",
        "  model.compile(optimizer=tf.optimizers.Adagrad(lr=0.01), loss=tf.keras.losses.sparse_categorical_crossentropy, metrics=[tf.keras.metrics.SparseCategoricalAccuracy()])\n",
        "\n",
        "  if summary:\n",
        "    model.summary()\n",
        "  return model"
      ],
      "execution_count": null,
      "outputs": []
    },
    {
      "cell_type": "code",
      "metadata": {
        "colab_type": "code",
        "id": "zHBAP1jvVNp1",
        "colab": {}
      },
      "source": [
        "# Initialize model\n",
        "SOFTMAX_MODEL_ADAGRAD_OPT = init_softmax_adagrad_opt(summary=True)\n",
        "\n",
        "# Data Augmentation\n",
        "datagen = ImageDataGenerator(rotation_range=0.10, width_shift_range=0.10, height_shift_range=0.10, horizontal_flip=True)\n",
        "it_train = datagen.flow(x_train, y_train, batch_size=64, shuffle=True)\n",
        "\n",
        "steps = int(x_train.shape[0]/64)\n",
        "SOFTMAX_MODEL_ADAGRAD_OPT_history = SOFTMAX_MODEL_ADAGRAD_OPT.fit(it_train, steps_per_epoch=steps, epochs=200, validation_data=(x_val, y_val), callbacks=[callback])\n",
        "\n",
        "# Save model\n",
        "SOFTMAX_MODEL_ADAGRAD_OPT.save('SOFTMAX_MODEL_ADAGRAD_OPT.h5')\n",
        "\n",
        "# Dump training history\n",
        "history_dict = SOFTMAX_MODEL_ADAGRAD_OPT_history.history\n",
        "json.dump(history_dict, open('SOFTMAX_MODEL_ADAGRAD_OPT.json', 'w'))"
      ],
      "execution_count": null,
      "outputs": []
    },
    {
      "cell_type": "code",
      "metadata": {
        "id": "Qt9dl66FCYVQ",
        "colab_type": "code",
        "colab": {}
      },
      "source": [
        "model_report(SOFTMAX_MODEL_ADAGRAD_OPT, SOFTMAX_MODEL_ADAGRAD_OPT_history)"
      ],
      "execution_count": null,
      "outputs": []
    },
    {
      "cell_type": "markdown",
      "metadata": {
        "id": "sGUoX3M0ROUx",
        "colab_type": "text"
      },
      "source": [
        "### MLP"
      ]
    },
    {
      "cell_type": "code",
      "metadata": {
        "id": "qYuyv52rRbZk",
        "colab_type": "code",
        "colab": {}
      },
      "source": [
        "def init_mlp_adagrad_opt(summary):\n",
        "  \n",
        "  model = models.Sequential()\n",
        " \n",
        "  model.add(layers.Flatten(input_shape=(32, 32, 3)))\n",
        "  model.add(layers.Dense(512, activation='relu'))\n",
        "  model.add(layers.Dropout(0.50))\n",
        "  model.add(layers.Dense(200, activation='softmax'))\n",
        "  \n",
        "  model.compile(optimizer=tf.optimizers.Adagrad(lr=0.01), loss=tf.keras.losses.sparse_categorical_crossentropy, metrics=[tf.keras.metrics.SparseCategoricalAccuracy()])\n",
        "  \n",
        "  if summary:\n",
        "    model.summary()\n",
        "  return model"
      ],
      "execution_count": null,
      "outputs": []
    },
    {
      "cell_type": "code",
      "metadata": {
        "id": "Utv388fjRfGN",
        "colab_type": "code",
        "colab": {}
      },
      "source": [
        "# Initialize model\n",
        "MLP_MODEL_ADAGRAD_OPT = init_mlp_adagrad_opt(summary=True)\n",
        "\n",
        "# Data Augmentation\n",
        "datagen = ImageDataGenerator(rotation_range=0.10, width_shift_range=0.10, height_shift_range=0.10, horizontal_flip=True)\n",
        "it_train = datagen.flow(x_train, y_train, batch_size=64, shuffle=True)\n",
        "\n",
        "steps = int(x_train.shape[0]/64)\n",
        "MLP_MODEL_ADAGRAD_OPT_history = MLP_MODEL_ADAGRAD_OPT.fit(it_train, steps_per_epoch=steps, epochs=200, validation_data=(x_val, y_val), callbacks=[callback])\n",
        "\n",
        "# Save model\n",
        "MLP_MODEL_ADAGRAD_OPT.save('MLP_MODEL_ADAGRAD_OPT.h5')\n",
        "\n",
        "# Dump training history\n",
        "history_dict = MLP_MODEL_ADAGRAD_OPT_history.history\n",
        "json.dump(history_dict, open('MLP_MODEL_ADAGRAD_OPT.json', 'w'))"
      ],
      "execution_count": null,
      "outputs": []
    },
    {
      "cell_type": "code",
      "metadata": {
        "id": "QXtN_6y2RWnL",
        "colab_type": "code",
        "colab": {}
      },
      "source": [
        "model_report(MLP_MODEL_ADAGRAD_OPT, MLP_MODEL_ADAGRAD_OPT_history)"
      ],
      "execution_count": null,
      "outputs": []
    },
    {
      "cell_type": "markdown",
      "metadata": {
        "id": "ndzFalgIRSVk",
        "colab_type": "text"
      },
      "source": [
        "### LeNet"
      ]
    },
    {
      "cell_type": "code",
      "metadata": {
        "id": "8ckIchjgSI0o",
        "colab_type": "code",
        "colab": {}
      },
      "source": [
        "def init_lenet_adam_opt(summary):\n",
        "  \n",
        "  model = models.Sequential()\n",
        " \n",
        "  model.add(layers.Conv2D(32, (3, 3), activation='relu', padding='same', input_shape=(32, 32, 3)))\n",
        "  model.add(layers.MaxPooling2D((2, 2)))\n",
        "  model.add(layers.Dropout(0.25))\n",
        "  model.add(layers.Conv2D(32, (3, 3), activation='relu', padding='same'))\n",
        "  model.add(layers.MaxPooling2D((2, 2)))\n",
        "  model.add(layers.Dropout(0.25))\n",
        "\n",
        "  model.add(layers.Flatten())\n",
        "  model.add(layers.Dense(512, activation='relu'))\n",
        "  model.add(layers.Dropout(0.50))\n",
        "  model.add(layers.Dense(200, activation='softmax'))\n",
        "  \n",
        "  model.compile(optimizer=tf.optimizers.Adam(lr=0.0001), loss=tf.keras.losses.sparse_categorical_crossentropy, metrics=[tf.keras.metrics.SparseCategoricalAccuracy()])\n",
        "  \n",
        "  if summary:\n",
        "    model.summary()\n",
        "  return model"
      ],
      "execution_count": null,
      "outputs": []
    },
    {
      "cell_type": "code",
      "metadata": {
        "id": "vmDmuFGlSOHm",
        "colab_type": "code",
        "colab": {}
      },
      "source": [
        "# Initialize model\n",
        "LENET_MODEL_ADAM_OPT = init_lenet_adam_opt(summary=True)\n",
        "\n",
        "# Data Augmentation\n",
        "datagen = ImageDataGenerator(rotation_range=0.10, width_shift_range=0.10, height_shift_range=0.10, horizontal_flip=True)\n",
        "it_train = datagen.flow(x_train, y_train, batch_size=64, shuffle=True)\n",
        "\n",
        "steps = int(x_train.shape[0]/64)\n",
        "LENET_MODEL_ADAM_OPT_history = LENET_MODEL_ADAM_OPT.fit(it_train, steps_per_epoch=steps, epochs=200, validation_data=(x_val, y_val), callbacks=[callback])\n",
        "\n",
        "# Save model\n",
        "LENET_MODEL_ADAM_OPT.save('LENET_MODEL_ADAM_OPT.h5')\n",
        "\n",
        "# Dump training history\n",
        "history_dict = LENET_MODEL_ADAM_OPT_history.history\n",
        "json.dump(history_dict, open('LENET_MODEL_ADAM_OPT.json', 'w'))"
      ],
      "execution_count": null,
      "outputs": []
    },
    {
      "cell_type": "code",
      "metadata": {
        "id": "pC30kKj2SQOs",
        "colab_type": "code",
        "colab": {}
      },
      "source": [
        "model_report(LENET_MODEL_ADAM_OPT, LENET_MODEL_ADAM_OPT_history)"
      ],
      "execution_count": null,
      "outputs": []
    },
    {
      "cell_type": "markdown",
      "metadata": {
        "id": "TcE_Bmg-RUnN",
        "colab_type": "text"
      },
      "source": [
        "### CNN1"
      ]
    },
    {
      "cell_type": "code",
      "metadata": {
        "id": "Wf2dCJt2SXxZ",
        "colab_type": "code",
        "colab": {}
      },
      "source": [
        "def init_cnn1_adam_opt(summary):\n",
        "  \n",
        "  model = models.Sequential()\n",
        " \n",
        "  model.add(layers.Conv2D(16, (5, 5), activation='relu', padding='same', input_shape=(32, 32, 3)))\n",
        "  model.add(layers.MaxPooling2D((2, 2)))\n",
        "  model.add(layers.Dropout(0.25))\n",
        "  model.add(layers.Conv2D(16, (3, 3), activation='relu', padding='same'))\n",
        "  model.add(layers.MaxPooling2D((2, 2)))\n",
        "  model.add(layers.Dropout(0.25))\n",
        "  model.add(layers.Conv2D(32, (3, 3), activation='relu', padding='same'))\n",
        "  model.add(layers.Dropout(0.50))\n",
        "\n",
        "  model.add(layers.Flatten())\n",
        "  model.add(layers.Dense(200, activation='softmax'))\n",
        "  \n",
        "  model.compile(optimizer=tf.optimizers.Adam(lr=0.0001), loss=tf.keras.losses.sparse_categorical_crossentropy, metrics=[tf.keras.metrics.SparseCategoricalAccuracy()])\n",
        "  \n",
        "  if summary:\n",
        "    model.summary()\n",
        "  return model"
      ],
      "execution_count": null,
      "outputs": []
    },
    {
      "cell_type": "code",
      "metadata": {
        "id": "T7qtTha1SgXA",
        "colab_type": "code",
        "colab": {}
      },
      "source": [
        "# Initialize model\n",
        "CNN1_MODEL_ADAM_OPT = init_cnn1_adam_opt(summary=True)\n",
        "\n",
        "# Data Augmentation\n",
        "datagen = ImageDataGenerator(rotation_range=0.10, width_shift_range=0.10, height_shift_range=0.10, horizontal_flip=True)\n",
        "it_train = datagen.flow(x_train, y_train, batch_size=64, shuffle=True)\n",
        "\n",
        "steps = int(x_train.shape[0]/64)\n",
        "CNN1_MODEL_ADAM_OPT_history = CNN1_MODEL_ADAM_OPT.fit(it_train, steps_per_epoch=steps, epochs=200, validation_data=(x_val, y_val), callbacks=[callback])\n",
        "\n",
        "# Save model\n",
        "CNN1_MODEL_ADAM_OPT.save('CNN1_MODEL_ADAM_OPT.h5')\n",
        "\n",
        "# Dump training history\n",
        "history_dict = CNN1_MODEL_ADAM_OPT_history.history\n",
        "json.dump(history_dict, open('CNN1_MODEL_ADAM_OPT.json', 'w'))"
      ],
      "execution_count": null,
      "outputs": []
    },
    {
      "cell_type": "code",
      "metadata": {
        "id": "7hOvM-AhSfYM",
        "colab_type": "code",
        "colab": {}
      },
      "source": [
        "model_report(CNN1_MODEL_ADAM_OPT, CNN1_MODEL_ADAM_OPT_history)"
      ],
      "execution_count": null,
      "outputs": []
    },
    {
      "cell_type": "markdown",
      "metadata": {
        "id": "Ovv2gu5VWUfR",
        "colab_type": "text"
      },
      "source": [
        "### CNN2"
      ]
    },
    {
      "cell_type": "code",
      "metadata": {
        "id": "i8ajOI3t9TAr",
        "colab_type": "code",
        "colab": {}
      },
      "source": [
        "def init_CNN2_adam_opt(summary):\n",
        "  \n",
        "  model = models.Sequential()\n",
        "  \n",
        "  model.add(layers.Conv2D(128, (3, 3), activation='elu', padding='same', input_shape=(32, 32, 3)))\n",
        "  model.add(layers.Conv2D(128, (3, 3), activation='elu'))\n",
        "  model.add(layers.MaxPooling2D((2, 2)))\n",
        "  model.add(layers.Dropout(0.10))\n",
        "  model.add(layers.Conv2D(256, (3, 3), activation='elu', padding='same'))\n",
        "  model.add(layers.Conv2D(256, (3, 3), activation='elu'))\n",
        "  model.add(layers.MaxPooling2D((2, 2)))\n",
        "  model.add(layers.Dropout(0.25))\n",
        "  model.add(layers.Conv2D(512, (3, 3), activation='elu', padding='same'))\n",
        "  model.add(layers.Conv2D(512, (3, 3), activation='elu'))\n",
        "  model.add(layers.MaxPooling2D((2, 2)))\n",
        "  model.add(layers.Dropout(0.50))\n",
        " \n",
        "  model.add(layers.Flatten())\n",
        "  model.add(layers.Dense(1024, activation='elu'))\n",
        "  model.add(layers.Dropout(0.50))\n",
        "  model.add(layers.Dense(100, activation='softmax'))\n",
        "  \n",
        "  model.compile(optimizer=tf.optimizers.Adam(lr=0.0001), loss=tf.keras.losses.sparse_categorical_crossentropy, metrics=[tf.keras.metrics.SparseCategoricalAccuracy()])\n",
        "\n",
        "  if summary:\n",
        "    model.summary()\n",
        "  return model"
      ],
      "execution_count": null,
      "outputs": []
    },
    {
      "cell_type": "code",
      "metadata": {
        "id": "LOiGG1XY9bXL",
        "colab_type": "code",
        "colab": {}
      },
      "source": [
        "# Initialize model\n",
        "CNN2_MODEL_ADAM_OPT = init_CNN2_adam_opt(summary=True)\n",
        "\n",
        "# Data Augmentation\n",
        "datagen = ImageDataGenerator(rotation_range=0.10, width_shift_range=0.10, height_shift_range=0.10, horizontal_flip=True)\n",
        "it_train = datagen.flow(x_train, y_train, batch_size=BATCH_SIZE)\n",
        "\n",
        "steps = int(x_train.shape[0]/BATCH_SIZE)\n",
        "CNN2_MODEL_ADAM_OPT_history = CNN2_MODEL_ADAM_OPT.fit(it_train, steps_per_epoch=steps, epochs=200, validation_data=(x_val, y_val), callbacks=[callback])\n",
        "\n",
        "# Save model\n",
        "CNN2_MODEL_ADAM_OPT.save('CNN2_MODEL_ADAM_OPT.h5')\n",
        "\n",
        "# Dump training history\n",
        "history_dict = CNN2_MODEL_ADAM_OPT.history\n",
        "json.dump(history_dict, open('CNN2_MODEL_ADAM_OPT.json', 'w'))"
      ],
      "execution_count": null,
      "outputs": []
    },
    {
      "cell_type": "code",
      "metadata": {
        "id": "gCSSJT9Q_K2z",
        "colab_type": "code",
        "colab": {}
      },
      "source": [
        "model_report(CNN2_MODEL_ADAM_OPT, CNN2_MODEL_ADAM_OPT_history)"
      ],
      "execution_count": null,
      "outputs": []
    },
    {
      "cell_type": "markdown",
      "metadata": {
        "colab_type": "text",
        "id": "12z4zsoVbPWR"
      },
      "source": [
        "---\n",
        "\n",
        "## Ερώτημα 3: Transfer Learning"
      ]
    },
    {
      "cell_type": "code",
      "metadata": {
        "id": "sjQ2H-tQp4LM",
        "colab_type": "code",
        "colab": {}
      },
      "source": [
        "resnet_model = ResNet50(weights='imagenet', include_top=False, input_shape=(224, 224, 3))\n",
        "\n",
        "for layer in resnet_model.layers:\n",
        "    if isinstance(layer, layers.BatchNormalization):\n",
        "        layer.trainable = True\n",
        "    else:\n",
        "        layer.trainable = False\n",
        "\n",
        "model = models.Sequential()\n",
        "model.add(layers.UpSampling2D())\n",
        "model.add(layers.UpSampling2D())\n",
        "model.add(layers.UpSampling2D())\n",
        "model.add(resnet_model)\n",
        "model.add(layers.GlobalAveragePooling2D())\n",
        "model.add(layers.Dense(256, activation='relu'))\n",
        "model.add(layers.Dropout(0.50))\n",
        "model.add(layers.BatchNormalization())\n",
        "model.add(layers.Dense(100, activation='softmax'))\n",
        "\n",
        "model.compile(optimizer=tf.optimizers.Adam(lr=0.0001), loss=tf.keras.losses.sparse_categorical_crossentropy, metrics=[tf.keras.metrics.SparseCategoricalAccuracy()])"
      ],
      "execution_count": 57,
      "outputs": []
    },
    {
      "cell_type": "code",
      "metadata": {
        "id": "nWyS0wSon9Iw",
        "colab_type": "code",
        "colab": {}
      },
      "source": [
        "datagen = ImageDataGenerator(rotation_range=0.10, width_shift_range=0.10, height_shift_range=0.10, horizontal_flip=True)\n",
        "it_train = datagen.flow(x_train, y_train, batch_size=BATCH_SIZE)\n",
        "\n",
        "steps = int(x_train.shape[0]/BATCH_SIZE)\n",
        "historytemp = model.fit(it_train, steps_per_epoch=steps, epochs=15, validation_data=(x_val, y_val), callbacks=[callback])"
      ],
      "execution_count": null,
      "outputs": []
    }
  ]
}