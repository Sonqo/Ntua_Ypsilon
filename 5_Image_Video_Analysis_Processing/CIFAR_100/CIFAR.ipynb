{
  "nbformat": 4,
  "nbformat_minor": 0,
  "metadata": {
    "accelerator": "GPU",
    "colab": {
      "name": "CIFAR.ipynb",
      "provenance": [],
      "collapsed_sections": [
        "HUPTXpNqvrB0",
        "DfEMjsB4Yurm",
        "TnLNfKKYeA5T",
        "x5q3SI0_eLxI",
        "0cniJE8eZQAA",
        "ntFDPZhGBG38",
        "onYIggE9Z2f4",
        "G90DtSdo7iB3",
        "KK2W1f9VAy2w",
        "IDUdlPFmBKRS",
        "84kNtYVsBwKW",
        "cFTzQtMOa3Rv"
      ],
      "toc_visible": true
    },
    "kernelspec": {
      "display_name": "Python 3",
      "language": "python",
      "name": "python3"
    },
    "language_info": {
      "codemirror_mode": {
        "name": "ipython",
        "version": 3
      },
      "file_extension": ".py",
      "mimetype": "text/x-python",
      "name": "python",
      "nbconvert_exporter": "python",
      "pygments_lexer": "ipython3",
      "version": "3.7.4"
    }
  },
  "cells": [
    {
      "cell_type": "code",
      "metadata": {
        "colab_type": "code",
        "id": "DsRt5JelvV7u",
        "colab": {}
      },
      "source": [
        "%tensorflow_version 2.x # selecting tensorflow version\n",
        "\n",
        "!sudo pip install --upgrade pip;\n",
        "!sudo pip install --upgrade tensorflow;\n",
        "!sudo pip install efficientnet;"
      ],
      "execution_count": null,
      "outputs": []
    },
    {
      "cell_type": "markdown",
      "metadata": {
        "id": "ZrQjLRlRDTSH",
        "colab_type": "text"
      },
      "source": [
        "---\n",
        "\n",
        "## Στοιχεία Ομάδας\n",
        "\n",
        "Αριθμός Ομάδας F05\n",
        "\n",
        "  > Καρυπιάδης Ευστράτιος: 03114911\n",
        "  \n",
        "  > Σταματελόπουλος Νικόλαος: 03116138"
      ]
    },
    {
      "cell_type": "markdown",
      "metadata": {
        "colab_type": "text",
        "id": "HUPTXpNqvrB0"
      },
      "source": [
        "---\n",
        "\n",
        "## Σύνολο Δεδομένων CIFAR-100\n",
        "\n",
        "Το σύνολο δεδομένων στο οποίο θα εργαστούμε είναι το [CIFAR-100](https://bit.ly/38CUquZ), το οποίο αποτελείται απο 60.000 έγχρωμες εικόνες διαστάσεων 32x32. Κάθε μία από αυτές ανήκει σε μία γενική(*fine*) και μία ειδική(*coarse*) κατηγορία του συνόλου, πλήθους 100 και 20 αντίστοιχα. Προς ταξινόμηση των δειγμάτων μας θα εκμεταλευτούμε μονάχα τις *fine* κατηγορίες των εικόνων που έχουμε στη διάθεσή μας.\n",
        "\n",
        "\t"
      ]
    },
    {
      "cell_type": "markdown",
      "metadata": {
        "colab_type": "text",
        "id": "DfEMjsB4Yurm"
      },
      "source": [
        "### Εισαγωγή συνόλου δεδομένων"
      ]
    },
    {
      "cell_type": "code",
      "metadata": {
        "colab_type": "code",
        "id": "APTpYiMCnZNl",
        "colab": {}
      },
      "source": [
        "import tensorflow as tf\n",
        "import tensorflow_addons as tfa\n",
        "from tensorflow.keras import datasets, layers, models, utils\n",
        "from tensorflow.keras.preprocessing.image import ImageDataGenerator\n",
        "from __future__ import absolute_import, division, print_function, unicode_literals\n",
        "\n",
        "import numpy as np\n",
        "import pandas as pd\n",
        "import matplotlib.pyplot as plt\n",
        "\n",
        "# loading the entire dataset\n",
        "(x_train_all, y_train_all), (x_test_all, y_test_all) = tf.keras.datasets.cifar100.load_data(label_mode='fine')"
      ],
      "execution_count": null,
      "outputs": []
    },
    {
      "cell_type": "markdown",
      "metadata": {
        "colab_type": "text",
        "id": "oQ2L6rGVnpKv"
      },
      "source": [
        "Για τους σκοπούς της άσκησης **δε** θα εκμεταλλευτούμε ολόκληρο το σύνολο δεδομένων, αλλά θα δουλέψουμε σε ένα υποσύνολο αυτού σύμφώνα με τον αύξοντα αριθμό της ομάδας μας, `team_seed`. Στη συνέχεια υλοποιούμε μία σειρά βοηθητικών συναρτήσεων που θα μας βοηθήσουν σε αυτόν το διαχωρισμό:"
      ]
    },
    {
      "cell_type": "code",
      "metadata": {
        "colab_type": "code",
        "id": "2WSEGPI9Q7tW",
        "colab": {}
      },
      "source": [
        "def select_from_list(from_list, index_list):\n",
        "  \"\"\" Return from_list elemenents according to index contained in index_list. \"\"\"\n",
        "  filtered_list= [from_list[i] for i in index_list]\n",
        "  return(filtered_list)\n",
        "\n",
        "def get_ds_index(unfiliterd_list, target_list):\n",
        "  \"\"\" Append in filtered_list the index of each element in unfiltered_list if it exists in target_list. \"\"\"\n",
        "  index = 0\n",
        "  filtered_list=[]\n",
        "  for i_ in unfiliterd_list:\n",
        "    if i_[0] in target_list:\n",
        "      filtered_list.append(index)\n",
        "    index += 1\n",
        "  return(filtered_list)\n",
        "\n",
        "def select_classes_number(classes_number=20):\n",
        "  \"\"\" Select unique subset of CIFAR-100 with classes_number of classes. \"\"\"\n",
        "  if classes_number == 20:\n",
        "    return \"https://bit.ly/3b3Cewb\"\n",
        "  elif classes_number == 40:\n",
        "    return \"https://bit.ly/3aPo819\"\n",
        "  elif classes_number == 60:\n",
        "    return \"https://bit.ly/2Wbo47K\"\n",
        "  elif classes_number == 80:\n",
        "    return \"https://bit.ly/38NDW3d\"\n",
        "  else:\n",
        "    return -1"
      ],
      "execution_count": 6,
      "outputs": []
    },
    {
      "cell_type": "markdown",
      "metadata": {
        "colab_type": "text",
        "id": "TnLNfKKYeA5T"
      },
      "source": [
        "### Διαχωρισμός δεδομένων εκπαίδευσης - ελέγχου"
      ]
    },
    {
      "cell_type": "markdown",
      "metadata": {
        "colab_type": "text",
        "id": "8xYQ_Q1SVZEk"
      },
      "source": [
        "Στο επόμενο κελί επιλέγουμε το πλήθος των κατηγοριών με το οποίο επιθυμούμε να δουλέψουμε:"
      ]
    },
    {
      "cell_type": "code",
      "metadata": {
        "colab_type": "code",
        "id": "RhbZJW6PxUDJ",
        "colab": {}
      },
      "source": [
        "cifar100_classes_url = select_classes_number(classes_number=80) # default: 20 classes"
      ],
      "execution_count": 7,
      "outputs": []
    },
    {
      "cell_type": "markdown",
      "metadata": {
        "colab_type": "text",
        "id": "yO9f6wb0Wi0H"
      },
      "source": [
        "Δημιουργούμε το μοναδικό dataset της ομάδας μας:"
      ]
    },
    {
      "cell_type": "code",
      "metadata": {
        "colab_type": "code",
        "id": "PgIN2h_KuCp_",
        "colab": {}
      },
      "source": [
        "team_seed = 5 # team_seed number\n",
        "\n",
        "team_classes = pd.read_csv(cifar100_classes_url, sep=',', header=None) # fetch class indexes\n",
        "CIFAR100_LABELS_LIST = pd.read_csv(\"https://bit.ly/3cRO3qZ\", sep=',', header=None).astype(str).values.tolist()[0] # fetch class names\n",
        "\n",
        "our_index = team_classes.iloc[team_seed, :].values.tolist() # select team class indices\n",
        "our_classes = select_from_list(CIFAR100_LABELS_LIST, our_index) # select team class names\n",
        "\n",
        "train_index = get_ds_index(y_train_all, our_index)\n",
        "test_index = get_ds_index(y_test_all, our_index)\n",
        "\n",
        "# Train data and labels\n",
        "x_train_ds = np.asarray(select_from_list(x_train_all, train_index))\n",
        "y_train_ds = np.asarray(select_from_list(y_train_all, train_index))\n",
        "\n",
        "# Test data and labels\n",
        "x_test_ds = np.asarray(select_from_list(x_test_all, test_index))\n",
        "y_test_ds = np.asarray(select_from_list(y_test_all, test_index))"
      ],
      "execution_count": 8,
      "outputs": []
    },
    {
      "cell_type": "markdown",
      "metadata": {
        "colab_type": "text",
        "id": "oMrUsXJkqV71"
      },
      "source": [
        "Μετά την παραπάνω διαδικασία εμφανίζουμε τα ονόματα των κατηγοριών που αντιστοιχούν στην ομάδα μας:"
      ]
    },
    {
      "cell_type": "code",
      "metadata": {
        "colab_type": "code",
        "id": "_B4-tvVOQq3j",
        "colab": {
          "base_uri": "https://localhost:8080/",
          "height": 54
        },
        "outputId": "e93a11c2-7ccb-4b7a-aa61-4c46982be31a"
      },
      "source": [
        "print(our_classes)"
      ],
      "execution_count": 9,
      "outputs": [
        {
          "output_type": "stream",
          "text": [
            "[' aquarium_fish', ' baby', ' bear', ' beaver', ' bee', ' bicycle', ' bottle', ' bowl', ' boy', ' bus', ' camel', ' can', ' castle', ' caterpillar', ' cattle', ' chair', ' clock', ' cloud', ' cockroach', ' crab', ' crocodile', ' cup', ' dinosaur', ' dolphin', ' elephant', ' flatfish', ' forest', ' fox', ' girl', ' hamster', ' kangaroo', ' keyboard', ' lamp', ' lawn_mower', ' leopard', ' lion', ' lizard', ' lobster', ' man', ' maple_tree', ' motorcycle', ' mountain', ' mouse', ' mushroom', ' orange', ' orchid', ' otter', ' palm_tree', ' pickup_truck', ' pine_tree', ' porcupine', ' possum', ' rabbit', ' raccoon', ' ray', ' road', ' rocket', ' rose', ' sea', ' seal', ' shark', ' skunk', ' skyscraper', ' snail', ' snake', ' squirrel', ' streetcar', ' sunflower', ' table', ' tank', ' television', ' tractor', ' train', ' trout', ' tulip', ' turtle', ' wardrobe', ' whale', ' wolf', ' worm']\n"
          ],
          "name": "stdout"
        }
      ]
    },
    {
      "cell_type": "markdown",
      "metadata": {
        "colab_type": "text",
        "id": "x5q3SI0_eLxI"
      },
      "source": [
        "### Επισκόπηση δεδομένων και κανονικοποίηση"
      ]
    },
    {
      "cell_type": "markdown",
      "metadata": {
        "colab_type": "text",
        "id": "lRWZ-JI5sH-J"
      },
      "source": [
        "Τέλος, για καλύτερη εποπτεία του συνόλου δεδομένων μας θα εξάγουμε ορισμένες χρήσιμες πληροφορίες για αυτό, ενώ παράλληλα θα κανονικοποιήσουμε τις τιμές αναπαράστασης των εικόνων:"
      ]
    },
    {
      "cell_type": "code",
      "metadata": {
        "colab_type": "code",
        "id": "QpGXgTs_5ZCk",
        "colab": {
          "base_uri": "https://localhost:8080/",
          "height": 68
        },
        "outputId": "f70efcd2-8216-4313-93ed-7cc0e0364663"
      },
      "source": [
        "data_size, img_rows, img_cols, img_channels = x_train_ds.shape # get train dataset dimensions\n",
        "\n",
        "# Set validation set percentage\n",
        "validation_percentage = 0.15\n",
        "val_size = round(validation_percentage * data_size)\n",
        "\n",
        "# Reserve val_size samples for validation and normalize all values\n",
        "x_val = x_train_ds[-val_size:]/255\n",
        "y_val = y_train_ds[-val_size:]\n",
        "x_train = x_train_ds[:-val_size]/255\n",
        "y_train = y_train_ds[:-val_size]\n",
        "x_test = x_test_ds/255\n",
        "y_test = y_test_ds\n",
        "\n",
        "# Summarize loaded dataset\n",
        "print('Train:       X=%s, y=%s' % (x_train.shape, y_train.shape))\n",
        "print('Validation:  X=%s, y=%s' % (x_val.shape, y_val.shape))\n",
        "print('Test:        X=%s, y=%s' % (x_test.shape, y_test.shape))"
      ],
      "execution_count": 10,
      "outputs": [
        {
          "output_type": "stream",
          "text": [
            "Train:       X=(34000, 32, 32, 3), y=(34000, 1)\n",
            "Validation:  X=(6000, 32, 32, 3), y=(6000, 1)\n",
            "Test:        X=(8000, 32, 32, 3), y=(8000, 1)\n"
          ],
          "name": "stdout"
        }
      ]
    },
    {
      "cell_type": "markdown",
      "metadata": {
        "colab_type": "text",
        "id": "0cniJE8eZQAA"
      },
      "source": [
        "---\n",
        "\n",
        "## Συναρτήσεις Προετοιμασίας Δεδομένων και Οπτικοποίησης Απόδοσης"
      ]
    },
    {
      "cell_type": "markdown",
      "metadata": {
        "colab_type": "text",
        "id": "G3xB9x5JZjSN"
      },
      "source": [
        "Στη συνέχεια θα υλοποιήσουμε απαραίτητες συναρτήσεις προετοιμασίας των δεδομένων για εκπαίδευση, καθώς και οπτικοποίσης της τελικής απόδοσης των μοντέλων που πρόκειται να δοκιμάσουμε."
      ]
    },
    {
      "cell_type": "markdown",
      "metadata": {
        "colab_type": "text",
        "id": "ntFDPZhGBG38"
      },
      "source": [
        "### Συναρτήσεις εκπαίδευσης"
      ]
    },
    {
      "cell_type": "markdown",
      "metadata": {
        "colab_type": "text",
        "id": "1Yb9JrjxRM_C"
      },
      "source": [
        "Αρχικά θα υλοποιήσουμε την `_input_fn`, η οποία αποτελεί ένα *pipeline* που θα προετοιμάσει τα δεδομένα μας για την εκπαίδευση. Πιο συγκεκριμένα, χρησιμοποιούμε τις μεθόδους `shuffle`, `repeat` και `batch` της [tf.data.Dataset](https://bit.ly/2vk7EPr), ώστε να δημιουργήσουμε υποσύνολα 64 δειγμάτων, τα οποία ελήφθησαν τυχαίως από το ολικό μας σύνολο. Παρατηρούμε ότι η μέθοδος `repeat` είναι απαραίτητη για να αντιμετωπίσουμε τυχόν σφάλμα που θα προκύψει, εάν η μέθοδος `batch` επιχειρήσει να δημιουργήσει εκ νέου υποσύνολο, αφού έχει ομαδοποιήσει όλα τα διαθέσιμα δείγματα του συνόλου. \n",
        "\n",
        "Σημειώνουμε ότι η συνάρτηση επιστρέφει υποσύνολα δεδομένων `PrefetchDataset Objects`, μορφή η οποία επιταχύνει τη διαδικασία εκπαίδευσης, καθώς επιτρέπει το διάβασμα του επόμενου batch δεδομένων, ενώ παράλληλα εκπαιδεύεται το παρόν."
      ]
    },
    {
      "cell_type": "code",
      "metadata": {
        "colab_type": "code",
        "id": "KPFYqOmIa5Fr",
        "colab": {}
      },
      "source": [
        "BATCH_SIZE = 64\n",
        "AUTOTUNE = tf.data.experimental.AUTOTUNE\n",
        "\n",
        "def _input_fn(x, y, BATCH_SIZE):\n",
        "  \"\"\" Returns shuffled and batched tensors in the form of PrefetchDataset objects. \"\"\"\n",
        "  ds = tf.data.Dataset.from_tensor_slices((x, y))\n",
        "  ds = ds.shuffle(buffer_size=data_size)\n",
        "  ds = ds.repeat() # repeat indefinately\n",
        "  ds = ds.batch(BATCH_SIZE)\n",
        "  ds = ds.prefetch(buffer_size=AUTOTUNE)\n",
        "  return ds\n",
        "\n",
        "# PrefetchDataset objects\n",
        "train_ds =_input_fn(x_train, y_train, BATCH_SIZE)\n",
        "validation_ds =_input_fn(x_val, y_val, BATCH_SIZE)\n",
        "test_ds =_input_fn(x_test, y_test, BATCH_SIZE)"
      ],
      "execution_count": 11,
      "outputs": []
    },
    {
      "cell_type": "markdown",
      "metadata": {
        "colab_type": "text",
        "id": "ROU9zWYtTskk"
      },
      "source": [
        "Στη συνέχεια υλοποιούμε τη συνάρτηση `train_model`. Σημειώνουμε ότι με την παράμετρο `steps_per_epoch` μπορούμε να επιλέξουμε το πλήθος των *batches* στο οποίο επιθυμούμε να εκπαιδευτεί το μοντέλο μας πριν περάσει στην επόμενη εποχή."
      ]
    },
    {
      "cell_type": "code",
      "metadata": {
        "colab_type": "code",
        "id": "vSRY-a-gTtZ1",
        "colab": {}
      },
      "source": [
        "def train_model(model, epochs):\n",
        "  \"\"\" Training function. \"\"\"\n",
        "  history = model.fit(train_ds, epochs=epochs, steps_per_epoch=x_train.shape[0]//BATCH_SIZE, validation_data=validation_ds, validation_steps=x_val.shape[0]//BATCH_SIZE)\n",
        "  return(history)"
      ],
      "execution_count": 12,
      "outputs": []
    },
    {
      "cell_type": "markdown",
      "metadata": {
        "colab_type": "text",
        "id": "onYIggE9Z2f4"
      },
      "source": [
        "### Γραφικές παραστάσεις εκπαίδευσης και απόδοση στο σύνολο ελέγχου"
      ]
    },
    {
      "cell_type": "markdown",
      "metadata": {
        "colab_type": "text",
        "id": "qRH2ReXDUSif"
      },
      "source": [
        "Τέλος, υλοποιούμε συναρτήσεις οπτικοποίησης της απόδοσης της εκπαίδευσης προς εξαγωγή χρήσιμων πληροφοριών και μελέτη των αποτελεσμάτων που θα προκύψουν από τη δοκιμή των μοντέλων μας."
      ]
    },
    {
      "cell_type": "code",
      "metadata": {
        "colab_type": "code",
        "id": "vdWPm3zqbRo1",
        "colab": {}
      },
      "source": [
        "def summarize_diagnostics(history):\n",
        "\t\"\"\" Plot diagnostic learning curves. \"\"\"\n",
        "\tplt.figure(figsize=(10, 6))\n",
        "\tplt.title('Classification Accuracy')\n",
        "\tplt.plot(history.history['accuracy'], color='blue', label='Train')\n",
        "\tplt.plot(history.history['val_accuracy'], color='orange', label='Validation')\n",
        "\tplt.legend(loc='lower right')\n",
        "\tplt.grid()\n",
        "\tplt.show()\n",
        " \n",
        "def model_evaluation(model, evaluation_steps):\n",
        "\t\"\"\" Print test set and evaluation metrics. \"\"\"\n",
        "\tprint('\\nTest set evaluation metrics')\n",
        "\tloss, accuracy = model.evaluate(test_ds, steps=x_test.shape[0]//BATCH_SIZE)\n",
        "\tprint(\"loss: {:.2f}\".format(loss))\n",
        "\tprint(\"accuracy: {:.2f}\".format(accuracy))\n",
        "\n",
        "def model_report(model, history, evaluation_steps=10):\n",
        "\tplt = summarize_diagnostics(history)\n",
        "\tplt.show()\n",
        "\tmodel_evaluation(model, evaluation_steps)"
      ],
      "execution_count": 213,
      "outputs": []
    },
    {
      "cell_type": "markdown",
      "metadata": {
        "colab_type": "text",
        "id": "Waa4c40Yay3k"
      },
      "source": [
        "---\n",
        "\n",
        "## Ερώτημα 1: Μοντέλα δικτύων"
      ]
    },
    {
      "cell_type": "code",
      "metadata": {
        "id": "hGbMwWoJ4HG0",
        "colab_type": "code",
        "colab": {}
      },
      "source": [
        "import json # for saving training history"
      ],
      "execution_count": 146,
      "outputs": []
    },
    {
      "cell_type": "markdown",
      "metadata": {
        "id": "pblFmOqGfUyI",
        "colab_type": "text"
      },
      "source": [
        "Στη συνέχεια καλούμαστε να υλοποιήσουμε 5 διαφορετικές αρχιτεκτονικές συνελικτικών δικτύων. Για κάθε μία από αυτές θα πρέπει να επιλέξουμε δύο βέλτιστους συνδυασμούς optimizer, loss function, metrics και epoch.\n",
        "\n",
        "- Σχετικά με τους [optimizers](https://keras.io/api/optimizers/) δοκιμάσαμε σε όλες τις αρχιτεκτονικές τους [Adam](https://keras.io/api/optimizers/adam/), [Nadam](https://keras.io/api/optimizers/Nadam/), [Adamax](https://keras.io/api/optimizers/adamax/), [Adagrad](https://keras.io/api/optimizers/adagrad/), [Adadelta](https://keras.io/api/optimizers/adadelta/) και [Stochastic Gradient Descent](https://keras.io/api/optimizers/sgd/). Επιλέξαμε δύο από αυτούς σε κάθε δίκτυο, ανάλογα με την απόδοσή τους. Αξίζει να σημειώσουμε ότι σε κάθε optimizer, πειραματιστήκαμε και με το ρυθμό μάθησης, για να αποφανθούμε για την επίδοσή του.\n",
        "\n",
        "- Μελετώντας το API του Keras, παρατηρούμε ότι η μοναδική [loss function](https://keras.io/api/losses/) που εξυπηρετεί την επίλυση του προβλήματός μας είναι η [Categorical Cross Entropy](https://keras.io/api/losses/probabilistic_losses/#categoricalcrossentropy-class). Καταλήγουμε σε αυτήν την επιλογή, αγνοώντας αφενός τα regression losses, καθώς δεν εφάπτονται της ταξινόμησης εικόνων που επιχειρούμε και αφετέρου τις συναρτήσεις Kullback-Leibler Divergence και Hinge. Σχετικά με τις δύο τελευταίες, παρατηρούμε ότι μέσα από πειραματισμούς μας δε φαίνεται να συγκλίνουν σε ελάχιστη τιμή, ενώ παράλληλα δίνουν χαμηλές τιμές απόδοσης στα metrics που δοκιμάσαμε. Επίσης σημειώνουμε ότι οι συγκεκριμένες συναρτήσεις συνηθίζεται να χρησιμοποιούνται σε διαφορετικού τύπου εφαρμογές, όπως για παράδειγμα στους Autoencoders.\n",
        "\n",
        "- Βασική μας [metric](https://keras.io/api/metrics/) συνάρτηση είναι η [ακρίβεια ταξινόμησης](https://keras.io/api/metrics/accuracy_metrics/#accuracy-class), πάνω στην οποία θα στηριχτούμε προκειμένου να αποφανθούμε για την απόδοση των δικτύων μας.\n",
        "\n",
        "- Τέλος, σημειώνουμε ότι κατά τη διαδικασία δοκιμών των παραπάνω παραμέτρων, εκπαιδεύσαμε πειραματικά κάθε δίκτυο για διάρκεια 10 εποχών. Σύμφωνα με τα αποτελέσματα που συλλέξαμε, επιλέξαμε για την εκάστοτε αρχιτεκτονική τους 2 καλύτερους συνδυασμούς, τους οποίους χρησιμοποιήσαμε για την ολοκληρωμένη εκπαίδευση, διάρκειας 50 εποχών, των τελικών 10 δικτύων μας."
      ]
    },
    {
      "cell_type": "markdown",
      "metadata": {
        "id": "G90DtSdo7iB3",
        "colab_type": "text"
      },
      "source": [
        "### Softmax"
      ]
    },
    {
      "cell_type": "markdown",
      "metadata": {
        "id": "YmeXejoGNng-",
        "colab_type": "text"
      },
      "source": [
        "Το πρώτο μοντέλο που θα εκπαιδεύσουμε εκμεταλλεύεται optimizer `Adam` με `lr=0.0001`. Παρατηρώντας το διάγραμμα απόδοσης που ακολουθεί, οι 50 `epochs` είναι αρκετές για την εκπαίδευση του μοντέλου, δεδομένου ότι δεν παρουσιάζεται τάση ανόδου για την απόδοση του δικτύου στα δεδομένα επαλήθευσης."
      ]
    },
    {
      "cell_type": "code",
      "metadata": {
        "id": "n9C0K-dfIBTi",
        "colab_type": "code",
        "colab": {}
      },
      "source": [
        "def init_softmax_adam(summary):\n",
        "  \n",
        "  model = models.Sequential()\n",
        "  \n",
        "  model.add(layers.Flatten(input_shape=(32, 32, 3)))\n",
        "  model.add(layers.Dense(200, activation='softmax'))\n",
        "  \n",
        "  model.compile(optimizer=tf.optimizers.Adam(lr=0.0001), loss=tf.keras.losses.sparse_categorical_crossentropy, metrics=[\"accuracy\"])\n",
        "  \n",
        "  if summary:\n",
        "    model.summary()\n",
        "  return model"
      ],
      "execution_count": 185,
      "outputs": []
    },
    {
      "cell_type": "code",
      "metadata": {
        "id": "A86rZt6iIJP8",
        "colab_type": "code",
        "colab": {
          "base_uri": "https://localhost:8080/",
          "height": 1000
        },
        "outputId": "48e69d2b-8494-4d8a-9a21-2847c77b091c"
      },
      "source": [
        "# Initialize model\n",
        "SOFTMAX_MODEL_ADAM = init_softmax_adam(summary=True)\n",
        "\n",
        "# Train for 50 epochs\n",
        "SOFTMAX_MODEL_ADAM_history = train_model(SOFTMAX_MODEL_ADAM, 50)\n",
        "\n",
        "# Dump training history\n",
        "history_dict = SOFTMAX_MODEL_ADAM_history.history\n",
        "json.dump(history_dict, open('SOFTMAX_MODEL_ADAM.json', 'w'))"
      ],
      "execution_count": 186,
      "outputs": [
        {
          "output_type": "stream",
          "text": [
            "Model: \"sequential_60\"\n",
            "_________________________________________________________________\n",
            "Layer (type)                 Output Shape              Param #   \n",
            "=================================================================\n",
            "flatten_55 (Flatten)         (None, 3072)              0         \n",
            "_________________________________________________________________\n",
            "dense_101 (Dense)            (None, 200)               614600    \n",
            "=================================================================\n",
            "Total params: 614,600\n",
            "Trainable params: 614,600\n",
            "Non-trainable params: 0\n",
            "_________________________________________________________________\n",
            "Epoch 1/50\n",
            "531/531 [==============================] - 2s 4ms/step - loss: 4.1454 - accuracy: 0.0654 - val_loss: 3.9210 - val_accuracy: 0.1006\n",
            "Epoch 2/50\n",
            "531/531 [==============================] - 2s 4ms/step - loss: 3.8296 - accuracy: 0.1208 - val_loss: 3.7833 - val_accuracy: 0.1354\n",
            "Epoch 3/50\n",
            "531/531 [==============================] - 2s 4ms/step - loss: 3.7195 - accuracy: 0.1429 - val_loss: 3.7322 - val_accuracy: 0.1425\n",
            "Epoch 4/50\n",
            "531/531 [==============================] - 2s 4ms/step - loss: 3.6513 - accuracy: 0.1570 - val_loss: 3.6758 - val_accuracy: 0.1554\n",
            "Epoch 5/50\n",
            "531/531 [==============================] - 2s 4ms/step - loss: 3.6041 - accuracy: 0.1663 - val_loss: 3.6539 - val_accuracy: 0.1613\n",
            "Epoch 6/50\n",
            "531/531 [==============================] - 2s 4ms/step - loss: 3.5682 - accuracy: 0.1754 - val_loss: 3.6356 - val_accuracy: 0.1576\n",
            "Epoch 7/50\n",
            "531/531 [==============================] - 2s 4ms/step - loss: 3.5345 - accuracy: 0.1810 - val_loss: 3.6083 - val_accuracy: 0.1680\n",
            "Epoch 8/50\n",
            "531/531 [==============================] - 2s 4ms/step - loss: 3.5105 - accuracy: 0.1869 - val_loss: 3.6060 - val_accuracy: 0.1685\n",
            "Epoch 9/50\n",
            "531/531 [==============================] - 2s 4ms/step - loss: 3.4923 - accuracy: 0.1923 - val_loss: 3.5984 - val_accuracy: 0.1700\n",
            "Epoch 10/50\n",
            "531/531 [==============================] - 2s 4ms/step - loss: 3.4712 - accuracy: 0.1945 - val_loss: 3.5897 - val_accuracy: 0.1700\n",
            "Epoch 11/50\n",
            "531/531 [==============================] - 2s 4ms/step - loss: 3.4530 - accuracy: 0.1979 - val_loss: 3.5694 - val_accuracy: 0.1752\n",
            "Epoch 12/50\n",
            "531/531 [==============================] - 2s 4ms/step - loss: 3.4411 - accuracy: 0.2029 - val_loss: 3.5715 - val_accuracy: 0.1742\n",
            "Epoch 13/50\n",
            "531/531 [==============================] - 2s 4ms/step - loss: 3.4251 - accuracy: 0.2061 - val_loss: 3.5640 - val_accuracy: 0.1712\n",
            "Epoch 14/50\n",
            "531/531 [==============================] - 2s 4ms/step - loss: 3.4127 - accuracy: 0.2085 - val_loss: 3.5564 - val_accuracy: 0.1798\n",
            "Epoch 15/50\n",
            "531/531 [==============================] - 2s 4ms/step - loss: 3.4008 - accuracy: 0.2109 - val_loss: 3.5485 - val_accuracy: 0.1799\n",
            "Epoch 16/50\n",
            "531/531 [==============================] - 2s 4ms/step - loss: 3.3882 - accuracy: 0.2146 - val_loss: 3.5477 - val_accuracy: 0.1771\n",
            "Epoch 17/50\n",
            "531/531 [==============================] - 2s 4ms/step - loss: 3.3790 - accuracy: 0.2171 - val_loss: 3.5446 - val_accuracy: 0.1794\n",
            "Epoch 18/50\n",
            "531/531 [==============================] - 2s 4ms/step - loss: 3.3665 - accuracy: 0.2184 - val_loss: 3.5453 - val_accuracy: 0.1816\n",
            "Epoch 19/50\n",
            "531/531 [==============================] - 2s 4ms/step - loss: 3.3569 - accuracy: 0.2212 - val_loss: 3.5240 - val_accuracy: 0.1865\n",
            "Epoch 20/50\n",
            "531/531 [==============================] - 2s 4ms/step - loss: 3.3494 - accuracy: 0.2212 - val_loss: 3.5322 - val_accuracy: 0.1888\n",
            "Epoch 21/50\n",
            "531/531 [==============================] - 2s 4ms/step - loss: 3.3414 - accuracy: 0.2238 - val_loss: 3.5523 - val_accuracy: 0.1783\n",
            "Epoch 22/50\n",
            "531/531 [==============================] - 2s 4ms/step - loss: 3.3335 - accuracy: 0.2249 - val_loss: 3.5268 - val_accuracy: 0.1811\n",
            "Epoch 23/50\n",
            "531/531 [==============================] - 2s 4ms/step - loss: 3.3233 - accuracy: 0.2266 - val_loss: 3.5190 - val_accuracy: 0.1823\n",
            "Epoch 24/50\n",
            "531/531 [==============================] - 2s 4ms/step - loss: 3.3161 - accuracy: 0.2292 - val_loss: 3.5316 - val_accuracy: 0.1870\n",
            "Epoch 25/50\n",
            "531/531 [==============================] - 2s 4ms/step - loss: 3.3107 - accuracy: 0.2295 - val_loss: 3.5317 - val_accuracy: 0.1813\n",
            "Epoch 26/50\n",
            "531/531 [==============================] - 2s 4ms/step - loss: 3.3026 - accuracy: 0.2335 - val_loss: 3.5215 - val_accuracy: 0.1872\n",
            "Epoch 27/50\n",
            "531/531 [==============================] - 2s 4ms/step - loss: 3.2947 - accuracy: 0.2356 - val_loss: 3.5208 - val_accuracy: 0.1872\n",
            "Epoch 28/50\n",
            "531/531 [==============================] - 2s 4ms/step - loss: 3.2922 - accuracy: 0.2343 - val_loss: 3.5207 - val_accuracy: 0.1801\n",
            "Epoch 29/50\n",
            "531/531 [==============================] - 2s 4ms/step - loss: 3.2822 - accuracy: 0.2365 - val_loss: 3.5206 - val_accuracy: 0.1841\n",
            "Epoch 30/50\n",
            "531/531 [==============================] - 2s 4ms/step - loss: 3.2786 - accuracy: 0.2368 - val_loss: 3.5099 - val_accuracy: 0.1910\n",
            "Epoch 31/50\n",
            "531/531 [==============================] - 2s 4ms/step - loss: 3.2714 - accuracy: 0.2379 - val_loss: 3.5147 - val_accuracy: 0.1909\n",
            "Epoch 32/50\n",
            "531/531 [==============================] - 2s 4ms/step - loss: 3.2647 - accuracy: 0.2411 - val_loss: 3.5188 - val_accuracy: 0.1841\n",
            "Epoch 33/50\n",
            "531/531 [==============================] - 2s 4ms/step - loss: 3.2581 - accuracy: 0.2423 - val_loss: 3.5239 - val_accuracy: 0.1820\n",
            "Epoch 34/50\n",
            "531/531 [==============================] - 2s 4ms/step - loss: 3.2527 - accuracy: 0.2445 - val_loss: 3.5226 - val_accuracy: 0.1853\n",
            "Epoch 35/50\n",
            "531/531 [==============================] - 2s 4ms/step - loss: 3.2472 - accuracy: 0.2439 - val_loss: 3.5204 - val_accuracy: 0.1835\n",
            "Epoch 36/50\n",
            "531/531 [==============================] - 2s 4ms/step - loss: 3.2447 - accuracy: 0.2461 - val_loss: 3.5174 - val_accuracy: 0.1843\n",
            "Epoch 37/50\n",
            "531/531 [==============================] - 2s 4ms/step - loss: 3.2387 - accuracy: 0.2459 - val_loss: 3.5196 - val_accuracy: 0.1905\n",
            "Epoch 38/50\n",
            "531/531 [==============================] - 2s 4ms/step - loss: 3.2305 - accuracy: 0.2485 - val_loss: 3.5107 - val_accuracy: 0.1885\n",
            "Epoch 39/50\n",
            "531/531 [==============================] - 2s 4ms/step - loss: 3.2279 - accuracy: 0.2490 - val_loss: 3.5235 - val_accuracy: 0.1838\n",
            "Epoch 40/50\n",
            "531/531 [==============================] - 2s 4ms/step - loss: 3.2240 - accuracy: 0.2480 - val_loss: 3.5147 - val_accuracy: 0.1880\n",
            "Epoch 41/50\n",
            "531/531 [==============================] - 2s 4ms/step - loss: 3.2197 - accuracy: 0.2516 - val_loss: 3.5079 - val_accuracy: 0.1882\n",
            "Epoch 42/50\n",
            "531/531 [==============================] - 2s 4ms/step - loss: 3.2145 - accuracy: 0.2519 - val_loss: 3.5198 - val_accuracy: 0.1875\n",
            "Epoch 43/50\n",
            "531/531 [==============================] - 2s 4ms/step - loss: 3.2115 - accuracy: 0.2518 - val_loss: 3.5212 - val_accuracy: 0.1857\n",
            "Epoch 44/50\n",
            "531/531 [==============================] - 2s 4ms/step - loss: 3.2045 - accuracy: 0.2530 - val_loss: 3.5221 - val_accuracy: 0.1880\n",
            "Epoch 45/50\n",
            "531/531 [==============================] - 2s 4ms/step - loss: 3.1996 - accuracy: 0.2534 - val_loss: 3.5011 - val_accuracy: 0.1904\n",
            "Epoch 46/50\n",
            "531/531 [==============================] - 2s 4ms/step - loss: 3.1961 - accuracy: 0.2559 - val_loss: 3.5040 - val_accuracy: 0.1851\n",
            "Epoch 47/50\n",
            "531/531 [==============================] - 2s 4ms/step - loss: 3.1913 - accuracy: 0.2550 - val_loss: 3.5135 - val_accuracy: 0.1870\n",
            "Epoch 48/50\n",
            "531/531 [==============================] - 2s 4ms/step - loss: 3.1848 - accuracy: 0.2585 - val_loss: 3.5004 - val_accuracy: 0.1929\n",
            "Epoch 49/50\n",
            "531/531 [==============================] - 2s 4ms/step - loss: 3.1882 - accuracy: 0.2581 - val_loss: 3.5154 - val_accuracy: 0.1804\n",
            "Epoch 50/50\n",
            "531/531 [==============================] - 2s 4ms/step - loss: 3.1805 - accuracy: 0.2593 - val_loss: 3.5077 - val_accuracy: 0.1912\n"
          ],
          "name": "stdout"
        }
      ]
    },
    {
      "cell_type": "code",
      "metadata": {
        "id": "qxk8JWhdINzx",
        "colab_type": "code",
        "colab": {
          "base_uri": "https://localhost:8080/",
          "height": 390
        },
        "outputId": "f61028d4-b5a9-4cdc-a652-057f0b8b0545"
      },
      "source": [
        "summarize_diagnostics(SOFTMAX_MODEL_ADAM_history)"
      ],
      "execution_count": 214,
      "outputs": [
        {
          "output_type": "display_data",
          "data": {
            "image/png": "[encoded data removed]",
            "text/plain": [
              "<Figure size 720x432 with 1 Axes>"
            ]
          },
          "metadata": {
            "tags": [],
            "needs_background": "light"
          }
        }
      ]
    },
    {
      "cell_type": "markdown",
      "metadata": {
        "id": "pedeFO9GN2Kk",
        "colab_type": "text"
      },
      "source": [
        "Το δεύτερο μοντέλο μας έχει `Adagrad` optimizer με `lr=0.01`. Διατηρούμε και εδώ τις 50 `epochs` εκπαίδευσης."
      ]
    },
    {
      "cell_type": "code",
      "metadata": {
        "id": "3-uKqSiY7mx5",
        "colab_type": "code",
        "colab": {}
      },
      "source": [
        "def init_softmax_adagrad(summary):\n",
        "  \n",
        "  model = models.Sequential()\n",
        "  \n",
        "  model.add(layers.Flatten(input_shape=(32, 32, 3)))\n",
        "  model.add(layers.Dense(200, activation='softmax'))\n",
        "  \n",
        "  model.compile(optimizer=tf.optimizers.Adagrad(lr=0.01), loss=tf.keras.losses.sparse_categorical_crossentropy, metrics=[\"accuracy\"])\n",
        "  \n",
        "  if summary:\n",
        "    model.summary()\n",
        "  return model"
      ],
      "execution_count": 180,
      "outputs": []
    },
    {
      "cell_type": "code",
      "metadata": {
        "id": "dOuNOMJa8GIe",
        "colab_type": "code",
        "colab": {
          "base_uri": "https://localhost:8080/",
          "height": 1000
        },
        "outputId": "c5cc056e-9794-42cb-93b9-1cfaafd0805e"
      },
      "source": [
        "# Initialize model\n",
        "SOFTMAX_MODEL_ADAGRAD = init_softmax_adagrad(summary=True)\n",
        "\n",
        "# Train for 50 epochs\n",
        "SOFTMAX_MODEL_ADAGRAD_history = train_model(SOFTMAX_MODEL_ADAGRAD, 50)\n",
        "\n",
        "# Dump training history\n",
        "history_dict = SOFTMAX_MODEL_ADAGRAD_history.history\n",
        "json.dump(history_dict, open('SOFTMAX_MODEL_ADAGRAD.json', 'w'))"
      ],
      "execution_count": 181,
      "outputs": [
        {
          "output_type": "stream",
          "text": [
            "Model: \"sequential_58\"\n",
            "_________________________________________________________________\n",
            "Layer (type)                 Output Shape              Param #   \n",
            "=================================================================\n",
            "flatten_53 (Flatten)         (None, 3072)              0         \n",
            "_________________________________________________________________\n",
            "dense_99 (Dense)             (None, 200)               614600    \n",
            "=================================================================\n",
            "Total params: 614,600\n",
            "Trainable params: 614,600\n",
            "Non-trainable params: 0\n",
            "_________________________________________________________________\n",
            "Epoch 1/50\n",
            "531/531 [==============================] - 2s 4ms/step - loss: 4.0617 - accuracy: 0.0781 - val_loss: 3.8657 - val_accuracy: 0.0998\n",
            "Epoch 2/50\n",
            "531/531 [==============================] - 2s 4ms/step - loss: 3.7354 - accuracy: 0.1342 - val_loss: 3.7398 - val_accuracy: 0.1349\n",
            "Epoch 3/50\n",
            "531/531 [==============================] - 2s 4ms/step - loss: 3.6370 - accuracy: 0.1549 - val_loss: 3.6621 - val_accuracy: 0.1484\n",
            "Epoch 4/50\n",
            "531/531 [==============================] - 2s 4ms/step - loss: 3.5737 - accuracy: 0.1688 - val_loss: 3.6255 - val_accuracy: 0.1605\n",
            "Epoch 5/50\n",
            "531/531 [==============================] - 2s 4ms/step - loss: 3.5296 - accuracy: 0.1798 - val_loss: 3.6117 - val_accuracy: 0.1628\n",
            "Epoch 6/50\n",
            "531/531 [==============================] - 2s 4ms/step - loss: 3.4981 - accuracy: 0.1868 - val_loss: 3.5923 - val_accuracy: 0.1668\n",
            "Epoch 7/50\n",
            "531/531 [==============================] - 2s 4ms/step - loss: 3.4695 - accuracy: 0.1934 - val_loss: 3.5927 - val_accuracy: 0.1705\n",
            "Epoch 8/50\n",
            "531/531 [==============================] - 2s 4ms/step - loss: 3.4465 - accuracy: 0.1975 - val_loss: 3.5773 - val_accuracy: 0.1699\n",
            "Epoch 9/50\n",
            "531/531 [==============================] - 2s 5ms/step - loss: 3.4296 - accuracy: 0.2024 - val_loss: 3.5612 - val_accuracy: 0.1798\n",
            "Epoch 10/50\n",
            "531/531 [==============================] - 2s 4ms/step - loss: 3.4115 - accuracy: 0.2064 - val_loss: 3.5497 - val_accuracy: 0.1766\n",
            "Epoch 11/50\n",
            "531/531 [==============================] - 2s 4ms/step - loss: 3.3972 - accuracy: 0.2112 - val_loss: 3.5549 - val_accuracy: 0.1764\n",
            "Epoch 12/50\n",
            "531/531 [==============================] - 2s 4ms/step - loss: 3.3830 - accuracy: 0.2148 - val_loss: 3.5266 - val_accuracy: 0.1831\n",
            "Epoch 13/50\n",
            "531/531 [==============================] - 2s 4ms/step - loss: 3.3712 - accuracy: 0.2147 - val_loss: 3.5388 - val_accuracy: 0.1808\n",
            "Epoch 14/50\n",
            "531/531 [==============================] - 2s 4ms/step - loss: 3.3590 - accuracy: 0.2203 - val_loss: 3.5383 - val_accuracy: 0.1813\n",
            "Epoch 15/50\n",
            "531/531 [==============================] - 2s 4ms/step - loss: 3.3489 - accuracy: 0.2200 - val_loss: 3.5343 - val_accuracy: 0.1779\n",
            "Epoch 16/50\n",
            "531/531 [==============================] - 2s 4ms/step - loss: 3.3402 - accuracy: 0.2239 - val_loss: 3.5289 - val_accuracy: 0.1893\n",
            "Epoch 17/50\n",
            "531/531 [==============================] - 2s 4ms/step - loss: 3.3297 - accuracy: 0.2256 - val_loss: 3.5289 - val_accuracy: 0.1841\n",
            "Epoch 18/50\n",
            "531/531 [==============================] - 2s 4ms/step - loss: 3.3204 - accuracy: 0.2296 - val_loss: 3.5354 - val_accuracy: 0.1793\n",
            "Epoch 19/50\n",
            "531/531 [==============================] - 2s 4ms/step - loss: 3.3154 - accuracy: 0.2298 - val_loss: 3.5249 - val_accuracy: 0.1835\n",
            "Epoch 20/50\n",
            "531/531 [==============================] - 2s 4ms/step - loss: 3.3060 - accuracy: 0.2301 - val_loss: 3.5249 - val_accuracy: 0.1857\n",
            "Epoch 21/50\n",
            "531/531 [==============================] - 2s 4ms/step - loss: 3.2976 - accuracy: 0.2333 - val_loss: 3.5175 - val_accuracy: 0.1823\n",
            "Epoch 22/50\n",
            "531/531 [==============================] - 2s 4ms/step - loss: 3.2920 - accuracy: 0.2364 - val_loss: 3.5200 - val_accuracy: 0.1872\n",
            "Epoch 23/50\n",
            "531/531 [==============================] - 2s 4ms/step - loss: 3.2882 - accuracy: 0.2346 - val_loss: 3.5115 - val_accuracy: 0.1830\n",
            "Epoch 24/50\n",
            "531/531 [==============================] - 2s 4ms/step - loss: 3.2825 - accuracy: 0.2372 - val_loss: 3.5026 - val_accuracy: 0.1892\n",
            "Epoch 25/50\n",
            "531/531 [==============================] - 2s 4ms/step - loss: 3.2760 - accuracy: 0.2394 - val_loss: 3.5259 - val_accuracy: 0.1821\n",
            "Epoch 26/50\n",
            "531/531 [==============================] - 2s 4ms/step - loss: 3.2697 - accuracy: 0.2417 - val_loss: 3.5134 - val_accuracy: 0.1858\n",
            "Epoch 27/50\n",
            "531/531 [==============================] - 2s 4ms/step - loss: 3.2647 - accuracy: 0.2409 - val_loss: 3.5227 - val_accuracy: 0.1851\n",
            "Epoch 28/50\n",
            "531/531 [==============================] - 2s 4ms/step - loss: 3.2568 - accuracy: 0.2426 - val_loss: 3.5155 - val_accuracy: 0.1850\n",
            "Epoch 29/50\n",
            "531/531 [==============================] - 2s 4ms/step - loss: 3.2519 - accuracy: 0.2461 - val_loss: 3.4999 - val_accuracy: 0.1922\n",
            "Epoch 30/50\n",
            "531/531 [==============================] - 2s 4ms/step - loss: 3.2503 - accuracy: 0.2473 - val_loss: 3.5015 - val_accuracy: 0.1895\n",
            "Epoch 31/50\n",
            "531/531 [==============================] - 2s 4ms/step - loss: 3.2436 - accuracy: 0.2461 - val_loss: 3.5106 - val_accuracy: 0.1910\n",
            "Epoch 32/50\n",
            "531/531 [==============================] - 2s 4ms/step - loss: 3.2397 - accuracy: 0.2504 - val_loss: 3.5034 - val_accuracy: 0.1857\n",
            "Epoch 33/50\n",
            "531/531 [==============================] - 2s 4ms/step - loss: 3.2378 - accuracy: 0.2490 - val_loss: 3.5014 - val_accuracy: 0.1919\n",
            "Epoch 34/50\n",
            "531/531 [==============================] - 2s 4ms/step - loss: 3.2288 - accuracy: 0.2514 - val_loss: 3.5088 - val_accuracy: 0.1867\n",
            "Epoch 35/50\n",
            "531/531 [==============================] - 2s 4ms/step - loss: 3.2263 - accuracy: 0.2484 - val_loss: 3.5017 - val_accuracy: 0.1929\n",
            "Epoch 36/50\n",
            "531/531 [==============================] - 2s 4ms/step - loss: 3.2213 - accuracy: 0.2521 - val_loss: 3.4993 - val_accuracy: 0.1882\n",
            "Epoch 37/50\n",
            "531/531 [==============================] - 2s 4ms/step - loss: 3.2200 - accuracy: 0.2527 - val_loss: 3.5071 - val_accuracy: 0.1872\n",
            "Epoch 38/50\n",
            "531/531 [==============================] - 2s 4ms/step - loss: 3.2155 - accuracy: 0.2532 - val_loss: 3.5041 - val_accuracy: 0.1877\n",
            "Epoch 39/50\n",
            "531/531 [==============================] - 2s 4ms/step - loss: 3.2110 - accuracy: 0.2555 - val_loss: 3.5077 - val_accuracy: 0.1851\n",
            "Epoch 40/50\n",
            "531/531 [==============================] - 2s 4ms/step - loss: 3.2080 - accuracy: 0.2536 - val_loss: 3.5008 - val_accuracy: 0.1890\n",
            "Epoch 41/50\n",
            "531/531 [==============================] - 2s 4ms/step - loss: 3.2069 - accuracy: 0.2581 - val_loss: 3.4922 - val_accuracy: 0.1929\n",
            "Epoch 42/50\n",
            "531/531 [==============================] - 2s 4ms/step - loss: 3.2021 - accuracy: 0.2551 - val_loss: 3.5102 - val_accuracy: 0.1897\n",
            "Epoch 43/50\n",
            "531/531 [==============================] - 2s 4ms/step - loss: 3.1963 - accuracy: 0.2584 - val_loss: 3.5049 - val_accuracy: 0.1892\n",
            "Epoch 44/50\n",
            "531/531 [==============================] - 2s 4ms/step - loss: 3.1959 - accuracy: 0.2587 - val_loss: 3.5043 - val_accuracy: 0.1907\n",
            "Epoch 45/50\n",
            "531/531 [==============================] - 2s 4ms/step - loss: 3.1910 - accuracy: 0.2587 - val_loss: 3.5029 - val_accuracy: 0.1828\n",
            "Epoch 46/50\n",
            "531/531 [==============================] - 2s 4ms/step - loss: 3.1883 - accuracy: 0.2592 - val_loss: 3.5063 - val_accuracy: 0.1863\n",
            "Epoch 47/50\n",
            "531/531 [==============================] - 2s 4ms/step - loss: 3.1877 - accuracy: 0.2611 - val_loss: 3.5049 - val_accuracy: 0.1899\n",
            "Epoch 48/50\n",
            "531/531 [==============================] - 2s 4ms/step - loss: 3.1834 - accuracy: 0.2625 - val_loss: 3.4891 - val_accuracy: 0.1947\n",
            "Epoch 49/50\n",
            "531/531 [==============================] - 2s 4ms/step - loss: 3.1799 - accuracy: 0.2618 - val_loss: 3.4950 - val_accuracy: 0.1888\n",
            "Epoch 50/50\n",
            "531/531 [==============================] - 2s 4ms/step - loss: 3.1761 - accuracy: 0.2623 - val_loss: 3.4955 - val_accuracy: 0.1893\n"
          ],
          "name": "stdout"
        }
      ]
    },
    {
      "cell_type": "code",
      "metadata": {
        "id": "hZbtNoYuF4IZ",
        "colab_type": "code",
        "colab": {
          "base_uri": "https://localhost:8080/",
          "height": 390
        },
        "outputId": "3e77a9c5-ba91-4b5b-9013-7e1903415857"
      },
      "source": [
        "summarize_diagnostics(SOFTMAX_MODEL_ADAGRAD_history)"
      ],
      "execution_count": 215,
      "outputs": [
        {
          "output_type": "display_data",
          "data": {
            "image/png": "[encoded data removed]",
            "text/plain": [
              "<Figure size 720x432 with 1 Axes>"
            ]
          },
          "metadata": {
            "tags": [],
            "needs_background": "light"
          }
        }
      ]
    },
    {
      "cell_type": "markdown",
      "metadata": {
        "id": "KK2W1f9VAy2w",
        "colab_type": "text"
      },
      "source": [
        "### MLP"
      ]
    },
    {
      "cell_type": "markdown",
      "metadata": {
        "id": "GB2GeQPRPgLP",
        "colab_type": "text"
      },
      "source": [
        "Το πρώτο μοντέλο που θα εκπαιδεύσουμε εκμεταλλεύεται optimizer `Adam` με `lr=0.0001`. Εδώ επιλέγουμε 75 `epochs` εκπαίδευσης παρατηρώντας την ανοδική τάσης της ακρίβειας του δικτύου στα δεδομένα επαλήθευσης."
      ]
    },
    {
      "cell_type": "code",
      "metadata": {
        "id": "JFQIHUQ7A5DZ",
        "colab_type": "code",
        "colab": {}
      },
      "source": [
        "def init_mlp_adam(summary):\n",
        "  \n",
        "  model = models.Sequential()\n",
        " \n",
        "  model.add(layers.Flatten(input_shape=(32, 32, 3)))\n",
        "  model.add(layers.Dense(512, activation='relu'))\n",
        "  model.add(layers.Dense(200, activation='softmax'))\n",
        "  \n",
        "  model.compile(optimizer=tf.optimizers.Adam(lr=0.0001), loss=tf.keras.losses.sparse_categorical_crossentropy, metrics=[\"accuracy\"])\n",
        "  \n",
        "  if summary:\n",
        "    model.summary()\n",
        "  return model"
      ],
      "execution_count": 222,
      "outputs": []
    },
    {
      "cell_type": "code",
      "metadata": {
        "id": "44Wf_WH9BCsC",
        "colab_type": "code",
        "colab": {
          "base_uri": "https://localhost:8080/",
          "height": 1000
        },
        "outputId": "70d2a311-b2ec-4aaf-ffb8-7350fe6630d3"
      },
      "source": [
        "# Initialize model\n",
        "MLP_MODEL_ADAM = init_mlp_adam(summary=True)\n",
        "\n",
        "# Train for 50 epochs\n",
        "MLP_MODEL_ADAM_history = train_model(MLP_MODEL_ADAM, 75)\n",
        "\n",
        "# Dump training history\n",
        "history_dict = MLP_MODEL_ADAM_history.history\n",
        "json.dump(history_dict, open('MLP_MODEL_ADAM.json', 'w'))"
      ],
      "execution_count": 223,
      "outputs": [
        {
          "output_type": "stream",
          "text": [
            "Model: \"sequential_73\"\n",
            "_________________________________________________________________\n",
            "Layer (type)                 Output Shape              Param #   \n",
            "=================================================================\n",
            "flatten_68 (Flatten)         (None, 3072)              0         \n",
            "_________________________________________________________________\n",
            "dense_126 (Dense)            (None, 512)               1573376   \n",
            "_________________________________________________________________\n",
            "dense_127 (Dense)            (None, 200)               102600    \n",
            "=================================================================\n",
            "Total params: 1,675,976\n",
            "Trainable params: 1,675,976\n",
            "Non-trainable params: 0\n",
            "_________________________________________________________________\n",
            "Epoch 1/75\n",
            "531/531 [==============================] - 2s 4ms/step - loss: 4.0920 - accuracy: 0.0781 - val_loss: 3.8594 - val_accuracy: 0.1077\n",
            "Epoch 2/75\n",
            "531/531 [==============================] - 2s 4ms/step - loss: 3.7321 - accuracy: 0.1302 - val_loss: 3.6847 - val_accuracy: 0.1467\n",
            "Epoch 3/75\n",
            "531/531 [==============================] - 2s 4ms/step - loss: 3.5925 - accuracy: 0.1583 - val_loss: 3.6056 - val_accuracy: 0.1562\n",
            "Epoch 4/75\n",
            "531/531 [==============================] - 2s 4ms/step - loss: 3.4949 - accuracy: 0.1787 - val_loss: 3.5442 - val_accuracy: 0.1660\n",
            "Epoch 5/75\n",
            "531/531 [==============================] - 2s 4ms/step - loss: 3.4172 - accuracy: 0.1930 - val_loss: 3.4942 - val_accuracy: 0.1737\n",
            "Epoch 6/75\n",
            "531/531 [==============================] - 2s 4ms/step - loss: 3.3558 - accuracy: 0.2026 - val_loss: 3.4761 - val_accuracy: 0.1798\n",
            "Epoch 7/75\n",
            "531/531 [==============================] - 2s 4ms/step - loss: 3.3057 - accuracy: 0.2142 - val_loss: 3.4323 - val_accuracy: 0.1875\n",
            "Epoch 8/75\n",
            "531/531 [==============================] - 2s 4ms/step - loss: 3.2532 - accuracy: 0.2250 - val_loss: 3.3950 - val_accuracy: 0.1939\n",
            "Epoch 9/75\n",
            "531/531 [==============================] - 2s 4ms/step - loss: 3.2133 - accuracy: 0.2305 - val_loss: 3.3660 - val_accuracy: 0.1951\n",
            "Epoch 10/75\n",
            "531/531 [==============================] - 2s 4ms/step - loss: 3.1731 - accuracy: 0.2363 - val_loss: 3.3344 - val_accuracy: 0.2041\n",
            "Epoch 11/75\n",
            "531/531 [==============================] - 2s 4ms/step - loss: 3.1321 - accuracy: 0.2476 - val_loss: 3.3563 - val_accuracy: 0.2011\n",
            "Epoch 12/75\n",
            "531/531 [==============================] - 2s 4ms/step - loss: 3.0971 - accuracy: 0.2520 - val_loss: 3.3129 - val_accuracy: 0.2053\n",
            "Epoch 13/75\n",
            "531/531 [==============================] - 2s 4ms/step - loss: 3.0616 - accuracy: 0.2603 - val_loss: 3.2890 - val_accuracy: 0.2120\n",
            "Epoch 14/75\n",
            "531/531 [==============================] - 2s 4ms/step - loss: 3.0286 - accuracy: 0.2682 - val_loss: 3.2883 - val_accuracy: 0.2140\n",
            "Epoch 15/75\n",
            "531/531 [==============================] - 2s 4ms/step - loss: 2.9916 - accuracy: 0.2727 - val_loss: 3.2497 - val_accuracy: 0.2181\n",
            "Epoch 16/75\n",
            "531/531 [==============================] - 2s 4ms/step - loss: 2.9594 - accuracy: 0.2819 - val_loss: 3.2321 - val_accuracy: 0.2218\n",
            "Epoch 17/75\n",
            "531/531 [==============================] - 3s 5ms/step - loss: 2.9274 - accuracy: 0.2876 - val_loss: 3.2483 - val_accuracy: 0.2208\n",
            "Epoch 18/75\n",
            "531/531 [==============================] - 2s 4ms/step - loss: 2.8987 - accuracy: 0.2928 - val_loss: 3.2155 - val_accuracy: 0.2297\n",
            "Epoch 19/75\n",
            "531/531 [==============================] - 2s 4ms/step - loss: 2.8680 - accuracy: 0.3005 - val_loss: 3.2080 - val_accuracy: 0.2302\n",
            "Epoch 20/75\n",
            "531/531 [==============================] - 2s 4ms/step - loss: 2.8385 - accuracy: 0.3041 - val_loss: 3.1975 - val_accuracy: 0.2241\n",
            "Epoch 21/75\n",
            "531/531 [==============================] - 2s 4ms/step - loss: 2.8113 - accuracy: 0.3154 - val_loss: 3.1978 - val_accuracy: 0.2263\n",
            "Epoch 22/75\n",
            "531/531 [==============================] - 2s 4ms/step - loss: 2.7846 - accuracy: 0.3187 - val_loss: 3.1649 - val_accuracy: 0.2396\n",
            "Epoch 23/75\n",
            "531/531 [==============================] - 2s 4ms/step - loss: 2.7609 - accuracy: 0.3233 - val_loss: 3.1713 - val_accuracy: 0.2329\n",
            "Epoch 24/75\n",
            "531/531 [==============================] - 2s 4ms/step - loss: 2.7316 - accuracy: 0.3308 - val_loss: 3.1986 - val_accuracy: 0.2322\n",
            "Epoch 25/75\n",
            "531/531 [==============================] - 2s 4ms/step - loss: 2.7059 - accuracy: 0.3374 - val_loss: 3.1457 - val_accuracy: 0.2441\n",
            "Epoch 26/75\n",
            "531/531 [==============================] - 2s 4ms/step - loss: 2.6816 - accuracy: 0.3410 - val_loss: 3.1583 - val_accuracy: 0.2411\n",
            "Epoch 27/75\n",
            "531/531 [==============================] - 2s 4ms/step - loss: 2.6544 - accuracy: 0.3453 - val_loss: 3.1271 - val_accuracy: 0.2428\n",
            "Epoch 28/75\n",
            "531/531 [==============================] - 2s 4ms/step - loss: 2.6302 - accuracy: 0.3504 - val_loss: 3.1458 - val_accuracy: 0.2441\n",
            "Epoch 29/75\n",
            "531/531 [==============================] - 2s 4ms/step - loss: 2.6082 - accuracy: 0.3592 - val_loss: 3.1491 - val_accuracy: 0.2401\n",
            "Epoch 30/75\n",
            "531/531 [==============================] - 2s 4ms/step - loss: 2.5836 - accuracy: 0.3629 - val_loss: 3.1246 - val_accuracy: 0.2431\n",
            "Epoch 31/75\n",
            "531/531 [==============================] - 2s 4ms/step - loss: 2.5652 - accuracy: 0.3654 - val_loss: 3.1209 - val_accuracy: 0.2522\n",
            "Epoch 32/75\n",
            "531/531 [==============================] - 2s 4ms/step - loss: 2.5416 - accuracy: 0.3695 - val_loss: 3.1466 - val_accuracy: 0.2367\n",
            "Epoch 33/75\n",
            "531/531 [==============================] - 3s 5ms/step - loss: 2.5164 - accuracy: 0.3745 - val_loss: 3.1278 - val_accuracy: 0.2480\n",
            "Epoch 34/75\n",
            "531/531 [==============================] - 2s 4ms/step - loss: 2.4922 - accuracy: 0.3812 - val_loss: 3.1216 - val_accuracy: 0.2524\n",
            "Epoch 35/75\n",
            "531/531 [==============================] - 2s 4ms/step - loss: 2.4756 - accuracy: 0.3855 - val_loss: 3.1446 - val_accuracy: 0.2446\n",
            "Epoch 36/75\n",
            "531/531 [==============================] - 2s 4ms/step - loss: 2.4507 - accuracy: 0.3916 - val_loss: 3.1376 - val_accuracy: 0.2436\n",
            "Epoch 37/75\n",
            "531/531 [==============================] - 2s 4ms/step - loss: 2.4340 - accuracy: 0.3925 - val_loss: 3.1317 - val_accuracy: 0.2465\n",
            "Epoch 38/75\n",
            "531/531 [==============================] - 2s 4ms/step - loss: 2.4138 - accuracy: 0.3999 - val_loss: 3.1122 - val_accuracy: 0.2485\n",
            "Epoch 39/75\n",
            "531/531 [==============================] - 2s 4ms/step - loss: 2.3849 - accuracy: 0.4050 - val_loss: 3.1142 - val_accuracy: 0.2495\n",
            "Epoch 40/75\n",
            "531/531 [==============================] - 2s 4ms/step - loss: 2.3740 - accuracy: 0.4109 - val_loss: 3.1228 - val_accuracy: 0.2498\n",
            "Epoch 41/75\n",
            "531/531 [==============================] - 2s 4ms/step - loss: 2.3519 - accuracy: 0.4147 - val_loss: 3.1014 - val_accuracy: 0.2656\n",
            "Epoch 42/75\n",
            "531/531 [==============================] - 2s 4ms/step - loss: 2.3342 - accuracy: 0.4178 - val_loss: 3.0990 - val_accuracy: 0.2606\n",
            "Epoch 43/75\n",
            "531/531 [==============================] - 2s 4ms/step - loss: 2.3105 - accuracy: 0.4220 - val_loss: 3.1243 - val_accuracy: 0.2518\n",
            "Epoch 44/75\n",
            "531/531 [==============================] - 2s 4ms/step - loss: 2.2955 - accuracy: 0.4261 - val_loss: 3.1239 - val_accuracy: 0.2497\n",
            "Epoch 45/75\n",
            "531/531 [==============================] - 2s 4ms/step - loss: 2.2724 - accuracy: 0.4321 - val_loss: 3.1019 - val_accuracy: 0.2616\n",
            "Epoch 46/75\n",
            "531/531 [==============================] - 2s 4ms/step - loss: 2.2634 - accuracy: 0.4362 - val_loss: 3.1079 - val_accuracy: 0.2579\n",
            "Epoch 47/75\n",
            "531/531 [==============================] - 2s 4ms/step - loss: 2.2351 - accuracy: 0.4376 - val_loss: 3.1348 - val_accuracy: 0.2530\n",
            "Epoch 48/75\n",
            "531/531 [==============================] - 2s 4ms/step - loss: 2.2267 - accuracy: 0.4416 - val_loss: 3.0915 - val_accuracy: 0.2584\n",
            "Epoch 49/75\n",
            "531/531 [==============================] - 2s 4ms/step - loss: 2.2034 - accuracy: 0.4504 - val_loss: 3.1012 - val_accuracy: 0.2507\n",
            "Epoch 50/75\n",
            "531/531 [==============================] - 2s 4ms/step - loss: 2.1852 - accuracy: 0.4506 - val_loss: 3.1098 - val_accuracy: 0.2587\n",
            "Epoch 51/75\n",
            "531/531 [==============================] - 2s 4ms/step - loss: 2.1668 - accuracy: 0.4574 - val_loss: 3.1429 - val_accuracy: 0.2545\n",
            "Epoch 52/75\n",
            "531/531 [==============================] - 2s 4ms/step - loss: 2.1560 - accuracy: 0.4592 - val_loss: 3.1188 - val_accuracy: 0.2552\n",
            "Epoch 53/75\n",
            "531/531 [==============================] - 2s 4ms/step - loss: 2.1299 - accuracy: 0.4643 - val_loss: 3.1274 - val_accuracy: 0.2587\n",
            "Epoch 54/75\n",
            "531/531 [==============================] - 2s 4ms/step - loss: 2.1187 - accuracy: 0.4692 - val_loss: 3.1260 - val_accuracy: 0.2626\n",
            "Epoch 55/75\n",
            "531/531 [==============================] - 2s 4ms/step - loss: 2.0970 - accuracy: 0.4760 - val_loss: 3.1067 - val_accuracy: 0.2592\n",
            "Epoch 56/75\n",
            "531/531 [==============================] - 2s 4ms/step - loss: 2.0790 - accuracy: 0.4779 - val_loss: 3.1151 - val_accuracy: 0.2613\n",
            "Epoch 57/75\n",
            "531/531 [==============================] - 2s 4ms/step - loss: 2.0676 - accuracy: 0.4827 - val_loss: 3.1391 - val_accuracy: 0.2613\n",
            "Epoch 58/75\n",
            "531/531 [==============================] - 2s 4ms/step - loss: 2.0490 - accuracy: 0.4860 - val_loss: 3.1565 - val_accuracy: 0.2564\n",
            "Epoch 59/75\n",
            "531/531 [==============================] - 2s 4ms/step - loss: 2.0326 - accuracy: 0.4910 - val_loss: 3.1547 - val_accuracy: 0.2495\n",
            "Epoch 60/75\n",
            "531/531 [==============================] - 2s 4ms/step - loss: 2.0154 - accuracy: 0.4971 - val_loss: 3.1684 - val_accuracy: 0.2513\n",
            "Epoch 61/75\n",
            "531/531 [==============================] - 2s 4ms/step - loss: 2.0058 - accuracy: 0.4966 - val_loss: 3.1484 - val_accuracy: 0.2604\n",
            "Epoch 62/75\n",
            "531/531 [==============================] - 2s 4ms/step - loss: 1.9849 - accuracy: 0.5034 - val_loss: 3.1358 - val_accuracy: 0.2624\n",
            "Epoch 63/75\n",
            "531/531 [==============================] - 2s 4ms/step - loss: 1.9707 - accuracy: 0.5064 - val_loss: 3.1569 - val_accuracy: 0.2569\n",
            "Epoch 64/75\n",
            "531/531 [==============================] - 2s 4ms/step - loss: 1.9559 - accuracy: 0.5101 - val_loss: 3.1688 - val_accuracy: 0.2596\n",
            "Epoch 65/75\n",
            "531/531 [==============================] - 3s 5ms/step - loss: 1.9362 - accuracy: 0.5142 - val_loss: 3.1611 - val_accuracy: 0.2594\n",
            "Epoch 66/75\n",
            "531/531 [==============================] - 2s 4ms/step - loss: 1.9227 - accuracy: 0.5196 - val_loss: 3.1621 - val_accuracy: 0.2562\n",
            "Epoch 67/75\n",
            "531/531 [==============================] - 2s 4ms/step - loss: 1.9119 - accuracy: 0.5217 - val_loss: 3.1635 - val_accuracy: 0.2582\n",
            "Epoch 68/75\n",
            "531/531 [==============================] - 2s 4ms/step - loss: 1.8965 - accuracy: 0.5235 - val_loss: 3.1875 - val_accuracy: 0.2577\n",
            "Epoch 69/75\n",
            "531/531 [==============================] - 2s 4ms/step - loss: 1.8788 - accuracy: 0.5256 - val_loss: 3.1804 - val_accuracy: 0.2577\n",
            "Epoch 70/75\n",
            "531/531 [==============================] - 2s 4ms/step - loss: 1.8629 - accuracy: 0.5302 - val_loss: 3.1852 - val_accuracy: 0.2567\n",
            "Epoch 71/75\n",
            "531/531 [==============================] - 2s 4ms/step - loss: 1.8490 - accuracy: 0.5401 - val_loss: 3.1793 - val_accuracy: 0.2638\n",
            "Epoch 72/75\n",
            "531/531 [==============================] - 2s 4ms/step - loss: 1.8323 - accuracy: 0.5393 - val_loss: 3.1931 - val_accuracy: 0.2599\n",
            "Epoch 73/75\n",
            "531/531 [==============================] - 2s 4ms/step - loss: 1.8198 - accuracy: 0.5444 - val_loss: 3.1862 - val_accuracy: 0.2582\n",
            "Epoch 74/75\n",
            "531/531 [==============================] - 2s 4ms/step - loss: 1.8064 - accuracy: 0.5450 - val_loss: 3.2061 - val_accuracy: 0.2576\n",
            "Epoch 75/75\n",
            "531/531 [==============================] - 2s 4ms/step - loss: 1.7932 - accuracy: 0.5490 - val_loss: 3.2248 - val_accuracy: 0.2539\n"
          ],
          "name": "stdout"
        }
      ]
    },
    {
      "cell_type": "code",
      "metadata": {
        "id": "LMTnW7QFONyH",
        "colab_type": "code",
        "colab": {
          "base_uri": "https://localhost:8080/",
          "height": 390
        },
        "outputId": "658d3d28-ebc4-403a-8c20-7297493c8fba"
      },
      "source": [
        "summarize_diagnostics(MLP_MODEL_ADAM_history)"
      ],
      "execution_count": 224,
      "outputs": [
        {
          "output_type": "display_data",
          "data": {
            "image/png": "[encoded data removed]",
            "text/plain": [
              "<Figure size 720x432 with 1 Axes>"
            ]
          },
          "metadata": {
            "tags": [],
            "needs_background": "light"
          }
        }
      ]
    },
    {
      "cell_type": "markdown",
      "metadata": {
        "id": "J6iZXxxjPk0e",
        "colab_type": "text"
      },
      "source": [
        "Το δεύτερο μοντέλο μας έχει `SGD` optimizer με `lr=0.01`. Σε αυτήν την περίπτωση θα αυξήσουμε τις `epochs` εκπαίδευσης στις 100, λαμβάνοντας υπόψιν την ανοδική τάση της καμπύλη ακριβείας που αντιστοιχεί στην επαλήθευση του δικτύου."
      ]
    },
    {
      "cell_type": "code",
      "metadata": {
        "id": "1QjcTiNaPosI",
        "colab_type": "code",
        "colab": {}
      },
      "source": [
        "def init_mlp_sgd(summary):\n",
        "  \n",
        "  model = models.Sequential()\n",
        " \n",
        "  model.add(layers.Flatten(input_shape=(32, 32, 3)))\n",
        "  model.add(layers.Dense(512, activation='relu'))\n",
        "  model.add(layers.Dense(200, activation='softmax'))\n",
        "  \n",
        "  model.compile(optimizer=tf.optimizers.SGD(lr=0.01), loss=tf.keras.losses.sparse_categorical_crossentropy, metrics=[\"accuracy\"])\n",
        "  \n",
        "  if summary:\n",
        "    model.summary()\n",
        "  return model"
      ],
      "execution_count": 225,
      "outputs": []
    },
    {
      "cell_type": "code",
      "metadata": {
        "id": "E2QYdi2nPzmY",
        "colab_type": "code",
        "colab": {
          "base_uri": "https://localhost:8080/",
          "height": 1000
        },
        "outputId": "9bf2fec4-662c-4b63-d38e-9beed8482c5e"
      },
      "source": [
        "# Initialize model\n",
        "MLP_MODEL_SGD = init_mlp_sgd(summary=True)\n",
        "\n",
        "# Train for 50 epochs\n",
        "MLP_MODEL_SGD_history = train_model(MLP_MODEL_SGD, 100)\n",
        "\n",
        "# Dump training history\n",
        "history_dict = MLP_MODEL_SGD_history.history\n",
        "json.dump(history_dict, open('MLP_MODEL_SGD.json', 'w'))"
      ],
      "execution_count": 228,
      "outputs": [
        {
          "output_type": "stream",
          "text": [
            "Model: \"sequential_75\"\n",
            "_________________________________________________________________\n",
            "Layer (type)                 Output Shape              Param #   \n",
            "=================================================================\n",
            "flatten_70 (Flatten)         (None, 3072)              0         \n",
            "_________________________________________________________________\n",
            "dense_130 (Dense)            (None, 512)               1573376   \n",
            "_________________________________________________________________\n",
            "dense_131 (Dense)            (None, 200)               102600    \n",
            "=================================================================\n",
            "Total params: 1,675,976\n",
            "Trainable params: 1,675,976\n",
            "Non-trainable params: 0\n",
            "_________________________________________________________________\n",
            "Epoch 1/100\n",
            "531/531 [==============================] - 2s 4ms/step - loss: 4.2869 - accuracy: 0.0526 - val_loss: 4.0094 - val_accuracy: 0.0815\n",
            "Epoch 2/100\n",
            "531/531 [==============================] - 2s 4ms/step - loss: 3.8944 - accuracy: 0.0978 - val_loss: 3.8121 - val_accuracy: 0.1148\n",
            "Epoch 3/100\n",
            "531/531 [==============================] - 2s 4ms/step - loss: 3.7500 - accuracy: 0.1280 - val_loss: 3.7431 - val_accuracy: 0.1201\n",
            "Epoch 4/100\n",
            "531/531 [==============================] - 2s 4ms/step - loss: 3.6570 - accuracy: 0.1475 - val_loss: 3.6608 - val_accuracy: 0.1505\n",
            "Epoch 5/100\n",
            "531/531 [==============================] - 2s 4ms/step - loss: 3.5872 - accuracy: 0.1615 - val_loss: 3.6185 - val_accuracy: 0.1514\n",
            "Epoch 6/100\n",
            "531/531 [==============================] - 2s 4ms/step - loss: 3.5298 - accuracy: 0.1719 - val_loss: 3.5744 - val_accuracy: 0.1596\n",
            "Epoch 7/100\n",
            "531/531 [==============================] - 2s 4ms/step - loss: 3.4784 - accuracy: 0.1846 - val_loss: 3.5340 - val_accuracy: 0.1695\n",
            "Epoch 8/100\n",
            "531/531 [==============================] - 2s 4ms/step - loss: 3.4384 - accuracy: 0.1919 - val_loss: 3.5085 - val_accuracy: 0.1752\n",
            "Epoch 9/100\n",
            "531/531 [==============================] - 2s 4ms/step - loss: 3.4037 - accuracy: 0.1978 - val_loss: 3.4745 - val_accuracy: 0.1868\n",
            "Epoch 10/100\n",
            "531/531 [==============================] - 2s 4ms/step - loss: 3.3724 - accuracy: 0.2051 - val_loss: 3.4615 - val_accuracy: 0.1846\n",
            "Epoch 11/100\n",
            "531/531 [==============================] - 2s 4ms/step - loss: 3.3415 - accuracy: 0.2094 - val_loss: 3.4343 - val_accuracy: 0.1885\n",
            "Epoch 12/100\n",
            "531/531 [==============================] - 2s 4ms/step - loss: 3.3122 - accuracy: 0.2150 - val_loss: 3.4157 - val_accuracy: 0.1932\n",
            "Epoch 13/100\n",
            "531/531 [==============================] - 2s 4ms/step - loss: 3.2883 - accuracy: 0.2200 - val_loss: 3.4168 - val_accuracy: 0.1949\n",
            "Epoch 14/100\n",
            "531/531 [==============================] - 2s 4ms/step - loss: 3.2649 - accuracy: 0.2262 - val_loss: 3.3907 - val_accuracy: 0.1946\n",
            "Epoch 15/100\n",
            "531/531 [==============================] - 2s 4ms/step - loss: 3.2395 - accuracy: 0.2284 - val_loss: 3.3692 - val_accuracy: 0.1988\n",
            "Epoch 16/100\n",
            "531/531 [==============================] - 2s 4ms/step - loss: 3.2194 - accuracy: 0.2332 - val_loss: 3.3644 - val_accuracy: 0.2025\n",
            "Epoch 17/100\n",
            "531/531 [==============================] - 2s 5ms/step - loss: 3.1965 - accuracy: 0.2406 - val_loss: 3.3451 - val_accuracy: 0.2014\n",
            "Epoch 18/100\n",
            "531/531 [==============================] - 2s 4ms/step - loss: 3.1784 - accuracy: 0.2427 - val_loss: 3.3341 - val_accuracy: 0.2067\n",
            "Epoch 19/100\n",
            "531/531 [==============================] - 2s 4ms/step - loss: 3.1565 - accuracy: 0.2448 - val_loss: 3.3400 - val_accuracy: 0.2070\n",
            "Epoch 20/100\n",
            "531/531 [==============================] - 2s 4ms/step - loss: 3.1379 - accuracy: 0.2493 - val_loss: 3.3202 - val_accuracy: 0.2109\n",
            "Epoch 21/100\n",
            "531/531 [==============================] - 2s 4ms/step - loss: 3.1210 - accuracy: 0.2517 - val_loss: 3.3271 - val_accuracy: 0.2075\n",
            "Epoch 22/100\n",
            "531/531 [==============================] - 2s 4ms/step - loss: 3.0993 - accuracy: 0.2577 - val_loss: 3.2908 - val_accuracy: 0.2204\n",
            "Epoch 23/100\n",
            "531/531 [==============================] - 2s 4ms/step - loss: 3.0843 - accuracy: 0.2598 - val_loss: 3.2866 - val_accuracy: 0.2218\n",
            "Epoch 24/100\n",
            "531/531 [==============================] - 2s 4ms/step - loss: 3.0664 - accuracy: 0.2642 - val_loss: 3.2791 - val_accuracy: 0.2161\n",
            "Epoch 25/100\n",
            "531/531 [==============================] - 2s 4ms/step - loss: 3.0481 - accuracy: 0.2672 - val_loss: 3.2770 - val_accuracy: 0.2127\n",
            "Epoch 26/100\n",
            "531/531 [==============================] - 2s 4ms/step - loss: 3.0285 - accuracy: 0.2720 - val_loss: 3.2641 - val_accuracy: 0.2235\n",
            "Epoch 27/100\n",
            "531/531 [==============================] - 2s 4ms/step - loss: 3.0152 - accuracy: 0.2750 - val_loss: 3.2504 - val_accuracy: 0.2268\n",
            "Epoch 28/100\n",
            "531/531 [==============================] - 2s 4ms/step - loss: 2.9966 - accuracy: 0.2767 - val_loss: 3.2469 - val_accuracy: 0.2260\n",
            "Epoch 29/100\n",
            "531/531 [==============================] - 2s 4ms/step - loss: 2.9825 - accuracy: 0.2808 - val_loss: 3.2376 - val_accuracy: 0.2290\n",
            "Epoch 30/100\n",
            "531/531 [==============================] - 2s 4ms/step - loss: 2.9643 - accuracy: 0.2832 - val_loss: 3.2208 - val_accuracy: 0.2367\n",
            "Epoch 31/100\n",
            "531/531 [==============================] - 2s 4ms/step - loss: 2.9491 - accuracy: 0.2900 - val_loss: 3.2307 - val_accuracy: 0.2293\n",
            "Epoch 32/100\n",
            "531/531 [==============================] - 2s 4ms/step - loss: 2.9370 - accuracy: 0.2891 - val_loss: 3.2084 - val_accuracy: 0.2302\n",
            "Epoch 33/100\n",
            "531/531 [==============================] - 2s 5ms/step - loss: 2.9180 - accuracy: 0.2935 - val_loss: 3.1978 - val_accuracy: 0.2357\n",
            "Epoch 34/100\n",
            "531/531 [==============================] - 2s 4ms/step - loss: 2.9050 - accuracy: 0.2965 - val_loss: 3.1960 - val_accuracy: 0.2344\n",
            "Epoch 35/100\n",
            "531/531 [==============================] - 2s 4ms/step - loss: 2.8885 - accuracy: 0.3010 - val_loss: 3.2075 - val_accuracy: 0.2300\n",
            "Epoch 36/100\n",
            "531/531 [==============================] - 2s 4ms/step - loss: 2.8753 - accuracy: 0.3011 - val_loss: 3.1895 - val_accuracy: 0.2320\n",
            "Epoch 37/100\n",
            "531/531 [==============================] - 2s 4ms/step - loss: 2.8598 - accuracy: 0.3061 - val_loss: 3.1795 - val_accuracy: 0.2401\n",
            "Epoch 38/100\n",
            "531/531 [==============================] - 2s 4ms/step - loss: 2.8465 - accuracy: 0.3092 - val_loss: 3.1652 - val_accuracy: 0.2399\n",
            "Epoch 39/100\n",
            "531/531 [==============================] - 2s 4ms/step - loss: 2.8318 - accuracy: 0.3127 - val_loss: 3.1785 - val_accuracy: 0.2392\n",
            "Epoch 40/100\n",
            "531/531 [==============================] - 2s 4ms/step - loss: 2.8121 - accuracy: 0.3148 - val_loss: 3.1727 - val_accuracy: 0.2361\n",
            "Epoch 41/100\n",
            "531/531 [==============================] - 2s 4ms/step - loss: 2.8033 - accuracy: 0.3144 - val_loss: 3.1528 - val_accuracy: 0.2463\n",
            "Epoch 42/100\n",
            "531/531 [==============================] - 2s 4ms/step - loss: 2.7868 - accuracy: 0.3210 - val_loss: 3.1578 - val_accuracy: 0.2445\n",
            "Epoch 43/100\n",
            "531/531 [==============================] - 2s 4ms/step - loss: 2.7765 - accuracy: 0.3224 - val_loss: 3.1497 - val_accuracy: 0.2408\n",
            "Epoch 44/100\n",
            "531/531 [==============================] - 2s 4ms/step - loss: 2.7578 - accuracy: 0.3245 - val_loss: 3.1608 - val_accuracy: 0.2369\n",
            "Epoch 45/100\n",
            "531/531 [==============================] - 2s 4ms/step - loss: 2.7451 - accuracy: 0.3297 - val_loss: 3.1302 - val_accuracy: 0.2461\n",
            "Epoch 46/100\n",
            "531/531 [==============================] - 2s 4ms/step - loss: 2.7341 - accuracy: 0.3311 - val_loss: 3.1311 - val_accuracy: 0.2411\n",
            "Epoch 47/100\n",
            "531/531 [==============================] - 2s 4ms/step - loss: 2.7210 - accuracy: 0.3336 - val_loss: 3.1415 - val_accuracy: 0.2463\n",
            "Epoch 48/100\n",
            "531/531 [==============================] - 2s 4ms/step - loss: 2.7058 - accuracy: 0.3380 - val_loss: 3.1459 - val_accuracy: 0.2431\n",
            "Epoch 49/100\n",
            "531/531 [==============================] - 2s 4ms/step - loss: 2.6967 - accuracy: 0.3382 - val_loss: 3.1164 - val_accuracy: 0.2475\n",
            "Epoch 50/100\n",
            "531/531 [==============================] - 2s 4ms/step - loss: 2.6772 - accuracy: 0.3430 - val_loss: 3.1083 - val_accuracy: 0.2478\n",
            "Epoch 51/100\n",
            "531/531 [==============================] - 2s 4ms/step - loss: 2.6683 - accuracy: 0.3458 - val_loss: 3.1063 - val_accuracy: 0.2505\n",
            "Epoch 52/100\n",
            "531/531 [==============================] - 2s 4ms/step - loss: 2.6512 - accuracy: 0.3510 - val_loss: 3.1193 - val_accuracy: 0.2490\n",
            "Epoch 53/100\n",
            "531/531 [==============================] - 2s 4ms/step - loss: 2.6373 - accuracy: 0.3518 - val_loss: 3.1178 - val_accuracy: 0.2513\n",
            "Epoch 54/100\n",
            "531/531 [==============================] - 2s 4ms/step - loss: 2.6300 - accuracy: 0.3549 - val_loss: 3.1153 - val_accuracy: 0.2458\n",
            "Epoch 55/100\n",
            "531/531 [==============================] - 2s 4ms/step - loss: 2.6158 - accuracy: 0.3581 - val_loss: 3.1040 - val_accuracy: 0.2461\n",
            "Epoch 56/100\n",
            "531/531 [==============================] - 2s 4ms/step - loss: 2.6032 - accuracy: 0.3612 - val_loss: 3.0961 - val_accuracy: 0.2505\n",
            "Epoch 57/100\n",
            "531/531 [==============================] - 2s 4ms/step - loss: 2.5937 - accuracy: 0.3619 - val_loss: 3.1086 - val_accuracy: 0.2458\n",
            "Epoch 58/100\n",
            "531/531 [==============================] - 2s 4ms/step - loss: 2.5792 - accuracy: 0.3633 - val_loss: 3.1047 - val_accuracy: 0.2483\n",
            "Epoch 59/100\n",
            "531/531 [==============================] - 2s 4ms/step - loss: 2.5642 - accuracy: 0.3664 - val_loss: 3.0924 - val_accuracy: 0.2518\n",
            "Epoch 60/100\n",
            "531/531 [==============================] - 2s 4ms/step - loss: 2.5566 - accuracy: 0.3689 - val_loss: 3.0996 - val_accuracy: 0.2507\n",
            "Epoch 61/100\n",
            "531/531 [==============================] - 2s 4ms/step - loss: 2.5418 - accuracy: 0.3713 - val_loss: 3.0880 - val_accuracy: 0.2510\n",
            "Epoch 62/100\n",
            "531/531 [==============================] - 2s 4ms/step - loss: 2.5313 - accuracy: 0.3738 - val_loss: 3.0955 - val_accuracy: 0.2552\n",
            "Epoch 63/100\n",
            "531/531 [==============================] - 2s 4ms/step - loss: 2.5138 - accuracy: 0.3779 - val_loss: 3.0923 - val_accuracy: 0.2586\n",
            "Epoch 64/100\n",
            "531/531 [==============================] - 2s 4ms/step - loss: 2.5061 - accuracy: 0.3801 - val_loss: 3.0753 - val_accuracy: 0.2596\n",
            "Epoch 65/100\n",
            "531/531 [==============================] - 2s 5ms/step - loss: 2.4962 - accuracy: 0.3798 - val_loss: 3.0720 - val_accuracy: 0.2547\n",
            "Epoch 66/100\n",
            "531/531 [==============================] - 2s 4ms/step - loss: 2.4816 - accuracy: 0.3860 - val_loss: 3.0679 - val_accuracy: 0.2544\n",
            "Epoch 67/100\n",
            "531/531 [==============================] - 2s 4ms/step - loss: 2.4687 - accuracy: 0.3891 - val_loss: 3.0608 - val_accuracy: 0.2606\n",
            "Epoch 68/100\n",
            "531/531 [==============================] - 2s 4ms/step - loss: 2.4599 - accuracy: 0.3914 - val_loss: 3.0868 - val_accuracy: 0.2601\n",
            "Epoch 69/100\n",
            "531/531 [==============================] - 2s 4ms/step - loss: 2.4455 - accuracy: 0.3962 - val_loss: 3.0869 - val_accuracy: 0.2502\n",
            "Epoch 70/100\n",
            "531/531 [==============================] - 2s 4ms/step - loss: 2.4365 - accuracy: 0.3965 - val_loss: 3.0774 - val_accuracy: 0.2587\n",
            "Epoch 71/100\n",
            "531/531 [==============================] - 2s 4ms/step - loss: 2.4217 - accuracy: 0.3976 - val_loss: 3.0646 - val_accuracy: 0.2572\n",
            "Epoch 72/100\n",
            "531/531 [==============================] - 2s 4ms/step - loss: 2.4149 - accuracy: 0.3990 - val_loss: 3.0533 - val_accuracy: 0.2653\n",
            "Epoch 73/100\n",
            "531/531 [==============================] - 2s 4ms/step - loss: 2.3979 - accuracy: 0.4034 - val_loss: 3.0760 - val_accuracy: 0.2599\n",
            "Epoch 74/100\n",
            "531/531 [==============================] - 2s 4ms/step - loss: 2.3879 - accuracy: 0.4066 - val_loss: 3.0835 - val_accuracy: 0.2550\n",
            "Epoch 75/100\n",
            "531/531 [==============================] - 2s 4ms/step - loss: 2.3843 - accuracy: 0.4088 - val_loss: 3.0633 - val_accuracy: 0.2614\n",
            "Epoch 76/100\n",
            "531/531 [==============================] - 2s 4ms/step - loss: 2.3652 - accuracy: 0.4109 - val_loss: 3.0667 - val_accuracy: 0.2634\n",
            "Epoch 77/100\n",
            "531/531 [==============================] - 2s 4ms/step - loss: 2.3544 - accuracy: 0.4134 - val_loss: 3.0928 - val_accuracy: 0.2532\n",
            "Epoch 78/100\n",
            "531/531 [==============================] - 2s 4ms/step - loss: 2.3476 - accuracy: 0.4147 - val_loss: 3.0704 - val_accuracy: 0.2658\n",
            "Epoch 79/100\n",
            "531/531 [==============================] - 2s 4ms/step - loss: 2.3293 - accuracy: 0.4179 - val_loss: 3.0649 - val_accuracy: 0.2618\n",
            "Epoch 80/100\n",
            "531/531 [==============================] - 2s 4ms/step - loss: 2.3253 - accuracy: 0.4206 - val_loss: 3.0631 - val_accuracy: 0.2609\n",
            "Epoch 81/100\n",
            "531/531 [==============================] - 2s 4ms/step - loss: 2.3131 - accuracy: 0.4210 - val_loss: 3.0743 - val_accuracy: 0.2636\n",
            "Epoch 82/100\n",
            "531/531 [==============================] - 2s 4ms/step - loss: 2.3013 - accuracy: 0.4250 - val_loss: 3.0754 - val_accuracy: 0.2656\n",
            "Epoch 83/100\n",
            "531/531 [==============================] - 2s 4ms/step - loss: 2.2894 - accuracy: 0.4295 - val_loss: 3.0700 - val_accuracy: 0.2633\n",
            "Epoch 84/100\n",
            "531/531 [==============================] - 2s 4ms/step - loss: 2.2772 - accuracy: 0.4290 - val_loss: 3.0644 - val_accuracy: 0.2643\n",
            "Epoch 85/100\n",
            "531/531 [==============================] - 2s 4ms/step - loss: 2.2718 - accuracy: 0.4328 - val_loss: 3.0759 - val_accuracy: 0.2574\n",
            "Epoch 86/100\n",
            "531/531 [==============================] - 2s 4ms/step - loss: 2.2593 - accuracy: 0.4346 - val_loss: 3.0497 - val_accuracy: 0.2745\n",
            "Epoch 87/100\n",
            "531/531 [==============================] - 2s 4ms/step - loss: 2.2440 - accuracy: 0.4408 - val_loss: 3.0894 - val_accuracy: 0.2626\n",
            "Epoch 88/100\n",
            "531/531 [==============================] - 2s 4ms/step - loss: 2.2405 - accuracy: 0.4376 - val_loss: 3.0794 - val_accuracy: 0.2643\n",
            "Epoch 89/100\n",
            "531/531 [==============================] - 2s 4ms/step - loss: 2.2232 - accuracy: 0.4428 - val_loss: 3.0736 - val_accuracy: 0.2663\n",
            "Epoch 90/100\n",
            "531/531 [==============================] - 2s 4ms/step - loss: 2.2198 - accuracy: 0.4413 - val_loss: 3.0733 - val_accuracy: 0.2643\n",
            "Epoch 91/100\n",
            "531/531 [==============================] - 2s 4ms/step - loss: 2.2005 - accuracy: 0.4483 - val_loss: 3.0874 - val_accuracy: 0.2680\n",
            "Epoch 92/100\n",
            "531/531 [==============================] - 2s 4ms/step - loss: 2.1939 - accuracy: 0.4500 - val_loss: 3.0700 - val_accuracy: 0.2661\n",
            "Epoch 93/100\n",
            "531/531 [==============================] - 2s 4ms/step - loss: 2.1907 - accuracy: 0.4501 - val_loss: 3.0807 - val_accuracy: 0.2626\n",
            "Epoch 94/100\n",
            "531/531 [==============================] - 2s 4ms/step - loss: 2.1705 - accuracy: 0.4537 - val_loss: 3.0922 - val_accuracy: 0.2592\n",
            "Epoch 95/100\n",
            "531/531 [==============================] - 2s 4ms/step - loss: 2.1676 - accuracy: 0.4562 - val_loss: 3.0880 - val_accuracy: 0.2666\n",
            "Epoch 96/100\n",
            "531/531 [==============================] - 2s 4ms/step - loss: 2.1559 - accuracy: 0.4599 - val_loss: 3.0809 - val_accuracy: 0.2666\n",
            "Epoch 97/100\n",
            "531/531 [==============================] - 2s 4ms/step - loss: 2.1438 - accuracy: 0.4632 - val_loss: 3.0913 - val_accuracy: 0.2683\n",
            "Epoch 98/100\n",
            "531/531 [==============================] - 2s 4ms/step - loss: 2.1327 - accuracy: 0.4647 - val_loss: 3.0841 - val_accuracy: 0.2639\n",
            "Epoch 99/100\n",
            "531/531 [==============================] - 2s 4ms/step - loss: 2.1201 - accuracy: 0.4656 - val_loss: 3.1075 - val_accuracy: 0.2629\n",
            "Epoch 100/100\n",
            "531/531 [==============================] - 2s 4ms/step - loss: 2.1168 - accuracy: 0.4671 - val_loss: 3.0735 - val_accuracy: 0.2676\n"
          ],
          "name": "stdout"
        }
      ]
    },
    {
      "cell_type": "code",
      "metadata": {
        "id": "hkpSyYzUP6L-",
        "colab_type": "code",
        "colab": {
          "base_uri": "https://localhost:8080/",
          "height": 390
        },
        "outputId": "ee1438a8-1ea3-4b52-9313-67cf9785c890"
      },
      "source": [
        "summarize_diagnostics(MLP_MODEL_SGD_history)"
      ],
      "execution_count": 229,
      "outputs": [
        {
          "output_type": "display_data",
          "data": {
            "image/png": "[encoded data removed]",
            "text/plain": [
              "<Figure size 720x432 with 1 Axes>"
            ]
          },
          "metadata": {
            "tags": [],
            "needs_background": "light"
          }
        }
      ]
    },
    {
      "cell_type": "markdown",
      "metadata": {
        "id": "IDUdlPFmBKRS",
        "colab_type": "text"
      },
      "source": [
        "### LeNet"
      ]
    },
    {
      "cell_type": "code",
      "metadata": {
        "id": "qFKSy9xxBT_1",
        "colab_type": "code",
        "colab": {}
      },
      "source": [
        "def init_lenet_(summary):\n",
        "  \n",
        "  model = models.Sequential()\n",
        " \n",
        "  model.add(layers.Conv2D(32, (3, 3), activation='relu', padding='same', input_shape=(32, 32, 3)))\n",
        "  model.add(layers.MaxPooling2D((2, 2)))\n",
        "  model.add(layers.Conv2D(32, (3, 3), activation='relu', padding='same'))\n",
        "  model.add(layers.MaxPooling2D((2, 2)))\n",
        "\n",
        "  model.add(layers.Flatten())\n",
        "  model.add(layers.Dense(512, activation='relu'))\n",
        "  model.add(layers.Dense(200, activation='softmax'))\n",
        "  \n",
        "  model.compile(optimizer=tf.optimizers.Adam(lr=0.0001), loss=tf.keras.losses.sparse_categorical_crossentropy, metrics=[\"accuracy\"])\n",
        "  \n",
        "  if summary:\n",
        "    model.summary()\n",
        "  return model"
      ],
      "execution_count": 151,
      "outputs": []
    },
    {
      "cell_type": "markdown",
      "metadata": {
        "id": "84kNtYVsBwKW",
        "colab_type": "text"
      },
      "source": [
        "### CNN1"
      ]
    },
    {
      "cell_type": "code",
      "metadata": {
        "id": "NJRqPqzjBx_0",
        "colab_type": "code",
        "colab": {}
      },
      "source": [
        "def init_cnn1_(summary):\n",
        "  \n",
        "  model = models.Sequential()\n",
        " \n",
        "  model.add(layers.Conv2D(16, (5, 5), activation='relu', padding='same', input_shape=(32, 32, 3)))\n",
        "  model.add(layers.MaxPooling2D((2, 2)))\n",
        "  model.add(layers.Conv2D(16, (3, 3), activation='relu', padding='same'))\n",
        "  model.add(layers.MaxPooling2D((2, 2)))\n",
        "  model.add(layers.Conv2D(32, (3, 3), activation='relu', padding='same'))\n",
        "\n",
        "  model.add(layers.Flatten())\n",
        "  model.add(layers.Dense(200, activation='softmax'))\n",
        "  \n",
        "  model.compile(optimizer=tf.optimizers.Adam(lr=0.0001), loss=tf.keras.losses.sparse_categorical_crossentropy, metrics=[\"accuracy\"])\n",
        "  \n",
        "  if summary:\n",
        "    model.summary()\n",
        "  return model"
      ],
      "execution_count": 153,
      "outputs": []
    },
    {
      "cell_type": "markdown",
      "metadata": {
        "colab_type": "text",
        "id": "cFTzQtMOa3Rv"
      },
      "source": [
        "### CNN2"
      ]
    },
    {
      "cell_type": "markdown",
      "metadata": {
        "id": "1XVJVi9jCWcl",
        "colab_type": "text"
      },
      "source": [
        "Η αρχιτεκτονική του δικτύου μας είναι επηρεασμένη από εκείνη του VGG16. Το πρώτο μοντέλο που θα εκπαιδεύσουμε εκμεταλλεύεται optimizer `Adam` με `lr=0.0001`. Παρατηρούμε ότι οι 50 `epochs` εκπαίδευσης είναι αρκετές για το μοντέλο μας."
      ]
    },
    {
      "cell_type": "code",
      "metadata": {
        "colab_type": "code",
        "id": "LtcgTkHojt0G",
        "colab": {}
      },
      "source": [
        "def init_CNN2_adam(summary):\n",
        "  \n",
        "  model = models.Sequential()\n",
        "  \n",
        "  model.add(layers.Conv2D(128, (3, 3), activation='elu', padding='same', input_shape=(32, 32, 3)))\n",
        "  model.add(layers.Conv2D(128, (3, 3), activation='elu'))\n",
        "  model.add(layers.MaxPooling2D((2, 2)))\n",
        "  model.add(layers.Conv2D(256, (3, 3), activation='elu', padding='same'))\n",
        "  model.add(layers.Conv2D(256, (3, 3), activation='elu'))\n",
        "  model.add(layers.MaxPooling2D((2, 2)))\n",
        "  model.add(layers.Conv2D(512, (3, 3), activation='elu', padding='same'))\n",
        "  model.add(layers.Conv2D(512, (3, 3), activation='elu'))\n",
        "  model.add(layers.MaxPooling2D((2, 2)))\n",
        " \n",
        "  model.add(layers.Flatten())\n",
        "  model.add(layers.Dense(1024, activation='elu'))\n",
        "  model.add(layers.Dense(100, activation='softmax'))\n",
        "  \n",
        "  model.compile(optimizer=tf.optimizers.Adam(lr=0.0001), loss=tf.keras.losses.sparse_categorical_crossentropy, metrics=[\"accuracy\"])\n",
        "  \n",
        "  if summary: \n",
        "    model.summary()\n",
        "  return model"
      ],
      "execution_count": 134,
      "outputs": []
    },
    {
      "cell_type": "code",
      "metadata": {
        "colab_type": "code",
        "id": "dSbtouO9lGvj",
        "colab": {
          "base_uri": "https://localhost:8080/",
          "height": 1000
        },
        "outputId": "ae2fcc76-d6c8-46a8-f774-ef3b24bfbcea"
      },
      "source": [
        "# Initialize model\n",
        "CNN2_MODEL_ADAM = init_CNN2_adam(summary=True)\n",
        "\n",
        "# Train for 50 epochs\n",
        "CNN2_MODEL_ADAM_history = train_model(CNN2_MODEL_ADAM, 50)\n",
        "\n",
        "# Dump training history\n",
        "history_dict = CNN2_MODEL_ADAM_history.history\n",
        "json.dump(history_dict, open('CNN2_MODEL_ADAM.json', 'w'))"
      ],
      "execution_count": 138,
      "outputs": [
        {
          "output_type": "stream",
          "text": [
            "Model: \"sequential_39\"\n",
            "_________________________________________________________________\n",
            "Layer (type)                 Output Shape              Param #   \n",
            "=================================================================\n",
            "conv2d_215 (Conv2D)          (None, 32, 32, 128)       3584      \n",
            "_________________________________________________________________\n",
            "conv2d_216 (Conv2D)          (None, 30, 30, 128)       147584    \n",
            "_________________________________________________________________\n",
            "max_pooling2d_109 (MaxPoolin (None, 15, 15, 128)       0         \n",
            "_________________________________________________________________\n",
            "conv2d_217 (Conv2D)          (None, 15, 15, 256)       295168    \n",
            "_________________________________________________________________\n",
            "conv2d_218 (Conv2D)          (None, 13, 13, 256)       590080    \n",
            "_________________________________________________________________\n",
            "max_pooling2d_110 (MaxPoolin (None, 6, 6, 256)         0         \n",
            "_________________________________________________________________\n",
            "conv2d_219 (Conv2D)          (None, 6, 6, 512)         1180160   \n",
            "_________________________________________________________________\n",
            "conv2d_220 (Conv2D)          (None, 4, 4, 512)         2359808   \n",
            "_________________________________________________________________\n",
            "max_pooling2d_111 (MaxPoolin (None, 2, 2, 512)         0         \n",
            "_________________________________________________________________\n",
            "flatten_35 (Flatten)         (None, 2048)              0         \n",
            "_________________________________________________________________\n",
            "dense_76 (Dense)             (None, 1024)              2098176   \n",
            "_________________________________________________________________\n",
            "dense_77 (Dense)             (None, 100)               102500    \n",
            "=================================================================\n",
            "Total params: 6,777,060\n",
            "Trainable params: 6,777,060\n",
            "Non-trainable params: 0\n",
            "_________________________________________________________________\n",
            "Epoch 1/50\n",
            "531/531 [==============================] - 19s 35ms/step - loss: 3.5411 - accuracy: 0.1649 - val_loss: 3.1335 - val_accuracy: 0.2334\n",
            "Epoch 2/50\n",
            "531/531 [==============================] - 19s 35ms/step - loss: 2.7831 - accuracy: 0.3076 - val_loss: 2.6443 - val_accuracy: 0.3355\n",
            "Epoch 3/50\n",
            "531/531 [==============================] - 18s 35ms/step - loss: 2.3121 - accuracy: 0.4057 - val_loss: 2.4461 - val_accuracy: 0.3858\n",
            "Epoch 4/50\n",
            "531/531 [==============================] - 18s 34ms/step - loss: 1.9283 - accuracy: 0.4914 - val_loss: 2.2915 - val_accuracy: 0.4210\n",
            "Epoch 5/50\n",
            "531/531 [==============================] - 19s 35ms/step - loss: 1.5497 - accuracy: 0.5813 - val_loss: 2.2737 - val_accuracy: 0.4380\n",
            "Epoch 6/50\n",
            "531/531 [==============================] - 18s 35ms/step - loss: 1.1621 - accuracy: 0.6768 - val_loss: 2.3314 - val_accuracy: 0.4430\n",
            "Epoch 7/50\n",
            "531/531 [==============================] - 19s 35ms/step - loss: 0.7695 - accuracy: 0.7835 - val_loss: 2.6212 - val_accuracy: 0.4367\n",
            "Epoch 8/50\n",
            "531/531 [==============================] - 18s 35ms/step - loss: 0.4266 - accuracy: 0.8814 - val_loss: 2.9232 - val_accuracy: 0.4467\n",
            "Epoch 9/50\n",
            "531/531 [==============================] - 19s 35ms/step - loss: 0.2115 - accuracy: 0.9434 - val_loss: 3.3290 - val_accuracy: 0.4308\n",
            "Epoch 10/50\n",
            "531/531 [==============================] - 18s 35ms/step - loss: 0.1308 - accuracy: 0.9640 - val_loss: 3.6494 - val_accuracy: 0.4210\n",
            "Epoch 11/50\n",
            "531/531 [==============================] - 18s 35ms/step - loss: 0.1018 - accuracy: 0.9722 - val_loss: 3.7902 - val_accuracy: 0.4249\n",
            "Epoch 12/50\n",
            "531/531 [==============================] - 18s 35ms/step - loss: 0.1040 - accuracy: 0.9710 - val_loss: 3.9601 - val_accuracy: 0.4315\n",
            "Epoch 13/50\n",
            "531/531 [==============================] - 18s 35ms/step - loss: 0.0937 - accuracy: 0.9723 - val_loss: 4.0172 - val_accuracy: 0.4353\n",
            "Epoch 14/50\n",
            "531/531 [==============================] - 18s 35ms/step - loss: 0.0681 - accuracy: 0.9816 - val_loss: 4.3033 - val_accuracy: 0.4294\n",
            "Epoch 15/50\n",
            "531/531 [==============================] - 18s 35ms/step - loss: 0.0842 - accuracy: 0.9736 - val_loss: 4.1969 - val_accuracy: 0.4393\n",
            "Epoch 16/50\n",
            "531/531 [==============================] - 18s 35ms/step - loss: 0.0580 - accuracy: 0.9832 - val_loss: 4.3905 - val_accuracy: 0.4259\n",
            "Epoch 17/50\n",
            "531/531 [==============================] - 19s 35ms/step - loss: 0.0697 - accuracy: 0.9797 - val_loss: 4.3136 - val_accuracy: 0.4330\n",
            "Epoch 18/50\n",
            "531/531 [==============================] - 18s 35ms/step - loss: 0.0621 - accuracy: 0.9813 - val_loss: 4.5428 - val_accuracy: 0.4284\n",
            "Epoch 19/50\n",
            "531/531 [==============================] - 18s 35ms/step - loss: 0.0676 - accuracy: 0.9798 - val_loss: 4.4686 - val_accuracy: 0.4303\n",
            "Epoch 20/50\n",
            "531/531 [==============================] - 18s 35ms/step - loss: 0.0531 - accuracy: 0.9852 - val_loss: 4.7206 - val_accuracy: 0.4288\n",
            "Epoch 21/50\n",
            "531/531 [==============================] - 18s 35ms/step - loss: 0.0607 - accuracy: 0.9812 - val_loss: 4.5504 - val_accuracy: 0.4286\n",
            "Epoch 22/50\n",
            "531/531 [==============================] - 18s 35ms/step - loss: 0.0553 - accuracy: 0.9837 - val_loss: 4.6508 - val_accuracy: 0.4382\n",
            "Epoch 23/50\n",
            "531/531 [==============================] - 19s 35ms/step - loss: 0.0362 - accuracy: 0.9903 - val_loss: 4.6534 - val_accuracy: 0.4382\n",
            "Epoch 24/50\n",
            "531/531 [==============================] - 19s 35ms/step - loss: 0.0432 - accuracy: 0.9871 - val_loss: 4.6584 - val_accuracy: 0.4387\n",
            "Epoch 25/50\n",
            "531/531 [==============================] - 19s 35ms/step - loss: 0.0565 - accuracy: 0.9828 - val_loss: 4.7678 - val_accuracy: 0.4273\n",
            "Epoch 26/50\n",
            "531/531 [==============================] - 19s 35ms/step - loss: 0.0448 - accuracy: 0.9862 - val_loss: 4.8828 - val_accuracy: 0.4335\n",
            "Epoch 27/50\n",
            "531/531 [==============================] - 18s 35ms/step - loss: 0.0313 - accuracy: 0.9916 - val_loss: 4.7842 - val_accuracy: 0.4380\n",
            "Epoch 28/50\n",
            "531/531 [==============================] - 18s 35ms/step - loss: 0.0421 - accuracy: 0.9880 - val_loss: 5.0825 - val_accuracy: 0.4167\n",
            "Epoch 29/50\n",
            "531/531 [==============================] - 18s 35ms/step - loss: 0.0579 - accuracy: 0.9829 - val_loss: 5.0125 - val_accuracy: 0.4323\n",
            "Epoch 30/50\n",
            "531/531 [==============================] - 19s 35ms/step - loss: 0.0411 - accuracy: 0.9870 - val_loss: 5.0451 - val_accuracy: 0.4274\n",
            "Epoch 31/50\n",
            "531/531 [==============================] - 18s 35ms/step - loss: 0.0396 - accuracy: 0.9886 - val_loss: 4.9945 - val_accuracy: 0.4399\n",
            "Epoch 32/50\n",
            "531/531 [==============================] - 18s 34ms/step - loss: 0.0271 - accuracy: 0.9925 - val_loss: 5.0915 - val_accuracy: 0.4311\n",
            "Epoch 33/50\n",
            "531/531 [==============================] - 18s 35ms/step - loss: 0.0380 - accuracy: 0.9888 - val_loss: 5.1789 - val_accuracy: 0.4274\n",
            "Epoch 34/50\n",
            "531/531 [==============================] - 18s 35ms/step - loss: 0.0275 - accuracy: 0.9925 - val_loss: 5.3686 - val_accuracy: 0.4256\n",
            "Epoch 35/50\n",
            "531/531 [==============================] - 18s 35ms/step - loss: 0.0388 - accuracy: 0.9884 - val_loss: 5.5208 - val_accuracy: 0.4257\n",
            "Epoch 36/50\n",
            "531/531 [==============================] - 18s 35ms/step - loss: 0.0468 - accuracy: 0.9862 - val_loss: 5.3552 - val_accuracy: 0.4279\n",
            "Epoch 37/50\n",
            "531/531 [==============================] - 18s 35ms/step - loss: 0.0393 - accuracy: 0.9883 - val_loss: 5.3214 - val_accuracy: 0.4346\n",
            "Epoch 38/50\n",
            "531/531 [==============================] - 18s 35ms/step - loss: 0.0311 - accuracy: 0.9907 - val_loss: 5.4574 - val_accuracy: 0.4335\n",
            "Epoch 39/50\n",
            "531/531 [==============================] - 19s 35ms/step - loss: 0.0185 - accuracy: 0.9954 - val_loss: 5.3559 - val_accuracy: 0.4373\n",
            "Epoch 40/50\n",
            "531/531 [==============================] - 19s 35ms/step - loss: 0.0345 - accuracy: 0.9892 - val_loss: 5.7441 - val_accuracy: 0.4308\n",
            "Epoch 41/50\n",
            "531/531 [==============================] - 19s 35ms/step - loss: 0.0611 - accuracy: 0.9816 - val_loss: 5.5626 - val_accuracy: 0.4328\n",
            "Epoch 42/50\n",
            "531/531 [==============================] - 18s 35ms/step - loss: 0.0302 - accuracy: 0.9909 - val_loss: 5.5098 - val_accuracy: 0.4355\n",
            "Epoch 43/50\n",
            "531/531 [==============================] - 18s 35ms/step - loss: 0.0224 - accuracy: 0.9931 - val_loss: 5.6293 - val_accuracy: 0.4437\n",
            "Epoch 44/50\n",
            "531/531 [==============================] - 19s 35ms/step - loss: 0.0244 - accuracy: 0.9935 - val_loss: 5.6293 - val_accuracy: 0.4299\n",
            "Epoch 45/50\n",
            "531/531 [==============================] - 18s 35ms/step - loss: 0.0331 - accuracy: 0.9909 - val_loss: 5.7427 - val_accuracy: 0.4286\n",
            "Epoch 46/50\n",
            "531/531 [==============================] - 18s 35ms/step - loss: 0.0314 - accuracy: 0.9910 - val_loss: 5.6911 - val_accuracy: 0.4256\n",
            "Epoch 47/50\n",
            "531/531 [==============================] - 18s 35ms/step - loss: 0.0356 - accuracy: 0.9893 - val_loss: 5.8676 - val_accuracy: 0.4318\n",
            "Epoch 48/50\n",
            "531/531 [==============================] - 18s 35ms/step - loss: 0.0248 - accuracy: 0.9925 - val_loss: 5.8601 - val_accuracy: 0.4345\n",
            "Epoch 49/50\n",
            "531/531 [==============================] - 18s 35ms/step - loss: 0.0233 - accuracy: 0.9934 - val_loss: 5.8790 - val_accuracy: 0.4348\n",
            "Epoch 50/50\n",
            "531/531 [==============================] - 18s 35ms/step - loss: 0.0340 - accuracy: 0.9903 - val_loss: 5.9695 - val_accuracy: 0.4264\n"
          ],
          "name": "stdout"
        }
      ]
    },
    {
      "cell_type": "code",
      "metadata": {
        "colab_type": "code",
        "id": "Qmyw-txxnzrd",
        "colab": {
          "base_uri": "https://localhost:8080/",
          "height": 390
        },
        "outputId": "c8648da1-8aec-439c-9c28-e2301180f56a"
      },
      "source": [
        "summarize_diagnostics(CNN2_MODEL_ADAM_history)"
      ],
      "execution_count": 140,
      "outputs": [
        {
          "output_type": "display_data",
          "data": {
            "image/png": "[encoded data removed]",
            "text/plain": [
              "<Figure size 720x432 with 1 Axes>"
            ]
          },
          "metadata": {
            "tags": [],
            "needs_background": "light"
          }
        }
      ]
    },
    {
      "cell_type": "markdown",
      "metadata": {
        "id": "Z02kOBxRC22_",
        "colab_type": "text"
      },
      "source": [
        "Το δεύτερο μοντέλο μας έχει `Adagrad` optimizer με `lr=0.01`. Διατηρούμε σταθερή τη διάρκεια εκπαίδευσης στις 50 `epochs`."
      ]
    },
    {
      "cell_type": "code",
      "metadata": {
        "id": "NYKY-8km4Son",
        "colab_type": "code",
        "colab": {}
      },
      "source": [
        "def init_CNN2_adagrad(summary):\n",
        "  \n",
        "  model = models.Sequential()\n",
        "  \n",
        "  model.add(layers.Conv2D(128, (3, 3), activation='elu', padding='same', input_shape=(32, 32, 3)))\n",
        "  model.add(layers.Conv2D(128, (3, 3), activation='elu'))\n",
        "  model.add(layers.MaxPooling2D((2, 2)))\n",
        "  model.add(layers.Conv2D(256, (3, 3), activation='elu', padding='same'))\n",
        "  model.add(layers.Conv2D(256, (3, 3), activation='elu'))\n",
        "  model.add(layers.MaxPooling2D((2, 2)))\n",
        "  model.add(layers.Conv2D(512, (3, 3), activation='elu', padding='same'))\n",
        "  model.add(layers.Conv2D(512, (3, 3), activation='elu'))\n",
        "  model.add(layers.MaxPooling2D((2, 2)))\n",
        " \n",
        "  model.add(layers.Flatten())\n",
        "  model.add(layers.Dense(1024, activation='elu'))\n",
        "  model.add(layers.Dense(100, activation='softmax'))\n",
        "  \n",
        "  model.compile(optimizer=tf.optimizers.Adagrad(lr=0.01), loss=tf.keras.losses.sparse_categorical_crossentropy, metrics=[\"accuracy\"])\n",
        "  \n",
        "  if summary: \n",
        "    model.summary()\n",
        "  return model"
      ],
      "execution_count": 141,
      "outputs": []
    },
    {
      "cell_type": "code",
      "metadata": {
        "colab_type": "code",
        "id": "fL59-6RWSacg",
        "colab": {
          "base_uri": "https://localhost:8080/",
          "height": 1000
        },
        "outputId": "5f7cccfd-5f18-4be5-b12b-5aff39aa98ca"
      },
      "source": [
        "# Initialize model\n",
        "CNN2_MODEL_ADAGRAD = init_CNN2_adagrad(summary=True)\n",
        "\n",
        "# Train for 50 epochs\n",
        "CNN2_MODEL_ADAGRAD_history = train_model(CNN2_MODEL_ADAGRAD, 50)\n",
        "\n",
        "# Dump training history\n",
        "history_dict = CNN2_MODEL_ADAGRAD_history.history\n",
        "json.dump(history_dict, open('CNN2_MODEL_ADAGRAD.json', 'w'))"
      ],
      "execution_count": 142,
      "outputs": [
        {
          "output_type": "stream",
          "text": [
            "Model: \"sequential_40\"\n",
            "_________________________________________________________________\n",
            "Layer (type)                 Output Shape              Param #   \n",
            "=================================================================\n",
            "conv2d_221 (Conv2D)          (None, 32, 32, 128)       3584      \n",
            "_________________________________________________________________\n",
            "conv2d_222 (Conv2D)          (None, 30, 30, 128)       147584    \n",
            "_________________________________________________________________\n",
            "max_pooling2d_112 (MaxPoolin (None, 15, 15, 128)       0         \n",
            "_________________________________________________________________\n",
            "conv2d_223 (Conv2D)          (None, 15, 15, 256)       295168    \n",
            "_________________________________________________________________\n",
            "conv2d_224 (Conv2D)          (None, 13, 13, 256)       590080    \n",
            "_________________________________________________________________\n",
            "max_pooling2d_113 (MaxPoolin (None, 6, 6, 256)         0         \n",
            "_________________________________________________________________\n",
            "conv2d_225 (Conv2D)          (None, 6, 6, 512)         1180160   \n",
            "_________________________________________________________________\n",
            "conv2d_226 (Conv2D)          (None, 4, 4, 512)         2359808   \n",
            "_________________________________________________________________\n",
            "max_pooling2d_114 (MaxPoolin (None, 2, 2, 512)         0         \n",
            "_________________________________________________________________\n",
            "flatten_36 (Flatten)         (None, 2048)              0         \n",
            "_________________________________________________________________\n",
            "dense_78 (Dense)             (None, 1024)              2098176   \n",
            "_________________________________________________________________\n",
            "dense_79 (Dense)             (None, 100)               102500    \n",
            "=================================================================\n",
            "Total params: 6,777,060\n",
            "Trainable params: 6,777,060\n",
            "Non-trainable params: 0\n",
            "_________________________________________________________________\n",
            "Epoch 1/50\n",
            "531/531 [==============================] - 19s 35ms/step - loss: 3.9198 - accuracy: 0.0928 - val_loss: 3.4966 - val_accuracy: 0.1690\n",
            "Epoch 2/50\n",
            "531/531 [==============================] - 19s 35ms/step - loss: 3.2167 - accuracy: 0.2187 - val_loss: 3.0456 - val_accuracy: 0.2480\n",
            "Epoch 3/50\n",
            "531/531 [==============================] - 18s 35ms/step - loss: 2.8060 - accuracy: 0.3025 - val_loss: 2.8105 - val_accuracy: 0.3061\n",
            "Epoch 4/50\n",
            "531/531 [==============================] - 18s 34ms/step - loss: 2.4632 - accuracy: 0.3721 - val_loss: 2.5944 - val_accuracy: 0.3574\n",
            "Epoch 5/50\n",
            "531/531 [==============================] - 18s 35ms/step - loss: 2.1442 - accuracy: 0.4414 - val_loss: 2.5140 - val_accuracy: 0.3684\n",
            "Epoch 6/50\n",
            "531/531 [==============================] - 18s 35ms/step - loss: 1.8271 - accuracy: 0.5142 - val_loss: 2.3856 - val_accuracy: 0.4130\n",
            "Epoch 7/50\n",
            "531/531 [==============================] - 19s 35ms/step - loss: 1.5069 - accuracy: 0.5877 - val_loss: 2.3561 - val_accuracy: 0.4207\n",
            "Epoch 8/50\n",
            "531/531 [==============================] - 18s 35ms/step - loss: 1.1607 - accuracy: 0.6765 - val_loss: 2.4880 - val_accuracy: 0.4225\n",
            "Epoch 9/50\n",
            "531/531 [==============================] - 19s 35ms/step - loss: 0.7959 - accuracy: 0.7742 - val_loss: 2.6857 - val_accuracy: 0.4212\n",
            "Epoch 10/50\n",
            "531/531 [==============================] - 18s 35ms/step - loss: 0.4540 - accuracy: 0.8724 - val_loss: 2.9404 - val_accuracy: 0.4194\n",
            "Epoch 11/50\n",
            "531/531 [==============================] - 18s 35ms/step - loss: 0.2066 - accuracy: 0.9451 - val_loss: 3.2662 - val_accuracy: 0.4241\n",
            "Epoch 12/50\n",
            "531/531 [==============================] - 18s 35ms/step - loss: 0.0742 - accuracy: 0.9854 - val_loss: 3.5763 - val_accuracy: 0.4299\n",
            "Epoch 13/50\n",
            "531/531 [==============================] - 18s 35ms/step - loss: 0.0258 - accuracy: 0.9969 - val_loss: 3.6849 - val_accuracy: 0.4420\n",
            "Epoch 14/50\n",
            "531/531 [==============================] - 18s 35ms/step - loss: 0.0143 - accuracy: 0.9988 - val_loss: 3.7448 - val_accuracy: 0.4518\n",
            "Epoch 15/50\n",
            "531/531 [==============================] - 18s 35ms/step - loss: 0.0093 - accuracy: 0.9995 - val_loss: 3.8664 - val_accuracy: 0.4486\n",
            "Epoch 16/50\n",
            "531/531 [==============================] - 18s 34ms/step - loss: 0.0082 - accuracy: 0.9995 - val_loss: 3.9336 - val_accuracy: 0.4479\n",
            "Epoch 17/50\n",
            "531/531 [==============================] - 19s 35ms/step - loss: 0.0072 - accuracy: 0.9995 - val_loss: 3.9723 - val_accuracy: 0.4493\n",
            "Epoch 18/50\n",
            "531/531 [==============================] - 18s 35ms/step - loss: 0.0072 - accuracy: 0.9994 - val_loss: 4.0106 - val_accuracy: 0.4461\n",
            "Epoch 19/50\n",
            "531/531 [==============================] - 18s 35ms/step - loss: 0.0077 - accuracy: 0.9995 - val_loss: 4.0418 - val_accuracy: 0.4479\n",
            "Epoch 20/50\n",
            "531/531 [==============================] - 18s 35ms/step - loss: 0.0059 - accuracy: 0.9996 - val_loss: 4.0945 - val_accuracy: 0.4486\n",
            "Epoch 21/50\n",
            "531/531 [==============================] - 18s 35ms/step - loss: 0.0066 - accuracy: 0.9995 - val_loss: 4.0758 - val_accuracy: 0.4472\n",
            "Epoch 22/50\n",
            "531/531 [==============================] - 18s 35ms/step - loss: 0.0057 - accuracy: 0.9994 - val_loss: 4.0975 - val_accuracy: 0.4501\n",
            "Epoch 23/50\n",
            "531/531 [==============================] - 18s 35ms/step - loss: 0.0053 - accuracy: 0.9996 - val_loss: 4.1631 - val_accuracy: 0.4494\n",
            "Epoch 24/50\n",
            "531/531 [==============================] - 18s 35ms/step - loss: 0.0059 - accuracy: 0.9996 - val_loss: 4.2121 - val_accuracy: 0.4447\n",
            "Epoch 25/50\n",
            "531/531 [==============================] - 18s 35ms/step - loss: 0.0065 - accuracy: 0.9994 - val_loss: 4.1453 - val_accuracy: 0.4488\n",
            "Epoch 26/50\n",
            "531/531 [==============================] - 18s 35ms/step - loss: 0.0046 - accuracy: 0.9997 - val_loss: 4.2003 - val_accuracy: 0.4476\n",
            "Epoch 27/50\n",
            "531/531 [==============================] - 18s 35ms/step - loss: 0.0059 - accuracy: 0.9994 - val_loss: 4.1735 - val_accuracy: 0.4486\n",
            "Epoch 28/50\n",
            "531/531 [==============================] - 18s 35ms/step - loss: 0.0048 - accuracy: 0.9996 - val_loss: 4.2250 - val_accuracy: 0.4484\n",
            "Epoch 29/50\n",
            "531/531 [==============================] - 18s 35ms/step - loss: 0.0052 - accuracy: 0.9996 - val_loss: 4.2093 - val_accuracy: 0.4479\n",
            "Epoch 30/50\n",
            "531/531 [==============================] - 18s 35ms/step - loss: 0.0048 - accuracy: 0.9996 - val_loss: 4.1844 - val_accuracy: 0.4484\n",
            "Epoch 31/50\n",
            "531/531 [==============================] - 18s 35ms/step - loss: 0.0052 - accuracy: 0.9995 - val_loss: 4.1984 - val_accuracy: 0.4486\n",
            "Epoch 32/50\n",
            "531/531 [==============================] - 18s 34ms/step - loss: 0.0046 - accuracy: 0.9995 - val_loss: 4.2245 - val_accuracy: 0.4514\n",
            "Epoch 33/50\n",
            "531/531 [==============================] - 18s 35ms/step - loss: 0.0041 - accuracy: 0.9996 - val_loss: 4.2345 - val_accuracy: 0.4476\n",
            "Epoch 34/50\n",
            "531/531 [==============================] - 18s 35ms/step - loss: 0.0048 - accuracy: 0.9995 - val_loss: 4.2109 - val_accuracy: 0.4506\n",
            "Epoch 35/50\n",
            "531/531 [==============================] - 18s 35ms/step - loss: 0.0046 - accuracy: 0.9995 - val_loss: 4.2398 - val_accuracy: 0.4477\n",
            "Epoch 36/50\n",
            "531/531 [==============================] - 18s 35ms/step - loss: 0.0037 - accuracy: 0.9996 - val_loss: 4.2271 - val_accuracy: 0.4488\n",
            "Epoch 37/50\n",
            "531/531 [==============================] - 18s 35ms/step - loss: 0.0046 - accuracy: 0.9995 - val_loss: 4.2508 - val_accuracy: 0.4488\n",
            "Epoch 38/50\n",
            "531/531 [==============================] - 18s 35ms/step - loss: 0.0043 - accuracy: 0.9996 - val_loss: 4.2466 - val_accuracy: 0.4514\n",
            "Epoch 39/50\n",
            "531/531 [==============================] - 18s 35ms/step - loss: 0.0042 - accuracy: 0.9995 - val_loss: 4.2475 - val_accuracy: 0.4493\n",
            "Epoch 40/50\n",
            "531/531 [==============================] - 18s 35ms/step - loss: 0.0035 - accuracy: 0.9996 - val_loss: 4.2726 - val_accuracy: 0.4506\n",
            "Epoch 41/50\n",
            "531/531 [==============================] - 18s 35ms/step - loss: 0.0042 - accuracy: 0.9995 - val_loss: 4.2866 - val_accuracy: 0.4488\n",
            "Epoch 42/50\n",
            "531/531 [==============================] - 18s 35ms/step - loss: 0.0034 - accuracy: 0.9996 - val_loss: 4.2973 - val_accuracy: 0.4481\n",
            "Epoch 43/50\n",
            "531/531 [==============================] - 18s 35ms/step - loss: 0.0043 - accuracy: 0.9994 - val_loss: 4.2612 - val_accuracy: 0.4474\n",
            "Epoch 44/50\n",
            "531/531 [==============================] - 18s 35ms/step - loss: 0.0042 - accuracy: 0.9994 - val_loss: 4.2699 - val_accuracy: 0.4479\n",
            "Epoch 45/50\n",
            "531/531 [==============================] - 18s 35ms/step - loss: 0.0031 - accuracy: 0.9996 - val_loss: 4.2678 - val_accuracy: 0.4523\n",
            "Epoch 46/50\n",
            "531/531 [==============================] - 18s 35ms/step - loss: 0.0033 - accuracy: 0.9996 - val_loss: 4.2830 - val_accuracy: 0.4519\n",
            "Epoch 47/50\n",
            "531/531 [==============================] - 18s 35ms/step - loss: 0.0031 - accuracy: 0.9996 - val_loss: 4.3025 - val_accuracy: 0.4491\n",
            "Epoch 48/50\n",
            "531/531 [==============================] - 18s 35ms/step - loss: 0.0031 - accuracy: 0.9996 - val_loss: 4.3305 - val_accuracy: 0.4499\n",
            "Epoch 49/50\n",
            "531/531 [==============================] - 18s 35ms/step - loss: 0.0032 - accuracy: 0.9996 - val_loss: 4.3107 - val_accuracy: 0.4496\n",
            "Epoch 50/50\n",
            "531/531 [==============================] - 18s 35ms/step - loss: 0.0026 - accuracy: 0.9996 - val_loss: 4.3461 - val_accuracy: 0.4488\n"
          ],
          "name": "stdout"
        }
      ]
    },
    {
      "cell_type": "code",
      "metadata": {
        "colab_type": "code",
        "id": "3swO_hvCSi8R",
        "colab": {
          "base_uri": "https://localhost:8080/",
          "height": 390
        },
        "outputId": "80e30f9f-10cf-4cd0-d5ca-2e73f5204ee6"
      },
      "source": [
        "summarize_diagnostics(CNN2_MODEL_ADAGRAD_history)"
      ],
      "execution_count": 143,
      "outputs": [
        {
          "output_type": "display_data",
          "data": {
            "image/png": "[encoded data removed]",
            "text/plain": [
              "<Figure size 720x432 with 1 Axes>"
            ]
          },
          "metadata": {
            "tags": [],
            "needs_background": "light"
          }
        }
      ]
    },
    {
      "cell_type": "markdown",
      "metadata": {
        "id": "xHV1wb_WCkRr",
        "colab_type": "text"
      },
      "source": [
        "### Αξιολόγηση Μοντέλων"
      ]
    },
    {
      "cell_type": "markdown",
      "metadata": {
        "colab_type": "text",
        "id": "x0SLth49VXHm"
      },
      "source": [
        "---\n",
        "\n",
        "## Ερώτημα 2: Αντιμετώπιση Υπερεκπαίδευσης"
      ]
    },
    {
      "cell_type": "markdown",
      "metadata": {
        "colab_type": "text",
        "id": "OW_qjFQj_SDT"
      },
      "source": [
        "Θα εξετάσουμε τη μέθοδο εμπλουτισμού του συνόλου δεδομέων μας με μετασχηματισμένες εικόνες εισόδου, προκειμένου να βελτιώσουμε τη συνολική απόδοση των δικτύων μας, αλλά και για να αντιμετωπίσουμε το πρόβλημα της υπερ-εκπαίδευσης στα δεδομένα εκπαίδευσης που παρατηρούμε στα παραπάνω διαγράμματα.\n",
        "\n",
        "Για το σκοπό αυτό θα χρησιμοποιήσουμε τον [ImageDataGenerator](https://bit.ly/33B1reJ), από τον οποίο θα επιλέξουμε τους μετασχηματισμούς `rotation_range`, `width_shift_range`, `height_shift_range` και `horizontal_flip`."
      ]
    },
    {
      "cell_type": "code",
      "metadata": {
        "colab_type": "code",
        "id": "dQ5RNqV9Pmvs",
        "colab": {}
      },
      "source": [
        "datagen = ImageDataGenerator(rotation_range=0, width_shift_range=0.1, height_shift_range=0.1, horizontal_flip=True)\n",
        "\n",
        "datagen.fit(x_train)"
      ],
      "execution_count": null,
      "outputs": []
    },
    {
      "cell_type": "markdown",
      "metadata": {
        "colab_type": "text",
        "id": "_svqLOEvALnK"
      },
      "source": [
        "Εξετάζουμε αρχικά το δίκτυο με αλγόριθμο ενεργοποίησης *Adam*:"
      ]
    },
    {
      "cell_type": "code",
      "metadata": {
        "colab_type": "code",
        "id": "zHBAP1jvVNp1",
        "colab": {}
      },
      "source": [
        "ADAM_MODEL_AUG = init_adam_model(summary = True)\n",
        "\n",
        "ADAM_MODEL_AUG.fit(datagen.flow(x_train, y_train, batch_size=64), steps_per_epoch=x_train.shape[0]//64, epochs=100, validation_data=(x_val, y_val))"
      ],
      "execution_count": null,
      "outputs": []
    },
    {
      "cell_type": "markdown",
      "metadata": {
        "id": "L18ogH6CWHkV",
        "colab_type": "text"
      },
      "source": [
        "### Softmax"
      ]
    },
    {
      "cell_type": "markdown",
      "metadata": {
        "id": "Cwvr6pKcWMQv",
        "colab_type": "text"
      },
      "source": [
        "### MLP"
      ]
    },
    {
      "cell_type": "markdown",
      "metadata": {
        "id": "oHHFvtJMWQeD",
        "colab_type": "text"
      },
      "source": [
        "### LeNet"
      ]
    },
    {
      "cell_type": "markdown",
      "metadata": {
        "id": "zR5c8TZSWS0u",
        "colab_type": "text"
      },
      "source": [
        "### CNN1"
      ]
    },
    {
      "cell_type": "markdown",
      "metadata": {
        "id": "Ovv2gu5VWUfR",
        "colab_type": "text"
      },
      "source": [
        "### CNN2"
      ]
    },
    {
      "cell_type": "markdown",
      "metadata": {
        "colab_type": "text",
        "id": "12z4zsoVbPWR"
      },
      "source": [
        "---\n",
        "\n",
        "## Ερώτημα 3: Transfer Learning"
      ]
    }
  ]
}