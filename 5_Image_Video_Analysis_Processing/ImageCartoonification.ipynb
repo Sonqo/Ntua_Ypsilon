{
  "nbformat": 4,
  "nbformat_minor": 0,
  "metadata": {
    "colab": {
      "name": "ImageCartoonification.ipynb",
      "provenance": [],
      "collapsed_sections": []
    },
    "kernelspec": {
      "name": "python3",
      "display_name": "Python 3"
    }
  },
  "cells": [
    {
      "cell_type": "markdown",
      "metadata": {
        "id": "B83-fH_MckSx",
        "colab_type": "text"
      },
      "source": [
        "## Στοιχεία Ομάδας"
      ]
    },
    {
      "cell_type": "markdown",
      "metadata": {
        "id": "hbAJIfoJcmb2",
        "colab_type": "text"
      },
      "source": [
        "Αριθμός Ομάδας: F05\n",
        "\n",
        "    > Καρυπιάδης Ευστράτιος: 03114911\n",
        "    > Σταματελόπουλος Νικόλαος: "
      ]
    }
  ]
}