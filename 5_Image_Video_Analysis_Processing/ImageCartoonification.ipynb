{
  "nbformat": 4,
  "nbformat_minor": 0,
  "metadata": {
    "colab": {
      "name": "ImageCartoonification.ipynb",
      "provenance": [],
      "collapsed_sections": [],
      "toc_visible": true
    },
    "kernelspec": {
      "name": "python3",
      "display_name": "Python 3"
    }
  },
  "cells": [
    {
      "cell_type": "markdown",
      "metadata": {
        "id": "B83-fH_MckSx",
        "colab_type": "text"
      },
      "source": [
        "## Στοιχεία Ομάδας"
      ]
    },
    {
      "cell_type": "markdown",
      "metadata": {
        "id": "hbAJIfoJcmb2",
        "colab_type": "text"
      },
      "source": [
        "Αριθμός Ομάδας: F05\n",
        "\n",
        "    > Καρυπιάδης Ευστράτιος: 03114911\n",
        "    > Σταματελόπουλος Νικόλαος: "
      ]
    },
    {
      "cell_type": "code",
      "metadata": {
        "id": "_z-fFlJ7ZoAF",
        "colab_type": "code",
        "colab": {}
      },
      "source": [
        "import os\n",
        "import numpy as np\n",
        "from skimage import io\n",
        "from skimage.transform import resize\n",
        "from matplotlib import pyplot as plt\n",
        "\n",
        "# Reading image files\n",
        "filename = os.path.join('/content', '1.jpg')\n",
        "face_image1 = skimage.io.imread(filename)\n",
        "\n",
        "filename = os.path.join('/content', '2.jpg')\n",
        "face_image2 = skimage.io.imread(filename)\n",
        "\n",
        "# Rescaling to desired dimensions\n",
        "face_image1 = resize(face_image1, (512, 288), anti_aliasing=True)\n",
        "face_image2 = resize(face_image2, (512, 288), anti_aliasing=True)\n",
        "\n",
        "# Concatinating horizontally to one image\n",
        "final_image = np.concatenate((face_image1, face_image2), axis=1)"
      ],
      "execution_count": 0,
      "outputs": []
    },
    {
      "cell_type": "code",
      "metadata": {
        "id": "pHypRhH1g2ck",
        "colab_type": "code",
        "colab": {}
      },
      "source": [
        "from skimage.util import random_noise\n",
        "\n",
        "def snpAmount(digit):\n",
        "  return 1/90*digit + 0.3 \n",
        "\n",
        "# Adding noise\n",
        "gaussian_image = random_noise(final_image, mode='gaussian', seed=42)\n",
        "saltpepper_image = random_noise(final_image, mode='s&p', seed=42, amount=snpAmount(5))"
      ],
      "execution_count": 0,
      "outputs": []
    }
  ]
}